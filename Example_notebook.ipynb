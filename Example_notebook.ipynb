{
 "cells": [
  {
   "cell_type": "code",
   "execution_count": null,
   "id": "be33d172-f531-437e-8ecc-82ad363c5a05",
   "metadata": {},
   "outputs": [],
   "source": [
    "%load_ext autoreload\n",
    "%autoreload 2\n",
    "%load_ext blackcellmagic"
   ]
  },
  {
   "cell_type": "code",
   "execution_count": null,
   "id": "99f3860c-e5f3-4255-875f-45e721e2dd0c",
   "metadata": {
    "tags": []
   },
   "outputs": [],
   "source": [
    "from visualize_pyphi import *\n",
    "import pickle as pkl\n",
    "from tqdm.auto import tqdm\n"
   ]
  },
  {
   "cell_type": "code",
   "execution_count": null,
   "id": "ef8970d1-c9f6-4dc6-910d-817e900c2098",
   "metadata": {},
   "outputs": [],
   "source": [
    "with open(r\"example_data/ch3_subsystem.pkl\", \"rb\") as f:\n",
    "    subsystem = pkl.load(f)"
   ]
  },
  {
   "cell_type": "code",
   "execution_count": null,
   "id": "8da3c7c7-3014-4e19-b0ad-e0c2f623a983",
   "metadata": {
    "tags": []
   },
   "outputs": [],
   "source": [
    "# get a compositional state from a system_state\n",
    "compositional_state = compute.compositional_state_from_system_state(subsystem.state)\n",
    "compositional_state"
   ]
  },
  {
   "cell_type": "code",
   "execution_count": null,
   "id": "eff7a63d-0453-40d2-8d24-c7e3682204bb",
   "metadata": {},
   "outputs": [],
   "source": [
    "# we can now filter a ces based on the compositional state\n",
    "ces = compute.unfold_separated_ces(subsystem)\n",
    "filtered_ces = compute.filter_ces_by_compositional_state(ces, compositional_state)\n",
    "print('original CES had {} distinctions'.format(len(ces)))\n",
    "print('filtered CES has {} distinctions'.format(len(filtered_ces)))"
   ]
  },
  {
   "cell_type": "code",
   "execution_count": null,
   "id": "1620d78b-a3a2-495c-9910-aca8d059f0d7",
   "metadata": {},
   "outputs": [],
   "source": [
    "# we can also find the compositional state based on the original CES\n",
    "all_compositional_states = compute.get_all_compositional_states(ces)\n",
    "print('there are {} possible compositional states'.format(len(all_compositional_states)))"
   ]
  },
  {
   "cell_type": "code",
   "execution_count": null,
   "id": "e854ab75-df82-4049-ae60-292b911a17b3",
   "metadata": {},
   "outputs": [],
   "source": [
    "# and we can filter the CES based on one of these compositional states\n",
    "filtered_ces = compute.filter_ces_by_compositional_state(ces, all_compositional_states[0])\n",
    "print('original CES had {} distinctions'.format(len(ces)))\n",
    "print('filtered CES has {} distinctions'.format(len(filtered_ces)))"
   ]
  },
  {
   "cell_type": "code",
   "execution_count": null,
   "id": "e59e41c6-5a44-44a2-99d2-9cd7ea1a45fa",
   "metadata": {},
   "outputs": [],
   "source": [
    "# we can also get the relations and filtered CES using a specific compositional states\n",
    "(\n",
    "    filtered_ces,\n",
    "    filtered_relations,\n",
    "    compositional_state,\n",
    ") = compute.compute_rels_and_ces_for_compositional_state(\n",
    "    subsystem, all_compositional_states[-1], ces\n",
    ")\n",
    "print(\"original CES had {} distinctions\".format(len(ces)))\n",
    "print(\"filtered CES has {} distinctions\".format(len(filtered_ces)))"
   ]
  },
  {
   "cell_type": "code",
   "execution_count": null,
   "id": "87fe1c6b-6af4-45e4-9dda-792351219090",
   "metadata": {
    "tags": []
   },
   "outputs": [],
   "source": [
    "# if we want to be fancy, we can also pick the compositional state that maximizies (a proxy for) Big Phi\n",
    "max_ces = compute.get_maximal_ces(subsystem, ces=None, max_k=3)\n",
    "max_ces['compositional_state']"
   ]
  },
  {
   "cell_type": "code",
   "execution_count": null,
   "id": "dd96c269-d3df-44e1-b368-bebc1b2c5565",
   "metadata": {},
   "outputs": [],
   "source": [
    "# to avoid explosions we can also approximate the ces by picking the compositional state that maximizes small phi \n",
    "(\n",
    "    filtered_ces,\n",
    "    filtered_relations,\n",
    "    compositional_state,\n",
    ") = compute.compute_rels_and_ces_for_compositional_state(\n",
    "    subsystem, all_compositional_states[-1], ces\n",
    ")"
   ]
  },
  {
   "cell_type": "code",
   "execution_count": null,
   "id": "34903baf-1578-40e2-899e-9533bf63101f",
   "metadata": {
    "tags": []
   },
   "outputs": [],
   "source": [
    "# and now we can plot the CES\n",
    "fig = viz.plot_ces(subsystem,max_ces['ces'],max_ces['relations'],network_name='figures/max_ces',surface_opacity=0.7,)"
   ]
  },
  {
   "cell_type": "code",
   "execution_count": null,
   "id": "e89aeae8-a743-4c12-846f-9346f9da2180",
   "metadata": {},
   "outputs": [],
   "source": [
    "units = [2,3]\n",
    "fig = plots.compound_distinction(\n",
    "    subsystem,\n",
    "    max_ces['ces'],\n",
    "    units,\n",
    "    f'figures/compound_{units}',\n",
    "    relations=max_ces['relations'],\n",
    ")"
   ]
  },
  {
   "cell_type": "code",
   "execution_count": null,
   "id": "dd4e9097-5068-4f5a-a9d9-7412e3ea0d19",
   "metadata": {},
   "outputs": [],
   "source": [
    "untouched_c, untouched_r = compute.get_untouced_ces_and_rels(max_ces['ces'],max_ces['relations'],max_ces['MIP'],)\n"
   ]
  },
  {
   "cell_type": "code",
   "execution_count": null,
   "id": "d96bff5c-59da-4dba-944b-dfba79711710",
   "metadata": {},
   "outputs": [],
   "source": [
    "killed_d = pyphi.models.subsystem.CauseEffectStructure([mice for mice in max_ces['ces'] if mice not in untouched_c])\n",
    "killed_r = [r for r in max_ces['relations'] if r not in untouched_r]"
   ]
  },
  {
   "cell_type": "code",
   "execution_count": null,
   "id": "2a438478-af82-4599-9d8c-fb9bb98a8643",
   "metadata": {
    "tags": []
   },
   "outputs": [],
   "source": [
    "\n",
    "cess = [max_ces['ces'], untouched_c]\n",
    "relations = [max_ces['relations'], untouched_r]\n",
    "nonstandard_kwargs = [\n",
    "    dict(\n",
    "        network_name='figures/partitioned',\n",
    "        surface_colorscale='Greys',\n",
    "        surface_opacity=0.1,\n",
    "        show_labels=False,\n",
    "        show_links=False,\n",
    "        show_edges=False\n",
    "    ),\n",
    "    dict(\n",
    "        network_name='figures/partitioned',\n",
    "        surface_colorscale='plasma',\n",
    "        surface_opacity=1.0,\n",
    "        show_chains=False,\n",
    "        show_mechanism_base=False,\n",
    "    ),\n",
    "]\n",
    "\n",
    "fig = plots.overlaid_ces_plot(subsystem, cess, relations, nonstandard_kwargs)"
   ]
  },
  {
   "cell_type": "code",
   "execution_count": null,
   "id": "c2698027-9b77-40b7-82f8-80b4afd2881c",
   "metadata": {},
   "outputs": [],
   "source": [
    "fig = plots.plot_effect_of_MIP(\n",
    "    subsystem,\n",
    "    max_ces['ces'],\n",
    "    max_ces['relations'],\n",
    "    'figures/MIP',\n",
    "    partitions=None,\n",
    "    common_kwargs=dict(),\n",
    "    uncommon_kwargs=[dict(), dict()],\n",
    ")"
   ]
  },
  {
   "cell_type": "code",
   "execution_count": null,
   "id": "73b67d09-fd35-4969-ba8a-f591e272af72",
   "metadata": {},
   "outputs": [],
   "source": [
    "system = subsystem\n",
    "ces = max_ces[\"ces\"]\n",
    "relations = max_ces[\"relations\"]\n",
    "figure_name = \"figures/component\"\n",
    "\n",
    "# Make a list of True and False showing which mices are included in your component \n",
    "# here we just make a list which is true for any mice that has some units in their mechanism or purview\n",
    "units = (0,1)\n",
    "component_distinctions = [\n",
    "    True\n",
    "    if (\n",
    "        all([unit in mice.mechanism for unit in units])\n",
    "        or all([unit in mice.purview for unit in units])\n",
    "    )\n",
    "    else False\n",
    "    for mice in ces\n",
    "]\n",
    "\n",
    "fig = plots.plot_component(\n",
    "    system,\n",
    "    ces,\n",
    "    component_distinctions,\n",
    "    figure_name,\n",
    "    relations=relations,\n",
    "    uncommon_kwargs=[dict(), dict(), dict(save_plot_to_html=True)],\n",
    ")"
   ]
  },
  {
   "cell_type": "code",
   "execution_count": null,
   "id": "dd170d91-b706-4aa3-b0d7-6a53edeb4064",
   "metadata": {},
   "outputs": [],
   "source": [
    "# compute all components\n",
    "components = {\n",
    "    component_distinction: compute.get_component_phi(ces, relations, component_distinction)\n",
    "    for component_distinction in tqdm(list(pyphi.utils.all_states(len(ces))))\n",
    "}\n",
    "component_phi = {key: value[0] for key, value in components.items()}\n",
    "sorted_components = dict(\n",
    "    sorted(component_phi.items(), key=lambda item: item[1], reverse=True)\n",
    ")\n",
    "\n",
    "for i, component_distinctions in enumerate(sorted_components.keys()):\n",
    "    if i < 5:\n",
    "        plots.plot_component(\n",
    "            system,\n",
    "            ces,\n",
    "            component_distinctions,\n",
    "            f'figures/component_{i}',\n",
    "            relations=relations,\n",
    "            uncommon_kwargs=[dict(), dict(), dict()],\n",
    "        )"
   ]
  },
  {
   "cell_type": "code",
   "execution_count": null,
   "id": "0fb6484c-2673-4008-a146-6bfd22e1eeb8",
   "metadata": {
    "tags": []
   },
   "outputs": [],
   "source": [
    "ces = max_ces['ces']\n",
    "triggered_distinctions = [True, False, False, True, False, True, False, True, \n",
    "                          True, False, False, True, True, False, True, False]\n",
    "\n",
    "fig = plots.plot_perception(subsystem,ces,triggered_distinctions,'figures/perception')"
   ]
  },
  {
   "cell_type": "code",
   "execution_count": null,
   "id": "4d4e6736-d871-4dcf-9a4c-4d0dbb488379",
   "metadata": {},
   "outputs": [],
   "source": []
  },
  {
   "cell_type": "code",
   "execution_count": null,
   "id": "e3884a32-1ca5-49af-8778-e86e697cb9d6",
   "metadata": {},
   "outputs": [],
   "source": []
  },
  {
   "cell_type": "code",
   "execution_count": null,
   "id": "f17916c0-986c-4fb7-b609-1f67293dadc6",
   "metadata": {
    "tags": []
   },
   "outputs": [],
   "source": [
    "import numpy as np\n",
    "\n",
    "net_name = \"ch3\"\n",
    "\n",
    "th = 1 / 4\n",
    "exp = 5\n",
    "mu = 1\n",
    "si = 0.3\n",
    "ll = 1\n",
    "kk = 15\n",
    "x0 = 0.7\n",
    "\n",
    "q = 0.6\n",
    "s = 0.8\n",
    "l = 0.25\n",
    "j = 1 - q\n",
    "i = j - 0.05\n",
    "b = 0.01\n",
    "\n",
    "weights = np.array(\n",
    "    [\n",
    "        [s, l, 0, i, 0, 0],  # A\n",
    "        [l, s, l, j, b, 0],  # B\n",
    "        [0, l, s, i, 0, 0],  # C\n",
    "        [b, b, b, q, 0, i],  # D\n",
    "        [0, i, 0, 0, 0, 0],  # I\n",
    "        [0, 0, 0, 0, 0, 0],  # O\n",
    "        # A, B, C, D, I, O\n",
    "    ]\n",
    ")\n",
    "\n",
    "node_labels = [\"A\", \"B\", \"C\", \"D\", \"I\", \"O\"]\n",
    "mech_func = [f for f in \"sssgll\"]\n",
    "\n",
    "network = ng.get_net(\n",
    "    mech_func,\n",
    "    weights,\n",
    "    exp=exp,\n",
    "    th=th,\n",
    "    mu=mu,\n",
    "    si=si,\n",
    "    l=ll,\n",
    "    k=kk,\n",
    "    x0=x0,\n",
    "    node_labels=node_labels,\n",
    "    network_name=net_name,\n",
    "    pickle_network=True,\n",
    ")\n",
    "\n",
    "state = (0, 1, 0, 1, 1, 1)\n",
    "subsystem = pyphi.Subsystem(network, state, nodes=(0, 1, 2, 3))\n",
    "\n",
    "ces = list(compute.unfold_separated_ces(subsystem))\n",
    "\n",
    "# repairing the broken CES\n",
    "ces[-14] = subsystem.find_mice(\n",
    "    pyphi.direction.Direction.CAUSE, (1, 3), purviews=tuple([(1, 2, 3)])\n",
    ")\n",
    "direction = pyphi.direction.Direction.CAUSE\n",
    "mechanism = (0, 1, 2)\n",
    "purview = (0, 1, 2)\n",
    "partition = list(pyphi.partition.all_partitions((0, 1, 2), (0, 1, 2)))[32]\n",
    "repertoire = subsystem.find_mice(direction, mechanism, tuple([purview])).repertoire\n",
    "phi, partitioned_repertoire = subsystem.evaluate_partition(\n",
    "    direction, mechanism, purview, partition\n",
    ")\n",
    "ria = pyphi.models.mechanism.RepertoireIrreducibilityAnalysis(\n",
    "    phi,\n",
    "    direction,\n",
    "    mechanism,\n",
    "    purview,\n",
    "    partition,\n",
    "    repertoire,\n",
    "    partitioned_repertoire,\n",
    "    node_labels=subsystem.node_labels,\n",
    ")\n",
    "ces[20] = pyphi.models.mechanism.MaximallyIrreducibleCauseOrEffect(ria)\n",
    "\n",
    "ces = pyphi.models.CauseEffectStructure(ces)\n",
    "max_ces = compute.get_maximal_ces(subsystem, ces=ces, max_k=3)"
   ]
  },
  {
   "cell_type": "code",
   "execution_count": null,
   "id": "5b153da9-c7b8-4c47-adb5-35ee0497868d",
   "metadata": {},
   "outputs": [],
   "source": []
  },
  {
   "cell_type": "code",
   "execution_count": null,
   "id": "128e1d02-f7bc-45be-b2e2-1bb5e1d0dfae",
   "metadata": {},
   "outputs": [],
   "source": []
  }
 ],
 "metadata": {
  "kernelspec": {
   "display_name": "Python 3 (ipykernel)",
   "language": "python",
   "name": "python3"
  },
  "language_info": {
   "codemirror_mode": {
    "name": "ipython",
    "version": 3
   },
   "file_extension": ".py",
   "mimetype": "text/x-python",
   "name": "python",
   "nbconvert_exporter": "python",
   "pygments_lexer": "ipython3",
   "version": "3.9.7"
  }
 },
 "nbformat": 4,
 "nbformat_minor": 5
}
