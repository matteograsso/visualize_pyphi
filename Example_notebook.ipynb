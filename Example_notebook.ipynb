{
 "cells": [
  {
   "cell_type": "code",
   "execution_count": 1,
   "id": "be33d172-f531-437e-8ecc-82ad363c5a05",
   "metadata": {},
   "outputs": [],
   "source": [
    "%load_ext autoreload\n",
    "%autoreload 2\n",
    "%load_ext blackcellmagic"
   ]
  },
  {
   "cell_type": "code",
   "execution_count": 2,
   "id": "99f3860c-e5f3-4255-875f-45e721e2dd0c",
   "metadata": {
    "tags": []
   },
   "outputs": [
    {
     "name": "stdout",
     "output_type": "stream",
     "text": [
      "\n",
      "Welcome to PyPhi!\n",
      "\n",
      "If you use PyPhi in your research, please cite the paper:\n",
      "\n",
      "  Mayner WGP, Marshall W, Albantakis L, Findlay G, Marchman R, Tononi G.\n",
      "  (2018). PyPhi: A toolbox for integrated information theory.\n",
      "  PLOS Computational Biology 14(7): e1006343.\n",
      "  https://doi.org/10.1371/journal.pcbi.1006343\n",
      "\n",
      "Documentation is available online (or with the built-in `help()` function):\n",
      "  https://pyphi.readthedocs.io\n",
      "\n",
      "To report issues, please use the issue tracker on the GitHub repository:\n",
      "  https://github.com/wmayner/pyphi\n",
      "\n",
      "For general discussion, you are welcome to join the pyphi-users group:\n",
      "  https://groups.google.com/forum/#!forum/pyphi-users\n",
      "\n",
      "To suppress this message, either:\n",
      "  - Set `WELCOME_OFF: true` in your `pyphi_config.yml` file, or\n",
      "  - Set the environment variable PYPHI_WELCOME_OFF to any value in your shell:\n",
      "        export PYPHI_WELCOME_OFF='yes'\n",
      "\n"
     ]
    }
   ],
   "source": [
    "from visualize_pyphi import *\n",
    "import pickle as pkl\n",
    "from tqdm.auto import tqdm\n"
   ]
  },
  {
   "cell_type": "code",
   "execution_count": 3,
   "id": "ef8970d1-c9f6-4dc6-910d-817e900c2098",
   "metadata": {},
   "outputs": [],
   "source": [
    "with open(r\"example_data/ch3_subsystem.pkl\", \"rb\") as f:\n",
    "    subsystem = pkl.load(f)"
   ]
  },
  {
   "cell_type": "code",
   "execution_count": 4,
   "id": "8da3c7c7-3014-4e19-b0ad-e0c2f623a983",
   "metadata": {
    "collapsed": true,
    "jupyter": {
     "outputs_hidden": true
    },
    "tags": []
   },
   "outputs": [
    {
     "data": {
      "text/plain": [
       "{<Direction.CAUSE: 0>: {(0,): (0,),\n",
       "  (1,): (1,),\n",
       "  (2,): (0,),\n",
       "  (3,): (1,),\n",
       "  (4,): (1,),\n",
       "  (5,): (1,),\n",
       "  (0, 1): (0, 1),\n",
       "  (0, 2): (0, 0),\n",
       "  (0, 3): (0, 1),\n",
       "  (0, 4): (0, 1),\n",
       "  (0, 5): (0, 1),\n",
       "  (1, 2): (1, 0),\n",
       "  (1, 3): (1, 1),\n",
       "  (1, 4): (1, 1),\n",
       "  (1, 5): (1, 1),\n",
       "  (2, 3): (0, 1),\n",
       "  (2, 4): (0, 1),\n",
       "  (2, 5): (0, 1),\n",
       "  (3, 4): (1, 1),\n",
       "  (3, 5): (1, 1),\n",
       "  (4, 5): (1, 1),\n",
       "  (0, 1, 2): (0, 1, 0),\n",
       "  (0, 1, 3): (0, 1, 1),\n",
       "  (0, 1, 4): (0, 1, 1),\n",
       "  (0, 1, 5): (0, 1, 1),\n",
       "  (0, 2, 3): (0, 0, 1),\n",
       "  (0, 2, 4): (0, 0, 1),\n",
       "  (0, 2, 5): (0, 0, 1),\n",
       "  (0, 3, 4): (0, 1, 1),\n",
       "  (0, 3, 5): (0, 1, 1),\n",
       "  (0, 4, 5): (0, 1, 1),\n",
       "  (1, 2, 3): (1, 0, 1),\n",
       "  (1, 2, 4): (1, 0, 1),\n",
       "  (1, 2, 5): (1, 0, 1),\n",
       "  (1, 3, 4): (1, 1, 1),\n",
       "  (1, 3, 5): (1, 1, 1),\n",
       "  (1, 4, 5): (1, 1, 1),\n",
       "  (2, 3, 4): (0, 1, 1),\n",
       "  (2, 3, 5): (0, 1, 1),\n",
       "  (2, 4, 5): (0, 1, 1),\n",
       "  (3, 4, 5): (1, 1, 1),\n",
       "  (0, 1, 2, 3): (0, 1, 0, 1),\n",
       "  (0, 1, 2, 4): (0, 1, 0, 1),\n",
       "  (0, 1, 2, 5): (0, 1, 0, 1),\n",
       "  (0, 1, 3, 4): (0, 1, 1, 1),\n",
       "  (0, 1, 3, 5): (0, 1, 1, 1),\n",
       "  (0, 1, 4, 5): (0, 1, 1, 1),\n",
       "  (0, 2, 3, 4): (0, 0, 1, 1),\n",
       "  (0, 2, 3, 5): (0, 0, 1, 1),\n",
       "  (0, 2, 4, 5): (0, 0, 1, 1),\n",
       "  (0, 3, 4, 5): (0, 1, 1, 1),\n",
       "  (1, 2, 3, 4): (1, 0, 1, 1),\n",
       "  (1, 2, 3, 5): (1, 0, 1, 1),\n",
       "  (1, 2, 4, 5): (1, 0, 1, 1),\n",
       "  (1, 3, 4, 5): (1, 1, 1, 1),\n",
       "  (2, 3, 4, 5): (0, 1, 1, 1),\n",
       "  (0, 1, 2, 3, 4): (0, 1, 0, 1, 1),\n",
       "  (0, 1, 2, 3, 5): (0, 1, 0, 1, 1),\n",
       "  (0, 1, 2, 4, 5): (0, 1, 0, 1, 1),\n",
       "  (0, 1, 3, 4, 5): (0, 1, 1, 1, 1),\n",
       "  (0, 2, 3, 4, 5): (0, 0, 1, 1, 1),\n",
       "  (1, 2, 3, 4, 5): (1, 0, 1, 1, 1),\n",
       "  (0, 1, 2, 3, 4, 5): (0, 1, 0, 1, 1, 1)},\n",
       " <Direction.EFFECT: 1>: {(0,): (0,),\n",
       "  (1,): (1,),\n",
       "  (2,): (0,),\n",
       "  (3,): (1,),\n",
       "  (4,): (1,),\n",
       "  (5,): (1,),\n",
       "  (0, 1): (0, 1),\n",
       "  (0, 2): (0, 0),\n",
       "  (0, 3): (0, 1),\n",
       "  (0, 4): (0, 1),\n",
       "  (0, 5): (0, 1),\n",
       "  (1, 2): (1, 0),\n",
       "  (1, 3): (1, 1),\n",
       "  (1, 4): (1, 1),\n",
       "  (1, 5): (1, 1),\n",
       "  (2, 3): (0, 1),\n",
       "  (2, 4): (0, 1),\n",
       "  (2, 5): (0, 1),\n",
       "  (3, 4): (1, 1),\n",
       "  (3, 5): (1, 1),\n",
       "  (4, 5): (1, 1),\n",
       "  (0, 1, 2): (0, 1, 0),\n",
       "  (0, 1, 3): (0, 1, 1),\n",
       "  (0, 1, 4): (0, 1, 1),\n",
       "  (0, 1, 5): (0, 1, 1),\n",
       "  (0, 2, 3): (0, 0, 1),\n",
       "  (0, 2, 4): (0, 0, 1),\n",
       "  (0, 2, 5): (0, 0, 1),\n",
       "  (0, 3, 4): (0, 1, 1),\n",
       "  (0, 3, 5): (0, 1, 1),\n",
       "  (0, 4, 5): (0, 1, 1),\n",
       "  (1, 2, 3): (1, 0, 1),\n",
       "  (1, 2, 4): (1, 0, 1),\n",
       "  (1, 2, 5): (1, 0, 1),\n",
       "  (1, 3, 4): (1, 1, 1),\n",
       "  (1, 3, 5): (1, 1, 1),\n",
       "  (1, 4, 5): (1, 1, 1),\n",
       "  (2, 3, 4): (0, 1, 1),\n",
       "  (2, 3, 5): (0, 1, 1),\n",
       "  (2, 4, 5): (0, 1, 1),\n",
       "  (3, 4, 5): (1, 1, 1),\n",
       "  (0, 1, 2, 3): (0, 1, 0, 1),\n",
       "  (0, 1, 2, 4): (0, 1, 0, 1),\n",
       "  (0, 1, 2, 5): (0, 1, 0, 1),\n",
       "  (0, 1, 3, 4): (0, 1, 1, 1),\n",
       "  (0, 1, 3, 5): (0, 1, 1, 1),\n",
       "  (0, 1, 4, 5): (0, 1, 1, 1),\n",
       "  (0, 2, 3, 4): (0, 0, 1, 1),\n",
       "  (0, 2, 3, 5): (0, 0, 1, 1),\n",
       "  (0, 2, 4, 5): (0, 0, 1, 1),\n",
       "  (0, 3, 4, 5): (0, 1, 1, 1),\n",
       "  (1, 2, 3, 4): (1, 0, 1, 1),\n",
       "  (1, 2, 3, 5): (1, 0, 1, 1),\n",
       "  (1, 2, 4, 5): (1, 0, 1, 1),\n",
       "  (1, 3, 4, 5): (1, 1, 1, 1),\n",
       "  (2, 3, 4, 5): (0, 1, 1, 1),\n",
       "  (0, 1, 2, 3, 4): (0, 1, 0, 1, 1),\n",
       "  (0, 1, 2, 3, 5): (0, 1, 0, 1, 1),\n",
       "  (0, 1, 2, 4, 5): (0, 1, 0, 1, 1),\n",
       "  (0, 1, 3, 4, 5): (0, 1, 1, 1, 1),\n",
       "  (0, 2, 3, 4, 5): (0, 0, 1, 1, 1),\n",
       "  (1, 2, 3, 4, 5): (1, 0, 1, 1, 1),\n",
       "  (0, 1, 2, 3, 4, 5): (0, 1, 0, 1, 1, 1)}}"
      ]
     },
     "execution_count": 4,
     "metadata": {},
     "output_type": "execute_result"
    }
   ],
   "source": [
    "# get a compositional state from a system_state\n",
    "compositional_state = compute.compositional_state_from_system_state(subsystem.state)\n",
    "compositional_state"
   ]
  },
  {
   "cell_type": "code",
   "execution_count": 8,
   "id": "eff7a63d-0453-40d2-8d24-c7e3682204bb",
   "metadata": {},
   "outputs": [
    {
     "name": "stdout",
     "output_type": "stream",
     "text": [
      "original CES had 30 distinctions\n",
      "filtered CES has 4 distinctions\n"
     ]
    }
   ],
   "source": [
    "# we can now filter a ces based on the compositional state\n",
    "ces = compute.unfold_separated_ces(subsystem)\n",
    "filtered_ces = compute.filter_ces_by_compositional_state(ces, compositional_state)\n",
    "print('original CES had {} distinctions'.format(len(ces)))\n",
    "print('filtered CES has {} distinctions'.format(len(filtered_ces)))"
   ]
  },
  {
   "cell_type": "code",
   "execution_count": 48,
   "id": "1620d78b-a3a2-495c-9910-aca8d059f0d7",
   "metadata": {},
   "outputs": [
    {
     "name": "stdout",
     "output_type": "stream",
     "text": [
      "there are 64 possible compositional states\n"
     ]
    }
   ],
   "source": [
    "# we can also find the compositional state based on the original CES\n",
    "all_compositional_states = compute.get_all_compositional_states(ces)\n",
    "print('there are {} possible compositional states'.format(len(all_compositional_states)))"
   ]
  },
  {
   "cell_type": "code",
   "execution_count": 62,
   "id": "e854ab75-df82-4049-ae60-292b911a17b3",
   "metadata": {},
   "outputs": [
    {
     "name": "stdout",
     "output_type": "stream",
     "text": [
      "original CES had 30 distinctions\n",
      "filtered CES has 10 distinctions\n"
     ]
    }
   ],
   "source": [
    "# and we can filter the CES based on one of these compositional states\n",
    "filtered_ces = compute.filter_ces_by_compositional_state(ces, all_compositional_states[0])\n",
    "print('original CES had {} distinctions'.format(len(ces)))\n",
    "print('filtered CES has {} distinctions'.format(len(filtered_ces)))"
   ]
  },
  {
   "cell_type": "code",
   "execution_count": 63,
   "id": "e59e41c6-5a44-44a2-99d2-9cd7ea1a45fa",
   "metadata": {},
   "outputs": [
    {
     "name": "stdout",
     "output_type": "stream",
     "text": [
      "original CES had 30 distinctions\n",
      "filtered CES has 12 distinctions\n"
     ]
    }
   ],
   "source": [
    "# we can also get the relations and filtered CES using a specific compositional states\n",
    "(\n",
    "    filtered_ces,\n",
    "    filtered_relations,\n",
    "    compositional_state,\n",
    ") = compute.compute_rels_and_ces_for_compositional_state(\n",
    "    subsystem, all_compositional_states[-1], ces\n",
    ")\n",
    "print(\"original CES had {} distinctions\".format(len(ces)))\n",
    "print(\"filtered CES has {} distinctions\".format(len(filtered_ces)))"
   ]
  },
  {
   "cell_type": "code",
   "execution_count": 13,
   "id": "87fe1c6b-6af4-45e4-9dda-792351219090",
   "metadata": {
    "collapsed": true,
    "jupyter": {
     "outputs_hidden": true
    },
    "tags": []
   },
   "outputs": [
    {
     "name": "stdout",
     "output_type": "stream",
     "text": [
      "unfolding CES\n"
     ]
    },
    {
     "data": {
      "application/vnd.jupyter.widget-view+json": {
       "model_id": "851726091d8d49b291aaf17815b88618",
       "version_major": 2,
       "version_minor": 0
      },
      "text/plain": [
       "Computing Big Phi for all compositional states:   0%|          | 0/64 [00:00<?, ?it/s]"
      ]
     },
     "metadata": {},
     "output_type": "display_data"
    },
    {
     "data": {
      "text/plain": [
       "{<Direction.CAUSE: 0>: {(0,): (0,),\n",
       "  (1,): (0,),\n",
       "  (2,): (0,),\n",
       "  (0, 1, 2): (0, 0, 0),\n",
       "  (0, 1): (0, 1),\n",
       "  (1, 2): (1, 0)},\n",
       " <Direction.EFFECT: 1>: {(0,): (0,),\n",
       "  (1, 3): (1, 1),\n",
       "  (2,): (0,),\n",
       "  (3,): (1,),\n",
       "  (0, 1, 3): (0, 1, 0),\n",
       "  (1,): (0,),\n",
       "  (1, 2, 3): (1, 0, 0),\n",
       "  (0, 2): (0, 0),\n",
       "  (0, 3): (0, 0),\n",
       "  (2, 3): (0, 0)}}"
      ]
     },
     "execution_count": 13,
     "metadata": {},
     "output_type": "execute_result"
    }
   ],
   "source": [
    "# if we want to be fancy, we can also pick the compositional state that maximizies (a proxy for) Big Phi\n",
    "max_ces = compute.get_maximal_ces(subsystem, ces=None, max_k=3)\n",
    "max_ces['compositional_state']"
   ]
  },
  {
   "cell_type": "code",
   "execution_count": 14,
   "id": "6426752e-f719-4e78-ba7f-4ef3e29874ef",
   "metadata": {
    "collapsed": true,
    "jupyter": {
     "outputs_hidden": true
    },
    "tags": []
   },
   "outputs": [
    {
     "data": {
      "text/plain": [
       "{'ces': ════════════════════════════════\n",
       " Cause-effect structure (12 concepts)\n",
       " ════════════════════════════════\n",
       "   Maximally-irreducible cause  \n",
       "     φ = 0.486034  \n",
       "     Mechanism: [A]  \n",
       "     Purview = [A]  \n",
       "     State = None  \n",
       "     Direction: CAUSE  \n",
       "   Maximally-irreducible effect  \n",
       "     φ = 0.62734  \n",
       "     Mechanism: [A]  \n",
       "     Purview = [A]  \n",
       "     State = None  \n",
       "     Direction: EFFECT  \n",
       "   Maximally-irreducible cause  \n",
       "     φ = 0.486034  \n",
       "     Mechanism: [C]  \n",
       "     Purview = [C]  \n",
       "     State = None  \n",
       "     Direction: CAUSE  \n",
       "   Maximally-irreducible effect  \n",
       "     φ = 0.62734  \n",
       "     Mechanism: [C]  \n",
       "     Purview = [C]  \n",
       "     State = None  \n",
       "     Direction: EFFECT  \n",
       "   Maximally-irreducible cause  \n",
       "     φ = 0.076816  \n",
       "     Mechanism: [A, C]  \n",
       "     Purview = [B]  \n",
       "     State = None  \n",
       "     Direction: CAUSE  \n",
       "   Maximally-irreducible effect  \n",
       "     φ = 0.091164  \n",
       "     Mechanism: [A, C]  \n",
       "     Purview = [B]  \n",
       "     State = None  \n",
       "     Direction: EFFECT  \n",
       "   Maximally-irreducible cause  \n",
       "     φ = 0.077774  \n",
       "     Mechanism: [A, B, C]  \n",
       "     Purview = [A, B, C]  \n",
       "     State = None  \n",
       "     Direction: CAUSE  \n",
       "   Maximally-irreducible effect  \n",
       "     φ = 0.954088  \n",
       "     Mechanism: [A, B, C]  \n",
       "     Purview = [D]  \n",
       "     State = None  \n",
       "     Direction: EFFECT  \n",
       "   Maximally-irreducible cause  \n",
       "     φ = 0.06133  \n",
       "     Mechanism: [A, B, D]  \n",
       "     Purview = [A, B]  \n",
       "     State = None  \n",
       "     Direction: CAUSE  \n",
       "   Maximally-irreducible effect  \n",
       "     φ = 0.006167  \n",
       "     Mechanism: [A, B, D]  \n",
       "     Purview = [A, D]  \n",
       "     State = None  \n",
       "     Direction: EFFECT  \n",
       "   Maximally-irreducible cause  \n",
       "     φ = 0.06133  \n",
       "     Mechanism: [B, C, D]  \n",
       "     Purview = [B, C]  \n",
       "     State = None  \n",
       "     Direction: CAUSE  \n",
       "   Maximally-irreducible effect  \n",
       "     φ = 0.006167  \n",
       "     Mechanism: [B, C, D]  \n",
       "     Purview = [C, D]  \n",
       "     State = None  \n",
       "     Direction: EFFECT  ,\n",
       " 'relations': [Relation([(0,), (0,)], (0,), 0.4860339134877138),\n",
       "  Relation([(0,), (0, 1, 2)], (0,), 0.0752569547114912),\n",
       "  Relation([(0,), (0, 1, 3)], (0,), 0.4860339134877138),\n",
       "  Relation([(0,), (0, 1, 3)], (0,), 0.3065850651403252),\n",
       "  Relation([(0,), (0, 1, 2)], (0,), 0.0752569547114912),\n",
       "  Relation([(0,), (0, 1, 3)], (0,), 0.6273404988555096),\n",
       "  Relation([(0,), (0, 1, 3)], (0,), 0.3065850651403252),\n",
       "  Relation([(2,), (2,)], (2,), 0.48603391348771363),\n",
       "  Relation([(2,), (0, 1, 2)], (2,), 0.07525695471149112),\n",
       "  Relation([(2,), (1, 2, 3)], (2,), 0.48603391348771363),\n",
       "  Relation([(2,), (1, 2, 3)], (2,), 0.3065850651403252),\n",
       "  Relation([(2,), (0, 1, 2)], (2,), 0.07525695471149112),\n",
       "  Relation([(2,), (1, 2, 3)], (2,), 0.6273404988555096),\n",
       "  Relation([(2,), (1, 2, 3)], (2,), 0.3065850651403252),\n",
       "  Relation([(0, 2), (0, 2)], (1,), 0.16301958127300883),\n",
       "  Relation([(0, 2), (0, 1, 2)], (1,), 0.0664081225809012),\n",
       "  Relation([(0, 2), (0, 1, 2)], (1,), 0.0664081225809012),\n",
       "  Relation([(0, 1, 2), (0, 1, 3)], (0,), 0.0752569547114912),\n",
       "  Relation([(0, 1, 2), (0, 1, 3)], (0,), 0.0752569547114912),\n",
       "  Relation([(0, 1, 2), (1, 2, 3)], (2,), 0.07525695471149112),\n",
       "  Relation([(0, 1, 2), (1, 2, 3)], (2,), 0.07525695471149112),\n",
       "  Relation([(0, 1, 3), (0, 1, 3)], (0,), 0.3065850651403252),\n",
       "  Relation([(0, 1, 3), (1, 2, 3)], (1,), 0.05336147119842451),\n",
       "  Relation([(0, 1, 3), (1, 2, 3)], (3,), 0.1722818567101082),\n",
       "  Relation([(1, 2, 3), (1, 2, 3)], (2,), 0.3065850651403252),\n",
       "  Relation([(0,), (0,), (0, 1, 2)], (0,), 0.0752569547114912),\n",
       "  Relation([(0,), (0,), (0, 1, 3)], (0,), 0.4860339134877138),\n",
       "  Relation([(0,), (0,), (0, 1, 3)], (0,), 0.3065850651403252),\n",
       "  Relation([(0,), (0, 1, 2), (0, 1, 3)], (0,), 0.0752569547114912),\n",
       "  Relation([(0,), (0, 1, 2), (0, 1, 3)], (0,), 0.0752569547114912),\n",
       "  Relation([(0,), (0, 1, 3), (0, 1, 3)], (0,), 0.3065850651403252),\n",
       "  Relation([(0,), (0, 1, 2), (0, 1, 3)], (0,), 0.0752569547114912),\n",
       "  Relation([(0,), (0, 1, 2), (0, 1, 3)], (0,), 0.0752569547114912),\n",
       "  Relation([(0,), (0, 1, 3), (0, 1, 3)], (0,), 0.3065850651403252),\n",
       "  Relation([(2,), (2,), (0, 1, 2)], (2,), 0.07525695471149112),\n",
       "  Relation([(2,), (2,), (1, 2, 3)], (2,), 0.48603391348771363),\n",
       "  Relation([(2,), (2,), (1, 2, 3)], (2,), 0.3065850651403252),\n",
       "  Relation([(2,), (0, 1, 2), (1, 2, 3)], (2,), 0.07525695471149112),\n",
       "  Relation([(2,), (0, 1, 2), (1, 2, 3)], (2,), 0.07525695471149112),\n",
       "  Relation([(2,), (1, 2, 3), (1, 2, 3)], (2,), 0.3065850651403252),\n",
       "  Relation([(2,), (0, 1, 2), (1, 2, 3)], (2,), 0.07525695471149112),\n",
       "  Relation([(2,), (0, 1, 2), (1, 2, 3)], (2,), 0.07525695471149112),\n",
       "  Relation([(2,), (1, 2, 3), (1, 2, 3)], (2,), 0.3065850651403252),\n",
       "  Relation([(0, 2), (0, 2), (0, 1, 2)], (1,), 0.0664081225809012),\n",
       "  Relation([(0, 1, 2), (0, 1, 3), (0, 1, 3)], (0,), 0.0752569547114912),\n",
       "  Relation([(0, 1, 2), (1, 2, 3), (1, 2, 3)], (2,), 0.07525695471149112)],\n",
       " 'compositional_state': {<Direction.CAUSE: 0>: {(0,): (0,),\n",
       "   (1,): (0,),\n",
       "   (2,): (0,),\n",
       "   (0, 1, 2): (0, 0, 0),\n",
       "   (0, 1): (0, 1),\n",
       "   (1, 2): (1, 0)},\n",
       "  <Direction.EFFECT: 1>: {(0,): (0,),\n",
       "   (1, 3): (1, 1),\n",
       "   (2,): (0,),\n",
       "   (3,): (1,),\n",
       "   (0, 1, 3): (0, 1, 0),\n",
       "   (1,): (0,),\n",
       "   (1, 2, 3): (1, 0, 0),\n",
       "   (0, 2): (0, 0),\n",
       "   (0, 3): (0, 0),\n",
       "   (2, 3): (0, 0)}},\n",
       " 'big phi': 0.0,\n",
       " 'MIP': (((0, 1, 2), (3,)), (0, 1, 2), (3,), <Direction.CAUSE: 0>)}"
      ]
     },
     "execution_count": 14,
     "metadata": {},
     "output_type": "execute_result"
    }
   ],
   "source": [
    "max_ces"
   ]
  },
  {
   "cell_type": "code",
   "execution_count": null,
   "id": "dd96c269-d3df-44e1-b368-bebc1b2c5565",
   "metadata": {},
   "outputs": [],
   "source": [
    "# to avoid explosions we can also approximate the ces by picking the compositional state that maximizes small phi \n",
    "(\n",
    "    filtered_ces,\n",
    "    filtered_relations,\n",
    "    compositional_state,\n",
    ") = compute.compute_rels_and_ces_for_compositional_state(\n",
    "    subsystem, all_compositional_states[-1], ces\n",
    ")"
   ]
  },
  {
   "cell_type": "code",
   "execution_count": 147,
   "id": "34903baf-1578-40e2-899e-9533bf63101f",
   "metadata": {
    "tags": []
   },
   "outputs": [
    {
     "data": {
      "application/vnd.jupyter.widget-view+json": {
       "model_id": "bc7c51db252b4dc5b298392e4d6e4469",
       "version_major": 2,
       "version_minor": 0
      },
      "text/plain": [
       "Computing edges:   0%|          | 0/60 [00:00<?, ?it/s]"
      ]
     },
     "metadata": {},
     "output_type": "display_data"
    },
    {
     "data": {
      "application/vnd.jupyter.widget-view+json": {
       "model_id": "bbaee4857eb9446ab0fc0b8d7f24669a",
       "version_major": 2,
       "version_minor": 0
      },
      "text/plain": [
       "Computing triangles:   0%|          | 0/80 [00:00<?, ?it/s]"
      ]
     },
     "metadata": {},
     "output_type": "display_data"
    }
   ],
   "source": [
    "# and now we can plot the CES\n",
    "fig = viz.plot_ces(subsystem,max_ces['ces'],max_ces['relations'],network_name='figures/max_ces',surface_opacity=0.7,)"
   ]
  },
  {
   "cell_type": "code",
   "execution_count": null,
   "id": "e89aeae8-a743-4c12-846f-9346f9da2180",
   "metadata": {},
   "outputs": [],
   "source": [
    "units = [2,3]\n",
    "fig = plots.compound_distinction(\n",
    "    subsystem,\n",
    "    max_ces['ces'],\n",
    "    units,\n",
    "    f'figures/compound_{units}',\n",
    "    relations=max_ces['relations'],\n",
    ")"
   ]
  },
  {
   "cell_type": "code",
   "execution_count": null,
   "id": "dd4e9097-5068-4f5a-a9d9-7412e3ea0d19",
   "metadata": {},
   "outputs": [],
   "source": [
    "untouched_c, untouched_r = compute.get_untouced_ces_and_rels(max_ces['ces'],max_ces['relations'],max_ces['MIP'],)\n"
   ]
  },
  {
   "cell_type": "code",
   "execution_count": null,
   "id": "d96bff5c-59da-4dba-944b-dfba79711710",
   "metadata": {},
   "outputs": [],
   "source": [
    "killed_d = pyphi.models.subsystem.CauseEffectStructure([mice for mice in max_ces['ces'] if mice not in untouched_c])\n",
    "killed_r = [r for r in max_ces['relations'] if r not in untouched_r]"
   ]
  },
  {
   "cell_type": "code",
   "execution_count": null,
   "id": "2a438478-af82-4599-9d8c-fb9bb98a8643",
   "metadata": {
    "tags": []
   },
   "outputs": [],
   "source": [
    "\n",
    "cess = [max_ces['ces'], untouched_c]\n",
    "relations = [max_ces['relations'], untouched_r]\n",
    "nonstandard_kwargs = [\n",
    "    dict(\n",
    "        network_name='figures/partitioned',\n",
    "        surface_colorscale='Greys',\n",
    "        surface_opacity=0.1,\n",
    "        show_labels=False,\n",
    "        show_links=False,\n",
    "        show_edges=False\n",
    "    ),\n",
    "    dict(\n",
    "        network_name='figures/partitioned',\n",
    "        surface_colorscale='plasma',\n",
    "        surface_opacity=1.0,\n",
    "        show_chains=False,\n",
    "        show_mechanism_base=False,\n",
    "    ),\n",
    "]\n",
    "\n",
    "fig = plots.overlaid_ces_plot(subsystem, cess, relations, nonstandard_kwargs)"
   ]
  },
  {
   "cell_type": "code",
   "execution_count": null,
   "id": "c2698027-9b77-40b7-82f8-80b4afd2881c",
   "metadata": {},
   "outputs": [],
   "source": [
    "fig = plots.plot_effect_of_MIP(\n",
    "    subsystem,\n",
    "    max_ces['ces'],\n",
    "    max_ces['relations'],\n",
    "    'figures/MIP',\n",
    "    partitions=None,\n",
    "    common_kwargs=dict(),\n",
    "    uncommon_kwargs=[dict(), dict()],\n",
    ")"
   ]
  },
  {
   "cell_type": "code",
   "execution_count": null,
   "id": "73b67d09-fd35-4969-ba8a-f591e272af72",
   "metadata": {},
   "outputs": [],
   "source": [
    "system = subsystem\n",
    "ces = max_ces[\"ces\"]\n",
    "relations = max_ces[\"relations\"]\n",
    "figure_name = \"figures/component\"\n",
    "\n",
    "# Make a list of True and False showing which mices are included in your component \n",
    "# here we just make a list which is true for any mice that has some units in their mechanism or purview\n",
    "units = (0,1)\n",
    "component_distinctions = [\n",
    "    True\n",
    "    if (\n",
    "        all([unit in mice.mechanism for unit in units])\n",
    "        or all([unit in mice.purview for unit in units])\n",
    "    )\n",
    "    else False\n",
    "    for mice in ces\n",
    "]\n",
    "\n",
    "fig = plots.plot_component(\n",
    "    system,\n",
    "    ces,\n",
    "    component_distinctions,\n",
    "    figure_name,\n",
    "    relations=relations,\n",
    "    uncommon_kwargs=[dict(), dict(), dict(save_plot_to_html=True)],\n",
    ")"
   ]
  },
  {
   "cell_type": "code",
   "execution_count": null,
   "id": "dd170d91-b706-4aa3-b0d7-6a53edeb4064",
   "metadata": {},
   "outputs": [],
   "source": [
    "# compute all components\n",
    "components = {\n",
    "    component_distinction: compute.get_component_phi(ces, relations, component_distinction)\n",
    "    for component_distinction in tqdm(list(pyphi.utils.all_states(len(ces))))\n",
    "}\n",
    "component_phi = {key: value[0] for key, value in components.items()}\n",
    "sorted_components = dict(\n",
    "    sorted(component_phi.items(), key=lambda item: item[1], reverse=True)\n",
    ")\n",
    "\n",
    "for i, component_distinctions in enumerate(sorted_components.keys()):\n",
    "    if i < 5:\n",
    "        plots.plot_component(\n",
    "            system,\n",
    "            ces,\n",
    "            component_distinctions,\n",
    "            f'figures/component_{i}',\n",
    "            relations=relations,\n",
    "            uncommon_kwargs=[dict(), dict(), dict()],\n",
    "        )"
   ]
  },
  {
   "cell_type": "code",
   "execution_count": null,
   "id": "0fb6484c-2673-4008-a146-6bfd22e1eeb8",
   "metadata": {
    "tags": []
   },
   "outputs": [],
   "source": [
    "ces = max_ces['ces']\n",
    "triggered_distinctions = [True, False, False, True, False, True, False, True, \n",
    "                          True, False, False, True, True, False, True, False]\n",
    "\n",
    "fig = plots.plot_perception(subsystem,ces,triggered_distinctions,'figures/perception')"
   ]
  },
  {
   "cell_type": "code",
   "execution_count": null,
   "id": "4d4e6736-d871-4dcf-9a4c-4d0dbb488379",
   "metadata": {},
   "outputs": [],
   "source": []
  },
  {
   "cell_type": "code",
   "execution_count": null,
   "id": "e3884a32-1ca5-49af-8778-e86e697cb9d6",
   "metadata": {},
   "outputs": [],
   "source": []
  },
  {
   "cell_type": "code",
   "execution_count": 15,
   "id": "f17916c0-986c-4fb7-b609-1f67293dadc6",
   "metadata": {
    "tags": []
   },
   "outputs": [
    {
     "data": {
      "application/vnd.jupyter.widget-view+json": {
       "model_id": "2f087f94081a4a52af8967efa0f0aa49",
       "version_major": 2,
       "version_minor": 0
      },
      "text/plain": [
       "  0%|          | 0/64 [00:00<?, ?it/s]"
      ]
     },
     "metadata": {},
     "output_type": "display_data"
    },
    {
     "name": "stdout",
     "output_type": "stream",
     "text": [
      "Network saved to: ch3\n"
     ]
    },
    {
     "data": {
      "application/vnd.jupyter.widget-view+json": {
       "model_id": "49617013a11744ffb961fd41fbe892f9",
       "version_major": 2,
       "version_minor": 0
      },
      "text/plain": [
       "Computing Big Phi for all compositional states:   0%|          | 0/36 [00:00<?, ?it/s]"
      ]
     },
     "metadata": {},
     "output_type": "display_data"
    }
   ],
   "source": [
    "import numpy as np\n",
    "\n",
    "net_name = \"ch3\"\n",
    "\n",
    "th = 1 / 4\n",
    "exp = 5\n",
    "mu = 1\n",
    "si = 0.3\n",
    "ll = 1\n",
    "kk = 15\n",
    "x0 = 0.7\n",
    "\n",
    "q = 0.6\n",
    "s = 0.8\n",
    "l = 0.25\n",
    "j = 1 - q\n",
    "i = j - 0.05\n",
    "b = 0.01\n",
    "\n",
    "weights = np.array(\n",
    "    [\n",
    "        [s, l+0.001, 0, i, 0, 0],  # A\n",
    "        [l+0.001, s, l, j, b, 0],  # B\n",
    "        [0, l, s, i, 0, 0],  # C\n",
    "        [b, b, b, q, 0, i],  # D\n",
    "        [0, i, 0, 0, 0, 0],  # I\n",
    "        [0, 0, 0, 0, 0, 0],  # O\n",
    "        # A, B, C, D, I, O\n",
    "    ]\n",
    ")\n",
    "\n",
    "node_labels = [\"A\", \"B\", \"C\", \"D\", \"I\", \"O\"]\n",
    "mech_func = [f for f in \"sssgll\"]\n",
    "\n",
    "network = ng.get_net(\n",
    "    mech_func,\n",
    "    weights,\n",
    "    exp=exp,\n",
    "    th=th,\n",
    "    mu=mu,\n",
    "    si=si,\n",
    "    l=ll,\n",
    "    k=kk,\n",
    "    x0=x0,\n",
    "    node_labels=node_labels,\n",
    "    network_name=net_name,\n",
    "    pickle_network=True,\n",
    ")\n",
    "\n",
    "state = (0, 1, 0, 1, 1, 1)\n",
    "subsystem = pyphi.Subsystem(network, state, nodes=(0, 1, 2, 3))\n",
    "\n",
    "ces = list(compute.unfold_separated_ces(subsystem))\n",
    "'''\n",
    "# repairing the broken CES\n",
    "ces[-14] = subsystem.find_mice(\n",
    "    pyphi.direction.Direction.CAUSE, (1, 3), purviews=tuple([(1, 2, 3)])\n",
    ")\n",
    "direction = pyphi.direction.Direction.CAUSE\n",
    "mechanism = (0, 1, 2)\n",
    "purview = (0, 1, 2)\n",
    "partition = list(pyphi.partition.all_partitions((0, 1, 2), (0, 1, 2)))[32]\n",
    "repertoire = subsystem.find_mice(direction, mechanism, tuple([purview])).repertoire\n",
    "phi, partitioned_repertoire = subsystem.evaluate_partition(\n",
    "    direction, mechanism, purview, partition\n",
    ")\n",
    "ria = pyphi.models.mechanism.RepertoireIrreducibilityAnalysis(\n",
    "    phi,\n",
    "    direction,\n",
    "    mechanism,\n",
    "    purview,\n",
    "    partition,\n",
    "    repertoire,\n",
    "    partitioned_repertoire,\n",
    "    node_labels=subsystem.node_labels,\n",
    ")\n",
    "ces[20] = pyphi.models.mechanism.MaximallyIrreducibleCauseOrEffect(ria)\n",
    "'''\n",
    "ces = pyphi.models.CauseEffectStructure(ces)\n",
    "max_ces = compute.get_maximal_ces(subsystem, ces=ces, max_k=3)"
   ]
  },
  {
   "cell_type": "code",
   "execution_count": 16,
   "id": "70c10bd6-c22d-4766-ae8f-fdd553bc1ad4",
   "metadata": {
    "collapsed": true,
    "jupyter": {
     "outputs_hidden": true
    },
    "tags": []
   },
   "outputs": [
    {
     "data": {
      "text/plain": [
       "{'ces': ════════════════════════════════\n",
       " Cause-effect structure (8 concepts)\n",
       " ════════════════════════════════\n",
       "   Maximally-irreducible cause  \n",
       "     φ = 0.486414  \n",
       "     Mechanism: [A]  \n",
       "     Purview = [A]  \n",
       "     State = None  \n",
       "     Direction: CAUSE  \n",
       "   Maximally-irreducible effect  \n",
       "     φ = 0.627656  \n",
       "     Mechanism: [A]  \n",
       "     Purview = [A]  \n",
       "     State = None  \n",
       "     Direction: EFFECT  \n",
       "   Maximally-irreducible cause  \n",
       "     φ = 0.486034  \n",
       "     Mechanism: [C]  \n",
       "     Purview = [C]  \n",
       "     State = None  \n",
       "     Direction: CAUSE  \n",
       "   Maximally-irreducible effect  \n",
       "     φ = 0.62734  \n",
       "     Mechanism: [C]  \n",
       "     Purview = [C]  \n",
       "     State = None  \n",
       "     Direction: EFFECT  \n",
       "   Maximally-irreducible cause  \n",
       "     φ = 0.108052  \n",
       "     Mechanism: [A, B, C]  \n",
       "     Purview = [A, B, C]  \n",
       "     State = None  \n",
       "     Direction: CAUSE  \n",
       "   Maximally-irreducible effect  \n",
       "     φ = 0.055511  \n",
       "     Mechanism: [A, B, C]  \n",
       "     Purview = [B]  \n",
       "     State = None  \n",
       "     Direction: EFFECT  \n",
       "   Maximally-irreducible cause  \n",
       "     φ = 0.12646  \n",
       "     Mechanism: [B, C, D]  \n",
       "     Purview = [A, B, C, D]  \n",
       "     State = None  \n",
       "     Direction: CAUSE  \n",
       "   Maximally-irreducible effect  \n",
       "     φ = 0.0424  \n",
       "     Mechanism: [B, C, D]  \n",
       "     Purview = [B, C, D]  \n",
       "     State = None  \n",
       "     Direction: EFFECT  ,\n",
       " 'relations': [Relation([(0,), (0,)], (0,), 0.48641414976149816),\n",
       "  Relation([(0,), (0, 1, 2)], (0,), 0.016737477459056353),\n",
       "  Relation([(0,), (0, 1, 2)], (0,), 0.016737477459056353),\n",
       "  Relation([(2,), (2,)], (2,), 0.48603391348771363),\n",
       "  Relation([(2,), (1, 2, 3)], (2,), 0.0020448980806633274),\n",
       "  Relation([(2,), (1, 2, 3)], (2,), 0.1420825109321587),\n",
       "  Relation([(2,), (1, 2, 3)], (2,), 0.0020448980806633274),\n",
       "  Relation([(2,), (1, 2, 3)], (2,), 0.1420825109321587),\n",
       "  Relation([(0, 1, 2), (0, 1, 2)], (1,), 0.03922749337236201),\n",
       "  Relation([(0, 1, 2), (1, 2, 3)], (1,), 0.03922749337236201),\n",
       "  Relation([(0, 1, 2), (1, 2, 3)], (1,), 0.07328274689855657),\n",
       "  Relation([(1, 2, 3), (1, 2, 3)], (2,), 0.0020448980806633274),\n",
       "  Relation([(0,), (0,), (0, 1, 2)], (0,), 0.016737477459056353),\n",
       "  Relation([(2,), (2,), (1, 2, 3)], (2,), 0.0020448980806633274),\n",
       "  Relation([(2,), (2,), (1, 2, 3)], (2,), 0.1420825109321587),\n",
       "  Relation([(2,), (1, 2, 3), (1, 2, 3)], (2,), 0.0020448980806633274),\n",
       "  Relation([(2,), (1, 2, 3), (1, 2, 3)], (2,), 0.0020448980806633274),\n",
       "  Relation([(0, 1, 2), (0, 1, 2), (1, 2, 3)], (1,), 0.03922749337236201)],\n",
       " 'compositional_state': {<Direction.CAUSE: 0>: {(0,): (0,),\n",
       "   (1,): (0,),\n",
       "   (2,): (0,),\n",
       "   (1, 3): (0, 1),\n",
       "   (0, 1): (1, 0),\n",
       "   (0, 3): (0, 1),\n",
       "   (1, 2): (0, 1),\n",
       "   (1, 2, 3): (1, 1, 0),\n",
       "   (2, 3): (0, 1),\n",
       "   (0, 1, 2): (0, 0, 1),\n",
       "   (0, 1, 2, 3): (1, 0, 0, 1)},\n",
       "  <Direction.EFFECT: 1>: {(0,): (0,),\n",
       "   (1,): (0,),\n",
       "   (2,): (0,),\n",
       "   (3,): (1,),\n",
       "   (1, 3): (0, 1),\n",
       "   (0, 1, 3): (0, 1, 0),\n",
       "   (1, 2, 3): (1, 0, 0)}},\n",
       " 'big phi': 0.0,\n",
       " 'MIP': (((0,), (1, 2, 3)), (1, 2, 3), (0,), <Direction.EFFECT: 1>)}"
      ]
     },
     "execution_count": 16,
     "metadata": {},
     "output_type": "execute_result"
    }
   ],
   "source": [
    "max_ces"
   ]
  },
  {
   "cell_type": "code",
   "execution_count": 41,
   "id": "7b43e17a-24f4-4a0d-8a8b-8041a7b113bb",
   "metadata": {},
   "outputs": [
    {
     "data": {
      "application/vnd.jupyter.widget-view+json": {
       "model_id": "f60e0e48932543cc83839c7677fe876f",
       "version_major": 2,
       "version_minor": 0
      },
      "text/plain": [
       "  0%|          | 0/64 [00:00<?, ?it/s]"
      ]
     },
     "metadata": {},
     "output_type": "display_data"
    },
    {
     "name": "stdout",
     "output_type": "stream",
     "text": [
      "Network saved to: space\n"
     ]
    },
    {
     "data": {
      "application/vnd.jupyter.widget-view+json": {
       "model_id": "9940518de19b4a90b5323f4a88730d6d",
       "version_major": 2,
       "version_minor": 0
      },
      "text/plain": [
       "Computing Big Phi for all compositional states:   0%|          | 0/16 [00:00<?, ?it/s]"
      ]
     },
     "metadata": {},
     "output_type": "display_data"
    }
   ],
   "source": [
    "import numpy as np\n",
    "\n",
    "net_name = \"space\"\n",
    "\n",
    "th = 1 / 4\n",
    "exp = 5\n",
    "mu = 1\n",
    "si = 0.3\n",
    "ll = 1\n",
    "kk = 15\n",
    "x0 = 0.7\n",
    "\n",
    "q = 0.6\n",
    "s = 0.8\n",
    "l = 0.25\n",
    "j = 1 - q\n",
    "i = j - 0.05\n",
    "b = 0.01\n",
    "\n",
    "weights = np.array(\n",
    "    [\n",
    "        [s, l, 0, 0, 0, 0],  # A\n",
    "        [l, s, l, 0, 0, 0],  # B\n",
    "        [0, l, s, l, 0, 0],  # C\n",
    "        [0, 0, l, s, l, 0],  # D\n",
    "        [0, 0, 0, l, s, 0],  # I\n",
    "        [0, 0, 0, 0, 0, 0],  # O\n",
    "        # A, B, C, D, I, O\n",
    "    ]\n",
    ")\n",
    "\n",
    "node_labels = [\"A\", \"B\", \"C\", \"D\", \"I\", \"O\"]\n",
    "mech_func = [f for f in \"sssssl\"]\n",
    "\n",
    "network = ng.get_net(\n",
    "    mech_func,\n",
    "    weights,\n",
    "    exp=exp,\n",
    "    th=th,\n",
    "    mu=mu,\n",
    "    si=si,\n",
    "    l=ll,\n",
    "    k=kk,\n",
    "    x0=x0,\n",
    "    node_labels=node_labels,\n",
    "    network_name=net_name,\n",
    "    pickle_network=True,\n",
    ")\n",
    "\n",
    "state = (0, 0, 0, 0, 0, 1)\n",
    "subsystem = pyphi.Subsystem(network, state, nodes=(0, 1, 2, 3, 4))\n",
    "\n",
    "ces = list(compute.unfold_separated_ces(subsystem))\n",
    "'''\n",
    "# repairing the broken CES\n",
    "ces[-14] = subsystem.find_mice(\n",
    "    pyphi.direction.Direction.CAUSE, (1, 3), purviews=tuple([(1, 2, 3)])\n",
    ")\n",
    "direction = pyphi.direction.Direction.CAUSE\n",
    "mechanism = (0, 1, 2)\n",
    "purview = (0, 1, 2)\n",
    "partition = list(pyphi.partition.all_partitions((0, 1, 2), (0, 1, 2)))[32]\n",
    "repertoire = subsystem.find_mice(direction, mechanism, tuple([purview])).repertoire\n",
    "phi, partitioned_repertoire = subsystem.evaluate_partition(\n",
    "    direction, mechanism, purview, partition\n",
    ")\n",
    "ria = pyphi.models.mechanism.RepertoireIrreducibilityAnalysis(\n",
    "    phi,\n",
    "    direction,\n",
    "    mechanism,\n",
    "    purview,\n",
    "    partition,\n",
    "    repertoire,\n",
    "    partitioned_repertoire,\n",
    "    node_labels=subsystem.node_labels,\n",
    ")\n",
    "ces[20] = pyphi.models.mechanism.MaximallyIrreducibleCauseOrEffect(ria)\n",
    "'''\n",
    "ces = pyphi.models.CauseEffectStructure(ces)\n",
    "max_ces = compute.get_maximal_ces(subsystem, ces=ces, max_k=3)"
   ]
  },
  {
   "cell_type": "code",
   "execution_count": 42,
   "id": "1d78724d-3b62-4f14-b92a-d2b6dd937e62",
   "metadata": {
    "collapsed": true,
    "jupyter": {
     "outputs_hidden": true
    },
    "tags": []
   },
   "outputs": [
    {
     "data": {
      "text/plain": [
       "[((0,), (0,), (0,), 0.479459),\n",
       " ((0,), (0,), (0,), 0.62154),\n",
       " ((1,), (1,), (0,), 0.595967),\n",
       " ((1,), (1,), (0,), 0.700939),\n",
       " ((2,), (2,), (0,), 0.595967),\n",
       " ((2,), (2,), (0,), 0.700939),\n",
       " ((3,), (3,), (0,), 0.595967),\n",
       " ((3,), (3,), (0,), 0.700939),\n",
       " ((4,), (4,), (0,), 0.479459),\n",
       " ((4,), (4,), (0,), 0.62154),\n",
       " ((0, 1), (0, 1), (0, 0), 0.076379),\n",
       " ((0, 1), (0, 1), (0, 0), 0.043447),\n",
       " ((0, 2), (1,), (0,), 0.075296),\n",
       " ((0, 2), (1,), (0,), 0.103419),\n",
       " ((1, 2), (1, 2), (0, 0), 0.064884),\n",
       " ((1, 2), (1, 2), (0, 0), 0.081128),\n",
       " ((1, 3), (2,), (0,), 0.075379),\n",
       " ((1, 3), (2,), (0,), 0.103419),\n",
       " ((2, 3), (2, 3), (0, 0), 0.064884),\n",
       " ((2, 3), (2, 3), (0, 0), 0.081128),\n",
       " ((2, 4), (3,), (0,), 0.075296),\n",
       " ((2, 4), (3,), (0,), 0.103419),\n",
       " ((3, 4), (3, 4), (0, 0), 0.076379),\n",
       " ((3, 4), (3, 4), (0, 0), 0.043447),\n",
       " ((0, 1, 2), (0, 1, 2), (0, 0, 0), 0.058746),\n",
       " ((0, 1, 2), (0, 1, 2), (0, 0, 0), 0.005608),\n",
       " ((0, 1, 3), (0, 1, 2), (0, 0, 1), 0.043665),\n",
       " ((0, 1, 3), (0, 1, 2), (0, 0, 0), 0.031125),\n",
       " ((0, 2, 3), (1, 2, 3), (0, 0, 0), 0.048405),\n",
       " ((0, 2, 3), (1, 2, 3), (0, 0, 0), 0.058119),\n",
       " ((0, 2, 4), (1, 3), (0, 0), 0.046929),\n",
       " ((0, 2, 4), (1, 3), (0, 0), 0.074088),\n",
       " ((1, 2, 3), (1, 2, 3), (0, 0, 0), 0.063437),\n",
       " ((1, 2, 3), (1, 2, 3), (0, 0, 0), 0.043363),\n",
       " ((1, 2, 4), (1, 2, 3), (0, 0, 0), 0.048405),\n",
       " ((1, 2, 4), (1, 2, 3), (0, 0, 0), 0.058119),\n",
       " ((1, 3, 4), (2, 3, 4), (1, 0, 0), 0.043665),\n",
       " ((1, 3, 4), (2, 3, 4), (0, 0, 0), 0.031125),\n",
       " ((2, 3, 4), (2, 3, 4), (0, 0, 0), 0.058746),\n",
       " ((2, 3, 4), (2, 3, 4), (0, 0, 0), 0.005608),\n",
       " ((0, 1, 2, 3), (0, 1, 2, 3), (0, 0, 0, 0), 0.043752),\n",
       " ((0, 1, 2, 3), (0, 1, 2, 3), (0, 0, 0, 0), 0.005608),\n",
       " ((0, 1, 2, 4), (0, 1, 2, 3), (0, 0, 0, 1), 0.033701),\n",
       " ((0, 1, 2, 4), (0, 1, 2, 3), (0, 0, 0, 0), 0.004018),\n",
       " ((0, 1, 3, 4), (0, 1, 2, 3, 4), (0, 0, 0, 0, 0), 0.028237),\n",
       " ((0, 1, 3, 4), (0, 1, 2, 3, 4), (0, 0, 0, 0, 0), 0.031064),\n",
       " ((0, 2, 3, 4), (1, 2, 3, 4), (1, 0, 0, 0), 0.033701),\n",
       " ((0, 2, 3, 4), (1, 2, 3, 4), (0, 0, 0, 0), 0.004018),\n",
       " ((1, 2, 3, 4), (1, 2, 3, 4), (0, 0, 0, 0), 0.043752),\n",
       " ((1, 2, 3, 4), (1, 2, 3, 4), (0, 0, 0, 0), 0.005608),\n",
       " ((0, 1, 2, 3, 4), (0, 1, 2, 3, 4), (0, 0, 0, 0, 0), 0.037082),\n",
       " ((0, 1, 2, 3, 4), (0, 1, 2, 3, 4), (0, 0, 0, 0, 0), 0.005619)]"
      ]
     },
     "execution_count": 42,
     "metadata": {},
     "output_type": "execute_result"
    }
   ],
   "source": [
    "[(m.mechanism, m.purview, tuple(m.maximal_state[0]), m.phi) for m in ces]"
   ]
  },
  {
   "cell_type": "code",
   "execution_count": 43,
   "id": "9f3f94dd-33fb-46fb-b47e-590b28a74f2c",
   "metadata": {
    "collapsed": true,
    "jupyter": {
     "outputs_hidden": true
    },
    "tags": []
   },
   "outputs": [
    {
     "data": {
      "text/plain": [
       "[((0,), (0,), (0,), 0.479459),\n",
       " ((0,), (0,), (0,), 0.62154),\n",
       " ((1,), (1,), (0,), 0.595967),\n",
       " ((1,), (1,), (0,), 0.700939),\n",
       " ((2,), (2,), (0,), 0.595967),\n",
       " ((2,), (2,), (0,), 0.700939),\n",
       " ((3,), (3,), (0,), 0.595967),\n",
       " ((3,), (3,), (0,), 0.700939),\n",
       " ((4,), (4,), (0,), 0.479459),\n",
       " ((4,), (4,), (0,), 0.62154),\n",
       " ((0, 1), (0, 1), (0, 0), 0.076379),\n",
       " ((0, 1), (0, 1), (0, 0), 0.043447),\n",
       " ((1, 2), (1, 2), (0, 0), 0.064884),\n",
       " ((1, 2), (1, 2), (0, 0), 0.081128),\n",
       " ((2, 3), (2, 3), (0, 0), 0.064884),\n",
       " ((2, 3), (2, 3), (0, 0), 0.081128),\n",
       " ((3, 4), (3, 4), (0, 0), 0.076379),\n",
       " ((3, 4), (3, 4), (0, 0), 0.043447),\n",
       " ((0, 1, 3), (0, 1, 2), (0, 0, 1), 0.043665),\n",
       " ((0, 1, 3), (0, 1, 2), (0, 0, 0), 0.031125),\n",
       " ((0, 2, 4), (1, 3), (0, 0), 0.046929),\n",
       " ((0, 2, 4), (1, 3), (0, 0), 0.074088),\n",
       " ((1, 3, 4), (2, 3, 4), (1, 0, 0), 0.043665),\n",
       " ((1, 3, 4), (2, 3, 4), (0, 0, 0), 0.031125),\n",
       " ((0, 1, 2, 3), (0, 1, 2, 3), (0, 0, 0, 0), 0.043752),\n",
       " ((0, 1, 2, 3), (0, 1, 2, 3), (0, 0, 0, 0), 0.005608),\n",
       " ((1, 2, 3, 4), (1, 2, 3, 4), (0, 0, 0, 0), 0.043752),\n",
       " ((1, 2, 3, 4), (1, 2, 3, 4), (0, 0, 0, 0), 0.005608)]"
      ]
     },
     "execution_count": 43,
     "metadata": {},
     "output_type": "execute_result"
    }
   ],
   "source": [
    "[(m.mechanism, m.purview, tuple(m.maximal_state[0]), m.phi) for m in max_ces['ces']]"
   ]
  },
  {
   "cell_type": "code",
   "execution_count": 44,
   "id": "b3550623-dd61-453a-9d98-a92bf4a8247c",
   "metadata": {},
   "outputs": [
    {
     "data": {
      "text/plain": [
       "{<Direction.CAUSE: 0>: {(0,): (0,),\n",
       "  (1,): (0,),\n",
       "  (2,): (0,),\n",
       "  (3,): (0,),\n",
       "  (4,): (0,),\n",
       "  (0, 1): (0, 0),\n",
       "  (1, 2): (0, 0),\n",
       "  (2, 3): (0, 0),\n",
       "  (3, 4): (0, 0),\n",
       "  (0, 1, 2): (0, 0, 1),\n",
       "  (1, 2, 3): (0, 0, 0),\n",
       "  (1, 3): (0, 0),\n",
       "  (2, 3, 4): (1, 0, 0),\n",
       "  (0, 1, 2, 3): (0, 0, 0, 0),\n",
       "  (0, 1, 2, 3, 4): (0, 0, 0, 0, 0),\n",
       "  (1, 2, 3, 4): (0, 0, 0, 0)},\n",
       " <Direction.EFFECT: 1>: {(0,): (0,),\n",
       "  (1,): (0,),\n",
       "  (2,): (0,),\n",
       "  (3,): (0,),\n",
       "  (4,): (0,),\n",
       "  (0, 1): (0, 0),\n",
       "  (1, 2): (0, 0),\n",
       "  (2, 3): (0, 0),\n",
       "  (3, 4): (0, 0),\n",
       "  (0, 1, 2): (0, 0, 0),\n",
       "  (1, 2, 3): (0, 0, 0),\n",
       "  (1, 3): (0, 0),\n",
       "  (2, 3, 4): (0, 0, 0),\n",
       "  (0, 1, 2, 3): (0, 0, 0, 0),\n",
       "  (0, 1, 2, 3, 4): (0, 0, 0, 0, 0),\n",
       "  (1, 2, 3, 4): (0, 0, 0, 0)}}"
      ]
     },
     "execution_count": 44,
     "metadata": {},
     "output_type": "execute_result"
    }
   ],
   "source": [
    "max_ces['compositional_state']"
   ]
  },
  {
   "cell_type": "code",
   "execution_count": 25,
   "id": "5b153da9-c7b8-4c47-adb5-35ee0497868d",
   "metadata": {},
   "outputs": [
    {
     "ename": "NameError",
     "evalue": "name 'rels' is not defined",
     "output_type": "error",
     "traceback": [
      "\u001b[0;31m---------------------------------------------------------------------------\u001b[0m",
      "\u001b[0;31mNameError\u001b[0m                                 Traceback (most recent call last)",
      "\u001b[0;32m/tmp/ipykernel_2990499/188072187.py\u001b[0m in \u001b[0;36m<module>\u001b[0;34m\u001b[0m\n\u001b[1;32m      2\u001b[0m \u001b[0mix\u001b[0m \u001b[0;34m=\u001b[0m \u001b[0msubsystem\u001b[0m\u001b[0;34m.\u001b[0m\u001b[0mnode_indices\u001b[0m\u001b[0;34m\u001b[0m\u001b[0;34m\u001b[0m\u001b[0m\n\u001b[1;32m      3\u001b[0m \u001b[0;32mfor\u001b[0m \u001b[0mmice\u001b[0m \u001b[0;32min\u001b[0m \u001b[0mmax_ces\u001b[0m\u001b[0;34m[\u001b[0m\u001b[0;34m'ces'\u001b[0m\u001b[0;34m]\u001b[0m\u001b[0;34m:\u001b[0m\u001b[0;34m\u001b[0m\u001b[0;34m\u001b[0m\u001b[0m\n\u001b[0;32m----> 4\u001b[0;31m     \u001b[0mprint\u001b[0m\u001b[0;34m(\u001b[0m\u001b[0;34mf'mech: {[lab[u] for u in mice.mechanism]}, pur: {[lab[u] for u in mice.purview]}, state: {[rels.maximal_state(mice)[0][u] for u in mice.purview]}'\u001b[0m\u001b[0;34m)\u001b[0m\u001b[0;34m\u001b[0m\u001b[0;34m\u001b[0m\u001b[0m\n\u001b[0m",
      "\u001b[0;32m/tmp/ipykernel_2990499/188072187.py\u001b[0m in \u001b[0;36m<listcomp>\u001b[0;34m(.0)\u001b[0m\n\u001b[1;32m      2\u001b[0m \u001b[0mix\u001b[0m \u001b[0;34m=\u001b[0m \u001b[0msubsystem\u001b[0m\u001b[0;34m.\u001b[0m\u001b[0mnode_indices\u001b[0m\u001b[0;34m\u001b[0m\u001b[0;34m\u001b[0m\u001b[0m\n\u001b[1;32m      3\u001b[0m \u001b[0;32mfor\u001b[0m \u001b[0mmice\u001b[0m \u001b[0;32min\u001b[0m \u001b[0mmax_ces\u001b[0m\u001b[0;34m[\u001b[0m\u001b[0;34m'ces'\u001b[0m\u001b[0;34m]\u001b[0m\u001b[0;34m:\u001b[0m\u001b[0;34m\u001b[0m\u001b[0;34m\u001b[0m\u001b[0m\n\u001b[0;32m----> 4\u001b[0;31m     \u001b[0mprint\u001b[0m\u001b[0;34m(\u001b[0m\u001b[0;34mf'mech: {[lab[u] for u in mice.mechanism]}, pur: {[lab[u] for u in mice.purview]}, state: {[rels.maximal_state(mice)[0][u] for u in mice.purview]}'\u001b[0m\u001b[0;34m)\u001b[0m\u001b[0;34m\u001b[0m\u001b[0;34m\u001b[0m\u001b[0m\n\u001b[0m",
      "\u001b[0;31mNameError\u001b[0m: name 'rels' is not defined"
     ]
    }
   ],
   "source": [
    "lab = subsystem.node_labels\n",
    "ix = subsystem.node_indices\n",
    "for mice in max_ces['ces']:\n",
    "    print(f'mech: {[lab[u] for u in mice.mechanism]}, pur: {[lab[u] for u in mice.purview]}, state: {[rels.maximal_state(mice)[0][u] for u in mice.purview]}')"
   ]
  },
  {
   "cell_type": "code",
   "execution_count": 11,
   "id": "3a2fe212-e190-4bf9-bb0d-f31e5af4a7e6",
   "metadata": {},
   "outputs": [
    {
     "name": "stdout",
     "output_type": "stream",
     "text": [
      "mech: ['A'], pur: ['A'], state: [0]\n",
      "mech: ['A'], pur: ['A'], state: [0]\n",
      "mech: ['B'], pur: ['B'], state: [1]\n",
      "mech: ['B'], pur: ['B'], state: [1]\n",
      "mech: ['C'], pur: ['C'], state: [0]\n",
      "mech: ['C'], pur: ['C'], state: [0]\n",
      "mech: ['D'], pur: ['B', 'D'], state: [0 1]\n",
      "mech: ['A', 'B'], pur: ['A', 'B'], state: [1 0]\n",
      "mech: ['A', 'C'], pur: ['B', 'D'], state: [0 0]\n",
      "mech: ['A', 'D'], pur: ['A', 'D'], state: [0 1]\n",
      "mech: ['B', 'C'], pur: ['B', 'C'], state: [0 1]\n",
      "mech: ['B', 'D'], pur: ['B', 'C', 'D'], state: [1 1 0]\n",
      "mech: ['C', 'D'], pur: ['C', 'D'], state: [0 1]\n",
      "mech: ['A', 'B', 'C'], pur: ['A', 'B', 'C'], state: [0 0 1]\n",
      "mech: ['A', 'B', 'D'], pur: ['A', 'B', 'D'], state: [0 1 0]\n",
      "mech: ['B', 'C', 'D'], pur: ['B', 'C', 'D'], state: [1 0 0]\n",
      "mech: ['A', 'B', 'C', 'D'], pur: ['A', 'B', 'C', 'D'], state: [0 1 0 1]\n",
      "mech: ['A', 'B', 'C', 'D'], pur: ['D'], state: [1]\n"
     ]
    }
   ],
   "source": [
    "lab = subsystem.node_labels\n",
    "ix = subsystem.node_indices\n",
    "for mice in max_ces['ces']:\n",
    "    print(f'mech: {[lab[u] for u in mice.mechanism]}, pur: {[lab[u] for u in mice.purview]}, state: {mice.maximal_state[0]}')"
   ]
  },
  {
   "cell_type": "code",
   "execution_count": 8,
   "id": "19c950e6-d51c-4814-a4eb-4197eb8c7f48",
   "metadata": {},
   "outputs": [
    {
     "data": {
      "text/plain": [
       "(((2,), (0, 1, 3)), (0, 1, 3), (2,), <Direction.EFFECT: 1>)"
      ]
     },
     "execution_count": 8,
     "metadata": {},
     "output_type": "execute_result"
    }
   ],
   "source": [
    "max_ces['MIP']"
   ]
  },
  {
   "cell_type": "code",
   "execution_count": 9,
   "id": "9a5c776f-b0aa-4428-84d6-4e7acba2b3a3",
   "metadata": {
    "collapsed": true,
    "jupyter": {
     "outputs_hidden": true
    },
    "tags": []
   },
   "outputs": [
    {
     "data": {
      "text/plain": [
       "[Relation([(0,), (0,)], (0,), 0.48641414976149816),\n",
       " Relation([(0,), (0, 1)], (0,), 0.0019020702543052009),\n",
       " Relation([(0,), (0, 3)], (0,), 0.48641414976149816),\n",
       " Relation([(0,), (0, 1, 2)], (0,), 0.016737477459056353),\n",
       " Relation([(0,), (0, 1, 3)], (0,), 0.1421200324459763),\n",
       " Relation([(0,), (0, 1, 2, 3)], (0,), 0.48641414976149816),\n",
       " Relation([(0,), (0, 1)], (0,), 0.0019020702543052009),\n",
       " Relation([(0,), (0, 3)], (0,), 0.5023783862838768),\n",
       " Relation([(0,), (0, 1, 2)], (0,), 0.016737477459056353),\n",
       " Relation([(0,), (0, 1, 3)], (0,), 0.1421200324459763),\n",
       " Relation([(0,), (0, 1, 2, 3)], (0,), 0.6176833982305326),\n",
       " Relation([(0, 1), (0, 3)], (0,), 0.0019020702543052009),\n",
       " Relation([(0, 1), (0, 1, 2)], (0,), 0.0019020702543052009),\n",
       " Relation([(0, 1), (0, 1, 3)], (0,), 0.0019020702543052009),\n",
       " Relation([(0, 1), (0, 1, 2, 3)], (0,), 0.0019020702543052009),\n",
       " Relation([(0, 3), (0, 1, 2)], (0,), 0.016737477459056353),\n",
       " Relation([(0, 3), (0, 1, 3)], (0,), 0.1421200324459763),\n",
       " Relation([(0, 3), (0, 1, 2, 3)], (0,), 0.5023783862838768),\n",
       " Relation([(0, 1, 2), (0, 1, 3)], (0,), 0.016737477459056353),\n",
       " Relation([(0, 1, 2), (0, 1, 2, 3)], (0,), 0.016737477459056353),\n",
       " Relation([(0, 1, 3), (0, 1, 2, 3)], (0,), 0.1421200324459763),\n",
       " Relation([(0,), (0,), (0, 1)], (0,), 0.0019020702543052009),\n",
       " Relation([(0,), (0,), (0, 3)], (0,), 0.48641414976149816),\n",
       " Relation([(0,), (0,), (0, 1, 2)], (0,), 0.016737477459056353),\n",
       " Relation([(0,), (0,), (0, 1, 3)], (0,), 0.1421200324459763),\n",
       " Relation([(0,), (0,), (0, 1, 2, 3)], (0,), 0.48641414976149816),\n",
       " Relation([(0,), (0, 1), (0, 3)], (0,), 0.0019020702543052009),\n",
       " Relation([(0,), (0, 1), (0, 1, 2)], (0,), 0.0019020702543052009),\n",
       " Relation([(0,), (0, 1), (0, 1, 3)], (0,), 0.0019020702543052009),\n",
       " Relation([(0,), (0, 1), (0, 1, 2, 3)], (0,), 0.0019020702543052009),\n",
       " Relation([(0,), (0, 3), (0, 1, 2)], (0,), 0.016737477459056353),\n",
       " Relation([(0,), (0, 3), (0, 1, 3)], (0,), 0.1421200324459763),\n",
       " Relation([(0,), (0, 3), (0, 1, 2, 3)], (0,), 0.48641414976149816),\n",
       " Relation([(0,), (0, 1, 2), (0, 1, 3)], (0,), 0.016737477459056353),\n",
       " Relation([(0,), (0, 1, 2), (0, 1, 2, 3)], (0,), 0.016737477459056353),\n",
       " Relation([(0,), (0, 1, 3), (0, 1, 2, 3)], (0,), 0.1421200324459763),\n",
       " Relation([(0,), (0, 1), (0, 3)], (0,), 0.0019020702543052009),\n",
       " Relation([(0,), (0, 1), (0, 1, 2)], (0,), 0.0019020702543052009),\n",
       " Relation([(0,), (0, 1), (0, 1, 3)], (0,), 0.0019020702543052009),\n",
       " Relation([(0,), (0, 1), (0, 1, 2, 3)], (0,), 0.0019020702543052009),\n",
       " Relation([(0,), (0, 3), (0, 1, 2)], (0,), 0.016737477459056353),\n",
       " Relation([(0,), (0, 3), (0, 1, 3)], (0,), 0.1421200324459763),\n",
       " Relation([(0,), (0, 3), (0, 1, 2, 3)], (0,), 0.5023783862838768),\n",
       " Relation([(0,), (0, 1, 2), (0, 1, 3)], (0,), 0.016737477459056353),\n",
       " Relation([(0,), (0, 1, 2), (0, 1, 2, 3)], (0,), 0.016737477459056353),\n",
       " Relation([(0,), (0, 1, 3), (0, 1, 2, 3)], (0,), 0.1421200324459763),\n",
       " Relation([(0, 1), (0, 3), (0, 1, 2)], (0,), 0.0019020702543052009),\n",
       " Relation([(0, 1), (0, 3), (0, 1, 3)], (0,), 0.0019020702543052009),\n",
       " Relation([(0, 1), (0, 3), (0, 1, 2, 3)], (0,), 0.0019020702543052009),\n",
       " Relation([(0, 1), (0, 1, 2), (0, 1, 3)], (0,), 0.0019020702543052009),\n",
       " Relation([(0, 1), (0, 1, 2), (0, 1, 2, 3)], (0,), 0.0019020702543052009),\n",
       " Relation([(0, 1), (0, 1, 3), (0, 1, 2, 3)], (0,), 0.0019020702543052009),\n",
       " Relation([(0, 3), (0, 1, 2), (0, 1, 3)], (0,), 0.016737477459056353),\n",
       " Relation([(0, 3), (0, 1, 2), (0, 1, 2, 3)], (0,), 0.016737477459056353),\n",
       " Relation([(0, 3), (0, 1, 3), (0, 1, 2, 3)], (0,), 0.1421200324459763),\n",
       " Relation([(0, 1, 2), (0, 1, 3), (0, 1, 2, 3)], (0,), 0.016737477459056353)]"
      ]
     },
     "execution_count": 9,
     "metadata": {},
     "output_type": "execute_result"
    }
   ],
   "source": [
    "max_ces['relations']"
   ]
  },
  {
   "cell_type": "code",
   "execution_count": 10,
   "id": "78df8e6b-90d9-4a2e-813f-601b3ada4821",
   "metadata": {},
   "outputs": [],
   "source": [
    "from pyphi import relations as rels\n"
   ]
  },
  {
   "cell_type": "code",
   "execution_count": 142,
   "id": "948c27c5-1963-4832-aebb-d97cb1ec4d44",
   "metadata": {},
   "outputs": [],
   "source": [
    "relata = rels.Relata(subsystem, [ces[2],ces[4]])"
   ]
  },
  {
   "cell_type": "code",
   "execution_count": 143,
   "id": "886f5816-771c-48e8-893d-d800a94dfa7e",
   "metadata": {},
   "outputs": [
    {
     "name": "stdout",
     "output_type": "stream",
     "text": [
      "[[nan, 1, nan, nan]] [[nan, nan, 0, nan]]\n"
     ]
    }
   ],
   "source": [
    "relation = rels.relation(relata)"
   ]
  },
  {
   "cell_type": "code",
   "execution_count": 144,
   "id": "cf730b01-4cd2-44e6-904b-eb12cdaad574",
   "metadata": {},
   "outputs": [
    {
     "name": "stdout",
     "output_type": "stream",
     "text": [
      "[[nan, 1, nan, nan]] [[nan, nan, 0, nan]]\n"
     ]
    },
    {
     "data": {
      "text/plain": [
       "[]"
      ]
     },
     "execution_count": 144,
     "metadata": {},
     "output_type": "execute_result"
    }
   ],
   "source": [
    "list(relata.congruent_overlap())\n"
   ]
  },
  {
   "cell_type": "code",
   "execution_count": 139,
   "id": "eb96bc8b-5418-4f5f-95c4-77cdf709cff5",
   "metadata": {
    "tags": []
   },
   "outputs": [
    {
     "data": {
      "text/plain": [
       "array([[1]])"
      ]
     },
     "execution_count": 139,
     "metadata": {},
     "output_type": "execute_result"
    }
   ],
   "source": [
    "ces[3].maximal_state"
   ]
  },
  {
   "cell_type": "code",
   "execution_count": 140,
   "id": "7795b581-b270-495e-ac54-20d1b228b21c",
   "metadata": {},
   "outputs": [
    {
     "data": {
      "text/plain": [
       "{0}"
      ]
     },
     "execution_count": 140,
     "metadata": {},
     "output_type": "execute_result"
    }
   ],
   "source": [
    "rels.congruent_nodes([(0,1), (0,0)])"
   ]
  },
  {
   "cell_type": "code",
   "execution_count": 141,
   "id": "9416c8da-4d86-44e0-a419-4aa577ce9993",
   "metadata": {},
   "outputs": [
    {
     "name": "stdout",
     "output_type": "stream",
     "text": [
      "((1,), (0,))\n"
     ]
    }
   ],
   "source": [
    "relata_states = [[(1,),],[(0,), ]]\n",
    "\n",
    "from itertools import product \n",
    "for state_set in product(*[[tuple(s) for s in relatum_state] for relatum_state in relata_states]):\n",
    "    print(state_set)"
   ]
  },
  {
   "cell_type": "code",
   "execution_count": 122,
   "id": "47e2025c-e846-46d0-8c95-aed409974a87",
   "metadata": {},
   "outputs": [
    {
     "name": "stdout",
     "output_type": "stream",
     "text": [
      "{0}\n"
     ]
    }
   ],
   "source": [
    "\n",
    "for state_set in product(*[[tuple(s) for s in relatum.maximal_state] for relatum in relata]):\n",
    "    print(rels.congruent_nodes(state_set))"
   ]
  },
  {
   "cell_type": "code",
   "execution_count": 69,
   "id": "4fce64f9-d7d5-47ea-86cb-a50a056466d1",
   "metadata": {},
   "outputs": [
    {
     "data": {
      "text/plain": [
       "[[[0]], [[0]]]"
      ]
     },
     "execution_count": 69,
     "metadata": {},
     "output_type": "execute_result"
    }
   ],
   "source": [
    "states"
   ]
  },
  {
   "cell_type": "code",
   "execution_count": 44,
   "id": "5dc762d6-189d-4ac4-97a5-839c85d7fedb",
   "metadata": {},
   "outputs": [],
   "source": [
    "overlap = relata.overlap()"
   ]
  },
  {
   "cell_type": "code",
   "execution_count": 125,
   "id": "547d8844-213a-4fbc-b530-d7e73b5847be",
   "metadata": {},
   "outputs": [
    {
     "data": {
      "text/plain": [
       "(0,)"
      ]
     },
     "execution_count": 125,
     "metadata": {},
     "output_type": "execute_result"
    }
   ],
   "source": [
    "relata[0].purview"
   ]
  },
  {
   "cell_type": "code",
   "execution_count": 56,
   "id": "2bcb7c91-fc79-4969-aec7-c72ff41ceb85",
   "metadata": {},
   "outputs": [
    {
     "data": {
      "text/plain": [
       "[([[0]],), ([[0]],)]"
      ]
     },
     "execution_count": 56,
     "metadata": {},
     "output_type": "execute_result"
    }
   ],
   "source": [
    "list(product([[list(s) for s in relatum.maximal_state] for relatum in relata]))"
   ]
  },
  {
   "cell_type": "code",
   "execution_count": 128,
   "id": "dee899f8-7246-4b58-a795-bca645c2d15b",
   "metadata": {},
   "outputs": [
    {
     "ename": "NameError",
     "evalue": "name 'self' is not defined",
     "output_type": "error",
     "traceback": [
      "\u001b[0;31m---------------------------------------------------------------------------\u001b[0m",
      "\u001b[0;31mNameError\u001b[0m                                 Traceback (most recent call last)",
      "\u001b[0;32m/tmp/ipykernel_3455537/2692047863.py\u001b[0m in \u001b[0;36m<module>\u001b[0;34m\u001b[0m\n\u001b[1;32m      6\u001b[0m         \u001b[0;32mfor\u001b[0m \u001b[0mi\u001b[0m \u001b[0;32min\u001b[0m \u001b[0mrelatum\u001b[0m\u001b[0;34m.\u001b[0m\u001b[0msubsystem\u001b[0m\u001b[0;34m.\u001b[0m\u001b[0mnode_indices\u001b[0m\u001b[0;34m\u001b[0m\u001b[0;34m\u001b[0m\u001b[0m\n\u001b[1;32m      7\u001b[0m     ]\n\u001b[0;32m----> 8\u001b[0;31m     \u001b[0;32mfor\u001b[0m \u001b[0mrelatum\u001b[0m \u001b[0;32min\u001b[0m \u001b[0mself\u001b[0m\u001b[0;34m\u001b[0m\u001b[0;34m\u001b[0m\u001b[0m\n\u001b[0m\u001b[1;32m      9\u001b[0m ]\n\u001b[1;32m     10\u001b[0m \u001b[0;34m\u001b[0m\u001b[0m\n",
      "\u001b[0;31mNameError\u001b[0m: name 'self' is not defined"
     ]
    }
   ],
   "source": [
    "states = [\n",
    "    [\n",
    "        np.nan\n",
    "        if i not in relatum.purview\n",
    "        else relatum.maximal_state[relatum.purview.index(i)]\n",
    "        for i in relatum.subsystem.node_indices\n",
    "    ]\n",
    "    for relatum in self\n",
    "]\n",
    "\n",
    "for state_set in product(*states):  # relatum.maximal_state for relatum in self)\n",
    "    # Get the nodes that have the same state in every maximal state\n",
    "    congruent = congruent_nodes(state_set)\n",
    "    # Find the largest congruent subset of the full overlap\n",
    "    intersection = set.intersection(overlap, congruent)\n",
    "    if intersection:\n",
    "        yield intersection"
   ]
  },
  {
   "cell_type": "code",
   "execution_count": 129,
   "id": "381a405d-b44d-4493-ba6d-82c0429061d6",
   "metadata": {},
   "outputs": [],
   "source": []
  },
  {
   "cell_type": "code",
   "execution_count": 61,
   "id": "aa07528c-a48c-4a45-88cb-45417fc3d9a7",
   "metadata": {},
   "outputs": [],
   "source": [
    "import itertools\n",
    "import numpy as np\n",
    "\n",
    "def filter_ces(subsystem, ces, compositional_state):\n",
    "\n",
    "    # first separate the ces into mices and define the directions\n",
    "    c = pyphi.direction.Direction.CAUSE\n",
    "    e = pyphi.direction.Direction.EFFECT\n",
    "\n",
    "    # next we run through all the mices and append any mice that has a state corresponding to the compositional state\n",
    "    mices_with_correct_state = dict()#compositional_state.copy()\n",
    "    for mice in ces:\n",
    "        if tuple(mice.maximal_state[0])==compositional_state[mice.direction][mice.purview]:\n",
    "            if not (mice.direction,mice.purview) in mices_with_correct_state.keys():\n",
    "                mices_with_correct_state[(mice.direction,mice.purview)] = [mice]\n",
    "            else:\n",
    "                mices_with_correct_state[(mice.direction,mice.purview)].append(mice)\n",
    "\n",
    "    all_cess = list(itertools.product(*mices_with_correct_state.values()))\n",
    "\n",
    "    max_ces = []\n",
    "    for ces in all_cess:\n",
    "        # next we find the set of purviews (congruent with the compositional state) specified by the system\n",
    "        cause_purviews = set(\n",
    "            [mice.purview for mice in ces if mice.direction == c]\n",
    "        )\n",
    "        effect_purviews = set(\n",
    "            [mice.purview for mice in ces if mice.direction == e]\n",
    "        )\n",
    "\n",
    "        # the following two loops do the filtering, and are identical except the first does cause and the other effect\n",
    "        # If the same purview is specified by multiple mechinisms, we only keep the one with max phi\n",
    "        causes = []\n",
    "        for purview in cause_purviews:\n",
    "            mices = list(\n",
    "                filter(\n",
    "                    lambda mice: mice.direction == c and mice.purview == purview,\n",
    "                    ces,\n",
    "                )\n",
    "            )\n",
    "            causes.append(mices[np.argmax([mice.phi for mice in mices])])\n",
    "\n",
    "        effects = []\n",
    "        for purview in effect_purviews:\n",
    "            mices = list(\n",
    "                filter(\n",
    "                    lambda mice: mice.direction == e and mice.purview == purview,\n",
    "                    ces,\n",
    "                )\n",
    "            )\n",
    "            effects.append(mices[np.argmax([mice.phi for mice in mices])])\n",
    "\n",
    "        # remove any unlinked mice\n",
    "        causeeffect_mechanisms = set([cause.mechanism for cause in causes]).intersection(set([effect.mechanism for effect in effects]))\n",
    "        causeeffects = causes+effects\n",
    "        filtered_ces = [mice for mice in causeeffects if mice.mechanism in causeeffect_mechanisms]\n",
    "        max_ces.append(compute.get_maximal_ces(subsystem, ces=pyphi.models.CauseEffectStructure(filtered_ces), max_k=3))\n",
    "    \n",
    "        \n",
    "    return max_ces\n"
   ]
  },
  {
   "cell_type": "code",
   "execution_count": 62,
   "id": "9c6c81b8-5e8e-42f2-9cb7-34eff0b13bc9",
   "metadata": {},
   "outputs": [
    {
     "data": {
      "application/vnd.jupyter.widget-view+json": {
       "model_id": "eb0a05b21af24e50a4358119b8340def",
       "version_major": 2,
       "version_minor": 0
      },
      "text/plain": [
       "  0%|          | 0/64 [00:00<?, ?it/s]"
      ]
     },
     "metadata": {},
     "output_type": "display_data"
    }
   ],
   "source": [
    "filtered = [filter_ces(subsystem, ces, compositional_state) for compositional_state in tqdm(all_compositional_states)]"
   ]
  },
  {
   "cell_type": "code",
   "execution_count": 70,
   "id": "38cca839-7d67-44c8-b3a2-508c0bcb479e",
   "metadata": {
    "tags": []
   },
   "outputs": [
    {
     "data": {
      "text/plain": [
       "(22, 72, 8, 12)"
      ]
     },
     "execution_count": 70,
     "metadata": {},
     "output_type": "execute_result"
    }
   ],
   "source": [
    "a = [len(m['relations']) for f in filtered for m in f]\n",
    "b = [len(m['ces']) for f in filtered for m in f]\n",
    "c = [len(m['ces']) for f in filtered for m in f]\n",
    "min(a),max(a),min(c),max(c)"
   ]
  },
  {
   "cell_type": "code",
   "execution_count": 14,
   "id": "1afb1afc-8e98-477a-b015-5608d8a31c86",
   "metadata": {},
   "outputs": [],
   "source": [
    "a = filter_ces(ces, compositional_state)"
   ]
  },
  {
   "cell_type": "code",
   "execution_count": 26,
   "id": "fbc7a9c5-d160-4221-8c0b-7ee9c03b3af5",
   "metadata": {
    "tags": []
   },
   "outputs": [
    {
     "data": {
      "application/vnd.jupyter.widget-view+json": {
       "model_id": "278e24c88b644401bc22ef5be9fd882f",
       "version_major": 2,
       "version_minor": 0
      },
      "text/plain": [
       "  0%|          | 0/720 [00:00<?, ?it/s]"
      ]
     },
     "metadata": {},
     "output_type": "display_data"
    }
   ],
   "source": [
    "cs = filter_ces(ces, compositional_state)\n",
    "m = [compute.get_maximal_ces(subsystem, ces=a, max_k=3) for a in tqdm(cs)]"
   ]
  },
  {
   "cell_type": "code",
   "execution_count": 22,
   "id": "6658e35b-fb7f-4e33-b518-8e565fa3c1b6",
   "metadata": {},
   "outputs": [],
   "source": [
    "phis = [ma['big phi'] for ma in m]"
   ]
  },
  {
   "cell_type": "code",
   "execution_count": 27,
   "id": "3712df32-6509-4880-a9d7-a6ad83d45121",
   "metadata": {},
   "outputs": [],
   "source": [
    "# next we run through all the mices and append any mice that has a state corresponding to the compositional state\n",
    "mices_with_correct_state = dict()#compositional_state.copy()\n",
    "for mice in ces:\n",
    "    if not (mice.direction,mice.purview) in mices_with_correct_state.keys():\n",
    "        mices_with_correct_state[(mice.direction,mice.purview)] = [mice]\n",
    "    else:\n",
    "        mices_with_correct_state[(mice.direction,mice.purview)].append(mice)\n",
    "\n",
    "all_cess = list(itertools.product(*mices_with_correct_state.values()))"
   ]
  },
  {
   "cell_type": "code",
   "execution_count": 46,
   "id": "ed63e0df-2df6-47a2-b1ef-8f6aae7af82d",
   "metadata": {},
   "outputs": [
    {
     "name": "stdout",
     "output_type": "stream",
     "text": [
      "Cause over ['A']: 1 conflicts\n",
      "Effect over ['A']: 1 conflicts\n",
      "Cause over ['B']: 2 conflicts\n",
      "Effect over ['B', 'D']: 2 conflicts\n",
      "Cause over ['C']: 1 conflicts\n",
      "Effect over ['C']: 1 conflicts\n",
      "Cause over ['A', 'B', 'C']: 6 conflicts\n",
      "Effect over ['D']: 6 conflicts\n",
      "Cause over ['A', 'B']: 3 conflicts\n",
      "Effect over ['A', 'B', 'D']: 1 conflicts\n",
      "Effect over ['B']: 1 conflicts\n",
      "Cause over ['B', 'C']: 2 conflicts\n",
      "Effect over ['B', 'C', 'D']: 1 conflicts\n",
      "Effect over ['A', 'C']: 1 conflicts\n",
      "Effect over ['A', 'D']: 1 conflicts\n",
      "Effect over ['C', 'D']: 1 conflicts\n"
     ]
    }
   ],
   "source": [
    "for c,mices in mices_with_correct_state.items():\n",
    "    ce = 'Cause over ' if c[0]==pyphi.direction.Direction.CAUSE else 'Effect over '\n",
    "    pp= str([subsystem.node_labels[i] for i in c[1]])\n",
    "    print(ce+pp+f': {len(mices)} conflicts')"
   ]
  },
  {
   "cell_type": "code",
   "execution_count": 49,
   "id": "8885b6e0-570f-409c-9cec-34e4d1289e51",
   "metadata": {},
   "outputs": [
    {
     "data": {
      "text/plain": [
       "64"
      ]
     },
     "execution_count": 49,
     "metadata": {},
     "output_type": "execute_result"
    }
   ],
   "source": [
    "len(all_compositional_states)"
   ]
  },
  {
   "cell_type": "code",
   "execution_count": 40,
   "id": "b47ecaf3-c3a1-4c78-af77-daabbd2d2c23",
   "metadata": {},
   "outputs": [
    {
     "name": "stdout",
     "output_type": "stream",
     "text": [
      "> \u001b[0;32m/tmp/ipykernel_500001/2721758718.py\u001b[0m(4)\u001b[0;36m<module>\u001b[0;34m()\u001b[0m\n",
      "\u001b[0;32m      1 \u001b[0;31m\u001b[0;32mfor\u001b[0m \u001b[0mc\u001b[0m\u001b[0;34m,\u001b[0m\u001b[0mmices\u001b[0m \u001b[0;32min\u001b[0m \u001b[0mmices_with_correct_state\u001b[0m\u001b[0;34m.\u001b[0m\u001b[0mitems\u001b[0m\u001b[0;34m(\u001b[0m\u001b[0;34m)\u001b[0m\u001b[0;34m:\u001b[0m\u001b[0;34m\u001b[0m\u001b[0;34m\u001b[0m\u001b[0m\n",
      "\u001b[0m\u001b[0;32m      2 \u001b[0;31m    \u001b[0mce\u001b[0m \u001b[0;34m=\u001b[0m \u001b[0;34m'Cause over '\u001b[0m \u001b[0;32mif\u001b[0m \u001b[0mc\u001b[0m\u001b[0;34m[\u001b[0m\u001b[0;36m0\u001b[0m\u001b[0;34m]\u001b[0m\u001b[0;34m==\u001b[0m\u001b[0mpyphi\u001b[0m\u001b[0;34m.\u001b[0m\u001b[0mdirection\u001b[0m\u001b[0;34m.\u001b[0m\u001b[0mDirection\u001b[0m\u001b[0;34m.\u001b[0m\u001b[0mCAUSE\u001b[0m \u001b[0;32melse\u001b[0m \u001b[0;34m'Effect over '\u001b[0m\u001b[0;34m\u001b[0m\u001b[0;34m\u001b[0m\u001b[0m\n",
      "\u001b[0m\u001b[0;32m      3 \u001b[0;31m    \u001b[0mpp\u001b[0m\u001b[0;34m=\u001b[0m \u001b[0;34m[\u001b[0m\u001b[0msubsystem\u001b[0m\u001b[0;34m.\u001b[0m\u001b[0mnode_labels\u001b[0m\u001b[0;34m[\u001b[0m\u001b[0mi\u001b[0m\u001b[0;34m]\u001b[0m \u001b[0;32mfor\u001b[0m \u001b[0mi\u001b[0m \u001b[0;32min\u001b[0m \u001b[0mc\u001b[0m\u001b[0;34m[\u001b[0m\u001b[0;36m1\u001b[0m\u001b[0;34m]\u001b[0m\u001b[0;34m]\u001b[0m\u001b[0;34m\u001b[0m\u001b[0;34m\u001b[0m\u001b[0m\n",
      "\u001b[0m\u001b[0;32m----> 4 \u001b[0;31m    \u001b[0mprint\u001b[0m\u001b[0;34m(\u001b[0m\u001b[0;34m[\u001b[0m\u001b[0mc\u001b[0m\u001b[0;34m+\u001b[0m\u001b[0mp\u001b[0m\u001b[0;34m]\u001b[0m\u001b[0;34m+\u001b[0m\u001b[0;34mf': {len(mices)} conflicts'\u001b[0m\u001b[0;34m)\u001b[0m\u001b[0;34m\u001b[0m\u001b[0;34m\u001b[0m\u001b[0m\n",
      "\u001b[0m\n"
     ]
    },
    {
     "name": "stdin",
     "output_type": "stream",
     "text": [
      "ipdb>  pp\n"
     ]
    },
    {
     "name": "stdout",
     "output_type": "stream",
     "text": [
      "*** SyntaxError: unexpected EOF while parsing\n"
     ]
    },
    {
     "name": "stdin",
     "output_type": "stream",
     "text": [
      "ipdb>  n\n"
     ]
    }
   ],
   "source": [
    "%debug"
   ]
  },
  {
   "cell_type": "code",
   "execution_count": 25,
   "id": "b1f74927-4a20-4bf1-b734-d6d349513c0b",
   "metadata": {
    "collapsed": true,
    "jupyter": {
     "outputs_hidden": true
    },
    "tags": []
   },
   "outputs": [
    {
     "data": {
      "text/plain": [
       "{'ces': ════════════════════════════════\n",
       " Cause-effect structure (12 concepts)\n",
       " ════════════════════════════════\n",
       "   Maximally-irreducible cause  \n",
       "     φ = 0.486034  \n",
       "     Mechanism: [A]  \n",
       "     Purview = [A]  \n",
       "     State = None  \n",
       "     Direction: CAUSE  \n",
       "   Maximally-irreducible effect  \n",
       "     φ = 0.62734  \n",
       "     Mechanism: [A]  \n",
       "     Purview = [A]  \n",
       "     State = None  \n",
       "     Direction: EFFECT  \n",
       "   Maximally-irreducible cause  \n",
       "     φ = 0.057655  \n",
       "     Mechanism: [B]  \n",
       "     Purview = [B]  \n",
       "     State = None  \n",
       "     Direction: CAUSE  \n",
       "   Maximally-irreducible effect  \n",
       "     φ = 0.256092  \n",
       "     Mechanism: [B]  \n",
       "     Purview = [B, D]  \n",
       "     State = None  \n",
       "     Direction: EFFECT  \n",
       "   Maximally-irreducible cause  \n",
       "     φ = 0.486034  \n",
       "     Mechanism: [C]  \n",
       "     Purview = [C]  \n",
       "     State = None  \n",
       "     Direction: CAUSE  \n",
       "   Maximally-irreducible effect  \n",
       "     φ = 0.62734  \n",
       "     Mechanism: [C]  \n",
       "     Purview = [C]  \n",
       "     State = None  \n",
       "     Direction: EFFECT  \n",
       "   Maximally-irreducible cause  \n",
       "     φ = 0.466484  \n",
       "     Mechanism: [D]  \n",
       "     Purview = [A, B, C]  \n",
       "     State = None  \n",
       "     Direction: CAUSE  \n",
       "   Maximally-irreducible effect  \n",
       "     φ = 0.011332  \n",
       "     Mechanism: [D]  \n",
       "     Purview = [D]  \n",
       "     State = None  \n",
       "     Direction: EFFECT  \n",
       "   Maximally-irreducible cause  \n",
       "     φ = 0.067281  \n",
       "     Mechanism: [A, B]  \n",
       "     Purview = [A, B]  \n",
       "     State = None  \n",
       "     Direction: CAUSE  \n",
       "   Maximally-irreducible effect  \n",
       "     φ = 0.020768  \n",
       "     Mechanism: [A, B]  \n",
       "     Purview = [A, B, D]  \n",
       "     State = None  \n",
       "     Direction: EFFECT  \n",
       "   Maximally-irreducible cause  \n",
       "     φ = 0.067281  \n",
       "     Mechanism: [B, C]  \n",
       "     Purview = [B, C]  \n",
       "     State = None  \n",
       "     Direction: CAUSE  \n",
       "   Maximally-irreducible effect  \n",
       "     φ = 0.020768  \n",
       "     Mechanism: [B, C]  \n",
       "     Purview = [B, C, D]  \n",
       "     State = None  \n",
       "     Direction: EFFECT  ,\n",
       " 'relations': [Relation([(0,), (0,)], (0,), 0.4860339134877138),\n",
       "  Relation([(0,), (3,)], (0,), 0.32123416294236457),\n",
       "  Relation([(0,), (0, 1)], (0,), 0.1327372860216073),\n",
       "  Relation([(0,), (0, 1)], (0,), 0.30529833345831253),\n",
       "  Relation([(0,), (3,)], (0,), 0.32123416294236457),\n",
       "  Relation([(0,), (0, 1)], (0,), 0.1327372860216073),\n",
       "  Relation([(0,), (0, 1)], (0,), 0.30529833345831253),\n",
       "  Relation([(1,), (1,)], (1,), 0.05765459580548524),\n",
       "  Relation([(1,), (3,)], (1,), 0.05765459580548524),\n",
       "  Relation([(1,), (0, 1)], (1,), 0.04988147873761694),\n",
       "  Relation([(1,), (1, 2)], (1,), 0.04988147873761694),\n",
       "  Relation([(1,), (3,)], (1,), 0.07872985773880053),\n",
       "  Relation([(1,), (0, 1)], (3,), 0.1655539337975907),\n",
       "  Relation([(1,), (1, 2)], (3,), 0.1655539337975907),\n",
       "  Relation([(2,), (2,)], (2,), 0.48603391348771363),\n",
       "  Relation([(2,), (3,)], (2,), 0.32123416294236457),\n",
       "  Relation([(2,), (1, 2)], (2,), 0.1327372860216071),\n",
       "  Relation([(2,), (1, 2)], (2,), 0.30529833345831253),\n",
       "  Relation([(2,), (3,)], (2,), 0.32123416294236457),\n",
       "  Relation([(2,), (1, 2)], (2,), 0.1327372860216071),\n",
       "  Relation([(2,), (1, 2)], (2,), 0.30529833345831253),\n",
       "  Relation([(3,), (0, 1)], (0,), 0.1327372860216073),\n",
       "  Relation([(3,), (0, 1)], (0, 1), 0.3328388960153104),\n",
       "  Relation([(3,), (1, 2)], (2,), 0.1327372860216071),\n",
       "  Relation([(3,), (1, 2)], (1, 2), 0.3328388960153104),\n",
       "  Relation([(0, 1), (0, 1)], (0,), 0.1327372860216073),\n",
       "  Relation([(0, 1), (1, 2)], (1,), 0.057330556977721533),\n",
       "  Relation([(0, 1), (1, 2)], (3,), 0.1655539337975907),\n",
       "  Relation([(1, 2), (1, 2)], (2,), 0.1327372860216071),\n",
       "  Relation([(0,), (0,), (3,)], (0,), 0.32123416294236457),\n",
       "  Relation([(0,), (0,), (0, 1)], (0,), 0.1327372860216073),\n",
       "  Relation([(0,), (0,), (0, 1)], (0,), 0.30529833345831253),\n",
       "  Relation([(0,), (3,), (0, 1)], (0,), 0.1327372860216073),\n",
       "  Relation([(0,), (3,), (0, 1)], (0,), 0.30529833345831253),\n",
       "  Relation([(0,), (0, 1), (0, 1)], (0,), 0.1327372860216073),\n",
       "  Relation([(0,), (3,), (0, 1)], (0,), 0.1327372860216073),\n",
       "  Relation([(0,), (3,), (0, 1)], (0,), 0.30529833345831253),\n",
       "  Relation([(0,), (0, 1), (0, 1)], (0,), 0.1327372860216073),\n",
       "  Relation([(1,), (1,), (3,)], (1,), 0.05765459580548524),\n",
       "  Relation([(1,), (1,), (0, 1)], (1,), 0.04988147873761694),\n",
       "  Relation([(1,), (1,), (1, 2)], (1,), 0.04988147873761694),\n",
       "  Relation([(1,), (3,), (0, 1)], (1,), 0.04988147873761694),\n",
       "  Relation([(1,), (3,), (1, 2)], (1,), 0.04988147873761694),\n",
       "  Relation([(1,), (0, 1), (1, 2)], (1,), 0.04988147873761694),\n",
       "  Relation([(1,), (3,), (0, 1)], (1,), 0.04988147873761694),\n",
       "  Relation([(1,), (3,), (1, 2)], (1,), 0.04988147873761694),\n",
       "  Relation([(1,), (0, 1), (1, 2)], (3,), 0.1655539337975907),\n",
       "  Relation([(2,), (2,), (3,)], (2,), 0.32123416294236457),\n",
       "  Relation([(2,), (2,), (1, 2)], (2,), 0.1327372860216071),\n",
       "  Relation([(2,), (2,), (1, 2)], (2,), 0.30529833345831253),\n",
       "  Relation([(2,), (3,), (1, 2)], (2,), 0.1327372860216071),\n",
       "  Relation([(2,), (3,), (1, 2)], (2,), 0.30529833345831253),\n",
       "  Relation([(2,), (1, 2), (1, 2)], (2,), 0.1327372860216071),\n",
       "  Relation([(2,), (3,), (1, 2)], (2,), 0.1327372860216071),\n",
       "  Relation([(2,), (3,), (1, 2)], (2,), 0.30529833345831253),\n",
       "  Relation([(2,), (1, 2), (1, 2)], (2,), 0.1327372860216071),\n",
       "  Relation([(3,), (0, 1), (0, 1)], (0,), 0.1327372860216073),\n",
       "  Relation([(3,), (0, 1), (1, 2)], (1,), 0.04988147873761694),\n",
       "  Relation([(3,), (1, 2), (1, 2)], (2,), 0.1327372860216071)],\n",
       " 'compositional_state': {<Direction.CAUSE: 0>: {(0,): (0,),\n",
       "   (1,): (1,),\n",
       "   (2,): (0,),\n",
       "   (0, 1, 2): (0, 1, 0),\n",
       "   (0, 1): (0, 0),\n",
       "   (1, 2): (0, 0)},\n",
       "  <Direction.EFFECT: 1>: {(0,): (0,),\n",
       "   (1, 3): (1, 0),\n",
       "   (2,): (0,),\n",
       "   (3,): (1,),\n",
       "   (0, 1, 3): (0, 1, 0),\n",
       "   (1, 2, 3): (1, 0, 0)}},\n",
       " 'big phi': 0.0,\n",
       " 'MIP': (((0, 1, 2), (3,)), (0, 1, 2), (3,), <Direction.CAUSE: 0>)}"
      ]
     },
     "execution_count": 25,
     "metadata": {},
     "output_type": "execute_result"
    }
   ],
   "source": [
    "compute.get_maximal_ces(subsystem, ces=a[0], max_k=3)"
   ]
  },
  {
   "cell_type": "code",
   "execution_count": null,
   "id": "22fee776-a544-4443-8836-32ab2e30439d",
   "metadata": {},
   "outputs": [],
   "source": []
  }
 ],
 "metadata": {
  "kernelspec": {
   "display_name": "Python 3 (ipykernel)",
   "language": "python",
   "name": "python3"
  },
  "language_info": {
   "codemirror_mode": {
    "name": "ipython",
    "version": 3
   },
   "file_extension": ".py",
   "mimetype": "text/x-python",
   "name": "python",
   "nbconvert_exporter": "python",
   "pygments_lexer": "ipython3",
   "version": "3.9.7"
  }
 },
 "nbformat": 4,
 "nbformat_minor": 5
}
