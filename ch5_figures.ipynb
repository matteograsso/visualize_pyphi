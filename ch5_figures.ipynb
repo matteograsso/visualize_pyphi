{
 "cells": [
  {
   "cell_type": "code",
   "execution_count": 1,
   "id": "ab300111-a4cf-4f4f-97f2-ff2f42bc33ac",
   "metadata": {},
   "outputs": [],
   "source": [
    "%load_ext autoreload\n",
    "%autoreload 2\n",
    "%load_ext blackcellmagic"
   ]
  },
  {
   "cell_type": "code",
   "execution_count": 2,
   "id": "0d295eee-e41a-4406-9a3a-789b9557cba7",
   "metadata": {},
   "outputs": [
    {
     "data": {
      "text/html": [
       "<style>.container { width:80% !important; }</style>"
      ],
      "text/plain": [
       "<IPython.core.display.HTML object>"
      ]
     },
     "metadata": {},
     "output_type": "display_data"
    }
   ],
   "source": [
    "from IPython.core.display import display, HTML\n",
    "\n",
    "display(HTML(\"<style>.container { width:80% !important; }</style>\"))"
   ]
  },
  {
   "cell_type": "code",
   "execution_count": 3,
   "id": "0b17571a-397e-4132-909c-ac850fccc292",
   "metadata": {
    "tags": []
   },
   "outputs": [],
   "source": [
    "from visualize_pyphi import *\n",
    "from visualize_pyphi import utils\n",
    "from visualize_pyphi import compute\n",
    "import pickle as pkl\n",
    "from tqdm.auto import tqdm\n",
    "import numpy as np"
   ]
  },
  {
   "cell_type": "code",
   "execution_count": 4,
   "id": "6e3c3c4d-934f-4034-b77f-6a9e5246a040",
   "metadata": {},
   "outputs": [
    {
     "data": {
      "application/vnd.jupyter.widget-view+json": {
       "model_id": "7ec2cf5939964c68adb4603e74a57259",
       "version_major": 2,
       "version_minor": 0
      },
      "text/plain": [
       "  0%|          | 0/64 [00:00<?, ?it/s]"
      ]
     },
     "metadata": {},
     "output_type": "display_data"
    }
   ],
   "source": [
    "# Chapter 5 network\n",
    "\n",
    "net_name = \"ch5\"\n",
    "n=6\n",
    "\n",
    "# system parameters\n",
    "strong = 1\n",
    "medium = 0.2\n",
    "weak = 0.04\n",
    "none = 0\n",
    "\n",
    "# input output\n",
    "ff = 0.05\n",
    "fb = 0.005\n",
    "\n",
    "# naka rushdon params\n",
    "th = 1 / 4\n",
    "exp = 5\n",
    "\n",
    "weights = np.array(\n",
    "    [\n",
    "        [strong, none, weak, medium, 0, 0],\n",
    "        [medium, weak, none, strong, 0, 0],\n",
    "        [weak, strong, medium, none, 0, 0],\n",
    "        [none, medium, strong, weak, 0, 1],\n",
    "        [0, ff, 0, 0, 0, 0],\n",
    "        [0, 0, 0, fb, 0, 0],\n",
    "    ]\n",
    ")\n",
    "weights[:4,:4] /= weights[:4,:4].sum(1)\n",
    "\n",
    "node_labels = [\"A\", \"B\", \"C\", \"D\", \"I\", \"O\"]\n",
    "mech_func = [\"s\"] * n\n",
    "\n",
    "network = ng.get_net(\n",
    "    mech_func,\n",
    "    weights,\n",
    "    exp=exp,\n",
    "    th=th,\n",
    "    node_labels=node_labels,\n",
    "    network_name=net_name,\n",
    "    pickle_network=False,\n",
    ")"
   ]
  },
  {
   "cell_type": "markdown",
   "id": "f5a912d8-bfb1-4ae9-b582-8293b7b846dc",
   "metadata": {
    "tags": []
   },
   "source": [
    "# standard system"
   ]
  },
  {
   "cell_type": "code",
   "execution_count": 5,
   "id": "aa5942d4-3d22-4104-b426-14e0687a2afb",
   "metadata": {},
   "outputs": [
    {
     "name": "stderr",
     "output_type": "stream",
     "text": [
      "                                                                                                                        \r"
     ]
    },
    {
     "data": {
      "application/vnd.jupyter.widget-view+json": {
       "model_id": "b14025b1d2d147d088f42f0e8141b91a",
       "version_major": 2,
       "version_minor": 0
      },
      "text/plain": [
       "  0%|          | 0/432 [00:00<?, ?it/s]"
      ]
     },
     "metadata": {},
     "output_type": "display_data"
    },
    {
     "name": "stderr",
     "output_type": "stream",
     "text": [
      "[Parallel(n_jobs=120)]: Using backend MultiprocessingBackend with 120 concurrent workers.\n",
      "[Parallel(n_jobs=120)]: Done   2 tasks      | elapsed:    0.3s\n",
      "[Parallel(n_jobs=120)]: Done  25 tasks      | elapsed:    0.5s\n",
      "[Parallel(n_jobs=120)]: Done  48 tasks      | elapsed:    0.8s\n",
      "[Parallel(n_jobs=120)]: Done  73 tasks      | elapsed:    1.3s\n",
      "[Parallel(n_jobs=120)]: Done  98 tasks      | elapsed:    1.6s\n",
      "[Parallel(n_jobs=120)]: Done 125 tasks      | elapsed:    2.4s\n",
      "[Parallel(n_jobs=120)]: Done 152 tasks      | elapsed:    2.7s\n",
      "[Parallel(n_jobs=120)]: Done 181 tasks      | elapsed:    3.4s\n",
      "[Parallel(n_jobs=120)]: Done 237 out of 432 | elapsed:    4.1s remaining:    3.4s\n",
      "[Parallel(n_jobs=120)]: Done 281 out of 432 | elapsed:    5.0s remaining:    2.7s\n",
      "[Parallel(n_jobs=120)]: Done 325 out of 432 | elapsed:    5.5s remaining:    1.8s\n",
      "[Parallel(n_jobs=120)]: Done 369 out of 432 | elapsed:    6.4s remaining:    1.1s\n",
      "[Parallel(n_jobs=120)]: Done 413 out of 432 | elapsed:    6.9s remaining:    0.3s\n",
      "[Parallel(n_jobs=120)]: Done 432 out of 432 | elapsed:    7.1s finished\n"
     ]
    }
   ],
   "source": [
    "\n",
    "state = (0, 1, 0, 0, 1, 0)\n",
    "system = pyphi.Subsystem(network, state, nodes=(0, 1, 2, 3))\n",
    "\n",
    "ces = utils.flatten(\n",
    "    [[d.cause, d.effect] for d in pyphi.compute.ces(system, parallel=True)]\n",
    ")\n",
    "\n",
    "standard_ces = compute.filter_ces(system, ces, None, max_relations_k=3, parallel=True)\n"
   ]
  },
  {
   "cell_type": "code",
   "execution_count": 6,
   "id": "585fdad3-3612-456c-8074-8a485c88f3db",
   "metadata": {},
   "outputs": [],
   "source": [
    "ces = standard_ces[0]['ces']\n",
    "relations = standard_ces[0]['relations']"
   ]
  },
  {
   "cell_type": "markdown",
   "id": "c3df7f18-29c5-48f4-b60d-26e8b25896bd",
   "metadata": {},
   "source": [
    "# Plotting parameters"
   ]
  },
  {
   "cell_type": "code",
   "execution_count": null,
   "id": "ad5f96ba-a034-4d76-b95e-de7ec86e807d",
   "metadata": {
    "tags": []
   },
   "outputs": [],
   "source": []
  },
  {
   "cell_type": "markdown",
   "id": "007322a4-7a38-40c4-8903-4fab72ea26cc",
   "metadata": {
    "tags": []
   },
   "source": [
    "# Fig 1: the CES"
   ]
  },
  {
   "cell_type": "code",
   "execution_count": 247,
   "id": "2df14166-d29d-49be-a68e-09e99597c412",
   "metadata": {},
   "outputs": [
    {
     "data": {
      "application/vnd.jupyter.widget-view+json": {
       "model_id": "ef1aab7ac3f2468f90b4c7e129ad2c2b",
       "version_major": 2,
       "version_minor": 0
      },
      "text/plain": [
       "Computing edges:   0%|          | 0/73 [00:00<?, ?it/s]"
      ]
     },
     "metadata": {},
     "output_type": "display_data"
    },
    {
     "data": {
      "application/vnd.jupyter.widget-view+json": {
       "model_id": "cfbd0f8323ea40a698b15a90a9b2caa9",
       "version_major": 2,
       "version_minor": 0
      },
      "text/plain": [
       "Computing triangles:   0%|          | 0/136 [00:00<?, ?it/s]"
      ]
     },
     "metadata": {},
     "output_type": "display_data"
    }
   ],
   "source": [
    "fig = viz.plot_ces(\n",
    "    system,\n",
    "    ces,\n",
    "    relations,\n",
    "    \"figures/ch5/fig_1\",\n",
    "    show_legend=False\n",
    ")"
   ]
  },
  {
   "cell_type": "markdown",
   "id": "34299558-2bdb-487a-9909-71ef1d4ab028",
   "metadata": {},
   "source": [
    "# Fig 2: a distinction"
   ]
  },
  {
   "cell_type": "code",
   "execution_count": 262,
   "id": "c4d5d1a3-731d-4c35-81c3-fdb904738e2b",
   "metadata": {},
   "outputs": [
    {
     "data": {
      "application/vnd.jupyter.widget-view+json": {
       "model_id": "bc13df34a8444d3fb7f1d612d533212d",
       "version_major": 2,
       "version_minor": 0
      },
      "text/plain": [
       "Computing triangles:   0%|          | 0/136 [00:00<?, ?it/s]"
      ]
     },
     "metadata": {},
     "output_type": "display_data"
    },
    {
     "name": "stdout",
     "output_type": "stream",
     "text": [
      "Not redrawing base\n",
      "Not redrawing base\n"
     ]
    },
    {
     "data": {
      "application/vnd.jupyter.widget-view+json": {
       "model_id": "6dbdec91659643bb994af585b8f431b2",
       "version_major": 2,
       "version_minor": 0
      },
      "text/plain": [
       "Computing edges:   0%|          | 0/73 [00:00<?, ?it/s]"
      ]
     },
     "metadata": {},
     "output_type": "display_data"
    },
    {
     "data": {
      "application/vnd.jupyter.widget-view+json": {
       "model_id": "fa90f04c98694652a0ca620c9bbe58ca",
       "version_major": 2,
       "version_minor": 0
      },
      "text/plain": [
       "Computing triangles:   0%|          | 0/136 [00:00<?, ?it/s]"
      ]
     },
     "metadata": {},
     "output_type": "display_data"
    }
   ],
   "source": [
    "mechanism = (2,)\n",
    "\n",
    "plots.compound_distinction(\n",
    "    system,\n",
    "    ces,\n",
    "    relations,\n",
    "    mechanism,\n",
    "    'figures/ch5/fig_2',\n",
    ")\n",
    "    "
   ]
  },
  {
   "cell_type": "markdown",
   "id": "17006895-dc65-45f8-9f06-7fb6665b8b7e",
   "metadata": {},
   "source": [
    "# Fig 3: a relation"
   ]
  },
  {
   "cell_type": "code",
   "execution_count": 276,
   "id": "dc467b27-31fa-4d83-90b9-115be6036bf5",
   "metadata": {},
   "outputs": [
    {
     "data": {
      "application/vnd.jupyter.widget-view+json": {
       "model_id": "6036d40cae804f3b80e3990d7745fb0d",
       "version_major": 2,
       "version_minor": 0
      },
      "text/plain": [
       "Computing triangles:   0%|          | 0/136 [00:00<?, ?it/s]"
      ]
     },
     "metadata": {},
     "output_type": "display_data"
    },
    {
     "name": "stdout",
     "output_type": "stream",
     "text": [
      "Not redrawing base\n"
     ]
    },
    {
     "data": {
      "application/vnd.jupyter.widget-view+json": {
       "model_id": "59172a1b2225484abe9c71d20e3a5bee",
       "version_major": 2,
       "version_minor": 0
      },
      "text/plain": [
       "Computing edges:   0%|          | 0/1 [00:00<?, ?it/s]"
      ]
     },
     "metadata": {},
     "output_type": "display_data"
    },
    {
     "name": "stdout",
     "output_type": "stream",
     "text": [
      "Not redrawing base\n"
     ]
    },
    {
     "data": {
      "application/vnd.jupyter.widget-view+json": {
       "model_id": "74f3af3d48d9439988f3f04538d53b11",
       "version_major": 2,
       "version_minor": 0
      },
      "text/plain": [
       "Computing edges:   0%|          | 0/73 [00:00<?, ?it/s]"
      ]
     },
     "metadata": {},
     "output_type": "display_data"
    },
    {
     "data": {
      "application/vnd.jupyter.widget-view+json": {
       "model_id": "9da2e7523cb14b35a88dacf4230c308d",
       "version_major": 2,
       "version_minor": 0
      },
      "text/plain": [
       "Computing triangles:   0%|          | 0/136 [00:00<?, ?it/s]"
      ]
     },
     "metadata": {},
     "output_type": "display_data"
    }
   ],
   "source": [
    "mechanisms =  [(0,1,2,3)]\n",
    "\n",
    "plots.substructure(\n",
    "    system,\n",
    "    ces,\n",
    "    relations,\n",
    "    mechanisms,\n",
    "    'figures/ch5/fig_3',\n",
    ")"
   ]
  },
  {
   "cell_type": "markdown",
   "id": "cd25e307-1f70-444f-a6e0-bf0f083a5184",
   "metadata": {
    "tags": []
   },
   "source": [
    "# A compound distinction - AB\n",
    "This is the set of all the elementary distinctions specified by subsets of the units of a mechanism (Fig. vvv). For example, the units comprising the 2nd-order mechanism AB and associated elementary distinction AB also support 1st-order distinctions A and B. Together, they compose the compound distinction AB,A,B"
   ]
  },
  {
   "cell_type": "code",
   "execution_count": 278,
   "id": "7c2cab7b-e5bd-4830-8ba9-579baa6948d6",
   "metadata": {},
   "outputs": [
    {
     "data": {
      "application/vnd.jupyter.widget-view+json": {
       "model_id": "152a0ff7a9264538884fd6f8c6974788",
       "version_major": 2,
       "version_minor": 0
      },
      "text/plain": [
       "Computing triangles:   0%|          | 0/136 [00:00<?, ?it/s]"
      ]
     },
     "metadata": {},
     "output_type": "display_data"
    },
    {
     "name": "stdout",
     "output_type": "stream",
     "text": [
      "Not redrawing base\n"
     ]
    },
    {
     "data": {
      "application/vnd.jupyter.widget-view+json": {
       "model_id": "31593a14a27f4c0cb3ab6e158ce0a16a",
       "version_major": 2,
       "version_minor": 0
      },
      "text/plain": [
       "Computing edges:   0%|          | 0/5 [00:00<?, ?it/s]"
      ]
     },
     "metadata": {},
     "output_type": "display_data"
    },
    {
     "name": "stdout",
     "output_type": "stream",
     "text": [
      "Not redrawing base\n"
     ]
    },
    {
     "data": {
      "application/vnd.jupyter.widget-view+json": {
       "model_id": "49f33aaf1d1f44ce9f0a9e40755b5482",
       "version_major": 2,
       "version_minor": 0
      },
      "text/plain": [
       "Computing edges:   0%|          | 0/73 [00:00<?, ?it/s]"
      ]
     },
     "metadata": {},
     "output_type": "display_data"
    },
    {
     "data": {
      "application/vnd.jupyter.widget-view+json": {
       "model_id": "f499e20ad2bb4ee199d683113018bfbd",
       "version_major": 2,
       "version_minor": 0
      },
      "text/plain": [
       "Computing triangles:   0%|          | 0/136 [00:00<?, ?it/s]"
      ]
     },
     "metadata": {},
     "output_type": "display_data"
    }
   ],
   "source": [
    "mechanism = (2,3)\n",
    "\n",
    "plots.compound_distinction(\n",
    "    system,\n",
    "    ces,\n",
    "    relations,\n",
    "    mechanism,\n",
    "    'figures/ch5/compound_distinction',\n",
    ")\n",
    "    "
   ]
  },
  {
   "cell_type": "markdown",
   "id": "5f74b019-8378-4b3b-b4b9-649bff9d9221",
   "metadata": {},
   "source": [
    "# A compound relation"
   ]
  },
  {
   "cell_type": "code",
   "execution_count": 284,
   "id": "2d212b10-c865-49c6-999c-471f8ce598fc",
   "metadata": {},
   "outputs": [
    {
     "name": "stdout",
     "output_type": "stream",
     "text": [
      "[Relation(relata=(Cause[0,1],Effect[0]), purview=frozenset({0}), phi=0.2917970224605923), Relation(relata=(Cause[0],Effect[0]), purview=frozenset({0}), phi=0.4699230801943107), Relation(relata=(Cause[0,1],Cause[0]), purview=frozenset({0}), phi=0.29179702246059214), Relation(relata=(Cause[0,1],Cause[0],Effect[0]), purview=frozenset({0}), phi=0.2917970224605923)]\n",
      "[Relation(relata=(Effect[2,3],Effect[3]), purview=frozenset({2}), phi=0.6138218987083596), Relation(relata=(Cause[3],Effect[2]), purview=frozenset({1}), phi=0.46992308019431056), Relation(relata=(Cause[2,3],Cause[2]), purview=frozenset({3}), phi=0.1301369813101932), Relation(relata=(Effect[2,3],Cause[3]), purview=frozenset({1}), phi=0.46992308019431056), Relation(relata=(Effect[2,3],Effect[2]), purview=frozenset({1}), phi=0.673201593126027), Relation(relata=(Effect[2,3],Cause[3],Effect[2]), purview=frozenset({1}), phi=0.46992308019431056)]\n"
     ]
    },
    {
     "data": {
      "application/vnd.jupyter.widget-view+json": {
       "model_id": "4a12f1cd3c0e4899af80a60c90a84728",
       "version_major": 2,
       "version_minor": 0
      },
      "text/plain": [
       "Computing triangles:   0%|          | 0/136 [00:00<?, ?it/s]"
      ]
     },
     "metadata": {},
     "output_type": "display_data"
    },
    {
     "name": "stdout",
     "output_type": "stream",
     "text": [
      "Not redrawing base\n"
     ]
    },
    {
     "data": {
      "application/vnd.jupyter.widget-view+json": {
       "model_id": "8a7562616d9d4c87a45994cd9156831d",
       "version_major": 2,
       "version_minor": 0
      },
      "text/plain": [
       "Computing edges:   0%|          | 0/3 [00:00<?, ?it/s]"
      ]
     },
     "metadata": {},
     "output_type": "display_data"
    },
    {
     "data": {
      "application/vnd.jupyter.widget-view+json": {
       "model_id": "42ad782a150d43eabb291fd980891156",
       "version_major": 2,
       "version_minor": 0
      },
      "text/plain": [
       "Computing triangles:   0%|          | 0/1 [00:00<?, ?it/s]"
      ]
     },
     "metadata": {},
     "output_type": "display_data"
    },
    {
     "name": "stdout",
     "output_type": "stream",
     "text": [
      "Not redrawing base\n"
     ]
    },
    {
     "data": {
      "application/vnd.jupyter.widget-view+json": {
       "model_id": "00ff441c14574c2181830a2a93e5fac2",
       "version_major": 2,
       "version_minor": 0
      },
      "text/plain": [
       "Computing edges:   0%|          | 0/5 [00:00<?, ?it/s]"
      ]
     },
     "metadata": {},
     "output_type": "display_data"
    },
    {
     "data": {
      "application/vnd.jupyter.widget-view+json": {
       "model_id": "00f70d356b084d7e9c3a19e275827db6",
       "version_major": 2,
       "version_minor": 0
      },
      "text/plain": [
       "Computing triangles:   0%|          | 0/1 [00:00<?, ?it/s]"
      ]
     },
     "metadata": {},
     "output_type": "display_data"
    },
    {
     "name": "stdout",
     "output_type": "stream",
     "text": [
      "Not redrawing base\n"
     ]
    },
    {
     "data": {
      "application/vnd.jupyter.widget-view+json": {
       "model_id": "96eb033d16b0423a83d858d2ed1da04c",
       "version_major": 2,
       "version_minor": 0
      },
      "text/plain": [
       "Computing edges:   0%|          | 0/3 [00:00<?, ?it/s]"
      ]
     },
     "metadata": {},
     "output_type": "display_data"
    },
    {
     "data": {
      "application/vnd.jupyter.widget-view+json": {
       "model_id": "f5bc6587b35b4a8f88d7582bd4d3e92f",
       "version_major": 2,
       "version_minor": 0
      },
      "text/plain": [
       "Computing triangles:   0%|          | 0/1 [00:00<?, ?it/s]"
      ]
     },
     "metadata": {},
     "output_type": "display_data"
    }
   ],
   "source": [
    "mechanism1 = (0,1)\n",
    "mechanism2 = (2,3)\n",
    "\n",
    "plots.compound_relation(\n",
    "    system,\n",
    "    ces,\n",
    "    relations,\n",
    "    [mechanism1, mechanism2],\n",
    "    'figures/ch5/compound_relation',\n",
    ")"
   ]
  },
  {
   "cell_type": "markdown",
   "id": "897c1b74-710d-4bd5-b7f1-c3e1deeb01ef",
   "metadata": {},
   "source": [
    "# A mechanism context"
   ]
  },
  {
   "cell_type": "code",
   "execution_count": 286,
   "id": "51c5a280-f826-4f0b-9ac2-b3c1686909a4",
   "metadata": {},
   "outputs": [],
   "source": [
    "mechanism = (2,3)"
   ]
  },
  {
   "cell_type": "markdown",
   "id": "d5bfe446-565d-40b9-b865-26c0c7453444",
   "metadata": {
    "tags": []
   },
   "source": [
    "## mechanism Supertext"
   ]
  },
  {
   "cell_type": "code",
   "execution_count": 287,
   "id": "fd82a321-11e9-4660-86a0-3c70457f7fbb",
   "metadata": {
    "tags": []
   },
   "outputs": [
    {
     "data": {
      "text/html": [
       "<div>\n",
       "<style scoped>\n",
       "    .dataframe tbody tr th:only-of-type {\n",
       "        vertical-align: middle;\n",
       "    }\n",
       "\n",
       "    .dataframe tbody tr th {\n",
       "        vertical-align: top;\n",
       "    }\n",
       "\n",
       "    .dataframe thead th {\n",
       "        text-align: right;\n",
       "    }\n",
       "</style>\n",
       "<table border=\"1\" class=\"dataframe\">\n",
       "  <thead>\n",
       "    <tr style=\"text-align: right;\">\n",
       "      <th></th>\n",
       "      <th>mechanism</th>\n",
       "      <th>direction</th>\n",
       "      <th>purview</th>\n",
       "      <th>state</th>\n",
       "      <th>phi</th>\n",
       "    </tr>\n",
       "  </thead>\n",
       "  <tbody>\n",
       "    <tr>\n",
       "      <th>0</th>\n",
       "      <td>CD</td>\n",
       "      <td>CAUSE</td>\n",
       "      <td>BD</td>\n",
       "      <td>10</td>\n",
       "      <td>0.014019</td>\n",
       "    </tr>\n",
       "    <tr>\n",
       "      <th>1</th>\n",
       "      <td>CD</td>\n",
       "      <td>EFFECT</td>\n",
       "      <td>BC</td>\n",
       "      <td>00</td>\n",
       "      <td>0.002383</td>\n",
       "    </tr>\n",
       "    <tr>\n",
       "      <th>2</th>\n",
       "      <td>ABCD</td>\n",
       "      <td>CAUSE</td>\n",
       "      <td>ABCD</td>\n",
       "      <td>0110</td>\n",
       "      <td>0.023818</td>\n",
       "    </tr>\n",
       "    <tr>\n",
       "      <th>3</th>\n",
       "      <td>ABCD</td>\n",
       "      <td>EFFECT</td>\n",
       "      <td>ABCD</td>\n",
       "      <td>0001</td>\n",
       "      <td>0.001504</td>\n",
       "    </tr>\n",
       "  </tbody>\n",
       "</table>\n",
       "</div>"
      ],
      "text/plain": [
       "  mechanism direction purview state       phi\n",
       "0        CD     CAUSE      BD    10  0.014019\n",
       "1        CD    EFFECT      BC    00  0.002383\n",
       "2      ABCD     CAUSE    ABCD  0110  0.023818\n",
       "3      ABCD    EFFECT    ABCD  0001  0.001504"
      ]
     },
     "execution_count": 287,
     "metadata": {},
     "output_type": "execute_result"
    }
   ],
   "source": [
    "utils.sepces2df(compute.get_mechanism_supertext(ces, mechanism),system)"
   ]
  },
  {
   "cell_type": "markdown",
   "id": "c14aff61-6ec7-44b8-9df8-7f6142531c20",
   "metadata": {
    "tags": []
   },
   "source": [
    "## mechanism subtext"
   ]
  },
  {
   "cell_type": "code",
   "execution_count": 288,
   "id": "1fc1016a-2cdd-46bf-8463-c07f03339330",
   "metadata": {},
   "outputs": [
    {
     "data": {
      "text/html": [
       "<div>\n",
       "<style scoped>\n",
       "    .dataframe tbody tr th:only-of-type {\n",
       "        vertical-align: middle;\n",
       "    }\n",
       "\n",
       "    .dataframe tbody tr th {\n",
       "        vertical-align: top;\n",
       "    }\n",
       "\n",
       "    .dataframe thead th {\n",
       "        text-align: right;\n",
       "    }\n",
       "</style>\n",
       "<table border=\"1\" class=\"dataframe\">\n",
       "  <thead>\n",
       "    <tr style=\"text-align: right;\">\n",
       "      <th></th>\n",
       "      <th>mechanism</th>\n",
       "      <th>direction</th>\n",
       "      <th>purview</th>\n",
       "      <th>state</th>\n",
       "      <th>phi</th>\n",
       "    </tr>\n",
       "  </thead>\n",
       "  <tbody>\n",
       "    <tr>\n",
       "      <th>0</th>\n",
       "      <td>C</td>\n",
       "      <td>CAUSE</td>\n",
       "      <td>D</td>\n",
       "      <td>0</td>\n",
       "      <td>0.469923</td>\n",
       "    </tr>\n",
       "    <tr>\n",
       "      <th>1</th>\n",
       "      <td>C</td>\n",
       "      <td>EFFECT</td>\n",
       "      <td>B</td>\n",
       "      <td>0</td>\n",
       "      <td>0.673202</td>\n",
       "    </tr>\n",
       "    <tr>\n",
       "      <th>2</th>\n",
       "      <td>D</td>\n",
       "      <td>CAUSE</td>\n",
       "      <td>B</td>\n",
       "      <td>0</td>\n",
       "      <td>0.469923</td>\n",
       "    </tr>\n",
       "    <tr>\n",
       "      <th>3</th>\n",
       "      <td>D</td>\n",
       "      <td>EFFECT</td>\n",
       "      <td>C</td>\n",
       "      <td>0</td>\n",
       "      <td>0.613822</td>\n",
       "    </tr>\n",
       "    <tr>\n",
       "      <th>4</th>\n",
       "      <td>CD</td>\n",
       "      <td>CAUSE</td>\n",
       "      <td>BD</td>\n",
       "      <td>10</td>\n",
       "      <td>0.014019</td>\n",
       "    </tr>\n",
       "    <tr>\n",
       "      <th>5</th>\n",
       "      <td>CD</td>\n",
       "      <td>EFFECT</td>\n",
       "      <td>BC</td>\n",
       "      <td>00</td>\n",
       "      <td>0.002383</td>\n",
       "    </tr>\n",
       "  </tbody>\n",
       "</table>\n",
       "</div>"
      ],
      "text/plain": [
       "  mechanism direction purview state       phi\n",
       "0         C     CAUSE       D     0  0.469923\n",
       "1         C    EFFECT       B     0  0.673202\n",
       "2         D     CAUSE       B     0  0.469923\n",
       "3         D    EFFECT       C     0  0.613822\n",
       "4        CD     CAUSE      BD    10  0.014019\n",
       "5        CD    EFFECT      BC    00  0.002383"
      ]
     },
     "execution_count": 288,
     "metadata": {},
     "output_type": "execute_result"
    }
   ],
   "source": [
    "utils.sepces2df(compute.get_mechanism_subtext(ces, mechanism),system)"
   ]
  },
  {
   "cell_type": "markdown",
   "id": "5b5cc727-954a-4f1a-9ada-79d89594bc76",
   "metadata": {
    "tags": []
   },
   "source": [
    "## mechanism paratext"
   ]
  },
  {
   "cell_type": "code",
   "execution_count": 289,
   "id": "546a5dd0-e3a3-4c36-8ac9-4418d670b2e7",
   "metadata": {},
   "outputs": [
    {
     "data": {
      "text/html": [
       "<div>\n",
       "<style scoped>\n",
       "    .dataframe tbody tr th:only-of-type {\n",
       "        vertical-align: middle;\n",
       "    }\n",
       "\n",
       "    .dataframe tbody tr th {\n",
       "        vertical-align: top;\n",
       "    }\n",
       "\n",
       "    .dataframe thead th {\n",
       "        text-align: right;\n",
       "    }\n",
       "</style>\n",
       "<table border=\"1\" class=\"dataframe\">\n",
       "  <thead>\n",
       "    <tr style=\"text-align: right;\">\n",
       "      <th></th>\n",
       "      <th>mechanism</th>\n",
       "      <th>direction</th>\n",
       "      <th>purview</th>\n",
       "      <th>state</th>\n",
       "      <th>phi</th>\n",
       "    </tr>\n",
       "  </thead>\n",
       "  <tbody>\n",
       "    <tr>\n",
       "      <th>0</th>\n",
       "      <td>C</td>\n",
       "      <td>CAUSE</td>\n",
       "      <td>D</td>\n",
       "      <td>0</td>\n",
       "      <td>0.469923</td>\n",
       "    </tr>\n",
       "    <tr>\n",
       "      <th>1</th>\n",
       "      <td>C</td>\n",
       "      <td>EFFECT</td>\n",
       "      <td>B</td>\n",
       "      <td>0</td>\n",
       "      <td>0.673202</td>\n",
       "    </tr>\n",
       "    <tr>\n",
       "      <th>2</th>\n",
       "      <td>D</td>\n",
       "      <td>CAUSE</td>\n",
       "      <td>B</td>\n",
       "      <td>0</td>\n",
       "      <td>0.469923</td>\n",
       "    </tr>\n",
       "    <tr>\n",
       "      <th>3</th>\n",
       "      <td>D</td>\n",
       "      <td>EFFECT</td>\n",
       "      <td>C</td>\n",
       "      <td>0</td>\n",
       "      <td>0.613822</td>\n",
       "    </tr>\n",
       "    <tr>\n",
       "      <th>4</th>\n",
       "      <td>AC</td>\n",
       "      <td>CAUSE</td>\n",
       "      <td>AD</td>\n",
       "      <td>01</td>\n",
       "      <td>0.014019</td>\n",
       "    </tr>\n",
       "    <tr>\n",
       "      <th>5</th>\n",
       "      <td>AC</td>\n",
       "      <td>EFFECT</td>\n",
       "      <td>AC</td>\n",
       "      <td>00</td>\n",
       "      <td>0.017256</td>\n",
       "    </tr>\n",
       "    <tr>\n",
       "      <th>6</th>\n",
       "      <td>AD</td>\n",
       "      <td>CAUSE</td>\n",
       "      <td>AB</td>\n",
       "      <td>00</td>\n",
       "      <td>0.060151</td>\n",
       "    </tr>\n",
       "    <tr>\n",
       "      <th>7</th>\n",
       "      <td>AD</td>\n",
       "      <td>EFFECT</td>\n",
       "      <td>CD</td>\n",
       "      <td>00</td>\n",
       "      <td>0.017256</td>\n",
       "    </tr>\n",
       "    <tr>\n",
       "      <th>8</th>\n",
       "      <td>ABC</td>\n",
       "      <td>CAUSE</td>\n",
       "      <td>BCD</td>\n",
       "      <td>110</td>\n",
       "      <td>0.019073</td>\n",
       "    </tr>\n",
       "    <tr>\n",
       "      <th>9</th>\n",
       "      <td>ABC</td>\n",
       "      <td>EFFECT</td>\n",
       "      <td>ACD</td>\n",
       "      <td>001</td>\n",
       "      <td>0.010461</td>\n",
       "    </tr>\n",
       "  </tbody>\n",
       "</table>\n",
       "</div>"
      ],
      "text/plain": [
       "  mechanism direction purview state       phi\n",
       "0         C     CAUSE       D     0  0.469923\n",
       "1         C    EFFECT       B     0  0.673202\n",
       "2         D     CAUSE       B     0  0.469923\n",
       "3         D    EFFECT       C     0  0.613822\n",
       "4        AC     CAUSE      AD    01  0.014019\n",
       "5        AC    EFFECT      AC    00  0.017256\n",
       "6        AD     CAUSE      AB    00  0.060151\n",
       "7        AD    EFFECT      CD    00  0.017256\n",
       "8       ABC     CAUSE     BCD   110  0.019073\n",
       "9       ABC    EFFECT     ACD   001  0.010461"
      ]
     },
     "execution_count": 289,
     "metadata": {},
     "output_type": "execute_result"
    }
   ],
   "source": [
    "utils.sepces2df(compute.get_mechanism_paratext(ces, mechanism), system)"
   ]
  },
  {
   "cell_type": "markdown",
   "id": "01e4889e-6acd-4ac6-8e10-42964e4b27ca",
   "metadata": {
    "tags": []
   },
   "source": [
    "## mechanism context"
   ]
  },
  {
   "cell_type": "code",
   "execution_count": 71,
   "id": "09cf6b69-71b7-40e6-a761-15941772fb2a",
   "metadata": {
    "tags": []
   },
   "outputs": [
    {
     "data": {
      "text/html": [
       "<div>\n",
       "<style scoped>\n",
       "    .dataframe tbody tr th:only-of-type {\n",
       "        vertical-align: middle;\n",
       "    }\n",
       "\n",
       "    .dataframe tbody tr th {\n",
       "        vertical-align: top;\n",
       "    }\n",
       "\n",
       "    .dataframe thead th {\n",
       "        text-align: right;\n",
       "    }\n",
       "</style>\n",
       "<table border=\"1\" class=\"dataframe\">\n",
       "  <thead>\n",
       "    <tr style=\"text-align: right;\">\n",
       "      <th></th>\n",
       "      <th>mechanism</th>\n",
       "      <th>direction</th>\n",
       "      <th>purview</th>\n",
       "      <th>state</th>\n",
       "      <th>phi</th>\n",
       "    </tr>\n",
       "  </thead>\n",
       "  <tbody>\n",
       "    <tr>\n",
       "      <th>0</th>\n",
       "      <td>A</td>\n",
       "      <td>CAUSE</td>\n",
       "      <td>A</td>\n",
       "      <td>0</td>\n",
       "      <td>0.469923</td>\n",
       "    </tr>\n",
       "    <tr>\n",
       "      <th>1</th>\n",
       "      <td>A</td>\n",
       "      <td>EFFECT</td>\n",
       "      <td>A</td>\n",
       "      <td>0</td>\n",
       "      <td>0.613822</td>\n",
       "    </tr>\n",
       "    <tr>\n",
       "      <th>2</th>\n",
       "      <td>AB</td>\n",
       "      <td>EFFECT</td>\n",
       "      <td>D</td>\n",
       "      <td>0</td>\n",
       "      <td>0.152428</td>\n",
       "    </tr>\n",
       "    <tr>\n",
       "      <th>3</th>\n",
       "      <td>AB</td>\n",
       "      <td>CAUSE</td>\n",
       "      <td>ABC</td>\n",
       "      <td>011</td>\n",
       "      <td>0.020929</td>\n",
       "    </tr>\n",
       "    <tr>\n",
       "      <th>4</th>\n",
       "      <td>AC</td>\n",
       "      <td>CAUSE</td>\n",
       "      <td>AD</td>\n",
       "      <td>01</td>\n",
       "      <td>0.014019</td>\n",
       "    </tr>\n",
       "    <tr>\n",
       "      <th>5</th>\n",
       "      <td>AC</td>\n",
       "      <td>EFFECT</td>\n",
       "      <td>AC</td>\n",
       "      <td>00</td>\n",
       "      <td>0.017256</td>\n",
       "    </tr>\n",
       "    <tr>\n",
       "      <th>6</th>\n",
       "      <td>AD</td>\n",
       "      <td>EFFECT</td>\n",
       "      <td>CD</td>\n",
       "      <td>00</td>\n",
       "      <td>0.017256</td>\n",
       "    </tr>\n",
       "    <tr>\n",
       "      <th>7</th>\n",
       "      <td>AD</td>\n",
       "      <td>CAUSE</td>\n",
       "      <td>AB</td>\n",
       "      <td>00</td>\n",
       "      <td>0.060151</td>\n",
       "    </tr>\n",
       "    <tr>\n",
       "      <th>8</th>\n",
       "      <td>ABC</td>\n",
       "      <td>CAUSE</td>\n",
       "      <td>BCD</td>\n",
       "      <td>110</td>\n",
       "      <td>0.019073</td>\n",
       "    </tr>\n",
       "    <tr>\n",
       "      <th>9</th>\n",
       "      <td>ABC</td>\n",
       "      <td>EFFECT</td>\n",
       "      <td>ACD</td>\n",
       "      <td>001</td>\n",
       "      <td>0.010461</td>\n",
       "    </tr>\n",
       "    <tr>\n",
       "      <th>10</th>\n",
       "      <td>ABCD</td>\n",
       "      <td>CAUSE</td>\n",
       "      <td>ABCD</td>\n",
       "      <td>0110</td>\n",
       "      <td>0.023818</td>\n",
       "    </tr>\n",
       "    <tr>\n",
       "      <th>11</th>\n",
       "      <td>ABCD</td>\n",
       "      <td>EFFECT</td>\n",
       "      <td>ABCD</td>\n",
       "      <td>0001</td>\n",
       "      <td>0.001504</td>\n",
       "    </tr>\n",
       "  </tbody>\n",
       "</table>\n",
       "</div>"
      ],
      "text/plain": [
       "   mechanism direction purview state       phi\n",
       "0          A     CAUSE       A     0  0.469923\n",
       "1          A    EFFECT       A     0  0.613822\n",
       "2         AB    EFFECT       D     0  0.152428\n",
       "3         AB     CAUSE     ABC   011  0.020929\n",
       "4         AC     CAUSE      AD    01  0.014019\n",
       "5         AC    EFFECT      AC    00  0.017256\n",
       "6         AD    EFFECT      CD    00  0.017256\n",
       "7         AD     CAUSE      AB    00  0.060151\n",
       "8        ABC     CAUSE     BCD   110  0.019073\n",
       "9        ABC    EFFECT     ACD   001  0.010461\n",
       "10      ABCD     CAUSE    ABCD  0110  0.023818\n",
       "11      ABCD    EFFECT    ABCD  0001  0.001504"
      ]
     },
     "execution_count": 71,
     "metadata": {},
     "output_type": "execute_result"
    }
   ],
   "source": [
    "utils.sepces2df(compute.get_mechanism_context(ces, mechanism), system)"
   ]
  },
  {
   "cell_type": "markdown",
   "id": "5e5c9e91-a035-467f-ad56-40130aa73aed",
   "metadata": {},
   "source": [
    "# A purview context\n",
    "\"we can consider a purview’s context, subdivided into purview subtext (the distinctions whose purviews it fully includes); purview supertext (the distinctions whose purviews fully include it); and paratext (the distinctions whose purviews partially include it). \""
   ]
  },
  {
   "cell_type": "code",
   "execution_count": 293,
   "id": "dac18aec-708c-4b17-91db-8ff36360270a",
   "metadata": {},
   "outputs": [
    {
     "data": {
      "application/vnd.jupyter.widget-view+json": {
       "model_id": "0825e629d73048edaad1cf73ce786728",
       "version_major": 2,
       "version_minor": 0
      },
      "text/plain": [
       "Computing triangles:   0%|          | 0/136 [00:00<?, ?it/s]"
      ]
     },
     "metadata": {},
     "output_type": "display_data"
    },
    {
     "name": "stdout",
     "output_type": "stream",
     "text": [
      "Not redrawing base\n"
     ]
    },
    {
     "data": {
      "application/vnd.jupyter.widget-view+json": {
       "model_id": "3326fdd001204657b6546af57585e987",
       "version_major": 2,
       "version_minor": 0
      },
      "text/plain": [
       "Computing edges:   0%|          | 0/45 [00:00<?, ?it/s]"
      ]
     },
     "metadata": {},
     "output_type": "display_data"
    },
    {
     "name": "stdout",
     "output_type": "stream",
     "text": [
      "Not redrawing base\n"
     ]
    },
    {
     "data": {
      "application/vnd.jupyter.widget-view+json": {
       "model_id": "411381208a7b416a80f9b7ec9664d03a",
       "version_major": 2,
       "version_minor": 0
      },
      "text/plain": [
       "Computing edges:   0%|          | 0/73 [00:00<?, ?it/s]"
      ]
     },
     "metadata": {},
     "output_type": "display_data"
    },
    {
     "data": {
      "application/vnd.jupyter.widget-view+json": {
       "model_id": "e919a63b437a48d9947152ff9c80c4ef",
       "version_major": 2,
       "version_minor": 0
      },
      "text/plain": [
       "Computing triangles:   0%|          | 0/136 [00:00<?, ?it/s]"
      ]
     },
     "metadata": {},
     "output_type": "display_data"
    }
   ],
   "source": [
    "\n",
    "mechanism = (2,3)\n",
    "\n",
    "plots.mechanism_context(\n",
    "    system,\n",
    "    ces,\n",
    "    relations,\n",
    "    mechanism,\n",
    "    'figures/ch5/mechanism_context',\n",
    ")\n",
    "    "
   ]
  },
  {
   "cell_type": "markdown",
   "id": "47141b40-f308-468b-b8e3-96f0142c1f2c",
   "metadata": {},
   "source": [
    "## purview Supertext"
   ]
  },
  {
   "cell_type": "code",
   "execution_count": 72,
   "id": "373b7e56-f2c2-4a1a-8404-573b037628df",
   "metadata": {},
   "outputs": [
    {
     "data": {
      "text/html": [
       "<div>\n",
       "<style scoped>\n",
       "    .dataframe tbody tr th:only-of-type {\n",
       "        vertical-align: middle;\n",
       "    }\n",
       "\n",
       "    .dataframe tbody tr th {\n",
       "        vertical-align: top;\n",
       "    }\n",
       "\n",
       "    .dataframe thead th {\n",
       "        text-align: right;\n",
       "    }\n",
       "</style>\n",
       "<table border=\"1\" class=\"dataframe\">\n",
       "  <thead>\n",
       "    <tr style=\"text-align: right;\">\n",
       "      <th></th>\n",
       "      <th>mechanism</th>\n",
       "      <th>direction</th>\n",
       "      <th>purview</th>\n",
       "      <th>state</th>\n",
       "      <th>phi</th>\n",
       "    </tr>\n",
       "  </thead>\n",
       "  <tbody>\n",
       "    <tr>\n",
       "      <th>0</th>\n",
       "      <td>A</td>\n",
       "      <td>CAUSE</td>\n",
       "      <td>A</td>\n",
       "      <td>0</td>\n",
       "      <td>0.469923</td>\n",
       "    </tr>\n",
       "    <tr>\n",
       "      <th>1</th>\n",
       "      <td>A</td>\n",
       "      <td>EFFECT</td>\n",
       "      <td>A</td>\n",
       "      <td>0</td>\n",
       "      <td>0.613822</td>\n",
       "    </tr>\n",
       "    <tr>\n",
       "      <th>2</th>\n",
       "      <td>C</td>\n",
       "      <td>EFFECT</td>\n",
       "      <td>B</td>\n",
       "      <td>0</td>\n",
       "      <td>0.673202</td>\n",
       "    </tr>\n",
       "    <tr>\n",
       "      <th>3</th>\n",
       "      <td>D</td>\n",
       "      <td>CAUSE</td>\n",
       "      <td>B</td>\n",
       "      <td>0</td>\n",
       "      <td>0.469923</td>\n",
       "    </tr>\n",
       "    <tr>\n",
       "      <th>4</th>\n",
       "      <td>AD</td>\n",
       "      <td>CAUSE</td>\n",
       "      <td>AB</td>\n",
       "      <td>00</td>\n",
       "      <td>0.060151</td>\n",
       "    </tr>\n",
       "  </tbody>\n",
       "</table>\n",
       "</div>"
      ],
      "text/plain": [
       "  mechanism direction purview state       phi\n",
       "0         A     CAUSE       A     0  0.469923\n",
       "1         A    EFFECT       A     0  0.613822\n",
       "2         C    EFFECT       B     0  0.673202\n",
       "3         D     CAUSE       B     0  0.469923\n",
       "4        AD     CAUSE      AB    00  0.060151"
      ]
     },
     "execution_count": 72,
     "metadata": {},
     "output_type": "execute_result"
    }
   ],
   "source": [
    "utils.sepces2df(compute.get_purview_supertext(ces, purview),system)"
   ]
  },
  {
   "cell_type": "markdown",
   "id": "5a9bdef5-fd21-4c73-b88e-8b5e378e2b59",
   "metadata": {},
   "source": [
    "## purview subtext"
   ]
  },
  {
   "cell_type": "code",
   "execution_count": 73,
   "id": "0c74b0dd-264b-46ee-8cac-ffb53048b00d",
   "metadata": {},
   "outputs": [
    {
     "data": {
      "text/html": [
       "<div>\n",
       "<style scoped>\n",
       "    .dataframe tbody tr th:only-of-type {\n",
       "        vertical-align: middle;\n",
       "    }\n",
       "\n",
       "    .dataframe tbody tr th {\n",
       "        vertical-align: top;\n",
       "    }\n",
       "\n",
       "    .dataframe thead th {\n",
       "        text-align: right;\n",
       "    }\n",
       "</style>\n",
       "<table border=\"1\" class=\"dataframe\">\n",
       "  <thead>\n",
       "    <tr style=\"text-align: right;\">\n",
       "      <th></th>\n",
       "      <th>mechanism</th>\n",
       "      <th>direction</th>\n",
       "      <th>purview</th>\n",
       "      <th>state</th>\n",
       "      <th>phi</th>\n",
       "    </tr>\n",
       "  </thead>\n",
       "  <tbody>\n",
       "    <tr>\n",
       "      <th>0</th>\n",
       "      <td>A</td>\n",
       "      <td>CAUSE</td>\n",
       "      <td>A</td>\n",
       "      <td>0</td>\n",
       "      <td>0.469923</td>\n",
       "    </tr>\n",
       "    <tr>\n",
       "      <th>1</th>\n",
       "      <td>A</td>\n",
       "      <td>EFFECT</td>\n",
       "      <td>A</td>\n",
       "      <td>0</td>\n",
       "      <td>0.613822</td>\n",
       "    </tr>\n",
       "    <tr>\n",
       "      <th>2</th>\n",
       "      <td>C</td>\n",
       "      <td>EFFECT</td>\n",
       "      <td>B</td>\n",
       "      <td>0</td>\n",
       "      <td>0.673202</td>\n",
       "    </tr>\n",
       "    <tr>\n",
       "      <th>3</th>\n",
       "      <td>D</td>\n",
       "      <td>CAUSE</td>\n",
       "      <td>B</td>\n",
       "      <td>0</td>\n",
       "      <td>0.469923</td>\n",
       "    </tr>\n",
       "    <tr>\n",
       "      <th>4</th>\n",
       "      <td>AD</td>\n",
       "      <td>CAUSE</td>\n",
       "      <td>AB</td>\n",
       "      <td>00</td>\n",
       "      <td>0.060151</td>\n",
       "    </tr>\n",
       "  </tbody>\n",
       "</table>\n",
       "</div>"
      ],
      "text/plain": [
       "  mechanism direction purview state       phi\n",
       "0         A     CAUSE       A     0  0.469923\n",
       "1         A    EFFECT       A     0  0.613822\n",
       "2         C    EFFECT       B     0  0.673202\n",
       "3         D     CAUSE       B     0  0.469923\n",
       "4        AD     CAUSE      AB    00  0.060151"
      ]
     },
     "execution_count": 73,
     "metadata": {},
     "output_type": "execute_result"
    }
   ],
   "source": [
    "utils.sepces2df(compute.get_purview_subtext(ces, purview), system)"
   ]
  },
  {
   "cell_type": "markdown",
   "id": "c84f89b7-71f1-4d36-8d25-784f43fd5a13",
   "metadata": {},
   "source": [
    "## purview paratext"
   ]
  },
  {
   "cell_type": "code",
   "execution_count": 74,
   "id": "274ee8b0-4954-40a9-bd40-82fe7b11aa0f",
   "metadata": {},
   "outputs": [
    {
     "data": {
      "text/html": [
       "<div>\n",
       "<style scoped>\n",
       "    .dataframe tbody tr th:only-of-type {\n",
       "        vertical-align: middle;\n",
       "    }\n",
       "\n",
       "    .dataframe tbody tr th {\n",
       "        vertical-align: top;\n",
       "    }\n",
       "\n",
       "    .dataframe thead th {\n",
       "        text-align: right;\n",
       "    }\n",
       "</style>\n",
       "<table border=\"1\" class=\"dataframe\">\n",
       "  <thead>\n",
       "    <tr style=\"text-align: right;\">\n",
       "      <th></th>\n",
       "      <th>mechanism</th>\n",
       "      <th>direction</th>\n",
       "      <th>purview</th>\n",
       "      <th>state</th>\n",
       "      <th>phi</th>\n",
       "    </tr>\n",
       "  </thead>\n",
       "  <tbody>\n",
       "    <tr>\n",
       "      <th>0</th>\n",
       "      <td>AB</td>\n",
       "      <td>CAUSE</td>\n",
       "      <td>ABC</td>\n",
       "      <td>011</td>\n",
       "      <td>0.020929</td>\n",
       "    </tr>\n",
       "    <tr>\n",
       "      <th>1</th>\n",
       "      <td>AC</td>\n",
       "      <td>CAUSE</td>\n",
       "      <td>AD</td>\n",
       "      <td>01</td>\n",
       "      <td>0.014019</td>\n",
       "    </tr>\n",
       "    <tr>\n",
       "      <th>2</th>\n",
       "      <td>AC</td>\n",
       "      <td>EFFECT</td>\n",
       "      <td>AC</td>\n",
       "      <td>00</td>\n",
       "      <td>0.017256</td>\n",
       "    </tr>\n",
       "    <tr>\n",
       "      <th>3</th>\n",
       "      <td>CD</td>\n",
       "      <td>CAUSE</td>\n",
       "      <td>BD</td>\n",
       "      <td>10</td>\n",
       "      <td>0.014019</td>\n",
       "    </tr>\n",
       "    <tr>\n",
       "      <th>4</th>\n",
       "      <td>CD</td>\n",
       "      <td>EFFECT</td>\n",
       "      <td>BC</td>\n",
       "      <td>00</td>\n",
       "      <td>0.002383</td>\n",
       "    </tr>\n",
       "    <tr>\n",
       "      <th>5</th>\n",
       "      <td>ABC</td>\n",
       "      <td>CAUSE</td>\n",
       "      <td>BCD</td>\n",
       "      <td>110</td>\n",
       "      <td>0.019073</td>\n",
       "    </tr>\n",
       "    <tr>\n",
       "      <th>6</th>\n",
       "      <td>ABC</td>\n",
       "      <td>EFFECT</td>\n",
       "      <td>ACD</td>\n",
       "      <td>001</td>\n",
       "      <td>0.010461</td>\n",
       "    </tr>\n",
       "    <tr>\n",
       "      <th>7</th>\n",
       "      <td>ABCD</td>\n",
       "      <td>CAUSE</td>\n",
       "      <td>ABCD</td>\n",
       "      <td>0110</td>\n",
       "      <td>0.023818</td>\n",
       "    </tr>\n",
       "    <tr>\n",
       "      <th>8</th>\n",
       "      <td>ABCD</td>\n",
       "      <td>EFFECT</td>\n",
       "      <td>ABCD</td>\n",
       "      <td>0001</td>\n",
       "      <td>0.001504</td>\n",
       "    </tr>\n",
       "  </tbody>\n",
       "</table>\n",
       "</div>"
      ],
      "text/plain": [
       "  mechanism direction purview state       phi\n",
       "0        AB     CAUSE     ABC   011  0.020929\n",
       "1        AC     CAUSE      AD    01  0.014019\n",
       "2        AC    EFFECT      AC    00  0.017256\n",
       "3        CD     CAUSE      BD    10  0.014019\n",
       "4        CD    EFFECT      BC    00  0.002383\n",
       "5       ABC     CAUSE     BCD   110  0.019073\n",
       "6       ABC    EFFECT     ACD   001  0.010461\n",
       "7      ABCD     CAUSE    ABCD  0110  0.023818\n",
       "8      ABCD    EFFECT    ABCD  0001  0.001504"
      ]
     },
     "execution_count": 74,
     "metadata": {},
     "output_type": "execute_result"
    }
   ],
   "source": [
    "utils.sepces2df(compute.get_purview_paratext(ces, purview), system)"
   ]
  },
  {
   "cell_type": "markdown",
   "id": "57082af4-70e7-4b13-9858-27fb92572ba0",
   "metadata": {
    "tags": []
   },
   "source": [
    "## purview context"
   ]
  },
  {
   "cell_type": "code",
   "execution_count": 294,
   "id": "54b70b94-8d1f-486e-ac09-321e7bf65c62",
   "metadata": {
    "tags": []
   },
   "outputs": [
    {
     "data": {
      "application/vnd.jupyter.widget-view+json": {
       "model_id": "3188b428851f4bd2b77f9b0a5829a0d9",
       "version_major": 2,
       "version_minor": 0
      },
      "text/plain": [
       "Computing triangles:   0%|          | 0/136 [00:00<?, ?it/s]"
      ]
     },
     "metadata": {},
     "output_type": "display_data"
    },
    {
     "name": "stdout",
     "output_type": "stream",
     "text": [
      "Not redrawing base\n"
     ]
    },
    {
     "data": {
      "application/vnd.jupyter.widget-view+json": {
       "model_id": "803a6158d4bb4a0daa6e0b710f43c337",
       "version_major": 2,
       "version_minor": 0
      },
      "text/plain": [
       "Computing edges:   0%|          | 0/44 [00:00<?, ?it/s]"
      ]
     },
     "metadata": {},
     "output_type": "display_data"
    },
    {
     "name": "stdout",
     "output_type": "stream",
     "text": [
      "Not redrawing base\n"
     ]
    },
    {
     "data": {
      "application/vnd.jupyter.widget-view+json": {
       "model_id": "a098ef0417a84e93bc1df41530bcf236",
       "version_major": 2,
       "version_minor": 0
      },
      "text/plain": [
       "Computing edges:   0%|          | 0/73 [00:00<?, ?it/s]"
      ]
     },
     "metadata": {},
     "output_type": "display_data"
    },
    {
     "data": {
      "application/vnd.jupyter.widget-view+json": {
       "model_id": "be024cf021664f6badb2bd0916873c1b",
       "version_major": 2,
       "version_minor": 0
      },
      "text/plain": [
       "Computing triangles:   0%|          | 0/136 [00:00<?, ?it/s]"
      ]
     },
     "metadata": {},
     "output_type": "display_data"
    }
   ],
   "source": [
    "utils.sepces2df(compute.get_purview_context(ces, purview), system)\n",
    "\n",
    "plots.purview_context(\n",
    "    system,\n",
    "    ces,\n",
    "    relations,\n",
    "    mechanism,\n",
    "    'figures/ch5/purview_context',\n",
    ")\n",
    "    "
   ]
  },
  {
   "cell_type": "markdown",
   "id": "4be671ba-3272-4e4c-a1a3-a9402d0b8e3b",
   "metadata": {},
   "source": [
    "# A unit phifold\n",
    "\"a unit Φ-fold is composed of all the distinctions and relations specified by a subset of units as either mechanisms (with their mechanism context) or purviews (with their purview context).\""
   ]
  },
  {
   "cell_type": "code",
   "execution_count": 297,
   "id": "0668d94a-48c0-4d54-88fb-72c8b094ba0b",
   "metadata": {
    "tags": []
   },
   "outputs": [
    {
     "data": {
      "application/vnd.jupyter.widget-view+json": {
       "model_id": "03384095145c412f8bb885e69d858a69",
       "version_major": 2,
       "version_minor": 0
      },
      "text/plain": [
       "Computing triangles:   0%|          | 0/136 [00:00<?, ?it/s]"
      ]
     },
     "metadata": {},
     "output_type": "display_data"
    },
    {
     "name": "stdout",
     "output_type": "stream",
     "text": [
      "Not redrawing base\n"
     ]
    },
    {
     "data": {
      "application/vnd.jupyter.widget-view+json": {
       "model_id": "e90acf119cea45feae0b8c66c9b33c42",
       "version_major": 2,
       "version_minor": 0
      },
      "text/plain": [
       "Computing edges:   0%|          | 0/46 [00:00<?, ?it/s]"
      ]
     },
     "metadata": {},
     "output_type": "display_data"
    },
    {
     "data": {
      "application/vnd.jupyter.widget-view+json": {
       "model_id": "86da61a7c05c4638af75e81696eaab1e",
       "version_major": 2,
       "version_minor": 0
      },
      "text/plain": [
       "Computing triangles:   0%|          | 0/92 [00:00<?, ?it/s]"
      ]
     },
     "metadata": {},
     "output_type": "display_data"
    },
    {
     "name": "stdout",
     "output_type": "stream",
     "text": [
      "Not redrawing base\n"
     ]
    },
    {
     "data": {
      "application/vnd.jupyter.widget-view+json": {
       "model_id": "d621b0967a43446ab427195a9874e857",
       "version_major": 2,
       "version_minor": 0
      },
      "text/plain": [
       "Computing edges:   0%|          | 0/73 [00:00<?, ?it/s]"
      ]
     },
     "metadata": {},
     "output_type": "display_data"
    },
    {
     "data": {
      "application/vnd.jupyter.widget-view+json": {
       "model_id": "6b4d62157bfc440fba17ab2a9262eee0",
       "version_major": 2,
       "version_minor": 0
      },
      "text/plain": [
       "Computing triangles:   0%|          | 0/136 [00:00<?, ?it/s]"
      ]
     },
     "metadata": {},
     "output_type": "display_data"
    }
   ],
   "source": [
    "units = (0,)\n",
    "\n",
    "plots.unit_phi_fold(\n",
    "    system,\n",
    "    ces,\n",
    "    relations,\n",
    "    units,\n",
    "    'figures/ch5/unit_phifold',\n",
    ")"
   ]
  },
  {
   "cell_type": "markdown",
   "id": "4b0903de-7dd3-4db2-845f-50e916148975",
   "metadata": {},
   "source": [
    "# contents\n",
    "\"a content Φ-fold, or simply content, is composed of a subset of distinctions that are highly interrelated. [...] The more distinctions are interrelated, the more the sub-structure they compose can be considered meaningful. Using the tools of IIT, the interrelatedness (ΦR) of a sub-structure can be measured by summing the φ values of the minimal set of relations that unrelates the distinctions in the sub-structure across a minimum partition (Fig. 4.1.8).  If the ΦR value of a sub-structure is high and most small additions or subtractions  of distinctions and associated relations from it reduce ΦR, that sub-structure is a local maximum of interrelatedness and can be considered as a highly meaningful part of the Φ-structure, apt to be called a content. \""
   ]
  },
  {
   "cell_type": "markdown",
   "id": "7af1fa11-28ac-4164-8061-47be89f17a39",
   "metadata": {},
   "source": [
    "## Computing Phi-R for a substructure"
   ]
  },
  {
   "cell_type": "code",
   "execution_count": 55,
   "id": "df578b93-971d-481f-8c10-2d2ae032e4bf",
   "metadata": {},
   "outputs": [
    {
     "data": {
      "text/plain": [
       "════════════════════════════════\n",
       "Cause-effect structure (6 concepts)\n",
       "════════════════════════════════\n",
       "  Maximally-irreducible cause  \n",
       "    φ = 0.469923  \n",
       "    Mechanism: [C]  \n",
       "    Purview: [D]  \n",
       "    State: [0]  \n",
       "    Direction: CAUSE  \n",
       "  Maximally-irreducible effect  \n",
       "    φ = 0.673202  \n",
       "    Mechanism: [C]  \n",
       "    Purview: [B]  \n",
       "    State: [1]  \n",
       "    Direction: EFFECT  \n",
       "  Maximally-irreducible cause  \n",
       "    φ = 0.469923  \n",
       "    Mechanism: [D]  \n",
       "    Purview: [B]  \n",
       "    State: [1]  \n",
       "    Direction: CAUSE  \n",
       "  Maximally-irreducible effect  \n",
       "    φ = 0.613822  \n",
       "    Mechanism: [D]  \n",
       "    Purview: [C]  \n",
       "    State: [0]  \n",
       "    Direction: EFFECT  \n",
       "  Maximally-irreducible cause  \n",
       "    φ = 0.014019  \n",
       "    Mechanism: [C,D]  \n",
       "    Purview: [B,D]  \n",
       "    State: [1, 0]  \n",
       "    Direction: CAUSE  \n",
       "  Maximally-irreducible effect  \n",
       "    φ = 0.002383  \n",
       "    Mechanism: [C,D]  \n",
       "    Purview: [B,C]  \n",
       "    State: [1, 0]  \n",
       "    Direction: EFFECT  "
      ]
     },
     "execution_count": 55,
     "metadata": {},
     "output_type": "execute_result"
    }
   ],
   "source": [
    "substructure"
   ]
  },
  {
   "cell_type": "code",
   "execution_count": 53,
   "id": "8248752d-7c96-4ab0-a5f0-8516029611eb",
   "metadata": {},
   "outputs": [],
   "source": [
    "substructure = compute.get_mechanism_subtext(ces, (1,2,3))\n",
    "substructure_relations = compute.filter_relations(relations,substructure)"
   ]
  },
  {
   "cell_type": "code",
   "execution_count": 54,
   "id": "38af27c2-2d07-4751-a3d9-11d57fcd1393",
   "metadata": {},
   "outputs": [
    {
     "data": {
      "text/plain": [
       "(1.7431847348248415, ([(2,)], [(3,), (2, 3)]))"
      ]
     },
     "execution_count": 54,
     "metadata": {},
     "output_type": "execute_result"
    }
   ],
   "source": [
    "compute.get_Phi_R(compute.get_linked_ces(substructure,system), substructure_relations)"
   ]
  },
  {
   "cell_type": "code",
   "execution_count": 22,
   "id": "4c0e1a78-8e97-4261-b05c-0404190a0899",
   "metadata": {},
   "outputs": [],
   "source": [
    "\n",
    "from pyphi.models.subsystem import FlatCauseEffectStructure as sep"
   ]
  },
  {
   "cell_type": "code",
   "execution_count": 56,
   "id": "ea8798d5-743a-476e-b8c2-146a79de896e",
   "metadata": {},
   "outputs": [],
   "source": [
    "def get_all_Phi_R(linked_ces, relations, system):\n",
    "    if hasattr(linked_ces[0], \"direction\"):\n",
    "        print(\n",
    "            \"subset_distinctions CES must be concept style. Try passing to compute.get_linked_ces(ces, system) first!\"\n",
    "        )\n",
    "        return\n",
    "\n",
    "    substructures = []\n",
    "    for subset in tqdm(list(pyphi.utils.powerset(linked_ces, system,min_size=2))):\n",
    "        linked = pyphi.models.subsystem.CauseEffectStructure(concept for concept in subset)\n",
    "        separated = sep(linked)\n",
    "        subset_relations = compute.filter_relations(relations, separated)\n",
    "        Phi_R, MIP = compute.get_Phi_R(linked, subset_relations)\n",
    "\n",
    "        substructures.append([Phi_R, MIP, separated])\n",
    "        \n",
    "    return substructures"
   ]
  },
  {
   "cell_type": "code",
   "execution_count": 57,
   "id": "fb5efb34-b9bd-4bc5-b3bd-0a0c3620d1c2",
   "metadata": {},
   "outputs": [
    {
     "data": {
      "application/vnd.jupyter.widget-view+json": {
       "model_id": "a6a2b150278a4ee79ad84df4456f35be",
       "version_major": 2,
       "version_minor": 0
      },
      "text/plain": [
       "  0%|          | 0/502 [00:00<?, ?it/s]"
      ]
     },
     "metadata": {},
     "output_type": "display_data"
    }
   ],
   "source": [
    "all_subsets = get_all_Phi_R(compute.get_linked_ces(ces, system), relations, system)"
   ]
  },
  {
   "cell_type": "code",
   "execution_count": 60,
   "id": "ae95ffda-f6ea-4f04-947d-ff66eef83084",
   "metadata": {},
   "outputs": [],
   "source": [
    "sort_subsets = sorted(all_subsets, key=lambda v: v[0], reverse=True)"
   ]
  },
  {
   "cell_type": "code",
   "execution_count": 61,
   "id": "72da6968-ec11-4ef8-96e0-bd07905d747f",
   "metadata": {},
   "outputs": [
    {
     "data": {
      "text/plain": [
       "[[9.196707204480143,\n",
       "  ([(0, 3)], [(0,), (0, 1), (0, 2), (0, 1, 2), (0, 1, 2, 3)]),\n",
       "  ════════════════════════════════\n",
       "  Cause-effect structure (12 concepts)\n",
       "  ════════════════════════════════\n",
       "    Maximally-irreducible cause  \n",
       "      φ = 0.469923  \n",
       "      Mechanism: [A]  \n",
       "      Purview: [A]  \n",
       "      State: [0]  \n",
       "      Direction: CAUSE  \n",
       "    Maximally-irreducible effect  \n",
       "      φ = 0.613822  \n",
       "      Mechanism: [A]  \n",
       "      Purview: [A]  \n",
       "      State: [0]  \n",
       "      Direction: EFFECT  \n",
       "    Maximally-irreducible cause  \n",
       "      φ = 0.020929  \n",
       "      Mechanism: [A,B]  \n",
       "      Purview: [A,B,C]  \n",
       "      State: [0, 1, 0]  \n",
       "      Direction: CAUSE  \n",
       "    Maximally-irreducible effect  \n",
       "      φ = 0.152428  \n",
       "      Mechanism: [A,B]  \n",
       "      Purview: [D]  \n",
       "      State: [0]  \n",
       "      Direction: EFFECT  \n",
       "    Maximally-irreducible cause  \n",
       "      φ = 0.014019  \n",
       "      Mechanism: [A,C]  \n",
       "      Purview: [A,D]  \n",
       "      State: [0, 0]  \n",
       "      Direction: CAUSE  \n",
       "    Maximally-irreducible effect  \n",
       "      φ = 0.017256  \n",
       "      Mechanism: [A,C]  \n",
       "      Purview: [A,C]  \n",
       "      State: [0, 0]  \n",
       "      Direction: EFFECT  \n",
       "    Maximally-irreducible cause  \n",
       "      φ = 0.060151  \n",
       "      Mechanism: [A,D]  \n",
       "      Purview: [A,B]  \n",
       "      State: [0, 1]  \n",
       "      Direction: CAUSE  \n",
       "    Maximally-irreducible effect  \n",
       "      φ = 0.017256  \n",
       "      Mechanism: [A,D]  \n",
       "      Purview: [C,D]  \n",
       "      State: [0, 0]  \n",
       "      Direction: EFFECT  \n",
       "    Maximally-irreducible cause  \n",
       "      φ = 0.019073  \n",
       "      Mechanism: [A,B,C]  \n",
       "      Purview: [B,C,D]  \n",
       "      State: [1, 0, 0]  \n",
       "      Direction: CAUSE  \n",
       "    Maximally-irreducible effect  \n",
       "      φ = 0.010461  \n",
       "      Mechanism: [A,B,C]  \n",
       "      Purview: [A,C,D]  \n",
       "      State: [0, 0, 0]  \n",
       "      Direction: EFFECT  \n",
       "    Maximally-irreducible cause  \n",
       "      φ = 0.023818  \n",
       "      Mechanism: [A,B,C,D]  \n",
       "      Purview: [A,B,C,D]  \n",
       "      State: [0, 1, 0, 0]  \n",
       "      Direction: CAUSE  \n",
       "    Maximally-irreducible effect  \n",
       "      φ = 0.001504  \n",
       "      Mechanism: [A,B,C,D]  \n",
       "      Purview: [A,B,C,D]  \n",
       "      State: [0, 1, 0, 0]  \n",
       "      Direction: EFFECT  ],\n",
       " [7.691009149732084,\n",
       "  ([(0, 1)], [(0,), (0, 2), (0, 1, 2), (0, 1, 2, 3)]),\n",
       "  ════════════════════════════════\n",
       "  Cause-effect structure (10 concepts)\n",
       "  ════════════════════════════════\n",
       "    Maximally-irreducible cause  \n",
       "      φ = 0.469923  \n",
       "      Mechanism: [A]  \n",
       "      Purview: [A]  \n",
       "      State: [0]  \n",
       "      Direction: CAUSE  \n",
       "    Maximally-irreducible effect  \n",
       "      φ = 0.613822  \n",
       "      Mechanism: [A]  \n",
       "      Purview: [A]  \n",
       "      State: [0]  \n",
       "      Direction: EFFECT  \n",
       "    Maximally-irreducible cause  \n",
       "      φ = 0.020929  \n",
       "      Mechanism: [A,B]  \n",
       "      Purview: [A,B,C]  \n",
       "      State: [0, 1, 0]  \n",
       "      Direction: CAUSE  \n",
       "    Maximally-irreducible effect  \n",
       "      φ = 0.152428  \n",
       "      Mechanism: [A,B]  \n",
       "      Purview: [D]  \n",
       "      State: [0]  \n",
       "      Direction: EFFECT  \n",
       "    Maximally-irreducible cause  \n",
       "      φ = 0.014019  \n",
       "      Mechanism: [A,C]  \n",
       "      Purview: [A,D]  \n",
       "      State: [0, 0]  \n",
       "      Direction: CAUSE  \n",
       "    Maximally-irreducible effect  \n",
       "      φ = 0.017256  \n",
       "      Mechanism: [A,C]  \n",
       "      Purview: [A,C]  \n",
       "      State: [0, 0]  \n",
       "      Direction: EFFECT  \n",
       "    Maximally-irreducible cause  \n",
       "      φ = 0.019073  \n",
       "      Mechanism: [A,B,C]  \n",
       "      Purview: [B,C,D]  \n",
       "      State: [1, 0, 0]  \n",
       "      Direction: CAUSE  \n",
       "    Maximally-irreducible effect  \n",
       "      φ = 0.010461  \n",
       "      Mechanism: [A,B,C]  \n",
       "      Purview: [A,C,D]  \n",
       "      State: [0, 0, 0]  \n",
       "      Direction: EFFECT  \n",
       "    Maximally-irreducible cause  \n",
       "      φ = 0.023818  \n",
       "      Mechanism: [A,B,C,D]  \n",
       "      Purview: [A,B,C,D]  \n",
       "      State: [0, 1, 0, 0]  \n",
       "      Direction: CAUSE  \n",
       "    Maximally-irreducible effect  \n",
       "      φ = 0.001504  \n",
       "      Mechanism: [A,B,C,D]  \n",
       "      Purview: [A,B,C,D]  \n",
       "      State: [0, 1, 0, 0]  \n",
       "      Direction: EFFECT  ],\n",
       " [7.118198872455334,\n",
       "  ([(0, 3)], [(0,), (0, 2), (0, 1, 2), (0, 1, 2, 3)]),\n",
       "  ════════════════════════════════\n",
       "  Cause-effect structure (10 concepts)\n",
       "  ════════════════════════════════\n",
       "    Maximally-irreducible cause  \n",
       "      φ = 0.469923  \n",
       "      Mechanism: [A]  \n",
       "      Purview: [A]  \n",
       "      State: [0]  \n",
       "      Direction: CAUSE  \n",
       "    Maximally-irreducible effect  \n",
       "      φ = 0.613822  \n",
       "      Mechanism: [A]  \n",
       "      Purview: [A]  \n",
       "      State: [0]  \n",
       "      Direction: EFFECT  \n",
       "    Maximally-irreducible cause  \n",
       "      φ = 0.014019  \n",
       "      Mechanism: [A,C]  \n",
       "      Purview: [A,D]  \n",
       "      State: [0, 0]  \n",
       "      Direction: CAUSE  \n",
       "    Maximally-irreducible effect  \n",
       "      φ = 0.017256  \n",
       "      Mechanism: [A,C]  \n",
       "      Purview: [A,C]  \n",
       "      State: [0, 0]  \n",
       "      Direction: EFFECT  \n",
       "    Maximally-irreducible cause  \n",
       "      φ = 0.060151  \n",
       "      Mechanism: [A,D]  \n",
       "      Purview: [A,B]  \n",
       "      State: [0, 1]  \n",
       "      Direction: CAUSE  \n",
       "    Maximally-irreducible effect  \n",
       "      φ = 0.017256  \n",
       "      Mechanism: [A,D]  \n",
       "      Purview: [C,D]  \n",
       "      State: [0, 0]  \n",
       "      Direction: EFFECT  \n",
       "    Maximally-irreducible cause  \n",
       "      φ = 0.019073  \n",
       "      Mechanism: [A,B,C]  \n",
       "      Purview: [B,C,D]  \n",
       "      State: [1, 0, 0]  \n",
       "      Direction: CAUSE  \n",
       "    Maximally-irreducible effect  \n",
       "      φ = 0.010461  \n",
       "      Mechanism: [A,B,C]  \n",
       "      Purview: [A,C,D]  \n",
       "      State: [0, 0, 0]  \n",
       "      Direction: EFFECT  \n",
       "    Maximally-irreducible cause  \n",
       "      φ = 0.023818  \n",
       "      Mechanism: [A,B,C,D]  \n",
       "      Purview: [A,B,C,D]  \n",
       "      State: [0, 1, 0, 0]  \n",
       "      Direction: CAUSE  \n",
       "    Maximally-irreducible effect  \n",
       "      φ = 0.001504  \n",
       "      Mechanism: [A,B,C,D]  \n",
       "      Purview: [A,B,C,D]  \n",
       "      State: [0, 1, 0, 0]  \n",
       "      Direction: EFFECT  ],\n",
       " [6.777699164119524,\n",
       "  ([(0, 1)], [(0,), (0, 2), (0, 3), (0, 1, 2, 3)]),\n",
       "  ════════════════════════════════\n",
       "  Cause-effect structure (10 concepts)\n",
       "  ════════════════════════════════\n",
       "    Maximally-irreducible cause  \n",
       "      φ = 0.469923  \n",
       "      Mechanism: [A]  \n",
       "      Purview: [A]  \n",
       "      State: [0]  \n",
       "      Direction: CAUSE  \n",
       "    Maximally-irreducible effect  \n",
       "      φ = 0.613822  \n",
       "      Mechanism: [A]  \n",
       "      Purview: [A]  \n",
       "      State: [0]  \n",
       "      Direction: EFFECT  \n",
       "    Maximally-irreducible cause  \n",
       "      φ = 0.020929  \n",
       "      Mechanism: [A,B]  \n",
       "      Purview: [A,B,C]  \n",
       "      State: [0, 1, 0]  \n",
       "      Direction: CAUSE  \n",
       "    Maximally-irreducible effect  \n",
       "      φ = 0.152428  \n",
       "      Mechanism: [A,B]  \n",
       "      Purview: [D]  \n",
       "      State: [0]  \n",
       "      Direction: EFFECT  \n",
       "    Maximally-irreducible cause  \n",
       "      φ = 0.014019  \n",
       "      Mechanism: [A,C]  \n",
       "      Purview: [A,D]  \n",
       "      State: [0, 0]  \n",
       "      Direction: CAUSE  \n",
       "    Maximally-irreducible effect  \n",
       "      φ = 0.017256  \n",
       "      Mechanism: [A,C]  \n",
       "      Purview: [A,C]  \n",
       "      State: [0, 0]  \n",
       "      Direction: EFFECT  \n",
       "    Maximally-irreducible cause  \n",
       "      φ = 0.060151  \n",
       "      Mechanism: [A,D]  \n",
       "      Purview: [A,B]  \n",
       "      State: [0, 1]  \n",
       "      Direction: CAUSE  \n",
       "    Maximally-irreducible effect  \n",
       "      φ = 0.017256  \n",
       "      Mechanism: [A,D]  \n",
       "      Purview: [C,D]  \n",
       "      State: [0, 0]  \n",
       "      Direction: EFFECT  \n",
       "    Maximally-irreducible cause  \n",
       "      φ = 0.023818  \n",
       "      Mechanism: [A,B,C,D]  \n",
       "      Purview: [A,B,C,D]  \n",
       "      State: [0, 1, 0, 0]  \n",
       "      Direction: CAUSE  \n",
       "    Maximally-irreducible effect  \n",
       "      φ = 0.001504  \n",
       "      Mechanism: [A,B,C,D]  \n",
       "      Purview: [A,B,C,D]  \n",
       "      State: [0, 1, 0, 0]  \n",
       "      Direction: EFFECT  ]]"
      ]
     },
     "execution_count": 61,
     "metadata": {},
     "output_type": "execute_result"
    }
   ],
   "source": [
    "sort_subsets[:4]"
   ]
  },
  {
   "cell_type": "markdown",
   "id": "6a69c036-81a4-4220-82b2-02ae3a12099c",
   "metadata": {},
   "source": [
    "## An internally meaningful/structured content"
   ]
  },
  {
   "cell_type": "code",
   "execution_count": null,
   "id": "4bbed0d8-5d8b-471e-870b-18bef144c7a2",
   "metadata": {},
   "outputs": [],
   "source": []
  },
  {
   "cell_type": "markdown",
   "id": "f0c3c1b3-b075-405e-a87f-0f15a7a6cf35",
   "metadata": {},
   "source": [
    "## A contextually meaningful/structured content"
   ]
  },
  {
   "cell_type": "code",
   "execution_count": null,
   "id": "bc5bf54e-32ee-45b7-98cb-832c0ce55608",
   "metadata": {},
   "outputs": [],
   "source": []
  },
  {
   "cell_type": "code",
   "execution_count": null,
   "id": "752516c4-15e6-4d9a-a5ae-daf4bafc86d5",
   "metadata": {},
   "outputs": [],
   "source": []
  },
  {
   "cell_type": "code",
   "execution_count": 264,
   "id": "676e0669-5c4b-4488-963d-73c13b312794",
   "metadata": {},
   "outputs": [
    {
     "data": {
      "text/html": [
       "<div>\n",
       "<style scoped>\n",
       "    .dataframe tbody tr th:only-of-type {\n",
       "        vertical-align: middle;\n",
       "    }\n",
       "\n",
       "    .dataframe tbody tr th {\n",
       "        vertical-align: top;\n",
       "    }\n",
       "\n",
       "    .dataframe thead th {\n",
       "        text-align: right;\n",
       "    }\n",
       "</style>\n",
       "<table border=\"1\" class=\"dataframe\">\n",
       "  <thead>\n",
       "    <tr style=\"text-align: right;\">\n",
       "      <th></th>\n",
       "      <th>mechanism</th>\n",
       "      <th>direction</th>\n",
       "      <th>purview</th>\n",
       "      <th>state</th>\n",
       "      <th>phi</th>\n",
       "    </tr>\n",
       "  </thead>\n",
       "  <tbody>\n",
       "    <tr>\n",
       "      <th>0</th>\n",
       "      <td>A</td>\n",
       "      <td>CAUSE</td>\n",
       "      <td>A</td>\n",
       "      <td>0</td>\n",
       "      <td>0.469923</td>\n",
       "    </tr>\n",
       "    <tr>\n",
       "      <th>1</th>\n",
       "      <td>A</td>\n",
       "      <td>EFFECT</td>\n",
       "      <td>A</td>\n",
       "      <td>0</td>\n",
       "      <td>0.613822</td>\n",
       "    </tr>\n",
       "    <tr>\n",
       "      <th>2</th>\n",
       "      <td>C</td>\n",
       "      <td>CAUSE</td>\n",
       "      <td>D</td>\n",
       "      <td>0</td>\n",
       "      <td>0.469923</td>\n",
       "    </tr>\n",
       "    <tr>\n",
       "      <th>3</th>\n",
       "      <td>C</td>\n",
       "      <td>EFFECT</td>\n",
       "      <td>B</td>\n",
       "      <td>0</td>\n",
       "      <td>0.673202</td>\n",
       "    </tr>\n",
       "    <tr>\n",
       "      <th>4</th>\n",
       "      <td>D</td>\n",
       "      <td>CAUSE</td>\n",
       "      <td>B</td>\n",
       "      <td>0</td>\n",
       "      <td>0.469923</td>\n",
       "    </tr>\n",
       "    <tr>\n",
       "      <th>5</th>\n",
       "      <td>D</td>\n",
       "      <td>EFFECT</td>\n",
       "      <td>C</td>\n",
       "      <td>0</td>\n",
       "      <td>0.613822</td>\n",
       "    </tr>\n",
       "    <tr>\n",
       "      <th>6</th>\n",
       "      <td>AB</td>\n",
       "      <td>CAUSE</td>\n",
       "      <td>ABC</td>\n",
       "      <td>011</td>\n",
       "      <td>0.020929</td>\n",
       "    </tr>\n",
       "    <tr>\n",
       "      <th>7</th>\n",
       "      <td>AB</td>\n",
       "      <td>EFFECT</td>\n",
       "      <td>D</td>\n",
       "      <td>0</td>\n",
       "      <td>0.152428</td>\n",
       "    </tr>\n",
       "    <tr>\n",
       "      <th>8</th>\n",
       "      <td>AC</td>\n",
       "      <td>CAUSE</td>\n",
       "      <td>AD</td>\n",
       "      <td>01</td>\n",
       "      <td>0.014019</td>\n",
       "    </tr>\n",
       "    <tr>\n",
       "      <th>9</th>\n",
       "      <td>AC</td>\n",
       "      <td>EFFECT</td>\n",
       "      <td>AC</td>\n",
       "      <td>00</td>\n",
       "      <td>0.017256</td>\n",
       "    </tr>\n",
       "    <tr>\n",
       "      <th>10</th>\n",
       "      <td>AD</td>\n",
       "      <td>CAUSE</td>\n",
       "      <td>AB</td>\n",
       "      <td>00</td>\n",
       "      <td>0.060151</td>\n",
       "    </tr>\n",
       "    <tr>\n",
       "      <th>11</th>\n",
       "      <td>AD</td>\n",
       "      <td>EFFECT</td>\n",
       "      <td>CD</td>\n",
       "      <td>00</td>\n",
       "      <td>0.017256</td>\n",
       "    </tr>\n",
       "    <tr>\n",
       "      <th>12</th>\n",
       "      <td>CD</td>\n",
       "      <td>CAUSE</td>\n",
       "      <td>BD</td>\n",
       "      <td>10</td>\n",
       "      <td>0.014019</td>\n",
       "    </tr>\n",
       "    <tr>\n",
       "      <th>13</th>\n",
       "      <td>CD</td>\n",
       "      <td>EFFECT</td>\n",
       "      <td>BC</td>\n",
       "      <td>00</td>\n",
       "      <td>0.002383</td>\n",
       "    </tr>\n",
       "    <tr>\n",
       "      <th>14</th>\n",
       "      <td>ABC</td>\n",
       "      <td>CAUSE</td>\n",
       "      <td>BCD</td>\n",
       "      <td>110</td>\n",
       "      <td>0.019073</td>\n",
       "    </tr>\n",
       "    <tr>\n",
       "      <th>15</th>\n",
       "      <td>ABC</td>\n",
       "      <td>EFFECT</td>\n",
       "      <td>ACD</td>\n",
       "      <td>001</td>\n",
       "      <td>0.010461</td>\n",
       "    </tr>\n",
       "    <tr>\n",
       "      <th>16</th>\n",
       "      <td>ABCD</td>\n",
       "      <td>CAUSE</td>\n",
       "      <td>ABCD</td>\n",
       "      <td>0110</td>\n",
       "      <td>0.023818</td>\n",
       "    </tr>\n",
       "    <tr>\n",
       "      <th>17</th>\n",
       "      <td>ABCD</td>\n",
       "      <td>EFFECT</td>\n",
       "      <td>ABCD</td>\n",
       "      <td>0001</td>\n",
       "      <td>0.001504</td>\n",
       "    </tr>\n",
       "  </tbody>\n",
       "</table>\n",
       "</div>"
      ],
      "text/plain": [
       "   mechanism direction purview state       phi\n",
       "0          A     CAUSE       A     0  0.469923\n",
       "1          A    EFFECT       A     0  0.613822\n",
       "2          C     CAUSE       D     0  0.469923\n",
       "3          C    EFFECT       B     0  0.673202\n",
       "4          D     CAUSE       B     0  0.469923\n",
       "5          D    EFFECT       C     0  0.613822\n",
       "6         AB     CAUSE     ABC   011  0.020929\n",
       "7         AB    EFFECT       D     0  0.152428\n",
       "8         AC     CAUSE      AD    01  0.014019\n",
       "9         AC    EFFECT      AC    00  0.017256\n",
       "10        AD     CAUSE      AB    00  0.060151\n",
       "11        AD    EFFECT      CD    00  0.017256\n",
       "12        CD     CAUSE      BD    10  0.014019\n",
       "13        CD    EFFECT      BC    00  0.002383\n",
       "14       ABC     CAUSE     BCD   110  0.019073\n",
       "15       ABC    EFFECT     ACD   001  0.010461\n",
       "16      ABCD     CAUSE    ABCD  0110  0.023818\n",
       "17      ABCD    EFFECT    ABCD  0001  0.001504"
      ]
     },
     "execution_count": 264,
     "metadata": {},
     "output_type": "execute_result"
    }
   ],
   "source": [
    "utils.sepces2df(ces, system)"
   ]
  },
  {
   "cell_type": "code",
   "execution_count": null,
   "id": "908b2197-ccfc-4f5d-b293-f99ff095e73e",
   "metadata": {},
   "outputs": [],
   "source": []
  }
 ],
 "metadata": {
  "kernelspec": {
   "display_name": "Python 3 (ipykernel)",
   "language": "python",
   "name": "python3"
  },
  "language_info": {
   "codemirror_mode": {
    "name": "ipython",
    "version": 3
   },
   "file_extension": ".py",
   "mimetype": "text/x-python",
   "name": "python",
   "nbconvert_exporter": "python",
   "pygments_lexer": "ipython3",
   "version": "3.9.7"
  }
 },
 "nbformat": 4,
 "nbformat_minor": 5
}
