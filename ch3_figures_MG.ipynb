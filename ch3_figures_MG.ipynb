{
 "cells": [
  {
   "cell_type": "code",
   "execution_count": 1,
   "id": "be33d172-f531-437e-8ecc-82ad363c5a05",
   "metadata": {},
   "outputs": [],
   "source": [
    "%load_ext autoreload\n",
    "%autoreload 2\n",
    "%load_ext blackcellmagic"
   ]
  },
  {
   "cell_type": "code",
   "execution_count": 2,
   "id": "8c439499",
   "metadata": {},
   "outputs": [
    {
     "data": {
      "text/html": [
       "<style>.container { width:60% !important; }</style>"
      ],
      "text/plain": [
       "<IPython.core.display.HTML object>"
      ]
     },
     "metadata": {},
     "output_type": "display_data"
    }
   ],
   "source": [
    "from IPython.core.display import display, HTML\n",
    "\n",
    "display(HTML(\"<style>.container { width:60% !important; }</style>\"))"
   ]
  },
  {
   "cell_type": "code",
   "execution_count": 3,
   "id": "99f3860c-e5f3-4255-875f-45e721e2dd0c",
   "metadata": {
    "tags": []
   },
   "outputs": [],
   "source": [
    "from visualize_pyphi import *\n",
    "from visualize_pyphi import utils\n",
    "from visualize_pyphi import compute\n",
    "import pickle as pkl\n",
    "from tqdm.auto import tqdm\n",
    "import numpy as np\n",
    "import pandas as pd"
   ]
  },
  {
   "cell_type": "markdown",
   "id": "ff8f4cac",
   "metadata": {},
   "source": [
    "# Make network"
   ]
  },
  {
   "cell_type": "code",
   "execution_count": 4,
   "id": "82ea76af-2c19-4fcb-ad89-ecfd6417cd4a",
   "metadata": {},
   "outputs": [
    {
     "data": {
      "application/vnd.jupyter.widget-view+json": {
       "model_id": "f2da62d54a124bff9a403bef34917643",
       "version_major": 2,
       "version_minor": 0
      },
      "text/plain": [
       "  0%|          | 0/64 [00:00<?, ?it/s]"
      ]
     },
     "metadata": {},
     "output_type": "display_data"
    }
   ],
   "source": [
    "# Chapter 3 network\n",
    "\n",
    "net_name = \"ch3\"\n",
    "n=6\n",
    "\n",
    "# system parameters\n",
    "strong = 1\n",
    "medium = 0.2\n",
    "weak = 0.04\n",
    "none = 0\n",
    "\n",
    "# input output\n",
    "ff = 0.05\n",
    "fb = 0.005\n",
    "\n",
    "# naka rushdon params\n",
    "th = 1 / 4\n",
    "exp = 5\n",
    "\n",
    "weights = np.array(\n",
    "    [\n",
    "        [strong, none, weak, medium, 0, 0],\n",
    "        [medium, weak, none, strong, fb, 0],\n",
    "        [weak, strong, medium, none, 0, 0],\n",
    "        [none, medium, strong, weak, 0, ff],\n",
    "        [0, ff, 0, 0, 0, 0],\n",
    "        [0, 0, 0, fb, 0, 0],\n",
    "    ]\n",
    ")\n",
    "weights[:4,:4] /= weights[:4,:4].sum(1)\n",
    "\n",
    "node_labels = [\"A\", \"B\", \"C\", \"D\", \"I\", \"O\"]\n",
    "mech_func = [\"s\"] * n\n",
    "\n",
    "network = ng.get_net(\n",
    "    mech_func,\n",
    "    weights,\n",
    "    exp=exp,\n",
    "    th=th,\n",
    "    node_labels=node_labels,\n",
    "    network_name=net_name,\n",
    "    pickle_network=False,\n",
    ")"
   ]
  },
  {
   "cell_type": "markdown",
   "id": "0ee927ba",
   "metadata": {
    "heading_collapsed": true
   },
   "source": [
    "# Plot weights and tpms"
   ]
  },
  {
   "cell_type": "code",
   "execution_count": 5,
   "id": "d18705f0-26c1-4592-9d68-432c949495b9",
   "metadata": {
    "hidden": true
   },
   "outputs": [
    {
     "data": {
      "text/html": [
       "<div>\n",
       "<style scoped>\n",
       "    .dataframe tbody tr th:only-of-type {\n",
       "        vertical-align: middle;\n",
       "    }\n",
       "\n",
       "    .dataframe tbody tr th {\n",
       "        vertical-align: top;\n",
       "    }\n",
       "\n",
       "    .dataframe thead th {\n",
       "        text-align: right;\n",
       "    }\n",
       "</style>\n",
       "<table border=\"1\" class=\"dataframe\">\n",
       "  <thead>\n",
       "    <tr style=\"text-align: right;\">\n",
       "      <th></th>\n",
       "      <th>A</th>\n",
       "      <th>B</th>\n",
       "      <th>C</th>\n",
       "      <th>D</th>\n",
       "      <th>I</th>\n",
       "      <th>O</th>\n",
       "    </tr>\n",
       "  </thead>\n",
       "  <tbody>\n",
       "    <tr>\n",
       "      <th>A</th>\n",
       "      <td>0.806</td>\n",
       "      <td>0.000</td>\n",
       "      <td>0.032</td>\n",
       "      <td>0.161</td>\n",
       "      <td>0.000</td>\n",
       "      <td>0.00</td>\n",
       "    </tr>\n",
       "    <tr>\n",
       "      <th>B</th>\n",
       "      <td>0.161</td>\n",
       "      <td>0.032</td>\n",
       "      <td>0.000</td>\n",
       "      <td>0.806</td>\n",
       "      <td>0.005</td>\n",
       "      <td>0.00</td>\n",
       "    </tr>\n",
       "    <tr>\n",
       "      <th>C</th>\n",
       "      <td>0.032</td>\n",
       "      <td>0.806</td>\n",
       "      <td>0.161</td>\n",
       "      <td>0.000</td>\n",
       "      <td>0.000</td>\n",
       "      <td>0.00</td>\n",
       "    </tr>\n",
       "    <tr>\n",
       "      <th>D</th>\n",
       "      <td>0.000</td>\n",
       "      <td>0.161</td>\n",
       "      <td>0.806</td>\n",
       "      <td>0.032</td>\n",
       "      <td>0.000</td>\n",
       "      <td>0.05</td>\n",
       "    </tr>\n",
       "    <tr>\n",
       "      <th>I</th>\n",
       "      <td>0.000</td>\n",
       "      <td>0.050</td>\n",
       "      <td>0.000</td>\n",
       "      <td>0.000</td>\n",
       "      <td>0.000</td>\n",
       "      <td>0.00</td>\n",
       "    </tr>\n",
       "    <tr>\n",
       "      <th>O</th>\n",
       "      <td>0.000</td>\n",
       "      <td>0.000</td>\n",
       "      <td>0.000</td>\n",
       "      <td>0.005</td>\n",
       "      <td>0.000</td>\n",
       "      <td>0.00</td>\n",
       "    </tr>\n",
       "  </tbody>\n",
       "</table>\n",
       "</div>"
      ],
      "text/plain": [
       "       A      B      C      D      I     O\n",
       "A  0.806  0.000  0.032  0.161  0.000  0.00\n",
       "B  0.161  0.032  0.000  0.806  0.005  0.00\n",
       "C  0.032  0.806  0.161  0.000  0.000  0.00\n",
       "D  0.000  0.161  0.806  0.032  0.000  0.05\n",
       "I  0.000  0.050  0.000  0.000  0.000  0.00\n",
       "O  0.000  0.000  0.000  0.005  0.000  0.00"
      ]
     },
     "execution_count": 5,
     "metadata": {},
     "output_type": "execute_result"
    }
   ],
   "source": [
    "wdf = pd.DataFrame(np.round(weights,3),index=node_labels,columns=node_labels)\n",
    "wdf"
   ]
  },
  {
   "cell_type": "code",
   "execution_count": 6,
   "id": "887e2436",
   "metadata": {
    "hidden": true
   },
   "outputs": [],
   "source": [
    "sbs = np.round(pyphi.convert.state_by_node2state_by_state(network.tpm),3)\n",
    "states = [utils.strp(str(s)) for s in list(pyphi.utils.all_states(network.size))]\n",
    "\n",
    "import plotly.express as px\n",
    "\n",
    "fig = px.imshow(sbs,x=states,y=states,color_continuous_scale='Greys')\n",
    "fig.update_xaxes(side=\"top\")\n",
    "fig.update_layout(height=1200,width=2000,xaxis={'visible': False, 'showticklabels': False},yaxis={'visible': False, 'showticklabels': False})\n",
    "# fig.show()\n",
    "fig.write_image(f'figures/ch3/{net_name}_tpm_nolabels.png')\n",
    "\n",
    "\n",
    "\n",
    "fig = px.imshow(sbs,x=states,y=states,color_continuous_scale='Greys')\n",
    "fig.update_xaxes(side=\"top\")\n",
    "fig.update_layout(height=1200,width=2000)\n",
    "# fig.show()\n",
    "fig.write_image(f'figures/ch3/{net_name}_tpm_labels.png')"
   ]
  },
  {
   "cell_type": "markdown",
   "id": "77b839e8-17dd-4ebf-bc10-a7b7247008b7",
   "metadata": {
    "tags": []
   },
   "source": [
    "# standard system"
   ]
  },
  {
   "cell_type": "code",
   "execution_count": 7,
   "id": "4d4f90f3-5e65-4214-b63c-b7769674aecb",
   "metadata": {},
   "outputs": [
    {
     "name": "stderr",
     "output_type": "stream",
     "text": [
      "                                                                                                                                                         \r"
     ]
    },
    {
     "data": {
      "application/vnd.jupyter.widget-view+json": {
       "model_id": "74d8ac703c1543f78dd6b1584dc7599d",
       "version_major": 2,
       "version_minor": 0
      },
      "text/plain": [
       "  0%|          | 0/432 [00:00<?, ?it/s]"
      ]
     },
     "metadata": {},
     "output_type": "display_data"
    },
    {
     "name": "stderr",
     "output_type": "stream",
     "text": [
      "[Parallel(n_jobs=120)]: Using backend LokyBackend with 120 concurrent workers.\n",
      "[Parallel(n_jobs=120)]: Done   2 tasks      | elapsed:    2.5s\n",
      "[Parallel(n_jobs=120)]: Done  25 tasks      | elapsed:    3.9s\n",
      "[Parallel(n_jobs=120)]: Done  48 tasks      | elapsed:    4.3s\n",
      "[Parallel(n_jobs=120)]: Done  73 tasks      | elapsed:    4.7s\n",
      "[Parallel(n_jobs=120)]: Done  98 tasks      | elapsed:    5.3s\n",
      "[Parallel(n_jobs=120)]: Done 125 tasks      | elapsed:    5.9s\n",
      "[Parallel(n_jobs=120)]: Done 152 tasks      | elapsed:    6.5s\n",
      "[Parallel(n_jobs=120)]: Done 181 tasks      | elapsed:    7.0s\n",
      "[Parallel(n_jobs=120)]: Done 237 out of 432 | elapsed:    8.4s remaining:    6.9s\n",
      "[Parallel(n_jobs=120)]: Done 281 out of 432 | elapsed:    9.5s remaining:    5.1s\n",
      "[Parallel(n_jobs=120)]: Done 325 out of 432 | elapsed:   10.1s remaining:    3.3s\n",
      "[Parallel(n_jobs=120)]: Done 369 out of 432 | elapsed:   10.2s remaining:    1.7s\n",
      "[Parallel(n_jobs=120)]: Done 413 out of 432 | elapsed:   10.6s remaining:    0.5s\n",
      "[Parallel(n_jobs=120)]: Done 432 out of 432 | elapsed:   10.6s finished\n"
     ]
    }
   ],
   "source": [
    "\n",
    "state = (0, 1, 0, 0, 1, 0)\n",
    "subsystem_standard = pyphi.Subsystem(network, state, nodes=(0, 1, 2, 3))\n",
    "\n",
    "ces = utils.flatten(\n",
    "    [[d.cause, d.effect] for d in pyphi.compute.ces(subsystem_standard, parallel=True)]\n",
    ")\n",
    "\n",
    "standard_ces = compute.filter_ces(subsystem_standard, ces, None, max_relations_k=3, parallel=True)\n"
   ]
  },
  {
   "cell_type": "code",
   "execution_count": 15,
   "id": "9941231c",
   "metadata": {},
   "outputs": [],
   "source": [
    "# allrels = []\n",
    "# for k in tqdm(range(2,len(ces)+1)):\n",
    "#     print(f'Computing k = {k}...')\n",
    "#     krels = list(pyphi.relations.relations(subsystem_standard,ces,min_order=k,max_order=k,parallel=True,parallel_kwargs=dict(n_jobs=120,batch_size=10000,verbose=5)))\n",
    "#     allrels.append(krels)\n",
    "\n",
    "# utils.pklthis(allrels,'ch3_allrels.pkl')"
   ]
  },
  {
   "cell_type": "code",
   "execution_count": 16,
   "id": "0ad7287f",
   "metadata": {},
   "outputs": [],
   "source": [
    "allrels = utils.loadpkl('ch3_allrels.pkl')\n",
    "\n",
    "allrelsflat = utils.flatten(allrels)"
   ]
  },
  {
   "cell_type": "code",
   "execution_count": 19,
   "id": "e1a4e8b0",
   "metadata": {},
   "outputs": [
    {
     "data": {
      "application/vnd.jupyter.widget-view+json": {
       "model_id": "d5d16d06ca074213a8a5a2e024ce64c5",
       "version_major": 2,
       "version_minor": 0
      },
      "text/plain": [
       "  0%|          | 0/432 [00:00<?, ?it/s]"
      ]
     },
     "metadata": {},
     "output_type": "display_data"
    },
    {
     "name": "stderr",
     "output_type": "stream",
     "text": [
      "[Parallel(n_jobs=200)]: Using backend LokyBackend with 200 concurrent workers.\n",
      "/home/mgrasso/miniconda3/envs/4.0/lib/python3.7/site-packages/joblib/externals/loky/process_executor.py:705: UserWarning:\n",
      "\n",
      "A worker stopped while some jobs were given to the executor. This can be caused by a too short worker timeout or by a memory leak.\n",
      "\n",
      "[Parallel(n_jobs=200)]: Done  21 tasks      | elapsed: 20.6min\n",
      "[Parallel(n_jobs=200)]: Done  77 out of 432 | elapsed: 63.0min remaining: 290.3min\n",
      "[Parallel(n_jobs=200)]: Done 121 out of 432 | elapsed: 95.1min remaining: 244.5min\n",
      "[Parallel(n_jobs=200)]: Done 165 out of 432 | elapsed: 128.4min remaining: 207.7min\n",
      "[Parallel(n_jobs=200)]: Done 209 out of 432 | elapsed: 161.4min remaining: 172.2min\n",
      "[Parallel(n_jobs=200)]: Done 253 out of 432 | elapsed: 188.0min remaining: 133.0min\n",
      "[Parallel(n_jobs=200)]: Done 297 out of 432 | elapsed: 221.6min remaining: 100.7min\n",
      "[Parallel(n_jobs=200)]: Done 341 out of 432 | elapsed: 255.4min remaining: 68.2min\n",
      "[Parallel(n_jobs=200)]: Done 385 out of 432 | elapsed: 287.2min remaining: 35.1min\n",
      "[Parallel(n_jobs=200)]: Done 429 out of 432 | elapsed: 319.5min remaining:  2.2min\n",
      "[Parallel(n_jobs=200)]: Done 432 out of 432 | elapsed: 321.6min finished\n"
     ]
    }
   ],
   "source": [
    "standard_ces_allrels = compute.filter_ces(subsystem_standard, ces, None, relations=allrelsflat, parallel=True, n_jobs=200)"
   ]
  },
  {
   "cell_type": "code",
   "execution_count": null,
   "id": "5cb1bc35",
   "metadata": {},
   "outputs": [],
   "source": [
    "pklthis(standard_ces_allrels,f'{net_name}_ces_allrels.pkl')"
   ]
  },
  {
   "cell_type": "markdown",
   "id": "c1304ca8",
   "metadata": {},
   "source": [
    "# Plotting"
   ]
  },
  {
   "cell_type": "code",
   "execution_count": 20,
   "id": "c83e4487-ed14-4ab7-a2d7-7bd680679d8c",
   "metadata": {},
   "outputs": [],
   "source": [
    "# # plotting FULL CES\n",
    "# fig = viz.plot_ces(\n",
    "#     subsystem_standard,\n",
    "#     standard_ces[0][\"ces\"],\n",
    "#     standard_ces[0][\"relations\"],\n",
    "#     network_name=\"figures/ch3/standard_all\",\n",
    "# )"
   ]
  },
  {
   "cell_type": "code",
   "execution_count": 31,
   "id": "ca662764",
   "metadata": {},
   "outputs": [
    {
     "data": {
      "application/vnd.jupyter.widget-view+json": {
       "model_id": "02c61caa5a3047d2ae24b56d4bed3c32",
       "version_major": 2,
       "version_minor": 0
      },
      "text/plain": [
       "Computing triangles:   0%|          | 0/136 [00:00<?, ?it/s]"
      ]
     },
     "metadata": {},
     "output_type": "display_data"
    }
   ],
   "source": [
    "# plotting MESH\n",
    "fig = viz.plot_ces(\n",
    "    subsystem_standard,\n",
    "    standard_ces[0][\"ces\"],\n",
    "    standard_ces[0][\"relations\"],\n",
    "    network_name=\"figures/ch3/standard_mesh\",\n",
    "    png_resolution=(3000,2000),    \n",
    "    show_legend=False,    \n",
    "    show_edges=False,\n",
    "    show_mesh=True,\n",
    "    show_links=False,\n",
    "    show_labels=False,\n",
    "    show_mechanism_labels=False,\n",
    "    show_purview_labels=False,\n",
    "    show_mechanism_base=False,\n",
    "    show_chains=False,    \n",
    ")"
   ]
  },
  {
   "cell_type": "code",
   "execution_count": 32,
   "id": "d1088a3b",
   "metadata": {},
   "outputs": [
    {
     "data": {
      "application/vnd.jupyter.widget-view+json": {
       "model_id": "",
       "version_major": 2,
       "version_minor": 0
      },
      "text/plain": [
       "Computing edges:   0%|          | 0/73 [00:00<?, ?it/s]"
      ]
     },
     "metadata": {},
     "output_type": "display_data"
    }
   ],
   "source": [
    "# plotting EDGES\n",
    "fig = viz.plot_ces(\n",
    "    subsystem_standard,\n",
    "    standard_ces[0][\"ces\"],\n",
    "    standard_ces[0][\"relations\"],\n",
    "    network_name=\"figures/ch3/standard_EDGES\",\n",
    "    show_legend=False,    \n",
    "    png_resolution=(3000,2000),    \n",
    "    show_edges=True,\n",
    "    show_mesh=False,\n",
    "    show_links=False,\n",
    "    show_labels=False,\n",
    "    show_mechanism_base=False,\n",
    "    show_chains=False,    \n",
    ")"
   ]
  },
  {
   "cell_type": "code",
   "execution_count": 33,
   "id": "3935d4c0",
   "metadata": {},
   "outputs": [],
   "source": [
    "# plotting LABELS\n",
    "fig = viz.plot_ces(\n",
    "    subsystem_standard,\n",
    "    standard_ces[0][\"ces\"],\n",
    "    standard_ces[0][\"relations\"],\n",
    "    network_name=\"figures/ch3/standard_LABELS\",\n",
    "    show_legend=False,    \n",
    "    png_resolution=(3000,2000),    \n",
    "    show_edges=False,\n",
    "    show_mesh=False,\n",
    "    show_links=False,\n",
    "    show_labels=True,\n",
    "    show_mechanism_base=False,\n",
    "    show_chains=False,    \n",
    ")"
   ]
  },
  {
   "cell_type": "code",
   "execution_count": 36,
   "id": "54b0c068",
   "metadata": {},
   "outputs": [
    {
     "data": {
      "application/vnd.jupyter.widget-view+json": {
       "model_id": "",
       "version_major": 2,
       "version_minor": 0
      },
      "text/plain": [
       "Computing edges:   0%|          | 0/73 [00:00<?, ?it/s]"
      ]
     },
     "metadata": {},
     "output_type": "display_data"
    }
   ],
   "source": [
    "# plotting BASE\n",
    "fig = viz.plot_ces(\n",
    "    subsystem_standard,\n",
    "    standard_ces[0][\"ces\"],\n",
    "    standard_ces[0][\"relations\"],\n",
    "    network_name=\"figures/ch3/standard_BASE\",\n",
    "    show_legend=False,    \n",
    "    png_resolution=(3000,2000),    \n",
    "    show_edges=True,\n",
    "    transparent_edges=True,\n",
    "    show_mesh=False,\n",
    "    show_links=False,\n",
    "    show_labels=False,\n",
    "    show_mechanism_base=True,\n",
    "    show_chains=True,\n",
    "    \n",
    ")"
   ]
  },
  {
   "cell_type": "code",
   "execution_count": 37,
   "id": "9a759760",
   "metadata": {},
   "outputs": [
    {
     "data": {
      "application/vnd.jupyter.widget-view+json": {
       "model_id": "ace44bb753e94c55923d2aefebd885bc",
       "version_major": 2,
       "version_minor": 0
      },
      "text/plain": [
       "Computing edges:   0%|          | 0/73 [00:00<?, ?it/s]"
      ]
     },
     "metadata": {},
     "output_type": "display_data"
    }
   ],
   "source": [
    "# plotting LINKS\n",
    "fig = viz.plot_ces(\n",
    "    subsystem_standard,\n",
    "    standard_ces[0][\"ces\"],\n",
    "    standard_ces[0][\"relations\"],\n",
    "    network_name=\"figures/ch3/standard_LINKS\",\n",
    "    show_legend=False,    \n",
    "    png_resolution=(3000,2000),    \n",
    "    show_edges=True,\n",
    "    transparent_edges=True,\n",
    "    show_mesh=False,\n",
    "    show_links=True,\n",
    "    show_labels=False,\n",
    "    show_mechanism_base=False,\n",
    "    show_chains=False,\n",
    "    \n",
    ")"
   ]
  },
  {
   "cell_type": "code",
   "execution_count": null,
   "id": "7e8467e7",
   "metadata": {},
   "outputs": [],
   "source": []
  },
  {
   "cell_type": "markdown",
   "id": "b335eca3-ac2b-4d3e-bc8c-e5e993f69342",
   "metadata": {},
   "source": [
    "# Information"
   ]
  },
  {
   "cell_type": "markdown",
   "id": "ee828621-96e5-429b-882e-8f6c18ebba8e",
   "metadata": {},
   "source": [
    "## Consequence"
   ]
  },
  {
   "cell_type": "code",
   "execution_count": 38,
   "id": "96455e3b-09cb-4bf2-90c2-010a815e61c9",
   "metadata": {},
   "outputs": [
    {
     "name": "stderr",
     "output_type": "stream",
     "text": [
      "                                                                                                                                                         \r"
     ]
    },
    {
     "data": {
      "application/vnd.jupyter.widget-view+json": {
       "model_id": "b2ba94823bcc4f2b9954421f99e98416",
       "version_major": 2,
       "version_minor": 0
      },
      "text/plain": [
       "  0%|          | 0/288 [00:00<?, ?it/s]"
      ]
     },
     "metadata": {},
     "output_type": "display_data"
    },
    {
     "name": "stderr",
     "output_type": "stream",
     "text": [
      "[Parallel(n_jobs=120)]: Using backend MultiprocessingBackend with 120 concurrent workers.\n",
      "[Parallel(n_jobs=120)]: Done   2 tasks      | elapsed:    0.5s\n",
      "[Parallel(n_jobs=120)]: Done  25 tasks      | elapsed:    1.3s\n",
      "[Parallel(n_jobs=120)]: Done  48 tasks      | elapsed:    2.4s\n",
      "[Parallel(n_jobs=120)]: Done  78 out of 288 | elapsed:    3.5s remaining:    9.5s\n",
      "[Parallel(n_jobs=120)]: Done 107 out of 288 | elapsed:    4.3s remaining:    7.3s\n",
      "[Parallel(n_jobs=120)]: Done 136 out of 288 | elapsed:    5.6s remaining:    6.3s\n",
      "[Parallel(n_jobs=120)]: Done 165 out of 288 | elapsed:    6.3s remaining:    4.7s\n",
      "[Parallel(n_jobs=120)]: Done 194 out of 288 | elapsed:    7.4s remaining:    3.6s\n",
      "[Parallel(n_jobs=120)]: Done 223 out of 288 | elapsed:    7.9s remaining:    2.3s\n",
      "[Parallel(n_jobs=120)]: Done 252 out of 288 | elapsed:    8.4s remaining:    1.2s\n",
      "[Parallel(n_jobs=120)]: Done 281 out of 288 | elapsed:    9.7s remaining:    0.2s\n",
      "[Parallel(n_jobs=120)]: Done 288 out of 288 | elapsed:    9.9s finished\n"
     ]
    }
   ],
   "source": [
    "state = (0, 0, 0, 1, 0, 1)\n",
    "subsystem_consequence = pyphi.Subsystem(network, state, nodes=(0, 1, 2, 3))\n",
    "\n",
    "ces = utils.flatten(\n",
    "    [[d.cause, d.effect] for d in pyphi.compute.ces(subsystem_consequence, parallel=True)]\n",
    ")\n",
    "\n",
    "consequence_ces = compute.filter_ces(\n",
    "    subsystem_consequence, ces, None, max_relations_k=3, parallel=True\n",
    ")"
   ]
  },
  {
   "cell_type": "code",
   "execution_count": 39,
   "id": "9f5bbbf0-94f8-40c4-87e0-1c21c4bd2280",
   "metadata": {},
   "outputs": [
    {
     "data": {
      "application/vnd.jupyter.widget-view+json": {
       "model_id": "28f2d3b4dd4f4f368dcd15d941881942",
       "version_major": 2,
       "version_minor": 0
      },
      "text/plain": [
       "Computing edges:   0%|          | 0/76 [00:00<?, ?it/s]"
      ]
     },
     "metadata": {},
     "output_type": "display_data"
    },
    {
     "data": {
      "application/vnd.jupyter.widget-view+json": {
       "model_id": "dda5357267d842ca83a2c32fdf93d465",
       "version_major": 2,
       "version_minor": 0
      },
      "text/plain": [
       "Computing triangles:   0%|          | 0/158 [00:00<?, ?it/s]"
      ]
     },
     "metadata": {},
     "output_type": "display_data"
    }
   ],
   "source": [
    "# plotting\n",
    "fig = viz.plot_ces(\n",
    "    subsystem_consequence,\n",
    "    consequence_ces[0][\"ces\"],\n",
    "    consequence_ces[0][\"relations\"],\n",
    "    network_name=\"figures/ch3/information_1\",\n",
    "    show_legend=False,    \n",
    "    png_resolution=(3000,2000),       \n",
    ")"
   ]
  },
  {
   "cell_type": "markdown",
   "id": "e1554619-8833-465a-8bec-73ca1941b749",
   "metadata": {},
   "source": [
    "## All off"
   ]
  },
  {
   "cell_type": "code",
   "execution_count": 40,
   "id": "2eb17963-911b-4fc4-b7e6-ec0470beea0a",
   "metadata": {},
   "outputs": [
    {
     "name": "stderr",
     "output_type": "stream",
     "text": [
      "                                                                                                                                                         \r"
     ]
    },
    {
     "data": {
      "application/vnd.jupyter.widget-view+json": {
       "model_id": "bf850473ac724cb5baa512fa23786845",
       "version_major": 2,
       "version_minor": 0
      },
      "text/plain": [
       "  0%|          | 0/64 [00:00<?, ?it/s]"
      ]
     },
     "metadata": {},
     "output_type": "display_data"
    }
   ],
   "source": [
    "state = (0, 0, 0, 0, 0, 0)\n",
    "subsystem_all_off = pyphi.Subsystem(network, state, nodes=(0, 1, 2, 3))\n",
    "\n",
    "ces = utils.flatten(\n",
    "    [[d.cause, d.effect] for d in pyphi.compute.ces(subsystem_all_off, parallel=True)]\n",
    ")\n",
    "\n",
    "all_off_ces = compute.filter_ces(\n",
    "    subsystem_all_off, ces, None, max_relations_k=3, parallel=True\n",
    ")"
   ]
  },
  {
   "cell_type": "code",
   "execution_count": 41,
   "id": "8dad60c7-7e4f-45c8-8908-27ef54c81098",
   "metadata": {},
   "outputs": [
    {
     "data": {
      "application/vnd.jupyter.widget-view+json": {
       "model_id": "9f3e6651599e4fbe8ccc4ba3e2e7cd93",
       "version_major": 2,
       "version_minor": 0
      },
      "text/plain": [
       "Computing edges:   0%|          | 0/89 [00:00<?, ?it/s]"
      ]
     },
     "metadata": {},
     "output_type": "display_data"
    },
    {
     "data": {
      "application/vnd.jupyter.widget-view+json": {
       "model_id": "dc6e144d0bd04aa7b74795bf1d5531e2",
       "version_major": 2,
       "version_minor": 0
      },
      "text/plain": [
       "Computing triangles:   0%|          | 0/180 [00:00<?, ?it/s]"
      ]
     },
     "metadata": {},
     "output_type": "display_data"
    }
   ],
   "source": [
    "# plotting\n",
    "fig = viz.plot_ces(\n",
    "    subsystem_all_off,\n",
    "    all_off_ces[0][\"ces\"],\n",
    "    all_off_ces[0][\"relations\"],\n",
    "    network_name=\"figures/ch3/information_2\",\n",
    "    show_legend=False,    \n",
    "    png_resolution=(3000,2000),           \n",
    ")"
   ]
  },
  {
   "cell_type": "markdown",
   "id": "0fb2c33f-1c85-4162-a7ce-e91158feda39",
   "metadata": {},
   "source": [
    "# Integration"
   ]
  },
  {
   "cell_type": "code",
   "execution_count": 43,
   "id": "4eab8574-25ab-4287-a4e7-abc7dd8b01cf",
   "metadata": {},
   "outputs": [
    {
     "data": {
      "application/vnd.jupyter.widget-view+json": {
       "model_id": "9dcf8dbf4a3942abbeff36324ee5b1da",
       "version_major": 2,
       "version_minor": 0
      },
      "text/plain": [
       "Computing triangles:   0%|          | 0/136 [00:00<?, ?it/s]"
      ]
     },
     "metadata": {},
     "output_type": "display_data"
    },
    {
     "name": "stdout",
     "output_type": "stream",
     "text": [
      "Not redrawing base\n"
     ]
    },
    {
     "data": {
      "application/vnd.jupyter.widget-view+json": {
       "model_id": "0971546a172142cca376ebaeba76f2d3",
       "version_major": 2,
       "version_minor": 0
      },
      "text/plain": [
       "Computing edges:   0%|          | 0/22 [00:00<?, ?it/s]"
      ]
     },
     "metadata": {},
     "output_type": "display_data"
    },
    {
     "data": {
      "application/vnd.jupyter.widget-view+json": {
       "model_id": "db2fa0696a644f5c862036d0b95d28f3",
       "version_major": 2,
       "version_minor": 0
      },
      "text/plain": [
       "Computing triangles:   0%|          | 0/53 [00:00<?, ?it/s]"
      ]
     },
     "metadata": {},
     "output_type": "display_data"
    },
    {
     "name": "stdout",
     "output_type": "stream",
     "text": [
      "Not redrawing base\n"
     ]
    }
   ],
   "source": [
    "plots.plot_effect_of_MIP(\n",
    "    subsystem_standard,\n",
    "    standard_ces[0]['ces'],\n",
    "    standard_ces[0]['relations'],\n",
    "    \"figures/ch3/integration\",\n",
    "    partitions=None,\n",
    "    common_kwargs=dict(show_legend=False,    \n",
    "    png_resolution=(3000,2000))\n",
    ")"
   ]
  },
  {
   "cell_type": "markdown",
   "id": "59ba58ed-ae8d-4c87-9e09-938c3e8b54f4",
   "metadata": {},
   "source": [
    "# Exclusion"
   ]
  },
  {
   "cell_type": "markdown",
   "id": "57a2aedb",
   "metadata": {
    "heading_collapsed": true
   },
   "source": [
    "## Smaller system"
   ]
  },
  {
   "cell_type": "code",
   "execution_count": 85,
   "id": "788557e4-1551-4c59-892d-665b3ffde4fd",
   "metadata": {
    "hidden": true
   },
   "outputs": [
    {
     "name": "stderr",
     "output_type": "stream",
     "text": [
      "                                                                                                                                                         \r"
     ]
    },
    {
     "data": {
      "application/vnd.jupyter.widget-view+json": {
       "model_id": "f9046353ea1e48899f8b397c22212b0b",
       "version_major": 2,
       "version_minor": 0
      },
      "text/plain": [
       "  0%|          | 0/36 [00:00<?, ?it/s]"
      ]
     },
     "metadata": {},
     "output_type": "display_data"
    }
   ],
   "source": [
    "\n",
    "state = (0, 1, 0, 0, 1, 0)\n",
    "smaller_subsystem = pyphi.Subsystem(network, state, nodes=(0, 1, 2))\n",
    "\n",
    "ces = utils.flatten(\n",
    "    [[d.cause, d.effect] for d in pyphi.compute.ces(smaller_subsystem, parallel=True)]\n",
    ")\n",
    "\n",
    "smaller_ces = compute.filter_ces(smaller_subsystem, ces, None, max_relations_k=3, parallel=True)\n"
   ]
  },
  {
   "cell_type": "code",
   "execution_count": 101,
   "id": "8230c1cb-1c2a-427d-9ef3-979b42a0deae",
   "metadata": {
    "hidden": true
   },
   "outputs": [
    {
     "data": {
      "application/vnd.jupyter.widget-view+json": {
       "model_id": "06d57ba28da6455a8547dbe826b2c03e",
       "version_major": 2,
       "version_minor": 0
      },
      "text/plain": [
       "Computing edges:   0%|          | 0/6 [00:00<?, ?it/s]"
      ]
     },
     "metadata": {},
     "output_type": "display_data"
    },
    {
     "data": {
      "application/vnd.jupyter.widget-view+json": {
       "model_id": "b6e02c103b7740779b2031b478b3fd77",
       "version_major": 2,
       "version_minor": 0
      },
      "text/plain": [
       "Computing triangles:   0%|          | 0/2 [00:00<?, ?it/s]"
      ]
     },
     "metadata": {},
     "output_type": "display_data"
    }
   ],
   "source": [
    "# plotting\n",
    "fig = viz.plot_ces(\n",
    "    smaller_subsystem,\n",
    "    smaller_ces[0][\"ces\"],\n",
    "    smaller_ces[0][\"relations\"],\n",
    "    network_name=\"figures/ch3/exclusion_1\",\n",
    "    show_legend=False,    \n",
    "    png_resolution=(3000,2000),\n",
    "    floor_width_scales=[2, 2, 2],    \n",
    "    floor_height_scale=[1,1,1],\n",
    "    base_height_scale=1,\n",
    "    base_z_offset=0.3,\n",
    "    base_width_scale=1,\n",
    "    cause_effect_distance=0.3,\n",
    "    eye_coordinates=(-0.3, -0.2, 0.025),\n",
    "    \n",
    ")"
   ]
  },
  {
   "cell_type": "markdown",
   "id": "5018337a-45ea-433c-b447-f0ef71735b46",
   "metadata": {},
   "source": [
    "## Larger system"
   ]
  },
  {
   "cell_type": "code",
   "execution_count": 57,
   "id": "1f7cb964-35ae-4e0f-9227-b9a64a674157",
   "metadata": {},
   "outputs": [
    {
     "name": "stderr",
     "output_type": "stream",
     "text": [
      "                                                                                                                                                         \r"
     ]
    },
    {
     "data": {
      "application/vnd.jupyter.widget-view+json": {
       "model_id": "64a2ad00565e40eb9d2cebba28ca7f42",
       "version_major": 2,
       "version_minor": 0
      },
      "text/plain": [
       "  0%|          | 0/288 [00:00<?, ?it/s]"
      ]
     },
     "metadata": {},
     "output_type": "display_data"
    },
    {
     "name": "stderr",
     "output_type": "stream",
     "text": [
      "[Parallel(n_jobs=120)]: Using backend MultiprocessingBackend with 120 concurrent workers.\n",
      "[Parallel(n_jobs=120)]: Done   2 tasks      | elapsed:    0.2s\n",
      "[Parallel(n_jobs=120)]: Done  25 tasks      | elapsed:    0.7s\n",
      "[Parallel(n_jobs=120)]: Done  48 tasks      | elapsed:    1.0s\n",
      "[Parallel(n_jobs=120)]: Done  78 out of 288 | elapsed:    1.8s remaining:    4.8s\n",
      "[Parallel(n_jobs=120)]: Done 107 out of 288 | elapsed:    2.3s remaining:    3.9s\n",
      "[Parallel(n_jobs=120)]: Done 136 out of 288 | elapsed:    3.1s remaining:    3.4s\n",
      "[Parallel(n_jobs=120)]: Done 165 out of 288 | elapsed:    3.7s remaining:    2.7s\n",
      "[Parallel(n_jobs=120)]: Done 194 out of 288 | elapsed:    4.3s remaining:    2.1s\n",
      "[Parallel(n_jobs=120)]: Done 223 out of 288 | elapsed:    4.6s remaining:    1.4s\n",
      "[Parallel(n_jobs=120)]: Done 252 out of 288 | elapsed:    5.0s remaining:    0.7s\n",
      "[Parallel(n_jobs=120)]: Done 281 out of 288 | elapsed:    5.7s remaining:    0.1s\n",
      "[Parallel(n_jobs=120)]: Done 288 out of 288 | elapsed:    5.8s finished\n"
     ]
    }
   ],
   "source": [
    "\n",
    "state = (0, 1, 0, 0, 1, 0)\n",
    "larger_subsystem = pyphi.Subsystem(network, state, nodes=(0, 1, 2, 3, 5))\n",
    "\n",
    "ces = utils.flatten(\n",
    "    [[d.cause, d.effect] for d in pyphi.compute.ces(larger_subsystem, parallel=True)]\n",
    ")\n",
    "\n",
    "larger_ces = compute.filter_ces(larger_subsystem, ces, None, max_relations_k=3, parallel=True)\n"
   ]
  },
  {
   "cell_type": "code",
   "execution_count": 84,
   "id": "f78ba039-cc68-4b34-957e-169fd8b3f5e7",
   "metadata": {},
   "outputs": [
    {
     "data": {
      "application/vnd.jupyter.widget-view+json": {
       "model_id": "ce97137c24514be88bd9d9efd674d535",
       "version_major": 2,
       "version_minor": 0
      },
      "text/plain": [
       "Computing edges:   0%|          | 0/37 [00:00<?, ?it/s]"
      ]
     },
     "metadata": {},
     "output_type": "display_data"
    },
    {
     "data": {
      "application/vnd.jupyter.widget-view+json": {
       "model_id": "4f25e4cf10ee4e6f857adc9e42372656",
       "version_major": 2,
       "version_minor": 0
      },
      "text/plain": [
       "Computing triangles:   0%|          | 0/37 [00:00<?, ?it/s]"
      ]
     },
     "metadata": {},
     "output_type": "display_data"
    }
   ],
   "source": [
    "# plotting\n",
    "fig = viz.plot_ces(\n",
    "    larger_subsystem,\n",
    "    larger_ces[0][\"ces\"],\n",
    "    larger_ces[0][\"relations\"],\n",
    "    network_name=\"figures/ch3/exclusion_2\",\n",
    "    show_legend=False,    \n",
    "    png_resolution=(3000,2000),\n",
    "    floor_width_scales=[1.25 for x in range(len(list(pyphi.utils.powerset(larger_subsystem.node_indices))))],\n",
    "    floor_height_scale=[1.75 for x in range(len(list(pyphi.utils.powerset(larger_subsystem.node_indices))))],\n",
    "    base_height_scale=5,\n",
    "    base_z_offset=-.2,\n",
    "     base_width_scale=.6,\n",
    "#     cause_effect_distance=0.6,    \n",
    "    hovermode=False,    \n",
    "    eye_coordinates=(0.2, -0.4, 0.025),\n",
    ")"
   ]
  },
  {
   "cell_type": "markdown",
   "id": "9b16d00d-121f-4678-b9ed-59d48b9cba6e",
   "metadata": {},
   "source": [
    "# For chapter 4"
   ]
  },
  {
   "cell_type": "markdown",
   "id": "e3c96bb9-f486-4b3b-8d8a-65d29e3d451a",
   "metadata": {},
   "source": [
    "## A compound distinction\n",
    "The context of a single cause-effect distinction "
   ]
  },
  {
   "cell_type": "code",
   "execution_count": 76,
   "id": "c26321bf-e7a0-4f61-b85a-b56535284ea7",
   "metadata": {},
   "outputs": [
    {
     "data": {
      "application/vnd.jupyter.widget-view+json": {
       "model_id": "eb705b58bf7543949e85ac09e4287b36",
       "version_major": 2,
       "version_minor": 0
      },
      "text/plain": [
       "Computing triangles:   0%|          | 0/136 [00:00<?, ?it/s]"
      ]
     },
     "metadata": {},
     "output_type": "display_data"
    },
    {
     "name": "stdout",
     "output_type": "stream",
     "text": [
      "Not redrawing base\n"
     ]
    },
    {
     "data": {
      "application/vnd.jupyter.widget-view+json": {
       "model_id": "1221e0b0a2cb43ccae803485f040eab9",
       "version_major": 2,
       "version_minor": 0
      },
      "text/plain": [
       "Computing edges:   0%|          | 0/15 [00:00<?, ?it/s]"
      ]
     },
     "metadata": {},
     "output_type": "display_data"
    },
    {
     "data": {
      "application/vnd.jupyter.widget-view+json": {
       "model_id": "6c932639500044ecb7bfeaed5bb60802",
       "version_major": 2,
       "version_minor": 0
      },
      "text/plain": [
       "Computing triangles:   0%|          | 0/49 [00:00<?, ?it/s]"
      ]
     },
     "metadata": {},
     "output_type": "display_data"
    },
    {
     "name": "stdout",
     "output_type": "stream",
     "text": [
      "Not redrawing base\n"
     ]
    }
   ],
   "source": [
    "fig=plots.compound_distinction(\n",
    "    subsystem_standard,\n",
    "    standard_ces[0][\"ces\"],\n",
    "    standard_ces[0][\"relations\"],\n",
    "    (0,),\n",
    "    \"figures/ch3/compound_distinction\",\n",
    ")"
   ]
  },
  {
   "cell_type": "markdown",
   "id": "5bb763c3-e4a6-4fa3-8f20-da5d01f7065b",
   "metadata": {},
   "source": [
    "## A compound relation\n",
    "The set of relations binding two compound distinctions.\n",
    "The relations are those where every relatum is in exactly one of the compound distinctions (contexts of purviews specified by a single mechanism)."
   ]
  },
  {
   "cell_type": "code",
   "execution_count": 75,
   "id": "86ac6c94-292a-4a0b-ac4f-d994efb8479b",
   "metadata": {},
   "outputs": [
    {
     "name": "stdout",
     "output_type": "stream",
     "text": [
      "[Relation(relata=(Effect[0,1,2,3],Effect[3]), purview=frozenset({2}), phi=0.35450678342719005), Relation(relata=(Cause[2,3],Cause[0,1]), purview=frozenset({1}), phi=0.012551818426460727), Relation(relata=(Cause[0,1,2],Cause[0,1]), purview=frozenset({1, 2}), phi=0.4057259681108796), Relation(relata=(Effect[0,2],Effect[0,3]), purview=frozenset({2}), phi=0.0878285603007224), Relation(relata=(Effect[2,3],Effect[0,2]), purview=frozenset({2}), phi=0.0878285603007224), Relation(relata=(Effect[0,1,2],Effect[0,3]), purview=frozenset({2}), phi=0.052735286416853586), Relation(relata=(Effect[2,3],Effect[0,1,2]), purview=frozenset({2}), phi=0.052735286416853586), Relation(relata=(Effect[0,2],Effect[0,3],Effect[3]), purview=frozenset({2}), phi=0.08782856030072272), Relation(relata=(Effect[2,3],Effect[0,2],Effect[3]), purview=frozenset({2}), phi=0.08782856030072272), Relation(relata=(Effect[0,1,2],Effect[0,3],Effect[3]), purview=frozenset({2}), phi=0.052735286416853905), Relation(relata=(Effect[2,3],Effect[0,1,2],Effect[3]), purview=frozenset({2}), phi=0.052735286416853905)]\n"
     ]
    },
    {
     "data": {
      "application/vnd.jupyter.widget-view+json": {
       "model_id": "a1056ed35e3444aeba44905f27d66e92",
       "version_major": 2,
       "version_minor": 0
      },
      "text/plain": [
       "Computing triangles:   0%|          | 0/136 [00:00<?, ?it/s]"
      ]
     },
     "metadata": {},
     "output_type": "display_data"
    },
    {
     "name": "stdout",
     "output_type": "stream",
     "text": [
      "Not redrawing base\n",
      "Not redrawing base\n"
     ]
    },
    {
     "data": {
      "application/vnd.jupyter.widget-view+json": {
       "model_id": "76d2ba4df7f34069beee61ef3de79d25",
       "version_major": 2,
       "version_minor": 0
      },
      "text/plain": [
       "Computing edges:   0%|          | 0/7 [00:00<?, ?it/s]"
      ]
     },
     "metadata": {},
     "output_type": "display_data"
    },
    {
     "data": {
      "application/vnd.jupyter.widget-view+json": {
       "model_id": "f6e83804f6e54a07853c49ee6c7d499c",
       "version_major": 2,
       "version_minor": 0
      },
      "text/plain": [
       "Computing triangles:   0%|          | 0/4 [00:00<?, ?it/s]"
      ]
     },
     "metadata": {},
     "output_type": "display_data"
    }
   ],
   "source": [
    "fig = plots.compound_relation(\n",
    "    subsystem_standard,\n",
    "    standard_ces[0][\"ces\"],\n",
    "    standard_ces[0][\"relations\"],\n",
    "    [(0,), (2,)],\n",
    "    \"figures/ch3/compound_relation\",\n",
    ")"
   ]
  },
  {
   "cell_type": "markdown",
   "id": "43ff7a79-119c-41a6-8f3a-8f338517c793",
   "metadata": {},
   "source": [
    "# A mechanism phifold"
   ]
  },
  {
   "cell_type": "code",
   "execution_count": 7,
   "id": "f09a9c33-f871-4d0d-b27c-a8085cb19a0c",
   "metadata": {
    "collapsed": true,
    "jupyter": {
     "outputs_hidden": true
    },
    "tags": []
   },
   "outputs": [
    {
     "data": {
      "application/vnd.jupyter.widget-view+json": {
       "model_id": "22d32243d7eb46d58d6aa44bdb4c77b4",
       "version_major": 2,
       "version_minor": 0
      },
      "text/plain": [
       "Computing triangles:   0%|          | 0/136 [00:00<?, ?it/s]"
      ]
     },
     "metadata": {},
     "output_type": "display_data"
    },
    {
     "name": "stdout",
     "output_type": "stream",
     "text": [
      "Not redrawing base\n"
     ]
    },
    {
     "ename": "IndexError",
     "evalue": "too many indices for array: array is 1-dimensional, but 2 were indexed",
     "output_type": "error",
     "traceback": [
      "\u001b[0;31m---------------------------------------------------------------------------\u001b[0m",
      "\u001b[0;31mIndexError\u001b[0m                                Traceback (most recent call last)",
      "\u001b[0;32m/tmp/ipykernel_37618/4170980925.py\u001b[0m in \u001b[0;36m<module>\u001b[0;34m\u001b[0m\n\u001b[0;32m----> 1\u001b[0;31m fig = plots.mechanism_phi_fold(\n\u001b[0m\u001b[1;32m      2\u001b[0m     \u001b[0msubsystem_standard\u001b[0m\u001b[0;34m,\u001b[0m\u001b[0;34m\u001b[0m\u001b[0;34m\u001b[0m\u001b[0m\n\u001b[1;32m      3\u001b[0m     \u001b[0mstandard_ces\u001b[0m\u001b[0;34m[\u001b[0m\u001b[0;36m0\u001b[0m\u001b[0;34m]\u001b[0m\u001b[0;34m[\u001b[0m\u001b[0;34m\"ces\"\u001b[0m\u001b[0;34m]\u001b[0m\u001b[0;34m,\u001b[0m\u001b[0;34m\u001b[0m\u001b[0;34m\u001b[0m\u001b[0m\n\u001b[1;32m      4\u001b[0m     \u001b[0mstandard_ces\u001b[0m\u001b[0;34m[\u001b[0m\u001b[0;36m0\u001b[0m\u001b[0;34m]\u001b[0m\u001b[0;34m[\u001b[0m\u001b[0;34m\"relations\"\u001b[0m\u001b[0;34m]\u001b[0m\u001b[0;34m,\u001b[0m\u001b[0;34m\u001b[0m\u001b[0;34m\u001b[0m\u001b[0m\n\u001b[1;32m      5\u001b[0m     \u001b[0;34m[\u001b[0m\u001b[0;34m(\u001b[0m\u001b[0;36m0\u001b[0m\u001b[0;34m,\u001b[0m \u001b[0;36m2\u001b[0m\u001b[0;34m,\u001b[0m\u001b[0;34m)\u001b[0m\u001b[0;34m]\u001b[0m\u001b[0;34m,\u001b[0m\u001b[0;34m\u001b[0m\u001b[0;34m\u001b[0m\u001b[0m\n",
      "\u001b[0;32m~/projects/visualize/visualize_pyphi/visualize_pyphi/special_plots.py\u001b[0m in \u001b[0;36mmechanism_phi_fold\u001b[0;34m(system, ces, relations, mechanism, figure_name, common_kwargs, uncommon_kwargs)\u001b[0m\n\u001b[1;32m    396\u001b[0m     ]\n\u001b[1;32m    397\u001b[0m \u001b[0;34m\u001b[0m\u001b[0m\n\u001b[0;32m--> 398\u001b[0;31m     \u001b[0moverlaid_ces_plot\u001b[0m\u001b[0;34m(\u001b[0m\u001b[0msystem\u001b[0m\u001b[0;34m,\u001b[0m \u001b[0mcess\u001b[0m\u001b[0;34m,\u001b[0m \u001b[0mrelations\u001b[0m\u001b[0;34m,\u001b[0m \u001b[0mnonstandard_kwargs\u001b[0m\u001b[0;34m)\u001b[0m\u001b[0;34m\u001b[0m\u001b[0;34m\u001b[0m\u001b[0m\n\u001b[0m\u001b[1;32m    399\u001b[0m \u001b[0;34m\u001b[0m\u001b[0m\n\u001b[1;32m    400\u001b[0m \u001b[0;34m\u001b[0m\u001b[0m\n",
      "\u001b[0;32m~/projects/visualize/visualize_pyphi/visualize_pyphi/special_plots.py\u001b[0m in \u001b[0;36moverlaid_ces_plot\u001b[0;34m(system, cess, relations, nonstandard_kwargs)\u001b[0m\n\u001b[1;32m     23\u001b[0m             \u001b[0mfig_kwargs\u001b[0m\u001b[0;34m[\u001b[0m\u001b[0;34m\"fig\"\u001b[0m\u001b[0;34m]\u001b[0m \u001b[0;34m=\u001b[0m \u001b[0mfig\u001b[0m\u001b[0;34m\u001b[0m\u001b[0;34m\u001b[0m\u001b[0m\n\u001b[1;32m     24\u001b[0m \u001b[0;34m\u001b[0m\u001b[0m\n\u001b[0;32m---> 25\u001b[0;31m         \u001b[0mfig\u001b[0m \u001b[0;34m=\u001b[0m \u001b[0mviz\u001b[0m\u001b[0;34m.\u001b[0m\u001b[0mplot_ces\u001b[0m\u001b[0;34m(\u001b[0m\u001b[0msystem\u001b[0m\u001b[0;34m,\u001b[0m \u001b[0mcess\u001b[0m\u001b[0;34m[\u001b[0m\u001b[0mi\u001b[0m\u001b[0;34m]\u001b[0m\u001b[0;34m,\u001b[0m \u001b[0mrelations\u001b[0m\u001b[0;34m[\u001b[0m\u001b[0mi\u001b[0m\u001b[0;34m]\u001b[0m\u001b[0;34m,\u001b[0m \u001b[0;34m**\u001b[0m\u001b[0mfig_kwargs\u001b[0m\u001b[0;34m)\u001b[0m\u001b[0;34m\u001b[0m\u001b[0;34m\u001b[0m\u001b[0m\n\u001b[0m\u001b[1;32m     26\u001b[0m \u001b[0;34m\u001b[0m\u001b[0m\n\u001b[1;32m     27\u001b[0m     \u001b[0;32mreturn\u001b[0m \u001b[0mfig\u001b[0m\u001b[0;34m\u001b[0m\u001b[0;34m\u001b[0m\u001b[0m\n",
      "\u001b[0;32m~/projects/visualize/visualize_pyphi/visualize_pyphi/visualize_ces.py\u001b[0m in \u001b[0;36mplot_ces\u001b[0;34m(subsystem, ces, relations, network_name, floor_width_scale, floor_width_scales, floor_height_scale, cause_effect_distance, base_height_scale, base_z_offset, base_width_scale, base_opacity, base_intensity, base_color, user_mechanism_coordinates, user_purview_coordinates, mechanism_labels_size, purview_labels_size, mechanism_label_position, purview_label_position, edge_size_range, state_as_lettercase, link_width_range, transparent_edges, surface_size_range, surface_colorscale, surface_opacity, axes_range, eye_coordinates, hovermode, plot_dimensions, save_plot_to_html, save_plot_to_png, show_mechanism_base, show_chains, show_links, show_mesh, show_edges, show_labels, show_mechanism_labels, show_purview_labels, colorcode_2_relations, show_legend, transparent_background, chain_width, fig, matteo_edge_color)\u001b[0m\n\u001b[1;32m    338\u001b[0m     \u001b[0mz_mechanism\u001b[0m \u001b[0;34m=\u001b[0m \u001b[0mnp\u001b[0m\u001b[0;34m.\u001b[0m\u001b[0marray\u001b[0m\u001b[0;34m(\u001b[0m\u001b[0;34m[\u001b[0m\u001b[0mbase_coordinates\u001b[0m\u001b[0;34m[\u001b[0m\u001b[0mmice\u001b[0m\u001b[0;34m.\u001b[0m\u001b[0mmechanism\u001b[0m\u001b[0;34m]\u001b[0m\u001b[0;34m[\u001b[0m\u001b[0;36m2\u001b[0m\u001b[0;34m]\u001b[0m \u001b[0;32mfor\u001b[0m \u001b[0mmice\u001b[0m \u001b[0;32min\u001b[0m \u001b[0mces\u001b[0m\u001b[0;34m]\u001b[0m\u001b[0;34m)\u001b[0m\u001b[0;34m\u001b[0m\u001b[0;34m\u001b[0m\u001b[0m\n\u001b[1;32m    339\u001b[0m \u001b[0;34m\u001b[0m\u001b[0m\n\u001b[0;32m--> 340\u001b[0;31m     \u001b[0mx_purview\u001b[0m \u001b[0;34m=\u001b[0m \u001b[0mpurview_coordinates\u001b[0m\u001b[0;34m[\u001b[0m\u001b[0;34m:\u001b[0m\u001b[0;34m,\u001b[0m \u001b[0;36m0\u001b[0m\u001b[0;34m]\u001b[0m\u001b[0;34m\u001b[0m\u001b[0;34m\u001b[0m\u001b[0m\n\u001b[0m\u001b[1;32m    341\u001b[0m     \u001b[0my_purview\u001b[0m \u001b[0;34m=\u001b[0m \u001b[0mpurview_coordinates\u001b[0m\u001b[0;34m[\u001b[0m\u001b[0;34m:\u001b[0m\u001b[0;34m,\u001b[0m \u001b[0;36m1\u001b[0m\u001b[0;34m]\u001b[0m\u001b[0;34m\u001b[0m\u001b[0;34m\u001b[0m\u001b[0m\n\u001b[1;32m    342\u001b[0m     \u001b[0mz_purview\u001b[0m \u001b[0;34m=\u001b[0m \u001b[0mpurview_coordinates\u001b[0m\u001b[0;34m[\u001b[0m\u001b[0;34m:\u001b[0m\u001b[0;34m,\u001b[0m \u001b[0;36m2\u001b[0m\u001b[0;34m]\u001b[0m\u001b[0;34m\u001b[0m\u001b[0;34m\u001b[0m\u001b[0m\n",
      "\u001b[0;31mIndexError\u001b[0m: too many indices for array: array is 1-dimensional, but 2 were indexed"
     ]
    }
   ],
   "source": [
    "fig = plots.mechanism_phi_fold(\n",
    "    subsystem_standard,\n",
    "    standard_ces[0][\"ces\"],\n",
    "    standard_ces[0][\"relations\"],\n",
    "    [(0, 2,)],\n",
    "    \"figures/ch3/mechanism_phifold\",\n",
    "    )"
   ]
  },
  {
   "cell_type": "markdown",
   "id": "1e341d41-4251-4e67-9e77-34d72f1a1183",
   "metadata": {},
   "source": [
    "# A purview phifold"
   ]
  },
  {
   "cell_type": "code",
   "execution_count": null,
   "id": "61531b83-a754-4936-af89-5c868cf7b006",
   "metadata": {},
   "outputs": [],
   "source": []
  },
  {
   "cell_type": "markdown",
   "id": "887cb919-7fd1-4011-bc9a-beaf354ca2b8",
   "metadata": {},
   "source": [
    "# A compound phifold"
   ]
  },
  {
   "cell_type": "code",
   "execution_count": null,
   "id": "5f480685-8cbe-4487-abc0-1646249c556b",
   "metadata": {},
   "outputs": [],
   "source": []
  },
  {
   "cell_type": "markdown",
   "id": "05bca913-087c-47ee-a04a-a1c28a3560c9",
   "metadata": {},
   "source": [
    "# A content"
   ]
  },
  {
   "cell_type": "code",
   "execution_count": null,
   "id": "b7374e03-1393-4016-a2f3-32198b2a9ed5",
   "metadata": {},
   "outputs": [],
   "source": [
    "content(\n",
    "    system,\n",
    "    ces,\n",
    "    relations,\n",
    "    mices,\n",
    "    figure_name,\n",
    "    common_kwargs=dict(),\n",
    "    uncommon_kwargs=[dict(), dict(), dict()],\n",
    "):\n",
    "\n",
    "    all_context_relations = [r for r in relations if any([relatum in mices for relatum in r.relata])] for mices in all_mices]\n",
    "    all_context_distinctions = [list(set([mice for relation in context_relations for mice in relation.relata])) for context_relations in all_context_relations]\n",
    "\n",
    "    # Getting the relations that have relata in exactly one of the contexts\n",
    "    context_biding_relations = [r for r in relations \n",
    "                                if all([any([relatum in context_distinctions for relatum in r.relata]) for context_distinctions in all_context_distinctions]) \n",
    "                                and all([sum([relatum in context_distinctions for relatum in r.relata])==1 for context_distinctions in all_context_distinctions])]\n",
    "    required_mices = list(set([mice for relation in context_biding_relations for mice in relation.relata]))\n",
    "    \n",
    "    cess = [ces, [mice for mices in all_mices for mice in mices], required_mices]\n",
    "    relations = [relations, [], context_biding_relations]\n",
    "\n",
    "    default_common_kwargs = dict(\n",
    "        network_name=figure_name, show_legend=False, show_labels=False,\n",
    "    )\n",
    "    default_common_kwargs.update(common_kwargs)\n",
    "\n",
    "    default_uncommon_kwargs = [\n",
    "        dict(\n",
    "            surface_colorscale=\"Blues\",\n",
    "            surface_opacity=0.1,\n",
    "            show_links=False,\n",
    "            show_edges=False,\n",
    "            save_plot_to_png=False,\n",
    "            save_plot_to_html=False,\n",
    "        ),\n",
    "        dict(\n",
    "            surface_colorscale=\"Greys\",\n",
    "            surface_opacity=0.01,\n",
    "            show_edges=False,\n",
    "            show_chains=False,\n",
    "            show_mechanism_base=False,\n",
    "            show_mechanism_labels=True,\n",
    "            show_links=True,\n",
    "        ),\n",
    "        dict(\n",
    "            surface_colorscale=\"Purples\",\n",
    "            surface_opacity=0.9,\n",
    "            show_chains=False,\n",
    "            show_mechanism_base=False,\n",
    "            matteo_edge_color=False,\n",
    "            show_links=False,\n",
    "            show_edges=True,\n",
    "            show_purview_labels=True,\n",
    "        ),\n",
    "    ]\n",
    "    default_uncommon_kwargs = [\n",
    "        dict(**default_uncommon_kwarg, **uncommon_kwarg)\n",
    "        for default_uncommon_kwarg, uncommon_kwarg in zip(\n",
    "            default_uncommon_kwargs, uncommon_kwargs\n",
    "        )\n",
    "    ]\n",
    "\n",
    "    nonstandard_kwargs = [\n",
    "        dict(**default_common_kwargs, **kwargs) for kwargs in default_uncommon_kwargs\n",
    "    ]\n"
   ]
  },
  {
   "cell_type": "code",
   "execution_count": null,
   "id": "54631bfe-90a7-4d43-a0df-6d91d2d10439",
   "metadata": {},
   "outputs": [],
   "source": []
  },
  {
   "cell_type": "markdown",
   "id": "14941263-3c28-4d2b-bdf4-8f5d95280dbb",
   "metadata": {},
   "source": [
    "# Neurologically relevant manipulations"
   ]
  },
  {
   "cell_type": "markdown",
   "id": "328b0999-3efc-411b-8944-4bca411877ec",
   "metadata": {},
   "source": [
    "## Activating/deactivating a unit"
   ]
  },
  {
   "cell_type": "code",
   "execution_count": 15,
   "id": "59764976-3505-439f-bd2b-7cd3980a8708",
   "metadata": {},
   "outputs": [
    {
     "name": "stderr",
     "output_type": "stream",
     "text": [
      "\n",
      "Computing concepts:   0%|                                                                        | 0/15 [00:00<?, ?it/s]\u001b[A\n",
      "Computing concepts:   7%|████▎                                                           | 1/15 [00:04<01:05,  4.67s/it]\u001b[A\n",
      "Computing concepts:  67%|██████████████████████████████████████████                     | 10/15 [00:04<00:01,  2.88it/s]\u001b[A\n",
      "                                                                                                                        \u001b[A"
     ]
    },
    {
     "data": {
      "application/vnd.jupyter.widget-view+json": {
       "model_id": "8ce107afeb41461d9637f098d5a5672a",
       "version_major": 2,
       "version_minor": 0
      },
      "text/plain": [
       "  0%|          | 0/432 [00:00<?, ?it/s]"
      ]
     },
     "metadata": {},
     "output_type": "display_data"
    },
    {
     "name": "stderr",
     "output_type": "stream",
     "text": [
      "[Parallel(n_jobs=120)]: Using backend MultiprocessingBackend with 120 concurrent workers.\n",
      "[Parallel(n_jobs=120)]: Done   2 tasks      | elapsed:    0.3s\n",
      "[Parallel(n_jobs=120)]: Done  25 tasks      | elapsed:    0.7s\n",
      "[Parallel(n_jobs=120)]: Done  48 tasks      | elapsed:    1.1s\n",
      "[Parallel(n_jobs=120)]: Done  73 tasks      | elapsed:    1.4s\n",
      "[Parallel(n_jobs=120)]: Done  98 tasks      | elapsed:    1.8s\n",
      "[Parallel(n_jobs=120)]: Done 125 tasks      | elapsed:    2.2s\n",
      "[Parallel(n_jobs=120)]: Done 152 tasks      | elapsed:    2.7s\n",
      "[Parallel(n_jobs=120)]: Done 181 tasks      | elapsed:    3.3s\n",
      "[Parallel(n_jobs=120)]: Done 237 out of 432 | elapsed:    4.3s remaining:    3.5s\n",
      "[Parallel(n_jobs=120)]: Done 281 out of 432 | elapsed:    5.1s remaining:    2.7s\n",
      "[Parallel(n_jobs=120)]: Done 325 out of 432 | elapsed:    8.1s remaining:    2.7s\n",
      "[Parallel(n_jobs=120)]: Done 369 out of 432 | elapsed:    8.6s remaining:    1.5s\n",
      "[Parallel(n_jobs=120)]: Done 413 out of 432 | elapsed:    9.2s remaining:    0.4s\n",
      "[Parallel(n_jobs=120)]: Done 432 out of 432 | elapsed:    9.6s finished\n"
     ]
    }
   ],
   "source": [
    "state = (0, 1, 0, 0, 1, 0)\n",
    "subsystem_state1 = pyphi.Subsystem(network, state, nodes=(0, 1, 2, 3))\n",
    "\n",
    "ces = utils.flatten(\n",
    "    [[d.cause, d.effect] for d in pyphi.compute.ces(subsystem_state1, parallel=True)]\n",
    ")\n",
    "\n",
    "ces_state1 = compute.filter_ces(\n",
    "    subsystem_state1, ces, None, max_relations_k=3, parallel=True\n",
    ")"
   ]
  },
  {
   "cell_type": "code",
   "execution_count": 19,
   "id": "6a853309-2c65-495c-8fa1-c70b2701b63e",
   "metadata": {
    "tags": []
   },
   "outputs": [
    {
     "name": "stderr",
     "output_type": "stream",
     "text": [
      "\n",
      "Computing concepts:   0%|                                                                        | 0/15 [00:00<?, ?it/s]\u001b[A\n",
      "Computing concepts:   7%|████▎                                                           | 1/15 [00:05<01:20,  5.73s/it]\u001b[A\n",
      "Computing concepts:  47%|█████████████████████████████▊                                  | 7/15 [00:05<00:04,  1.63it/s]\u001b[A\n",
      "Computing concepts:  80%|██████████████████████████████████████████████████▍            | 12/15 [00:05<00:00,  3.23it/s]\u001b[A\n",
      "                                                                                                                        \u001b[A"
     ]
    },
    {
     "data": {
      "application/vnd.jupyter.widget-view+json": {
       "model_id": "18ffd08b647a47c9a219ebdc43b87b98",
       "version_major": 2,
       "version_minor": 0
      },
      "text/plain": [
       "  0%|          | 0/432 [00:00<?, ?it/s]"
      ]
     },
     "metadata": {},
     "output_type": "display_data"
    },
    {
     "name": "stderr",
     "output_type": "stream",
     "text": [
      "[Parallel(n_jobs=120)]: Using backend MultiprocessingBackend with 120 concurrent workers.\n",
      "[Parallel(n_jobs=120)]: Done   2 tasks      | elapsed:    0.3s\n",
      "[Parallel(n_jobs=120)]: Done  25 tasks      | elapsed:    0.8s\n",
      "[Parallel(n_jobs=120)]: Done  48 tasks      | elapsed:    1.1s\n",
      "[Parallel(n_jobs=120)]: Done  73 tasks      | elapsed:    1.5s\n",
      "[Parallel(n_jobs=120)]: Done  98 tasks      | elapsed:    2.0s\n",
      "[Parallel(n_jobs=120)]: Done 125 tasks      | elapsed:    2.5s\n",
      "[Parallel(n_jobs=120)]: Done 152 tasks      | elapsed:    2.9s\n",
      "[Parallel(n_jobs=120)]: Done 181 tasks      | elapsed:    3.3s\n",
      "[Parallel(n_jobs=120)]: Done 237 out of 432 | elapsed:    4.2s remaining:    3.5s\n",
      "[Parallel(n_jobs=120)]: Done 281 out of 432 | elapsed:    7.5s remaining:    4.0s\n",
      "[Parallel(n_jobs=120)]: Done 325 out of 432 | elapsed:    8.3s remaining:    2.7s\n",
      "[Parallel(n_jobs=120)]: Done 369 out of 432 | elapsed:    8.8s remaining:    1.5s\n",
      "[Parallel(n_jobs=120)]: Done 413 out of 432 | elapsed:    9.3s remaining:    0.4s\n",
      "[Parallel(n_jobs=120)]: Done 432 out of 432 | elapsed:    9.6s finished\n"
     ]
    }
   ],
   "source": [
    "state = (1, 1, 0, 0, 1, 0)\n",
    "subsystem_state2 = pyphi.Subsystem(network, state, nodes=(0, 1, 2, 3))\n",
    "\n",
    "ces = utils.flatten(\n",
    "    [[d.cause, d.effect] for d in pyphi.compute.ces(subsystem_state2, parallel=True)]\n",
    ")\n",
    "\n",
    "ces_state2 = compute.filter_ces(\n",
    "    subsystem_state2, ces, None, max_relations_k=3, parallel=True\n",
    ")"
   ]
  },
  {
   "cell_type": "code",
   "execution_count": 20,
   "id": "d12fb3dd-e72a-4fc1-a925-87323d0ca5a8",
   "metadata": {},
   "outputs": [
    {
     "data": {
      "application/vnd.jupyter.widget-view+json": {
       "model_id": "28a86ab5fc8c4e77b26783e5feb91232",
       "version_major": 2,
       "version_minor": 0
      },
      "text/plain": [
       "Computing edges:   0%|          | 0/62 [00:00<?, ?it/s]"
      ]
     },
     "metadata": {},
     "output_type": "display_data"
    },
    {
     "data": {
      "application/vnd.jupyter.widget-view+json": {
       "model_id": "1acc9701eda64f7e9b0beaaaa19c455d",
       "version_major": 2,
       "version_minor": 0
      },
      "text/plain": [
       "Computing triangles:   0%|          | 0/113 [00:00<?, ?it/s]"
      ]
     },
     "metadata": {},
     "output_type": "display_data"
    }
   ],
   "source": [
    "# plotting\n",
    "fig = viz.plot_ces(\n",
    "    subsystem_state2,\n",
    "    ces_state2[0][\"ces\"],\n",
    "    ces_state2[0][\"relations\"],\n",
    "    network_name=\"figures/ch4/avtivation2\",\n",
    ")"
   ]
  },
  {
   "cell_type": "code",
   "execution_count": 18,
   "id": "d06f538a-c4fd-4461-a78a-6f4fa0dac657",
   "metadata": {},
   "outputs": [
    {
     "data": {
      "application/vnd.jupyter.widget-view+json": {
       "model_id": "05f183ba0c7b46fb8c808e3c3dca6db8",
       "version_major": 2,
       "version_minor": 0
      },
      "text/plain": [
       "Computing edges:   0%|          | 0/73 [00:00<?, ?it/s]"
      ]
     },
     "metadata": {},
     "output_type": "display_data"
    },
    {
     "data": {
      "application/vnd.jupyter.widget-view+json": {
       "model_id": "e82984eb7dbe47be94fdc6a7021b2715",
       "version_major": 2,
       "version_minor": 0
      },
      "text/plain": [
       "Computing triangles:   0%|          | 0/136 [00:00<?, ?it/s]"
      ]
     },
     "metadata": {},
     "output_type": "display_data"
    }
   ],
   "source": [
    "# plotting\n",
    "fig = viz.plot_ces(\n",
    "    subsystem_state1,\n",
    "    ces_state1[0][\"ces\"],\n",
    "    ces_state1[0][\"relations\"],\n",
    "    network_name=\"figures/ch4/avtivation1\",\n",
    ")"
   ]
  },
  {
   "cell_type": "markdown",
   "id": "101e91a8-416c-4157-b6ee-61c5bc9eb9cb",
   "metadata": {},
   "source": [
    "## Inactivating a unit (lesion)"
   ]
  },
  {
   "cell_type": "code",
   "execution_count": null,
   "id": "2b8d6da4-c200-463d-84e2-180c87d8c9fb",
   "metadata": {},
   "outputs": [],
   "source": []
  },
  {
   "cell_type": "markdown",
   "id": "4b3423cf-3980-44f6-a45f-ebe0fee027bf",
   "metadata": {},
   "source": [
    "## Strengthening/weakening a connection (plasticity)"
   ]
  },
  {
   "cell_type": "code",
   "execution_count": null,
   "id": "208b5af5-9d63-42ee-a3ec-ea7e00533e98",
   "metadata": {},
   "outputs": [
    {
     "data": {
      "application/vnd.jupyter.widget-view+json": {
       "model_id": "87bee00edf1c4f5397c99b779bbd894a",
       "version_major": 2,
       "version_minor": 0
      },
      "text/plain": [
       "  0%|          | 0/64 [00:00<?, ?it/s]"
      ]
     },
     "metadata": {},
     "output_type": "display_data"
    },
    {
     "name": "stderr",
     "output_type": "stream",
     "text": [
      "\n",
      "Computing concepts:   0%|                                                                        | 0/15 [00:00<?, ?it/s]\u001b[A\n",
      "Computing concepts:   7%|████▎                                                           | 1/15 [00:06<01:32,  6.63s/it]\u001b[A\n",
      "Computing concepts:  73%|██████████████████████████████████████████████▏                | 11/15 [00:06<00:01,  2.20it/s]\u001b[A\n",
      "Computing concepts: 100%|███████████████████████████████████████████████████████████████| 15/15 [00:07<00:00,  3.21it/s]\u001b[A\n",
      "Computing concepts: 100%|███████████████████████████████████████████████████████████████| 15/15 [00:18<00:00,  3.21it/s]\u001b[A"
     ]
    }
   ],
   "source": [
    "new_weights = weights.copy()\n",
    "new_weights[0,2] = new_weights[0,3]\n",
    "\n",
    "network = ng.get_net(\n",
    "    mech_func,\n",
    "    new_weights,\n",
    "    exp=exp,\n",
    "    th=th,\n",
    "    node_labels=node_labels,\n",
    "    network_name=net_name,\n",
    "    pickle_network=False,\n",
    ")\n",
    "\n",
    "state = (0, 1, 0, 0, 1, 0)\n",
    "subsystem_new_weight = pyphi.Subsystem(network, state, nodes=(0, 1, 2, 3))\n",
    "\n",
    "ces = utils.flatten(\n",
    "    [[d.cause, d.effect] for d in pyphi.compute.ces(subsystem_new_weight, parallel=True)]\n",
    ")\n",
    "\n",
    "ces_new_weight = compute.filter_ces(\n",
    "    subsystem_new_weight, ces, None, max_relations_k=3, parallel=True\n",
    ")\n",
    "\n",
    "# plotting\n",
    "fig = viz.plot_ces(\n",
    "    subsystem_new_weight,\n",
    "    ces_new_weight[0][\"ces\"],\n",
    "    ces_new_weight[0][\"relations\"],\n",
    "    network_name=\"figures/ch4/new_weight\",\n",
    ")"
   ]
  },
  {
   "cell_type": "markdown",
   "id": "4b5e58ac-4af1-45bb-97ff-a81ca13957b4",
   "metadata": {},
   "source": [
    "## Disconnecting a unit"
   ]
  },
  {
   "cell_type": "code",
   "execution_count": 23,
   "id": "5559cf21-9843-45ce-8d36-239a6275b564",
   "metadata": {},
   "outputs": [
    {
     "data": {
      "text/plain": [
       "0.03225806451612903"
      ]
     },
     "execution_count": 23,
     "metadata": {},
     "output_type": "execute_result"
    }
   ],
   "source": [
    "weights[0,2]"
   ]
  },
  {
   "cell_type": "markdown",
   "id": "6baf2310-f7a3-4c19-9e9d-f9e691887847",
   "metadata": {},
   "source": [
    "## Changing excitability (attention)"
   ]
  },
  {
   "cell_type": "code",
   "execution_count": null,
   "id": "00f7725c-a07b-4b3c-8ace-41537e14796f",
   "metadata": {},
   "outputs": [],
   "source": []
  },
  {
   "cell_type": "code",
   "execution_count": 11,
   "id": "a1117abf-239c-4fdf-be6f-e9a7eb767a06",
   "metadata": {
    "tags": []
   },
   "outputs": [
    {
     "name": "stdout",
     "output_type": "stream",
     "text": [
      "Collecting package metadata (current_repodata.json): done\n",
      "Solving environment: done\n",
      "\n",
      "\n",
      "==> WARNING: A newer version of conda exists. <==\n",
      "  current version: 4.10.3\n",
      "  latest version: 4.11.0\n",
      "\n",
      "Please update conda by running\n",
      "\n",
      "    $ conda update -n base -c defaults conda\n",
      "\n",
      "\n",
      "\n",
      "## Package Plan ##\n",
      "\n",
      "  environment location: /home/bjuel/miniconda3/envs/visualize\n",
      "\n",
      "  added / updated specs:\n",
      "    - networkx\n",
      "\n",
      "\n",
      "The following packages will be downloaded:\n",
      "\n",
      "    package                    |            build\n",
      "    ---------------------------|-----------------\n",
      "    ca-certificates-2021.10.26 |       h06a4308_2         115 KB\n",
      "    networkx-2.6.3             |     pyhd3eb1b0_0         1.3 MB\n",
      "    ------------------------------------------------------------\n",
      "                                           Total:         1.4 MB\n",
      "\n",
      "The following NEW packages will be INSTALLED:\n",
      "\n",
      "  networkx           pkgs/main/noarch::networkx-2.6.3-pyhd3eb1b0_0\n",
      "\n",
      "The following packages will be UPDATED:\n",
      "\n",
      "  ca-certificates    conda-forge::ca-certificates-2021.10.~ --> pkgs/main::ca-certificates-2021.10.26-h06a4308_2\n",
      "\n",
      "The following packages will be SUPERSEDED by a higher-priority channel:\n",
      "\n",
      "  certifi            conda-forge::certifi-2021.10.8-py39hf~ --> pkgs/main::certifi-2021.10.8-py39h06a4308_0\n",
      "\n",
      "\n",
      "\n",
      "Downloading and Extracting Packages\n",
      "ca-certificates-2021 | 115 KB    | ##################################### | 100% \n",
      "networkx-2.6.3       | 1.3 MB    | ##################################### | 100% \n",
      "Preparing transaction: done\n",
      "Verifying transaction: done\n",
      "Executing transaction: done\n"
     ]
    }
   ],
   "source": [
    "!conda install -y networkx"
   ]
  },
  {
   "cell_type": "code",
   "execution_count": null,
   "id": "0c45050e-aa4a-4e3f-85ad-b24acde0537e",
   "metadata": {},
   "outputs": [],
   "source": [
    "import networkx as nx\n",
    "from networkx.drawing.nx_agraph import graphviz_layout, to_agraph"
   ]
  },
  {
   "cell_type": "code",
   "execution_count": 9,
   "id": "6cf654aa-843a-48ba-8f38-0864625c1152",
   "metadata": {},
   "outputs": [
    {
     "ename": "ModuleNotFoundError",
     "evalue": "No module named 'networkx'",
     "output_type": "error",
     "traceback": [
      "\u001b[0;31m---------------------------------------------------------------------------\u001b[0m",
      "\u001b[0;31mModuleNotFoundError\u001b[0m                       Traceback (most recent call last)",
      "\u001b[0;32m/tmp/ipykernel_37618/1829148656.py\u001b[0m in \u001b[0;36m<module>\u001b[0;34m\u001b[0m\n\u001b[0;32m----> 1\u001b[0;31m \u001b[0;32mimport\u001b[0m \u001b[0mnetworkx\u001b[0m\u001b[0;34m\u001b[0m\u001b[0;34m\u001b[0m\u001b[0m\n\u001b[0m",
      "\u001b[0;31mModuleNotFoundError\u001b[0m: No module named 'networkx'"
     ]
    }
   ],
   "source": [
    "def save_digraph(\n",
    "    subsystem,\n",
    "    element_positions,\n",
    "    digraph_filename=\"digraph.png\",\n",
    "    plot_digraph=False,\n",
    "    layout=\"dot\",\n",
    "):\n",
    "    # network = subsystem.network\n",
    "    G = nx.DiGraph()\n",
    "\n",
    "    for n in range(subsystem.size):\n",
    "        node_info = format_node(n, subsystem)\n",
    "        G.add_node(\n",
    "            node_info[\"label\"],\n",
    "            style=node_info[\"style\"],\n",
    "            fillcolor=node_info[\"fillcolor\"],\n",
    "            fontcolor=node_info[\"fontcolor\"],\n",
    "            pos=element_positions[n, :],\n",
    "        )\n",
    "\n",
    "    edges = [\n",
    "        [format_node(i, subsystem)[\"label\"] for i in n]\n",
    "        for n in np.argwhere(subsystem.cm)\n",
    "    ]\n",
    "\n",
    "    G.add_edges_from(edges)\n",
    "    G.graph[\"node\"] = {\"shape\": \"circle\"}\n",
    "    pos = {\n",
    "        subsystem.node_labels[n]: tuple(element_positions[n, :])\n",
    "        for n in range(subsystem.size)\n",
    "    }\n",
    "    nx.draw(G, pos)\n",
    "    # A = to_agraph(G)\n",
    "    # A.layout(layout)\n",
    "    # A.draw(digraph_filename)\n",
    "    if plot_digraph:\n",
    "        return Image(digraph_filename)"
   ]
  },
  {
   "cell_type": "code",
   "execution_count": 220,
   "id": "5c4659ff",
   "metadata": {
    "collapsed": true,
    "jupyter": {
     "outputs_hidden": true
    },
    "tags": []
   },
   "outputs": [
    {
     "data": {
      "application/vnd.jupyter.widget-view+json": {
       "model_id": "05a5f4b1de79461ea208db5a73a4712e",
       "version_major": 2,
       "version_minor": 0
      },
      "text/plain": [
       "  0%|          | 0/16 [00:00<?, ?it/s]"
      ]
     },
     "metadata": {},
     "output_type": "display_data"
    },
    {
     "data": {
      "application/vnd.jupyter.widget-view+json": {
       "model_id": "8c0ab1a76fb048f5b345d8c49a95f2ca",
       "version_major": 2,
       "version_minor": 0
      },
      "text/plain": [
       "  0%|          | 0/256 [00:00<?, ?it/s]"
      ]
     },
     "metadata": {},
     "output_type": "display_data"
    },
    {
     "name": "stderr",
     "output_type": "stream",
     "text": [
      "[Parallel(n_jobs=120)]: Using backend MultiprocessingBackend with 120 concurrent workers.\n",
      "[Parallel(n_jobs=120)]: Batch computation too fast (0.1301s.) Setting batch_size=2.\n",
      "[Parallel(n_jobs=120)]: Done   2 tasks      | elapsed:    0.1s\n",
      "[Parallel(n_jobs=120)]: Done  43 out of 256 | elapsed:    0.5s remaining:    2.4s\n",
      "[Parallel(n_jobs=120)]: Done  69 out of 256 | elapsed:    0.6s remaining:    1.7s\n",
      "[Parallel(n_jobs=120)]: Done  95 out of 256 | elapsed:    0.8s remaining:    1.3s\n",
      "[Parallel(n_jobs=120)]: Done 121 out of 256 | elapsed:    0.9s remaining:    1.0s\n",
      "[Parallel(n_jobs=120)]: Done 147 out of 256 | elapsed:    1.1s remaining:    0.8s\n",
      "[Parallel(n_jobs=120)]: Done 173 out of 256 | elapsed:    1.5s remaining:    0.7s\n",
      "[Parallel(n_jobs=120)]: Done 199 out of 256 | elapsed:    1.6s remaining:    0.5s\n",
      "[Parallel(n_jobs=120)]: Done 225 out of 256 | elapsed:    1.7s remaining:    0.2s\n",
      "[Parallel(n_jobs=120)]: Done 251 out of 256 | elapsed:    1.9s remaining:    0.0s\n",
      "[Parallel(n_jobs=120)]: Done 256 out of 256 | elapsed:    1.9s finished\n"
     ]
    },
    {
     "data": {
      "application/vnd.jupyter.widget-view+json": {
       "model_id": "54b3a9c5cd3c46d382486e1b132e2cf9",
       "version_major": 2,
       "version_minor": 0
      },
      "text/plain": [
       "  0%|          | 0/512 [00:00<?, ?it/s]"
      ]
     },
     "metadata": {},
     "output_type": "display_data"
    },
    {
     "name": "stderr",
     "output_type": "stream",
     "text": [
      "[Parallel(n_jobs=120)]: Using backend MultiprocessingBackend with 120 concurrent workers.\n",
      "[Parallel(n_jobs=120)]: Batch computation too fast (0.0731s.) Setting batch_size=2.\n",
      "[Parallel(n_jobs=120)]: Done   2 tasks      | elapsed:    0.1s\n",
      "[Parallel(n_jobs=120)]: Done  25 tasks      | elapsed:    0.3s\n",
      "[Parallel(n_jobs=120)]: Done  48 tasks      | elapsed:    0.4s\n",
      "[Parallel(n_jobs=120)]: Done  73 tasks      | elapsed:    0.5s\n",
      "[Parallel(n_jobs=120)]: Done  98 tasks      | elapsed:    0.6s\n",
      "[Parallel(n_jobs=120)]: Done 125 tasks      | elapsed:    0.8s\n",
      "[Parallel(n_jobs=120)]: Done 152 tasks      | elapsed:    1.0s\n",
      "[Parallel(n_jobs=120)]: Done 169 out of 512 | elapsed:    1.1s remaining:    2.3s\n",
      "[Parallel(n_jobs=120)]: Done 221 out of 512 | elapsed:    1.4s remaining:    1.8s\n",
      "[Parallel(n_jobs=120)]: Done 273 out of 512 | elapsed:    1.8s remaining:    1.6s\n",
      "[Parallel(n_jobs=120)]: Done 512 out of 512 | elapsed:    2.4s finished\n"
     ]
    },
    {
     "data": {
      "application/vnd.jupyter.widget-view+json": {
       "model_id": "a2fe35e5b6d349e6ae1e3a669691461a",
       "version_major": 2,
       "version_minor": 0
      },
      "text/plain": [
       "  0%|          | 0/256 [00:00<?, ?it/s]"
      ]
     },
     "metadata": {},
     "output_type": "display_data"
    },
    {
     "name": "stderr",
     "output_type": "stream",
     "text": [
      "[Parallel(n_jobs=120)]: Using backend MultiprocessingBackend with 120 concurrent workers.\n",
      "[Parallel(n_jobs=120)]: Batch computation too fast (0.1157s.) Setting batch_size=2.\n",
      "[Parallel(n_jobs=120)]: Done   2 tasks      | elapsed:    0.1s\n",
      "[Parallel(n_jobs=120)]: Done  43 out of 256 | elapsed:    0.4s remaining:    2.2s\n",
      "[Parallel(n_jobs=120)]: Done  69 out of 256 | elapsed:    0.6s remaining:    1.6s\n",
      "[Parallel(n_jobs=120)]: Done  95 out of 256 | elapsed:    0.7s remaining:    1.3s\n",
      "[Parallel(n_jobs=120)]: Done 121 out of 256 | elapsed:    0.9s remaining:    1.0s\n",
      "[Parallel(n_jobs=120)]: Done 147 out of 256 | elapsed:    1.0s remaining:    0.7s\n",
      "[Parallel(n_jobs=120)]: Done 173 out of 256 | elapsed:    1.4s remaining:    0.7s\n",
      "[Parallel(n_jobs=120)]: Done 199 out of 256 | elapsed:    1.6s remaining:    0.5s\n",
      "[Parallel(n_jobs=120)]: Done 225 out of 256 | elapsed:    1.7s remaining:    0.2s\n",
      "[Parallel(n_jobs=120)]: Done 251 out of 256 | elapsed:    1.8s remaining:    0.0s\n",
      "[Parallel(n_jobs=120)]: Done 256 out of 256 | elapsed:    1.9s finished\n"
     ]
    },
    {
     "data": {
      "application/vnd.jupyter.widget-view+json": {
       "model_id": "aaa5772fc579480c96f107b898901587",
       "version_major": 2,
       "version_minor": 0
      },
      "text/plain": [
       "  0%|          | 0/512 [00:00<?, ?it/s]"
      ]
     },
     "metadata": {},
     "output_type": "display_data"
    },
    {
     "name": "stderr",
     "output_type": "stream",
     "text": [
      "[Parallel(n_jobs=120)]: Using backend MultiprocessingBackend with 120 concurrent workers.\n",
      "[Parallel(n_jobs=120)]: Batch computation too fast (0.0681s.) Setting batch_size=2.\n",
      "[Parallel(n_jobs=120)]: Done   2 tasks      | elapsed:    0.1s\n",
      "[Parallel(n_jobs=120)]: Done  25 tasks      | elapsed:    0.2s\n",
      "[Parallel(n_jobs=120)]: Done  48 tasks      | elapsed:    0.3s\n",
      "[Parallel(n_jobs=120)]: Done  73 tasks      | elapsed:    0.5s\n",
      "[Parallel(n_jobs=120)]: Done  98 tasks      | elapsed:    0.6s\n",
      "[Parallel(n_jobs=120)]: Done 125 tasks      | elapsed:    0.8s\n",
      "[Parallel(n_jobs=120)]: Done 152 tasks      | elapsed:    1.0s\n",
      "[Parallel(n_jobs=120)]: Done 169 out of 512 | elapsed:    1.1s remaining:    2.2s\n",
      "[Parallel(n_jobs=120)]: Done 221 out of 512 | elapsed:    1.3s remaining:    1.7s\n",
      "[Parallel(n_jobs=120)]: Done 377 out of 512 | elapsed:    2.1s remaining:    0.8s\n",
      "[Parallel(n_jobs=120)]: Done 429 out of 512 | elapsed:    2.3s remaining:    0.4s\n",
      "[Parallel(n_jobs=120)]: Done 512 out of 512 | elapsed:    2.5s finished\n"
     ]
    },
    {
     "data": {
      "application/vnd.jupyter.widget-view+json": {
       "model_id": "66fc3779531141c98894966fb96db937",
       "version_major": 2,
       "version_minor": 0
      },
      "text/plain": [
       "  0%|          | 0/512 [00:00<?, ?it/s]"
      ]
     },
     "metadata": {},
     "output_type": "display_data"
    },
    {
     "name": "stderr",
     "output_type": "stream",
     "text": [
      "[Parallel(n_jobs=120)]: Using backend MultiprocessingBackend with 120 concurrent workers.\n",
      "[Parallel(n_jobs=120)]: Batch computation too fast (0.1176s.) Setting batch_size=2.\n",
      "[Parallel(n_jobs=120)]: Done   2 tasks      | elapsed:    0.1s\n",
      "[Parallel(n_jobs=120)]: Done  25 tasks      | elapsed:    0.3s\n",
      "[Parallel(n_jobs=120)]: Done  48 tasks      | elapsed:    0.5s\n",
      "[Parallel(n_jobs=120)]: Done  73 tasks      | elapsed:    0.7s\n",
      "[Parallel(n_jobs=120)]: Done  98 tasks      | elapsed:    0.8s\n",
      "[Parallel(n_jobs=120)]: Done 125 tasks      | elapsed:    1.3s\n",
      "[Parallel(n_jobs=120)]: Done 152 tasks      | elapsed:    1.5s\n",
      "[Parallel(n_jobs=120)]: Done 169 out of 512 | elapsed:    1.6s remaining:    3.2s\n",
      "[Parallel(n_jobs=120)]: Done 221 out of 512 | elapsed:    1.9s remaining:    2.5s\n",
      "[Parallel(n_jobs=120)]: Done 273 out of 512 | elapsed:    2.1s remaining:    1.8s\n",
      "[Parallel(n_jobs=120)]: Done 325 out of 512 | elapsed:    2.3s remaining:    1.3s\n",
      "[Parallel(n_jobs=120)]: Done 377 out of 512 | elapsed:    2.6s remaining:    0.9s\n",
      "[Parallel(n_jobs=120)]: Done 481 out of 512 | elapsed:    3.0s remaining:    0.2s\n",
      "[Parallel(n_jobs=120)]: Done 512 out of 512 | elapsed:    3.1s finished\n"
     ]
    },
    {
     "data": {
      "application/vnd.jupyter.widget-view+json": {
       "model_id": "739232a89d9f42b4ac5fa83c76329c52",
       "version_major": 2,
       "version_minor": 0
      },
      "text/plain": [
       "  0%|          | 0/1024 [00:00<?, ?it/s]"
      ]
     },
     "metadata": {},
     "output_type": "display_data"
    },
    {
     "name": "stderr",
     "output_type": "stream",
     "text": [
      "[Parallel(n_jobs=120)]: Using backend MultiprocessingBackend with 120 concurrent workers.\n",
      "[Parallel(n_jobs=120)]: Batch computation too fast (0.0713s.) Setting batch_size=2.\n",
      "[Parallel(n_jobs=120)]: Done   2 tasks      | elapsed:    0.1s\n",
      "[Parallel(n_jobs=120)]: Done  25 tasks      | elapsed:    0.2s\n",
      "[Parallel(n_jobs=120)]: Done  48 tasks      | elapsed:    0.4s\n",
      "[Parallel(n_jobs=120)]: Done  73 tasks      | elapsed:    0.5s\n",
      "[Parallel(n_jobs=120)]: Done  98 tasks      | elapsed:    0.7s\n",
      "[Parallel(n_jobs=120)]: Done 125 tasks      | elapsed:    0.9s\n",
      "[Parallel(n_jobs=120)]: Done 152 tasks      | elapsed:    1.2s\n",
      "[Parallel(n_jobs=120)]: Done 181 tasks      | elapsed:    1.4s\n",
      "[Parallel(n_jobs=120)]: Done 210 tasks      | elapsed:    1.6s\n",
      "[Parallel(n_jobs=120)]: Done 244 tasks      | elapsed:    1.8s\n",
      "[Parallel(n_jobs=120)]: Done 304 tasks      | elapsed:    2.1s\n",
      "[Parallel(n_jobs=120)]: Done 370 tasks      | elapsed:    2.3s\n",
      "[Parallel(n_jobs=120)]: Done 436 tasks      | elapsed:    2.4s\n",
      "[Parallel(n_jobs=120)]: Done 506 tasks      | elapsed:    2.6s\n",
      "[Parallel(n_jobs=120)]: Done 576 tasks      | elapsed:    3.0s\n",
      "[Parallel(n_jobs=120)]: Done 682 out of 1024 | elapsed:    3.2s remaining:    1.6s\n",
      "[Parallel(n_jobs=120)]: Done 888 out of 1024 | elapsed:    3.8s remaining:    0.6s\n",
      "[Parallel(n_jobs=120)]: Done 991 out of 1024 | elapsed:    4.3s remaining:    0.1s\n",
      "[Parallel(n_jobs=120)]: Done 1024 out of 1024 | elapsed:    4.5s finished\n"
     ]
    },
    {
     "data": {
      "application/vnd.jupyter.widget-view+json": {
       "model_id": "9cd62e96d0044a7fbdc5ae1b6f26d2e7",
       "version_major": 2,
       "version_minor": 0
      },
      "text/plain": [
       "  0%|          | 0/512 [00:00<?, ?it/s]"
      ]
     },
     "metadata": {},
     "output_type": "display_data"
    },
    {
     "name": "stderr",
     "output_type": "stream",
     "text": [
      "[Parallel(n_jobs=120)]: Using backend MultiprocessingBackend with 120 concurrent workers.\n",
      "[Parallel(n_jobs=120)]: Batch computation too fast (0.0919s.) Setting batch_size=2.\n",
      "[Parallel(n_jobs=120)]: Done   2 tasks      | elapsed:    0.1s\n",
      "[Parallel(n_jobs=120)]: Done  25 tasks      | elapsed:    0.3s\n",
      "[Parallel(n_jobs=120)]: Done  48 tasks      | elapsed:    0.5s\n",
      "[Parallel(n_jobs=120)]: Done  73 tasks      | elapsed:    0.7s\n",
      "[Parallel(n_jobs=120)]: Done  98 tasks      | elapsed:    0.9s\n",
      "[Parallel(n_jobs=120)]: Done 125 tasks      | elapsed:    1.3s\n",
      "[Parallel(n_jobs=120)]: Done 152 tasks      | elapsed:    1.4s\n",
      "[Parallel(n_jobs=120)]: Done 169 out of 512 | elapsed:    1.5s remaining:    3.1s\n",
      "[Parallel(n_jobs=120)]: Done 221 out of 512 | elapsed:    1.8s remaining:    2.4s\n",
      "[Parallel(n_jobs=120)]: Done 273 out of 512 | elapsed:    2.0s remaining:    1.8s\n",
      "[Parallel(n_jobs=120)]: Done 325 out of 512 | elapsed:    2.2s remaining:    1.3s\n",
      "[Parallel(n_jobs=120)]: Done 481 out of 512 | elapsed:    2.9s remaining:    0.2s\n",
      "[Parallel(n_jobs=120)]: Done 512 out of 512 | elapsed:    3.0s finished\n"
     ]
    },
    {
     "data": {
      "application/vnd.jupyter.widget-view+json": {
       "model_id": "dbc41e59f92f4966b33d6c7d44eb17f5",
       "version_major": 2,
       "version_minor": 0
      },
      "text/plain": [
       "  0%|          | 0/1024 [00:00<?, ?it/s]"
      ]
     },
     "metadata": {},
     "output_type": "display_data"
    },
    {
     "name": "stderr",
     "output_type": "stream",
     "text": [
      "[Parallel(n_jobs=120)]: Using backend MultiprocessingBackend with 120 concurrent workers.\n",
      "[Parallel(n_jobs=120)]: Batch computation too fast (0.0584s.) Setting batch_size=2.\n",
      "[Parallel(n_jobs=120)]: Done   2 tasks      | elapsed:    0.1s\n",
      "[Parallel(n_jobs=120)]: Done  25 tasks      | elapsed:    0.3s\n",
      "[Parallel(n_jobs=120)]: Done  48 tasks      | elapsed:    0.4s\n",
      "[Parallel(n_jobs=120)]: Done  73 tasks      | elapsed:    0.6s\n",
      "[Parallel(n_jobs=120)]: Done  98 tasks      | elapsed:    0.8s\n",
      "[Parallel(n_jobs=120)]: Done 125 tasks      | elapsed:    0.9s\n",
      "[Parallel(n_jobs=120)]: Done 152 tasks      | elapsed:    1.1s\n",
      "[Parallel(n_jobs=120)]: Done 181 tasks      | elapsed:    1.4s\n",
      "[Parallel(n_jobs=120)]: Done 210 tasks      | elapsed:    1.6s\n",
      "[Parallel(n_jobs=120)]: Done 243 tasks      | elapsed:    1.8s\n",
      "[Parallel(n_jobs=120)]: Done 305 tasks      | elapsed:    2.0s\n",
      "[Parallel(n_jobs=120)]: Done 370 tasks      | elapsed:    2.1s\n",
      "[Parallel(n_jobs=120)]: Done 436 tasks      | elapsed:    2.3s\n",
      "[Parallel(n_jobs=120)]: Done 506 tasks      | elapsed:    2.5s\n",
      "[Parallel(n_jobs=120)]: Done 576 tasks      | elapsed:    2.6s\n",
      "[Parallel(n_jobs=120)]: Done 682 out of 1024 | elapsed:    3.2s remaining:    1.6s\n",
      "[Parallel(n_jobs=120)]: Done 785 out of 1024 | elapsed:    3.4s remaining:    1.0s\n",
      "[Parallel(n_jobs=120)]: Done 888 out of 1024 | elapsed:    3.7s remaining:    0.6s\n",
      "[Parallel(n_jobs=120)]: Done 991 out of 1024 | elapsed:    3.9s remaining:    0.1s\n",
      "[Parallel(n_jobs=120)]: Done 1024 out of 1024 | elapsed:    4.1s finished\n"
     ]
    },
    {
     "data": {
      "application/vnd.jupyter.widget-view+json": {
       "model_id": "6ad165ce5d2d4286b931575bd36fc19a",
       "version_major": 2,
       "version_minor": 0
      },
      "text/plain": [
       "  0%|          | 0/128 [00:00<?, ?it/s]"
      ]
     },
     "metadata": {},
     "output_type": "display_data"
    },
    {
     "name": "stderr",
     "output_type": "stream",
     "text": [
      "[Parallel(n_jobs=120)]: Using backend MultiprocessingBackend with 120 concurrent workers.\n",
      "[Parallel(n_jobs=120)]: Batch computation too fast (0.1098s.) Setting batch_size=2.\n",
      "[Parallel(n_jobs=120)]: Done   6 out of 128 | elapsed:    0.1s remaining:    3.0s\n",
      "[Parallel(n_jobs=120)]: Done  19 out of 128 | elapsed:    0.2s remaining:    1.2s\n",
      "[Parallel(n_jobs=120)]: Done  32 out of 128 | elapsed:    0.3s remaining:    1.0s\n",
      "[Parallel(n_jobs=120)]: Done  45 out of 128 | elapsed:    0.4s remaining:    0.8s\n",
      "[Parallel(n_jobs=120)]: Done  58 out of 128 | elapsed:    0.5s remaining:    0.6s\n",
      "[Parallel(n_jobs=120)]: Done  71 out of 128 | elapsed:    0.6s remaining:    0.5s\n",
      "[Parallel(n_jobs=120)]: Done  84 out of 128 | elapsed:    0.6s remaining:    0.3s\n",
      "[Parallel(n_jobs=120)]: Done  97 out of 128 | elapsed:    0.7s remaining:    0.2s\n",
      "[Parallel(n_jobs=120)]: Done 110 out of 128 | elapsed:    0.8s remaining:    0.1s\n",
      "[Parallel(n_jobs=120)]: Done 123 out of 128 | elapsed:    0.8s remaining:    0.0s\n",
      "[Parallel(n_jobs=120)]: Done 128 out of 128 | elapsed:    0.9s finished\n"
     ]
    },
    {
     "data": {
      "application/vnd.jupyter.widget-view+json": {
       "model_id": "a151707ea9e247d6adffb6686467b4b0",
       "version_major": 2,
       "version_minor": 0
      },
      "text/plain": [
       "  0%|          | 0/256 [00:00<?, ?it/s]"
      ]
     },
     "metadata": {},
     "output_type": "display_data"
    },
    {
     "name": "stderr",
     "output_type": "stream",
     "text": [
      "[Parallel(n_jobs=120)]: Using backend MultiprocessingBackend with 120 concurrent workers.\n",
      "[Parallel(n_jobs=120)]: Batch computation too fast (0.0804s.) Setting batch_size=2.\n",
      "[Parallel(n_jobs=120)]: Done   2 tasks      | elapsed:    0.1s\n",
      "[Parallel(n_jobs=120)]: Done  43 out of 256 | elapsed:    0.3s remaining:    1.6s\n",
      "[Parallel(n_jobs=120)]: Done  69 out of 256 | elapsed:    0.5s remaining:    1.3s\n",
      "[Parallel(n_jobs=120)]: Done  95 out of 256 | elapsed:    0.6s remaining:    1.0s\n",
      "[Parallel(n_jobs=120)]: Done 121 out of 256 | elapsed:    0.8s remaining:    0.9s\n",
      "[Parallel(n_jobs=120)]: Done 147 out of 256 | elapsed:    0.9s remaining:    0.7s\n",
      "[Parallel(n_jobs=120)]: Done 173 out of 256 | elapsed:    1.1s remaining:    0.5s\n",
      "[Parallel(n_jobs=120)]: Done 199 out of 256 | elapsed:    1.2s remaining:    0.4s\n",
      "[Parallel(n_jobs=120)]: Done 225 out of 256 | elapsed:    1.3s remaining:    0.2s\n",
      "[Parallel(n_jobs=120)]: Done 251 out of 256 | elapsed:    1.6s remaining:    0.0s\n",
      "[Parallel(n_jobs=120)]: Done 256 out of 256 | elapsed:    1.7s finished\n"
     ]
    },
    {
     "data": {
      "application/vnd.jupyter.widget-view+json": {
       "model_id": "e68a886a6d6a4b388424b5b9fc15096e",
       "version_major": 2,
       "version_minor": 0
      },
      "text/plain": [
       "  0%|          | 0/128 [00:00<?, ?it/s]"
      ]
     },
     "metadata": {},
     "output_type": "display_data"
    },
    {
     "name": "stderr",
     "output_type": "stream",
     "text": [
      "[Parallel(n_jobs=120)]: Using backend MultiprocessingBackend with 120 concurrent workers.\n",
      "[Parallel(n_jobs=120)]: Batch computation too fast (0.1161s.) Setting batch_size=2.\n",
      "[Parallel(n_jobs=120)]: Done   6 out of 128 | elapsed:    0.2s remaining:    3.2s\n",
      "[Parallel(n_jobs=120)]: Done  19 out of 128 | elapsed:    0.3s remaining:    1.5s\n",
      "[Parallel(n_jobs=120)]: Done  32 out of 128 | elapsed:    0.4s remaining:    1.1s\n",
      "[Parallel(n_jobs=120)]: Done  45 out of 128 | elapsed:    0.4s remaining:    0.8s\n",
      "[Parallel(n_jobs=120)]: Done  58 out of 128 | elapsed:    0.5s remaining:    0.6s\n",
      "[Parallel(n_jobs=120)]: Done  71 out of 128 | elapsed:    0.6s remaining:    0.5s\n",
      "[Parallel(n_jobs=120)]: Done  84 out of 128 | elapsed:    0.6s remaining:    0.3s\n",
      "[Parallel(n_jobs=120)]: Done  97 out of 128 | elapsed:    0.7s remaining:    0.2s\n",
      "[Parallel(n_jobs=120)]: Done 110 out of 128 | elapsed:    0.8s remaining:    0.1s\n",
      "[Parallel(n_jobs=120)]: Done 123 out of 128 | elapsed:    0.9s remaining:    0.0s\n",
      "[Parallel(n_jobs=120)]: Done 128 out of 128 | elapsed:    0.9s finished\n"
     ]
    },
    {
     "data": {
      "application/vnd.jupyter.widget-view+json": {
       "model_id": "2444900b2d2c4aa5b6ca32a0fdaa0de1",
       "version_major": 2,
       "version_minor": 0
      },
      "text/plain": [
       "  0%|          | 0/256 [00:00<?, ?it/s]"
      ]
     },
     "metadata": {},
     "output_type": "display_data"
    },
    {
     "name": "stderr",
     "output_type": "stream",
     "text": [
      "[Parallel(n_jobs=120)]: Using backend MultiprocessingBackend with 120 concurrent workers.\n",
      "[Parallel(n_jobs=120)]: Batch computation too fast (0.0783s.) Setting batch_size=2.\n",
      "[Parallel(n_jobs=120)]: Done   2 tasks      | elapsed:    0.1s\n",
      "[Parallel(n_jobs=120)]: Done  43 out of 256 | elapsed:    0.3s remaining:    1.7s\n",
      "[Parallel(n_jobs=120)]: Done  69 out of 256 | elapsed:    0.5s remaining:    1.4s\n",
      "[Parallel(n_jobs=120)]: Done  95 out of 256 | elapsed:    0.6s remaining:    1.0s\n",
      "[Parallel(n_jobs=120)]: Done 121 out of 256 | elapsed:    0.7s remaining:    0.8s\n",
      "[Parallel(n_jobs=120)]: Done 147 out of 256 | elapsed:    0.9s remaining:    0.7s\n",
      "[Parallel(n_jobs=120)]: Done 173 out of 256 | elapsed:    1.0s remaining:    0.5s\n",
      "[Parallel(n_jobs=120)]: Done 199 out of 256 | elapsed:    1.1s remaining:    0.3s\n",
      "[Parallel(n_jobs=120)]: Done 225 out of 256 | elapsed:    1.2s remaining:    0.2s\n",
      "[Parallel(n_jobs=120)]: Done 251 out of 256 | elapsed:    1.4s remaining:    0.0s\n",
      "[Parallel(n_jobs=120)]: Done 256 out of 256 | elapsed:    1.4s finished\n"
     ]
    },
    {
     "data": {
      "application/vnd.jupyter.widget-view+json": {
       "model_id": "ed8a6e1af8944a6bab19b62e274030fd",
       "version_major": 2,
       "version_minor": 0
      },
      "text/plain": [
       "  0%|          | 0/256 [00:00<?, ?it/s]"
      ]
     },
     "metadata": {},
     "output_type": "display_data"
    },
    {
     "name": "stderr",
     "output_type": "stream",
     "text": [
      "[Parallel(n_jobs=120)]: Using backend MultiprocessingBackend with 120 concurrent workers.\n",
      "[Parallel(n_jobs=120)]: Batch computation too fast (0.1221s.) Setting batch_size=2.\n",
      "[Parallel(n_jobs=120)]: Done   2 tasks      | elapsed:    0.1s\n",
      "[Parallel(n_jobs=120)]: Done  43 out of 256 | elapsed:    0.4s remaining:    2.1s\n",
      "[Parallel(n_jobs=120)]: Done  69 out of 256 | elapsed:    0.6s remaining:    1.7s\n",
      "[Parallel(n_jobs=120)]: Done  95 out of 256 | elapsed:    0.8s remaining:    1.3s\n",
      "[Parallel(n_jobs=120)]: Done 121 out of 256 | elapsed:    0.9s remaining:    1.1s\n",
      "[Parallel(n_jobs=120)]: Done 147 out of 256 | elapsed:    1.4s remaining:    1.0s\n",
      "[Parallel(n_jobs=120)]: Done 173 out of 256 | elapsed:    1.5s remaining:    0.7s\n",
      "[Parallel(n_jobs=120)]: Done 199 out of 256 | elapsed:    1.7s remaining:    0.5s\n",
      "[Parallel(n_jobs=120)]: Done 225 out of 256 | elapsed:    1.9s remaining:    0.3s\n",
      "[Parallel(n_jobs=120)]: Done 251 out of 256 | elapsed:    2.0s remaining:    0.0s\n",
      "[Parallel(n_jobs=120)]: Done 256 out of 256 | elapsed:    2.0s finished\n"
     ]
    },
    {
     "data": {
      "application/vnd.jupyter.widget-view+json": {
       "model_id": "ad0ff9df44a64cd38b161a93b4afd2d9",
       "version_major": 2,
       "version_minor": 0
      },
      "text/plain": [
       "  0%|          | 0/512 [00:00<?, ?it/s]"
      ]
     },
     "metadata": {},
     "output_type": "display_data"
    },
    {
     "name": "stderr",
     "output_type": "stream",
     "text": [
      "[Parallel(n_jobs=120)]: Using backend MultiprocessingBackend with 120 concurrent workers.\n",
      "[Parallel(n_jobs=120)]: Batch computation too fast (0.0847s.) Setting batch_size=2.\n",
      "[Parallel(n_jobs=120)]: Done   2 tasks      | elapsed:    0.1s\n",
      "[Parallel(n_jobs=120)]: Done  25 tasks      | elapsed:    0.3s\n",
      "[Parallel(n_jobs=120)]: Done  48 tasks      | elapsed:    0.5s\n",
      "[Parallel(n_jobs=120)]: Done  73 tasks      | elapsed:    0.6s\n",
      "[Parallel(n_jobs=120)]: Done  98 tasks      | elapsed:    0.8s\n",
      "[Parallel(n_jobs=120)]: Done 125 tasks      | elapsed:    1.0s\n",
      "[Parallel(n_jobs=120)]: Done 152 tasks      | elapsed:    1.2s\n",
      "[Parallel(n_jobs=120)]: Done 169 out of 512 | elapsed:    1.6s remaining:    3.2s\n",
      "[Parallel(n_jobs=120)]: Done 221 out of 512 | elapsed:    1.8s remaining:    2.3s\n",
      "[Parallel(n_jobs=120)]: Done 273 out of 512 | elapsed:    2.0s remaining:    1.7s\n",
      "[Parallel(n_jobs=120)]: Done 429 out of 512 | elapsed:    2.5s remaining:    0.5s\n",
      "[Parallel(n_jobs=120)]: Done 481 out of 512 | elapsed:    2.6s remaining:    0.2s\n",
      "[Parallel(n_jobs=120)]: Done 512 out of 512 | elapsed:    2.9s finished\n"
     ]
    },
    {
     "data": {
      "application/vnd.jupyter.widget-view+json": {
       "model_id": "db52afda3b694ce7941446630074fa46",
       "version_major": 2,
       "version_minor": 0
      },
      "text/plain": [
       "  0%|          | 0/256 [00:00<?, ?it/s]"
      ]
     },
     "metadata": {},
     "output_type": "display_data"
    },
    {
     "name": "stderr",
     "output_type": "stream",
     "text": [
      "[Parallel(n_jobs=120)]: Using backend MultiprocessingBackend with 120 concurrent workers.\n",
      "[Parallel(n_jobs=120)]: Batch computation too fast (0.1137s.) Setting batch_size=2.\n",
      "[Parallel(n_jobs=120)]: Done   2 tasks      | elapsed:    0.1s\n",
      "[Parallel(n_jobs=120)]: Done  43 out of 256 | elapsed:    0.5s remaining:    2.2s\n",
      "[Parallel(n_jobs=120)]: Done  69 out of 256 | elapsed:    0.7s remaining:    1.9s\n",
      "[Parallel(n_jobs=120)]: Done  95 out of 256 | elapsed:    0.9s remaining:    1.5s\n",
      "[Parallel(n_jobs=120)]: Done 121 out of 256 | elapsed:    1.1s remaining:    1.2s\n",
      "[Parallel(n_jobs=120)]: Done 147 out of 256 | elapsed:    1.3s remaining:    0.9s\n",
      "[Parallel(n_jobs=120)]: Done 173 out of 256 | elapsed:    1.6s remaining:    0.8s\n",
      "[Parallel(n_jobs=120)]: Done 199 out of 256 | elapsed:    1.7s remaining:    0.5s\n",
      "[Parallel(n_jobs=120)]: Done 225 out of 256 | elapsed:    1.9s remaining:    0.3s\n",
      "[Parallel(n_jobs=120)]: Done 251 out of 256 | elapsed:    2.0s remaining:    0.0s\n",
      "[Parallel(n_jobs=120)]: Done 256 out of 256 | elapsed:    2.1s finished\n"
     ]
    },
    {
     "data": {
      "application/vnd.jupyter.widget-view+json": {
       "model_id": "a7d29a409d304077a49c174bb2678e94",
       "version_major": 2,
       "version_minor": 0
      },
      "text/plain": [
       "  0%|          | 0/512 [00:00<?, ?it/s]"
      ]
     },
     "metadata": {},
     "output_type": "display_data"
    },
    {
     "name": "stderr",
     "output_type": "stream",
     "text": [
      "[Parallel(n_jobs=120)]: Using backend MultiprocessingBackend with 120 concurrent workers.\n",
      "[Parallel(n_jobs=120)]: Batch computation too fast (0.0825s.) Setting batch_size=2.\n",
      "[Parallel(n_jobs=120)]: Done   2 tasks      | elapsed:    0.1s\n",
      "[Parallel(n_jobs=120)]: Done  25 tasks      | elapsed:    0.3s\n",
      "[Parallel(n_jobs=120)]: Done  48 tasks      | elapsed:    0.4s\n",
      "[Parallel(n_jobs=120)]: Done  73 tasks      | elapsed:    0.6s\n",
      "[Parallel(n_jobs=120)]: Done  98 tasks      | elapsed:    0.7s\n",
      "[Parallel(n_jobs=120)]: Done 125 tasks      | elapsed:    0.9s\n",
      "[Parallel(n_jobs=120)]: Done 152 tasks      | elapsed:    1.1s\n",
      "[Parallel(n_jobs=120)]: Done 169 out of 512 | elapsed:    1.2s remaining:    2.4s\n",
      "[Parallel(n_jobs=120)]: Done 221 out of 512 | elapsed:    1.5s remaining:    1.9s\n",
      "[Parallel(n_jobs=120)]: Done 481 out of 512 | elapsed:    2.8s remaining:    0.2s\n",
      "[Parallel(n_jobs=120)]: Done 512 out of 512 | elapsed:    3.0s finished\n"
     ]
    }
   ],
   "source": [
    "max_ces = max(\n",
    "    [\n",
    "        compute.filter_ces(subsystem, ces, compositional_state, max_relations_k=3)\n",
    "        for compositional_state in tqdm(all_compositional_states)\n",
    "    ],\n",
    "    key=lambda c: c[0][\"big phi\"],\n",
    ")"
   ]
  },
  {
   "cell_type": "code",
   "execution_count": 221,
   "id": "e26059ac-2d56-4494-8dcb-8d95b64bb1ea",
   "metadata": {},
   "outputs": [
    {
     "ename": "TypeError",
     "evalue": "list indices must be integers or slices, not str",
     "output_type": "error",
     "traceback": [
      "\u001b[0;31m---------------------------------------------------------------------------\u001b[0m",
      "\u001b[0;31mTypeError\u001b[0m                                 Traceback (most recent call last)",
      "\u001b[0;32m/tmp/ipykernel_1257011/2399082923.py\u001b[0m in \u001b[0;36m<module>\u001b[0;34m\u001b[0m\n\u001b[0;32m----> 1\u001b[0;31m \u001b[0mfig\u001b[0m \u001b[0;34m=\u001b[0m \u001b[0mviz\u001b[0m\u001b[0;34m.\u001b[0m\u001b[0mplot_ces\u001b[0m\u001b[0;34m(\u001b[0m\u001b[0msubsystem\u001b[0m\u001b[0;34m,\u001b[0m\u001b[0mmax_ces\u001b[0m\u001b[0;34m[\u001b[0m\u001b[0;34m'ces'\u001b[0m\u001b[0;34m]\u001b[0m\u001b[0;34m,\u001b[0m\u001b[0mmax_ces\u001b[0m\u001b[0;34m[\u001b[0m\u001b[0;34m'relations'\u001b[0m\u001b[0;34m]\u001b[0m\u001b[0;34m,\u001b[0m\u001b[0mnetwork_name\u001b[0m\u001b[0;34m=\u001b[0m\u001b[0;34m'figures/random'\u001b[0m\u001b[0;34m,\u001b[0m\u001b[0msurface_opacity\u001b[0m\u001b[0;34m=\u001b[0m\u001b[0;36m0.7\u001b[0m\u001b[0;34m,\u001b[0m\u001b[0;34m)\u001b[0m\u001b[0;34m\u001b[0m\u001b[0;34m\u001b[0m\u001b[0m\n\u001b[0m",
      "\u001b[0;31mTypeError\u001b[0m: list indices must be integers or slices, not str"
     ]
    }
   ],
   "source": [
    "\n",
    "fig = viz.plot_ces(subsystem,max_ces['ces'],max_ces['relations'],network_name='figures/random',surface_opacity=0.7,)"
   ]
  },
  {
   "cell_type": "code",
   "execution_count": 222,
   "id": "d6934b90-badf-43a2-b6b6-b23ec5ab15bf",
   "metadata": {},
   "outputs": [
    {
     "data": {
      "text/plain": [
       "0.0"
      ]
     },
     "execution_count": 222,
     "metadata": {},
     "output_type": "execute_result"
    }
   ],
   "source": [
    "max_ces[0]['big phi']"
   ]
  },
  {
   "cell_type": "code",
   "execution_count": 223,
   "id": "d7b868e8-b6ad-4f8c-9512-88f953aba9e7",
   "metadata": {},
   "outputs": [
    {
     "data": {
      "text/plain": [
       "(((1,), (0, 2, 3)), (0, 2, 3), (1,), EFFECT)"
      ]
     },
     "execution_count": 223,
     "metadata": {},
     "output_type": "execute_result"
    }
   ],
   "source": [
    "max_ces[0]['MIP']"
   ]
  },
  {
   "cell_type": "code",
   "execution_count": 224,
   "id": "5e6fad8a-db9d-421f-bd1c-23e812d0e107",
   "metadata": {},
   "outputs": [
    {
     "data": {
      "text/html": [
       "<div>\n",
       "<style scoped>\n",
       "    .dataframe tbody tr th:only-of-type {\n",
       "        vertical-align: middle;\n",
       "    }\n",
       "\n",
       "    .dataframe tbody tr th {\n",
       "        vertical-align: top;\n",
       "    }\n",
       "\n",
       "    .dataframe thead th {\n",
       "        text-align: right;\n",
       "    }\n",
       "</style>\n",
       "<table border=\"1\" class=\"dataframe\">\n",
       "  <thead>\n",
       "    <tr style=\"text-align: right;\">\n",
       "      <th></th>\n",
       "      <th>mechanism</th>\n",
       "      <th>direction</th>\n",
       "      <th>purview</th>\n",
       "      <th>state</th>\n",
       "      <th>phi</th>\n",
       "    </tr>\n",
       "  </thead>\n",
       "  <tbody>\n",
       "    <tr>\n",
       "      <th>0</th>\n",
       "      <td>A</td>\n",
       "      <td>CAUSE</td>\n",
       "      <td>A</td>\n",
       "      <td>0</td>\n",
       "      <td>0.791118</td>\n",
       "    </tr>\n",
       "    <tr>\n",
       "      <th>1</th>\n",
       "      <td>A</td>\n",
       "      <td>EFFECT</td>\n",
       "      <td>AD</td>\n",
       "      <td>00</td>\n",
       "      <td>0.895152</td>\n",
       "    </tr>\n",
       "    <tr>\n",
       "      <th>2</th>\n",
       "      <td>B</td>\n",
       "      <td>CAUSE</td>\n",
       "      <td>B</td>\n",
       "      <td>1</td>\n",
       "      <td>0.518791</td>\n",
       "    </tr>\n",
       "    <tr>\n",
       "      <th>3</th>\n",
       "      <td>B</td>\n",
       "      <td>EFFECT</td>\n",
       "      <td>B</td>\n",
       "      <td>1</td>\n",
       "      <td>0.617717</td>\n",
       "    </tr>\n",
       "    <tr>\n",
       "      <th>4</th>\n",
       "      <td>C</td>\n",
       "      <td>CAUSE</td>\n",
       "      <td>C</td>\n",
       "      <td>0</td>\n",
       "      <td>0.791118</td>\n",
       "    </tr>\n",
       "    <tr>\n",
       "      <th>5</th>\n",
       "      <td>C</td>\n",
       "      <td>EFFECT</td>\n",
       "      <td>CD</td>\n",
       "      <td>00</td>\n",
       "      <td>0.895152</td>\n",
       "    </tr>\n",
       "    <tr>\n",
       "      <th>6</th>\n",
       "      <td>D</td>\n",
       "      <td>CAUSE</td>\n",
       "      <td>AB</td>\n",
       "      <td>11</td>\n",
       "      <td>0.774729</td>\n",
       "    </tr>\n",
       "    <tr>\n",
       "      <th>7</th>\n",
       "      <td>D</td>\n",
       "      <td>EFFECT</td>\n",
       "      <td>D</td>\n",
       "      <td>1</td>\n",
       "      <td>0.031598</td>\n",
       "    </tr>\n",
       "    <tr>\n",
       "      <th>8</th>\n",
       "      <td>BC</td>\n",
       "      <td>CAUSE</td>\n",
       "      <td>BC</td>\n",
       "      <td>10</td>\n",
       "      <td>0.100293</td>\n",
       "    </tr>\n",
       "    <tr>\n",
       "      <th>9</th>\n",
       "      <td>BC</td>\n",
       "      <td>EFFECT</td>\n",
       "      <td>C</td>\n",
       "      <td>1</td>\n",
       "      <td>0.177346</td>\n",
       "    </tr>\n",
       "    <tr>\n",
       "      <th>10</th>\n",
       "      <td>ABC</td>\n",
       "      <td>CAUSE</td>\n",
       "      <td>ABC</td>\n",
       "      <td>010</td>\n",
       "      <td>0.115977</td>\n",
       "    </tr>\n",
       "    <tr>\n",
       "      <th>11</th>\n",
       "      <td>ABC</td>\n",
       "      <td>EFFECT</td>\n",
       "      <td>ACD</td>\n",
       "      <td>100</td>\n",
       "      <td>0.157125</td>\n",
       "    </tr>\n",
       "  </tbody>\n",
       "</table>\n",
       "</div>"
      ],
      "text/plain": [
       "   mechanism direction purview state       phi\n",
       "0          A     CAUSE       A     0  0.791118\n",
       "1          A    EFFECT      AD    00  0.895152\n",
       "2          B     CAUSE       B     1  0.518791\n",
       "3          B    EFFECT       B     1  0.617717\n",
       "4          C     CAUSE       C     0  0.791118\n",
       "5          C    EFFECT      CD    00  0.895152\n",
       "6          D     CAUSE      AB    11  0.774729\n",
       "7          D    EFFECT       D     1  0.031598\n",
       "8         BC     CAUSE      BC    10  0.100293\n",
       "9         BC    EFFECT       C     1  0.177346\n",
       "10       ABC     CAUSE     ABC   010  0.115977\n",
       "11       ABC    EFFECT     ACD   100  0.157125"
      ]
     },
     "execution_count": 224,
     "metadata": {},
     "output_type": "execute_result"
    }
   ],
   "source": [
    "utils.sepces2df(max_ces[0]['ces'],subsystem)"
   ]
  },
  {
   "cell_type": "code",
   "execution_count": 119,
   "id": "ffeb2078-2f7a-40a2-8483-e0b55284ea6c",
   "metadata": {},
   "outputs": [
    {
     "data": {
      "text/html": [
       "<div>\n",
       "<style scoped>\n",
       "    .dataframe tbody tr th:only-of-type {\n",
       "        vertical-align: middle;\n",
       "    }\n",
       "\n",
       "    .dataframe tbody tr th {\n",
       "        vertical-align: top;\n",
       "    }\n",
       "\n",
       "    .dataframe thead th {\n",
       "        text-align: right;\n",
       "    }\n",
       "</style>\n",
       "<table border=\"1\" class=\"dataframe\">\n",
       "  <thead>\n",
       "    <tr style=\"text-align: right;\">\n",
       "      <th></th>\n",
       "      <th>mechanism</th>\n",
       "      <th>direction</th>\n",
       "      <th>purview</th>\n",
       "      <th>state</th>\n",
       "      <th>phi</th>\n",
       "    </tr>\n",
       "  </thead>\n",
       "  <tbody>\n",
       "    <tr>\n",
       "      <th>0</th>\n",
       "      <td>A</td>\n",
       "      <td>CAUSE</td>\n",
       "      <td>A</td>\n",
       "      <td>1</td>\n",
       "      <td>0.756225</td>\n",
       "    </tr>\n",
       "    <tr>\n",
       "      <th>1</th>\n",
       "      <td>A</td>\n",
       "      <td>EFFECT</td>\n",
       "      <td>A</td>\n",
       "      <td>1</td>\n",
       "      <td>0.770418</td>\n",
       "    </tr>\n",
       "    <tr>\n",
       "      <th>2</th>\n",
       "      <td>B</td>\n",
       "      <td>CAUSE</td>\n",
       "      <td>B</td>\n",
       "      <td>1</td>\n",
       "      <td>0.518791</td>\n",
       "    </tr>\n",
       "    <tr>\n",
       "      <th>3</th>\n",
       "      <td>B</td>\n",
       "      <td>EFFECT</td>\n",
       "      <td>B</td>\n",
       "      <td>1</td>\n",
       "      <td>0.617717</td>\n",
       "    </tr>\n",
       "    <tr>\n",
       "      <th>4</th>\n",
       "      <td>C</td>\n",
       "      <td>CAUSE</td>\n",
       "      <td>C</td>\n",
       "      <td>1</td>\n",
       "      <td>0.756225</td>\n",
       "    </tr>\n",
       "    <tr>\n",
       "      <th>5</th>\n",
       "      <td>C</td>\n",
       "      <td>EFFECT</td>\n",
       "      <td>C</td>\n",
       "      <td>1</td>\n",
       "      <td>0.770418</td>\n",
       "    </tr>\n",
       "    <tr>\n",
       "      <th>6</th>\n",
       "      <td>D</td>\n",
       "      <td>CAUSE</td>\n",
       "      <td>ABC</td>\n",
       "      <td>111</td>\n",
       "      <td>0.923806</td>\n",
       "    </tr>\n",
       "    <tr>\n",
       "      <th>7</th>\n",
       "      <td>D</td>\n",
       "      <td>EFFECT</td>\n",
       "      <td>D</td>\n",
       "      <td>1</td>\n",
       "      <td>0.050664</td>\n",
       "    </tr>\n",
       "    <tr>\n",
       "      <th>8</th>\n",
       "      <td>AB</td>\n",
       "      <td>CAUSE</td>\n",
       "      <td>AB</td>\n",
       "      <td>11</td>\n",
       "      <td>0.100404</td>\n",
       "    </tr>\n",
       "    <tr>\n",
       "      <th>9</th>\n",
       "      <td>AB</td>\n",
       "      <td>EFFECT</td>\n",
       "      <td>ABD</td>\n",
       "      <td>111</td>\n",
       "      <td>0.461854</td>\n",
       "    </tr>\n",
       "    <tr>\n",
       "      <th>10</th>\n",
       "      <td>AC</td>\n",
       "      <td>CAUSE</td>\n",
       "      <td>B</td>\n",
       "      <td>1</td>\n",
       "      <td>0.092824</td>\n",
       "    </tr>\n",
       "    <tr>\n",
       "      <th>11</th>\n",
       "      <td>AC</td>\n",
       "      <td>EFFECT</td>\n",
       "      <td>BD</td>\n",
       "      <td>11</td>\n",
       "      <td>0.458044</td>\n",
       "    </tr>\n",
       "    <tr>\n",
       "      <th>12</th>\n",
       "      <td>AD</td>\n",
       "      <td>CAUSE</td>\n",
       "      <td>A</td>\n",
       "      <td>1</td>\n",
       "      <td>0.118868</td>\n",
       "    </tr>\n",
       "    <tr>\n",
       "      <th>13</th>\n",
       "      <td>AD</td>\n",
       "      <td>EFFECT</td>\n",
       "      <td>D</td>\n",
       "      <td>1</td>\n",
       "      <td>0.066919</td>\n",
       "    </tr>\n",
       "    <tr>\n",
       "      <th>14</th>\n",
       "      <td>BC</td>\n",
       "      <td>CAUSE</td>\n",
       "      <td>BC</td>\n",
       "      <td>11</td>\n",
       "      <td>0.100404</td>\n",
       "    </tr>\n",
       "    <tr>\n",
       "      <th>15</th>\n",
       "      <td>BC</td>\n",
       "      <td>EFFECT</td>\n",
       "      <td>BCD</td>\n",
       "      <td>111</td>\n",
       "      <td>0.461854</td>\n",
       "    </tr>\n",
       "    <tr>\n",
       "      <th>16</th>\n",
       "      <td>BD</td>\n",
       "      <td>CAUSE</td>\n",
       "      <td>B</td>\n",
       "      <td>1</td>\n",
       "      <td>0.188842</td>\n",
       "    </tr>\n",
       "    <tr>\n",
       "      <th>17</th>\n",
       "      <td>BD</td>\n",
       "      <td>EFFECT</td>\n",
       "      <td>D</td>\n",
       "      <td>1</td>\n",
       "      <td>0.066919</td>\n",
       "    </tr>\n",
       "    <tr>\n",
       "      <th>18</th>\n",
       "      <td>CD</td>\n",
       "      <td>CAUSE</td>\n",
       "      <td>C</td>\n",
       "      <td>1</td>\n",
       "      <td>0.118868</td>\n",
       "    </tr>\n",
       "    <tr>\n",
       "      <th>19</th>\n",
       "      <td>CD</td>\n",
       "      <td>EFFECT</td>\n",
       "      <td>D</td>\n",
       "      <td>1</td>\n",
       "      <td>0.066919</td>\n",
       "    </tr>\n",
       "    <tr>\n",
       "      <th>20</th>\n",
       "      <td>ABC</td>\n",
       "      <td>CAUSE</td>\n",
       "      <td>ABC</td>\n",
       "      <td>111</td>\n",
       "      <td>0.081690</td>\n",
       "    </tr>\n",
       "    <tr>\n",
       "      <th>21</th>\n",
       "      <td>ABC</td>\n",
       "      <td>EFFECT</td>\n",
       "      <td>BD</td>\n",
       "      <td>11</td>\n",
       "      <td>0.554938</td>\n",
       "    </tr>\n",
       "    <tr>\n",
       "      <th>22</th>\n",
       "      <td>ABD</td>\n",
       "      <td>CAUSE</td>\n",
       "      <td>AB</td>\n",
       "      <td>10</td>\n",
       "      <td>0.075885</td>\n",
       "    </tr>\n",
       "    <tr>\n",
       "      <th>23</th>\n",
       "      <td>ABD</td>\n",
       "      <td>EFFECT</td>\n",
       "      <td>D</td>\n",
       "      <td>1</td>\n",
       "      <td>0.067395</td>\n",
       "    </tr>\n",
       "    <tr>\n",
       "      <th>24</th>\n",
       "      <td>ACD</td>\n",
       "      <td>CAUSE</td>\n",
       "      <td>AC</td>\n",
       "      <td>11</td>\n",
       "      <td>0.099543</td>\n",
       "    </tr>\n",
       "    <tr>\n",
       "      <th>25</th>\n",
       "      <td>ACD</td>\n",
       "      <td>EFFECT</td>\n",
       "      <td>D</td>\n",
       "      <td>1</td>\n",
       "      <td>0.067395</td>\n",
       "    </tr>\n",
       "    <tr>\n",
       "      <th>26</th>\n",
       "      <td>BCD</td>\n",
       "      <td>CAUSE</td>\n",
       "      <td>BC</td>\n",
       "      <td>01</td>\n",
       "      <td>0.075885</td>\n",
       "    </tr>\n",
       "    <tr>\n",
       "      <th>27</th>\n",
       "      <td>BCD</td>\n",
       "      <td>EFFECT</td>\n",
       "      <td>D</td>\n",
       "      <td>1</td>\n",
       "      <td>0.067395</td>\n",
       "    </tr>\n",
       "    <tr>\n",
       "      <th>28</th>\n",
       "      <td>ABCD</td>\n",
       "      <td>CAUSE</td>\n",
       "      <td>ABC</td>\n",
       "      <td>111</td>\n",
       "      <td>0.065246</td>\n",
       "    </tr>\n",
       "    <tr>\n",
       "      <th>29</th>\n",
       "      <td>ABCD</td>\n",
       "      <td>EFFECT</td>\n",
       "      <td>ABCD</td>\n",
       "      <td>1111</td>\n",
       "      <td>0.010374</td>\n",
       "    </tr>\n",
       "  </tbody>\n",
       "</table>\n",
       "</div>"
      ],
      "text/plain": [
       "   mechanism direction purview state       phi\n",
       "0          A     CAUSE       A     1  0.756225\n",
       "1          A    EFFECT       A     1  0.770418\n",
       "2          B     CAUSE       B     1  0.518791\n",
       "3          B    EFFECT       B     1  0.617717\n",
       "4          C     CAUSE       C     1  0.756225\n",
       "5          C    EFFECT       C     1  0.770418\n",
       "6          D     CAUSE     ABC   111  0.923806\n",
       "7          D    EFFECT       D     1  0.050664\n",
       "8         AB     CAUSE      AB    11  0.100404\n",
       "9         AB    EFFECT     ABD   111  0.461854\n",
       "10        AC     CAUSE       B     1  0.092824\n",
       "11        AC    EFFECT      BD    11  0.458044\n",
       "12        AD     CAUSE       A     1  0.118868\n",
       "13        AD    EFFECT       D     1  0.066919\n",
       "14        BC     CAUSE      BC    11  0.100404\n",
       "15        BC    EFFECT     BCD   111  0.461854\n",
       "16        BD     CAUSE       B     1  0.188842\n",
       "17        BD    EFFECT       D     1  0.066919\n",
       "18        CD     CAUSE       C     1  0.118868\n",
       "19        CD    EFFECT       D     1  0.066919\n",
       "20       ABC     CAUSE     ABC   111  0.081690\n",
       "21       ABC    EFFECT      BD    11  0.554938\n",
       "22       ABD     CAUSE      AB    10  0.075885\n",
       "23       ABD    EFFECT       D     1  0.067395\n",
       "24       ACD     CAUSE      AC    11  0.099543\n",
       "25       ACD    EFFECT       D     1  0.067395\n",
       "26       BCD     CAUSE      BC    01  0.075885\n",
       "27       BCD    EFFECT       D     1  0.067395\n",
       "28      ABCD     CAUSE     ABC   111  0.065246\n",
       "29      ABCD    EFFECT    ABCD  1111  0.010374"
      ]
     },
     "execution_count": 119,
     "metadata": {},
     "output_type": "execute_result"
    }
   ],
   "source": [
    "utils.sepces2df(ces,subsystem)"
   ]
  },
  {
   "cell_type": "code",
   "execution_count": 135,
   "id": "aefe3300",
   "metadata": {},
   "outputs": [
    {
     "data": {
      "text/plain": [
       "array([[0.05282703, 0.03575078, 0.08661428, 0.06543685, 0.06009787,\n",
       "        0.00043135],\n",
       "       [0.08845203, 0.0769501 , 0.04547727, 0.00414203, 0.09540542,\n",
       "        0.02368191],\n",
       "       [0.06478836, 0.04271017, 0.00028466, 0.04821126, 0.02971616,\n",
       "        0.07927113],\n",
       "       [0.01130869, 0.0821748 , 0.00165421, 0.09935794, 0.0197395 ,\n",
       "        0.09792563],\n",
       "       [0.07471203, 0.07473525, 0.06208848, 0.06050363, 0.035507  ,\n",
       "        0.08971665],\n",
       "       [0.04228357, 0.02933043, 0.09749088, 0.05394963, 0.01207341,\n",
       "        0.02973016]])"
      ]
     },
     "execution_count": 135,
     "metadata": {},
     "output_type": "execute_result"
    }
   ],
   "source": [
    "# SAVED RANDOM WEIGHTS\n",
    "#random_weifgts = weights.copy()\n",
    "random_weifgts"
   ]
  },
  {
   "cell_type": "code",
   "execution_count": 72,
   "id": "986377fa",
   "metadata": {
    "collapsed": true,
    "jupyter": {
     "outputs_hidden": true
    },
    "tags": []
   },
   "outputs": [
    {
     "data": {
      "text/html": [
       "<div>\n",
       "<style scoped>\n",
       "    .dataframe tbody tr th:only-of-type {\n",
       "        vertical-align: middle;\n",
       "    }\n",
       "\n",
       "    .dataframe tbody tr th {\n",
       "        vertical-align: top;\n",
       "    }\n",
       "\n",
       "    .dataframe thead th {\n",
       "        text-align: right;\n",
       "    }\n",
       "</style>\n",
       "<table border=\"1\" class=\"dataframe\">\n",
       "  <thead>\n",
       "    <tr style=\"text-align: right;\">\n",
       "      <th></th>\n",
       "      <th>mechanism</th>\n",
       "      <th>direction</th>\n",
       "      <th>purview</th>\n",
       "      <th>state</th>\n",
       "      <th>phi</th>\n",
       "    </tr>\n",
       "  </thead>\n",
       "  <tbody>\n",
       "    <tr>\n",
       "      <th>0</th>\n",
       "      <td>A</td>\n",
       "      <td>CAUSE</td>\n",
       "      <td>A</td>\n",
       "      <td>0</td>\n",
       "      <td>0.486034</td>\n",
       "    </tr>\n",
       "    <tr>\n",
       "      <th>1</th>\n",
       "      <td>A</td>\n",
       "      <td>EFFECT</td>\n",
       "      <td>A</td>\n",
       "      <td>0</td>\n",
       "      <td>0.627340</td>\n",
       "    </tr>\n",
       "    <tr>\n",
       "      <th>2</th>\n",
       "      <td>B</td>\n",
       "      <td>CAUSE</td>\n",
       "      <td>B</td>\n",
       "      <td>0</td>\n",
       "      <td>0.601248</td>\n",
       "    </tr>\n",
       "    <tr>\n",
       "      <th>3</th>\n",
       "      <td>B</td>\n",
       "      <td>EFFECT</td>\n",
       "      <td>B</td>\n",
       "      <td>0</td>\n",
       "      <td>0.703992</td>\n",
       "    </tr>\n",
       "    <tr>\n",
       "      <th>4</th>\n",
       "      <td>C</td>\n",
       "      <td>CAUSE</td>\n",
       "      <td>C</td>\n",
       "      <td>0</td>\n",
       "      <td>0.486034</td>\n",
       "    </tr>\n",
       "    <tr>\n",
       "      <th>5</th>\n",
       "      <td>C</td>\n",
       "      <td>EFFECT</td>\n",
       "      <td>C</td>\n",
       "      <td>0</td>\n",
       "      <td>0.627340</td>\n",
       "    </tr>\n",
       "    <tr>\n",
       "      <th>6</th>\n",
       "      <td>D</td>\n",
       "      <td>CAUSE</td>\n",
       "      <td>BD</td>\n",
       "      <td>00</td>\n",
       "      <td>0.311921</td>\n",
       "    </tr>\n",
       "    <tr>\n",
       "      <th>7</th>\n",
       "      <td>D</td>\n",
       "      <td>EFFECT</td>\n",
       "      <td>D</td>\n",
       "      <td>0</td>\n",
       "      <td>0.177053</td>\n",
       "    </tr>\n",
       "    <tr>\n",
       "      <th>8</th>\n",
       "      <td>AB</td>\n",
       "      <td>CAUSE</td>\n",
       "      <td>AB</td>\n",
       "      <td>00</td>\n",
       "      <td>0.075913</td>\n",
       "    </tr>\n",
       "    <tr>\n",
       "      <th>9</th>\n",
       "      <td>AB</td>\n",
       "      <td>EFFECT</td>\n",
       "      <td>ABD</td>\n",
       "      <td>000</td>\n",
       "      <td>0.185003</td>\n",
       "    </tr>\n",
       "    <tr>\n",
       "      <th>10</th>\n",
       "      <td>AC</td>\n",
       "      <td>CAUSE</td>\n",
       "      <td>B</td>\n",
       "      <td>0</td>\n",
       "      <td>0.076816</td>\n",
       "    </tr>\n",
       "    <tr>\n",
       "      <th>11</th>\n",
       "      <td>AC</td>\n",
       "      <td>EFFECT</td>\n",
       "      <td>BD</td>\n",
       "      <td>00</td>\n",
       "      <td>0.166159</td>\n",
       "    </tr>\n",
       "    <tr>\n",
       "      <th>12</th>\n",
       "      <td>AD</td>\n",
       "      <td>CAUSE</td>\n",
       "      <td>AD</td>\n",
       "      <td>00</td>\n",
       "      <td>0.184125</td>\n",
       "    </tr>\n",
       "    <tr>\n",
       "      <th>13</th>\n",
       "      <td>AD</td>\n",
       "      <td>EFFECT</td>\n",
       "      <td>D</td>\n",
       "      <td>0</td>\n",
       "      <td>0.289812</td>\n",
       "    </tr>\n",
       "    <tr>\n",
       "      <th>14</th>\n",
       "      <td>BC</td>\n",
       "      <td>CAUSE</td>\n",
       "      <td>BC</td>\n",
       "      <td>00</td>\n",
       "      <td>0.075913</td>\n",
       "    </tr>\n",
       "    <tr>\n",
       "      <th>15</th>\n",
       "      <td>BC</td>\n",
       "      <td>EFFECT</td>\n",
       "      <td>BCD</td>\n",
       "      <td>000</td>\n",
       "      <td>0.185003</td>\n",
       "    </tr>\n",
       "    <tr>\n",
       "      <th>16</th>\n",
       "      <td>BD</td>\n",
       "      <td>CAUSE</td>\n",
       "      <td>BD</td>\n",
       "      <td>00</td>\n",
       "      <td>0.228717</td>\n",
       "    </tr>\n",
       "    <tr>\n",
       "      <th>17</th>\n",
       "      <td>BD</td>\n",
       "      <td>EFFECT</td>\n",
       "      <td>D</td>\n",
       "      <td>0</td>\n",
       "      <td>0.354625</td>\n",
       "    </tr>\n",
       "    <tr>\n",
       "      <th>18</th>\n",
       "      <td>CD</td>\n",
       "      <td>CAUSE</td>\n",
       "      <td>CD</td>\n",
       "      <td>00</td>\n",
       "      <td>0.184125</td>\n",
       "    </tr>\n",
       "    <tr>\n",
       "      <th>19</th>\n",
       "      <td>CD</td>\n",
       "      <td>EFFECT</td>\n",
       "      <td>D</td>\n",
       "      <td>0</td>\n",
       "      <td>0.289812</td>\n",
       "    </tr>\n",
       "    <tr>\n",
       "      <th>20</th>\n",
       "      <td>ABC</td>\n",
       "      <td>CAUSE</td>\n",
       "      <td>ABC</td>\n",
       "      <td>000</td>\n",
       "      <td>0.066542</td>\n",
       "    </tr>\n",
       "    <tr>\n",
       "      <th>21</th>\n",
       "      <td>ABC</td>\n",
       "      <td>EFFECT</td>\n",
       "      <td>ABCD</td>\n",
       "      <td>0000</td>\n",
       "      <td>0.274974</td>\n",
       "    </tr>\n",
       "    <tr>\n",
       "      <th>22</th>\n",
       "      <td>ABD</td>\n",
       "      <td>CAUSE</td>\n",
       "      <td>ABCD</td>\n",
       "      <td>0000</td>\n",
       "      <td>0.098318</td>\n",
       "    </tr>\n",
       "    <tr>\n",
       "      <th>23</th>\n",
       "      <td>ABD</td>\n",
       "      <td>EFFECT</td>\n",
       "      <td>ABD</td>\n",
       "      <td>000</td>\n",
       "      <td>0.277780</td>\n",
       "    </tr>\n",
       "    <tr>\n",
       "      <th>24</th>\n",
       "      <td>ACD</td>\n",
       "      <td>CAUSE</td>\n",
       "      <td>ABCD</td>\n",
       "      <td>0001</td>\n",
       "      <td>0.134707</td>\n",
       "    </tr>\n",
       "    <tr>\n",
       "      <th>25</th>\n",
       "      <td>ACD</td>\n",
       "      <td>EFFECT</td>\n",
       "      <td>BD</td>\n",
       "      <td>00</td>\n",
       "      <td>0.284907</td>\n",
       "    </tr>\n",
       "    <tr>\n",
       "      <th>26</th>\n",
       "      <td>BCD</td>\n",
       "      <td>CAUSE</td>\n",
       "      <td>ABCD</td>\n",
       "      <td>0000</td>\n",
       "      <td>0.098318</td>\n",
       "    </tr>\n",
       "    <tr>\n",
       "      <th>27</th>\n",
       "      <td>BCD</td>\n",
       "      <td>EFFECT</td>\n",
       "      <td>BCD</td>\n",
       "      <td>000</td>\n",
       "      <td>0.277780</td>\n",
       "    </tr>\n",
       "    <tr>\n",
       "      <th>28</th>\n",
       "      <td>ABCD</td>\n",
       "      <td>CAUSE</td>\n",
       "      <td>ABCD</td>\n",
       "      <td>0100</td>\n",
       "      <td>0.112356</td>\n",
       "    </tr>\n",
       "    <tr>\n",
       "      <th>29</th>\n",
       "      <td>ABCD</td>\n",
       "      <td>EFFECT</td>\n",
       "      <td>ABCD</td>\n",
       "      <td>0000</td>\n",
       "      <td>0.073669</td>\n",
       "    </tr>\n",
       "  </tbody>\n",
       "</table>\n",
       "</div>"
      ],
      "text/plain": [
       "   mechanism direction purview state       phi\n",
       "0          A     CAUSE       A     0  0.486034\n",
       "1          A    EFFECT       A     0  0.627340\n",
       "2          B     CAUSE       B     0  0.601248\n",
       "3          B    EFFECT       B     0  0.703992\n",
       "4          C     CAUSE       C     0  0.486034\n",
       "5          C    EFFECT       C     0  0.627340\n",
       "6          D     CAUSE      BD    00  0.311921\n",
       "7          D    EFFECT       D     0  0.177053\n",
       "8         AB     CAUSE      AB    00  0.075913\n",
       "9         AB    EFFECT     ABD   000  0.185003\n",
       "10        AC     CAUSE       B     0  0.076816\n",
       "11        AC    EFFECT      BD    00  0.166159\n",
       "12        AD     CAUSE      AD    00  0.184125\n",
       "13        AD    EFFECT       D     0  0.289812\n",
       "14        BC     CAUSE      BC    00  0.075913\n",
       "15        BC    EFFECT     BCD   000  0.185003\n",
       "16        BD     CAUSE      BD    00  0.228717\n",
       "17        BD    EFFECT       D     0  0.354625\n",
       "18        CD     CAUSE      CD    00  0.184125\n",
       "19        CD    EFFECT       D     0  0.289812\n",
       "20       ABC     CAUSE     ABC   000  0.066542\n",
       "21       ABC    EFFECT    ABCD  0000  0.274974\n",
       "22       ABD     CAUSE    ABCD  0000  0.098318\n",
       "23       ABD    EFFECT     ABD   000  0.277780\n",
       "24       ACD     CAUSE    ABCD  0001  0.134707\n",
       "25       ACD    EFFECT      BD    00  0.284907\n",
       "26       BCD     CAUSE    ABCD  0000  0.098318\n",
       "27       BCD    EFFECT     BCD   000  0.277780\n",
       "28      ABCD     CAUSE    ABCD  0100  0.112356\n",
       "29      ABCD    EFFECT    ABCD  0000  0.073669"
      ]
     },
     "execution_count": 72,
     "metadata": {},
     "output_type": "execute_result"
    }
   ],
   "source": [
    "utils.sepces2df(ces,subsystem)"
   ]
  },
  {
   "cell_type": "code",
   "execution_count": 76,
   "id": "5b43b12f",
   "metadata": {},
   "outputs": [
    {
     "data": {
      "text/html": [
       "<div>\n",
       "<style scoped>\n",
       "    .dataframe tbody tr th:only-of-type {\n",
       "        vertical-align: middle;\n",
       "    }\n",
       "\n",
       "    .dataframe tbody tr th {\n",
       "        vertical-align: top;\n",
       "    }\n",
       "\n",
       "    .dataframe thead th {\n",
       "        text-align: right;\n",
       "    }\n",
       "</style>\n",
       "<table border=\"1\" class=\"dataframe\">\n",
       "  <thead>\n",
       "    <tr style=\"text-align: right;\">\n",
       "      <th></th>\n",
       "      <th>mechanism</th>\n",
       "      <th>direction</th>\n",
       "      <th>purview</th>\n",
       "      <th>state</th>\n",
       "      <th>phi</th>\n",
       "    </tr>\n",
       "  </thead>\n",
       "  <tbody>\n",
       "    <tr>\n",
       "      <th>0</th>\n",
       "      <td>A</td>\n",
       "      <td>CAUSE</td>\n",
       "      <td>A</td>\n",
       "      <td>0</td>\n",
       "      <td>0.512357</td>\n",
       "    </tr>\n",
       "    <tr>\n",
       "      <th>1</th>\n",
       "      <td>A</td>\n",
       "      <td>EFFECT</td>\n",
       "      <td>A</td>\n",
       "      <td>0</td>\n",
       "      <td>0.649867</td>\n",
       "    </tr>\n",
       "    <tr>\n",
       "      <th>2</th>\n",
       "      <td>B</td>\n",
       "      <td>CAUSE</td>\n",
       "      <td>B</td>\n",
       "      <td>1</td>\n",
       "      <td>0.452130</td>\n",
       "    </tr>\n",
       "    <tr>\n",
       "      <th>3</th>\n",
       "      <td>B</td>\n",
       "      <td>EFFECT</td>\n",
       "      <td>B</td>\n",
       "      <td>1</td>\n",
       "      <td>0.567426</td>\n",
       "    </tr>\n",
       "    <tr>\n",
       "      <th>4</th>\n",
       "      <td>C</td>\n",
       "      <td>CAUSE</td>\n",
       "      <td>C</td>\n",
       "      <td>0</td>\n",
       "      <td>0.514622</td>\n",
       "    </tr>\n",
       "    <tr>\n",
       "      <th>5</th>\n",
       "      <td>C</td>\n",
       "      <td>EFFECT</td>\n",
       "      <td>C</td>\n",
       "      <td>0</td>\n",
       "      <td>0.652147</td>\n",
       "    </tr>\n",
       "    <tr>\n",
       "      <th>6</th>\n",
       "      <td>AB</td>\n",
       "      <td>CAUSE</td>\n",
       "      <td>AB</td>\n",
       "      <td>10</td>\n",
       "      <td>0.180604</td>\n",
       "    </tr>\n",
       "    <tr>\n",
       "      <th>7</th>\n",
       "      <td>AB</td>\n",
       "      <td>EFFECT</td>\n",
       "      <td>ABD</td>\n",
       "      <td>010</td>\n",
       "      <td>0.038629</td>\n",
       "    </tr>\n",
       "    <tr>\n",
       "      <th>8</th>\n",
       "      <td>BC</td>\n",
       "      <td>CAUSE</td>\n",
       "      <td>BC</td>\n",
       "      <td>01</td>\n",
       "      <td>0.175186</td>\n",
       "    </tr>\n",
       "    <tr>\n",
       "      <th>9</th>\n",
       "      <td>BC</td>\n",
       "      <td>EFFECT</td>\n",
       "      <td>BCD</td>\n",
       "      <td>100</td>\n",
       "      <td>0.038340</td>\n",
       "    </tr>\n",
       "    <tr>\n",
       "      <th>10</th>\n",
       "      <td>BD</td>\n",
       "      <td>CAUSE</td>\n",
       "      <td>BCD</td>\n",
       "      <td>110</td>\n",
       "      <td>0.139932</td>\n",
       "    </tr>\n",
       "    <tr>\n",
       "      <th>11</th>\n",
       "      <td>BD</td>\n",
       "      <td>EFFECT</td>\n",
       "      <td>BD</td>\n",
       "      <td>10</td>\n",
       "      <td>0.024241</td>\n",
       "    </tr>\n",
       "    <tr>\n",
       "      <th>12</th>\n",
       "      <td>ABCD</td>\n",
       "      <td>CAUSE</td>\n",
       "      <td>ABCD</td>\n",
       "      <td>0101</td>\n",
       "      <td>0.218696</td>\n",
       "    </tr>\n",
       "    <tr>\n",
       "      <th>13</th>\n",
       "      <td>ABCD</td>\n",
       "      <td>EFFECT</td>\n",
       "      <td>D</td>\n",
       "      <td>1</td>\n",
       "      <td>0.427381</td>\n",
       "    </tr>\n",
       "  </tbody>\n",
       "</table>\n",
       "</div>"
      ],
      "text/plain": [
       "   mechanism direction purview state       phi\n",
       "0          A     CAUSE       A     0  0.512357\n",
       "1          A    EFFECT       A     0  0.649867\n",
       "2          B     CAUSE       B     1  0.452130\n",
       "3          B    EFFECT       B     1  0.567426\n",
       "4          C     CAUSE       C     0  0.514622\n",
       "5          C    EFFECT       C     0  0.652147\n",
       "6         AB     CAUSE      AB    10  0.180604\n",
       "7         AB    EFFECT     ABD   010  0.038629\n",
       "8         BC     CAUSE      BC    01  0.175186\n",
       "9         BC    EFFECT     BCD   100  0.038340\n",
       "10        BD     CAUSE     BCD   110  0.139932\n",
       "11        BD    EFFECT      BD    10  0.024241\n",
       "12      ABCD     CAUSE    ABCD  0101  0.218696\n",
       "13      ABCD    EFFECT       D     1  0.427381"
      ]
     },
     "execution_count": 76,
     "metadata": {},
     "output_type": "execute_result"
    }
   ],
   "source": [
    "CES = [m for f in filtered for m in f if m['big phi']>8.8][0]\n",
    "utils.sepces2df(CES['ces'],subsystem)"
   ]
  },
  {
   "cell_type": "code",
   "execution_count": 77,
   "id": "210fc0b9",
   "metadata": {},
   "outputs": [
    {
     "data": {
      "text/plain": [
       "(((0,), (1, 2, 3)), (1, 2, 3), (0,), EFFECT)"
      ]
     },
     "execution_count": 77,
     "metadata": {},
     "output_type": "execute_result"
    }
   ],
   "source": [
    "CES['MIP']"
   ]
  },
  {
   "cell_type": "code",
   "execution_count": 69,
   "id": "b36fef8f",
   "metadata": {},
   "outputs": [
    {
     "data": {
      "text/plain": [
       "array([[0.80429078, 0.25524274, 0.00307273, 0.3515403 , 0.00492981,\n",
       "        0.00996336],\n",
       "       [0.25475904, 0.8015509 , 0.25453847, 0.40018269, 0.01702802,\n",
       "        0.0043879 ],\n",
       "       [0.00997719, 0.25221898, 0.80581981, 0.35990666, 0.00266345,\n",
       "        0.00728655],\n",
       "       [0.01578615, 0.01329649, 0.0181051 , 0.60958749, 0.00620138,\n",
       "        0.35398605],\n",
       "       [0.00974372, 0.35204232, 0.00702253, 0.00453444, 0.00349476,\n",
       "        0.00514265],\n",
       "       [0.00515462, 0.00230007, 0.00979452, 0.00469913, 0.00642495,\n",
       "        0.00897918]])"
      ]
     },
     "execution_count": 69,
     "metadata": {},
     "output_type": "execute_result"
    }
   ],
   "source": [
    "good_weights = weights\n",
    "good_weights"
   ]
  },
  {
   "cell_type": "code",
   "execution_count": 163,
   "id": "5619941b",
   "metadata": {},
   "outputs": [
    {
     "data": {
      "application/vnd.jupyter.widget-view+json": {
       "model_id": "cb771679f2ea477392fa1d7c17d817d9",
       "version_major": 2,
       "version_minor": 0
      },
      "text/plain": [
       "  0%|          | 0/64 [00:00<?, ?it/s]"
      ]
     },
     "metadata": {},
     "output_type": "display_data"
    },
    {
     "name": "stdout",
     "output_type": "stream",
     "text": [
      "Network saved to: ch3_v5\n"
     ]
    }
   ],
   "source": [
    "# conjunction disjunction\n",
    "# ch3 system creation\n",
    "net_name = \"ch3_v5\"\n",
    "\n",
    "th = 1 / 4\n",
    "exp = 5\n",
    "mu = 1\n",
    "si = 0.3\n",
    "ll = 1\n",
    "kk = 45\n",
    "x0 = 0.7\n",
    "\n",
    "noise = 0.00\n",
    "\n",
    "s = 0.8\n",
    "l = 0.25\n",
    "f = 0.0\n",
    "q = 0.075\n",
    "j = 1 - q\n",
    "i = j - 0.05\n",
    "p = 0.01\n",
    "k = (1 - p)/2\n",
    "b = 0.001\n",
    "\n",
    "weights = np.array(\n",
    "    [\n",
    "        [s, l, k, i, 0, 0],  # A\n",
    "        [l, s, k, j, 0, 0],  # B\n",
    "        [0, 0, p, 0, 0, i],  # C\n",
    "        [0, 0, 0, q, 0, j],  # D\n",
    "        [0, i, 0, 0, 0, 0],  # I\n",
    "        [i, 0, 0, 0, 0, q],  # O\n",
    "        # A, B, C, D, I, O\n",
    "    ]\n",
    ")\n",
    "\n",
    "rule = (weights>0)\n",
    "weights += rule * np.random.random((6,6))*noise\n",
    "weights = np.abs(weights)\n",
    "\n",
    "node_labels = [\"A\", \"B\", \"C\", \"D\", \"I\", \"O\"]\n",
    "mech_func = [f for f in \"sslglg\"]\n",
    "\n",
    "network = ng.get_net(\n",
    "    mech_func,\n",
    "    weights,\n",
    "    exp=exp,\n",
    "    th=th,\n",
    "    mu=mu,\n",
    "    si=si,\n",
    "    l=ll,\n",
    "    k=kk,\n",
    "    x0=x0,\n",
    "    node_labels=node_labels,\n",
    "    network_name=net_name,\n",
    "    pickle_network=True,\n",
    ")\n",
    "\n",
    "state = (0, 1, 0, 1, 1, 1)\n",
    "#state = (0,)*6\n",
    "subsystem = pyphi.Subsystem(network, state, nodes=(0,1,2,3))"
   ]
  },
  {
   "cell_type": "code",
   "execution_count": 164,
   "id": "17be512a-8af8-4de9-b57f-372abdfdae26",
   "metadata": {},
   "outputs": [
    {
     "name": "stderr",
     "output_type": "stream",
     "text": [
      "\n",
      "Computing concepts:   0%|                                                                        | 0/15 [00:00<?, ?it/s]\u001b[A\n",
      "Computing concepts:   7%|████▎                                                           | 1/15 [00:02<00:31,  2.22s/it]\u001b[A\n",
      "Computing concepts: 100%|███████████████████████████████████████████████████████████████| 15/15 [00:02<00:00,  8.43it/s]\u001b[A\n",
      "                                                                                                                        \u001b[A"
     ]
    },
    {
     "name": "stdout",
     "output_type": "stream",
     "text": [
      "there are 4 possible compositional states\n"
     ]
    }
   ],
   "source": [
    "ces = utils.flatten([[d.cause,d.effect] for d in pyphi.compute.ces(subsystem,parallel=True)])\n",
    "all_compositional_states = compute.get_all_compositional_states(ces)\n",
    "print('there are {} possible compositional states'.format(len(all_compositional_states)))"
   ]
  },
  {
   "cell_type": "code",
   "execution_count": 165,
   "id": "7e2a9301-771a-47cf-b5ba-a18396232a18",
   "metadata": {
    "tags": []
   },
   "outputs": [
    {
     "data": {
      "application/vnd.jupyter.widget-view+json": {
       "model_id": "ea4a2f49b4874476afea74942fd13e58",
       "version_major": 2,
       "version_minor": 0
      },
      "text/plain": [
       "  0%|          | 0/4 [00:00<?, ?it/s]"
      ]
     },
     "metadata": {},
     "output_type": "display_data"
    },
    {
     "data": {
      "application/vnd.jupyter.widget-view+json": {
       "model_id": "6a1c3603ad004e18bc65ff7e7c4520ba",
       "version_major": 2,
       "version_minor": 0
      },
      "text/plain": [
       "  0%|          | 0/576 [00:00<?, ?it/s]"
      ]
     },
     "metadata": {},
     "output_type": "display_data"
    },
    {
     "data": {
      "application/vnd.jupyter.widget-view+json": {
       "model_id": "64985ad23b3c467bbf54077e79921746",
       "version_major": 2,
       "version_minor": 0
      },
      "text/plain": [
       "  0%|          | 0/192 [00:00<?, ?it/s]"
      ]
     },
     "metadata": {},
     "output_type": "display_data"
    },
    {
     "data": {
      "application/vnd.jupyter.widget-view+json": {
       "model_id": "131aff4944f141299c0140c4188a8381",
       "version_major": 2,
       "version_minor": 0
      },
      "text/plain": [
       "  0%|          | 0/1440 [00:00<?, ?it/s]"
      ]
     },
     "metadata": {},
     "output_type": "display_data"
    },
    {
     "data": {
      "application/vnd.jupyter.widget-view+json": {
       "model_id": "9a0b0a87cda2445b89066bd724186038",
       "version_major": 2,
       "version_minor": 0
      },
      "text/plain": [
       "  0%|          | 0/480 [00:00<?, ?it/s]"
      ]
     },
     "metadata": {},
     "output_type": "display_data"
    }
   ],
   "source": [
    "max_ces = max(\n",
    "    [\n",
    "        compute.filter_ces(subsystem, ces, compositional_state, max_relations_k=3)\n",
    "        for compositional_state in tqdm(all_compositional_states)\n",
    "    ],\n",
    "    key=lambda c: c[\"big phi\"],\n",
    ")"
   ]
  },
  {
   "cell_type": "code",
   "execution_count": 145,
   "id": "847ff0ea-93b1-457b-a1b6-d740f4854062",
   "metadata": {},
   "outputs": [
    {
     "data": {
      "application/vnd.jupyter.widget-view+json": {
       "model_id": "ad5c371d30ed42978e9f29d41f489976",
       "version_major": 2,
       "version_minor": 0
      },
      "text/plain": [
       "Computing edges:   0%|          | 0/15 [00:00<?, ?it/s]"
      ]
     },
     "metadata": {},
     "output_type": "display_data"
    },
    {
     "data": {
      "application/vnd.jupyter.widget-view+json": {
       "model_id": "ae5a92b2f50a4d1a9e28be003ff2ff54",
       "version_major": 2,
       "version_minor": 0
      },
      "text/plain": [
       "Computing triangles:   0%|          | 0/8 [00:00<?, ?it/s]"
      ]
     },
     "metadata": {},
     "output_type": "display_data"
    }
   ],
   "source": [
    "\n",
    "fig = viz.plot_ces(subsystem,max_ces['ces'],max_ces['relations'],network_name='figures/con_disj',surface_opacity=0.7,)"
   ]
  },
  {
   "cell_type": "code",
   "execution_count": 166,
   "id": "d3febd13-e034-4f26-8d5e-715e9e3abb89",
   "metadata": {},
   "outputs": [
    {
     "data": {
      "text/plain": [
       "0.0"
      ]
     },
     "execution_count": 166,
     "metadata": {},
     "output_type": "execute_result"
    }
   ],
   "source": [
    "max_ces['big phi']"
   ]
  },
  {
   "cell_type": "code",
   "execution_count": 167,
   "id": "d09e67c9-7dc5-41a6-b9e9-e218ddd70556",
   "metadata": {},
   "outputs": [
    {
     "data": {
      "text/plain": [
       "(((0,), (1, 2, 3)), (1, 2, 3), (0,), CAUSE)"
      ]
     },
     "execution_count": 167,
     "metadata": {},
     "output_type": "execute_result"
    }
   ],
   "source": [
    "max_ces['MIP']"
   ]
  },
  {
   "cell_type": "code",
   "execution_count": 168,
   "id": "813c01ee-af76-4d2e-a048-80925e858aa8",
   "metadata": {},
   "outputs": [
    {
     "data": {
      "text/html": [
       "<div>\n",
       "<style scoped>\n",
       "    .dataframe tbody tr th:only-of-type {\n",
       "        vertical-align: middle;\n",
       "    }\n",
       "\n",
       "    .dataframe tbody tr th {\n",
       "        vertical-align: top;\n",
       "    }\n",
       "\n",
       "    .dataframe thead th {\n",
       "        text-align: right;\n",
       "    }\n",
       "</style>\n",
       "<table border=\"1\" class=\"dataframe\">\n",
       "  <thead>\n",
       "    <tr style=\"text-align: right;\">\n",
       "      <th></th>\n",
       "      <th>mechanism</th>\n",
       "      <th>direction</th>\n",
       "      <th>purview</th>\n",
       "      <th>state</th>\n",
       "      <th>phi</th>\n",
       "    </tr>\n",
       "  </thead>\n",
       "  <tbody>\n",
       "    <tr>\n",
       "      <th>0</th>\n",
       "      <td>A</td>\n",
       "      <td>CAUSE</td>\n",
       "      <td>AB</td>\n",
       "      <td>00</td>\n",
       "      <td>0.999782</td>\n",
       "    </tr>\n",
       "    <tr>\n",
       "      <th>1</th>\n",
       "      <td>A</td>\n",
       "      <td>EFFECT</td>\n",
       "      <td>C</td>\n",
       "      <td>0</td>\n",
       "      <td>0.415041</td>\n",
       "    </tr>\n",
       "    <tr>\n",
       "      <th>2</th>\n",
       "      <td>B</td>\n",
       "      <td>CAUSE</td>\n",
       "      <td>B</td>\n",
       "      <td>1</td>\n",
       "      <td>0.091296</td>\n",
       "    </tr>\n",
       "    <tr>\n",
       "      <th>3</th>\n",
       "      <td>B</td>\n",
       "      <td>EFFECT</td>\n",
       "      <td>ABC</td>\n",
       "      <td>111</td>\n",
       "      <td>0.575169</td>\n",
       "    </tr>\n",
       "  </tbody>\n",
       "</table>\n",
       "</div>"
      ],
      "text/plain": [
       "  mechanism direction purview state       phi\n",
       "0         A     CAUSE      AB    00  0.999782\n",
       "1         A    EFFECT       C     0  0.415041\n",
       "2         B     CAUSE       B     1  0.091296\n",
       "3         B    EFFECT     ABC   111  0.575169"
      ]
     },
     "execution_count": 168,
     "metadata": {},
     "output_type": "execute_result"
    }
   ],
   "source": [
    "utils.sepces2df(max_ces['ces'],subsystem)"
   ]
  },
  {
   "cell_type": "code",
   "execution_count": 169,
   "id": "ba569f2a-1752-45fb-8f05-f4c51ce3d3f5",
   "metadata": {},
   "outputs": [
    {
     "data": {
      "text/html": [
       "<div>\n",
       "<style scoped>\n",
       "    .dataframe tbody tr th:only-of-type {\n",
       "        vertical-align: middle;\n",
       "    }\n",
       "\n",
       "    .dataframe tbody tr th {\n",
       "        vertical-align: top;\n",
       "    }\n",
       "\n",
       "    .dataframe thead th {\n",
       "        text-align: right;\n",
       "    }\n",
       "</style>\n",
       "<table border=\"1\" class=\"dataframe\">\n",
       "  <thead>\n",
       "    <tr style=\"text-align: right;\">\n",
       "      <th></th>\n",
       "      <th>mechanism</th>\n",
       "      <th>direction</th>\n",
       "      <th>purview</th>\n",
       "      <th>state</th>\n",
       "      <th>phi</th>\n",
       "    </tr>\n",
       "  </thead>\n",
       "  <tbody>\n",
       "    <tr>\n",
       "      <th>0</th>\n",
       "      <td>A</td>\n",
       "      <td>CAUSE</td>\n",
       "      <td>AB</td>\n",
       "      <td>00</td>\n",
       "      <td>0.999782</td>\n",
       "    </tr>\n",
       "    <tr>\n",
       "      <th>1</th>\n",
       "      <td>A</td>\n",
       "      <td>EFFECT</td>\n",
       "      <td>C</td>\n",
       "      <td>0</td>\n",
       "      <td>0.415041</td>\n",
       "    </tr>\n",
       "    <tr>\n",
       "      <th>2</th>\n",
       "      <td>B</td>\n",
       "      <td>CAUSE</td>\n",
       "      <td>B</td>\n",
       "      <td>1</td>\n",
       "      <td>0.091296</td>\n",
       "    </tr>\n",
       "    <tr>\n",
       "      <th>3</th>\n",
       "      <td>B</td>\n",
       "      <td>EFFECT</td>\n",
       "      <td>ABC</td>\n",
       "      <td>111</td>\n",
       "      <td>0.575169</td>\n",
       "    </tr>\n",
       "    <tr>\n",
       "      <th>4</th>\n",
       "      <td>C</td>\n",
       "      <td>CAUSE</td>\n",
       "      <td>A</td>\n",
       "      <td>0</td>\n",
       "      <td>0.276717</td>\n",
       "    </tr>\n",
       "    <tr>\n",
       "      <th>5</th>\n",
       "      <td>C</td>\n",
       "      <td>EFFECT</td>\n",
       "      <td>C</td>\n",
       "      <td>0</td>\n",
       "      <td>0.000020</td>\n",
       "    </tr>\n",
       "    <tr>\n",
       "      <th>6</th>\n",
       "      <td>D</td>\n",
       "      <td>CAUSE</td>\n",
       "      <td>AB</td>\n",
       "      <td>01</td>\n",
       "      <td>0.503393</td>\n",
       "    </tr>\n",
       "    <tr>\n",
       "      <th>7</th>\n",
       "      <td>D</td>\n",
       "      <td>EFFECT</td>\n",
       "      <td>D</td>\n",
       "      <td>1</td>\n",
       "      <td>0.016511</td>\n",
       "    </tr>\n",
       "    <tr>\n",
       "      <th>8</th>\n",
       "      <td>AB</td>\n",
       "      <td>CAUSE</td>\n",
       "      <td>AB</td>\n",
       "      <td>01</td>\n",
       "      <td>0.117290</td>\n",
       "    </tr>\n",
       "    <tr>\n",
       "      <th>9</th>\n",
       "      <td>AB</td>\n",
       "      <td>EFFECT</td>\n",
       "      <td>D</td>\n",
       "      <td>1</td>\n",
       "      <td>0.954088</td>\n",
       "    </tr>\n",
       "    <tr>\n",
       "      <th>10</th>\n",
       "      <td>AC</td>\n",
       "      <td>CAUSE</td>\n",
       "      <td>B</td>\n",
       "      <td>0</td>\n",
       "      <td>0.179264</td>\n",
       "    </tr>\n",
       "    <tr>\n",
       "      <th>11</th>\n",
       "      <td>AC</td>\n",
       "      <td>EFFECT</td>\n",
       "      <td>C</td>\n",
       "      <td>0</td>\n",
       "      <td>0.000020</td>\n",
       "    </tr>\n",
       "    <tr>\n",
       "      <th>12</th>\n",
       "      <td>AD</td>\n",
       "      <td>CAUSE</td>\n",
       "      <td>AB</td>\n",
       "      <td>01</td>\n",
       "      <td>0.663633</td>\n",
       "    </tr>\n",
       "    <tr>\n",
       "      <th>13</th>\n",
       "      <td>AD</td>\n",
       "      <td>EFFECT</td>\n",
       "      <td>CD</td>\n",
       "      <td>01</td>\n",
       "      <td>0.002963</td>\n",
       "    </tr>\n",
       "    <tr>\n",
       "      <th>14</th>\n",
       "      <td>BC</td>\n",
       "      <td>CAUSE</td>\n",
       "      <td>AB</td>\n",
       "      <td>00</td>\n",
       "      <td>0.087114</td>\n",
       "    </tr>\n",
       "    <tr>\n",
       "      <th>15</th>\n",
       "      <td>BC</td>\n",
       "      <td>EFFECT</td>\n",
       "      <td>BC</td>\n",
       "      <td>10</td>\n",
       "      <td>0.000020</td>\n",
       "    </tr>\n",
       "    <tr>\n",
       "      <th>16</th>\n",
       "      <td>BD</td>\n",
       "      <td>CAUSE</td>\n",
       "      <td>AB</td>\n",
       "      <td>01</td>\n",
       "      <td>0.040630</td>\n",
       "    </tr>\n",
       "    <tr>\n",
       "      <th>17</th>\n",
       "      <td>BD</td>\n",
       "      <td>EFFECT</td>\n",
       "      <td>D</td>\n",
       "      <td>1</td>\n",
       "      <td>0.005945</td>\n",
       "    </tr>\n",
       "    <tr>\n",
       "      <th>18</th>\n",
       "      <td>ABC</td>\n",
       "      <td>CAUSE</td>\n",
       "      <td>B</td>\n",
       "      <td>1</td>\n",
       "      <td>0.055489</td>\n",
       "    </tr>\n",
       "    <tr>\n",
       "      <th>19</th>\n",
       "      <td>ABC</td>\n",
       "      <td>EFFECT</td>\n",
       "      <td>BC</td>\n",
       "      <td>10</td>\n",
       "      <td>0.000040</td>\n",
       "    </tr>\n",
       "    <tr>\n",
       "      <th>20</th>\n",
       "      <td>ABD</td>\n",
       "      <td>CAUSE</td>\n",
       "      <td>AB</td>\n",
       "      <td>01</td>\n",
       "      <td>0.022754</td>\n",
       "    </tr>\n",
       "    <tr>\n",
       "      <th>21</th>\n",
       "      <td>ABD</td>\n",
       "      <td>EFFECT</td>\n",
       "      <td>D</td>\n",
       "      <td>1</td>\n",
       "      <td>0.022366</td>\n",
       "    </tr>\n",
       "    <tr>\n",
       "      <th>22</th>\n",
       "      <td>ACD</td>\n",
       "      <td>CAUSE</td>\n",
       "      <td>BD</td>\n",
       "      <td>00</td>\n",
       "      <td>0.013953</td>\n",
       "    </tr>\n",
       "    <tr>\n",
       "      <th>23</th>\n",
       "      <td>ACD</td>\n",
       "      <td>EFFECT</td>\n",
       "      <td>CD</td>\n",
       "      <td>01</td>\n",
       "      <td>0.000010</td>\n",
       "    </tr>\n",
       "    <tr>\n",
       "      <th>24</th>\n",
       "      <td>BCD</td>\n",
       "      <td>CAUSE</td>\n",
       "      <td>B</td>\n",
       "      <td>1</td>\n",
       "      <td>0.017185</td>\n",
       "    </tr>\n",
       "    <tr>\n",
       "      <th>25</th>\n",
       "      <td>BCD</td>\n",
       "      <td>EFFECT</td>\n",
       "      <td>ABCD</td>\n",
       "      <td>1101</td>\n",
       "      <td>0.000010</td>\n",
       "    </tr>\n",
       "    <tr>\n",
       "      <th>26</th>\n",
       "      <td>ABCD</td>\n",
       "      <td>CAUSE</td>\n",
       "      <td>BD</td>\n",
       "      <td>00</td>\n",
       "      <td>0.014315</td>\n",
       "    </tr>\n",
       "    <tr>\n",
       "      <th>27</th>\n",
       "      <td>ABCD</td>\n",
       "      <td>EFFECT</td>\n",
       "      <td>BCD</td>\n",
       "      <td>101</td>\n",
       "      <td>0.000040</td>\n",
       "    </tr>\n",
       "  </tbody>\n",
       "</table>\n",
       "</div>"
      ],
      "text/plain": [
       "   mechanism direction purview state       phi\n",
       "0          A     CAUSE      AB    00  0.999782\n",
       "1          A    EFFECT       C     0  0.415041\n",
       "2          B     CAUSE       B     1  0.091296\n",
       "3          B    EFFECT     ABC   111  0.575169\n",
       "4          C     CAUSE       A     0  0.276717\n",
       "5          C    EFFECT       C     0  0.000020\n",
       "6          D     CAUSE      AB    01  0.503393\n",
       "7          D    EFFECT       D     1  0.016511\n",
       "8         AB     CAUSE      AB    01  0.117290\n",
       "9         AB    EFFECT       D     1  0.954088\n",
       "10        AC     CAUSE       B     0  0.179264\n",
       "11        AC    EFFECT       C     0  0.000020\n",
       "12        AD     CAUSE      AB    01  0.663633\n",
       "13        AD    EFFECT      CD    01  0.002963\n",
       "14        BC     CAUSE      AB    00  0.087114\n",
       "15        BC    EFFECT      BC    10  0.000020\n",
       "16        BD     CAUSE      AB    01  0.040630\n",
       "17        BD    EFFECT       D     1  0.005945\n",
       "18       ABC     CAUSE       B     1  0.055489\n",
       "19       ABC    EFFECT      BC    10  0.000040\n",
       "20       ABD     CAUSE      AB    01  0.022754\n",
       "21       ABD    EFFECT       D     1  0.022366\n",
       "22       ACD     CAUSE      BD    00  0.013953\n",
       "23       ACD    EFFECT      CD    01  0.000010\n",
       "24       BCD     CAUSE       B     1  0.017185\n",
       "25       BCD    EFFECT    ABCD  1101  0.000010\n",
       "26      ABCD     CAUSE      BD    00  0.014315\n",
       "27      ABCD    EFFECT     BCD   101  0.000040"
      ]
     },
     "execution_count": 169,
     "metadata": {},
     "output_type": "execute_result"
    }
   ],
   "source": [
    "utils.sepces2df(ces,subsystem)"
   ]
  },
  {
   "cell_type": "code",
   "execution_count": null,
   "id": "3e17fec4-5981-4258-b8cb-67f56a3c7e4e",
   "metadata": {},
   "outputs": [],
   "source": []
  },
  {
   "cell_type": "code",
   "execution_count": null,
   "id": "840f1647-9c4a-4e11-93a0-d1aeb8edbbed",
   "metadata": {},
   "outputs": [],
   "source": []
  },
  {
   "cell_type": "code",
   "execution_count": null,
   "id": "0acf88d5-a5df-4dfb-af57-a1998a5d9ece",
   "metadata": {},
   "outputs": [],
   "source": []
  },
  {
   "cell_type": "code",
   "execution_count": null,
   "id": "7562a3c6-f205-44bc-9c90-42104a36fb04",
   "metadata": {},
   "outputs": [],
   "source": []
  },
  {
   "cell_type": "code",
   "execution_count": null,
   "id": "c371d91f-01e1-4e06-9afe-0d2e50e792ef",
   "metadata": {},
   "outputs": [],
   "source": []
  },
  {
   "cell_type": "code",
   "execution_count": null,
   "id": "0f204738-77cc-4c45-a9c3-b99c50906cc8",
   "metadata": {},
   "outputs": [],
   "source": []
  },
  {
   "cell_type": "code",
   "execution_count": null,
   "id": "17723e14-8850-495b-b93b-66aead2a0c44",
   "metadata": {},
   "outputs": [
    {
     "data": {
      "application/vnd.jupyter.widget-view+json": {
       "model_id": "",
       "version_major": 2,
       "version_minor": 0
      },
      "text/plain": [
       "  0%|          | 0/64 [00:00<?, ?it/s]"
      ]
     },
     "metadata": {},
     "output_type": "display_data"
    },
    {
     "name": "stdout",
     "output_type": "stream",
     "text": [
      "Network saved to: ch3_v5\n"
     ]
    }
   ],
   "source": [
    "# ch3 larger system creation\n",
    "net_name = \"ch3_v5\"\n",
    "\n",
    "th = 1 / 4\n",
    "exp = 5\n",
    "mu = 1\n",
    "si = 0.3\n",
    "ll = 1\n",
    "kk = 15\n",
    "x0 = 0.7\n",
    "\n",
    "noise = 0.02\n",
    "rule = (weights>0)\n",
    "\n",
    "s = 0.8\n",
    "l = 0.25\n",
    "f = 0.0\n",
    "q = 0.6\n",
    "j = 1 - q\n",
    "i = j - 0.05\n",
    "b = 0.01\n",
    "\n",
    "weights = np.array(\n",
    "    [\n",
    "        [s, l, f, 0, i, 0],  # A\n",
    "        [l, s, l, f, j, b],  # B\n",
    "        [f, l, s, l, i, 0],  # C\n",
    "        [0, f, l, s, i, 0],  # D\n",
    "        [b, b, b, b, q, 0],  # E\n",
    "        [0, i, 0, 0, 0, 0],  # I\n",
    "       # A, B, C, D, E, I\n",
    "    ]\n",
    ")\n",
    "\n",
    "weights += rule * np.random.random((6,6))*noise\n",
    "weights = np.abs(weights)\n",
    "\n",
    "node_labels = [\"A\", \"B\", \"C\", \"D\", \"E\", \"I\"]\n",
    "mech_func = [f for f in \"ssssgl\"]\n",
    "\n",
    "network = ng.get_net(\n",
    "    mech_func,\n",
    "    weights,\n",
    "    exp=exp,\n",
    "    th=th,\n",
    "    mu=mu,\n",
    "    si=si,\n",
    "    l=ll,\n",
    "    k=kk,\n",
    "    x0=x0,\n",
    "    node_labels=node_labels,\n",
    "    network_name=net_name,\n",
    "    pickle_network=True,\n",
    ")\n",
    "\n",
    "state = (0, 1, 0, 0, 1, 1)\n",
    "subsystem = pyphi.Subsystem(network, state, nodes=(0, 1, 2, 3, 4))"
   ]
  },
  {
   "cell_type": "code",
   "execution_count": 130,
   "id": "fb65ed49-1dbd-4969-89d9-23631bc515ff",
   "metadata": {},
   "outputs": [
    {
     "name": "stderr",
     "output_type": "stream",
     "text": [
      "\n",
      "\n",
      "Computing concepts:   0%|                                                                        | 0/31 [00:00<?, ?it/s]\u001b[A\u001b[A\n",
      "\n",
      "Computing concepts:   3%|██                                                              | 1/31 [00:02<01:22,  2.73s/it]\u001b[A\u001b[A\n",
      "\n",
      "Computing concepts:  26%|████████████████▌                                               | 8/31 [00:02<00:06,  3.61it/s]\u001b[A\u001b[A\n",
      "\n",
      "Computing concepts:  52%|████████████████████████████████▌                              | 16/31 [00:03<00:01,  7.59it/s]\u001b[A\u001b[A\n",
      "\n",
      "Computing concepts:  77%|████████████████████████████████████████████████▊              | 24/31 [00:03<00:00, 12.92it/s]\u001b[A\u001b[A\n",
      "\n",
      "Computing concepts:  94%|██████████████████████████████████████████████████████████▉    | 29/31 [00:04<00:00,  9.61it/s]\u001b[A\u001b[A\n",
      "\n",
      "                                                                                                                        \u001b[A\u001b[A"
     ]
    },
    {
     "name": "stdout",
     "output_type": "stream",
     "text": [
      "there are 384 possible compositional states\n"
     ]
    }
   ],
   "source": [
    "ces = utils.flatten([[d.cause,d.effect] for d in pyphi.compute.ces(subsystem,parallel=True)])\n",
    "all_compositional_states = compute.get_all_compositional_states(ces)\n",
    "print('there are {} possible compositional states'.format(len(all_compositional_states)))"
   ]
  },
  {
   "cell_type": "code",
   "execution_count": 131,
   "id": "f807be8a-6165-4552-b4e0-a9d3f317fcdc",
   "metadata": {
    "tags": []
   },
   "outputs": [
    {
     "data": {
      "application/vnd.jupyter.widget-view+json": {
       "model_id": "0fc64502553f4962a39034bb902fd8b9",
       "version_major": 2,
       "version_minor": 0
      },
      "text/plain": [
       "  0%|          | 0/384 [00:00<?, ?it/s]"
      ]
     },
     "metadata": {},
     "output_type": "display_data"
    },
    {
     "data": {
      "application/vnd.jupyter.widget-view+json": {
       "model_id": "7bb886c4e14349ee837a88fbe71dc501",
       "version_major": 2,
       "version_minor": 0
      },
      "text/plain": [
       "  0%|          | 0/192 [00:00<?, ?it/s]"
      ]
     },
     "metadata": {},
     "output_type": "display_data"
    },
    {
     "ename": "KeyboardInterrupt",
     "evalue": "",
     "output_type": "error",
     "traceback": [
      "\u001b[0;31m---------------------------------------------------------------------------\u001b[0m",
      "\u001b[0;31mKeyboardInterrupt\u001b[0m                         Traceback (most recent call last)",
      "\u001b[0;32m/tmp/ipykernel_905154/3108785130.py\u001b[0m in \u001b[0;36m<module>\u001b[0;34m\u001b[0m\n\u001b[1;32m      1\u001b[0m max_ces = max(\n\u001b[0;32m----> 2\u001b[0;31m     [\n\u001b[0m\u001b[1;32m      3\u001b[0m         \u001b[0mcompute\u001b[0m\u001b[0;34m.\u001b[0m\u001b[0mfilter_ces\u001b[0m\u001b[0;34m(\u001b[0m\u001b[0msubsystem\u001b[0m\u001b[0;34m,\u001b[0m \u001b[0mces\u001b[0m\u001b[0;34m,\u001b[0m \u001b[0mcompositional_state\u001b[0m\u001b[0;34m,\u001b[0m \u001b[0mmax_relations_k\u001b[0m\u001b[0;34m=\u001b[0m\u001b[0;36m3\u001b[0m\u001b[0;34m)\u001b[0m\u001b[0;34m\u001b[0m\u001b[0;34m\u001b[0m\u001b[0m\n\u001b[1;32m      4\u001b[0m         \u001b[0;32mfor\u001b[0m \u001b[0mcompositional_state\u001b[0m \u001b[0;32min\u001b[0m \u001b[0mtqdm\u001b[0m\u001b[0;34m(\u001b[0m\u001b[0mall_compositional_states\u001b[0m\u001b[0;34m)\u001b[0m\u001b[0;34m\u001b[0m\u001b[0;34m\u001b[0m\u001b[0m\n\u001b[1;32m      5\u001b[0m     ],\n",
      "\u001b[0;32m/tmp/ipykernel_905154/3108785130.py\u001b[0m in \u001b[0;36m<listcomp>\u001b[0;34m(.0)\u001b[0m\n\u001b[1;32m      1\u001b[0m max_ces = max(\n\u001b[1;32m      2\u001b[0m     [\n\u001b[0;32m----> 3\u001b[0;31m         \u001b[0mcompute\u001b[0m\u001b[0;34m.\u001b[0m\u001b[0mfilter_ces\u001b[0m\u001b[0;34m(\u001b[0m\u001b[0msubsystem\u001b[0m\u001b[0;34m,\u001b[0m \u001b[0mces\u001b[0m\u001b[0;34m,\u001b[0m \u001b[0mcompositional_state\u001b[0m\u001b[0;34m,\u001b[0m \u001b[0mmax_relations_k\u001b[0m\u001b[0;34m=\u001b[0m\u001b[0;36m3\u001b[0m\u001b[0;34m)\u001b[0m\u001b[0;34m\u001b[0m\u001b[0;34m\u001b[0m\u001b[0m\n\u001b[0m\u001b[1;32m      4\u001b[0m         \u001b[0;32mfor\u001b[0m \u001b[0mcompositional_state\u001b[0m \u001b[0;32min\u001b[0m \u001b[0mtqdm\u001b[0m\u001b[0;34m(\u001b[0m\u001b[0mall_compositional_states\u001b[0m\u001b[0;34m)\u001b[0m\u001b[0;34m\u001b[0m\u001b[0;34m\u001b[0m\u001b[0m\n\u001b[1;32m      5\u001b[0m     ],\n",
      "\u001b[0;32m~/projects/visualize/visualize_pyphi/visualize_pyphi/compute.py\u001b[0m in \u001b[0;36mfilter_ces\u001b[0;34m(subsystem, ces, compositional_state, max_relations_k)\u001b[0m\n\u001b[1;32m    708\u001b[0m         ]\n\u001b[1;32m    709\u001b[0m         max_ces.append(\n\u001b[0;32m--> 710\u001b[0;31m             get_maximal_ces(\n\u001b[0m\u001b[1;32m    711\u001b[0m                 \u001b[0msubsystem\u001b[0m\u001b[0;34m,\u001b[0m\u001b[0;34m\u001b[0m\u001b[0;34m\u001b[0m\u001b[0m\n\u001b[1;32m    712\u001b[0m                 \u001b[0mces\u001b[0m\u001b[0;34m=\u001b[0m\u001b[0mpyphi\u001b[0m\u001b[0;34m.\u001b[0m\u001b[0mmodels\u001b[0m\u001b[0;34m.\u001b[0m\u001b[0mCauseEffectStructure\u001b[0m\u001b[0;34m(\u001b[0m\u001b[0mfiltered_ces\u001b[0m\u001b[0;34m)\u001b[0m\u001b[0;34m,\u001b[0m\u001b[0;34m\u001b[0m\u001b[0;34m\u001b[0m\u001b[0m\n",
      "\u001b[0;32m~/projects/visualize/visualize_pyphi/visualize_pyphi/compute.py\u001b[0m in \u001b[0;36mget_maximal_ces\u001b[0;34m(system, ces, max_k)\u001b[0m\n\u001b[1;32m    575\u001b[0m             \u001b[0msystem\u001b[0m\u001b[0;34m,\u001b[0m \u001b[0mcompositional_state\u001b[0m\u001b[0;34m,\u001b[0m \u001b[0mces\u001b[0m\u001b[0;34m,\u001b[0m \u001b[0mmax_k\u001b[0m\u001b[0;34m\u001b[0m\u001b[0;34m\u001b[0m\u001b[0m\n\u001b[1;32m    576\u001b[0m         )\n\u001b[0;32m--> 577\u001b[0;31m         \u001b[0mphi\u001b[0m\u001b[0;34m,\u001b[0m \u001b[0mcut\u001b[0m \u001b[0;34m=\u001b[0m \u001b[0mget_big_phi\u001b[0m\u001b[0;34m(\u001b[0m\u001b[0mfiltered_ces\u001b[0m\u001b[0;34m,\u001b[0m \u001b[0mfiltered_relations\u001b[0m\u001b[0;34m,\u001b[0m \u001b[0msystem\u001b[0m\u001b[0;34m.\u001b[0m\u001b[0mnode_indices\u001b[0m\u001b[0;34m)\u001b[0m\u001b[0;34m\u001b[0m\u001b[0;34m\u001b[0m\u001b[0m\n\u001b[0m\u001b[1;32m    578\u001b[0m \u001b[0;34m\u001b[0m\u001b[0m\n\u001b[1;32m    579\u001b[0m         \u001b[0;32mif\u001b[0m \u001b[0mphi\u001b[0m \u001b[0;34m>=\u001b[0m \u001b[0mbig_phi\u001b[0m\u001b[0;34m:\u001b[0m\u001b[0;34m\u001b[0m\u001b[0;34m\u001b[0m\u001b[0m\n",
      "\u001b[0;32m~/projects/visualize/visualize_pyphi/visualize_pyphi/compute.py\u001b[0m in \u001b[0;36mget_big_phi\u001b[0;34m(ces, relations, indices, partitions)\u001b[0m\n\u001b[1;32m    476\u001b[0m                 \u001b[0mlost_phi\u001b[0m \u001b[0;34m=\u001b[0m \u001b[0msum_of_small_phi\u001b[0m \u001b[0;34m-\u001b[0m \u001b[0msum_phi_untouched\u001b[0m\u001b[0;34m\u001b[0m\u001b[0;34m\u001b[0m\u001b[0m\n\u001b[1;32m    477\u001b[0m \u001b[0;34m\u001b[0m\u001b[0m\n\u001b[0;32m--> 478\u001b[0;31m                 \u001b[0mtouched\u001b[0m \u001b[0;34m=\u001b[0m \u001b[0;34m[\u001b[0m\u001b[0mr\u001b[0m \u001b[0;32mfor\u001b[0m \u001b[0mr\u001b[0m \u001b[0;32min\u001b[0m \u001b[0mrelations\u001b[0m \u001b[0;32mif\u001b[0m \u001b[0mr\u001b[0m \u001b[0;32mnot\u001b[0m \u001b[0;32min\u001b[0m \u001b[0muntouched_relations\u001b[0m\u001b[0;34m]\u001b[0m\u001b[0;34m\u001b[0m\u001b[0;34m\u001b[0m\u001b[0m\n\u001b[0m\u001b[1;32m    479\u001b[0m                 \u001b[0;32mif\u001b[0m \u001b[0mlost_phi\u001b[0m \u001b[0;34m<\u001b[0m \u001b[0mmin_phi\u001b[0m\u001b[0;34m:\u001b[0m\u001b[0;34m\u001b[0m\u001b[0;34m\u001b[0m\u001b[0m\n\u001b[1;32m    480\u001b[0m                     \u001b[0mmin_phi\u001b[0m \u001b[0;34m=\u001b[0m \u001b[0mlost_phi\u001b[0m\u001b[0;34m\u001b[0m\u001b[0;34m\u001b[0m\u001b[0m\n",
      "\u001b[0;32m~/projects/visualize/visualize_pyphi/visualize_pyphi/compute.py\u001b[0m in \u001b[0;36m<listcomp>\u001b[0;34m(.0)\u001b[0m\n\u001b[1;32m    476\u001b[0m                 \u001b[0mlost_phi\u001b[0m \u001b[0;34m=\u001b[0m \u001b[0msum_of_small_phi\u001b[0m \u001b[0;34m-\u001b[0m \u001b[0msum_phi_untouched\u001b[0m\u001b[0;34m\u001b[0m\u001b[0;34m\u001b[0m\u001b[0m\n\u001b[1;32m    477\u001b[0m \u001b[0;34m\u001b[0m\u001b[0m\n\u001b[0;32m--> 478\u001b[0;31m                 \u001b[0mtouched\u001b[0m \u001b[0;34m=\u001b[0m \u001b[0;34m[\u001b[0m\u001b[0mr\u001b[0m \u001b[0;32mfor\u001b[0m \u001b[0mr\u001b[0m \u001b[0;32min\u001b[0m \u001b[0mrelations\u001b[0m \u001b[0;32mif\u001b[0m \u001b[0mr\u001b[0m \u001b[0;32mnot\u001b[0m \u001b[0;32min\u001b[0m \u001b[0muntouched_relations\u001b[0m\u001b[0;34m]\u001b[0m\u001b[0;34m\u001b[0m\u001b[0;34m\u001b[0m\u001b[0m\n\u001b[0m\u001b[1;32m    479\u001b[0m                 \u001b[0;32mif\u001b[0m \u001b[0mlost_phi\u001b[0m \u001b[0;34m<\u001b[0m \u001b[0mmin_phi\u001b[0m\u001b[0;34m:\u001b[0m\u001b[0;34m\u001b[0m\u001b[0;34m\u001b[0m\u001b[0m\n\u001b[1;32m    480\u001b[0m                     \u001b[0mmin_phi\u001b[0m \u001b[0;34m=\u001b[0m \u001b[0mlost_phi\u001b[0m\u001b[0;34m\u001b[0m\u001b[0;34m\u001b[0m\u001b[0m\n",
      "\u001b[0;32m~/projects/visualize/visualize_pyphi/pyphi/pyphi/relations.py\u001b[0m in \u001b[0;36m__eq__\u001b[0;34m(self, other)\u001b[0m\n\u001b[1;32m    326\u001b[0m     \u001b[0;32mdef\u001b[0m \u001b[0m__eq__\u001b[0m\u001b[0;34m(\u001b[0m\u001b[0mself\u001b[0m\u001b[0;34m,\u001b[0m \u001b[0mother\u001b[0m\u001b[0;34m)\u001b[0m\u001b[0;34m:\u001b[0m\u001b[0;34m\u001b[0m\u001b[0;34m\u001b[0m\u001b[0m\n\u001b[1;32m    327\u001b[0m         \u001b[0;31m# TODO\u001b[0m\u001b[0;34m\u001b[0m\u001b[0;34m\u001b[0m\u001b[0m\n\u001b[0;32m--> 328\u001b[0;31m         \u001b[0;32mreturn\u001b[0m \u001b[0mself\u001b[0m\u001b[0;34m.\u001b[0m\u001b[0mrelata\u001b[0m\u001b[0;34m.\u001b[0m\u001b[0mas_set\u001b[0m\u001b[0;34m(\u001b[0m\u001b[0;34m)\u001b[0m \u001b[0;34m==\u001b[0m \u001b[0mother\u001b[0m\u001b[0;34m.\u001b[0m\u001b[0mrelata\u001b[0m\u001b[0;34m.\u001b[0m\u001b[0mas_set\u001b[0m\u001b[0;34m(\u001b[0m\u001b[0;34m)\u001b[0m \u001b[0;32mand\u001b[0m \u001b[0meq\u001b[0m\u001b[0;34m(\u001b[0m\u001b[0mself\u001b[0m\u001b[0;34m.\u001b[0m\u001b[0mphi\u001b[0m\u001b[0;34m,\u001b[0m \u001b[0mother\u001b[0m\u001b[0;34m.\u001b[0m\u001b[0mphi\u001b[0m\u001b[0;34m)\u001b[0m\u001b[0;34m\u001b[0m\u001b[0;34m\u001b[0m\u001b[0m\n\u001b[0m\u001b[1;32m    329\u001b[0m         \u001b[0;31m# attrs = [\"phi\", \"relata\"]\u001b[0m\u001b[0;34m\u001b[0m\u001b[0;34m\u001b[0m\u001b[0m\n\u001b[1;32m    330\u001b[0m         \u001b[0;31m# return cmp.general_eq(self, other, attrs)\u001b[0m\u001b[0;34m\u001b[0m\u001b[0;34m\u001b[0m\u001b[0m\n",
      "\u001b[0;31mKeyboardInterrupt\u001b[0m: "
     ]
    }
   ],
   "source": [
    "max_ces = max(\n",
    "    [\n",
    "        compute.filter_ces(subsystem, ces, compositional_state, max_relations_k=3)\n",
    "        for compositional_state in tqdm(all_compositional_states)\n",
    "    ],\n",
    "    key=lambda c: c[\"big phi\"],\n",
    ")"
   ]
  },
  {
   "cell_type": "code",
   "execution_count": 120,
   "id": "5d949d6a-4f2b-4d4b-8957-023b21a717d7",
   "metadata": {},
   "outputs": [
    {
     "data": {
      "application/vnd.jupyter.widget-view+json": {
       "model_id": "13ea6fffb8c749edb7013bf9741f3fe0",
       "version_major": 2,
       "version_minor": 0
      },
      "text/plain": [
       "Computing edges:   0%|          | 0/33 [00:00<?, ?it/s]"
      ]
     },
     "metadata": {},
     "output_type": "display_data"
    },
    {
     "data": {
      "application/vnd.jupyter.widget-view+json": {
       "model_id": "35b6695958b14616ad858a62f75c5a73",
       "version_major": 2,
       "version_minor": 0
      },
      "text/plain": [
       "Computing triangles:   0%|          | 0/32 [00:00<?, ?it/s]"
      ]
     },
     "metadata": {},
     "output_type": "display_data"
    }
   ],
   "source": [
    "\n",
    "fig = viz.plot_ces(subsystem,max_ces['ces'],max_ces['relations'],network_name='figures/max_ces',surface_opacity=0.7,)"
   ]
  },
  {
   "cell_type": "code",
   "execution_count": 113,
   "id": "cf9ac2a7-d688-4d1e-b446-dfdf24a3b103",
   "metadata": {},
   "outputs": [],
   "source": [
    "mice = max_ces['ces'][0]"
   ]
  },
  {
   "cell_type": "code",
   "execution_count": 118,
   "id": "3a40a174-00c1-434f-9755-5f0cd64c86b8",
   "metadata": {},
   "outputs": [
    {
     "data": {
      "text/plain": [
       "NodeLabels(('A', 'B', 'C', 'D', 'I', 'O'))"
      ]
     },
     "execution_count": 118,
     "metadata": {},
     "output_type": "execute_result"
    }
   ],
   "source": [
    "mice.ria.node_labels"
   ]
  },
  {
   "cell_type": "code",
   "execution_count": 109,
   "id": "7df641a3-7ba1-4c3b-a85c-ccf469e8d2ca",
   "metadata": {},
   "outputs": [
    {
     "data": {
      "text/plain": [
       "4.375449186656582e+00"
      ]
     },
     "execution_count": 109,
     "metadata": {},
     "output_type": "execute_result"
    }
   ],
   "source": [
    "max_ces['big phi']"
   ]
  },
  {
   "cell_type": "code",
   "execution_count": 110,
   "id": "36f1bdd8-01df-4938-8611-587127500341",
   "metadata": {},
   "outputs": [
    {
     "data": {
      "text/plain": [
       "(((2,), (0, 1, 3)), (0, 1, 3), (2,), EFFECT)"
      ]
     },
     "execution_count": 110,
     "metadata": {},
     "output_type": "execute_result"
    }
   ],
   "source": [
    "max_ces['MIP']"
   ]
  },
  {
   "cell_type": "code",
   "execution_count": 111,
   "id": "ce98155c-df36-4f30-9719-983feee6f9cc",
   "metadata": {
    "tags": []
   },
   "outputs": [
    {
     "data": {
      "text/html": [
       "<div>\n",
       "<style scoped>\n",
       "    .dataframe tbody tr th:only-of-type {\n",
       "        vertical-align: middle;\n",
       "    }\n",
       "\n",
       "    .dataframe tbody tr th {\n",
       "        vertical-align: top;\n",
       "    }\n",
       "\n",
       "    .dataframe thead th {\n",
       "        text-align: right;\n",
       "    }\n",
       "</style>\n",
       "<table border=\"1\" class=\"dataframe\">\n",
       "  <thead>\n",
       "    <tr style=\"text-align: right;\">\n",
       "      <th></th>\n",
       "      <th>mechanism</th>\n",
       "      <th>direction</th>\n",
       "      <th>purview</th>\n",
       "      <th>state</th>\n",
       "      <th>phi</th>\n",
       "    </tr>\n",
       "  </thead>\n",
       "  <tbody>\n",
       "    <tr>\n",
       "      <th>0</th>\n",
       "      <td>A</td>\n",
       "      <td>CAUSE</td>\n",
       "      <td>A</td>\n",
       "      <td>0</td>\n",
       "      <td>0.502959</td>\n",
       "    </tr>\n",
       "    <tr>\n",
       "      <th>1</th>\n",
       "      <td>A</td>\n",
       "      <td>EFFECT</td>\n",
       "      <td>A</td>\n",
       "      <td>0</td>\n",
       "      <td>0.641988</td>\n",
       "    </tr>\n",
       "    <tr>\n",
       "      <th>2</th>\n",
       "      <td>B</td>\n",
       "      <td>CAUSE</td>\n",
       "      <td>B</td>\n",
       "      <td>1</td>\n",
       "      <td>0.460940</td>\n",
       "    </tr>\n",
       "    <tr>\n",
       "      <th>3</th>\n",
       "      <td>B</td>\n",
       "      <td>EFFECT</td>\n",
       "      <td>B</td>\n",
       "      <td>1</td>\n",
       "      <td>0.574265</td>\n",
       "    </tr>\n",
       "    <tr>\n",
       "      <th>4</th>\n",
       "      <td>C</td>\n",
       "      <td>CAUSE</td>\n",
       "      <td>C</td>\n",
       "      <td>0</td>\n",
       "      <td>0.497810</td>\n",
       "    </tr>\n",
       "    <tr>\n",
       "      <th>5</th>\n",
       "      <td>C</td>\n",
       "      <td>EFFECT</td>\n",
       "      <td>C</td>\n",
       "      <td>0</td>\n",
       "      <td>0.637561</td>\n",
       "    </tr>\n",
       "    <tr>\n",
       "      <th>6</th>\n",
       "      <td>AB</td>\n",
       "      <td>CAUSE</td>\n",
       "      <td>AB</td>\n",
       "      <td>10</td>\n",
       "      <td>0.181306</td>\n",
       "    </tr>\n",
       "    <tr>\n",
       "      <th>7</th>\n",
       "      <td>AB</td>\n",
       "      <td>EFFECT</td>\n",
       "      <td>ABD</td>\n",
       "      <td>010</td>\n",
       "      <td>0.039542</td>\n",
       "    </tr>\n",
       "    <tr>\n",
       "      <th>8</th>\n",
       "      <td>BC</td>\n",
       "      <td>CAUSE</td>\n",
       "      <td>BC</td>\n",
       "      <td>01</td>\n",
       "      <td>0.181514</td>\n",
       "    </tr>\n",
       "    <tr>\n",
       "      <th>9</th>\n",
       "      <td>BC</td>\n",
       "      <td>EFFECT</td>\n",
       "      <td>BCD</td>\n",
       "      <td>100</td>\n",
       "      <td>0.039336</td>\n",
       "    </tr>\n",
       "    <tr>\n",
       "      <th>10</th>\n",
       "      <td>BD</td>\n",
       "      <td>CAUSE</td>\n",
       "      <td>ABD</td>\n",
       "      <td>110</td>\n",
       "      <td>0.143419</td>\n",
       "    </tr>\n",
       "    <tr>\n",
       "      <th>11</th>\n",
       "      <td>BD</td>\n",
       "      <td>EFFECT</td>\n",
       "      <td>D</td>\n",
       "      <td>0</td>\n",
       "      <td>0.030476</td>\n",
       "    </tr>\n",
       "    <tr>\n",
       "      <th>12</th>\n",
       "      <td>ACD</td>\n",
       "      <td>CAUSE</td>\n",
       "      <td>ABCD</td>\n",
       "      <td>0101</td>\n",
       "      <td>0.174645</td>\n",
       "    </tr>\n",
       "    <tr>\n",
       "      <th>13</th>\n",
       "      <td>ACD</td>\n",
       "      <td>EFFECT</td>\n",
       "      <td>BD</td>\n",
       "      <td>01</td>\n",
       "      <td>0.071605</td>\n",
       "    </tr>\n",
       "  </tbody>\n",
       "</table>\n",
       "</div>"
      ],
      "text/plain": [
       "   mechanism direction purview state       phi\n",
       "0          A     CAUSE       A     0  0.502959\n",
       "1          A    EFFECT       A     0  0.641988\n",
       "2          B     CAUSE       B     1  0.460940\n",
       "3          B    EFFECT       B     1  0.574265\n",
       "4          C     CAUSE       C     0  0.497810\n",
       "5          C    EFFECT       C     0  0.637561\n",
       "6         AB     CAUSE      AB    10  0.181306\n",
       "7         AB    EFFECT     ABD   010  0.039542\n",
       "8         BC     CAUSE      BC    01  0.181514\n",
       "9         BC    EFFECT     BCD   100  0.039336\n",
       "10        BD     CAUSE     ABD   110  0.143419\n",
       "11        BD    EFFECT       D     0  0.030476\n",
       "12       ACD     CAUSE    ABCD  0101  0.174645\n",
       "13       ACD    EFFECT      BD    01  0.071605"
      ]
     },
     "execution_count": 111,
     "metadata": {},
     "output_type": "execute_result"
    }
   ],
   "source": [
    "utils.sepces2df(max_ces['ces'],subsystem)"
   ]
  },
  {
   "cell_type": "code",
   "execution_count": 199,
   "id": "d8d3960b-4b67-49aa-a88d-267b21035472",
   "metadata": {},
   "outputs": [
    {
     "data": {
      "application/vnd.jupyter.widget-view+json": {
       "model_id": "c5e9119277f846ff927a7db40a804649",
       "version_major": 2,
       "version_minor": 0
      },
      "text/plain": [
       "  0%|          | 0/64 [00:00<?, ?it/s]"
      ]
     },
     "metadata": {},
     "output_type": "display_data"
    },
    {
     "name": "stdout",
     "output_type": "stream",
     "text": [
      "Network saved to: ch3_v5\n"
     ]
    }
   ],
   "source": [
    "# ch3 system creation\n",
    "net_name = \"ch3_v5\"\n",
    "\n",
    "th = 1 / 4\n",
    "exp = 5\n",
    "mu = 1\n",
    "si = 0.3\n",
    "ll = 1\n",
    "kk = 15\n",
    "x0 = 0.7\n",
    "\n",
    "noise = 0.00\n",
    "\n",
    "s = 0.8\n",
    "l = 0.4\n",
    "f = 0.2\n",
    "q = 0.05\n",
    "j = (1 - q)/3\n",
    "i = j - 0.00\n",
    "b = 0.01\n",
    "\n",
    "weights = np.array(\n",
    "    [\n",
    "        [s, l, f, l, 0, 0],  # A\n",
    "        [l, s, l, f, b, 0],  # B\n",
    "        [f, l, s, l, 0, 0],  # C\n",
    "        [l, f, l, s, 0, i],  # D\n",
    "        [0, 0, 0, 0, 0, 0],  # I\n",
    "        [0, 0, 0, 0, 0, 0],  # O\n",
    "        # A, B, C, D, I, O\n",
    "    ]\n",
    ")\n",
    "\n",
    "rule = (weights>0)\n",
    "weights += rule * np.random.random((6,6))*noise\n",
    "weights = np.abs(weights)\n",
    "\n",
    "node_labels = [\"A\", \"B\", \"C\", \"D\", \"I\", \"O\"]\n",
    "mech_func = [f for f in \"ssssll\"]\n",
    "\n",
    "network = ng.get_net(\n",
    "    mech_func,\n",
    "    weights,\n",
    "    exp=exp,\n",
    "    th=th,\n",
    "    mu=mu,\n",
    "    si=si,\n",
    "    l=ll,\n",
    "    k=kk,\n",
    "    x0=x0,\n",
    "    node_labels=node_labels,\n",
    "    network_name=net_name,\n",
    "    pickle_network=True,\n",
    ")\n",
    "\n",
    "state = (0, 0, 0, 0, 1, 1)\n",
    "#state = (0,)*6\n",
    "subsystem = pyphi.Subsystem(network, state, nodes=(0,1,2,3))"
   ]
  },
  {
   "cell_type": "code",
   "execution_count": 200,
   "id": "85318a6b-729c-411d-bb6f-101a02db235a",
   "metadata": {},
   "outputs": [
    {
     "name": "stderr",
     "output_type": "stream",
     "text": [
      "                                                                                                                        "
     ]
    },
    {
     "name": "stdout",
     "output_type": "stream",
     "text": [
      "there are 2 possible compositional states\n"
     ]
    },
    {
     "name": "stderr",
     "output_type": "stream",
     "text": [
      "\r"
     ]
    }
   ],
   "source": [
    "ces = utils.flatten([[d.cause,d.effect] for d in pyphi.compute.ces(subsystem,parallel=True)])\n",
    "all_compositional_states = compute.get_all_compositional_states(ces)\n",
    "print('there are {} possible compositional states'.format(len(all_compositional_states)))"
   ]
  },
  {
   "cell_type": "code",
   "execution_count": 201,
   "id": "49134df8-04ce-4df4-b7aa-ff4d81b24e34",
   "metadata": {
    "tags": []
   },
   "outputs": [
    {
     "data": {
      "application/vnd.jupyter.widget-view+json": {
       "model_id": "10840f70c412426fac2dc3794e06a438",
       "version_major": 2,
       "version_minor": 0
      },
      "text/plain": [
       "  0%|          | 0/2 [00:00<?, ?it/s]"
      ]
     },
     "metadata": {},
     "output_type": "display_data"
    },
    {
     "data": {
      "application/vnd.jupyter.widget-view+json": {
       "model_id": "44ac4a4e1e9f456784019dc6ab5b6147",
       "version_major": 2,
       "version_minor": 0
      },
      "text/plain": [
       "  0%|          | 0/256 [00:00<?, ?it/s]"
      ]
     },
     "metadata": {},
     "output_type": "display_data"
    },
    {
     "data": {
      "application/vnd.jupyter.widget-view+json": {
       "model_id": "5edbf8b432e34b40be36580c2bc14b6e",
       "version_major": 2,
       "version_minor": 0
      },
      "text/plain": [
       "  0%|          | 0/64 [00:00<?, ?it/s]"
      ]
     },
     "metadata": {},
     "output_type": "display_data"
    }
   ],
   "source": [
    "max_ces = max(\n",
    "    [\n",
    "        compute.filter_ces(subsystem, ces, compositional_state, max_relations_k=3)\n",
    "        for compositional_state in tqdm(all_compositional_states)\n",
    "    ],\n",
    "    key=lambda c: c[\"big phi\"],\n",
    ")"
   ]
  },
  {
   "cell_type": "code",
   "execution_count": 202,
   "id": "13701060-2282-4f29-8184-d67d18a26671",
   "metadata": {},
   "outputs": [
    {
     "data": {
      "application/vnd.jupyter.widget-view+json": {
       "model_id": "92712808e08048df960cf97a26f9749b",
       "version_major": 2,
       "version_minor": 0
      },
      "text/plain": [
       "Computing edges:   0%|          | 0/60 [00:00<?, ?it/s]"
      ]
     },
     "metadata": {},
     "output_type": "display_data"
    },
    {
     "data": {
      "application/vnd.jupyter.widget-view+json": {
       "model_id": "29da34f703e64f2781a7bf1e36015b6c",
       "version_major": 2,
       "version_minor": 0
      },
      "text/plain": [
       "Computing triangles:   0%|          | 0/120 [00:00<?, ?it/s]"
      ]
     },
     "metadata": {},
     "output_type": "display_data"
    }
   ],
   "source": [
    "\n",
    "fig = viz.plot_ces(subsystem,max_ces['ces'],max_ces['relations'],network_name='figures/toroidal',surface_opacity=0.7,)"
   ]
  },
  {
   "cell_type": "code",
   "execution_count": 203,
   "id": "c7f1990d-5b34-489f-ab40-b510b639fd2f",
   "metadata": {},
   "outputs": [
    {
     "data": {
      "text/plain": [
       "224.29413261759436"
      ]
     },
     "execution_count": 203,
     "metadata": {},
     "output_type": "execute_result"
    }
   ],
   "source": [
    "max_ces['big phi']"
   ]
  },
  {
   "cell_type": "code",
   "execution_count": 204,
   "id": "e74ca0ef-ab94-4b3b-8ff5-841b814666d2",
   "metadata": {},
   "outputs": [
    {
     "data": {
      "text/plain": [
       "(((0, 1), (2, 3)), (0, 1), (2, 3), CAUSE)"
      ]
     },
     "execution_count": 204,
     "metadata": {},
     "output_type": "execute_result"
    }
   ],
   "source": [
    "max_ces['MIP']"
   ]
  },
  {
   "cell_type": "code",
   "execution_count": 205,
   "id": "f1a5f047-a65f-45e8-afd7-75c61fd6cab5",
   "metadata": {},
   "outputs": [
    {
     "data": {
      "text/html": [
       "<div>\n",
       "<style scoped>\n",
       "    .dataframe tbody tr th:only-of-type {\n",
       "        vertical-align: middle;\n",
       "    }\n",
       "\n",
       "    .dataframe tbody tr th {\n",
       "        vertical-align: top;\n",
       "    }\n",
       "\n",
       "    .dataframe thead th {\n",
       "        text-align: right;\n",
       "    }\n",
       "</style>\n",
       "<table border=\"1\" class=\"dataframe\">\n",
       "  <thead>\n",
       "    <tr style=\"text-align: right;\">\n",
       "      <th></th>\n",
       "      <th>mechanism</th>\n",
       "      <th>direction</th>\n",
       "      <th>purview</th>\n",
       "      <th>state</th>\n",
       "      <th>phi</th>\n",
       "    </tr>\n",
       "  </thead>\n",
       "  <tbody>\n",
       "    <tr>\n",
       "      <th>0</th>\n",
       "      <td>C</td>\n",
       "      <td>CAUSE</td>\n",
       "      <td>C</td>\n",
       "      <td>0</td>\n",
       "      <td>0.686247</td>\n",
       "    </tr>\n",
       "    <tr>\n",
       "      <th>1</th>\n",
       "      <td>C</td>\n",
       "      <td>EFFECT</td>\n",
       "      <td>C</td>\n",
       "      <td>0</td>\n",
       "      <td>0.602082</td>\n",
       "    </tr>\n",
       "    <tr>\n",
       "      <th>2</th>\n",
       "      <td>D</td>\n",
       "      <td>CAUSE</td>\n",
       "      <td>D</td>\n",
       "      <td>0</td>\n",
       "      <td>0.686247</td>\n",
       "    </tr>\n",
       "    <tr>\n",
       "      <th>3</th>\n",
       "      <td>D</td>\n",
       "      <td>EFFECT</td>\n",
       "      <td>D</td>\n",
       "      <td>0</td>\n",
       "      <td>0.602082</td>\n",
       "    </tr>\n",
       "    <tr>\n",
       "      <th>4</th>\n",
       "      <td>AC</td>\n",
       "      <td>CAUSE</td>\n",
       "      <td>B</td>\n",
       "      <td>0</td>\n",
       "      <td>0.187623</td>\n",
       "    </tr>\n",
       "    <tr>\n",
       "      <th>5</th>\n",
       "      <td>AC</td>\n",
       "      <td>EFFECT</td>\n",
       "      <td>ABC</td>\n",
       "      <td>000</td>\n",
       "      <td>0.237504</td>\n",
       "    </tr>\n",
       "    <tr>\n",
       "      <th>6</th>\n",
       "      <td>AD</td>\n",
       "      <td>CAUSE</td>\n",
       "      <td>AB</td>\n",
       "      <td>00</td>\n",
       "      <td>0.113573</td>\n",
       "    </tr>\n",
       "    <tr>\n",
       "      <th>7</th>\n",
       "      <td>AD</td>\n",
       "      <td>EFFECT</td>\n",
       "      <td>AD</td>\n",
       "      <td>00</td>\n",
       "      <td>0.506476</td>\n",
       "    </tr>\n",
       "    <tr>\n",
       "      <th>8</th>\n",
       "      <td>BD</td>\n",
       "      <td>CAUSE</td>\n",
       "      <td>A</td>\n",
       "      <td>0</td>\n",
       "      <td>0.187623</td>\n",
       "    </tr>\n",
       "    <tr>\n",
       "      <th>9</th>\n",
       "      <td>BD</td>\n",
       "      <td>EFFECT</td>\n",
       "      <td>ABD</td>\n",
       "      <td>000</td>\n",
       "      <td>0.237504</td>\n",
       "    </tr>\n",
       "    <tr>\n",
       "      <th>10</th>\n",
       "      <td>CD</td>\n",
       "      <td>CAUSE</td>\n",
       "      <td>AD</td>\n",
       "      <td>00</td>\n",
       "      <td>0.113573</td>\n",
       "    </tr>\n",
       "    <tr>\n",
       "      <th>11</th>\n",
       "      <td>CD</td>\n",
       "      <td>EFFECT</td>\n",
       "      <td>CD</td>\n",
       "      <td>00</td>\n",
       "      <td>0.506476</td>\n",
       "    </tr>\n",
       "    <tr>\n",
       "      <th>12</th>\n",
       "      <td>ABCD</td>\n",
       "      <td>CAUSE</td>\n",
       "      <td>ABCD</td>\n",
       "      <td>1000</td>\n",
       "      <td>0.131881</td>\n",
       "    </tr>\n",
       "    <tr>\n",
       "      <th>13</th>\n",
       "      <td>ABCD</td>\n",
       "      <td>EFFECT</td>\n",
       "      <td>ABCD</td>\n",
       "      <td>0000</td>\n",
       "      <td>0.415492</td>\n",
       "    </tr>\n",
       "  </tbody>\n",
       "</table>\n",
       "</div>"
      ],
      "text/plain": [
       "   mechanism direction purview state       phi\n",
       "0          C     CAUSE       C     0  0.686247\n",
       "1          C    EFFECT       C     0  0.602082\n",
       "2          D     CAUSE       D     0  0.686247\n",
       "3          D    EFFECT       D     0  0.602082\n",
       "4         AC     CAUSE       B     0  0.187623\n",
       "5         AC    EFFECT     ABC   000  0.237504\n",
       "6         AD     CAUSE      AB    00  0.113573\n",
       "7         AD    EFFECT      AD    00  0.506476\n",
       "8         BD     CAUSE       A     0  0.187623\n",
       "9         BD    EFFECT     ABD   000  0.237504\n",
       "10        CD     CAUSE      AD    00  0.113573\n",
       "11        CD    EFFECT      CD    00  0.506476\n",
       "12      ABCD     CAUSE    ABCD  1000  0.131881\n",
       "13      ABCD    EFFECT    ABCD  0000  0.415492"
      ]
     },
     "execution_count": 205,
     "metadata": {},
     "output_type": "execute_result"
    }
   ],
   "source": [
    "utils.sepces2df(max_ces['ces'],subsystem)"
   ]
  },
  {
   "cell_type": "code",
   "execution_count": 198,
   "id": "162ed540-dbaf-4ed8-a9fa-9f92b46f7b00",
   "metadata": {},
   "outputs": [
    {
     "data": {
      "text/html": [
       "<div>\n",
       "<style scoped>\n",
       "    .dataframe tbody tr th:only-of-type {\n",
       "        vertical-align: middle;\n",
       "    }\n",
       "\n",
       "    .dataframe tbody tr th {\n",
       "        vertical-align: top;\n",
       "    }\n",
       "\n",
       "    .dataframe thead th {\n",
       "        text-align: right;\n",
       "    }\n",
       "</style>\n",
       "<table border=\"1\" class=\"dataframe\">\n",
       "  <thead>\n",
       "    <tr style=\"text-align: right;\">\n",
       "      <th></th>\n",
       "      <th>mechanism</th>\n",
       "      <th>direction</th>\n",
       "      <th>purview</th>\n",
       "      <th>state</th>\n",
       "      <th>phi</th>\n",
       "    </tr>\n",
       "  </thead>\n",
       "  <tbody>\n",
       "    <tr>\n",
       "      <th>0</th>\n",
       "      <td>A</td>\n",
       "      <td>CAUSE</td>\n",
       "      <td>A</td>\n",
       "      <td>0</td>\n",
       "      <td>0.476482</td>\n",
       "    </tr>\n",
       "    <tr>\n",
       "      <th>1</th>\n",
       "      <td>A</td>\n",
       "      <td>EFFECT</td>\n",
       "      <td>A</td>\n",
       "      <td>0</td>\n",
       "      <td>0.619804</td>\n",
       "    </tr>\n",
       "    <tr>\n",
       "      <th>2</th>\n",
       "      <td>B</td>\n",
       "      <td>CAUSE</td>\n",
       "      <td>B</td>\n",
       "      <td>0</td>\n",
       "      <td>0.476482</td>\n",
       "    </tr>\n",
       "    <tr>\n",
       "      <th>3</th>\n",
       "      <td>B</td>\n",
       "      <td>EFFECT</td>\n",
       "      <td>B</td>\n",
       "      <td>0</td>\n",
       "      <td>0.619804</td>\n",
       "    </tr>\n",
       "    <tr>\n",
       "      <th>4</th>\n",
       "      <td>C</td>\n",
       "      <td>CAUSE</td>\n",
       "      <td>C</td>\n",
       "      <td>0</td>\n",
       "      <td>0.476482</td>\n",
       "    </tr>\n",
       "    <tr>\n",
       "      <th>5</th>\n",
       "      <td>C</td>\n",
       "      <td>EFFECT</td>\n",
       "      <td>C</td>\n",
       "      <td>0</td>\n",
       "      <td>0.619804</td>\n",
       "    </tr>\n",
       "    <tr>\n",
       "      <th>6</th>\n",
       "      <td>D</td>\n",
       "      <td>CAUSE</td>\n",
       "      <td>D</td>\n",
       "      <td>0</td>\n",
       "      <td>0.476482</td>\n",
       "    </tr>\n",
       "    <tr>\n",
       "      <th>7</th>\n",
       "      <td>D</td>\n",
       "      <td>EFFECT</td>\n",
       "      <td>D</td>\n",
       "      <td>0</td>\n",
       "      <td>0.619804</td>\n",
       "    </tr>\n",
       "    <tr>\n",
       "      <th>8</th>\n",
       "      <td>AB</td>\n",
       "      <td>CAUSE</td>\n",
       "      <td>AB</td>\n",
       "      <td>00</td>\n",
       "      <td>0.038655</td>\n",
       "    </tr>\n",
       "    <tr>\n",
       "      <th>9</th>\n",
       "      <td>AB</td>\n",
       "      <td>EFFECT</td>\n",
       "      <td>ABCD</td>\n",
       "      <td>0000</td>\n",
       "      <td>0.007057</td>\n",
       "    </tr>\n",
       "    <tr>\n",
       "      <th>10</th>\n",
       "      <td>AC</td>\n",
       "      <td>CAUSE</td>\n",
       "      <td>BD</td>\n",
       "      <td>00</td>\n",
       "      <td>0.037670</td>\n",
       "    </tr>\n",
       "    <tr>\n",
       "      <th>11</th>\n",
       "      <td>AC</td>\n",
       "      <td>EFFECT</td>\n",
       "      <td>ABCD</td>\n",
       "      <td>0000</td>\n",
       "      <td>0.070302</td>\n",
       "    </tr>\n",
       "    <tr>\n",
       "      <th>12</th>\n",
       "      <td>AD</td>\n",
       "      <td>CAUSE</td>\n",
       "      <td>AD</td>\n",
       "      <td>00</td>\n",
       "      <td>0.038655</td>\n",
       "    </tr>\n",
       "    <tr>\n",
       "      <th>13</th>\n",
       "      <td>AD</td>\n",
       "      <td>EFFECT</td>\n",
       "      <td>ABCD</td>\n",
       "      <td>0000</td>\n",
       "      <td>0.007057</td>\n",
       "    </tr>\n",
       "    <tr>\n",
       "      <th>14</th>\n",
       "      <td>BC</td>\n",
       "      <td>CAUSE</td>\n",
       "      <td>BC</td>\n",
       "      <td>00</td>\n",
       "      <td>0.038655</td>\n",
       "    </tr>\n",
       "    <tr>\n",
       "      <th>15</th>\n",
       "      <td>BC</td>\n",
       "      <td>EFFECT</td>\n",
       "      <td>ABCD</td>\n",
       "      <td>0000</td>\n",
       "      <td>0.007057</td>\n",
       "    </tr>\n",
       "    <tr>\n",
       "      <th>16</th>\n",
       "      <td>BD</td>\n",
       "      <td>CAUSE</td>\n",
       "      <td>AC</td>\n",
       "      <td>00</td>\n",
       "      <td>0.037670</td>\n",
       "    </tr>\n",
       "    <tr>\n",
       "      <th>17</th>\n",
       "      <td>BD</td>\n",
       "      <td>EFFECT</td>\n",
       "      <td>ABCD</td>\n",
       "      <td>0000</td>\n",
       "      <td>0.070302</td>\n",
       "    </tr>\n",
       "    <tr>\n",
       "      <th>18</th>\n",
       "      <td>CD</td>\n",
       "      <td>CAUSE</td>\n",
       "      <td>CD</td>\n",
       "      <td>00</td>\n",
       "      <td>0.038655</td>\n",
       "    </tr>\n",
       "    <tr>\n",
       "      <th>19</th>\n",
       "      <td>CD</td>\n",
       "      <td>EFFECT</td>\n",
       "      <td>ABCD</td>\n",
       "      <td>0000</td>\n",
       "      <td>0.007057</td>\n",
       "    </tr>\n",
       "    <tr>\n",
       "      <th>20</th>\n",
       "      <td>ABC</td>\n",
       "      <td>CAUSE</td>\n",
       "      <td>ABC</td>\n",
       "      <td>000</td>\n",
       "      <td>0.030883</td>\n",
       "    </tr>\n",
       "    <tr>\n",
       "      <th>21</th>\n",
       "      <td>ABC</td>\n",
       "      <td>EFFECT</td>\n",
       "      <td>ABCD</td>\n",
       "      <td>0000</td>\n",
       "      <td>0.006553</td>\n",
       "    </tr>\n",
       "    <tr>\n",
       "      <th>22</th>\n",
       "      <td>ABD</td>\n",
       "      <td>CAUSE</td>\n",
       "      <td>ABD</td>\n",
       "      <td>000</td>\n",
       "      <td>0.030883</td>\n",
       "    </tr>\n",
       "    <tr>\n",
       "      <th>23</th>\n",
       "      <td>ABD</td>\n",
       "      <td>EFFECT</td>\n",
       "      <td>ABCD</td>\n",
       "      <td>0000</td>\n",
       "      <td>0.006553</td>\n",
       "    </tr>\n",
       "    <tr>\n",
       "      <th>24</th>\n",
       "      <td>ACD</td>\n",
       "      <td>CAUSE</td>\n",
       "      <td>ACD</td>\n",
       "      <td>000</td>\n",
       "      <td>0.030883</td>\n",
       "    </tr>\n",
       "    <tr>\n",
       "      <th>25</th>\n",
       "      <td>ACD</td>\n",
       "      <td>EFFECT</td>\n",
       "      <td>ABCD</td>\n",
       "      <td>0000</td>\n",
       "      <td>0.006553</td>\n",
       "    </tr>\n",
       "    <tr>\n",
       "      <th>26</th>\n",
       "      <td>BCD</td>\n",
       "      <td>CAUSE</td>\n",
       "      <td>BCD</td>\n",
       "      <td>000</td>\n",
       "      <td>0.030883</td>\n",
       "    </tr>\n",
       "    <tr>\n",
       "      <th>27</th>\n",
       "      <td>BCD</td>\n",
       "      <td>EFFECT</td>\n",
       "      <td>ABCD</td>\n",
       "      <td>0000</td>\n",
       "      <td>0.006553</td>\n",
       "    </tr>\n",
       "    <tr>\n",
       "      <th>28</th>\n",
       "      <td>ABCD</td>\n",
       "      <td>CAUSE</td>\n",
       "      <td>ABCD</td>\n",
       "      <td>0000</td>\n",
       "      <td>0.042858</td>\n",
       "    </tr>\n",
       "    <tr>\n",
       "      <th>29</th>\n",
       "      <td>ABCD</td>\n",
       "      <td>EFFECT</td>\n",
       "      <td>ABCD</td>\n",
       "      <td>0000</td>\n",
       "      <td>0.000151</td>\n",
       "    </tr>\n",
       "  </tbody>\n",
       "</table>\n",
       "</div>"
      ],
      "text/plain": [
       "   mechanism direction purview state       phi\n",
       "0          A     CAUSE       A     0  0.476482\n",
       "1          A    EFFECT       A     0  0.619804\n",
       "2          B     CAUSE       B     0  0.476482\n",
       "3          B    EFFECT       B     0  0.619804\n",
       "4          C     CAUSE       C     0  0.476482\n",
       "5          C    EFFECT       C     0  0.619804\n",
       "6          D     CAUSE       D     0  0.476482\n",
       "7          D    EFFECT       D     0  0.619804\n",
       "8         AB     CAUSE      AB    00  0.038655\n",
       "9         AB    EFFECT    ABCD  0000  0.007057\n",
       "10        AC     CAUSE      BD    00  0.037670\n",
       "11        AC    EFFECT    ABCD  0000  0.070302\n",
       "12        AD     CAUSE      AD    00  0.038655\n",
       "13        AD    EFFECT    ABCD  0000  0.007057\n",
       "14        BC     CAUSE      BC    00  0.038655\n",
       "15        BC    EFFECT    ABCD  0000  0.007057\n",
       "16        BD     CAUSE      AC    00  0.037670\n",
       "17        BD    EFFECT    ABCD  0000  0.070302\n",
       "18        CD     CAUSE      CD    00  0.038655\n",
       "19        CD    EFFECT    ABCD  0000  0.007057\n",
       "20       ABC     CAUSE     ABC   000  0.030883\n",
       "21       ABC    EFFECT    ABCD  0000  0.006553\n",
       "22       ABD     CAUSE     ABD   000  0.030883\n",
       "23       ABD    EFFECT    ABCD  0000  0.006553\n",
       "24       ACD     CAUSE     ACD   000  0.030883\n",
       "25       ACD    EFFECT    ABCD  0000  0.006553\n",
       "26       BCD     CAUSE     BCD   000  0.030883\n",
       "27       BCD    EFFECT    ABCD  0000  0.006553\n",
       "28      ABCD     CAUSE    ABCD  0000  0.042858\n",
       "29      ABCD    EFFECT    ABCD  0000  0.000151"
      ]
     },
     "execution_count": 198,
     "metadata": {},
     "output_type": "execute_result"
    }
   ],
   "source": [
    "utils.sepces2df(ces,subsystem)"
   ]
  },
  {
   "cell_type": "code",
   "execution_count": null,
   "id": "7dc56582-0021-49c1-863c-f6cd6bd225e0",
   "metadata": {},
   "outputs": [],
   "source": []
  }
 ],
 "metadata": {
  "kernelspec": {
   "display_name": "Python 3",
   "language": "python",
   "name": "python3"
  },
  "language_info": {
   "codemirror_mode": {
    "name": "ipython",
    "version": 3
   },
   "file_extension": ".py",
   "mimetype": "text/x-python",
   "name": "python",
   "nbconvert_exporter": "python",
   "pygments_lexer": "ipython3",
   "version": "3.7.11"
  }
 },
 "nbformat": 4,
 "nbformat_minor": 5
}
