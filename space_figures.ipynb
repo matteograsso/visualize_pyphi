{
 "cells": [
  {
   "cell_type": "code",
   "execution_count": 1,
   "id": "d53d80b8-ae4b-451f-874d-0c4944870842",
   "metadata": {},
   "outputs": [],
   "source": [
    "# !pip uninstall pyphi -y\n",
    "# !git clone -b feature/iit-4.0 --single-branch https://github.com/wmayner/pyphi.git\n",
    "# !pip install -e pyphi"
   ]
  },
  {
   "cell_type": "code",
   "execution_count": 2,
   "id": "be33d172-f531-437e-8ecc-82ad363c5a05",
   "metadata": {},
   "outputs": [],
   "source": [
    "%load_ext autoreload\n",
    "%autoreload 2\n",
    "%load_ext blackcellmagic"
   ]
  },
  {
   "cell_type": "code",
   "execution_count": 3,
   "id": "8c439499",
   "metadata": {},
   "outputs": [
    {
     "data": {
      "text/html": [
       "<style>.container { width:80% !important; }</style>"
      ],
      "text/plain": [
       "<IPython.core.display.HTML object>"
      ]
     },
     "metadata": {},
     "output_type": "display_data"
    }
   ],
   "source": [
    "from IPython.core.display import display, HTML\n",
    "\n",
    "display(HTML(\"<style>.container { width:80% !important; }</style>\"))"
   ]
  },
  {
   "cell_type": "code",
   "execution_count": 4,
   "id": "99f3860c-e5f3-4255-875f-45e721e2dd0c",
   "metadata": {
    "tags": []
   },
   "outputs": [],
   "source": [
    "from visualize_pyphi import *\n",
    "from visualize_pyphi import utils\n",
    "from visualize_pyphi import compute\n",
    "import pickle as pkl\n",
    "from tqdm.auto import tqdm\n",
    "import numpy as np"
   ]
  },
  {
   "cell_type": "markdown",
   "id": "58d631a3",
   "metadata": {},
   "source": [
    "# 4 nodes linear"
   ]
  },
  {
   "cell_type": "code",
   "execution_count": 5,
   "id": "089eaec7",
   "metadata": {
    "tags": []
   },
   "outputs": [],
   "source": [
    "# from scipy.stats import lognorm\n",
    "# import numpy as np\n",
    "# import pylab as pl\n",
    "\n",
    "# stddev = 0.6\n",
    "# mean = 0.3\n",
    "# dist=lognorm([stddev],loc=mean)\n",
    "# x=np.linspace(0,4,100)\n",
    "# pl.plot(x,dist.pdf(x))\n",
    "# [dist.pdf(x) for x in [1,2,3,4]]"
   ]
  },
  {
   "cell_type": "code",
   "execution_count": 6,
   "id": "a584b164",
   "metadata": {
    "tags": []
   },
   "outputs": [],
   "source": [
    "# stddev = 0.59\n",
    "# mean = 0.3\n",
    "# dist=lognorm([stddev],loc=mean)\n",
    "# x=np.linspace(0,4,100)\n",
    "# pl.plot(x,dist.pdf(x))\n",
    "# [dist.pdf(x) for x in [1,2,3,4]]"
   ]
  },
  {
   "cell_type": "code",
   "execution_count": 7,
   "id": "8a74af27",
   "metadata": {},
   "outputs": [],
   "source": [
    "import pickle\n",
    "def mice_to_int(ces, mices):\n",
    "    return [ces.index(mice) for mice in mices]\n",
    "\n",
    "def indirect_part(ces, part):\n",
    "    return [mice_to_int(ces, (part.relata[i] for i in part.mechanism)), sorted(part.purview)]\n",
    "\n",
    "def indirect_partition(ces, partition):\n",
    "    return [indirect_part(ces, part) for part in partition]\n",
    "\n",
    "def indirect_relation(ces, relation):\n",
    "    return [mice_to_int(ces, relation.relata), relation.purview, relation.phi, indirect_partition(ces, relation.partition)]\n",
    "\n",
    "def compress_relations(ces, relations, to_pickle=''):\n",
    "    compressed_relations = [indirect_relation(ces, rel) for rel in relations]\n",
    "    if to_pickle:\n",
    "        with open(to_pickle, \"wb\") as f:\n",
    "            pickle.dump(compressed_relations, f)\n",
    "#     return compressed_relations"
   ]
  },
  {
   "cell_type": "code",
   "execution_count": 8,
   "id": "cee6b24e",
   "metadata": {},
   "outputs": [
    {
     "data": {
      "application/vnd.jupyter.widget-view+json": {
       "model_id": "1a6b54e7f63b495ca1bce2603b399e50",
       "version_major": 2,
       "version_minor": 0
      },
      "text/plain": [
       "  0%|          | 0/16 [00:00<?, ?it/s]"
      ]
     },
     "metadata": {},
     "output_type": "display_data"
    },
    {
     "name": "stdout",
     "output_type": "stream",
     "text": [
      "Network saved to: space_4\n"
     ]
    }
   ],
   "source": [
    "# ch3 system creation\n",
    "net_name = \"space_4\"\n",
    "\n",
    "th = 1 / 4\n",
    "exp = 5\n",
    "\n",
    "s = .8\n",
    "l = 0.26\n",
    "f = 0.06\n",
    "g = 0.0\n",
    "\n",
    "weights = np.array(\n",
    "    [\n",
    "        [s, l, f, g],  # A\n",
    "        [l, s, l, f],  # B\n",
    "        [f, l, s, l],  # C\n",
    "        [g, f, l, s],  # D\n",
    "        #A, B, C, D,\n",
    "    ]\n",
    ")\n",
    "\n",
    "# weights += np.random.random((6,6))/100\n",
    "# weights = np.abs(weights)\n",
    "\n",
    "node_labels = [\"A\", \"B\", \"C\", \"D\"]\n",
    "mech_func = [f for f in \"ssss\"]\n",
    "\n",
    "network = ng.get_net(\n",
    "    mech_func,\n",
    "    weights,\n",
    "    exp=exp,\n",
    "    th=th,\n",
    "    node_labels=node_labels,\n",
    "    network_name=net_name,\n",
    "    pickle_network=True,\n",
    ")\n",
    "\n",
    "state = (0, 0, 0, 0)\n",
    "subsystem = pyphi.Subsystem(network, state)"
   ]
  },
  {
   "cell_type": "code",
   "execution_count": 9,
   "id": "8381120b",
   "metadata": {
    "tags": []
   },
   "outputs": [
    {
     "name": "stderr",
     "output_type": "stream",
     "text": [
      "                                                                                                                                                         \r"
     ]
    }
   ],
   "source": [
    "ces = utils.flatten([[d.cause,d.effect] for d in pyphi.compute.ces(subsystem,parallel=True)])"
   ]
  },
  {
   "cell_type": "code",
   "execution_count": 49,
   "id": "369c5504",
   "metadata": {
    "tags": []
   },
   "outputs": [],
   "source": [
    "# all_compositional_states = compute.get_all_compositional_states(ces)\n",
    "# print('there are {} possible compositional states'.format(len(all_compositional_states)))"
   ]
  },
  {
   "cell_type": "code",
   "execution_count": null,
   "id": "f5be7271",
   "metadata": {},
   "outputs": [
    {
     "data": {
      "application/vnd.jupyter.widget-view+json": {
       "model_id": "4607b438d6c0463f925949b7e49a7404",
       "version_major": 2,
       "version_minor": 0
      },
      "text/plain": [
       "  0%|          | 0/15 [00:00<?, ?it/s]"
      ]
     },
     "metadata": {},
     "output_type": "display_data"
    },
    {
     "name": "stdout",
     "output_type": "stream",
     "text": [
      "Computing k = 15...\n"
     ]
    },
    {
     "name": "stderr",
     "output_type": "stream",
     "text": [
      "[Parallel(n_jobs=120)]: Using backend LokyBackend with 120 concurrent workers.\n",
      "[Parallel(n_jobs=120)]: Done  84 tasks      | elapsed:  2.1min\n",
      "[Parallel(n_jobs=120)]: Done 4560 tasks      | elapsed: 47.3min\n",
      "[Parallel(n_jobs=120)]: Done 19140 tasks      | elapsed: 100.5min\n",
      "[Parallel(n_jobs=120)]: Done 36960 tasks      | elapsed: 189.6min\n"
     ]
    }
   ],
   "source": [
    "for k in tqdm(range(15,len(ces))):\n",
    "    print(f'Computing k = {k}...')\n",
    "    krels = list(pyphi.relations.relations(subsystem,ces,min_order=k,max_order=k,parallel=True,parallel_kwargs=dict(n_jobs=120,batch_size=10000,verbose=5)))\n",
    "    compress_relations(ces, krels, f'pickles/{net_name}_rels{k}_compressed.pkl')"
   ]
  },
  {
   "cell_type": "code",
   "execution_count": null,
   "id": "a4d06018",
   "metadata": {},
   "outputs": [],
   "source": [
    "# %%time\n",
    "# krels = list(utils.parallcompute_ks_relations(subsystem,ces,ks=[k],n_jobs=120,chunk_size=10000,verbose=5))\n",
    "# compress_relations(ces, krels, f'pickles/{net_name}_rels{k}_compressed_test_mine.pkl')"
   ]
  },
  {
   "cell_type": "code",
   "execution_count": null,
   "id": "6cb82f98",
   "metadata": {},
   "outputs": [],
   "source": [
    "# %%time\n",
    "# krels = list(pyphi.relations.relations(subsystem,ces,min_order=k,max_order=k,parallel=True,parallel_kwargs=dict(n_jobs=120,batch_size=10000,verbose=5)))\n",
    "# compress_relations(ces, krels, f'pickles/{net_name}_rels{k}_compressed_test_pyphi.pkl')"
   ]
  },
  {
   "cell_type": "code",
   "execution_count": null,
   "id": "ee56266d",
   "metadata": {},
   "outputs": [],
   "source": [
    "# k=4\n",
    "# rels = list(pyphi.relations.relations(subsystem,ces,parallel=True,min_order=k,max_order=k,parallel_kwargs=dict(verbose=5,n_jobs=-1)))"
   ]
  },
  {
   "cell_type": "code",
   "execution_count": null,
   "id": "79b118bb",
   "metadata": {},
   "outputs": [],
   "source": [
    "compressed_rs = compress_relations(ces, rels, f'pickles/{net_name}_rels{k}_compressed.pkl')"
   ]
  },
  {
   "cell_type": "code",
   "execution_count": null,
   "id": "00e718d7",
   "metadata": {},
   "outputs": [],
   "source": [
    "\n",
    "compress_relations(ces, rels, f'pickles/{net_name}_rels{k}_compressed.pkl')"
   ]
  },
  {
   "cell_type": "code",
   "execution_count": null,
   "id": "0ad4de74",
   "metadata": {
    "tags": []
   },
   "outputs": [],
   "source": [
    "relations = pyphi.relations.relations(subsystem,ces,parallel=True,max_order=3,parallel_kwargs=dict(verbose=5,n_jobs=-1))\n",
    "\n",
    "max_ces = max(\n",
    "    [\n",
    "        compute.filter_ces(subsystem, ces, compositional_state, max_relations_k=3, relations=relations)\n",
    "        for compositional_state in tqdm(all_compositional_states)\n",
    "    ],\n",
    "    key=lambda c: c[0][\"big phi\"],\n",
    ")"
   ]
  },
  {
   "cell_type": "code",
   "execution_count": null,
   "id": "b4effcdd-3a5e-4253-9682-a68f87881974",
   "metadata": {},
   "outputs": [],
   "source": [
    "# max_ces2 = max(\n",
    "#     [\n",
    "#         compute.filter_ces(subsystem, ces, compositional_state, max_relations_k=3, relations=[])\n",
    "#         for compositional_state in tqdm(all_compositional_states)\n",
    "#     ],\n",
    "    \n",
    "#     key=lambda c: c[0][\"big phi\"],\n",
    "# )"
   ]
  },
  {
   "cell_type": "code",
   "execution_count": null,
   "id": "d5ae069e",
   "metadata": {},
   "outputs": [],
   "source": []
  },
  {
   "cell_type": "code",
   "execution_count": null,
   "id": "41ce327d",
   "metadata": {},
   "outputs": [],
   "source": [
    "utils.sepces2df(max_ces[0]['ces'],subsystem)"
   ]
  },
  {
   "cell_type": "code",
   "execution_count": null,
   "id": "f6648123",
   "metadata": {},
   "outputs": [],
   "source": [
    "max_ces[0]['MIP']"
   ]
  },
  {
   "cell_type": "code",
   "execution_count": null,
   "id": "a2b35760-bfb4-4d1d-9ed1-8675947a683e",
   "metadata": {},
   "outputs": [],
   "source": [
    "# utils.sepces2df(ces,subsystem)"
   ]
  },
  {
   "cell_type": "code",
   "execution_count": null,
   "id": "2dd6ffb8-1514-42b9-a6c5-e61f08ee2596",
   "metadata": {},
   "outputs": [],
   "source": [
    "\n",
    "fig = viz.plot_ces(subsystem,max_ces[0]['ces'],max_ces[0]['relations'],network_name='figures/space_example',surface_opacity=1.0,)"
   ]
  },
  {
   "cell_type": "markdown",
   "id": "041e0b9b",
   "metadata": {
    "heading_collapsed": true
   },
   "source": [
    "# 4 nodes toroidal"
   ]
  },
  {
   "cell_type": "code",
   "execution_count": null,
   "id": "06c38dee",
   "metadata": {
    "hidden": true
   },
   "outputs": [],
   "source": [
    "# ch3 system creation\n",
    "net_name = \"space_4\"\n",
    "\n",
    "th = 1 / 4\n",
    "exp = 5\n",
    "\n",
    "s = 0.8\n",
    "l = 0.25\n",
    "\n",
    "weights = np.array(\n",
    "    [\n",
    "        [s, l, 0, l],  # A\n",
    "        [l, s, l, 0],  # B\n",
    "        [0, l, s, l],  # C\n",
    "        [l, 0, l, s],  # D\n",
    "        #A, B, C, D,\n",
    "    ]\n",
    ")\n",
    "\n",
    "# weights += np.random.random((6,6))/100\n",
    "# weights = np.abs(weights)\n",
    "\n",
    "node_labels = [\"A\", \"B\", \"C\", \"D\"]\n",
    "mech_func = [f for f in \"ssss\"]\n",
    "\n",
    "network = ng.get_net(\n",
    "    mech_func,\n",
    "    weights,\n",
    "    exp=exp,\n",
    "    th=th,\n",
    "    mu=mu,\n",
    "    si=si,\n",
    "    l=ll,\n",
    "    k=kk,\n",
    "    x0=x0,\n",
    "    node_labels=node_labels,\n",
    "    network_name=net_name,\n",
    "    pickle_network=True,\n",
    ")\n",
    "\n",
    "state = (0, 0, 0, 0)\n",
    "subsystem = pyphi.Subsystem(network, state)"
   ]
  },
  {
   "cell_type": "code",
   "execution_count": null,
   "id": "ab0d39be",
   "metadata": {
    "hidden": true
   },
   "outputs": [],
   "source": [
    "ces = utils.flatten([[d.cause,d.effect] for d in pyphi.compute.ces(subsystem,parallel=True)])\n",
    "all_compositional_states = compute.get_all_compositional_states(ces)\n",
    "print('there are {} possible compositional states'.format(len(all_compositional_states)))"
   ]
  },
  {
   "cell_type": "code",
   "execution_count": null,
   "id": "75b9b1a7",
   "metadata": {
    "hidden": true
   },
   "outputs": [],
   "source": [
    "max_ces = max(\n",
    "    [\n",
    "        compute.filter_ces_parallel(subsystem, ces, compositional_state, max_relations_k=3, n_jobs=200)\n",
    "        for compositional_state in tqdm(all_compositional_states)\n",
    "    ],\n",
    "    key=lambda c: c[\"big phi\"],\n",
    ")"
   ]
  },
  {
   "cell_type": "code",
   "execution_count": null,
   "id": "851303b6",
   "metadata": {
    "hidden": true
   },
   "outputs": [],
   "source": [
    "max_ces['big phi']"
   ]
  },
  {
   "cell_type": "code",
   "execution_count": null,
   "id": "78b769c4",
   "metadata": {
    "hidden": true
   },
   "outputs": [],
   "source": [
    "utils.sepces2df(max_ces['ces'],subsystem)"
   ]
  },
  {
   "cell_type": "code",
   "execution_count": null,
   "id": "0f484b84",
   "metadata": {
    "hidden": true
   },
   "outputs": [],
   "source": [
    "max_ces['MIP']"
   ]
  },
  {
   "cell_type": "code",
   "execution_count": null,
   "id": "8950b558",
   "metadata": {
    "hidden": true
   },
   "outputs": [],
   "source": [
    "\n",
    "fig = viz.plot_ces(subsystem,max_ces['ces'],max_ces['relations'],network_name='figures/space',surface_opacity=0.7,)"
   ]
  },
  {
   "cell_type": "markdown",
   "id": "a92988d4",
   "metadata": {},
   "source": [
    "# 5 nodes linear"
   ]
  },
  {
   "cell_type": "code",
   "execution_count": null,
   "id": "043dedd1",
   "metadata": {},
   "outputs": [],
   "source": [
    "# ch3 system creation\n",
    "net_name = \"space_5\"\n",
    "\n",
    "th = 1 / 4\n",
    "exp = 5\n",
    "\n",
    "s = 0.8\n",
    "l = 0.25\n",
    "f = 0.06\n",
    "g = 0.01\n",
    "\n",
    "weights = np.array(\n",
    "    [\n",
    "        [s, l, f, g, 0],  # A\n",
    "        [l, s, l, f, g],  # B\n",
    "        [f, l, s, l, f],  # C\n",
    "        [g, f, l, s, l],  # D\n",
    "        [0, g, f, l, s],  # E\n",
    "        #A, B, C, D, E\n",
    "    ]\n",
    ")\n",
    "\n",
    "# weights += np.random.random((6,6))/100\n",
    "# weights = np.abs(weights)\n",
    "\n",
    "node_labels = [\"A\", \"B\", \"C\", \"D\", \"E\"]\n",
    "mech_func = [f for f in \"sssss\"]\n",
    "\n",
    "network = ng.get_net(\n",
    "    mech_func,\n",
    "    weights,\n",
    "    exp=exp,\n",
    "    th=th,\n",
    "    node_labels=node_labels,\n",
    "    network_name=net_name,\n",
    "    pickle_network=True,\n",
    ")\n",
    "\n",
    "state = (0, 0, 0, 0, 0)\n",
    "subsystem = pyphi.Subsystem(network, state)"
   ]
  },
  {
   "cell_type": "code",
   "execution_count": null,
   "id": "0e105a01",
   "metadata": {},
   "outputs": [],
   "source": [
    "ces = utils.flatten([[d.cause,d.effect] for d in pyphi.compute.ces(subsystem,parallel=True)])\n",
    "all_compositional_states = compute.get_all_compositional_states(ces)\n",
    "print('there are {} possible compositional states'.format(len(all_compositional_states)))"
   ]
  },
  {
   "cell_type": "code",
   "execution_count": null,
   "id": "75382cf7-6e17-4c40-867c-93de438a360e",
   "metadata": {
    "tags": []
   },
   "outputs": [],
   "source": [
    "relations = pyphi.relations.relations(subsystem,ces,parallel=True,max_order=3,parallel_kwargs=dict(verbose=5,n_jobs=-1))"
   ]
  },
  {
   "cell_type": "code",
   "execution_count": null,
   "id": "549ff7e4-79c3-4068-a090-b1102551df92",
   "metadata": {
    "tags": []
   },
   "outputs": [],
   "source": [
    "rels = compute.compute_relations(subsystem, ces, max_k=3, num_relations=False)"
   ]
  },
  {
   "cell_type": "code",
   "execution_count": null,
   "id": "557c11d3",
   "metadata": {
    "jupyter": {
     "outputs_hidden": true
    },
    "tags": []
   },
   "outputs": [],
   "source": [
    "max_ces = compute.filter_ces(subsystem, ces, compute.compositional_state_from_system_state(subsystem.state), max_relations_k=3, n_jobs=-1)"
   ]
  },
  {
   "cell_type": "code",
   "execution_count": null,
   "id": "5a5f0d4a",
   "metadata": {},
   "outputs": [],
   "source": [
    "max_ces['big phi']"
   ]
  },
  {
   "cell_type": "code",
   "execution_count": null,
   "id": "7694f6b7",
   "metadata": {},
   "outputs": [],
   "source": [
    "utils.sepces2df(max_ces['ces'],subsystem)"
   ]
  },
  {
   "cell_type": "code",
   "execution_count": null,
   "id": "85dc075f",
   "metadata": {},
   "outputs": [],
   "source": [
    "max_ces['MIP']"
   ]
  },
  {
   "cell_type": "code",
   "execution_count": null,
   "id": "d0eef092",
   "metadata": {},
   "outputs": [],
   "source": [
    "\n",
    "fig = viz.plot_ces(subsystem,max_ces['ces'],max_ces['relations'],network_name='figures/space',surface_opacity=0.7,)"
   ]
  },
  {
   "cell_type": "code",
   "execution_count": null,
   "id": "e712a1e8",
   "metadata": {},
   "outputs": [],
   "source": [
    "import itertools\n",
    "compositional_state = compute.compositional_state_from_system_state(subsystem.state)\n",
    "\n",
    "# first separate the ces into mices and define the directions\n",
    "c = pyphi.direction.Direction.CAUSE\n",
    "e = pyphi.direction.Direction.EFFECT\n",
    "\n",
    "# next we run through all the mices and append any mice that has a state corresponding to the compositional state\n",
    "mices_with_correct_state = dict()  # compositional_state.copy()\n",
    "for mice in ces:\n",
    "    if (\n",
    "        tuple(mice.specified_state[0])\n",
    "        == compositional_state[mice.direction][mice.purview]\n",
    "    ):\n",
    "        if not (mice.direction, mice.purview) in mices_with_correct_state.keys():\n",
    "            mices_with_correct_state[(mice.direction, mice.purview)] = [mice]\n",
    "        else:\n",
    "            mices_with_correct_state[(mice.direction, mice.purview)].append(mice)\n",
    "\n",
    "all_cess = list(itertools.product(*mices_with_correct_state.values()))"
   ]
  },
  {
   "cell_type": "code",
   "execution_count": null,
   "id": "c7fb99dd-0c2a-4de2-8d9d-ead16761e2aa",
   "metadata": {},
   "outputs": [],
   "source": [
    "len(all_cess)"
   ]
  },
  {
   "cell_type": "code",
   "execution_count": null,
   "id": "b1880bef-e18f-401d-b592-fe054420f57d",
   "metadata": {
    "jupyter": {
     "outputs_hidden": true
    },
    "tags": []
   },
   "outputs": [],
   "source": [
    "[len(l) for l in mices_with_correct_state.values()]"
   ]
  },
  {
   "cell_type": "code",
   "execution_count": null,
   "id": "65d3f1a6-3aed-408f-aa3d-bb3ff9270a8c",
   "metadata": {},
   "outputs": [],
   "source": [
    "import numpy as np\n",
    "import matplotlib.pyplot as plt"
   ]
  },
  {
   "cell_type": "code",
   "execution_count": null,
   "id": "25d12f76-2cc3-4ab5-b332-830ec256d8b1",
   "metadata": {},
   "outputs": [],
   "source": [
    "dists = np.array([[np.random.lognormal(m,s,100000) for m in [0,0.5,1,2]] for s in [0.1, 0.5, 1, 3]])\n",
    "        "
   ]
  },
  {
   "cell_type": "code",
   "execution_count": null,
   "id": "33de96ef-a25b-4de4-a832-9a5018fb218f",
   "metadata": {},
   "outputs": [],
   "source": [
    "bins=np.linspace(0,10,100)"
   ]
  },
  {
   "cell_type": "code",
   "execution_count": null,
   "id": "690a89e3-768f-4929-ac20-85552a6d58fe",
   "metadata": {},
   "outputs": [],
   "source": [
    "ms = dists.shape[0]\n",
    "ss = dists.shape[1]\n",
    "\n",
    "plt.figure(figsize=(15,15))\n",
    "for i in range(ms):\n",
    "    for j in range(ss):\n",
    "        plt.subplot(ss,ms,i+j*ms+1)\n",
    "        plt.hist(dists[i,j,:],bins=bins)\n",
    "        plt.xlim([0,10])"
   ]
  },
  {
   "cell_type": "code",
   "execution_count": null,
   "id": "d466d627-f860-4ab3-8b49-9f8bfe5ab232",
   "metadata": {},
   "outputs": [],
   "source": [
    "network_generator.NR(1, 5, 0.25)"
   ]
  },
  {
   "cell_type": "code",
   "execution_count": null,
   "id": "c5d9d306-62d0-4052-990d-5d966e5ec484",
   "metadata": {},
   "outputs": [],
   "source": [
    "exp = 5\n",
    "th = 0.25\n",
    "\n",
    "x = np.linspace(0,2,100)\n",
    "y = np.array([network_generator.NR(xx, exp, th) for xx in x])\n"
   ]
  },
  {
   "cell_type": "code",
   "execution_count": null,
   "id": "f689d532-4caa-4683-a3f4-7bd4461820e2",
   "metadata": {},
   "outputs": [],
   "source": [
    "plt.plot(x,y)"
   ]
  },
  {
   "cell_type": "code",
   "execution_count": null,
   "id": "28c71179-8d61-44a5-b676-b7e134646b15",
   "metadata": {},
   "outputs": [],
   "source": [
    "\n",
    "vals = [0.7, 0.25, 0.1]\n",
    "ps = [network_generator.NR(xx, exp, th) for xx in vals]"
   ]
  },
  {
   "cell_type": "code",
   "execution_count": null,
   "id": "d4ce94e0-a68d-409f-b142-2f40315da68c",
   "metadata": {},
   "outputs": [],
   "source": [
    "ps"
   ]
  },
  {
   "cell_type": "code",
   "execution_count": null,
   "id": "7daa29c6-fb58-4540-8cc2-d29053af702a",
   "metadata": {},
   "outputs": [],
   "source": []
  }
 ],
 "metadata": {
  "kernelspec": {
   "display_name": "Python 3",
   "language": "python",
   "name": "python3"
  },
  "language_info": {
   "codemirror_mode": {
    "name": "ipython",
    "version": 3
   },
   "file_extension": ".py",
   "mimetype": "text/x-python",
   "name": "python",
   "nbconvert_exporter": "python",
   "pygments_lexer": "ipython3",
   "version": "3.7.11"
  }
 },
 "nbformat": 4,
 "nbformat_minor": 5
}
