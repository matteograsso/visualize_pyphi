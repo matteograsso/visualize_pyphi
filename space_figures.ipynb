{
 "cells": [
  {
   "cell_type": "code",
   "execution_count": 1,
   "id": "d53d80b8-ae4b-451f-874d-0c4944870842",
   "metadata": {},
   "outputs": [],
   "source": [
    "# !pip uninstall pyphi -y\n",
    "# !git clone -b feature/iit-4.0 --single-branch https://github.com/wmayner/pyphi.git\n",
    "# !pip install -e pyphi"
   ]
  },
  {
   "cell_type": "code",
   "execution_count": 2,
   "id": "be33d172-f531-437e-8ecc-82ad363c5a05",
   "metadata": {},
   "outputs": [],
   "source": [
    "%load_ext autoreload\n",
    "%autoreload 2\n",
    "%load_ext blackcellmagic"
   ]
  },
  {
   "cell_type": "code",
   "execution_count": 3,
   "id": "8c439499",
   "metadata": {},
   "outputs": [
    {
     "data": {
      "text/html": [
       "<style>.container { width:60% !important; }</style>"
      ],
      "text/plain": [
       "<IPython.core.display.HTML object>"
      ]
     },
     "metadata": {},
     "output_type": "display_data"
    }
   ],
   "source": [
    "from IPython.core.display import display, HTML\n",
    "\n",
    "display(HTML(\"<style>.container { width:60% !important; }</style>\"))"
   ]
  },
  {
   "cell_type": "code",
   "execution_count": 4,
   "id": "99f3860c-e5f3-4255-875f-45e721e2dd0c",
   "metadata": {
    "tags": []
   },
   "outputs": [],
   "source": [
    "from visualize_pyphi import *\n",
    "from visualize_pyphi import utils\n",
    "from visualize_pyphi import compute\n",
    "import pickle as pkl\n",
    "from tqdm.auto import tqdm\n",
    "import numpy as np"
   ]
  },
  {
   "cell_type": "markdown",
   "id": "58d631a3",
   "metadata": {},
   "source": [
    "# 4 nodes linear"
   ]
  },
  {
   "cell_type": "code",
   "execution_count": 5,
   "id": "089eaec7",
   "metadata": {
    "tags": []
   },
   "outputs": [],
   "source": [
    "# from scipy.stats import lognorm\n",
    "# import numpy as np\n",
    "# import pylab as pl\n",
    "\n",
    "# stddev = 0.6\n",
    "# mean = 0.3\n",
    "# dist=lognorm([stddev],loc=mean)\n",
    "# x=np.linspace(0,4,100)\n",
    "# pl.plot(x,dist.pdf(x))\n",
    "# [dist.pdf(x) for x in [1,2,3,4]]"
   ]
  },
  {
   "cell_type": "code",
   "execution_count": 6,
   "id": "a584b164",
   "metadata": {
    "tags": []
   },
   "outputs": [],
   "source": [
    "# stddev = 0.59\n",
    "# mean = 0.3\n",
    "# dist=lognorm([stddev],loc=mean)\n",
    "# x=np.linspace(0,4,100)\n",
    "# pl.plot(x,dist.pdf(x))\n",
    "# [dist.pdf(x) for x in [1,2,3,4]]"
   ]
  },
  {
   "cell_type": "code",
   "execution_count": 7,
   "id": "cee6b24e",
   "metadata": {},
   "outputs": [
    {
     "data": {
      "application/vnd.jupyter.widget-view+json": {
       "model_id": "2d14b2202a454f6d9d133e7b742df6a2",
       "version_major": 2,
       "version_minor": 0
      },
      "text/plain": [
       "  0%|          | 0/16 [00:00<?, ?it/s]"
      ]
     },
     "metadata": {},
     "output_type": "display_data"
    },
    {
     "name": "stdout",
     "output_type": "stream",
     "text": [
      "Network saved to: space_4\n"
     ]
    }
   ],
   "source": [
    "# ch3 system creation\n",
    "net_name = \"space_4\"\n",
    "\n",
    "th = 1 / 4\n",
    "exp = 5\n",
    "\n",
    "s = .8\n",
    "l = 0.26\n",
    "f = 0.06\n",
    "g = 0.0\n",
    "\n",
    "weights = np.array(\n",
    "    [\n",
    "        [s, l, f, g],  # A\n",
    "        [l, s, l, f],  # B\n",
    "        [f, l, s, l],  # C\n",
    "        [g, f, l, s],  # D\n",
    "        #A, B, C, D,\n",
    "    ]\n",
    ")\n",
    "\n",
    "# weights += np.random.random((6,6))/100\n",
    "# weights = np.abs(weights)\n",
    "\n",
    "node_labels = [\"A\", \"B\", \"C\", \"D\"]\n",
    "mech_func = [f for f in \"ssss\"]\n",
    "\n",
    "network = ng.get_net(\n",
    "    mech_func,\n",
    "    weights,\n",
    "    exp=exp,\n",
    "    th=th,\n",
    "    node_labels=node_labels,\n",
    "    network_name=net_name,\n",
    "    pickle_network=True,\n",
    ")\n",
    "\n",
    "state = (0, 0, 0, 0)\n",
    "subsystem = pyphi.Subsystem(network, state)"
   ]
  },
  {
   "cell_type": "code",
   "execution_count": 259,
   "id": "8381120b",
   "metadata": {
    "tags": []
   },
   "outputs": [
    {
     "name": "stderr",
     "output_type": "stream",
     "text": [
      "                                                                                                                                                         \r"
     ]
    },
    {
     "ename": "TypeError",
     "evalue": "cannot unpack non-iterable bool object",
     "output_type": "error",
     "traceback": [
      "\u001b[0;31m---------------------------------------------------------------------------\u001b[0m",
      "\u001b[0;31mTypeError\u001b[0m                                 Traceback (most recent call last)",
      "\u001b[0;32m/tmp/ipykernel_27485/1529057946.py\u001b[0m in \u001b[0;36m<module>\u001b[0;34m\u001b[0m\n\u001b[0;32m----> 1\u001b[0;31m \u001b[0mces\u001b[0m \u001b[0;34m=\u001b[0m \u001b[0mutils\u001b[0m\u001b[0;34m.\u001b[0m\u001b[0mflatten\u001b[0m\u001b[0;34m(\u001b[0m\u001b[0;34m[\u001b[0m\u001b[0;34m[\u001b[0m\u001b[0md\u001b[0m\u001b[0;34m.\u001b[0m\u001b[0mcause\u001b[0m\u001b[0;34m,\u001b[0m\u001b[0md\u001b[0m\u001b[0;34m.\u001b[0m\u001b[0meffect\u001b[0m\u001b[0;34m]\u001b[0m \u001b[0;32mfor\u001b[0m \u001b[0md\u001b[0m \u001b[0;32min\u001b[0m \u001b[0mpyphi\u001b[0m\u001b[0;34m.\u001b[0m\u001b[0mcompute\u001b[0m\u001b[0;34m.\u001b[0m\u001b[0mces\u001b[0m\u001b[0;34m(\u001b[0m\u001b[0msubsystem\u001b[0m\u001b[0;34m,\u001b[0m\u001b[0mparallel\u001b[0m\u001b[0;34m=\u001b[0m\u001b[0;32mTrue\u001b[0m\u001b[0;34m)\u001b[0m\u001b[0;34m]\u001b[0m\u001b[0;34m)\u001b[0m\u001b[0;34m\u001b[0m\u001b[0;34m\u001b[0m\u001b[0m\n\u001b[0m",
      "\u001b[0;32m~/miniconda3/envs/4.0/lib/python3.7/site-packages/decorator.py\u001b[0m in \u001b[0;36mfun\u001b[0;34m(*args, **kw)\u001b[0m\n\u001b[1;32m    230\u001b[0m             \u001b[0;32mif\u001b[0m \u001b[0;32mnot\u001b[0m \u001b[0mkwsyntax\u001b[0m\u001b[0;34m:\u001b[0m\u001b[0;34m\u001b[0m\u001b[0;34m\u001b[0m\u001b[0m\n\u001b[1;32m    231\u001b[0m                 \u001b[0margs\u001b[0m\u001b[0;34m,\u001b[0m \u001b[0mkw\u001b[0m \u001b[0;34m=\u001b[0m \u001b[0mfix\u001b[0m\u001b[0;34m(\u001b[0m\u001b[0margs\u001b[0m\u001b[0;34m,\u001b[0m \u001b[0mkw\u001b[0m\u001b[0;34m,\u001b[0m \u001b[0msig\u001b[0m\u001b[0;34m)\u001b[0m\u001b[0;34m\u001b[0m\u001b[0;34m\u001b[0m\u001b[0m\n\u001b[0;32m--> 232\u001b[0;31m             \u001b[0;32mreturn\u001b[0m \u001b[0mcaller\u001b[0m\u001b[0;34m(\u001b[0m\u001b[0mfunc\u001b[0m\u001b[0;34m,\u001b[0m \u001b[0;34m*\u001b[0m\u001b[0;34m(\u001b[0m\u001b[0mextras\u001b[0m \u001b[0;34m+\u001b[0m \u001b[0margs\u001b[0m\u001b[0;34m)\u001b[0m\u001b[0;34m,\u001b[0m \u001b[0;34m**\u001b[0m\u001b[0mkw\u001b[0m\u001b[0;34m)\u001b[0m\u001b[0;34m\u001b[0m\u001b[0;34m\u001b[0m\u001b[0m\n\u001b[0m\u001b[1;32m    233\u001b[0m     \u001b[0mfun\u001b[0m\u001b[0;34m.\u001b[0m\u001b[0m__name__\u001b[0m \u001b[0;34m=\u001b[0m \u001b[0mfunc\u001b[0m\u001b[0;34m.\u001b[0m\u001b[0m__name__\u001b[0m\u001b[0;34m\u001b[0m\u001b[0;34m\u001b[0m\u001b[0m\n\u001b[1;32m    234\u001b[0m     \u001b[0mfun\u001b[0m\u001b[0;34m.\u001b[0m\u001b[0m__doc__\u001b[0m \u001b[0;34m=\u001b[0m \u001b[0mfunc\u001b[0m\u001b[0;34m.\u001b[0m\u001b[0m__doc__\u001b[0m\u001b[0;34m\u001b[0m\u001b[0;34m\u001b[0m\u001b[0m\n",
      "\u001b[0;32m~/pyphi4.0/pyphi/utils.py\u001b[0m in \u001b[0;36mtime_annotated\u001b[0;34m(func, *args, **kwargs)\u001b[0m\n\u001b[1;32m    226\u001b[0m     \"\"\"\n\u001b[1;32m    227\u001b[0m     \u001b[0mstart\u001b[0m \u001b[0;34m=\u001b[0m \u001b[0mtime\u001b[0m\u001b[0;34m(\u001b[0m\u001b[0;34m)\u001b[0m\u001b[0;34m\u001b[0m\u001b[0;34m\u001b[0m\u001b[0m\n\u001b[0;32m--> 228\u001b[0;31m     \u001b[0mresult\u001b[0m \u001b[0;34m=\u001b[0m \u001b[0mfunc\u001b[0m\u001b[0;34m(\u001b[0m\u001b[0;34m*\u001b[0m\u001b[0margs\u001b[0m\u001b[0;34m,\u001b[0m \u001b[0;34m**\u001b[0m\u001b[0mkwargs\u001b[0m\u001b[0;34m)\u001b[0m\u001b[0;34m\u001b[0m\u001b[0;34m\u001b[0m\u001b[0m\n\u001b[0m\u001b[1;32m    229\u001b[0m     \u001b[0mend\u001b[0m \u001b[0;34m=\u001b[0m \u001b[0mtime\u001b[0m\u001b[0;34m(\u001b[0m\u001b[0;34m)\u001b[0m\u001b[0;34m\u001b[0m\u001b[0;34m\u001b[0m\u001b[0m\n\u001b[1;32m    230\u001b[0m     \u001b[0mresult\u001b[0m\u001b[0;34m.\u001b[0m\u001b[0mtime\u001b[0m \u001b[0;34m=\u001b[0m \u001b[0mround\u001b[0m\u001b[0;34m(\u001b[0m\u001b[0mend\u001b[0m \u001b[0;34m-\u001b[0m \u001b[0mstart\u001b[0m\u001b[0;34m,\u001b[0m \u001b[0mconfig\u001b[0m\u001b[0;34m.\u001b[0m\u001b[0mPRECISION\u001b[0m\u001b[0;34m)\u001b[0m\u001b[0;34m\u001b[0m\u001b[0;34m\u001b[0m\u001b[0m\n",
      "\u001b[0;32m~/pyphi4.0/pyphi/compute/subsystem.py\u001b[0m in \u001b[0;36mces\u001b[0;34m(subsystem, mechanisms, purviews, cause_purviews, effect_purviews, parallel)\u001b[0m\n\u001b[1;32m    117\u001b[0m \u001b[0;34m\u001b[0m\u001b[0m\n\u001b[1;32m    118\u001b[0m     return CauseEffectStructure(\n\u001b[0;32m--> 119\u001b[0;31m         \u001b[0mengine\u001b[0m\u001b[0;34m.\u001b[0m\u001b[0mrun\u001b[0m\u001b[0;34m(\u001b[0m\u001b[0mparallel\u001b[0m \u001b[0;32mor\u001b[0m \u001b[0mconfig\u001b[0m\u001b[0;34m.\u001b[0m\u001b[0mPARALLEL_CONCEPT_EVALUATION\u001b[0m\u001b[0;34m)\u001b[0m\u001b[0;34m,\u001b[0m \u001b[0msubsystem\u001b[0m\u001b[0;34m=\u001b[0m\u001b[0msubsystem\u001b[0m\u001b[0;34m\u001b[0m\u001b[0;34m\u001b[0m\u001b[0m\n\u001b[0m\u001b[1;32m    120\u001b[0m     )\n\u001b[1;32m    121\u001b[0m \u001b[0;34m\u001b[0m\u001b[0m\n",
      "\u001b[0;32m~/pyphi4.0/pyphi/compute/parallel.py\u001b[0m in \u001b[0;36mrun\u001b[0;34m(self, parallel)\u001b[0m\n\u001b[1;32m    319\u001b[0m         \"\"\"\n\u001b[1;32m    320\u001b[0m         \u001b[0;32mif\u001b[0m \u001b[0mparallel\u001b[0m\u001b[0;34m:\u001b[0m\u001b[0;34m\u001b[0m\u001b[0;34m\u001b[0m\u001b[0m\n\u001b[0;32m--> 321\u001b[0;31m             \u001b[0;32mreturn\u001b[0m \u001b[0mself\u001b[0m\u001b[0;34m.\u001b[0m\u001b[0mrun_parallel\u001b[0m\u001b[0;34m(\u001b[0m\u001b[0;34m)\u001b[0m\u001b[0;34m\u001b[0m\u001b[0;34m\u001b[0m\u001b[0m\n\u001b[0m\u001b[1;32m    322\u001b[0m         \u001b[0;32mreturn\u001b[0m \u001b[0mself\u001b[0m\u001b[0;34m.\u001b[0m\u001b[0mrun_sequential\u001b[0m\u001b[0;34m(\u001b[0m\u001b[0;34m)\u001b[0m\u001b[0;34m\u001b[0m\u001b[0;34m\u001b[0m\u001b[0m\n\u001b[1;32m    323\u001b[0m \u001b[0;34m\u001b[0m\u001b[0m\n",
      "\u001b[0;32m~/pyphi4.0/pyphi/compute/parallel.py\u001b[0m in \u001b[0;36mrun_parallel\u001b[0;34m(self)\u001b[0m\n\u001b[1;32m    254\u001b[0m \u001b[0;34m\u001b[0m\u001b[0m\n\u001b[1;32m    255\u001b[0m                 \u001b[0;32melif\u001b[0m \u001b[0misinstance\u001b[0m\u001b[0;34m(\u001b[0m\u001b[0mr\u001b[0m\u001b[0;34m,\u001b[0m \u001b[0mExceptionWrapper\u001b[0m\u001b[0;34m)\u001b[0m\u001b[0;34m:\u001b[0m\u001b[0;34m\u001b[0m\u001b[0;34m\u001b[0m\u001b[0m\n\u001b[0;32m--> 256\u001b[0;31m                     \u001b[0mr\u001b[0m\u001b[0;34m.\u001b[0m\u001b[0mreraise\u001b[0m\u001b[0;34m(\u001b[0m\u001b[0;34m)\u001b[0m\u001b[0;34m\u001b[0m\u001b[0;34m\u001b[0m\u001b[0m\n\u001b[0m\u001b[1;32m    257\u001b[0m \u001b[0;34m\u001b[0m\u001b[0m\n\u001b[1;32m    258\u001b[0m                 \u001b[0;32melse\u001b[0m\u001b[0;34m:\u001b[0m\u001b[0;34m\u001b[0m\u001b[0;34m\u001b[0m\u001b[0m\n",
      "\u001b[0;32m~/pyphi4.0/pyphi/compute/parallel.py\u001b[0m in \u001b[0;36mreraise\u001b[0;34m(self)\u001b[0m\n\u001b[1;32m     62\u001b[0m     \u001b[0;32mdef\u001b[0m \u001b[0mreraise\u001b[0m\u001b[0;34m(\u001b[0m\u001b[0mself\u001b[0m\u001b[0;34m)\u001b[0m\u001b[0;34m:\u001b[0m\u001b[0;34m\u001b[0m\u001b[0;34m\u001b[0m\u001b[0m\n\u001b[1;32m     63\u001b[0m         \u001b[0;34m\"\"\"Re-raise the exception.\"\"\"\u001b[0m\u001b[0;34m\u001b[0m\u001b[0;34m\u001b[0m\u001b[0m\n\u001b[0;32m---> 64\u001b[0;31m         \u001b[0;32mraise\u001b[0m \u001b[0mself\u001b[0m\u001b[0;34m.\u001b[0m\u001b[0mexception\u001b[0m\u001b[0;34m.\u001b[0m\u001b[0mwith_traceback\u001b[0m\u001b[0;34m(\u001b[0m\u001b[0mself\u001b[0m\u001b[0;34m.\u001b[0m\u001b[0mtb\u001b[0m\u001b[0;34m.\u001b[0m\u001b[0mas_traceback\u001b[0m\u001b[0;34m(\u001b[0m\u001b[0;34m)\u001b[0m\u001b[0;34m)\u001b[0m\u001b[0;34m\u001b[0m\u001b[0;34m\u001b[0m\u001b[0m\n\u001b[0m\u001b[1;32m     65\u001b[0m \u001b[0;34m\u001b[0m\u001b[0m\n\u001b[1;32m     66\u001b[0m \u001b[0;34m\u001b[0m\u001b[0m\n",
      "\u001b[0;32m~/pyphi4.0/pyphi/compute/parallel.py\u001b[0m in \u001b[0;36mworker\u001b[0;34m()\u001b[0m\n\u001b[1;32m    172\u001b[0m \u001b[0;34m\u001b[0m\u001b[0m\n\u001b[1;32m    173\u001b[0m                 \u001b[0mlog\u001b[0m\u001b[0;34m.\u001b[0m\u001b[0mdebug\u001b[0m\u001b[0;34m(\u001b[0m\u001b[0;34m\"Worker got %s\"\u001b[0m\u001b[0;34m,\u001b[0m \u001b[0mobj\u001b[0m\u001b[0;34m)\u001b[0m\u001b[0;34m\u001b[0m\u001b[0;34m\u001b[0m\u001b[0m\n\u001b[0;32m--> 174\u001b[0;31m                 \u001b[0mresult_queue\u001b[0m\u001b[0;34m.\u001b[0m\u001b[0mput\u001b[0m\u001b[0;34m(\u001b[0m\u001b[0mcompute\u001b[0m\u001b[0;34m(\u001b[0m\u001b[0mobj\u001b[0m\u001b[0;34m,\u001b[0m \u001b[0;34m*\u001b[0m\u001b[0mcontext\u001b[0m\u001b[0;34m)\u001b[0m\u001b[0;34m)\u001b[0m\u001b[0;34m\u001b[0m\u001b[0;34m\u001b[0m\u001b[0m\n\u001b[0m\u001b[1;32m    175\u001b[0m                 \u001b[0mlog\u001b[0m\u001b[0;34m.\u001b[0m\u001b[0mdebug\u001b[0m\u001b[0;34m(\u001b[0m\u001b[0;34m\"Worker finished %s\"\u001b[0m\u001b[0;34m,\u001b[0m \u001b[0mobj\u001b[0m\u001b[0;34m)\u001b[0m\u001b[0;34m\u001b[0m\u001b[0;34m\u001b[0m\u001b[0m\n\u001b[1;32m    176\u001b[0m \u001b[0;34m\u001b[0m\u001b[0m\n",
      "\u001b[0;32m~/pyphi4.0/pyphi/compute/subsystem.py\u001b[0m in \u001b[0;36mcompute\u001b[0;34m()\u001b[0m\n\u001b[1;32m     58\u001b[0m             \u001b[0mpurviews\u001b[0m\u001b[0;34m=\u001b[0m\u001b[0mpurviews\u001b[0m\u001b[0;34m,\u001b[0m\u001b[0;34m\u001b[0m\u001b[0;34m\u001b[0m\u001b[0m\n\u001b[1;32m     59\u001b[0m             \u001b[0mcause_purviews\u001b[0m\u001b[0;34m=\u001b[0m\u001b[0mcause_purviews\u001b[0m\u001b[0;34m,\u001b[0m\u001b[0;34m\u001b[0m\u001b[0;34m\u001b[0m\u001b[0m\n\u001b[0;32m---> 60\u001b[0;31m             \u001b[0meffect_purviews\u001b[0m\u001b[0;34m=\u001b[0m\u001b[0meffect_purviews\u001b[0m\u001b[0;34m,\u001b[0m\u001b[0;34m\u001b[0m\u001b[0;34m\u001b[0m\u001b[0m\n\u001b[0m\u001b[1;32m     61\u001b[0m         )\n\u001b[1;32m     62\u001b[0m         \u001b[0;31m# Don't serialize the subsystem.\u001b[0m\u001b[0;34m\u001b[0m\u001b[0;34m\u001b[0m\u001b[0;34m\u001b[0m\u001b[0m\n",
      "\u001b[0;32m~/miniconda3/envs/4.0/lib/python3.7/site-packages/decorator.py\u001b[0m in \u001b[0;36mfun\u001b[0;34m()\u001b[0m\n\u001b[1;32m    230\u001b[0m             \u001b[0;32mif\u001b[0m \u001b[0;32mnot\u001b[0m \u001b[0mkwsyntax\u001b[0m\u001b[0;34m:\u001b[0m\u001b[0;34m\u001b[0m\u001b[0;34m\u001b[0m\u001b[0m\n\u001b[1;32m    231\u001b[0m                 \u001b[0margs\u001b[0m\u001b[0;34m,\u001b[0m \u001b[0mkw\u001b[0m \u001b[0;34m=\u001b[0m \u001b[0mfix\u001b[0m\u001b[0;34m(\u001b[0m\u001b[0margs\u001b[0m\u001b[0;34m,\u001b[0m \u001b[0mkw\u001b[0m\u001b[0;34m,\u001b[0m \u001b[0msig\u001b[0m\u001b[0;34m)\u001b[0m\u001b[0;34m\u001b[0m\u001b[0;34m\u001b[0m\u001b[0m\n\u001b[0;32m--> 232\u001b[0;31m             \u001b[0;32mreturn\u001b[0m \u001b[0mcaller\u001b[0m\u001b[0;34m(\u001b[0m\u001b[0mfunc\u001b[0m\u001b[0;34m,\u001b[0m \u001b[0;34m*\u001b[0m\u001b[0;34m(\u001b[0m\u001b[0mextras\u001b[0m \u001b[0;34m+\u001b[0m \u001b[0margs\u001b[0m\u001b[0;34m)\u001b[0m\u001b[0;34m,\u001b[0m \u001b[0;34m**\u001b[0m\u001b[0mkw\u001b[0m\u001b[0;34m)\u001b[0m\u001b[0;34m\u001b[0m\u001b[0;34m\u001b[0m\u001b[0m\n\u001b[0m\u001b[1;32m    233\u001b[0m     \u001b[0mfun\u001b[0m\u001b[0;34m.\u001b[0m\u001b[0m__name__\u001b[0m \u001b[0;34m=\u001b[0m \u001b[0mfunc\u001b[0m\u001b[0;34m.\u001b[0m\u001b[0m__name__\u001b[0m\u001b[0;34m\u001b[0m\u001b[0;34m\u001b[0m\u001b[0m\n\u001b[1;32m    234\u001b[0m     \u001b[0mfun\u001b[0m\u001b[0;34m.\u001b[0m\u001b[0m__doc__\u001b[0m \u001b[0;34m=\u001b[0m \u001b[0mfunc\u001b[0m\u001b[0;34m.\u001b[0m\u001b[0m__doc__\u001b[0m\u001b[0;34m\u001b[0m\u001b[0;34m\u001b[0m\u001b[0m\n",
      "\u001b[0;32m~/pyphi4.0/pyphi/utils.py\u001b[0m in \u001b[0;36mtime_annotated\u001b[0;34m()\u001b[0m\n\u001b[1;32m    226\u001b[0m     \"\"\"\n\u001b[1;32m    227\u001b[0m     \u001b[0mstart\u001b[0m \u001b[0;34m=\u001b[0m \u001b[0mtime\u001b[0m\u001b[0;34m(\u001b[0m\u001b[0;34m)\u001b[0m\u001b[0;34m\u001b[0m\u001b[0;34m\u001b[0m\u001b[0m\n\u001b[0;32m--> 228\u001b[0;31m     \u001b[0mresult\u001b[0m \u001b[0;34m=\u001b[0m \u001b[0mfunc\u001b[0m\u001b[0;34m(\u001b[0m\u001b[0;34m*\u001b[0m\u001b[0margs\u001b[0m\u001b[0;34m,\u001b[0m \u001b[0;34m**\u001b[0m\u001b[0mkwargs\u001b[0m\u001b[0;34m)\u001b[0m\u001b[0;34m\u001b[0m\u001b[0;34m\u001b[0m\u001b[0m\n\u001b[0m\u001b[1;32m    229\u001b[0m     \u001b[0mend\u001b[0m \u001b[0;34m=\u001b[0m \u001b[0mtime\u001b[0m\u001b[0;34m(\u001b[0m\u001b[0;34m)\u001b[0m\u001b[0;34m\u001b[0m\u001b[0;34m\u001b[0m\u001b[0m\n\u001b[1;32m    230\u001b[0m     \u001b[0mresult\u001b[0m\u001b[0;34m.\u001b[0m\u001b[0mtime\u001b[0m \u001b[0;34m=\u001b[0m \u001b[0mround\u001b[0m\u001b[0;34m(\u001b[0m\u001b[0mend\u001b[0m \u001b[0;34m-\u001b[0m \u001b[0mstart\u001b[0m\u001b[0;34m,\u001b[0m \u001b[0mconfig\u001b[0m\u001b[0;34m.\u001b[0m\u001b[0mPRECISION\u001b[0m\u001b[0;34m)\u001b[0m\u001b[0;34m\u001b[0m\u001b[0;34m\u001b[0m\u001b[0m\n",
      "\u001b[0;32m~/pyphi4.0/pyphi/subsystem.py\u001b[0m in \u001b[0;36mconcept\u001b[0;34m()\u001b[0m\n\u001b[1;32m    805\u001b[0m \u001b[0;34m\u001b[0m\u001b[0m\n\u001b[1;32m    806\u001b[0m         \u001b[0;31m# Calculate the maximally irreducible cause repertoire.\u001b[0m\u001b[0;34m\u001b[0m\u001b[0;34m\u001b[0m\u001b[0;34m\u001b[0m\u001b[0m\n\u001b[0;32m--> 807\u001b[0;31m         \u001b[0mcause\u001b[0m \u001b[0;34m=\u001b[0m \u001b[0mself\u001b[0m\u001b[0;34m.\u001b[0m\u001b[0mmic\u001b[0m\u001b[0;34m(\u001b[0m\u001b[0mmechanism\u001b[0m\u001b[0;34m,\u001b[0m \u001b[0mpurviews\u001b[0m\u001b[0;34m=\u001b[0m\u001b[0;34m(\u001b[0m\u001b[0mcause_purviews\u001b[0m \u001b[0;32mor\u001b[0m \u001b[0mpurviews\u001b[0m\u001b[0;34m)\u001b[0m\u001b[0;34m)\u001b[0m\u001b[0;34m\u001b[0m\u001b[0;34m\u001b[0m\u001b[0m\n\u001b[0m\u001b[1;32m    808\u001b[0m \u001b[0;34m\u001b[0m\u001b[0m\n\u001b[1;32m    809\u001b[0m         \u001b[0;31m# Calculate the maximally irreducible effect repertoire.\u001b[0m\u001b[0;34m\u001b[0m\u001b[0;34m\u001b[0m\u001b[0;34m\u001b[0m\u001b[0m\n",
      "\u001b[0;32m~/pyphi4.0/pyphi/subsystem.py\u001b[0m in \u001b[0;36mmic\u001b[0;34m()\u001b[0m\n\u001b[1;32m    731\u001b[0m         \u001b[0mAlias\u001b[0m \u001b[0;32mfor\u001b[0m \u001b[0;34m|\u001b[0m\u001b[0mfind_mice\u001b[0m\u001b[0;34m(\u001b[0m\u001b[0;34m)\u001b[0m\u001b[0;34m|\u001b[0m \u001b[0;32mwith\u001b[0m\u001b[0;31m \u001b[0m\u001b[0;31m`\u001b[0m\u001b[0;31m`\u001b[0m\u001b[0mdirection\u001b[0m\u001b[0;31m`\u001b[0m\u001b[0;31m`\u001b[0m \u001b[0mset\u001b[0m \u001b[0mto\u001b[0m \u001b[0;34m|\u001b[0m\u001b[0mCAUSE\u001b[0m\u001b[0;34m|\u001b[0m\u001b[0;34m.\u001b[0m\u001b[0;34m\u001b[0m\u001b[0;34m\u001b[0m\u001b[0m\n\u001b[1;32m    732\u001b[0m         \"\"\"\n\u001b[0;32m--> 733\u001b[0;31m         \u001b[0;32mreturn\u001b[0m \u001b[0mself\u001b[0m\u001b[0;34m.\u001b[0m\u001b[0mfind_mice\u001b[0m\u001b[0;34m(\u001b[0m\u001b[0mDirection\u001b[0m\u001b[0;34m.\u001b[0m\u001b[0mCAUSE\u001b[0m\u001b[0;34m,\u001b[0m \u001b[0mmechanism\u001b[0m\u001b[0;34m,\u001b[0m \u001b[0mpurviews\u001b[0m\u001b[0;34m=\u001b[0m\u001b[0mpurviews\u001b[0m\u001b[0;34m)\u001b[0m\u001b[0;34m\u001b[0m\u001b[0;34m\u001b[0m\u001b[0m\n\u001b[0m\u001b[1;32m    734\u001b[0m \u001b[0;34m\u001b[0m\u001b[0m\n\u001b[1;32m    735\u001b[0m     \u001b[0;32mdef\u001b[0m \u001b[0mmie\u001b[0m\u001b[0;34m(\u001b[0m\u001b[0mself\u001b[0m\u001b[0;34m,\u001b[0m \u001b[0mmechanism\u001b[0m\u001b[0;34m,\u001b[0m \u001b[0mpurviews\u001b[0m\u001b[0;34m=\u001b[0m\u001b[0;32mFalse\u001b[0m\u001b[0;34m)\u001b[0m\u001b[0;34m:\u001b[0m\u001b[0;34m\u001b[0m\u001b[0;34m\u001b[0m\u001b[0m\n",
      "\u001b[0;32m~/pyphi4.0/pyphi/cache.py\u001b[0m in \u001b[0;36mwrapper\u001b[0;34m()\u001b[0m\n\u001b[1;32m    458\u001b[0m             \u001b[0mvalue\u001b[0m \u001b[0;34m=\u001b[0m \u001b[0mcache\u001b[0m\u001b[0;34m.\u001b[0m\u001b[0mget\u001b[0m\u001b[0;34m(\u001b[0m\u001b[0mkey\u001b[0m\u001b[0;34m)\u001b[0m\u001b[0;34m\u001b[0m\u001b[0;34m\u001b[0m\u001b[0m\n\u001b[1;32m    459\u001b[0m             \u001b[0;32mif\u001b[0m \u001b[0mvalue\u001b[0m \u001b[0;32mis\u001b[0m \u001b[0;32mNone\u001b[0m\u001b[0;34m:\u001b[0m  \u001b[0;31m# miss\u001b[0m\u001b[0;34m\u001b[0m\u001b[0;34m\u001b[0m\u001b[0m\n\u001b[0;32m--> 460\u001b[0;31m                 \u001b[0mvalue\u001b[0m \u001b[0;34m=\u001b[0m \u001b[0mfunc\u001b[0m\u001b[0;34m(\u001b[0m\u001b[0mobj\u001b[0m\u001b[0;34m,\u001b[0m \u001b[0;34m*\u001b[0m\u001b[0margs\u001b[0m\u001b[0;34m,\u001b[0m \u001b[0;34m**\u001b[0m\u001b[0mkwargs\u001b[0m\u001b[0;34m)\u001b[0m\u001b[0;34m\u001b[0m\u001b[0;34m\u001b[0m\u001b[0m\n\u001b[0m\u001b[1;32m    461\u001b[0m                 \u001b[0mcache\u001b[0m\u001b[0;34m.\u001b[0m\u001b[0mset\u001b[0m\u001b[0;34m(\u001b[0m\u001b[0mkey\u001b[0m\u001b[0;34m,\u001b[0m \u001b[0mvalue\u001b[0m\u001b[0;34m)\u001b[0m\u001b[0;34m\u001b[0m\u001b[0;34m\u001b[0m\u001b[0m\n\u001b[1;32m    462\u001b[0m             \u001b[0;32mreturn\u001b[0m \u001b[0mvalue\u001b[0m\u001b[0;34m\u001b[0m\u001b[0;34m\u001b[0m\u001b[0m\n",
      "\u001b[0;32m~/pyphi4.0/pyphi/subsystem.py\u001b[0m in \u001b[0;36mfind_mice\u001b[0;34m()\u001b[0m\n\u001b[1;32m    702\u001b[0m             \u001b[0mMaximallyIrreducibleCauseOrEffect\u001b[0m\u001b[0;34m:\u001b[0m \u001b[0mThe\u001b[0m \u001b[0;34m|\u001b[0m\u001b[0mMIC\u001b[0m\u001b[0;34m|\u001b[0m \u001b[0;32mor\u001b[0m \u001b[0;34m|\u001b[0m\u001b[0mMIE\u001b[0m\u001b[0;34m|\u001b[0m\u001b[0;34m.\u001b[0m\u001b[0;34m\u001b[0m\u001b[0;34m\u001b[0m\u001b[0m\n\u001b[1;32m    703\u001b[0m         \"\"\"\n\u001b[0;32m--> 704\u001b[0;31m         \u001b[0mpurviews\u001b[0m \u001b[0;34m=\u001b[0m \u001b[0mself\u001b[0m\u001b[0;34m.\u001b[0m\u001b[0mpotential_purviews\u001b[0m\u001b[0;34m(\u001b[0m\u001b[0mdirection\u001b[0m\u001b[0;34m,\u001b[0m \u001b[0mmechanism\u001b[0m\u001b[0;34m,\u001b[0m \u001b[0mpurviews\u001b[0m\u001b[0;34m)\u001b[0m\u001b[0;34m\u001b[0m\u001b[0;34m\u001b[0m\u001b[0m\n\u001b[0m\u001b[1;32m    705\u001b[0m \u001b[0;34m\u001b[0m\u001b[0m\n\u001b[1;32m    706\u001b[0m         \u001b[0;32mif\u001b[0m \u001b[0mdirection\u001b[0m \u001b[0;34m==\u001b[0m \u001b[0mDirection\u001b[0m\u001b[0;34m.\u001b[0m\u001b[0mCAUSE\u001b[0m\u001b[0;34m:\u001b[0m\u001b[0;34m\u001b[0m\u001b[0;34m\u001b[0m\u001b[0m\n",
      "\u001b[0;32m~/pyphi4.0/pyphi/subsystem.py\u001b[0m in \u001b[0;36mpotential_purviews\u001b[0;34m()\u001b[0m\n\u001b[1;32m    671\u001b[0m         \"\"\"\n\u001b[1;32m    672\u001b[0m         \u001b[0;32mif\u001b[0m \u001b[0mpurviews\u001b[0m \u001b[0;32mis\u001b[0m \u001b[0;32mFalse\u001b[0m\u001b[0;34m:\u001b[0m\u001b[0;34m\u001b[0m\u001b[0;34m\u001b[0m\u001b[0m\n\u001b[0;32m--> 673\u001b[0;31m             \u001b[0mpurviews\u001b[0m \u001b[0;34m=\u001b[0m \u001b[0mself\u001b[0m\u001b[0;34m.\u001b[0m\u001b[0mnetwork\u001b[0m\u001b[0;34m.\u001b[0m\u001b[0mpotential_purviews\u001b[0m\u001b[0;34m(\u001b[0m\u001b[0mdirection\u001b[0m\u001b[0;34m,\u001b[0m \u001b[0mmechanism\u001b[0m\u001b[0;34m)\u001b[0m\u001b[0;34m\u001b[0m\u001b[0;34m\u001b[0m\u001b[0m\n\u001b[0m\u001b[1;32m    674\u001b[0m             \u001b[0;31m# Filter out purviews that aren't in the subsystem\u001b[0m\u001b[0;34m\u001b[0m\u001b[0;34m\u001b[0m\u001b[0;34m\u001b[0m\u001b[0m\n\u001b[1;32m    675\u001b[0m             purviews = [\n",
      "\u001b[0;32m~/pyphi4.0/pyphi/cache.py\u001b[0m in \u001b[0;36mwrapper\u001b[0;34m()\u001b[0m\n\u001b[1;32m    458\u001b[0m             \u001b[0mvalue\u001b[0m \u001b[0;34m=\u001b[0m \u001b[0mcache\u001b[0m\u001b[0;34m.\u001b[0m\u001b[0mget\u001b[0m\u001b[0;34m(\u001b[0m\u001b[0mkey\u001b[0m\u001b[0;34m)\u001b[0m\u001b[0;34m\u001b[0m\u001b[0;34m\u001b[0m\u001b[0m\n\u001b[1;32m    459\u001b[0m             \u001b[0;32mif\u001b[0m \u001b[0mvalue\u001b[0m \u001b[0;32mis\u001b[0m \u001b[0;32mNone\u001b[0m\u001b[0;34m:\u001b[0m  \u001b[0;31m# miss\u001b[0m\u001b[0;34m\u001b[0m\u001b[0;34m\u001b[0m\u001b[0m\n\u001b[0;32m--> 460\u001b[0;31m                 \u001b[0mvalue\u001b[0m \u001b[0;34m=\u001b[0m \u001b[0mfunc\u001b[0m\u001b[0;34m(\u001b[0m\u001b[0mobj\u001b[0m\u001b[0;34m,\u001b[0m \u001b[0;34m*\u001b[0m\u001b[0margs\u001b[0m\u001b[0;34m,\u001b[0m \u001b[0;34m**\u001b[0m\u001b[0mkwargs\u001b[0m\u001b[0;34m)\u001b[0m\u001b[0;34m\u001b[0m\u001b[0;34m\u001b[0m\u001b[0m\n\u001b[0m\u001b[1;32m    461\u001b[0m                 \u001b[0mcache\u001b[0m\u001b[0;34m.\u001b[0m\u001b[0mset\u001b[0m\u001b[0;34m(\u001b[0m\u001b[0mkey\u001b[0m\u001b[0;34m,\u001b[0m \u001b[0mvalue\u001b[0m\u001b[0;34m)\u001b[0m\u001b[0;34m\u001b[0m\u001b[0;34m\u001b[0m\u001b[0m\n\u001b[1;32m    462\u001b[0m             \u001b[0;32mreturn\u001b[0m \u001b[0mvalue\u001b[0m\u001b[0;34m\u001b[0m\u001b[0;34m\u001b[0m\u001b[0m\n",
      "\u001b[0;32m~/pyphi4.0/pyphi/network.py\u001b[0m in \u001b[0;36mpotential_purviews\u001b[0;34m()\u001b[0m\n\u001b[1;32m    166\u001b[0m         \"\"\"\n\u001b[1;32m    167\u001b[0m         \u001b[0mall_purviews\u001b[0m \u001b[0;34m=\u001b[0m \u001b[0mutils\u001b[0m\u001b[0;34m.\u001b[0m\u001b[0mpowerset\u001b[0m\u001b[0;34m(\u001b[0m\u001b[0mself\u001b[0m\u001b[0;34m.\u001b[0m\u001b[0m_node_indices\u001b[0m\u001b[0;34m)\u001b[0m\u001b[0;34m\u001b[0m\u001b[0;34m\u001b[0m\u001b[0m\n\u001b[0;32m--> 168\u001b[0;31m         \u001b[0;32mreturn\u001b[0m \u001b[0mirreducible_purviews\u001b[0m\u001b[0;34m(\u001b[0m\u001b[0mself\u001b[0m\u001b[0;34m.\u001b[0m\u001b[0mcm\u001b[0m\u001b[0;34m,\u001b[0m \u001b[0mdirection\u001b[0m\u001b[0;34m,\u001b[0m \u001b[0mmechanism\u001b[0m\u001b[0;34m,\u001b[0m \u001b[0mall_purviews\u001b[0m\u001b[0;34m)\u001b[0m\u001b[0;34m\u001b[0m\u001b[0;34m\u001b[0m\u001b[0m\n\u001b[0m\u001b[1;32m    169\u001b[0m \u001b[0;34m\u001b[0m\u001b[0m\n\u001b[1;32m    170\u001b[0m     \u001b[0;32mdef\u001b[0m \u001b[0m__len__\u001b[0m\u001b[0;34m(\u001b[0m\u001b[0mself\u001b[0m\u001b[0;34m)\u001b[0m\u001b[0;34m:\u001b[0m\u001b[0;34m\u001b[0m\u001b[0;34m\u001b[0m\u001b[0m\n",
      "\u001b[0;32m~/pyphi4.0/pyphi/network.py\u001b[0m in \u001b[0;36mirreducible_purviews\u001b[0;34m()\u001b[0m\n\u001b[1;32m    233\u001b[0m         \u001b[0;32mreturn\u001b[0m \u001b[0mconnectivity\u001b[0m\u001b[0;34m.\u001b[0m\u001b[0mblock_reducible\u001b[0m\u001b[0;34m(\u001b[0m\u001b[0mcm\u001b[0m\u001b[0;34m,\u001b[0m \u001b[0m_from\u001b[0m\u001b[0;34m,\u001b[0m \u001b[0mto\u001b[0m\u001b[0;34m)\u001b[0m\u001b[0;34m\u001b[0m\u001b[0;34m\u001b[0m\u001b[0m\n\u001b[1;32m    234\u001b[0m \u001b[0;34m\u001b[0m\u001b[0m\n\u001b[0;32m--> 235\u001b[0;31m     \u001b[0;32mreturn\u001b[0m \u001b[0;34m[\u001b[0m\u001b[0mpurview\u001b[0m \u001b[0;32mfor\u001b[0m \u001b[0mpurview\u001b[0m \u001b[0;32min\u001b[0m \u001b[0mpurviews\u001b[0m \u001b[0;32mif\u001b[0m \u001b[0;32mnot\u001b[0m \u001b[0mreducible\u001b[0m\u001b[0;34m(\u001b[0m\u001b[0mpurview\u001b[0m\u001b[0;34m)\u001b[0m\u001b[0;34m]\u001b[0m\u001b[0;34m\u001b[0m\u001b[0;34m\u001b[0m\u001b[0m\n\u001b[0m\u001b[1;32m    236\u001b[0m \u001b[0;34m\u001b[0m\u001b[0m\n\u001b[1;32m    237\u001b[0m \u001b[0;34m\u001b[0m\u001b[0m\n",
      "\u001b[0;32m~/pyphi4.0/pyphi/network.py\u001b[0m in \u001b[0;36m<listcomp>\u001b[0;34m()\u001b[0m\n\u001b[1;32m    233\u001b[0m         \u001b[0;32mreturn\u001b[0m \u001b[0mconnectivity\u001b[0m\u001b[0;34m.\u001b[0m\u001b[0mblock_reducible\u001b[0m\u001b[0;34m(\u001b[0m\u001b[0mcm\u001b[0m\u001b[0;34m,\u001b[0m \u001b[0m_from\u001b[0m\u001b[0;34m,\u001b[0m \u001b[0mto\u001b[0m\u001b[0;34m)\u001b[0m\u001b[0;34m\u001b[0m\u001b[0;34m\u001b[0m\u001b[0m\n\u001b[1;32m    234\u001b[0m \u001b[0;34m\u001b[0m\u001b[0m\n\u001b[0;32m--> 235\u001b[0;31m     \u001b[0;32mreturn\u001b[0m \u001b[0;34m[\u001b[0m\u001b[0mpurview\u001b[0m \u001b[0;32mfor\u001b[0m \u001b[0mpurview\u001b[0m \u001b[0;32min\u001b[0m \u001b[0mpurviews\u001b[0m \u001b[0;32mif\u001b[0m \u001b[0;32mnot\u001b[0m \u001b[0mreducible\u001b[0m\u001b[0;34m(\u001b[0m\u001b[0mpurview\u001b[0m\u001b[0;34m)\u001b[0m\u001b[0;34m]\u001b[0m\u001b[0;34m\u001b[0m\u001b[0;34m\u001b[0m\u001b[0m\n\u001b[0m\u001b[1;32m    236\u001b[0m \u001b[0;34m\u001b[0m\u001b[0m\n\u001b[1;32m    237\u001b[0m \u001b[0;34m\u001b[0m\u001b[0m\n",
      "\u001b[0;32m~/pyphi4.0/pyphi/network.py\u001b[0m in \u001b[0;36mreducible\u001b[0;34m()\u001b[0m\n\u001b[1;32m    230\u001b[0m     \u001b[0;32mdef\u001b[0m \u001b[0mreducible\u001b[0m\u001b[0;34m(\u001b[0m\u001b[0mpurview\u001b[0m\u001b[0;34m)\u001b[0m\u001b[0;34m:\u001b[0m\u001b[0;34m\u001b[0m\u001b[0;34m\u001b[0m\u001b[0m\n\u001b[1;32m    231\u001b[0m         \u001b[0;34m\"\"\"Return ``True`` if purview is trivially reducible.\"\"\"\u001b[0m\u001b[0;34m\u001b[0m\u001b[0;34m\u001b[0m\u001b[0m\n\u001b[0;32m--> 232\u001b[0;31m         \u001b[0m_from\u001b[0m\u001b[0;34m,\u001b[0m \u001b[0mto\u001b[0m \u001b[0;34m=\u001b[0m \u001b[0mdirection\u001b[0m\u001b[0;34m.\u001b[0m\u001b[0morder\u001b[0m\u001b[0;34m(\u001b[0m\u001b[0mmechanism\u001b[0m\u001b[0;34m,\u001b[0m \u001b[0mpurview\u001b[0m\u001b[0;34m)\u001b[0m\u001b[0;34m\u001b[0m\u001b[0;34m\u001b[0m\u001b[0m\n\u001b[0m\u001b[1;32m    233\u001b[0m         \u001b[0;32mreturn\u001b[0m \u001b[0mconnectivity\u001b[0m\u001b[0;34m.\u001b[0m\u001b[0mblock_reducible\u001b[0m\u001b[0;34m(\u001b[0m\u001b[0mcm\u001b[0m\u001b[0;34m,\u001b[0m \u001b[0m_from\u001b[0m\u001b[0;34m,\u001b[0m \u001b[0mto\u001b[0m\u001b[0;34m)\u001b[0m\u001b[0;34m\u001b[0m\u001b[0;34m\u001b[0m\u001b[0m\n\u001b[1;32m    234\u001b[0m \u001b[0;34m\u001b[0m\u001b[0m\n",
      "\u001b[0;31mTypeError\u001b[0m: cannot unpack non-iterable bool object"
     ]
    }
   ],
   "source": [
    "ces = utils.flatten([[d.cause,d.effect] for d in pyphi.compute.ces(subsystem,parallel=True)])"
   ]
  },
  {
   "cell_type": "code",
   "execution_count": 49,
   "id": "369c5504",
   "metadata": {
    "tags": []
   },
   "outputs": [],
   "source": [
    "# all_compositional_states = compute.get_all_compositional_states(ces)\n",
    "# print('there are {} possible compositional states'.format(len(all_compositional_states)))"
   ]
  },
  {
   "cell_type": "code",
   "execution_count": 11,
   "id": "f5be7271",
   "metadata": {
    "scrolled": true
   },
   "outputs": [
    {
     "data": {
      "application/vnd.jupyter.widget-view+json": {
       "model_id": "4607b438d6c0463f925949b7e49a7404",
       "version_major": 2,
       "version_minor": 0
      },
      "text/plain": [
       "  0%|          | 0/15 [00:00<?, ?it/s]"
      ]
     },
     "metadata": {},
     "output_type": "display_data"
    },
    {
     "name": "stdout",
     "output_type": "stream",
     "text": [
      "Computing k = 15...\n"
     ]
    },
    {
     "name": "stderr",
     "output_type": "stream",
     "text": [
      "[Parallel(n_jobs=120)]: Using backend LokyBackend with 120 concurrent workers.\n",
      "[Parallel(n_jobs=120)]: Done  84 tasks      | elapsed:  2.1min\n",
      "[Parallel(n_jobs=120)]: Done 4560 tasks      | elapsed: 47.3min\n",
      "[Parallel(n_jobs=120)]: Done 19140 tasks      | elapsed: 100.5min\n",
      "[Parallel(n_jobs=120)]: Done 36960 tasks      | elapsed: 189.6min\n",
      "[Parallel(n_jobs=120)]: Done 58020 tasks      | elapsed: 284.8min\n",
      "[Parallel(n_jobs=120)]: Done 82320 tasks      | elapsed: 388.2min\n",
      "[Parallel(n_jobs=120)]: Done 108512 out of 108512 | elapsed: 503.5min finished\n"
     ]
    },
    {
     "name": "stdout",
     "output_type": "stream",
     "text": [
      "Computing k = 16...\n"
     ]
    },
    {
     "name": "stderr",
     "output_type": "stream",
     "text": [
      "[Parallel(n_jobs=120)]: Using backend LokyBackend with 120 concurrent workers.\n",
      "[Parallel(n_jobs=120)]: Done  84 tasks      | elapsed:  3.0min\n",
      "[Parallel(n_jobs=120)]: Done 1824 tasks      | elapsed: 38.0min\n",
      "[Parallel(n_jobs=120)]: Done 7170 tasks      | elapsed: 79.7min\n",
      "[Parallel(n_jobs=120)]: Done 13704 tasks      | elapsed: 147.6min\n",
      "[Parallel(n_jobs=120)]: Done 21426 tasks      | elapsed: 219.7min\n",
      "[Parallel(n_jobs=120)]: Done 30336 tasks      | elapsed: 302.7min\n",
      "[Parallel(n_jobs=120)]: Done 40697 out of 40697 | elapsed: 394.4min finished\n"
     ]
    },
    {
     "name": "stdout",
     "output_type": "stream",
     "text": [
      "Computing k = 17...\n"
     ]
    },
    {
     "name": "stderr",
     "output_type": "stream",
     "text": [
      "[Parallel(n_jobs=120)]: Using backend LokyBackend with 120 concurrent workers.\n",
      "[Parallel(n_jobs=120)]: Done  84 tasks      | elapsed:  5.4min\n",
      "[Parallel(n_jobs=120)]: Done 672 tasks      | elapsed: 25.5min\n",
      "[Parallel(n_jobs=120)]: Done 2130 tasks      | elapsed: 49.3min\n",
      "[Parallel(n_jobs=120)]: Done 3912 tasks      | elapsed: 88.1min\n",
      "[Parallel(n_jobs=120)]: Done 6018 tasks      | elapsed: 130.2min\n",
      "[Parallel(n_jobs=120)]: Done 8448 tasks      | elapsed: 177.9min\n",
      "[Parallel(n_jobs=120)]: Done 11970 out of 11970 | elapsed: 244.9min finished\n"
     ]
    },
    {
     "name": "stdout",
     "output_type": "stream",
     "text": [
      "Computing k = 18...\n"
     ]
    },
    {
     "name": "stderr",
     "output_type": "stream",
     "text": [
      "[Parallel(n_jobs=120)]: Using backend LokyBackend with 120 concurrent workers.\n",
      "[Parallel(n_jobs=120)]: Done  84 tasks      | elapsed: 10.3min\n",
      "[Parallel(n_jobs=120)]: Done 336 tasks      | elapsed: 19.9min\n",
      "[Parallel(n_jobs=120)]: Done 660 tasks      | elapsed: 32.4min\n",
      "[Parallel(n_jobs=120)]: Done 1056 tasks      | elapsed: 48.9min\n",
      "[Parallel(n_jobs=120)]: Done 1524 tasks      | elapsed: 68.5min\n",
      "[Parallel(n_jobs=120)]: Done 2064 tasks      | elapsed: 92.7min\n",
      "[Parallel(n_jobs=120)]: Done 2660 out of 2660 | elapsed: 114.7min finished\n"
     ]
    },
    {
     "name": "stdout",
     "output_type": "stream",
     "text": [
      "Computing k = 19...\n"
     ]
    },
    {
     "name": "stderr",
     "output_type": "stream",
     "text": [
      "[Parallel(n_jobs=120)]: Using backend LokyBackend with 120 concurrent workers.\n",
      "/home/mgrasso/miniconda3/envs/4.0/lib/python3.7/site-packages/joblib/externals/loky/process_executor.py:705: UserWarning: A worker stopped while some jobs were given to the executor. This can be caused by a too short worker timeout or by a memory leak.\n",
      "  \"timeout or by a memory leak.\", UserWarning\n",
      "[Parallel(n_jobs=120)]: Done  84 tasks      | elapsed: 20.5min\n",
      "[Parallel(n_jobs=120)]: Done 279 tasks      | elapsed: 30.4min\n",
      "[Parallel(n_jobs=120)]: Done 351 out of 420 | elapsed: 39.1min remaining:  7.7min\n",
      "[Parallel(n_jobs=120)]: Done 420 out of 420 | elapsed: 39.8min finished\n"
     ]
    },
    {
     "name": "stdout",
     "output_type": "stream",
     "text": [
      "Computing k = 20...\n"
     ]
    },
    {
     "name": "stderr",
     "output_type": "stream",
     "text": [
      "[Parallel(n_jobs=120)]: Using backend LokyBackend with 120 concurrent workers.\n",
      "[Parallel(n_jobs=120)]: Done  10 out of  42 | elapsed: 16.0min remaining: 51.1min\n",
      "[Parallel(n_jobs=120)]: Done  19 out of  42 | elapsed: 16.0min remaining: 19.4min\n",
      "[Parallel(n_jobs=120)]: Done  28 out of  42 | elapsed: 16.1min remaining:  8.1min\n",
      "[Parallel(n_jobs=120)]: Done  37 out of  42 | elapsed: 16.2min remaining:  2.2min\n",
      "[Parallel(n_jobs=120)]: Done  42 out of  42 | elapsed: 17.4min finished\n",
      "[Parallel(n_jobs=120)]: Using backend LokyBackend with 120 concurrent workers.\n"
     ]
    },
    {
     "name": "stdout",
     "output_type": "stream",
     "text": [
      "Computing k = 21...\n"
     ]
    },
    {
     "name": "stderr",
     "output_type": "stream",
     "text": [
      "[Parallel(n_jobs=120)]: Done   2 out of   2 | elapsed: 29.9min remaining:    0.0s\n",
      "[Parallel(n_jobs=120)]: Done   2 out of   2 | elapsed: 29.9min finished\n",
      "[Parallel(n_jobs=120)]: Using backend LokyBackend with 120 concurrent workers.\n"
     ]
    },
    {
     "name": "stdout",
     "output_type": "stream",
     "text": [
      "Computing k = 22...\n"
     ]
    },
    {
     "name": "stderr",
     "output_type": "stream",
     "text": [
      "[Parallel(n_jobs=120)]: Done   0 out of   0 | elapsed:   45.6s finished\n",
      "[Parallel(n_jobs=120)]: Using backend LokyBackend with 120 concurrent workers.\n"
     ]
    },
    {
     "name": "stdout",
     "output_type": "stream",
     "text": [
      "Computing k = 23...\n"
     ]
    },
    {
     "name": "stderr",
     "output_type": "stream",
     "text": [
      "[Parallel(n_jobs=120)]: Done   0 out of   0 | elapsed:   38.9s finished\n",
      "[Parallel(n_jobs=120)]: Using backend LokyBackend with 120 concurrent workers.\n"
     ]
    },
    {
     "name": "stdout",
     "output_type": "stream",
     "text": [
      "Computing k = 24...\n"
     ]
    },
    {
     "name": "stderr",
     "output_type": "stream",
     "text": [
      "[Parallel(n_jobs=120)]: Done   0 out of   0 | elapsed:   46.9s finished\n",
      "[Parallel(n_jobs=120)]: Using backend LokyBackend with 120 concurrent workers.\n"
     ]
    },
    {
     "name": "stdout",
     "output_type": "stream",
     "text": [
      "Computing k = 25...\n"
     ]
    },
    {
     "name": "stderr",
     "output_type": "stream",
     "text": [
      "[Parallel(n_jobs=120)]: Done   0 out of   0 | elapsed:   46.3s finished\n",
      "[Parallel(n_jobs=120)]: Using backend LokyBackend with 120 concurrent workers.\n"
     ]
    },
    {
     "name": "stdout",
     "output_type": "stream",
     "text": [
      "Computing k = 26...\n"
     ]
    },
    {
     "name": "stderr",
     "output_type": "stream",
     "text": [
      "[Parallel(n_jobs=120)]: Done   0 out of   0 | elapsed:   39.9s finished\n",
      "[Parallel(n_jobs=120)]: Using backend LokyBackend with 120 concurrent workers.\n"
     ]
    },
    {
     "name": "stdout",
     "output_type": "stream",
     "text": [
      "Computing k = 27...\n"
     ]
    },
    {
     "name": "stderr",
     "output_type": "stream",
     "text": [
      "[Parallel(n_jobs=120)]: Done   0 out of   0 | elapsed:   43.8s finished\n",
      "[Parallel(n_jobs=120)]: Using backend LokyBackend with 120 concurrent workers.\n"
     ]
    },
    {
     "name": "stdout",
     "output_type": "stream",
     "text": [
      "Computing k = 28...\n"
     ]
    },
    {
     "name": "stderr",
     "output_type": "stream",
     "text": [
      "[Parallel(n_jobs=120)]: Done   0 out of   0 | elapsed:   40.6s finished\n",
      "[Parallel(n_jobs=120)]: Using backend LokyBackend with 120 concurrent workers.\n"
     ]
    },
    {
     "name": "stdout",
     "output_type": "stream",
     "text": [
      "Computing k = 29...\n"
     ]
    },
    {
     "name": "stderr",
     "output_type": "stream",
     "text": [
      "[Parallel(n_jobs=120)]: Done   0 out of   0 | elapsed:   43.2s finished\n"
     ]
    }
   ],
   "source": [
    "for k in tqdm(range(15,len(ces)+1)):\n",
    "    print(f'Computing k = {k}...')\n",
    "    krels = list(pyphi.relations.relations(subsystem,ces,min_order=k,max_order=k,parallel=True,parallel_kwargs=dict(n_jobs=120,batch_size=10000,verbose=5)))\n",
    "    compress_relations(ces, krels, f'pickles/{net_name}_rels{k}_compressed.pkl')"
   ]
  },
  {
   "cell_type": "code",
   "execution_count": 127,
   "id": "06a66b4d",
   "metadata": {},
   "outputs": [],
   "source": [
    "r2 = list(pyphi.relations.relations(subsystem,ces,max_order=2))"
   ]
  },
  {
   "cell_type": "code",
   "execution_count": 226,
   "id": "fa9e8a1d",
   "metadata": {},
   "outputs": [],
   "source": [
    "def from_compressed_to_indirect(r):\n",
    "    relata = r[0]\n",
    "    purview = list(r[1])\n",
    "    parts = []\n",
    "    for ps in r[3]:\n",
    "        part = []\n",
    "        m=ps[0]\n",
    "        part.append(tuple([r[0].index(m[0])])) if m else part.append(())\n",
    "        p=ps[1]\n",
    "        part.append(tuple(p)) if p else part.append(())\n",
    "        parts.append(part)\n",
    "    phi = r[2]\n",
    "    ties = [list(r[1])]\n",
    "    return [relata, purview, parts, phi, ties]"
   ]
  },
  {
   "cell_type": "code",
   "execution_count": 252,
   "id": "c8ba20cf",
   "metadata": {},
   "outputs": [
    {
     "data": {
      "application/vnd.jupyter.widget-view+json": {
       "model_id": "39df1a59d7824ac38b9b9d6f2d54521c",
       "version_major": 2,
       "version_minor": 0
      },
      "text/plain": [
       "  0%|          | 0/29 [00:00<?, ?it/s]"
      ]
     },
     "metadata": {},
     "output_type": "display_data"
    }
   ],
   "source": [
    "for k,krels in enumerate(tqdm(crels),2):\n",
    "    indirect_krels = [from_compressed_to_indirect(r) for r in krels]\n",
    "    utils.pklthis(indirect_krels,f'pickles/{net_name}_rels{k}_indirect.pkl')"
   ]
  },
  {
   "cell_type": "code",
   "execution_count": 238,
   "id": "7c12d787",
   "metadata": {},
   "outputs": [
    {
     "data": {
      "text/plain": [
       "Relation(relata=(Effect[0,2,3],Cause[2]), purview=frozenset({2}), phi=0.5824214947027485)"
      ]
     },
     "execution_count": 238,
     "metadata": {},
     "output_type": "execute_result"
    }
   ],
   "source": [
    "cr2ri = pyphi.relations.Relation.from_indirect_json(subsystem,ces,cr2ir)\n",
    "cr2ri"
   ]
  },
  {
   "cell_type": "code",
   "execution_count": 239,
   "id": "b9157711",
   "metadata": {},
   "outputs": [
    {
     "data": {
      "text/plain": [
       "True"
      ]
     },
     "execution_count": 239,
     "metadata": {},
     "output_type": "execute_result"
    }
   ],
   "source": [
    "ri == cr2ri"
   ]
  },
  {
   "cell_type": "code",
   "execution_count": 11,
   "id": "20bece18",
   "metadata": {
    "scrolled": true
   },
   "outputs": [
    {
     "data": {
      "application/vnd.jupyter.widget-view+json": {
       "model_id": "4607b438d6c0463f925949b7e49a7404",
       "version_major": 2,
       "version_minor": 0
      },
      "text/plain": [
       "  0%|          | 0/15 [00:00<?, ?it/s]"
      ]
     },
     "metadata": {},
     "output_type": "display_data"
    },
    {
     "name": "stdout",
     "output_type": "stream",
     "text": [
      "Computing k = 15...\n"
     ]
    },
    {
     "name": "stderr",
     "output_type": "stream",
     "text": [
      "[Parallel(n_jobs=120)]: Using backend LokyBackend with 120 concurrent workers.\n",
      "[Parallel(n_jobs=120)]: Done  84 tasks      | elapsed:  2.1min\n",
      "[Parallel(n_jobs=120)]: Done 4560 tasks      | elapsed: 47.3min\n",
      "[Parallel(n_jobs=120)]: Done 19140 tasks      | elapsed: 100.5min\n",
      "[Parallel(n_jobs=120)]: Done 36960 tasks      | elapsed: 189.6min\n",
      "[Parallel(n_jobs=120)]: Done 58020 tasks      | elapsed: 284.8min\n",
      "[Parallel(n_jobs=120)]: Done 82320 tasks      | elapsed: 388.2min\n",
      "[Parallel(n_jobs=120)]: Done 108512 out of 108512 | elapsed: 503.5min finished\n"
     ]
    },
    {
     "name": "stdout",
     "output_type": "stream",
     "text": [
      "Computing k = 16...\n"
     ]
    },
    {
     "name": "stderr",
     "output_type": "stream",
     "text": [
      "[Parallel(n_jobs=120)]: Using backend LokyBackend with 120 concurrent workers.\n",
      "[Parallel(n_jobs=120)]: Done  84 tasks      | elapsed:  3.0min\n",
      "[Parallel(n_jobs=120)]: Done 1824 tasks      | elapsed: 38.0min\n",
      "[Parallel(n_jobs=120)]: Done 7170 tasks      | elapsed: 79.7min\n",
      "[Parallel(n_jobs=120)]: Done 13704 tasks      | elapsed: 147.6min\n",
      "[Parallel(n_jobs=120)]: Done 21426 tasks      | elapsed: 219.7min\n",
      "[Parallel(n_jobs=120)]: Done 30336 tasks      | elapsed: 302.7min\n",
      "[Parallel(n_jobs=120)]: Done 40697 out of 40697 | elapsed: 394.4min finished\n"
     ]
    },
    {
     "name": "stdout",
     "output_type": "stream",
     "text": [
      "Computing k = 17...\n"
     ]
    },
    {
     "name": "stderr",
     "output_type": "stream",
     "text": [
      "[Parallel(n_jobs=120)]: Using backend LokyBackend with 120 concurrent workers.\n",
      "[Parallel(n_jobs=120)]: Done  84 tasks      | elapsed:  5.4min\n",
      "[Parallel(n_jobs=120)]: Done 672 tasks      | elapsed: 25.5min\n",
      "[Parallel(n_jobs=120)]: Done 2130 tasks      | elapsed: 49.3min\n",
      "[Parallel(n_jobs=120)]: Done 3912 tasks      | elapsed: 88.1min\n",
      "[Parallel(n_jobs=120)]: Done 6018 tasks      | elapsed: 130.2min\n",
      "[Parallel(n_jobs=120)]: Done 8448 tasks      | elapsed: 177.9min\n",
      "[Parallel(n_jobs=120)]: Done 11970 out of 11970 | elapsed: 244.9min finished\n"
     ]
    },
    {
     "name": "stdout",
     "output_type": "stream",
     "text": [
      "Computing k = 18...\n"
     ]
    },
    {
     "name": "stderr",
     "output_type": "stream",
     "text": [
      "[Parallel(n_jobs=120)]: Using backend LokyBackend with 120 concurrent workers.\n",
      "[Parallel(n_jobs=120)]: Done  84 tasks      | elapsed: 10.3min\n",
      "[Parallel(n_jobs=120)]: Done 336 tasks      | elapsed: 19.9min\n",
      "[Parallel(n_jobs=120)]: Done 660 tasks      | elapsed: 32.4min\n",
      "[Parallel(n_jobs=120)]: Done 1056 tasks      | elapsed: 48.9min\n",
      "[Parallel(n_jobs=120)]: Done 1524 tasks      | elapsed: 68.5min\n",
      "[Parallel(n_jobs=120)]: Done 2064 tasks      | elapsed: 92.7min\n",
      "[Parallel(n_jobs=120)]: Done 2660 out of 2660 | elapsed: 114.7min finished\n"
     ]
    },
    {
     "name": "stdout",
     "output_type": "stream",
     "text": [
      "Computing k = 19...\n"
     ]
    },
    {
     "name": "stderr",
     "output_type": "stream",
     "text": [
      "[Parallel(n_jobs=120)]: Using backend LokyBackend with 120 concurrent workers.\n",
      "/home/mgrasso/miniconda3/envs/4.0/lib/python3.7/site-packages/joblib/externals/loky/process_executor.py:705: UserWarning: A worker stopped while some jobs were given to the executor. This can be caused by a too short worker timeout or by a memory leak.\n",
      "  \"timeout or by a memory leak.\", UserWarning\n",
      "[Parallel(n_jobs=120)]: Done  84 tasks      | elapsed: 20.5min\n",
      "[Parallel(n_jobs=120)]: Done 279 tasks      | elapsed: 30.4min\n",
      "[Parallel(n_jobs=120)]: Done 351 out of 420 | elapsed: 39.1min remaining:  7.7min\n",
      "[Parallel(n_jobs=120)]: Done 420 out of 420 | elapsed: 39.8min finished\n"
     ]
    },
    {
     "name": "stdout",
     "output_type": "stream",
     "text": [
      "Computing k = 20...\n"
     ]
    },
    {
     "name": "stderr",
     "output_type": "stream",
     "text": [
      "[Parallel(n_jobs=120)]: Using backend LokyBackend with 120 concurrent workers.\n",
      "[Parallel(n_jobs=120)]: Done  10 out of  42 | elapsed: 16.0min remaining: 51.1min\n",
      "[Parallel(n_jobs=120)]: Done  19 out of  42 | elapsed: 16.0min remaining: 19.4min\n",
      "[Parallel(n_jobs=120)]: Done  28 out of  42 | elapsed: 16.1min remaining:  8.1min\n",
      "[Parallel(n_jobs=120)]: Done  37 out of  42 | elapsed: 16.2min remaining:  2.2min\n",
      "[Parallel(n_jobs=120)]: Done  42 out of  42 | elapsed: 17.4min finished\n",
      "[Parallel(n_jobs=120)]: Using backend LokyBackend with 120 concurrent workers.\n"
     ]
    },
    {
     "name": "stdout",
     "output_type": "stream",
     "text": [
      "Computing k = 21...\n"
     ]
    },
    {
     "name": "stderr",
     "output_type": "stream",
     "text": [
      "[Parallel(n_jobs=120)]: Done   2 out of   2 | elapsed: 29.9min remaining:    0.0s\n",
      "[Parallel(n_jobs=120)]: Done   2 out of   2 | elapsed: 29.9min finished\n",
      "[Parallel(n_jobs=120)]: Using backend LokyBackend with 120 concurrent workers.\n"
     ]
    },
    {
     "name": "stdout",
     "output_type": "stream",
     "text": [
      "Computing k = 22...\n"
     ]
    },
    {
     "name": "stderr",
     "output_type": "stream",
     "text": [
      "[Parallel(n_jobs=120)]: Done   0 out of   0 | elapsed:   45.6s finished\n",
      "[Parallel(n_jobs=120)]: Using backend LokyBackend with 120 concurrent workers.\n"
     ]
    },
    {
     "name": "stdout",
     "output_type": "stream",
     "text": [
      "Computing k = 23...\n"
     ]
    },
    {
     "name": "stderr",
     "output_type": "stream",
     "text": [
      "[Parallel(n_jobs=120)]: Done   0 out of   0 | elapsed:   38.9s finished\n",
      "[Parallel(n_jobs=120)]: Using backend LokyBackend with 120 concurrent workers.\n"
     ]
    },
    {
     "name": "stdout",
     "output_type": "stream",
     "text": [
      "Computing k = 24...\n"
     ]
    },
    {
     "name": "stderr",
     "output_type": "stream",
     "text": [
      "[Parallel(n_jobs=120)]: Done   0 out of   0 | elapsed:   46.9s finished\n",
      "[Parallel(n_jobs=120)]: Using backend LokyBackend with 120 concurrent workers.\n"
     ]
    },
    {
     "name": "stdout",
     "output_type": "stream",
     "text": [
      "Computing k = 25...\n"
     ]
    },
    {
     "name": "stderr",
     "output_type": "stream",
     "text": [
      "[Parallel(n_jobs=120)]: Done   0 out of   0 | elapsed:   46.3s finished\n",
      "[Parallel(n_jobs=120)]: Using backend LokyBackend with 120 concurrent workers.\n"
     ]
    },
    {
     "name": "stdout",
     "output_type": "stream",
     "text": [
      "Computing k = 26...\n"
     ]
    },
    {
     "name": "stderr",
     "output_type": "stream",
     "text": [
      "[Parallel(n_jobs=120)]: Done   0 out of   0 | elapsed:   39.9s finished\n",
      "[Parallel(n_jobs=120)]: Using backend LokyBackend with 120 concurrent workers.\n"
     ]
    },
    {
     "name": "stdout",
     "output_type": "stream",
     "text": [
      "Computing k = 27...\n"
     ]
    },
    {
     "name": "stderr",
     "output_type": "stream",
     "text": [
      "[Parallel(n_jobs=120)]: Done   0 out of   0 | elapsed:   43.8s finished\n",
      "[Parallel(n_jobs=120)]: Using backend LokyBackend with 120 concurrent workers.\n"
     ]
    },
    {
     "name": "stdout",
     "output_type": "stream",
     "text": [
      "Computing k = 28...\n"
     ]
    },
    {
     "name": "stderr",
     "output_type": "stream",
     "text": [
      "[Parallel(n_jobs=120)]: Done   0 out of   0 | elapsed:   40.6s finished\n",
      "[Parallel(n_jobs=120)]: Using backend LokyBackend with 120 concurrent workers.\n"
     ]
    },
    {
     "name": "stdout",
     "output_type": "stream",
     "text": [
      "Computing k = 29...\n"
     ]
    },
    {
     "name": "stderr",
     "output_type": "stream",
     "text": [
      "[Parallel(n_jobs=120)]: Done   0 out of   0 | elapsed:   43.2s finished\n"
     ]
    }
   ],
   "source": [
    "for k in tqdm(range(2,len(ces)+1)):\n",
    "    print(f'Computing k = {k}...')\n",
    "    krels = list(pyphi.relations.relations(subsystem,ces,min_order=k,max_order=k,parallel=True,parallel_kwargs=dict(n_jobs=120,batch_size=10000,verbose=5)))\n",
    "    compress_relations(ces, krels, f'pickles/{net_name}_rels{k}_compressed.pkl')"
   ]
  },
  {
   "cell_type": "code",
   "execution_count": 12,
   "id": "766fc9d8",
   "metadata": {},
   "outputs": [],
   "source": [
    "import glob"
   ]
  },
  {
   "cell_type": "code",
   "execution_count": 28,
   "id": "d1a5fbc4",
   "metadata": {},
   "outputs": [],
   "source": [
    "crel_pickles = sorted(sorted(glob.glob('pickles/*')),key=len)"
   ]
  },
  {
   "cell_type": "code",
   "execution_count": 29,
   "id": "68217beb",
   "metadata": {},
   "outputs": [
    {
     "data": {
      "application/vnd.jupyter.widget-view+json": {
       "model_id": "f7cf757b3314456c9a2d678eaf59e0a9",
       "version_major": 2,
       "version_minor": 0
      },
      "text/plain": [
       "  0%|          | 0/29 [00:00<?, ?it/s]"
      ]
     },
     "metadata": {},
     "output_type": "display_data"
    }
   ],
   "source": [
    "crels = []\n",
    "for pkl in tqdm(crel_pickles):\n",
    "    k = utils.loadpkl(pkl)\n",
    "    crels.append(k)"
   ]
  },
  {
   "cell_type": "code",
   "execution_count": 105,
   "id": "0a52c5d2",
   "metadata": {},
   "outputs": [],
   "source": [
    "ys=[len(k) for k in crels]\n",
    "xs = ['k='+str(x) for x in range(2,len(ces)+1)]"
   ]
  },
  {
   "cell_type": "code",
   "execution_count": 120,
   "id": "18b685a9",
   "metadata": {},
   "outputs": [],
   "source": [
    "total = sum(ys)"
   ]
  },
  {
   "cell_type": "code",
   "execution_count": 122,
   "id": "7cebe87e",
   "metadata": {},
   "outputs": [
    {
     "data": {
      "application/vnd.plotly.v1+json": {
       "config": {
        "plotlyServerURL": "https://plotly.com"
       },
       "data": [
        {
         "text": [
          "336",
          "2245",
          "10494",
          "36862",
          "101080",
          "221526",
          "394310",
          "576484",
          "697436",
          "701065",
          "586040",
          "406420",
          "232440",
          "108512",
          "40697",
          "11970",
          "2660",
          "420",
          "42",
          "2",
          "0",
          "0",
          "0",
          "0",
          "0",
          "0",
          "0",
          "0",
          "0"
         ],
         "textangle": 0,
         "textposition": "auto",
         "type": "bar",
         "x": [
          "k=2",
          "k=3",
          "k=4",
          "k=5",
          "k=6",
          "k=7",
          "k=8",
          "k=9",
          "k=10",
          "k=11",
          "k=12",
          "k=13",
          "k=14",
          "k=15",
          "k=16",
          "k=17",
          "k=18",
          "k=19",
          "k=20",
          "k=21",
          "k=22",
          "k=23",
          "k=24",
          "k=25",
          "k=26",
          "k=27",
          "k=28",
          "k=29",
          "k=30"
         ],
         "y": [
          336,
          2245,
          10494,
          36862,
          101080,
          221526,
          394310,
          576484,
          697436,
          701065,
          586040,
          406420,
          232440,
          108512,
          40697,
          11970,
          2660,
          420,
          42,
          2,
          0,
          0,
          0,
          0,
          0,
          0,
          0,
          0,
          0
         ]
        }
       ],
       "layout": {
        "height": 400,
        "template": {
         "data": {
          "bar": [
           {
            "error_x": {
             "color": "#2a3f5f"
            },
            "error_y": {
             "color": "#2a3f5f"
            },
            "marker": {
             "line": {
              "color": "#E5ECF6",
              "width": 0.5
             },
             "pattern": {
              "fillmode": "overlay",
              "size": 10,
              "solidity": 0.2
             }
            },
            "type": "bar"
           }
          ],
          "barpolar": [
           {
            "marker": {
             "line": {
              "color": "#E5ECF6",
              "width": 0.5
             },
             "pattern": {
              "fillmode": "overlay",
              "size": 10,
              "solidity": 0.2
             }
            },
            "type": "barpolar"
           }
          ],
          "carpet": [
           {
            "aaxis": {
             "endlinecolor": "#2a3f5f",
             "gridcolor": "white",
             "linecolor": "white",
             "minorgridcolor": "white",
             "startlinecolor": "#2a3f5f"
            },
            "baxis": {
             "endlinecolor": "#2a3f5f",
             "gridcolor": "white",
             "linecolor": "white",
             "minorgridcolor": "white",
             "startlinecolor": "#2a3f5f"
            },
            "type": "carpet"
           }
          ],
          "choropleth": [
           {
            "colorbar": {
             "outlinewidth": 0,
             "ticks": ""
            },
            "type": "choropleth"
           }
          ],
          "contour": [
           {
            "colorbar": {
             "outlinewidth": 0,
             "ticks": ""
            },
            "colorscale": [
             [
              0,
              "#0d0887"
             ],
             [
              0.1111111111111111,
              "#46039f"
             ],
             [
              0.2222222222222222,
              "#7201a8"
             ],
             [
              0.3333333333333333,
              "#9c179e"
             ],
             [
              0.4444444444444444,
              "#bd3786"
             ],
             [
              0.5555555555555556,
              "#d8576b"
             ],
             [
              0.6666666666666666,
              "#ed7953"
             ],
             [
              0.7777777777777778,
              "#fb9f3a"
             ],
             [
              0.8888888888888888,
              "#fdca26"
             ],
             [
              1,
              "#f0f921"
             ]
            ],
            "type": "contour"
           }
          ],
          "contourcarpet": [
           {
            "colorbar": {
             "outlinewidth": 0,
             "ticks": ""
            },
            "type": "contourcarpet"
           }
          ],
          "heatmap": [
           {
            "colorbar": {
             "outlinewidth": 0,
             "ticks": ""
            },
            "colorscale": [
             [
              0,
              "#0d0887"
             ],
             [
              0.1111111111111111,
              "#46039f"
             ],
             [
              0.2222222222222222,
              "#7201a8"
             ],
             [
              0.3333333333333333,
              "#9c179e"
             ],
             [
              0.4444444444444444,
              "#bd3786"
             ],
             [
              0.5555555555555556,
              "#d8576b"
             ],
             [
              0.6666666666666666,
              "#ed7953"
             ],
             [
              0.7777777777777778,
              "#fb9f3a"
             ],
             [
              0.8888888888888888,
              "#fdca26"
             ],
             [
              1,
              "#f0f921"
             ]
            ],
            "type": "heatmap"
           }
          ],
          "heatmapgl": [
           {
            "colorbar": {
             "outlinewidth": 0,
             "ticks": ""
            },
            "colorscale": [
             [
              0,
              "#0d0887"
             ],
             [
              0.1111111111111111,
              "#46039f"
             ],
             [
              0.2222222222222222,
              "#7201a8"
             ],
             [
              0.3333333333333333,
              "#9c179e"
             ],
             [
              0.4444444444444444,
              "#bd3786"
             ],
             [
              0.5555555555555556,
              "#d8576b"
             ],
             [
              0.6666666666666666,
              "#ed7953"
             ],
             [
              0.7777777777777778,
              "#fb9f3a"
             ],
             [
              0.8888888888888888,
              "#fdca26"
             ],
             [
              1,
              "#f0f921"
             ]
            ],
            "type": "heatmapgl"
           }
          ],
          "histogram": [
           {
            "marker": {
             "pattern": {
              "fillmode": "overlay",
              "size": 10,
              "solidity": 0.2
             }
            },
            "type": "histogram"
           }
          ],
          "histogram2d": [
           {
            "colorbar": {
             "outlinewidth": 0,
             "ticks": ""
            },
            "colorscale": [
             [
              0,
              "#0d0887"
             ],
             [
              0.1111111111111111,
              "#46039f"
             ],
             [
              0.2222222222222222,
              "#7201a8"
             ],
             [
              0.3333333333333333,
              "#9c179e"
             ],
             [
              0.4444444444444444,
              "#bd3786"
             ],
             [
              0.5555555555555556,
              "#d8576b"
             ],
             [
              0.6666666666666666,
              "#ed7953"
             ],
             [
              0.7777777777777778,
              "#fb9f3a"
             ],
             [
              0.8888888888888888,
              "#fdca26"
             ],
             [
              1,
              "#f0f921"
             ]
            ],
            "type": "histogram2d"
           }
          ],
          "histogram2dcontour": [
           {
            "colorbar": {
             "outlinewidth": 0,
             "ticks": ""
            },
            "colorscale": [
             [
              0,
              "#0d0887"
             ],
             [
              0.1111111111111111,
              "#46039f"
             ],
             [
              0.2222222222222222,
              "#7201a8"
             ],
             [
              0.3333333333333333,
              "#9c179e"
             ],
             [
              0.4444444444444444,
              "#bd3786"
             ],
             [
              0.5555555555555556,
              "#d8576b"
             ],
             [
              0.6666666666666666,
              "#ed7953"
             ],
             [
              0.7777777777777778,
              "#fb9f3a"
             ],
             [
              0.8888888888888888,
              "#fdca26"
             ],
             [
              1,
              "#f0f921"
             ]
            ],
            "type": "histogram2dcontour"
           }
          ],
          "mesh3d": [
           {
            "colorbar": {
             "outlinewidth": 0,
             "ticks": ""
            },
            "type": "mesh3d"
           }
          ],
          "parcoords": [
           {
            "line": {
             "colorbar": {
              "outlinewidth": 0,
              "ticks": ""
             }
            },
            "type": "parcoords"
           }
          ],
          "pie": [
           {
            "automargin": true,
            "type": "pie"
           }
          ],
          "scatter": [
           {
            "marker": {
             "colorbar": {
              "outlinewidth": 0,
              "ticks": ""
             }
            },
            "type": "scatter"
           }
          ],
          "scatter3d": [
           {
            "line": {
             "colorbar": {
              "outlinewidth": 0,
              "ticks": ""
             }
            },
            "marker": {
             "colorbar": {
              "outlinewidth": 0,
              "ticks": ""
             }
            },
            "type": "scatter3d"
           }
          ],
          "scattercarpet": [
           {
            "marker": {
             "colorbar": {
              "outlinewidth": 0,
              "ticks": ""
             }
            },
            "type": "scattercarpet"
           }
          ],
          "scattergeo": [
           {
            "marker": {
             "colorbar": {
              "outlinewidth": 0,
              "ticks": ""
             }
            },
            "type": "scattergeo"
           }
          ],
          "scattergl": [
           {
            "marker": {
             "colorbar": {
              "outlinewidth": 0,
              "ticks": ""
             }
            },
            "type": "scattergl"
           }
          ],
          "scattermapbox": [
           {
            "marker": {
             "colorbar": {
              "outlinewidth": 0,
              "ticks": ""
             }
            },
            "type": "scattermapbox"
           }
          ],
          "scatterpolar": [
           {
            "marker": {
             "colorbar": {
              "outlinewidth": 0,
              "ticks": ""
             }
            },
            "type": "scatterpolar"
           }
          ],
          "scatterpolargl": [
           {
            "marker": {
             "colorbar": {
              "outlinewidth": 0,
              "ticks": ""
             }
            },
            "type": "scatterpolargl"
           }
          ],
          "scatterternary": [
           {
            "marker": {
             "colorbar": {
              "outlinewidth": 0,
              "ticks": ""
             }
            },
            "type": "scatterternary"
           }
          ],
          "surface": [
           {
            "colorbar": {
             "outlinewidth": 0,
             "ticks": ""
            },
            "colorscale": [
             [
              0,
              "#0d0887"
             ],
             [
              0.1111111111111111,
              "#46039f"
             ],
             [
              0.2222222222222222,
              "#7201a8"
             ],
             [
              0.3333333333333333,
              "#9c179e"
             ],
             [
              0.4444444444444444,
              "#bd3786"
             ],
             [
              0.5555555555555556,
              "#d8576b"
             ],
             [
              0.6666666666666666,
              "#ed7953"
             ],
             [
              0.7777777777777778,
              "#fb9f3a"
             ],
             [
              0.8888888888888888,
              "#fdca26"
             ],
             [
              1,
              "#f0f921"
             ]
            ],
            "type": "surface"
           }
          ],
          "table": [
           {
            "cells": {
             "fill": {
              "color": "#EBF0F8"
             },
             "line": {
              "color": "white"
             }
            },
            "header": {
             "fill": {
              "color": "#C8D4E3"
             },
             "line": {
              "color": "white"
             }
            },
            "type": "table"
           }
          ]
         },
         "layout": {
          "annotationdefaults": {
           "arrowcolor": "#2a3f5f",
           "arrowhead": 0,
           "arrowwidth": 1
          },
          "autotypenumbers": "strict",
          "coloraxis": {
           "colorbar": {
            "outlinewidth": 0,
            "ticks": ""
           }
          },
          "colorscale": {
           "diverging": [
            [
             0,
             "#8e0152"
            ],
            [
             0.1,
             "#c51b7d"
            ],
            [
             0.2,
             "#de77ae"
            ],
            [
             0.3,
             "#f1b6da"
            ],
            [
             0.4,
             "#fde0ef"
            ],
            [
             0.5,
             "#f7f7f7"
            ],
            [
             0.6,
             "#e6f5d0"
            ],
            [
             0.7,
             "#b8e186"
            ],
            [
             0.8,
             "#7fbc41"
            ],
            [
             0.9,
             "#4d9221"
            ],
            [
             1,
             "#276419"
            ]
           ],
           "sequential": [
            [
             0,
             "#0d0887"
            ],
            [
             0.1111111111111111,
             "#46039f"
            ],
            [
             0.2222222222222222,
             "#7201a8"
            ],
            [
             0.3333333333333333,
             "#9c179e"
            ],
            [
             0.4444444444444444,
             "#bd3786"
            ],
            [
             0.5555555555555556,
             "#d8576b"
            ],
            [
             0.6666666666666666,
             "#ed7953"
            ],
            [
             0.7777777777777778,
             "#fb9f3a"
            ],
            [
             0.8888888888888888,
             "#fdca26"
            ],
            [
             1,
             "#f0f921"
            ]
           ],
           "sequentialminus": [
            [
             0,
             "#0d0887"
            ],
            [
             0.1111111111111111,
             "#46039f"
            ],
            [
             0.2222222222222222,
             "#7201a8"
            ],
            [
             0.3333333333333333,
             "#9c179e"
            ],
            [
             0.4444444444444444,
             "#bd3786"
            ],
            [
             0.5555555555555556,
             "#d8576b"
            ],
            [
             0.6666666666666666,
             "#ed7953"
            ],
            [
             0.7777777777777778,
             "#fb9f3a"
            ],
            [
             0.8888888888888888,
             "#fdca26"
            ],
            [
             1,
             "#f0f921"
            ]
           ]
          },
          "colorway": [
           "#636efa",
           "#EF553B",
           "#00cc96",
           "#ab63fa",
           "#FFA15A",
           "#19d3f3",
           "#FF6692",
           "#B6E880",
           "#FF97FF",
           "#FECB52"
          ],
          "font": {
           "color": "#2a3f5f"
          },
          "geo": {
           "bgcolor": "white",
           "lakecolor": "white",
           "landcolor": "#E5ECF6",
           "showlakes": true,
           "showland": true,
           "subunitcolor": "white"
          },
          "hoverlabel": {
           "align": "left"
          },
          "hovermode": "closest",
          "mapbox": {
           "style": "light"
          },
          "paper_bgcolor": "white",
          "plot_bgcolor": "#E5ECF6",
          "polar": {
           "angularaxis": {
            "gridcolor": "white",
            "linecolor": "white",
            "ticks": ""
           },
           "bgcolor": "#E5ECF6",
           "radialaxis": {
            "gridcolor": "white",
            "linecolor": "white",
            "ticks": ""
           }
          },
          "scene": {
           "xaxis": {
            "backgroundcolor": "#E5ECF6",
            "gridcolor": "white",
            "gridwidth": 2,
            "linecolor": "white",
            "showbackground": true,
            "ticks": "",
            "zerolinecolor": "white"
           },
           "yaxis": {
            "backgroundcolor": "#E5ECF6",
            "gridcolor": "white",
            "gridwidth": 2,
            "linecolor": "white",
            "showbackground": true,
            "ticks": "",
            "zerolinecolor": "white"
           },
           "zaxis": {
            "backgroundcolor": "#E5ECF6",
            "gridcolor": "white",
            "gridwidth": 2,
            "linecolor": "white",
            "showbackground": true,
            "ticks": "",
            "zerolinecolor": "white"
           }
          },
          "shapedefaults": {
           "line": {
            "color": "#2a3f5f"
           }
          },
          "ternary": {
           "aaxis": {
            "gridcolor": "white",
            "linecolor": "white",
            "ticks": ""
           },
           "baxis": {
            "gridcolor": "white",
            "linecolor": "white",
            "ticks": ""
           },
           "bgcolor": "#E5ECF6",
           "caxis": {
            "gridcolor": "white",
            "linecolor": "white",
            "ticks": ""
           }
          },
          "title": {
           "x": 0.05
          },
          "xaxis": {
           "automargin": true,
           "gridcolor": "white",
           "linecolor": "white",
           "ticks": "",
           "title": {
            "standoff": 15
           },
           "zerolinecolor": "white",
           "zerolinewidth": 2
          },
          "yaxis": {
           "automargin": true,
           "gridcolor": "white",
           "linecolor": "white",
           "ticks": "",
           "title": {
            "standoff": 15
           },
           "zerolinecolor": "white",
           "zerolinewidth": 2
          }
         }
        },
        "title": {
         "text": "4-node non-toroidal space existing relations count (per degree k). Total relations = 4131041"
        },
        "width": 2000
       }
      },
      "text/html": [
       "<div>                            <div id=\"cf3cc81d-cbb0-46a2-9257-bfd9fdb9c708\" class=\"plotly-graph-div\" style=\"height:400px; width:2000px;\"></div>            <script type=\"text/javascript\">                require([\"plotly\"], function(Plotly) {                    window.PLOTLYENV=window.PLOTLYENV || {};                                    if (document.getElementById(\"cf3cc81d-cbb0-46a2-9257-bfd9fdb9c708\")) {                    Plotly.newPlot(                        \"cf3cc81d-cbb0-46a2-9257-bfd9fdb9c708\",                        [{\"text\":[\"336\",\"2245\",\"10494\",\"36862\",\"101080\",\"221526\",\"394310\",\"576484\",\"697436\",\"701065\",\"586040\",\"406420\",\"232440\",\"108512\",\"40697\",\"11970\",\"2660\",\"420\",\"42\",\"2\",\"0\",\"0\",\"0\",\"0\",\"0\",\"0\",\"0\",\"0\",\"0\"],\"textangle\":0,\"textposition\":\"auto\",\"type\":\"bar\",\"x\":[\"k=2\",\"k=3\",\"k=4\",\"k=5\",\"k=6\",\"k=7\",\"k=8\",\"k=9\",\"k=10\",\"k=11\",\"k=12\",\"k=13\",\"k=14\",\"k=15\",\"k=16\",\"k=17\",\"k=18\",\"k=19\",\"k=20\",\"k=21\",\"k=22\",\"k=23\",\"k=24\",\"k=25\",\"k=26\",\"k=27\",\"k=28\",\"k=29\",\"k=30\"],\"y\":[336,2245,10494,36862,101080,221526,394310,576484,697436,701065,586040,406420,232440,108512,40697,11970,2660,420,42,2,0,0,0,0,0,0,0,0,0]}],                        {\"height\":400,\"template\":{\"data\":{\"bar\":[{\"error_x\":{\"color\":\"#2a3f5f\"},\"error_y\":{\"color\":\"#2a3f5f\"},\"marker\":{\"line\":{\"color\":\"#E5ECF6\",\"width\":0.5},\"pattern\":{\"fillmode\":\"overlay\",\"size\":10,\"solidity\":0.2}},\"type\":\"bar\"}],\"barpolar\":[{\"marker\":{\"line\":{\"color\":\"#E5ECF6\",\"width\":0.5},\"pattern\":{\"fillmode\":\"overlay\",\"size\":10,\"solidity\":0.2}},\"type\":\"barpolar\"}],\"carpet\":[{\"aaxis\":{\"endlinecolor\":\"#2a3f5f\",\"gridcolor\":\"white\",\"linecolor\":\"white\",\"minorgridcolor\":\"white\",\"startlinecolor\":\"#2a3f5f\"},\"baxis\":{\"endlinecolor\":\"#2a3f5f\",\"gridcolor\":\"white\",\"linecolor\":\"white\",\"minorgridcolor\":\"white\",\"startlinecolor\":\"#2a3f5f\"},\"type\":\"carpet\"}],\"choropleth\":[{\"colorbar\":{\"outlinewidth\":0,\"ticks\":\"\"},\"type\":\"choropleth\"}],\"contour\":[{\"colorbar\":{\"outlinewidth\":0,\"ticks\":\"\"},\"colorscale\":[[0.0,\"#0d0887\"],[0.1111111111111111,\"#46039f\"],[0.2222222222222222,\"#7201a8\"],[0.3333333333333333,\"#9c179e\"],[0.4444444444444444,\"#bd3786\"],[0.5555555555555556,\"#d8576b\"],[0.6666666666666666,\"#ed7953\"],[0.7777777777777778,\"#fb9f3a\"],[0.8888888888888888,\"#fdca26\"],[1.0,\"#f0f921\"]],\"type\":\"contour\"}],\"contourcarpet\":[{\"colorbar\":{\"outlinewidth\":0,\"ticks\":\"\"},\"type\":\"contourcarpet\"}],\"heatmap\":[{\"colorbar\":{\"outlinewidth\":0,\"ticks\":\"\"},\"colorscale\":[[0.0,\"#0d0887\"],[0.1111111111111111,\"#46039f\"],[0.2222222222222222,\"#7201a8\"],[0.3333333333333333,\"#9c179e\"],[0.4444444444444444,\"#bd3786\"],[0.5555555555555556,\"#d8576b\"],[0.6666666666666666,\"#ed7953\"],[0.7777777777777778,\"#fb9f3a\"],[0.8888888888888888,\"#fdca26\"],[1.0,\"#f0f921\"]],\"type\":\"heatmap\"}],\"heatmapgl\":[{\"colorbar\":{\"outlinewidth\":0,\"ticks\":\"\"},\"colorscale\":[[0.0,\"#0d0887\"],[0.1111111111111111,\"#46039f\"],[0.2222222222222222,\"#7201a8\"],[0.3333333333333333,\"#9c179e\"],[0.4444444444444444,\"#bd3786\"],[0.5555555555555556,\"#d8576b\"],[0.6666666666666666,\"#ed7953\"],[0.7777777777777778,\"#fb9f3a\"],[0.8888888888888888,\"#fdca26\"],[1.0,\"#f0f921\"]],\"type\":\"heatmapgl\"}],\"histogram\":[{\"marker\":{\"pattern\":{\"fillmode\":\"overlay\",\"size\":10,\"solidity\":0.2}},\"type\":\"histogram\"}],\"histogram2d\":[{\"colorbar\":{\"outlinewidth\":0,\"ticks\":\"\"},\"colorscale\":[[0.0,\"#0d0887\"],[0.1111111111111111,\"#46039f\"],[0.2222222222222222,\"#7201a8\"],[0.3333333333333333,\"#9c179e\"],[0.4444444444444444,\"#bd3786\"],[0.5555555555555556,\"#d8576b\"],[0.6666666666666666,\"#ed7953\"],[0.7777777777777778,\"#fb9f3a\"],[0.8888888888888888,\"#fdca26\"],[1.0,\"#f0f921\"]],\"type\":\"histogram2d\"}],\"histogram2dcontour\":[{\"colorbar\":{\"outlinewidth\":0,\"ticks\":\"\"},\"colorscale\":[[0.0,\"#0d0887\"],[0.1111111111111111,\"#46039f\"],[0.2222222222222222,\"#7201a8\"],[0.3333333333333333,\"#9c179e\"],[0.4444444444444444,\"#bd3786\"],[0.5555555555555556,\"#d8576b\"],[0.6666666666666666,\"#ed7953\"],[0.7777777777777778,\"#fb9f3a\"],[0.8888888888888888,\"#fdca26\"],[1.0,\"#f0f921\"]],\"type\":\"histogram2dcontour\"}],\"mesh3d\":[{\"colorbar\":{\"outlinewidth\":0,\"ticks\":\"\"},\"type\":\"mesh3d\"}],\"parcoords\":[{\"line\":{\"colorbar\":{\"outlinewidth\":0,\"ticks\":\"\"}},\"type\":\"parcoords\"}],\"pie\":[{\"automargin\":true,\"type\":\"pie\"}],\"scatter\":[{\"marker\":{\"colorbar\":{\"outlinewidth\":0,\"ticks\":\"\"}},\"type\":\"scatter\"}],\"scatter3d\":[{\"line\":{\"colorbar\":{\"outlinewidth\":0,\"ticks\":\"\"}},\"marker\":{\"colorbar\":{\"outlinewidth\":0,\"ticks\":\"\"}},\"type\":\"scatter3d\"}],\"scattercarpet\":[{\"marker\":{\"colorbar\":{\"outlinewidth\":0,\"ticks\":\"\"}},\"type\":\"scattercarpet\"}],\"scattergeo\":[{\"marker\":{\"colorbar\":{\"outlinewidth\":0,\"ticks\":\"\"}},\"type\":\"scattergeo\"}],\"scattergl\":[{\"marker\":{\"colorbar\":{\"outlinewidth\":0,\"ticks\":\"\"}},\"type\":\"scattergl\"}],\"scattermapbox\":[{\"marker\":{\"colorbar\":{\"outlinewidth\":0,\"ticks\":\"\"}},\"type\":\"scattermapbox\"}],\"scatterpolar\":[{\"marker\":{\"colorbar\":{\"outlinewidth\":0,\"ticks\":\"\"}},\"type\":\"scatterpolar\"}],\"scatterpolargl\":[{\"marker\":{\"colorbar\":{\"outlinewidth\":0,\"ticks\":\"\"}},\"type\":\"scatterpolargl\"}],\"scatterternary\":[{\"marker\":{\"colorbar\":{\"outlinewidth\":0,\"ticks\":\"\"}},\"type\":\"scatterternary\"}],\"surface\":[{\"colorbar\":{\"outlinewidth\":0,\"ticks\":\"\"},\"colorscale\":[[0.0,\"#0d0887\"],[0.1111111111111111,\"#46039f\"],[0.2222222222222222,\"#7201a8\"],[0.3333333333333333,\"#9c179e\"],[0.4444444444444444,\"#bd3786\"],[0.5555555555555556,\"#d8576b\"],[0.6666666666666666,\"#ed7953\"],[0.7777777777777778,\"#fb9f3a\"],[0.8888888888888888,\"#fdca26\"],[1.0,\"#f0f921\"]],\"type\":\"surface\"}],\"table\":[{\"cells\":{\"fill\":{\"color\":\"#EBF0F8\"},\"line\":{\"color\":\"white\"}},\"header\":{\"fill\":{\"color\":\"#C8D4E3\"},\"line\":{\"color\":\"white\"}},\"type\":\"table\"}]},\"layout\":{\"annotationdefaults\":{\"arrowcolor\":\"#2a3f5f\",\"arrowhead\":0,\"arrowwidth\":1},\"autotypenumbers\":\"strict\",\"coloraxis\":{\"colorbar\":{\"outlinewidth\":0,\"ticks\":\"\"}},\"colorscale\":{\"diverging\":[[0,\"#8e0152\"],[0.1,\"#c51b7d\"],[0.2,\"#de77ae\"],[0.3,\"#f1b6da\"],[0.4,\"#fde0ef\"],[0.5,\"#f7f7f7\"],[0.6,\"#e6f5d0\"],[0.7,\"#b8e186\"],[0.8,\"#7fbc41\"],[0.9,\"#4d9221\"],[1,\"#276419\"]],\"sequential\":[[0.0,\"#0d0887\"],[0.1111111111111111,\"#46039f\"],[0.2222222222222222,\"#7201a8\"],[0.3333333333333333,\"#9c179e\"],[0.4444444444444444,\"#bd3786\"],[0.5555555555555556,\"#d8576b\"],[0.6666666666666666,\"#ed7953\"],[0.7777777777777778,\"#fb9f3a\"],[0.8888888888888888,\"#fdca26\"],[1.0,\"#f0f921\"]],\"sequentialminus\":[[0.0,\"#0d0887\"],[0.1111111111111111,\"#46039f\"],[0.2222222222222222,\"#7201a8\"],[0.3333333333333333,\"#9c179e\"],[0.4444444444444444,\"#bd3786\"],[0.5555555555555556,\"#d8576b\"],[0.6666666666666666,\"#ed7953\"],[0.7777777777777778,\"#fb9f3a\"],[0.8888888888888888,\"#fdca26\"],[1.0,\"#f0f921\"]]},\"colorway\":[\"#636efa\",\"#EF553B\",\"#00cc96\",\"#ab63fa\",\"#FFA15A\",\"#19d3f3\",\"#FF6692\",\"#B6E880\",\"#FF97FF\",\"#FECB52\"],\"font\":{\"color\":\"#2a3f5f\"},\"geo\":{\"bgcolor\":\"white\",\"lakecolor\":\"white\",\"landcolor\":\"#E5ECF6\",\"showlakes\":true,\"showland\":true,\"subunitcolor\":\"white\"},\"hoverlabel\":{\"align\":\"left\"},\"hovermode\":\"closest\",\"mapbox\":{\"style\":\"light\"},\"paper_bgcolor\":\"white\",\"plot_bgcolor\":\"#E5ECF6\",\"polar\":{\"angularaxis\":{\"gridcolor\":\"white\",\"linecolor\":\"white\",\"ticks\":\"\"},\"bgcolor\":\"#E5ECF6\",\"radialaxis\":{\"gridcolor\":\"white\",\"linecolor\":\"white\",\"ticks\":\"\"}},\"scene\":{\"xaxis\":{\"backgroundcolor\":\"#E5ECF6\",\"gridcolor\":\"white\",\"gridwidth\":2,\"linecolor\":\"white\",\"showbackground\":true,\"ticks\":\"\",\"zerolinecolor\":\"white\"},\"yaxis\":{\"backgroundcolor\":\"#E5ECF6\",\"gridcolor\":\"white\",\"gridwidth\":2,\"linecolor\":\"white\",\"showbackground\":true,\"ticks\":\"\",\"zerolinecolor\":\"white\"},\"zaxis\":{\"backgroundcolor\":\"#E5ECF6\",\"gridcolor\":\"white\",\"gridwidth\":2,\"linecolor\":\"white\",\"showbackground\":true,\"ticks\":\"\",\"zerolinecolor\":\"white\"}},\"shapedefaults\":{\"line\":{\"color\":\"#2a3f5f\"}},\"ternary\":{\"aaxis\":{\"gridcolor\":\"white\",\"linecolor\":\"white\",\"ticks\":\"\"},\"baxis\":{\"gridcolor\":\"white\",\"linecolor\":\"white\",\"ticks\":\"\"},\"bgcolor\":\"#E5ECF6\",\"caxis\":{\"gridcolor\":\"white\",\"linecolor\":\"white\",\"ticks\":\"\"}},\"title\":{\"x\":0.05},\"xaxis\":{\"automargin\":true,\"gridcolor\":\"white\",\"linecolor\":\"white\",\"ticks\":\"\",\"title\":{\"standoff\":15},\"zerolinecolor\":\"white\",\"zerolinewidth\":2},\"yaxis\":{\"automargin\":true,\"gridcolor\":\"white\",\"linecolor\":\"white\",\"ticks\":\"\",\"title\":{\"standoff\":15},\"zerolinecolor\":\"white\",\"zerolinewidth\":2}}},\"title\":{\"text\":\"4-node non-toroidal space existing relations count (per degree k). Total relations = 4131041\"},\"width\":2000},                        {\"responsive\": true}                    ).then(function(){\n",
       "                            \n",
       "var gd = document.getElementById('cf3cc81d-cbb0-46a2-9257-bfd9fdb9c708');\n",
       "var x = new MutationObserver(function (mutations, observer) {{\n",
       "        var display = window.getComputedStyle(gd).display;\n",
       "        if (!display || display === 'none') {{\n",
       "            console.log([gd, 'removed!']);\n",
       "            Plotly.purge(gd);\n",
       "            observer.disconnect();\n",
       "        }}\n",
       "}});\n",
       "\n",
       "// Listen for the removal of the full notebook cells\n",
       "var notebookContainer = gd.closest('#notebook-container');\n",
       "if (notebookContainer) {{\n",
       "    x.observe(notebookContainer, {childList: true});\n",
       "}}\n",
       "\n",
       "// Listen for the clearing of the current output cell\n",
       "var outputEl = gd.closest('.output');\n",
       "if (outputEl) {{\n",
       "    x.observe(outputEl, {childList: true});\n",
       "}}\n",
       "\n",
       "                        })                };                });            </script>        </div>"
      ]
     },
     "metadata": {},
     "output_type": "display_data"
    }
   ],
   "source": [
    "import plotly.graph_objects as go\n",
    "\n",
    "fig = go.Figure(\n",
    "    [\n",
    "        go.Bar(\n",
    "            x=xs,\n",
    "            y=ys,\n",
    "            text=ys,\n",
    "            textposition=\"auto\",\n",
    "            textangle=0,\n",
    "        )\n",
    "    ]\n",
    ")\n",
    "fig.update_layout(title_text=f'4-node non-toroidal space existing relations count (per degree k). Total relations = {total}',width=2000,height=400)\n",
    "fig.show()"
   ]
  },
  {
   "cell_type": "code",
   "execution_count": 117,
   "id": "b76d083c",
   "metadata": {},
   "outputs": [],
   "source": [
    "fig.write_image('space_rels_count.png')"
   ]
  },
  {
   "cell_type": "code",
   "execution_count": null,
   "id": "c920b181",
   "metadata": {},
   "outputs": [],
   "source": [
    "r=crels[0][0]"
   ]
  },
  {
   "cell_type": "code",
   "execution_count": 124,
   "id": "64a320ad",
   "metadata": {},
   "outputs": [
    {
     "data": {
      "text/plain": [
       "[[25, 4],\n",
       " frozenset({2}),\n",
       " 0.5824214947027485,\n",
       " [[[], []], [[25], []], [[4], [2]]]]"
      ]
     },
     "execution_count": 124,
     "metadata": {},
     "output_type": "execute_result"
    }
   ],
   "source": [
    "r"
   ]
  },
  {
   "cell_type": "code",
   "execution_count": null,
   "id": "6ed7d972",
   "metadata": {},
   "outputs": [],
   "source": [
    "pyphi.partition"
   ]
  },
  {
   "cell_type": "code",
   "execution_count": null,
   "id": "e4333061",
   "metadata": {},
   "outputs": [],
   "source": [
    "relata = [ces[i] for i in r[0]]\n",
    "relata = pyphi.relations.Relata(subsystem,relata)\n",
    "purview = r[1]\n",
    "partition = \n",
    "phi, ties = data\n",
    "        relata = Relata.from_indirect_json(subsystem, ces, relata)\n",
    "        return cls(\n",
    "            relata,\n",
    "            purview,\n",
    "            phi,\n",
    "            RelationPartition.from_indirect_json(\n",
    "                relata, partition, node_labels=subsystem.node_labels\n",
    "            ),\n",
    "            ties=set(map(frozenset, ties)),\n",
    "        )"
   ]
  },
  {
   "cell_type": "code",
   "execution_count": null,
   "id": "0ad4de74",
   "metadata": {
    "tags": []
   },
   "outputs": [],
   "source": [
    "relations = pyphi.relations.relations(subsystem,ces,parallel=True,max_order=3,parallel_kwargs=dict(verbose=5,n_jobs=-1))\n",
    "\n",
    "max_ces = max(\n",
    "    [\n",
    "        compute.filter_ces(subsystem, ces, compositional_state, max_relations_k=3, relations=relations)\n",
    "        for compositional_state in tqdm(all_compositional_states)\n",
    "    ],\n",
    "    key=lambda c: c[0][\"big phi\"],\n",
    ")"
   ]
  },
  {
   "cell_type": "code",
   "execution_count": null,
   "id": "b4effcdd-3a5e-4253-9682-a68f87881974",
   "metadata": {},
   "outputs": [],
   "source": [
    "# max_ces2 = max(\n",
    "#     [\n",
    "#         compute.filter_ces(subsystem, ces, compositional_state, max_relations_k=3, relations=[])\n",
    "#         for compositional_state in tqdm(all_compositional_states)\n",
    "#     ],\n",
    "    \n",
    "#     key=lambda c: c[0][\"big phi\"],\n",
    "# )"
   ]
  },
  {
   "cell_type": "code",
   "execution_count": null,
   "id": "d5ae069e",
   "metadata": {},
   "outputs": [],
   "source": []
  },
  {
   "cell_type": "code",
   "execution_count": null,
   "id": "41ce327d",
   "metadata": {},
   "outputs": [],
   "source": [
    "utils.sepces2df(max_ces[0]['ces'],subsystem)"
   ]
  },
  {
   "cell_type": "code",
   "execution_count": null,
   "id": "f6648123",
   "metadata": {},
   "outputs": [],
   "source": [
    "max_ces[0]['MIP']"
   ]
  },
  {
   "cell_type": "code",
   "execution_count": null,
   "id": "a2b35760-bfb4-4d1d-9ed1-8675947a683e",
   "metadata": {},
   "outputs": [],
   "source": [
    "# utils.sepces2df(ces,subsystem)"
   ]
  },
  {
   "cell_type": "code",
   "execution_count": null,
   "id": "2dd6ffb8-1514-42b9-a6c5-e61f08ee2596",
   "metadata": {},
   "outputs": [],
   "source": [
    "\n",
    "fig = viz.plot_ces(subsystem,max_ces[0]['ces'],max_ces[0]['relations'],network_name='figures/space_example',surface_opacity=1.0,)"
   ]
  },
  {
   "cell_type": "markdown",
   "id": "041e0b9b",
   "metadata": {
    "heading_collapsed": true
   },
   "source": [
    "# 4 nodes toroidal"
   ]
  },
  {
   "cell_type": "code",
   "execution_count": null,
   "id": "06c38dee",
   "metadata": {
    "hidden": true
   },
   "outputs": [],
   "source": [
    "# ch3 system creation\n",
    "net_name = \"space_4\"\n",
    "\n",
    "th = 1 / 4\n",
    "exp = 5\n",
    "\n",
    "s = 0.8\n",
    "l = 0.25\n",
    "\n",
    "weights = np.array(\n",
    "    [\n",
    "        [s, l, 0, l],  # A\n",
    "        [l, s, l, 0],  # B\n",
    "        [0, l, s, l],  # C\n",
    "        [l, 0, l, s],  # D\n",
    "        #A, B, C, D,\n",
    "    ]\n",
    ")\n",
    "\n",
    "# weights += np.random.random((6,6))/100\n",
    "# weights = np.abs(weights)\n",
    "\n",
    "node_labels = [\"A\", \"B\", \"C\", \"D\"]\n",
    "mech_func = [f for f in \"ssss\"]\n",
    "\n",
    "network = ng.get_net(\n",
    "    mech_func,\n",
    "    weights,\n",
    "    exp=exp,\n",
    "    th=th,\n",
    "    mu=mu,\n",
    "    si=si,\n",
    "    l=ll,\n",
    "    k=kk,\n",
    "    x0=x0,\n",
    "    node_labels=node_labels,\n",
    "    network_name=net_name,\n",
    "    pickle_network=True,\n",
    ")\n",
    "\n",
    "state = (0, 0, 0, 0)\n",
    "subsystem = pyphi.Subsystem(network, state)"
   ]
  },
  {
   "cell_type": "code",
   "execution_count": null,
   "id": "ab0d39be",
   "metadata": {
    "hidden": true
   },
   "outputs": [],
   "source": [
    "ces = utils.flatten([[d.cause,d.effect] for d in pyphi.compute.ces(subsystem,parallel=True)])\n",
    "all_compositional_states = compute.get_all_compositional_states(ces)\n",
    "print('there are {} possible compositional states'.format(len(all_compositional_states)))"
   ]
  },
  {
   "cell_type": "code",
   "execution_count": null,
   "id": "75b9b1a7",
   "metadata": {
    "hidden": true
   },
   "outputs": [],
   "source": [
    "max_ces = max(\n",
    "    [\n",
    "        compute.filter_ces_parallel(subsystem, ces, compositional_state, max_relations_k=3, n_jobs=200)\n",
    "        for compositional_state in tqdm(all_compositional_states)\n",
    "    ],\n",
    "    key=lambda c: c[\"big phi\"],\n",
    ")"
   ]
  },
  {
   "cell_type": "code",
   "execution_count": null,
   "id": "851303b6",
   "metadata": {
    "hidden": true
   },
   "outputs": [],
   "source": [
    "max_ces['big phi']"
   ]
  },
  {
   "cell_type": "code",
   "execution_count": null,
   "id": "78b769c4",
   "metadata": {
    "hidden": true
   },
   "outputs": [],
   "source": [
    "utils.sepces2df(max_ces['ces'],subsystem)"
   ]
  },
  {
   "cell_type": "code",
   "execution_count": null,
   "id": "0f484b84",
   "metadata": {
    "hidden": true
   },
   "outputs": [],
   "source": [
    "max_ces['MIP']"
   ]
  },
  {
   "cell_type": "code",
   "execution_count": null,
   "id": "8950b558",
   "metadata": {
    "hidden": true
   },
   "outputs": [],
   "source": [
    "\n",
    "fig = viz.plot_ces(subsystem,max_ces['ces'],max_ces['relations'],network_name='figures/space',surface_opacity=0.7,)"
   ]
  },
  {
   "cell_type": "markdown",
   "id": "a92988d4",
   "metadata": {},
   "source": [
    "# 5 nodes linear"
   ]
  },
  {
   "cell_type": "code",
   "execution_count": null,
   "id": "043dedd1",
   "metadata": {},
   "outputs": [],
   "source": [
    "# ch3 system creation\n",
    "net_name = \"space_5\"\n",
    "\n",
    "th = 1 / 4\n",
    "exp = 5\n",
    "\n",
    "s = 0.8\n",
    "l = 0.25\n",
    "f = 0.06\n",
    "g = 0.01\n",
    "\n",
    "weights = np.array(\n",
    "    [\n",
    "        [s, l, f, g, 0],  # A\n",
    "        [l, s, l, f, g],  # B\n",
    "        [f, l, s, l, f],  # C\n",
    "        [g, f, l, s, l],  # D\n",
    "        [0, g, f, l, s],  # E\n",
    "        #A, B, C, D, E\n",
    "    ]\n",
    ")\n",
    "\n",
    "# weights += np.random.random((6,6))/100\n",
    "# weights = np.abs(weights)\n",
    "\n",
    "node_labels = [\"A\", \"B\", \"C\", \"D\", \"E\"]\n",
    "mech_func = [f for f in \"sssss\"]\n",
    "\n",
    "network = ng.get_net(\n",
    "    mech_func,\n",
    "    weights,\n",
    "    exp=exp,\n",
    "    th=th,\n",
    "    node_labels=node_labels,\n",
    "    network_name=net_name,\n",
    "    pickle_network=True,\n",
    ")\n",
    "\n",
    "state = (0, 0, 0, 0, 0)\n",
    "subsystem = pyphi.Subsystem(network, state)"
   ]
  },
  {
   "cell_type": "code",
   "execution_count": null,
   "id": "0e105a01",
   "metadata": {},
   "outputs": [],
   "source": [
    "ces = utils.flatten([[d.cause,d.effect] for d in pyphi.compute.ces(subsystem,parallel=True)])\n",
    "all_compositional_states = compute.get_all_compositional_states(ces)\n",
    "print('there are {} possible compositional states'.format(len(all_compositional_states)))"
   ]
  },
  {
   "cell_type": "code",
   "execution_count": null,
   "id": "75382cf7-6e17-4c40-867c-93de438a360e",
   "metadata": {
    "tags": []
   },
   "outputs": [],
   "source": [
    "relations = pyphi.relations.relations(subsystem,ces,parallel=True,max_order=3,parallel_kwargs=dict(verbose=5,n_jobs=-1))"
   ]
  },
  {
   "cell_type": "code",
   "execution_count": null,
   "id": "549ff7e4-79c3-4068-a090-b1102551df92",
   "metadata": {
    "tags": []
   },
   "outputs": [],
   "source": [
    "rels = compute.compute_relations(subsystem, ces, max_k=3, num_relations=False)"
   ]
  },
  {
   "cell_type": "code",
   "execution_count": null,
   "id": "557c11d3",
   "metadata": {
    "jupyter": {
     "outputs_hidden": true
    },
    "tags": []
   },
   "outputs": [],
   "source": [
    "max_ces = compute.filter_ces(subsystem, ces, compute.compositional_state_from_system_state(subsystem.state), max_relations_k=3, n_jobs=-1)"
   ]
  },
  {
   "cell_type": "code",
   "execution_count": null,
   "id": "5a5f0d4a",
   "metadata": {},
   "outputs": [],
   "source": [
    "max_ces['big phi']"
   ]
  },
  {
   "cell_type": "code",
   "execution_count": null,
   "id": "7694f6b7",
   "metadata": {},
   "outputs": [],
   "source": [
    "utils.sepces2df(max_ces['ces'],subsystem)"
   ]
  },
  {
   "cell_type": "code",
   "execution_count": null,
   "id": "85dc075f",
   "metadata": {},
   "outputs": [],
   "source": [
    "max_ces['MIP']"
   ]
  },
  {
   "cell_type": "code",
   "execution_count": null,
   "id": "d0eef092",
   "metadata": {},
   "outputs": [],
   "source": [
    "\n",
    "fig = viz.plot_ces(subsystem,max_ces['ces'],max_ces['relations'],network_name='figures/space',surface_opacity=0.7,)"
   ]
  },
  {
   "cell_type": "code",
   "execution_count": null,
   "id": "e712a1e8",
   "metadata": {},
   "outputs": [],
   "source": [
    "import itertools\n",
    "compositional_state = compute.compositional_state_from_system_state(subsystem.state)\n",
    "\n",
    "# first separate the ces into mices and define the directions\n",
    "c = pyphi.direction.Direction.CAUSE\n",
    "e = pyphi.direction.Direction.EFFECT\n",
    "\n",
    "# next we run through all the mices and append any mice that has a state corresponding to the compositional state\n",
    "mices_with_correct_state = dict()  # compositional_state.copy()\n",
    "for mice in ces:\n",
    "    if (\n",
    "        tuple(mice.specified_state[0])\n",
    "        == compositional_state[mice.direction][mice.purview]\n",
    "    ):\n",
    "        if not (mice.direction, mice.purview) in mices_with_correct_state.keys():\n",
    "            mices_with_correct_state[(mice.direction, mice.purview)] = [mice]\n",
    "        else:\n",
    "            mices_with_correct_state[(mice.direction, mice.purview)].append(mice)\n",
    "\n",
    "all_cess = list(itertools.product(*mices_with_correct_state.values()))"
   ]
  },
  {
   "cell_type": "code",
   "execution_count": null,
   "id": "c7fb99dd-0c2a-4de2-8d9d-ead16761e2aa",
   "metadata": {},
   "outputs": [],
   "source": [
    "len(all_cess)"
   ]
  },
  {
   "cell_type": "code",
   "execution_count": null,
   "id": "b1880bef-e18f-401d-b592-fe054420f57d",
   "metadata": {
    "jupyter": {
     "outputs_hidden": true
    },
    "tags": []
   },
   "outputs": [],
   "source": [
    "[len(l) for l in mices_with_correct_state.values()]"
   ]
  },
  {
   "cell_type": "code",
   "execution_count": null,
   "id": "65d3f1a6-3aed-408f-aa3d-bb3ff9270a8c",
   "metadata": {},
   "outputs": [],
   "source": [
    "import numpy as np\n",
    "import matplotlib.pyplot as plt"
   ]
  },
  {
   "cell_type": "code",
   "execution_count": null,
   "id": "25d12f76-2cc3-4ab5-b332-830ec256d8b1",
   "metadata": {},
   "outputs": [],
   "source": [
    "dists = np.array([[np.random.lognormal(m,s,100000) for m in [0,0.5,1,2]] for s in [0.1, 0.5, 1, 3]])\n",
    "        "
   ]
  },
  {
   "cell_type": "code",
   "execution_count": null,
   "id": "33de96ef-a25b-4de4-a832-9a5018fb218f",
   "metadata": {},
   "outputs": [],
   "source": [
    "bins=np.linspace(0,10,100)"
   ]
  },
  {
   "cell_type": "code",
   "execution_count": null,
   "id": "690a89e3-768f-4929-ac20-85552a6d58fe",
   "metadata": {},
   "outputs": [],
   "source": [
    "ms = dists.shape[0]\n",
    "ss = dists.shape[1]\n",
    "\n",
    "plt.figure(figsize=(15,15))\n",
    "for i in range(ms):\n",
    "    for j in range(ss):\n",
    "        plt.subplot(ss,ms,i+j*ms+1)\n",
    "        plt.hist(dists[i,j,:],bins=bins)\n",
    "        plt.xlim([0,10])"
   ]
  },
  {
   "cell_type": "code",
   "execution_count": null,
   "id": "d466d627-f860-4ab3-8b49-9f8bfe5ab232",
   "metadata": {},
   "outputs": [],
   "source": [
    "network_generator.NR(1, 5, 0.25)"
   ]
  },
  {
   "cell_type": "code",
   "execution_count": null,
   "id": "c5d9d306-62d0-4052-990d-5d966e5ec484",
   "metadata": {},
   "outputs": [],
   "source": [
    "exp = 5\n",
    "th = 0.25\n",
    "\n",
    "x = np.linspace(0,2,100)\n",
    "y = np.array([network_generator.NR(xx, exp, th) for xx in x])\n"
   ]
  },
  {
   "cell_type": "code",
   "execution_count": null,
   "id": "f689d532-4caa-4683-a3f4-7bd4461820e2",
   "metadata": {},
   "outputs": [],
   "source": [
    "plt.plot(x,y)"
   ]
  },
  {
   "cell_type": "code",
   "execution_count": null,
   "id": "28c71179-8d61-44a5-b676-b7e134646b15",
   "metadata": {},
   "outputs": [],
   "source": [
    "\n",
    "vals = [0.7, 0.25, 0.1]\n",
    "ps = [network_generator.NR(xx, exp, th) for xx in vals]"
   ]
  },
  {
   "cell_type": "code",
   "execution_count": null,
   "id": "d4ce94e0-a68d-409f-b142-2f40315da68c",
   "metadata": {},
   "outputs": [],
   "source": [
    "ps"
   ]
  },
  {
   "cell_type": "code",
   "execution_count": null,
   "id": "7daa29c6-fb58-4540-8cc2-d29053af702a",
   "metadata": {},
   "outputs": [],
   "source": []
  }
 ],
 "metadata": {
  "kernelspec": {
   "display_name": "Python 3",
   "language": "python",
   "name": "python3"
  },
  "language_info": {
   "codemirror_mode": {
    "name": "ipython",
    "version": 3
   },
   "file_extension": ".py",
   "mimetype": "text/x-python",
   "name": "python",
   "nbconvert_exporter": "python",
   "pygments_lexer": "ipython3",
   "version": "3.7.11"
  }
 },
 "nbformat": 4,
 "nbformat_minor": 5
}
