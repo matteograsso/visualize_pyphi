{
 "cells": [
  {
   "cell_type": "code",
   "execution_count": 1,
   "id": "b5743b11",
   "metadata": {},
   "outputs": [],
   "source": [
    "%load_ext autoreload\n",
    "%autoreload 2"
   ]
  },
  {
   "cell_type": "code",
   "execution_count": 2,
   "id": "1d3bd096-df28-427e-bc3a-671da949bf9b",
   "metadata": {},
   "outputs": [
    {
     "data": {
      "text/plain": [
       "('IIT_4.0_SMALL_PHI', 'maximal-state-first', 'TRI')"
      ]
     },
     "execution_count": 2,
     "metadata": {},
     "output_type": "execute_result"
    }
   ],
   "source": [
    "%load_ext blackcellmagic\n",
    "\n",
    "import pyphi\n",
    "from visualize_pyphi import utils\n",
    "from visualize_pyphi import network_generator\n",
    "from visualize_pyphi import fill_slots\n",
    "from visualize_pyphi import compute\n",
    "import string\n",
    "import pickle as pkl\n",
    "from tqdm.auto import tqdm\n",
    "import numpy as np\n",
    "import itertools\n",
    "import toolz\n",
    "import pandas as pd\n",
    "from pyphi.models.subsystem import FlatCauseEffectStructure as sep\n",
    "\n",
    "'''\n",
    "Check that the config parameters are correct (if not change pyphi_config.yml to match):\n",
    "REPERTOIRE_DISTANCE = 'maximal-state-first'\n",
    "IIT_VERSION = 'IIT_4.0_SMALL_PHI'\n",
    "PARTITION_TYPE = 'TRI'\n",
    "'''\n",
    "\n",
    "pyphi.config.REPERTOIRE_DISTANCE,pyphi.config.IIT_VERSION,pyphi.config.PARTITION_TYPE"
   ]
  },
  {
   "cell_type": "code",
   "execution_count": 15,
   "id": "a15465ee",
   "metadata": {},
   "outputs": [],
   "source": [
    "# Sigmoid formula is y = l / (l + np.e ** (-k * (x - x0)))\n",
    "# Sigmoid values\n",
    "l = 1\n",
    "x0 = .5\n",
    "\n",
    "# Weights decay\n",
    "decay_val_ranges = np.linspace(1, 0, 100)\n",
    "\n",
    "weight_vals = []\n",
    "for d in decay_val_ranges:\n",
    "    weights = [d ** n for n in range(0, 4)]\n",
    "    weight_vals.append(weights)"
   ]
  },
  {
   "cell_type": "code",
   "execution_count": 16,
   "id": "1c4a35b5",
   "metadata": {},
   "outputs": [],
   "source": [
    "# Variable parameters\n",
    "k=5\n",
    "decay_val = 60"
   ]
  },
  {
   "cell_type": "code",
   "execution_count": 17,
   "id": "49f76271",
   "metadata": {},
   "outputs": [
    {
     "data": {
      "application/vnd.jupyter.widget-view+json": {
       "model_id": "3c892fa40ce04e28a9a0fe9b93cf7169",
       "version_major": 2,
       "version_minor": 0
      },
      "text/plain": [
       "  0%|          | 0/8 [00:00<?, ?it/s]"
      ]
     },
     "metadata": {},
     "output_type": "display_data"
    },
    {
     "name": "stderr",
     "output_type": "stream",
     "text": [
      "                                                                                                                                                         \r"
     ]
    }
   ],
   "source": [
    "##3nodes\n",
    "weights3node = [\n",
    "    weight_vals[decay_val][0],\n",
    "    weight_vals[decay_val][1],\n",
    "    weight_vals[decay_val][1],\n",
    "]\n",
    "weights3node = weights3node / sum(weights3node)\n",
    "\n",
    "s = weights3node[0]\n",
    "m = weights3node[1]\n",
    "\n",
    "net_name3 = \"bigphi_3\"\n",
    "\n",
    "weights = np.array(\n",
    "    [\n",
    "        [s, m, m],  # A\n",
    "        [m, s, m],  # B\n",
    "        [m, m, s],  # C\n",
    "        # A, B, C\n",
    "    ]\n",
    ")\n",
    "\n",
    "node_labels = [string.ascii_uppercase[n] for n in range(len(weights))]\n",
    "mech_func = [\"l\" for n in range(len(weights))]  # \"l\" stands for LogFunc\n",
    "\n",
    "network = network_generator.get_net(\n",
    "    mech_func,\n",
    "    weights,\n",
    "    l=l,\n",
    "    k=k,\n",
    "    x0=x0,\n",
    "    node_labels=node_labels,\n",
    "    network_name=net_name3,\n",
    "    pickle_network=False,\n",
    ")\n",
    "\n",
    "state = (0, 0, 0)\n",
    "subsystem3 = pyphi.Subsystem(network, state)\n",
    "\n",
    "ces3 = pyphi.compute.ces(subsystem3, parallel=True)\n",
    "\n",
    "ces3 = fill_slots.resolve_conflicts_biggest_highest(subsystem3, ces3)\n",
    "\n",
    "supertexts3 = fill_slots.count_purview_element_states_in_ces(ces3, subsystem3)"
   ]
  },
  {
   "cell_type": "code",
   "execution_count": 18,
   "id": "a4c6816b",
   "metadata": {},
   "outputs": [
    {
     "data": {
      "application/vnd.jupyter.widget-view+json": {
       "model_id": "1ad1e5727c8a4aeca3e7665bc5887c1b",
       "version_major": 2,
       "version_minor": 0
      },
      "text/plain": [
       "  0%|          | 0/16 [00:00<?, ?it/s]"
      ]
     },
     "metadata": {},
     "output_type": "display_data"
    },
    {
     "name": "stderr",
     "output_type": "stream",
     "text": [
      "                                                                                                                                                         \r"
     ]
    }
   ],
   "source": [
    "##4nodes\n",
    "weights4node = [\n",
    "    weight_vals[decay_val][0],\n",
    "    weight_vals[decay_val][1],\n",
    "    weight_vals[decay_val][1],\n",
    "    weight_vals[decay_val][2],\n",
    "]\n",
    "weights4node = weights4node / sum(weights4node)\n",
    "\n",
    "s = weights4node[0]\n",
    "m = weights4node[1]\n",
    "w = weights4node[3]\n",
    "\n",
    "net_name4 = \"bigphi_4\"\n",
    "\n",
    "weights = np.array(\n",
    "    [\n",
    "        [s, m, w, m],  # A\n",
    "        [m, s, m, w],  # B\n",
    "        [w, m, s, m],  # C\n",
    "        [m, w, m, s],  # D\n",
    "        # A, B, C, D\n",
    "    ]\n",
    ")\n",
    "\n",
    "node_labels = [string.ascii_uppercase[n] for n in range(len(weights))]\n",
    "mech_func = [\"l\" for n in range(len(weights))]  # \"l\" stands for LogFunc\n",
    "\n",
    "network = network_generator.get_net(\n",
    "    mech_func,\n",
    "    weights,\n",
    "    l=l,\n",
    "    k=k,\n",
    "    x0=x0,\n",
    "    node_labels=node_labels,\n",
    "    network_name=net_name4,\n",
    "    pickle_network=False,\n",
    ")\n",
    "\n",
    "state = (0, 0, 0, 0)\n",
    "subsystem4 = pyphi.Subsystem(network, state)\n",
    "\n",
    "ces4 = pyphi.compute.ces(subsystem4, parallel=True)\n",
    "\n",
    "ces4 = fill_slots.resolve_conflicts_biggest_highest(subsystem4, ces4)\n",
    "\n",
    "supertexts4 = fill_slots.count_purview_element_states_in_ces(ces4, subsystem4)"
   ]
  },
  {
   "cell_type": "code",
   "execution_count": 19,
   "id": "b0ac3995",
   "metadata": {},
   "outputs": [
    {
     "data": {
      "application/vnd.jupyter.widget-view+json": {
       "model_id": "a546a85a790b448c82e0ca300e9c9b95",
       "version_major": 2,
       "version_minor": 0
      },
      "text/plain": [
       "  0%|          | 0/32 [00:00<?, ?it/s]"
      ]
     },
     "metadata": {},
     "output_type": "display_data"
    },
    {
     "name": "stderr",
     "output_type": "stream",
     "text": [
      "                                                                                                                                                         \r"
     ]
    }
   ],
   "source": [
    "### 5 nodes\n",
    "\n",
    "weights5node = [\n",
    "    weight_vals[decay_val][0],\n",
    "    weight_vals[decay_val][1],\n",
    "    weight_vals[decay_val][1],\n",
    "    weight_vals[decay_val][2],\n",
    "    weight_vals[decay_val][2],\n",
    "]\n",
    "weights5node = weights5node / sum(weights5node)\n",
    "\n",
    "s = weights5node[0]\n",
    "m = weights5node[1]\n",
    "w = weights5node[3]\n",
    "\n",
    "net_name5 = \"bigphi_5\"\n",
    "\n",
    "weights = np.array(\n",
    "    [\n",
    "        [s, m, w, w, m],  # A\n",
    "        [m, s, m, w, w],  # B\n",
    "        [w, m, s, m, w],  # C\n",
    "        [w, w, m, s, m],  # D\n",
    "        [m, w, w, m, s],  # E\n",
    "        # A, B, C, D, E\n",
    "    ]\n",
    ")\n",
    "\n",
    "node_labels = [string.ascii_uppercase[n] for n in range(len(weights))]\n",
    "mech_func = [\"l\" for n in range(len(weights))]  # \"l\" stands for LogFunc\n",
    "\n",
    "network = network_generator.get_net(\n",
    "    mech_func,\n",
    "    weights,\n",
    "    l=l,\n",
    "    k=k,\n",
    "    x0=x0,\n",
    "    node_labels=node_labels,\n",
    "    network_name=net_name5,\n",
    "    pickle_network=False,\n",
    ")\n",
    "\n",
    "state = (0, 0, 0, 0, 0)\n",
    "subsystem5 = pyphi.Subsystem(network, state)\n",
    "\n",
    "ces5 = pyphi.compute.ces(subsystem5, parallel=True)\n",
    "\n",
    "ces5 = fill_slots.resolve_conflicts_biggest_highest(subsystem5, ces5)\n",
    "\n",
    "supertexts5 = fill_slots.count_purview_element_states_in_ces(ces5, subsystem5)"
   ]
  },
  {
   "cell_type": "code",
   "execution_count": 20,
   "id": "f70d59b9",
   "metadata": {},
   "outputs": [],
   "source": [
    "# ### 6 nodes\n",
    "\n",
    "# weights6node = [\n",
    "#     weight_vals[decay_val][0],\n",
    "#     weight_vals[decay_val][1],\n",
    "#     weight_vals[decay_val][1],\n",
    "#     weight_vals[decay_val][2],\n",
    "#     weight_vals[decay_val][2],\n",
    "#     weight_vals[decay_val][3],\n",
    "# ]\n",
    "# weights6node = weights6node / sum(weights6node)\n",
    "\n",
    "# # s = strong, m = medium, w = weak\n",
    "# s = weights6node[0]\n",
    "# m = weights6node[1]\n",
    "# w = weights6node[3]\n",
    "# x = weights6node[5]\n",
    "\n",
    "# net_name6 = \"bigphi_6\"\n",
    "\n",
    "# # 4 nodes toroidal grid, each node has 1 strong (self-loop), 2 medium (nearest neighbors) and one weak (far neighbor)\n",
    "# weights = np.array(\n",
    "#     [\n",
    "#         [s, m, w, x, w, m],  # A\n",
    "#         [m, s, m, w, x, w],  # B\n",
    "#         [w, m, s, m, w, x],  # C\n",
    "#         [x, w, m, s, m, w],  # D\n",
    "#         [w, x, w, m, s, m],  # E\n",
    "#         [m, w, x, w, m, s],  # F\n",
    "#         # A, B, C, D, E, F\n",
    "#     ]\n",
    "# )\n",
    "\n",
    "# node_labels = [string.ascii_uppercase[n] for n in range(len(weights))]\n",
    "# mech_func = [\"l\" for n in range(len(weights))]  # \"l\" stands for LogFunc\n",
    "\n",
    "# network = network_generator.get_net(\n",
    "#     mech_func,\n",
    "#     weights,\n",
    "#     l=l,\n",
    "#     k=k,\n",
    "#     x0=x0,\n",
    "#     node_labels=node_labels,\n",
    "#     network_name=net_name6,\n",
    "#     pickle_network=False,\n",
    "# )\n",
    "\n",
    "# state = (0, 0, 0, 0, 0, 0)\n",
    "# subsystem6 = pyphi.Subsystem(network, state)\n",
    "\n",
    "# ces6 = pyphi.compute.ces(subsystem6, parallel=True)\n",
    "\n",
    "# ces6 = fill_slots.resolve_conflicts_biggest_highest(subsystem6, ces6)\n",
    "\n",
    "# supertexts6 = fill_slots.count_purview_element_states_in_ces(ces6, subsystem6)"
   ]
  },
  {
   "cell_type": "code",
   "execution_count": 21,
   "id": "5b30303f",
   "metadata": {},
   "outputs": [],
   "source": [
    "# ### 7 nodes\n",
    "\n",
    "# weights7node = [\n",
    "#     weight_vals[decay_val][0],\n",
    "#     weight_vals[decay_val][1],\n",
    "#     weight_vals[decay_val][1],\n",
    "#     weight_vals[decay_val][2],\n",
    "#     weight_vals[decay_val][2],\n",
    "#     weight_vals[decay_val][3],\n",
    "#     weight_vals[decay_val][3],\n",
    "# ]\n",
    "# weights7node = weights7node / sum(weights7node)\n",
    "\n",
    "# # s = strong, m = medium, w = weak\n",
    "# s = weights7node[0]\n",
    "# m = weights7node[1]\n",
    "# w = weights7node[3]\n",
    "# x = weights7node[5]\n",
    "\n",
    "# net_name7 = \"bigphi_7\"\n",
    "\n",
    "# # 4 nodes toroidal grid, each node has 1 strong (self-loop), 2 medium (nearest neighbors) and one weak (far neighbor)\n",
    "# weights = np.array(\n",
    "#     [\n",
    "#         [s, m, w, x, x, w, m],  # A\n",
    "#         [m, s, m, w, x, x, w],  # B\n",
    "#         [w, m, s, m, w, x, x],  # C\n",
    "#         [x, w, m, s, m, w, x],  # D\n",
    "#         [x, x, w, m, s, m, w],  # E\n",
    "#         [w, x, x, w, m, s, m],  # F\n",
    "#         [m, w, x, x, w, m, s],  # G\n",
    "#         # A, B, C, D, E, F, G\n",
    "#     ]\n",
    "# )\n",
    "\n",
    "# node_labels = [string.ascii_uppercase[n] for n in range(len(weights))]\n",
    "# mech_func = [\"l\" for n in range(len(weights))]  # \"l\" stands for LogFunc\n",
    "\n",
    "# network = network_generator.get_net(\n",
    "#     mech_func,\n",
    "#     weights,\n",
    "#     l=l,\n",
    "#     k=k,\n",
    "#     x0=x0,\n",
    "#     node_labels=node_labels,\n",
    "#     network_name=net_name7,\n",
    "#     pickle_network=False,\n",
    "# )\n",
    "\n",
    "# state = (0, 0, 0, 0, 0, 0, 0)\n",
    "# subsystem7 = pyphi.Subsystem(network, state)\n",
    "\n",
    "# ces7 = pyphi.compute.ces(subsystem7, parallel=True)\n",
    "\n",
    "# ces7 = fill_slots.resolve_conflicts_biggest_highest(subsystem7, ces7)\n",
    "\n",
    "# supertexts7 = fill_slots.count_purview_element_states_in_ces(ces7, subsystem7)"
   ]
  },
  {
   "cell_type": "code",
   "execution_count": 22,
   "id": "2e835a64",
   "metadata": {
    "scrolled": true
   },
   "outputs": [],
   "source": [
    "###Supertexts\n",
    "supertexts3 = [v[0] for v in supertexts3]\n",
    "supertexts4 = [v[0] for v in supertexts4]\n",
    "supertexts5 = [v[0] for v in supertexts5]\n",
    "# supertexts6 = [v[0] for v in supertexts6]\n",
    "# supertexts7 = [v[0] for v in supertexts7]\n",
    "subsystems = [subsystem3, subsystem4, subsystem5]#, subsystem6, subsystem7]\n",
    "supertexts = [supertexts3, supertexts4, supertexts5]#, supertexts6, supertexts7]\n",
    "\n",
    "phis = list(\n",
    "    np.round(\n",
    "        [\n",
    "            fill_slots.get_bigphi_supertext_approximation(\n",
    "                subsystems[i], supertexts[i]\n",
    "            )\n",
    "            for i in range(len(subsystems))\n",
    "        ],\n",
    "        2,\n",
    "    )\n",
    ")\n",
    "result = [\n",
    "    [k]\n",
    "    + [decay_val]\n",
    "    + phis\n",
    "    + [phis.index(max(phis)) + min([s.size for s in subsystems])]\n",
    "]"
   ]
  },
  {
   "cell_type": "code",
   "execution_count": 23,
   "id": "4688f11e",
   "metadata": {},
   "outputs": [
    {
     "name": "stdout",
     "output_type": "stream",
     "text": [
      " k  d  3-nodes  4-nodes  5-nodes  winner\n",
      " 5 60    6.670   36.000   13.400       4\n"
     ]
    }
   ],
   "source": [
    "pd.set_option('display.float_format', '{:.3f}'.format)\n",
    "pd.set_option('display.max_rows', 500)\n",
    "\n",
    "df = pd.DataFrame(result,columns=['k']+['d']+[f'{s.size}-nodes' for s in subsystems]+['winner'])\n",
    "print(df.to_string(index=False))"
   ]
  },
  {
   "cell_type": "code",
   "execution_count": null,
   "id": "6893f8e7",
   "metadata": {},
   "outputs": [],
   "source": []
  }
 ],
 "metadata": {
  "kernelspec": {
   "display_name": "Python 3",
   "language": "python",
   "name": "python3"
  },
  "language_info": {
   "codemirror_mode": {
    "name": "ipython",
    "version": 3
   },
   "file_extension": ".py",
   "mimetype": "text/x-python",
   "name": "python",
   "nbconvert_exporter": "python",
   "pygments_lexer": "ipython3",
   "version": "3.9.7"
  }
 },
 "nbformat": 4,
 "nbformat_minor": 5
}
