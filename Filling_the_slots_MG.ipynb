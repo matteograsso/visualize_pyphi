{
 "cells": [
  {
   "cell_type": "code",
   "execution_count": 1,
   "id": "1d3bd096-df28-427e-bc3a-671da949bf9b",
   "metadata": {},
   "outputs": [
    {
     "data": {
      "text/html": [
       "<style>.container { width:50% !important; }</style>"
      ],
      "text/plain": [
       "<IPython.core.display.HTML object>"
      ]
     },
     "metadata": {},
     "output_type": "display_data"
    },
    {
     "name": "stderr",
     "output_type": "stream",
     "text": [
      "/tmp/ipykernel_9854/819117497.py:20: DeprecationWarning: Importing display from IPython.core.display is deprecated since IPython 7.14, please import from IPython display\n",
      "  from IPython.core.display import display, HTML\n"
     ]
    },
    {
     "data": {
      "text/html": [
       "<style>.container { width:80% !important; }</style>"
      ],
      "text/plain": [
       "<IPython.core.display.HTML object>"
      ]
     },
     "metadata": {},
     "output_type": "display_data"
    }
   ],
   "source": [
    "import IPython.display as display\n",
    "from IPython.display import HTML\n",
    "display.display(HTML(\"<style>.container { width:50% !important; }</style>\"))\n",
    "\n",
    "%load_ext autoreload\n",
    "%autoreload 2\n",
    "%load_ext blackcellmagic\n",
    "%config Completer.use_jedi = False\n",
    "\n",
    "import pyphi\n",
    "from visualize_pyphi import *\n",
    "from visualize_pyphi import utils\n",
    "from visualize_pyphi.compute import *\n",
    "import pickle as pkl\n",
    "from tqdm.auto import tqdm\n",
    "import numpy as np\n",
    "import itertools\n",
    "import toolz\n",
    "from pyphi.models.subsystem import FlatCauseEffectStructure as sep\n",
    "from IPython.core.display import display, HTML\n",
    "display(HTML(\"<style>.container { width:80% !important; }</style>\"))\n",
    "import pandas as pd\n",
    "pd.set_option('display.max_rows', None)\n",
    "\n",
    "'''\n",
    "Check that the config parameters are correct (if not change pyphi_config.yml to match):\n",
    "REPERTOIRE_DISTANCE = 'maximal-state-first'\n",
    "IIT_VERSION = 'IIT_4.0_SMALL_PHI'\n",
    "PARTITION_TYPE = 'TRI'\n",
    "'''\n",
    "pyphi.config.REPERTOIRE_DISTANCE,pyphi.config.IIT_VERSION,pyphi.config.PARTITION_TYPE\n",
    "\n",
    "\n",
    "C = pyphi.Direction.CAUSE\n",
    "E = pyphi.Direction.EFFECT\n",
    "\n",
    "directions = [C,E]\n"
   ]
  },
  {
   "cell_type": "code",
   "execution_count": 148,
   "id": "0874b8ad",
   "metadata": {},
   "outputs": [],
   "source": [
    "import pyphi\n",
    "import toolz\n",
    "from pyphi.models.subsystem import FlatCauseEffectStructure as sep\n",
    "\n",
    "directions = [pyphi.Direction.CAUSE, pyphi.Direction.EFFECT]\n",
    "\n",
    "\n",
    "def get_all_miws(subsystem):\n",
    "    pset = list(pyphi.utils.powerset(subsystem.node_indices, nonempty=True))\n",
    "    mechanisms = pset\n",
    "    purviews = pset\n",
    "\n",
    "    all_miws = []\n",
    "\n",
    "    for mechanism in tqdm(mechanisms):\n",
    "        for direction in [CAUSE, EFFECT]:\n",
    "            candidate_mices = [\n",
    "                subsystem.find_mice(direction, mechanism, (purview,))\n",
    "                for purview in purviews\n",
    "            ]\n",
    "            # check if each mice is maximally irreducible within\n",
    "            candidate_mices_MIW = [\n",
    "                mice\n",
    "                for mice in candidate_mices\n",
    "                if mice.phi > 0\n",
    "                and not any(\n",
    "                    [\n",
    "                        all([unit in mice.purview for unit in mice2.purview])\n",
    "                        and mice2.phi > mice.phi\n",
    "                        for mice2 in candidate_mices\n",
    "                    ]\n",
    "                )\n",
    "            ]\n",
    "\n",
    "            all_miws.extend(candidate_mices_MIW)\n",
    "    return all_miws\n",
    "\n",
    "\n",
    "def separate_miws_for_direction(miws):\n",
    "    return [[m for m in miws if m.direction == d] for d in directions]\n",
    "\n",
    "\n",
    "def get_empty_purv_slots(subsystem, max_mices_with_winners=None):\n",
    "    slots = [list(pyphi.utils.powerset(subsystem.node_indices, nonempty=True))] * 2\n",
    "    if max_mices_with_winners:\n",
    "        slots = [\n",
    "            [slot for slot in slots[d] if slot not in [m.purview for m in direction]]\n",
    "            for d, direction in enumerate(max_mices_with_winners)\n",
    "        ]\n",
    "    return slots\n",
    "\n",
    "\n",
    "def get_mices_over_purview_slots(slots, miws, subsystem):\n",
    "    directions = [pyphi.Direction.CAUSE, pyphi.Direction.EFFECT]\n",
    "    return [\n",
    "        [\n",
    "            [\n",
    "                mice\n",
    "                for mice in miws[d]\n",
    "                if mice.purview == slot and mice.direction == direction\n",
    "            ]\n",
    "            for slot in slots[d]\n",
    "        ]\n",
    "        for d, direction in enumerate(directions)\n",
    "    ]\n",
    "\n",
    "\n",
    "def get_max_mices_over_purview_slots(mices_over_purview_slots):\n",
    "    return [\n",
    "        [max(mices_over_slot) for mices_over_slot in direction if mices_over_slot]\n",
    "        for direction in mices_over_purview_slots\n",
    "    ]\n",
    "\n",
    "\n",
    "def get_conflicts(max_mices_over_purview_slots, subsystem):\n",
    "    slots = list(pyphi.utils.powerset(subsystem.node_indices, nonempty=True))\n",
    "    directions = [pyphi.Direction.CAUSE, pyphi.Direction.EFFECT]\n",
    "    mices_with_same_mechanism = [\n",
    "        [\n",
    "            [\n",
    "                mice\n",
    "                for mice in max_mices_over_purview_slots[d]\n",
    "                if mice.mechanism == slot and mice.direction == direction\n",
    "            ]\n",
    "            for slot in slots\n",
    "        ]\n",
    "        for d, direction in enumerate(directions)\n",
    "    ]\n",
    "\n",
    "    conflicts = [\n",
    "        [mices for mices in direction if len(mices) > 1]\n",
    "        for direction in mices_with_same_mechanism\n",
    "    ]\n",
    "    return conflicts\n",
    "\n",
    "\n",
    "def get_winners(conflicts):\n",
    "    winners = []\n",
    "    for direction in conflicts:\n",
    "        direction_winners = []\n",
    "        for conflict in direction:\n",
    "            purv_length = [len(mice.purview) for mice in conflict]\n",
    "            if len(set(purv_length)) > 1:\n",
    "                max_length = max(purv_length)\n",
    "                winner = [mice for mice in conflict if len(mice.purview) == max_length]\n",
    "                direction_winners.extend(winner)\n",
    "            else:\n",
    "                winner = [mice for mice in conflict if mice.phi == max(conflict).phi]\n",
    "                #                 if len(winner)>1:\n",
    "                #                     winner = winner[0]\n",
    "                direction_winners.extend(winner)\n",
    "        winners.append(direction_winners)\n",
    "    return winners\n",
    "\n",
    "\n",
    "def merge_directional_mice_list(mice_list):\n",
    "    return sep(list(toolz.concat(mice_list)))\n",
    "\n",
    "\n",
    "def prune_unlinked_mices(mices):\n",
    "    mices = merge_directional_mice_list(mices)\n",
    "    return pyphi.models.FlatCauseEffectStructure(\n",
    "        [\n",
    "            mice\n",
    "            for mice in mices\n",
    "            if len([m for m in mices if m.mechanism == mice.mechanism]) == 2 and len(set([m.direction for m in mices if m.mechanism==mice.mechanism]))==2\n",
    "        ]\n",
    "    )\n",
    "\n",
    "\n",
    "def get_remaining_miws(miws, max_mices_with_winners=None):\n",
    "    if max_mices_with_winners:\n",
    "        used_mechanisms = [\n",
    "            [m.mechanism for m in direction] for direction in max_mices_with_winners\n",
    "        ]\n",
    "\n",
    "        used_purviews = [\n",
    "            [m.purview for m in direction] for direction in max_mices_with_winners\n",
    "        ]\n",
    "\n",
    "        remaining_miws = []\n",
    "        for d, direction in enumerate(directions):\n",
    "            remaining_mices_for_direction = []\n",
    "            for mice in miws[d]:\n",
    "                if (\n",
    "                    mice.mechanism not in used_mechanisms[d]\n",
    "                    and mice.purview not in used_purviews[d]\n",
    "                ):\n",
    "                    remaining_mices_for_direction.append(mice)\n",
    "            remaining_miws.append(remaining_mices_for_direction)\n",
    "\n",
    "        return remaining_miws\n",
    "    else:\n",
    "        return miws\n",
    "\n",
    "\n",
    "def fill_slots(subsystem):\n",
    "\n",
    "    slots = get_empty_purv_slots(subsystem)\n",
    "    miws = separate_miws_for_direction(get_all_miws(subsystem))\n",
    "    max_mices_with_winners = [[], []]\n",
    "\n",
    "    while miws[0] and miws[1]:\n",
    "        slots = get_empty_purv_slots(subsystem, max_mices_with_winners)\n",
    "        miws = get_remaining_miws(miws, max_mices_with_winners)\n",
    "        mices_over_purview_slots = get_mices_over_purview_slots(slots, miws, subsystem)\n",
    "        max_mices_over_purview_slots = get_max_mices_over_purview_slots(\n",
    "            mices_over_purview_slots\n",
    "        )\n",
    "        max_mices_over_purview_slots = [\n",
    "            max_mices_over_purview_slots[d] + max_mices_with_winners[d]\n",
    "            for d in range(len(directions))\n",
    "        ]\n",
    "\n",
    "        conflicts = get_conflicts(max_mices_over_purview_slots, subsystem)\n",
    "\n",
    "        winners = get_winners(conflicts)\n",
    "\n",
    "        max_mices_with_winners = [\n",
    "            [\n",
    "                m\n",
    "                for m in max_mices_over_purview_slots[i]\n",
    "                if m not in list(toolz.concat(conflicts[i]))\n",
    "            ]\n",
    "            + winners[i]\n",
    "            for i in range(len(winners))\n",
    "        ]\n",
    "    else:\n",
    "        final_ces = prune_unlinked_mices(max_mices_with_winners)\n",
    "        final_ces.subsystem = subsystem\n",
    "        return final_ces\n",
    "    \n",
    "# ---------------------\n",
    "# Reflexivity first\n",
    "\n",
    "def make_bag(all_mices):\n",
    "    bag = dict()\n",
    "    for mice in all_mices:\n",
    "        m = mice.mechanism\n",
    "        d = mice.direction\n",
    "        p = mice.purview\n",
    "\n",
    "        if m in bag.keys():\n",
    "            if d in bag[m].keys():\n",
    "                bag[m][d][p] = mice\n",
    "            else:\n",
    "                bag[m][d] = dict()\n",
    "                bag[m][d][p] = mice\n",
    "        else:\n",
    "            bag[m] = dict()\n",
    "            bag[m][d] = dict()\n",
    "            bag[m][d][p] = mice\n",
    "\n",
    "    return bag\n",
    "\n",
    "def get_bag_of_mices(subsystem, mechanisms, purviews, candidate=\"irreducible\"):\n",
    "\n",
    "    if candidate == \"irreducible\":\n",
    "        return {\n",
    "            mechanism: {\n",
    "                direction: {\n",
    "                    purview: subsystem.find_mice(direction, mechanism, (purview,))\n",
    "                    for purview in purviews\n",
    "                }\n",
    "                for direction in [\n",
    "                    C,\n",
    "                    E,\n",
    "                ]\n",
    "            }\n",
    "            for mechanism in mechanisms\n",
    "        }\n",
    "\n",
    "    elif candidate == \"miw\":\n",
    "\n",
    "        # compute candidate mices for every purview\n",
    "        all_mices = []\n",
    "\n",
    "        for mechanism in tqdm(mechanisms):\n",
    "            for direction in [C, E]:\n",
    "                candidate_mices = [\n",
    "                    subsystem.find_mice(direction, mechanism, (purview,))\n",
    "                    for purview in purviews\n",
    "                ]\n",
    "                # check if each mice is maximally irreducible within\n",
    "                candidate_mices_MIW = [\n",
    "                    mice\n",
    "                    for mice in candidate_mices\n",
    "                    if mice.phi > 0\n",
    "                    and not any(\n",
    "                        [\n",
    "                            all([unit in mice.purview for unit in mice2.purview])\n",
    "                            and mice2.phi > mice.phi\n",
    "                            for mice2 in candidate_mices\n",
    "                        ]\n",
    "                    )\n",
    "                ]\n",
    "\n",
    "                all_mices.extend(candidate_mices_MIW)\n",
    "\n",
    "        bag = make_bag(all_mices)\n",
    "        return bag\n",
    "    \n",
    "def get_mices_from_bag(bag_of_mices,subsystem):\n",
    "    pset = list(pyphi.utils.powerset(subsystem.node_indices,nonempty=True))\n",
    "    directions = [pyphi.Direction.CAUSE,pyphi.Direction.EFFECT]\n",
    "    bag = []\n",
    "    for m in pset:\n",
    "        for d in directions:\n",
    "            for p in pset:\n",
    "                try:\n",
    "                    bag.append(bag2[m][d][p])\n",
    "                except:\n",
    "                    pass\n",
    "    return bag\n",
    "\n",
    "\n",
    "def fill_slots_reflexive(subsystem):\n",
    "      \n",
    "    pset = list(pyphi.utils.powerset(subsystem.node_indices,nonempty=True))\n",
    "    bag_of_mices = get_bag_of_mices(subsystem,pset,pset,candidate=\"miw\")\n",
    "    flat_bag = []\n",
    "    for mechanism in tqdm(pset):\n",
    "        for direction in directions:\n",
    "            for purview in pset: \n",
    "                try:\n",
    "                    flat_bag.append(bag_of_mices[mechanism][direction][purview])\n",
    "                except:\n",
    "                    pass\n",
    "\n",
    "    reflexive_ds = [\n",
    "        pyphi.subsystem.Concept(m1.mechanism, m1, m2, subsystem)\n",
    "        for m1,m2 in itertools.combinations(flat_bag,2)\n",
    "        if m1.mechanism==m2.mechanism==m1.purview==m2.purview\n",
    "        and m1.direction == C\n",
    "        and m2.direction == E\n",
    "    ]\n",
    "\n",
    "    reflexive_sep = sep(pyphi.models.CauseEffectStructure(reflexive_ds))\n",
    "\n",
    "    reflexive_causes = [m.purview for m in reflexive_sep if m.direction==C]\n",
    "    reflexive_effects = [m.purview for m in reflexive_sep if m.direction==E]\n",
    "    reflexive_mechanisms = [m.mechanism for m in reflexive_sep]\n",
    "\n",
    "    remaining_mices = []\n",
    "    for m in flat_bag:\n",
    "        if m.direction==C and m.mechanism not in reflexive_mechanisms and m.purview not in reflexive_causes:\n",
    "            remaining_mices.append(m)\n",
    "        if m.direction==E and m.mechanism not in reflexive_mechanisms and m.purview not in reflexive_effects:\n",
    "            remaining_mices.append(m)\n",
    "\n",
    "    remaining_ces = CES_from_bag_of_mices(make_bag(remaining_mices))\n",
    "\n",
    "    final_ces = compute.get_linked_ces(list(reflexive_sep)+list(remaining_ces),subsystem)\n",
    "    final_ces.subsystem=subsystem\n",
    "    return final_ces\n",
    "\n",
    "def count_purview_element_states(mices, subsystem):\n",
    "    #Returns a list containing the number of purview elements in each state \n",
    "    #Example output: [[# node1 OFF, # node1 ON], [# node2 OFF, # node2 ON], ...] \n",
    "    return [\n",
    "        [\n",
    "            len(\n",
    "                [\n",
    "                    mice\n",
    "                    for mice in mices\n",
    "                    if node in mice.purview\n",
    "                    and mice.specified_state[0][mice.purview.index(node)] == state\n",
    "                ]\n",
    "            )\n",
    "            for state in [0, 1]\n",
    "        ]\n",
    "        for node in subsystem.node_indices\n",
    "    ]"
   ]
  },
  {
   "cell_type": "markdown",
   "id": "d7624902",
   "metadata": {
    "heading_collapsed": true
   },
   "source": [
    "# Space"
   ]
  },
  {
   "cell_type": "code",
   "execution_count": 18,
   "id": "c1a2a649",
   "metadata": {
    "hidden": true
   },
   "outputs": [
    {
     "data": {
      "application/vnd.jupyter.widget-view+json": {
       "model_id": "a42849bfa57149caae009c73b1184aa9",
       "version_major": 2,
       "version_minor": 0
      },
      "text/plain": [
       "  0%|          | 0/16 [00:00<?, ?it/s]"
      ]
     },
     "metadata": {},
     "output_type": "display_data"
    },
    {
     "name": "stdout",
     "output_type": "stream",
     "text": [
      "Network saved to: space_4_lognorm\n"
     ]
    }
   ],
   "source": [
    "net_name = \"space_4_lognorm\"\n",
    "\n",
    "th = 1 / 4\n",
    "exp = 5\n",
    "\n",
    "s = .8\n",
    "l = 0.26\n",
    "f = 0.06\n",
    "g = 0.0\n",
    "\n",
    "weights = np.array(\n",
    "    [\n",
    "        [s, l, f, g],  # A\n",
    "        [l, s, l, f],  # B\n",
    "        [f, l, s, l],  # C\n",
    "        [g, f, l, s],  # D\n",
    "        #A, B, C, D,\n",
    "    ]\n",
    ")\n",
    "\n",
    "# weights += np.random.random((6,6))/100\n",
    "# weights = np.abs(weights)\n",
    "\n",
    "node_labels = [\"A\", \"B\", \"C\", \"D\"]\n",
    "mech_func = [f for f in \"ssss\"]\n",
    "\n",
    "network = ng.get_net(\n",
    "    mech_func,\n",
    "    weights,\n",
    "    exp=exp,\n",
    "    th=th,\n",
    "    node_labels=node_labels,\n",
    "    network_name=net_name,\n",
    "    pickle_network=True,\n",
    ")\n",
    "\n",
    "state = (0, 0, 0, 0)\n",
    "subsystem = pyphi.Subsystem(network, state)\n",
    "utils.pklthis(subsystem,f\"example_data/{net_name}_subsystem.pkl\")"
   ]
  },
  {
   "cell_type": "markdown",
   "id": "39201e1d",
   "metadata": {
    "hidden": true
   },
   "source": [
    "### Slot filling MG"
   ]
  },
  {
   "cell_type": "code",
   "execution_count": 4,
   "id": "4fd18549",
   "metadata": {
    "hidden": true
   },
   "outputs": [
    {
     "data": {
      "application/vnd.jupyter.widget-view+json": {
       "model_id": "8b1dbe92f4e24c078789098ade70133f",
       "version_major": 2,
       "version_minor": 0
      },
      "text/plain": [
       "  0%|          | 0/15 [00:00<?, ?it/s]"
      ]
     },
     "metadata": {},
     "output_type": "display_data"
    },
    {
     "data": {
      "text/html": [
       "<div>\n",
       "<style scoped>\n",
       "    .dataframe tbody tr th:only-of-type {\n",
       "        vertical-align: middle;\n",
       "    }\n",
       "\n",
       "    .dataframe tbody tr th {\n",
       "        vertical-align: top;\n",
       "    }\n",
       "\n",
       "    .dataframe thead th {\n",
       "        text-align: right;\n",
       "    }\n",
       "</style>\n",
       "<table border=\"1\" class=\"dataframe\">\n",
       "  <thead>\n",
       "    <tr style=\"text-align: right;\">\n",
       "      <th></th>\n",
       "      <th>mechanism</th>\n",
       "      <th>direction</th>\n",
       "      <th>purview</th>\n",
       "      <th>state</th>\n",
       "      <th>phi</th>\n",
       "    </tr>\n",
       "  </thead>\n",
       "  <tbody>\n",
       "    <tr>\n",
       "      <th>0</th>\n",
       "      <td>A</td>\n",
       "      <td>CAUSE</td>\n",
       "      <td>A</td>\n",
       "      <td>0</td>\n",
       "      <td>0.520382</td>\n",
       "    </tr>\n",
       "    <tr>\n",
       "      <th>1</th>\n",
       "      <td>A</td>\n",
       "      <td>EFFECT</td>\n",
       "      <td>A</td>\n",
       "      <td>0</td>\n",
       "      <td>0.656129</td>\n",
       "    </tr>\n",
       "    <tr>\n",
       "      <th>2</th>\n",
       "      <td>B</td>\n",
       "      <td>CAUSE</td>\n",
       "      <td>AC</td>\n",
       "      <td>00</td>\n",
       "      <td>0.089862</td>\n",
       "    </tr>\n",
       "    <tr>\n",
       "      <th>3</th>\n",
       "      <td>B</td>\n",
       "      <td>EFFECT</td>\n",
       "      <td>AC</td>\n",
       "      <td>00</td>\n",
       "      <td>0.128507</td>\n",
       "    </tr>\n",
       "    <tr>\n",
       "      <th>4</th>\n",
       "      <td>C</td>\n",
       "      <td>CAUSE</td>\n",
       "      <td>BD</td>\n",
       "      <td>00</td>\n",
       "      <td>0.089862</td>\n",
       "    </tr>\n",
       "    <tr>\n",
       "      <th>5</th>\n",
       "      <td>C</td>\n",
       "      <td>EFFECT</td>\n",
       "      <td>BD</td>\n",
       "      <td>00</td>\n",
       "      <td>0.128507</td>\n",
       "    </tr>\n",
       "    <tr>\n",
       "      <th>6</th>\n",
       "      <td>D</td>\n",
       "      <td>CAUSE</td>\n",
       "      <td>D</td>\n",
       "      <td>0</td>\n",
       "      <td>0.520382</td>\n",
       "    </tr>\n",
       "    <tr>\n",
       "      <th>7</th>\n",
       "      <td>D</td>\n",
       "      <td>EFFECT</td>\n",
       "      <td>D</td>\n",
       "      <td>0</td>\n",
       "      <td>0.656129</td>\n",
       "    </tr>\n",
       "    <tr>\n",
       "      <th>8</th>\n",
       "      <td>AB</td>\n",
       "      <td>CAUSE</td>\n",
       "      <td>AB</td>\n",
       "      <td>00</td>\n",
       "      <td>0.071485</td>\n",
       "    </tr>\n",
       "    <tr>\n",
       "      <th>9</th>\n",
       "      <td>AB</td>\n",
       "      <td>EFFECT</td>\n",
       "      <td>AB</td>\n",
       "      <td>00</td>\n",
       "      <td>0.069119</td>\n",
       "    </tr>\n",
       "    <tr>\n",
       "      <th>10</th>\n",
       "      <td>AC</td>\n",
       "      <td>CAUSE</td>\n",
       "      <td>B</td>\n",
       "      <td>0</td>\n",
       "      <td>0.075219</td>\n",
       "    </tr>\n",
       "    <tr>\n",
       "      <th>11</th>\n",
       "      <td>AC</td>\n",
       "      <td>EFFECT</td>\n",
       "      <td>ABC</td>\n",
       "      <td>000</td>\n",
       "      <td>0.107760</td>\n",
       "    </tr>\n",
       "    <tr>\n",
       "      <th>12</th>\n",
       "      <td>BD</td>\n",
       "      <td>CAUSE</td>\n",
       "      <td>C</td>\n",
       "      <td>0</td>\n",
       "      <td>0.075219</td>\n",
       "    </tr>\n",
       "    <tr>\n",
       "      <th>13</th>\n",
       "      <td>BD</td>\n",
       "      <td>EFFECT</td>\n",
       "      <td>BCD</td>\n",
       "      <td>000</td>\n",
       "      <td>0.107760</td>\n",
       "    </tr>\n",
       "    <tr>\n",
       "      <th>14</th>\n",
       "      <td>CD</td>\n",
       "      <td>CAUSE</td>\n",
       "      <td>CD</td>\n",
       "      <td>00</td>\n",
       "      <td>0.071485</td>\n",
       "    </tr>\n",
       "    <tr>\n",
       "      <th>15</th>\n",
       "      <td>CD</td>\n",
       "      <td>EFFECT</td>\n",
       "      <td>CD</td>\n",
       "      <td>00</td>\n",
       "      <td>0.069119</td>\n",
       "    </tr>\n",
       "    <tr>\n",
       "      <th>16</th>\n",
       "      <td>ABC</td>\n",
       "      <td>CAUSE</td>\n",
       "      <td>ABC</td>\n",
       "      <td>000</td>\n",
       "      <td>0.077012</td>\n",
       "    </tr>\n",
       "    <tr>\n",
       "      <th>17</th>\n",
       "      <td>ABC</td>\n",
       "      <td>EFFECT</td>\n",
       "      <td>AD</td>\n",
       "      <td>00</td>\n",
       "      <td>0.004655</td>\n",
       "    </tr>\n",
       "    <tr>\n",
       "      <th>18</th>\n",
       "      <td>ABD</td>\n",
       "      <td>CAUSE</td>\n",
       "      <td>ABD</td>\n",
       "      <td>000</td>\n",
       "      <td>0.018262</td>\n",
       "    </tr>\n",
       "    <tr>\n",
       "      <th>19</th>\n",
       "      <td>ABD</td>\n",
       "      <td>EFFECT</td>\n",
       "      <td>BC</td>\n",
       "      <td>00</td>\n",
       "      <td>0.066011</td>\n",
       "    </tr>\n",
       "    <tr>\n",
       "      <th>20</th>\n",
       "      <td>ACD</td>\n",
       "      <td>CAUSE</td>\n",
       "      <td>ACD</td>\n",
       "      <td>000</td>\n",
       "      <td>0.018262</td>\n",
       "    </tr>\n",
       "    <tr>\n",
       "      <th>21</th>\n",
       "      <td>ACD</td>\n",
       "      <td>EFFECT</td>\n",
       "      <td>B</td>\n",
       "      <td>0</td>\n",
       "      <td>0.031401</td>\n",
       "    </tr>\n",
       "    <tr>\n",
       "      <th>22</th>\n",
       "      <td>ABCD</td>\n",
       "      <td>CAUSE</td>\n",
       "      <td>ABCD</td>\n",
       "      <td>0000</td>\n",
       "      <td>0.036879</td>\n",
       "    </tr>\n",
       "    <tr>\n",
       "      <th>23</th>\n",
       "      <td>ABCD</td>\n",
       "      <td>EFFECT</td>\n",
       "      <td>ABCD</td>\n",
       "      <td>0000</td>\n",
       "      <td>0.009917</td>\n",
       "    </tr>\n",
       "  </tbody>\n",
       "</table>\n",
       "</div>"
      ],
      "text/plain": [
       "   mechanism direction purview state       phi\n",
       "0          A     CAUSE       A     0  0.520382\n",
       "1          A    EFFECT       A     0  0.656129\n",
       "2          B     CAUSE      AC    00  0.089862\n",
       "3          B    EFFECT      AC    00  0.128507\n",
       "4          C     CAUSE      BD    00  0.089862\n",
       "5          C    EFFECT      BD    00  0.128507\n",
       "6          D     CAUSE       D     0  0.520382\n",
       "7          D    EFFECT       D     0  0.656129\n",
       "8         AB     CAUSE      AB    00  0.071485\n",
       "9         AB    EFFECT      AB    00  0.069119\n",
       "10        AC     CAUSE       B     0  0.075219\n",
       "11        AC    EFFECT     ABC   000  0.107760\n",
       "12        BD     CAUSE       C     0  0.075219\n",
       "13        BD    EFFECT     BCD   000  0.107760\n",
       "14        CD     CAUSE      CD    00  0.071485\n",
       "15        CD    EFFECT      CD    00  0.069119\n",
       "16       ABC     CAUSE     ABC   000  0.077012\n",
       "17       ABC    EFFECT      AD    00  0.004655\n",
       "18       ABD     CAUSE     ABD   000  0.018262\n",
       "19       ABD    EFFECT      BC    00  0.066011\n",
       "20       ACD     CAUSE     ACD   000  0.018262\n",
       "21       ACD    EFFECT       B     0  0.031401\n",
       "22      ABCD     CAUSE    ABCD  0000  0.036879\n",
       "23      ABCD    EFFECT    ABCD  0000  0.009917"
      ]
     },
     "execution_count": 4,
     "metadata": {},
     "output_type": "execute_result"
    }
   ],
   "source": [
    "final_ces = fill_slots(subsystem)\n",
    "\n",
    "utils.sepces2df(final_ces,subsystem)"
   ]
  },
  {
   "cell_type": "code",
   "execution_count": 5,
   "id": "866e02f3",
   "metadata": {
    "hidden": true
   },
   "outputs": [],
   "source": [
    "# remaining_ces = CES_from_bag_of_mices(make_bag(final_ces))\n",
    "\n",
    "final_ces = compute.get_linked_ces(final_ces,subsystem)\n",
    "final_ces.subsystem=subsystem"
   ]
  },
  {
   "cell_type": "code",
   "execution_count": 85,
   "id": "2689b7e3",
   "metadata": {
    "hidden": true,
    "scrolled": true
   },
   "outputs": [
    {
     "data": {
      "application/vnd.jupyter.widget-view+json": {
       "model_id": "d92e7061ec674fb99a8dfcf835277bae",
       "version_major": 2,
       "version_minor": 0
      },
      "text/plain": [
       "  0%|          | 0/1084 [00:00<?, ?it/s]"
      ]
     },
     "metadata": {},
     "output_type": "display_data"
    },
    {
     "name": "stderr",
     "output_type": "stream",
     "text": [
      "/home/mgrasso/pyphi/pyphi/utils.py:86: RuntimeWarning: invalid value encountered in double_scalars\n",
      "  return abs(x - y) <= constants.EPSILON\n",
      "/home/mgrasso/pyphi/pyphi/utils.py:86: RuntimeWarning: invalid value encountered in double_scalars\n",
      "  return abs(x - y) <= constants.EPSILON\n",
      "/home/mgrasso/pyphi/pyphi/utils.py:86: RuntimeWarning: invalid value encountered in double_scalars\n",
      "  return abs(x - y) <= constants.EPSILON\n",
      "/home/mgrasso/pyphi/pyphi/utils.py:86: RuntimeWarning: invalid value encountered in double_scalars\n",
      "  return abs(x - y) <= constants.EPSILON\n",
      "/home/mgrasso/pyphi/pyphi/utils.py:86: RuntimeWarning: invalid value encountered in double_scalars\n",
      "  return abs(x - y) <= constants.EPSILON\n",
      "/home/mgrasso/pyphi/pyphi/utils.py:86: RuntimeWarning: invalid value encountered in double_scalars\n",
      "  return abs(x - y) <= constants.EPSILON\n",
      "/home/mgrasso/pyphi/pyphi/utils.py:86: RuntimeWarning: invalid value encountered in double_scalars\n",
      "  return abs(x - y) <= constants.EPSILON\n",
      "/home/mgrasso/pyphi/pyphi/utils.py:86: RuntimeWarning: invalid value encountered in double_scalars\n",
      "  return abs(x - y) <= constants.EPSILON\n",
      "/home/mgrasso/pyphi/pyphi/utils.py:86: RuntimeWarning: invalid value encountered in double_scalars\n",
      "  return abs(x - y) <= constants.EPSILON\n",
      "/home/mgrasso/pyphi/pyphi/utils.py:86: RuntimeWarning: invalid value encountered in double_scalars\n",
      "  return abs(x - y) <= constants.EPSILON\n",
      "/home/mgrasso/pyphi/pyphi/utils.py:86: RuntimeWarning: invalid value encountered in double_scalars\n",
      "  return abs(x - y) <= constants.EPSILON\n",
      "/home/mgrasso/pyphi/pyphi/utils.py:86: RuntimeWarning: invalid value encountered in double_scalars\n",
      "  return abs(x - y) <= constants.EPSILON\n",
      "/home/mgrasso/pyphi/pyphi/utils.py:86: RuntimeWarning: invalid value encountered in double_scalars\n",
      "  return abs(x - y) <= constants.EPSILON\n",
      "/home/mgrasso/pyphi/pyphi/utils.py:86: RuntimeWarning: invalid value encountered in double_scalars\n",
      "  return abs(x - y) <= constants.EPSILON\n",
      "/home/mgrasso/pyphi/pyphi/utils.py:86: RuntimeWarning: invalid value encountered in double_scalars\n",
      "  return abs(x - y) <= constants.EPSILON\n",
      "/home/mgrasso/pyphi/pyphi/utils.py:86: RuntimeWarning: invalid value encountered in double_scalars\n",
      "  return abs(x - y) <= constants.EPSILON\n",
      "/home/mgrasso/pyphi/pyphi/utils.py:86: RuntimeWarning: invalid value encountered in double_scalars\n",
      "  return abs(x - y) <= constants.EPSILON\n",
      "/home/mgrasso/pyphi/pyphi/utils.py:86: RuntimeWarning: invalid value encountered in double_scalars\n",
      "  return abs(x - y) <= constants.EPSILON\n",
      "/home/mgrasso/pyphi/pyphi/utils.py:86: RuntimeWarning: invalid value encountered in double_scalars\n",
      "  return abs(x - y) <= constants.EPSILON\n",
      "/home/mgrasso/pyphi/pyphi/utils.py:86: RuntimeWarning: invalid value encountered in double_scalars\n",
      "  return abs(x - y) <= constants.EPSILON\n",
      "/home/mgrasso/pyphi/pyphi/utils.py:86: RuntimeWarning: invalid value encountered in double_scalars\n",
      "  return abs(x - y) <= constants.EPSILON\n",
      "/home/mgrasso/pyphi/pyphi/utils.py:86: RuntimeWarning: invalid value encountered in double_scalars\n",
      "  return abs(x - y) <= constants.EPSILON\n",
      "/home/mgrasso/pyphi/pyphi/utils.py:86: RuntimeWarning: invalid value encountered in double_scalars\n",
      "  return abs(x - y) <= constants.EPSILON\n",
      "/home/mgrasso/pyphi/pyphi/utils.py:86: RuntimeWarning: invalid value encountered in double_scalars\n",
      "  return abs(x - y) <= constants.EPSILON\n",
      "/home/mgrasso/pyphi/pyphi/utils.py:86: RuntimeWarning: invalid value encountered in double_scalars\n",
      "  return abs(x - y) <= constants.EPSILON\n",
      "/home/mgrasso/pyphi/pyphi/utils.py:86: RuntimeWarning: invalid value encountered in double_scalars\n",
      "  return abs(x - y) <= constants.EPSILON\n",
      "/home/mgrasso/pyphi/pyphi/utils.py:86: RuntimeWarning: invalid value encountered in double_scalars\n",
      "  return abs(x - y) <= constants.EPSILON\n",
      "/home/mgrasso/pyphi/pyphi/utils.py:86: RuntimeWarning: invalid value encountered in double_scalars\n",
      "  return abs(x - y) <= constants.EPSILON\n",
      "/home/mgrasso/pyphi/pyphi/utils.py:86: RuntimeWarning: invalid value encountered in double_scalars\n",
      "  return abs(x - y) <= constants.EPSILON\n",
      "/home/mgrasso/pyphi/pyphi/utils.py:86: RuntimeWarning: invalid value encountered in double_scalars\n",
      "  return abs(x - y) <= constants.EPSILON\n",
      "/home/mgrasso/pyphi/pyphi/utils.py:86: RuntimeWarning: invalid value encountered in double_scalars\n",
      "  return abs(x - y) <= constants.EPSILON\n",
      "/home/mgrasso/pyphi/pyphi/utils.py:86: RuntimeWarning: invalid value encountered in double_scalars\n",
      "  return abs(x - y) <= constants.EPSILON\n",
      "/home/mgrasso/pyphi/pyphi/utils.py:86: RuntimeWarning: invalid value encountered in double_scalars\n",
      "  return abs(x - y) <= constants.EPSILON\n",
      "/home/mgrasso/pyphi/pyphi/utils.py:86: RuntimeWarning: invalid value encountered in double_scalars\n",
      "  return abs(x - y) <= constants.EPSILON\n",
      "/home/mgrasso/pyphi/pyphi/utils.py:86: RuntimeWarning: invalid value encountered in double_scalars\n",
      "  return abs(x - y) <= constants.EPSILON\n",
      "/home/mgrasso/pyphi/pyphi/utils.py:86: RuntimeWarning: invalid value encountered in double_scalars\n",
      "  return abs(x - y) <= constants.EPSILON\n",
      "/home/mgrasso/pyphi/pyphi/utils.py:86: RuntimeWarning: invalid value encountered in double_scalars\n",
      "  return abs(x - y) <= constants.EPSILON\n",
      "/home/mgrasso/pyphi/pyphi/utils.py:86: RuntimeWarning: invalid value encountered in double_scalars\n",
      "  return abs(x - y) <= constants.EPSILON\n",
      "/home/mgrasso/pyphi/pyphi/utils.py:86: RuntimeWarning: invalid value encountered in double_scalars\n",
      "  return abs(x - y) <= constants.EPSILON\n",
      "/home/mgrasso/pyphi/pyphi/utils.py:86: RuntimeWarning: invalid value encountered in double_scalars\n",
      "  return abs(x - y) <= constants.EPSILON\n",
      "/home/mgrasso/pyphi/pyphi/utils.py:86: RuntimeWarning: invalid value encountered in double_scalars\n",
      "  return abs(x - y) <= constants.EPSILON\n",
      "/home/mgrasso/pyphi/pyphi/utils.py:86: RuntimeWarning: invalid value encountered in double_scalars\n",
      "  return abs(x - y) <= constants.EPSILON\n",
      "/home/mgrasso/pyphi/pyphi/utils.py:86: RuntimeWarning: invalid value encountered in double_scalars\n",
      "  return abs(x - y) <= constants.EPSILON\n",
      "/home/mgrasso/pyphi/pyphi/utils.py:86: RuntimeWarning: invalid value encountered in double_scalars\n",
      "  return abs(x - y) <= constants.EPSILON\n",
      "/home/mgrasso/pyphi/pyphi/utils.py:86: RuntimeWarning: invalid value encountered in double_scalars\n",
      "  return abs(x - y) <= constants.EPSILON\n",
      "/home/mgrasso/pyphi/pyphi/utils.py:86: RuntimeWarning: invalid value encountered in double_scalars\n",
      "  return abs(x - y) <= constants.EPSILON\n",
      "/home/mgrasso/pyphi/pyphi/utils.py:86: RuntimeWarning: invalid value encountered in double_scalars\n",
      "  return abs(x - y) <= constants.EPSILON\n",
      "/home/mgrasso/pyphi/pyphi/utils.py:86: RuntimeWarning: invalid value encountered in double_scalars\n",
      "  return abs(x - y) <= constants.EPSILON\n",
      "/home/mgrasso/pyphi/pyphi/utils.py:86: RuntimeWarning: invalid value encountered in double_scalars\n",
      "  return abs(x - y) <= constants.EPSILON\n",
      "/home/mgrasso/pyphi/pyphi/utils.py:86: RuntimeWarning: invalid value encountered in double_scalars\n",
      "  return abs(x - y) <= constants.EPSILON\n",
      "/home/mgrasso/pyphi/pyphi/utils.py:86: RuntimeWarning: invalid value encountered in double_scalars\n",
      "  return abs(x - y) <= constants.EPSILON\n",
      "/home/mgrasso/pyphi/pyphi/utils.py:86: RuntimeWarning: invalid value encountered in double_scalars\n",
      "  return abs(x - y) <= constants.EPSILON\n",
      "/home/mgrasso/pyphi/pyphi/utils.py:86: RuntimeWarning: invalid value encountered in double_scalars\n",
      "  return abs(x - y) <= constants.EPSILON\n",
      "/home/mgrasso/pyphi/pyphi/utils.py:86: RuntimeWarning: invalid value encountered in double_scalars\n",
      "  return abs(x - y) <= constants.EPSILON\n",
      "/home/mgrasso/pyphi/pyphi/utils.py:86: RuntimeWarning: invalid value encountered in double_scalars\n",
      "  return abs(x - y) <= constants.EPSILON\n",
      "/home/mgrasso/pyphi/pyphi/utils.py:86: RuntimeWarning: invalid value encountered in double_scalars\n",
      "  return abs(x - y) <= constants.EPSILON\n",
      "/home/mgrasso/pyphi/pyphi/utils.py:86: RuntimeWarning: invalid value encountered in double_scalars\n",
      "  return abs(x - y) <= constants.EPSILON\n",
      "/home/mgrasso/pyphi/pyphi/utils.py:86: RuntimeWarning: invalid value encountered in double_scalars\n",
      "  return abs(x - y) <= constants.EPSILON\n",
      "/home/mgrasso/pyphi/pyphi/utils.py:86: RuntimeWarning: invalid value encountered in double_scalars\n",
      "  return abs(x - y) <= constants.EPSILON\n"
     ]
    },
    {
     "name": "stderr",
     "output_type": "stream",
     "text": [
      "/home/mgrasso/pyphi/pyphi/utils.py:86: RuntimeWarning: invalid value encountered in double_scalars\n",
      "  return abs(x - y) <= constants.EPSILON\n",
      "/home/mgrasso/pyphi/pyphi/utils.py:86: RuntimeWarning: invalid value encountered in double_scalars\n",
      "  return abs(x - y) <= constants.EPSILON\n"
     ]
    }
   ],
   "source": [
    "relations = list(pyphi.relations.relations(subsystem,sep(final_ces),max_degree=3,parallel=True))"
   ]
  },
  {
   "cell_type": "code",
   "execution_count": 86,
   "id": "d587a8c1",
   "metadata": {
    "hidden": true
   },
   "outputs": [
    {
     "name": "stdout",
     "output_type": "stream",
     "text": [
      "Done putting relations\n",
      "Finding maximal compositional state\n"
     ]
    },
    {
     "data": {
      "application/vnd.jupyter.widget-view+json": {
       "model_id": "6c61363f5b0c4274a513c2b829f296a4",
       "version_major": 2,
       "version_minor": 0
      },
      "text/plain": [
       "Submitting tasks: 0it [00:00, ?it/s]"
      ]
     },
     "metadata": {},
     "output_type": "display_data"
    },
    {
     "name": "stdout",
     "output_type": "stream",
     "text": [
      "Done submitting tasks\n"
     ]
    },
    {
     "data": {
      "application/vnd.jupyter.widget-view+json": {
       "model_id": "f03fc4f56f0448eca5122897f85ae15d",
       "version_major": 2,
       "version_minor": 0
      },
      "text/plain": [
       "  0%|          | 0/1 [00:00<?, ?it/s]"
      ]
     },
     "metadata": {},
     "output_type": "display_data"
    },
    {
     "name": "stdout",
     "output_type": "stream",
     "text": [
      "Evaluating maximal compositional state\n"
     ]
    },
    {
     "name": "stderr",
     "output_type": "stream",
     "text": [
      "\n",
      "KeyboardInterrupt\n",
      "\n"
     ]
    }
   ],
   "source": [
    "sia = pyphi.big_phi.sia(subsystem,final_ces,relations)"
   ]
  },
  {
   "cell_type": "code",
   "execution_count": null,
   "id": "5fb7e5a7",
   "metadata": {
    "hidden": true
   },
   "outputs": [],
   "source": [
    "existence = np.round(sum(sia.phi_structure.distinctions.phis)+sum([rel.phi for rel in sia.phi_structure.relations]),2)\n",
    "print(f'Existence={existence}\\nIrreducibility={sia.phi}')"
   ]
  },
  {
   "cell_type": "code",
   "execution_count": null,
   "id": "496bec0c",
   "metadata": {
    "hidden": true
   },
   "outputs": [],
   "source": [
    "filled_slots = len(\n",
    "    list(\n",
    "        toolz.concat(\n",
    "            [\n",
    "                [\n",
    "                    slot\n",
    "                    for slot in get_empty_purv_slots(subsystem)[d]\n",
    "                    if slot\n",
    "                    not in get_empty_purv_slots(\n",
    "                        subsystem,\n",
    "                        separate_miws_for_direction(\n",
    "                            sep(sia.phi_structure.distinctions)\n",
    "                        ),\n",
    "                    )[d]\n",
    "                ]\n",
    "                for d in range(2)\n",
    "            ]\n",
    "        )\n",
    "    )\n",
    ")\n",
    "filled_slots"
   ]
  },
  {
   "cell_type": "code",
   "execution_count": null,
   "id": "d4ef328b",
   "metadata": {
    "hidden": true
   },
   "outputs": [],
   "source": [
    "purvs_per_order = [len([m for m in sep(sia.phi_structure.distinctions) if len(m.purview)==o]) for o in range(1,len(subsystem)+1)]\n",
    "purvs_per_order"
   ]
  },
  {
   "cell_type": "markdown",
   "id": "be1eb994",
   "metadata": {
    "hidden": true
   },
   "source": [
    "### Slot filling reflexivity-first"
   ]
  },
  {
   "cell_type": "code",
   "execution_count": 25,
   "id": "6d0c31c4",
   "metadata": {
    "hidden": true
   },
   "outputs": [
    {
     "data": {
      "application/vnd.jupyter.widget-view+json": {
       "model_id": "00d3b6ab0d164ee79ed8f4c7c12e40e8",
       "version_major": 2,
       "version_minor": 0
      },
      "text/plain": [
       "  0%|          | 0/15 [00:00<?, ?it/s]"
      ]
     },
     "metadata": {},
     "output_type": "display_data"
    },
    {
     "data": {
      "application/vnd.jupyter.widget-view+json": {
       "model_id": "a54a8c204152475f9f840a0a3ca4222f",
       "version_major": 2,
       "version_minor": 0
      },
      "text/plain": [
       "  0%|          | 0/15 [00:00<?, ?it/s]"
      ]
     },
     "metadata": {},
     "output_type": "display_data"
    }
   ],
   "source": [
    "final_ces = fill_slots_reflexive(subsystem)"
   ]
  },
  {
   "cell_type": "code",
   "execution_count": 27,
   "id": "ca0059c4",
   "metadata": {
    "hidden": true,
    "scrolled": false
   },
   "outputs": [
    {
     "data": {
      "application/vnd.jupyter.widget-view+json": {
       "model_id": "7f3f4056a32e4d32838626a602d62589",
       "version_major": 2,
       "version_minor": 0
      },
      "text/plain": [
       "  0%|          | 0/1335 [00:00<?, ?it/s]"
      ]
     },
     "metadata": {},
     "output_type": "display_data"
    },
    {
     "name": "stderr",
     "output_type": "stream",
     "text": [
      "/home/mgrasso/pyphi/pyphi/utils.py:86: RuntimeWarning: invalid value encountered in double_scalars\n",
      "  return abs(x - y) <= constants.EPSILON\n",
      "/home/mgrasso/pyphi/pyphi/utils.py:86: RuntimeWarning: invalid value encountered in double_scalars\n",
      "  return abs(x - y) <= constants.EPSILON\n",
      "/home/mgrasso/pyphi/pyphi/utils.py:86: RuntimeWarning: invalid value encountered in double_scalars\n",
      "  return abs(x - y) <= constants.EPSILON\n",
      "/home/mgrasso/pyphi/pyphi/utils.py:86: RuntimeWarning: invalid value encountered in double_scalars\n",
      "  return abs(x - y) <= constants.EPSILON\n",
      "/home/mgrasso/pyphi/pyphi/utils.py:86: RuntimeWarning: invalid value encountered in double_scalars\n",
      "  return abs(x - y) <= constants.EPSILON\n",
      "/home/mgrasso/pyphi/pyphi/utils.py:86: RuntimeWarning: invalid value encountered in double_scalars\n",
      "  return abs(x - y) <= constants.EPSILON\n",
      "/home/mgrasso/pyphi/pyphi/utils.py:86: RuntimeWarning: invalid value encountered in double_scalars\n",
      "  return abs(x - y) <= constants.EPSILON\n",
      "/home/mgrasso/pyphi/pyphi/utils.py:86: RuntimeWarning: invalid value encountered in double_scalars\n",
      "  return abs(x - y) <= constants.EPSILON\n",
      "/home/mgrasso/pyphi/pyphi/utils.py:86: RuntimeWarning: invalid value encountered in double_scalars\n",
      "  return abs(x - y) <= constants.EPSILON\n",
      "/home/mgrasso/pyphi/pyphi/utils.py:86: RuntimeWarning: invalid value encountered in double_scalars\n",
      "  return abs(x - y) <= constants.EPSILON\n",
      "/home/mgrasso/pyphi/pyphi/utils.py:86: RuntimeWarning: invalid value encountered in double_scalars\n",
      "  return abs(x - y) <= constants.EPSILON\n",
      "/home/mgrasso/pyphi/pyphi/utils.py:86: RuntimeWarning: invalid value encountered in double_scalars\n",
      "  return abs(x - y) <= constants.EPSILON\n",
      "/home/mgrasso/pyphi/pyphi/utils.py:86: RuntimeWarning: invalid value encountered in double_scalars\n",
      "  return abs(x - y) <= constants.EPSILON\n",
      "/home/mgrasso/pyphi/pyphi/utils.py:86: RuntimeWarning: invalid value encountered in double_scalars\n",
      "  return abs(x - y) <= constants.EPSILON\n",
      "/home/mgrasso/pyphi/pyphi/utils.py:86: RuntimeWarning: invalid value encountered in double_scalars\n",
      "  return abs(x - y) <= constants.EPSILON\n",
      "/home/mgrasso/pyphi/pyphi/utils.py:86: RuntimeWarning: invalid value encountered in double_scalars\n",
      "  return abs(x - y) <= constants.EPSILON\n",
      "/home/mgrasso/pyphi/pyphi/utils.py:86: RuntimeWarning: invalid value encountered in double_scalars\n",
      "  return abs(x - y) <= constants.EPSILON\n",
      "/home/mgrasso/pyphi/pyphi/utils.py:86: RuntimeWarning: invalid value encountered in double_scalars\n",
      "  return abs(x - y) <= constants.EPSILON\n",
      "/home/mgrasso/pyphi/pyphi/utils.py:86: RuntimeWarning: invalid value encountered in double_scalars\n",
      "  return abs(x - y) <= constants.EPSILON\n",
      "/home/mgrasso/pyphi/pyphi/utils.py:86: RuntimeWarning: invalid value encountered in double_scalars\n",
      "  return abs(x - y) <= constants.EPSILON\n",
      "/home/mgrasso/pyphi/pyphi/utils.py:86: RuntimeWarning: invalid value encountered in double_scalars\n",
      "  return abs(x - y) <= constants.EPSILON\n",
      "/home/mgrasso/pyphi/pyphi/utils.py:86: RuntimeWarning: invalid value encountered in double_scalars\n",
      "  return abs(x - y) <= constants.EPSILON\n",
      "/home/mgrasso/pyphi/pyphi/utils.py:86: RuntimeWarning: invalid value encountered in double_scalars\n",
      "  return abs(x - y) <= constants.EPSILON\n",
      "/home/mgrasso/pyphi/pyphi/utils.py:86: RuntimeWarning: invalid value encountered in double_scalars\n",
      "  return abs(x - y) <= constants.EPSILON\n",
      "/home/mgrasso/pyphi/pyphi/utils.py:86: RuntimeWarning: invalid value encountered in double_scalars\n",
      "  return abs(x - y) <= constants.EPSILON\n",
      "/home/mgrasso/pyphi/pyphi/utils.py:86: RuntimeWarning: invalid value encountered in double_scalars\n",
      "  return abs(x - y) <= constants.EPSILON\n",
      "/home/mgrasso/pyphi/pyphi/utils.py:86: RuntimeWarning: invalid value encountered in double_scalars\n",
      "  return abs(x - y) <= constants.EPSILON\n",
      "/home/mgrasso/pyphi/pyphi/utils.py:86: RuntimeWarning: invalid value encountered in double_scalars\n",
      "  return abs(x - y) <= constants.EPSILON\n",
      "/home/mgrasso/pyphi/pyphi/utils.py:86: RuntimeWarning: invalid value encountered in double_scalars\n",
      "  return abs(x - y) <= constants.EPSILON\n",
      "/home/mgrasso/pyphi/pyphi/utils.py:86: RuntimeWarning: invalid value encountered in double_scalars\n",
      "  return abs(x - y) <= constants.EPSILON\n",
      "/home/mgrasso/pyphi/pyphi/utils.py:86: RuntimeWarning: invalid value encountered in double_scalars\n",
      "  return abs(x - y) <= constants.EPSILON\n",
      "/home/mgrasso/pyphi/pyphi/utils.py:86: RuntimeWarning: invalid value encountered in double_scalars\n",
      "  return abs(x - y) <= constants.EPSILON\n",
      "/home/mgrasso/pyphi/pyphi/utils.py:86: RuntimeWarning: invalid value encountered in double_scalars\n",
      "  return abs(x - y) <= constants.EPSILON\n",
      "/home/mgrasso/pyphi/pyphi/utils.py:86: RuntimeWarning: invalid value encountered in double_scalars\n",
      "  return abs(x - y) <= constants.EPSILON\n",
      "/home/mgrasso/pyphi/pyphi/utils.py:86: RuntimeWarning: invalid value encountered in double_scalars\n",
      "  return abs(x - y) <= constants.EPSILON\n",
      "/home/mgrasso/pyphi/pyphi/utils.py:86: RuntimeWarning: invalid value encountered in double_scalars\n",
      "  return abs(x - y) <= constants.EPSILON\n",
      "/home/mgrasso/pyphi/pyphi/utils.py:86: RuntimeWarning: invalid value encountered in double_scalars\n",
      "  return abs(x - y) <= constants.EPSILON\n",
      "/home/mgrasso/pyphi/pyphi/utils.py:86: RuntimeWarning: invalid value encountered in double_scalars\n",
      "  return abs(x - y) <= constants.EPSILON\n",
      "/home/mgrasso/pyphi/pyphi/utils.py:86: RuntimeWarning: invalid value encountered in double_scalars\n",
      "  return abs(x - y) <= constants.EPSILON\n",
      "/home/mgrasso/pyphi/pyphi/utils.py:86: RuntimeWarning: invalid value encountered in double_scalars\n",
      "  return abs(x - y) <= constants.EPSILON\n",
      "/home/mgrasso/pyphi/pyphi/utils.py:86: RuntimeWarning: invalid value encountered in double_scalars\n",
      "  return abs(x - y) <= constants.EPSILON\n",
      "/home/mgrasso/pyphi/pyphi/utils.py:86: RuntimeWarning: invalid value encountered in double_scalars\n",
      "  return abs(x - y) <= constants.EPSILON\n",
      "/home/mgrasso/pyphi/pyphi/utils.py:86: RuntimeWarning: invalid value encountered in double_scalars\n",
      "  return abs(x - y) <= constants.EPSILON\n",
      "/home/mgrasso/pyphi/pyphi/utils.py:86: RuntimeWarning: invalid value encountered in double_scalars\n",
      "  return abs(x - y) <= constants.EPSILON\n",
      "/home/mgrasso/pyphi/pyphi/utils.py:86: RuntimeWarning: invalid value encountered in double_scalars\n",
      "  return abs(x - y) <= constants.EPSILON\n",
      "/home/mgrasso/pyphi/pyphi/utils.py:86: RuntimeWarning: invalid value encountered in double_scalars\n",
      "  return abs(x - y) <= constants.EPSILON\n",
      "/home/mgrasso/pyphi/pyphi/utils.py:86: RuntimeWarning: invalid value encountered in double_scalars\n",
      "  return abs(x - y) <= constants.EPSILON\n",
      "/home/mgrasso/pyphi/pyphi/utils.py:86: RuntimeWarning: invalid value encountered in double_scalars\n",
      "  return abs(x - y) <= constants.EPSILON\n",
      "/home/mgrasso/pyphi/pyphi/utils.py:86: RuntimeWarning: invalid value encountered in double_scalars\n",
      "  return abs(x - y) <= constants.EPSILON\n",
      "/home/mgrasso/pyphi/pyphi/utils.py:86: RuntimeWarning: invalid value encountered in double_scalars\n",
      "  return abs(x - y) <= constants.EPSILON\n",
      "/home/mgrasso/pyphi/pyphi/utils.py:86: RuntimeWarning: invalid value encountered in double_scalars\n",
      "  return abs(x - y) <= constants.EPSILON\n",
      "/home/mgrasso/pyphi/pyphi/utils.py:86: RuntimeWarning: invalid value encountered in double_scalars\n",
      "  return abs(x - y) <= constants.EPSILON\n",
      "/home/mgrasso/pyphi/pyphi/utils.py:86: RuntimeWarning: invalid value encountered in double_scalars\n",
      "  return abs(x - y) <= constants.EPSILON\n",
      "/home/mgrasso/pyphi/pyphi/utils.py:86: RuntimeWarning: invalid value encountered in double_scalars\n",
      "  return abs(x - y) <= constants.EPSILON\n",
      "/home/mgrasso/pyphi/pyphi/utils.py:86: RuntimeWarning: invalid value encountered in double_scalars\n",
      "  return abs(x - y) <= constants.EPSILON\n",
      "/home/mgrasso/pyphi/pyphi/utils.py:86: RuntimeWarning: invalid value encountered in double_scalars\n",
      "  return abs(x - y) <= constants.EPSILON\n",
      "/home/mgrasso/pyphi/pyphi/utils.py:86: RuntimeWarning: invalid value encountered in double_scalars\n",
      "  return abs(x - y) <= constants.EPSILON\n",
      "/home/mgrasso/pyphi/pyphi/utils.py:86: RuntimeWarning: invalid value encountered in double_scalars\n",
      "  return abs(x - y) <= constants.EPSILON\n",
      "/home/mgrasso/pyphi/pyphi/utils.py:86: RuntimeWarning: invalid value encountered in double_scalars\n",
      "  return abs(x - y) <= constants.EPSILON\n"
     ]
    },
    {
     "name": "stderr",
     "output_type": "stream",
     "text": [
      "/home/mgrasso/pyphi/pyphi/utils.py:86: RuntimeWarning: invalid value encountered in double_scalars\n",
      "  return abs(x - y) <= constants.EPSILON\n",
      "2022-02-07 16:46:04,376\tINFO services.py:1338 -- View the Ray dashboard at \u001b[1m\u001b[32mhttp://127.0.0.1:8267\u001b[39m\u001b[22m\n"
     ]
    },
    {
     "name": "stdout",
     "output_type": "stream",
     "text": [
      "Done putting relations\n",
      "Finding maximal compositional state\n"
     ]
    },
    {
     "data": {
      "application/vnd.jupyter.widget-view+json": {
       "model_id": "43d291c0cd464d77a9b1b5d397698c65",
       "version_major": 2,
       "version_minor": 0
      },
      "text/plain": [
       "Submitting tasks: 0it [00:00, ?it/s]"
      ]
     },
     "metadata": {},
     "output_type": "display_data"
    },
    {
     "name": "stdout",
     "output_type": "stream",
     "text": [
      "Done submitting tasks\n"
     ]
    },
    {
     "data": {
      "application/vnd.jupyter.widget-view+json": {
       "model_id": "c1c48ba61c584e318c801a248d6cbcd5",
       "version_major": 2,
       "version_minor": 0
      },
      "text/plain": [
       "  0%|          | 0/1 [00:00<?, ?it/s]"
      ]
     },
     "metadata": {},
     "output_type": "display_data"
    },
    {
     "name": "stdout",
     "output_type": "stream",
     "text": [
      "Evaluating maximal compositional state\n",
      "Existence=506.76\n",
      "Irreducibility=0.7895431260903296\n"
     ]
    },
    {
     "data": {
      "text/html": [
       "<div>\n",
       "<style scoped>\n",
       "    .dataframe tbody tr th:only-of-type {\n",
       "        vertical-align: middle;\n",
       "    }\n",
       "\n",
       "    .dataframe tbody tr th {\n",
       "        vertical-align: top;\n",
       "    }\n",
       "\n",
       "    .dataframe thead th {\n",
       "        text-align: right;\n",
       "    }\n",
       "</style>\n",
       "<table border=\"1\" class=\"dataframe\">\n",
       "  <thead>\n",
       "    <tr style=\"text-align: right;\">\n",
       "      <th></th>\n",
       "      <th>mechanism</th>\n",
       "      <th>direction</th>\n",
       "      <th>purview</th>\n",
       "      <th>state</th>\n",
       "      <th>phi</th>\n",
       "    </tr>\n",
       "  </thead>\n",
       "  <tbody>\n",
       "    <tr>\n",
       "      <th>0</th>\n",
       "      <td>A</td>\n",
       "      <td>CAUSE</td>\n",
       "      <td>A</td>\n",
       "      <td>0</td>\n",
       "      <td>0.520382</td>\n",
       "    </tr>\n",
       "    <tr>\n",
       "      <th>1</th>\n",
       "      <td>A</td>\n",
       "      <td>EFFECT</td>\n",
       "      <td>A</td>\n",
       "      <td>0</td>\n",
       "      <td>0.656129</td>\n",
       "    </tr>\n",
       "    <tr>\n",
       "      <th>2</th>\n",
       "      <td>B</td>\n",
       "      <td>CAUSE</td>\n",
       "      <td>B</td>\n",
       "      <td>0</td>\n",
       "      <td>0.629285</td>\n",
       "    </tr>\n",
       "    <tr>\n",
       "      <th>3</th>\n",
       "      <td>B</td>\n",
       "      <td>EFFECT</td>\n",
       "      <td>B</td>\n",
       "      <td>0</td>\n",
       "      <td>0.713724</td>\n",
       "    </tr>\n",
       "    <tr>\n",
       "      <th>4</th>\n",
       "      <td>C</td>\n",
       "      <td>CAUSE</td>\n",
       "      <td>C</td>\n",
       "      <td>0</td>\n",
       "      <td>0.629285</td>\n",
       "    </tr>\n",
       "    <tr>\n",
       "      <th>5</th>\n",
       "      <td>C</td>\n",
       "      <td>EFFECT</td>\n",
       "      <td>C</td>\n",
       "      <td>0</td>\n",
       "      <td>0.713724</td>\n",
       "    </tr>\n",
       "    <tr>\n",
       "      <th>6</th>\n",
       "      <td>D</td>\n",
       "      <td>CAUSE</td>\n",
       "      <td>D</td>\n",
       "      <td>0</td>\n",
       "      <td>0.520382</td>\n",
       "    </tr>\n",
       "    <tr>\n",
       "      <th>7</th>\n",
       "      <td>D</td>\n",
       "      <td>EFFECT</td>\n",
       "      <td>D</td>\n",
       "      <td>0</td>\n",
       "      <td>0.656129</td>\n",
       "    </tr>\n",
       "    <tr>\n",
       "      <th>8</th>\n",
       "      <td>AB</td>\n",
       "      <td>CAUSE</td>\n",
       "      <td>AB</td>\n",
       "      <td>00</td>\n",
       "      <td>0.071485</td>\n",
       "    </tr>\n",
       "    <tr>\n",
       "      <th>9</th>\n",
       "      <td>AB</td>\n",
       "      <td>EFFECT</td>\n",
       "      <td>AB</td>\n",
       "      <td>00</td>\n",
       "      <td>0.069119</td>\n",
       "    </tr>\n",
       "    <tr>\n",
       "      <th>10</th>\n",
       "      <td>AC</td>\n",
       "      <td>CAUSE</td>\n",
       "      <td>AC</td>\n",
       "      <td>00</td>\n",
       "      <td>0.017755</td>\n",
       "    </tr>\n",
       "    <tr>\n",
       "      <th>11</th>\n",
       "      <td>AC</td>\n",
       "      <td>EFFECT</td>\n",
       "      <td>AC</td>\n",
       "      <td>00</td>\n",
       "      <td>0.019795</td>\n",
       "    </tr>\n",
       "    <tr>\n",
       "      <th>12</th>\n",
       "      <td>BC</td>\n",
       "      <td>CAUSE</td>\n",
       "      <td>BC</td>\n",
       "      <td>00</td>\n",
       "      <td>0.053428</td>\n",
       "    </tr>\n",
       "    <tr>\n",
       "      <th>13</th>\n",
       "      <td>BC</td>\n",
       "      <td>EFFECT</td>\n",
       "      <td>BC</td>\n",
       "      <td>00</td>\n",
       "      <td>0.124742</td>\n",
       "    </tr>\n",
       "    <tr>\n",
       "      <th>14</th>\n",
       "      <td>BD</td>\n",
       "      <td>CAUSE</td>\n",
       "      <td>BD</td>\n",
       "      <td>00</td>\n",
       "      <td>0.017755</td>\n",
       "    </tr>\n",
       "    <tr>\n",
       "      <th>15</th>\n",
       "      <td>BD</td>\n",
       "      <td>EFFECT</td>\n",
       "      <td>BD</td>\n",
       "      <td>00</td>\n",
       "      <td>0.019795</td>\n",
       "    </tr>\n",
       "    <tr>\n",
       "      <th>16</th>\n",
       "      <td>CD</td>\n",
       "      <td>CAUSE</td>\n",
       "      <td>CD</td>\n",
       "      <td>00</td>\n",
       "      <td>0.071485</td>\n",
       "    </tr>\n",
       "    <tr>\n",
       "      <th>17</th>\n",
       "      <td>CD</td>\n",
       "      <td>EFFECT</td>\n",
       "      <td>CD</td>\n",
       "      <td>00</td>\n",
       "      <td>0.069119</td>\n",
       "    </tr>\n",
       "    <tr>\n",
       "      <th>18</th>\n",
       "      <td>ABC</td>\n",
       "      <td>CAUSE</td>\n",
       "      <td>ABC</td>\n",
       "      <td>000</td>\n",
       "      <td>0.077012</td>\n",
       "    </tr>\n",
       "    <tr>\n",
       "      <th>19</th>\n",
       "      <td>ABC</td>\n",
       "      <td>EFFECT</td>\n",
       "      <td>ABC</td>\n",
       "      <td>000</td>\n",
       "      <td>0.016039</td>\n",
       "    </tr>\n",
       "    <tr>\n",
       "      <th>20</th>\n",
       "      <td>ABD</td>\n",
       "      <td>CAUSE</td>\n",
       "      <td>ABD</td>\n",
       "      <td>000</td>\n",
       "      <td>0.018262</td>\n",
       "    </tr>\n",
       "    <tr>\n",
       "      <th>21</th>\n",
       "      <td>ABD</td>\n",
       "      <td>EFFECT</td>\n",
       "      <td>AD</td>\n",
       "      <td>00</td>\n",
       "      <td>0.003075</td>\n",
       "    </tr>\n",
       "    <tr>\n",
       "      <th>22</th>\n",
       "      <td>BCD</td>\n",
       "      <td>CAUSE</td>\n",
       "      <td>BCD</td>\n",
       "      <td>000</td>\n",
       "      <td>0.077012</td>\n",
       "    </tr>\n",
       "    <tr>\n",
       "      <th>23</th>\n",
       "      <td>BCD</td>\n",
       "      <td>EFFECT</td>\n",
       "      <td>BCD</td>\n",
       "      <td>000</td>\n",
       "      <td>0.016039</td>\n",
       "    </tr>\n",
       "    <tr>\n",
       "      <th>24</th>\n",
       "      <td>ABCD</td>\n",
       "      <td>CAUSE</td>\n",
       "      <td>ABCD</td>\n",
       "      <td>0000</td>\n",
       "      <td>0.036879</td>\n",
       "    </tr>\n",
       "    <tr>\n",
       "      <th>25</th>\n",
       "      <td>ABCD</td>\n",
       "      <td>EFFECT</td>\n",
       "      <td>ABCD</td>\n",
       "      <td>0000</td>\n",
       "      <td>0.009917</td>\n",
       "    </tr>\n",
       "  </tbody>\n",
       "</table>\n",
       "</div>"
      ],
      "text/plain": [
       "   mechanism direction purview state       phi\n",
       "0          A     CAUSE       A     0  0.520382\n",
       "1          A    EFFECT       A     0  0.656129\n",
       "2          B     CAUSE       B     0  0.629285\n",
       "3          B    EFFECT       B     0  0.713724\n",
       "4          C     CAUSE       C     0  0.629285\n",
       "5          C    EFFECT       C     0  0.713724\n",
       "6          D     CAUSE       D     0  0.520382\n",
       "7          D    EFFECT       D     0  0.656129\n",
       "8         AB     CAUSE      AB    00  0.071485\n",
       "9         AB    EFFECT      AB    00  0.069119\n",
       "10        AC     CAUSE      AC    00  0.017755\n",
       "11        AC    EFFECT      AC    00  0.019795\n",
       "12        BC     CAUSE      BC    00  0.053428\n",
       "13        BC    EFFECT      BC    00  0.124742\n",
       "14        BD     CAUSE      BD    00  0.017755\n",
       "15        BD    EFFECT      BD    00  0.019795\n",
       "16        CD     CAUSE      CD    00  0.071485\n",
       "17        CD    EFFECT      CD    00  0.069119\n",
       "18       ABC     CAUSE     ABC   000  0.077012\n",
       "19       ABC    EFFECT     ABC   000  0.016039\n",
       "20       ABD     CAUSE     ABD   000  0.018262\n",
       "21       ABD    EFFECT      AD    00  0.003075\n",
       "22       BCD     CAUSE     BCD   000  0.077012\n",
       "23       BCD    EFFECT     BCD   000  0.016039\n",
       "24      ABCD     CAUSE    ABCD  0000  0.036879\n",
       "25      ABCD    EFFECT    ABCD  0000  0.009917"
      ]
     },
     "execution_count": 27,
     "metadata": {},
     "output_type": "execute_result"
    }
   ],
   "source": [
    "relations = list(pyphi.relations.relations(subsystem,sep(final_ces),max_degree=3,parallel=True))\n",
    "\n",
    "sia = pyphi.big_phi.sia(subsystem,final_ces,relations)\n",
    "\n",
    "existence = np.round(sum(sia.phi_structure.distinctions.phis)+sum([rel.phi for rel in sia.phi_structure.relations]),2)\n",
    "\n",
    "print(f'Existence={existence}\\nIrreducibility={sia.phi}')\n",
    "\n",
    "utils.sepces2df(sep(sia.phi_structure.distinctions),subsystem)"
   ]
  },
  {
   "cell_type": "code",
   "execution_count": 14,
   "id": "a1a8f281",
   "metadata": {
    "hidden": true
   },
   "outputs": [],
   "source": [
    "# net_name = \"space_4_lognorm\"\n",
    "# with open(\"example_data/space_4_lognorm_subsystem.pkl\", \"rb\") as f:\n",
    "#     subsystem = pkl.load(f)"
   ]
  },
  {
   "cell_type": "code",
   "execution_count": 15,
   "id": "5e181b19",
   "metadata": {
    "hidden": true
   },
   "outputs": [],
   "source": [
    "# subsystem_lognorm==subsystem_nearest"
   ]
  },
  {
   "cell_type": "code",
   "execution_count": 54,
   "id": "a10d2a64",
   "metadata": {
    "hidden": true
   },
   "outputs": [],
   "source": [
    "# ces = pyphi.compute.ces(subsystem)"
   ]
  },
  {
   "cell_type": "code",
   "execution_count": 55,
   "id": "cbbfb8fc-e8d3-4711-b9fd-84d610d03854",
   "metadata": {
    "hidden": true
   },
   "outputs": [
    {
     "data": {
      "application/vnd.jupyter.widget-view+json": {
       "model_id": "e38d32e0e36c403f89f39a6e523af44f",
       "version_major": 2,
       "version_minor": 0
      },
      "text/plain": [
       "  0%|          | 0/15 [00:00<?, ?it/s]"
      ]
     },
     "metadata": {},
     "output_type": "display_data"
    }
   ],
   "source": [
    "mechanisms = list(pyphi.utils.powerset(subsystem.node_indices,nonempty=True))\n",
    "purviews = list(pyphi.utils.powerset(subsystem.node_indices,nonempty=True))\n",
    "bag_of_mices = get_bag_of_mices(subsystem,mechanisms,purviews,candidate='miw')"
   ]
  },
  {
   "cell_type": "code",
   "execution_count": 56,
   "id": "02dbec58",
   "metadata": {
    "hidden": true
   },
   "outputs": [
    {
     "data": {
      "application/vnd.jupyter.widget-view+json": {
       "model_id": "43f8d9c585b649fe8584f955957e9f53",
       "version_major": 2,
       "version_minor": 0
      },
      "text/plain": [
       "  0%|          | 0/15 [00:00<?, ?it/s]"
      ]
     },
     "metadata": {},
     "output_type": "display_data"
    }
   ],
   "source": [
    "flat_bag = []\n",
    "for mechanism in tqdm(mechanisms):\n",
    "    for direction in [C,E]:\n",
    "        for purview in mechanisms: \n",
    "            try:\n",
    "                flat_bag.append(bag_of_mices[mechanism][direction][purview])\n",
    "            except:\n",
    "                pass\n",
    "\n",
    "reflexive_ds = [\n",
    "    pyphi.subsystem.Concept(m1.mechanism, m1, m2, subsystem)\n",
    "    for m1,m2 in itertools.combinations(flat_bag,2)\n",
    "    if m1.mechanism==m2.mechanism==m1.purview==m2.purview\n",
    "    and m1.direction == C\n",
    "    and m2.direction == E\n",
    "]\n",
    "\n",
    "reflexive_sep = sep(pyphi.models.CauseEffectStructure(reflexive_ds))\n",
    "\n",
    "reflexive_causes = [m.purview for m in reflexive_sep if m.direction==C]\n",
    "reflexive_effects = [m.purview for m in reflexive_sep if m.direction==E]\n",
    "reflexive_mechanisms = [m.mechanism for m in reflexive_sep]\n",
    "\n",
    "remaining_mices = []\n",
    "for m in flat_bag:\n",
    "    if m.direction==C and m.mechanism not in reflexive_mechanisms and m.purview not in reflexive_causes:\n",
    "        remaining_mices.append(m)\n",
    "    if m.direction==E and m.mechanism not in reflexive_mechanisms and m.purview not in reflexive_effects:\n",
    "        remaining_mices.append(m)\n",
    "\n",
    "remaining_ces = CES_from_bag_of_mices(make_bag(remaining_mices))\n",
    "\n",
    "final_ces = compute.get_linked_ces(list(reflexive_sep)+list(remaining_ces),subsystem)\n",
    "final_ces.subsystem=subsystem"
   ]
  },
  {
   "cell_type": "code",
   "execution_count": 57,
   "id": "094c3867",
   "metadata": {
    "hidden": true,
    "scrolled": true
   },
   "outputs": [
    {
     "data": {
      "application/vnd.jupyter.widget-view+json": {
       "model_id": "95104956803d4e6f8cf4ab47d1c1a0a0",
       "version_major": 2,
       "version_minor": 0
      },
      "text/plain": [
       "  0%|          | 0/1335 [00:00<?, ?it/s]"
      ]
     },
     "metadata": {},
     "output_type": "display_data"
    },
    {
     "name": "stderr",
     "output_type": "stream",
     "text": [
      "/home/mgrasso/pyphi/pyphi/utils.py:86: RuntimeWarning: invalid value encountered in double_scalars\n",
      "  return abs(x - y) <= constants.EPSILON\n",
      "/home/mgrasso/pyphi/pyphi/utils.py:86: RuntimeWarning: invalid value encountered in double_scalars\n",
      "  return abs(x - y) <= constants.EPSILON\n",
      "/home/mgrasso/pyphi/pyphi/utils.py:86: RuntimeWarning: invalid value encountered in double_scalars\n",
      "  return abs(x - y) <= constants.EPSILON\n",
      "/home/mgrasso/pyphi/pyphi/utils.py:86: RuntimeWarning: invalid value encountered in double_scalars\n",
      "  return abs(x - y) <= constants.EPSILON\n",
      "/home/mgrasso/pyphi/pyphi/utils.py:86: RuntimeWarning: invalid value encountered in double_scalars\n",
      "  return abs(x - y) <= constants.EPSILON\n",
      "/home/mgrasso/pyphi/pyphi/utils.py:86: RuntimeWarning: invalid value encountered in double_scalars\n",
      "  return abs(x - y) <= constants.EPSILON\n",
      "/home/mgrasso/pyphi/pyphi/utils.py:86: RuntimeWarning: invalid value encountered in double_scalars\n",
      "  return abs(x - y) <= constants.EPSILON\n",
      "/home/mgrasso/pyphi/pyphi/utils.py:86: RuntimeWarning: invalid value encountered in double_scalars\n",
      "  return abs(x - y) <= constants.EPSILON\n",
      "/home/mgrasso/pyphi/pyphi/utils.py:86: RuntimeWarning: invalid value encountered in double_scalars\n",
      "  return abs(x - y) <= constants.EPSILON\n",
      "/home/mgrasso/pyphi/pyphi/utils.py:86: RuntimeWarning: invalid value encountered in double_scalars\n",
      "  return abs(x - y) <= constants.EPSILON\n",
      "/home/mgrasso/pyphi/pyphi/utils.py:86: RuntimeWarning: invalid value encountered in double_scalars\n",
      "  return abs(x - y) <= constants.EPSILON\n",
      "/home/mgrasso/pyphi/pyphi/utils.py:86: RuntimeWarning: invalid value encountered in double_scalars\n",
      "  return abs(x - y) <= constants.EPSILON\n",
      "/home/mgrasso/pyphi/pyphi/utils.py:86: RuntimeWarning: invalid value encountered in double_scalars\n",
      "  return abs(x - y) <= constants.EPSILON\n",
      "/home/mgrasso/pyphi/pyphi/utils.py:86: RuntimeWarning: invalid value encountered in double_scalars\n",
      "  return abs(x - y) <= constants.EPSILON\n",
      "/home/mgrasso/pyphi/pyphi/utils.py:86: RuntimeWarning: invalid value encountered in double_scalars\n",
      "  return abs(x - y) <= constants.EPSILON\n",
      "/home/mgrasso/pyphi/pyphi/utils.py:86: RuntimeWarning: invalid value encountered in double_scalars\n",
      "  return abs(x - y) <= constants.EPSILON\n",
      "/home/mgrasso/pyphi/pyphi/utils.py:86: RuntimeWarning: invalid value encountered in double_scalars\n",
      "  return abs(x - y) <= constants.EPSILON\n",
      "/home/mgrasso/pyphi/pyphi/utils.py:86: RuntimeWarning: invalid value encountered in double_scalars\n",
      "  return abs(x - y) <= constants.EPSILON\n",
      "/home/mgrasso/pyphi/pyphi/utils.py:86: RuntimeWarning: invalid value encountered in double_scalars\n",
      "  return abs(x - y) <= constants.EPSILON\n",
      "/home/mgrasso/pyphi/pyphi/utils.py:86: RuntimeWarning: invalid value encountered in double_scalars\n",
      "  return abs(x - y) <= constants.EPSILON\n",
      "/home/mgrasso/pyphi/pyphi/utils.py:86: RuntimeWarning: invalid value encountered in double_scalars\n",
      "  return abs(x - y) <= constants.EPSILON\n",
      "/home/mgrasso/pyphi/pyphi/utils.py:86: RuntimeWarning: invalid value encountered in double_scalars\n",
      "  return abs(x - y) <= constants.EPSILON\n",
      "/home/mgrasso/pyphi/pyphi/utils.py:86: RuntimeWarning: invalid value encountered in double_scalars\n",
      "  return abs(x - y) <= constants.EPSILON\n",
      "/home/mgrasso/pyphi/pyphi/utils.py:86: RuntimeWarning: invalid value encountered in double_scalars\n",
      "  return abs(x - y) <= constants.EPSILON\n",
      "/home/mgrasso/pyphi/pyphi/utils.py:86: RuntimeWarning: invalid value encountered in double_scalars\n",
      "  return abs(x - y) <= constants.EPSILON\n",
      "/home/mgrasso/pyphi/pyphi/utils.py:86: RuntimeWarning: invalid value encountered in double_scalars\n",
      "  return abs(x - y) <= constants.EPSILON\n",
      "/home/mgrasso/pyphi/pyphi/utils.py:86: RuntimeWarning: invalid value encountered in double_scalars\n",
      "  return abs(x - y) <= constants.EPSILON\n",
      "/home/mgrasso/pyphi/pyphi/utils.py:86: RuntimeWarning: invalid value encountered in double_scalars\n",
      "  return abs(x - y) <= constants.EPSILON\n",
      "/home/mgrasso/pyphi/pyphi/utils.py:86: RuntimeWarning: invalid value encountered in double_scalars\n",
      "  return abs(x - y) <= constants.EPSILON\n",
      "/home/mgrasso/pyphi/pyphi/utils.py:86: RuntimeWarning: invalid value encountered in double_scalars\n",
      "  return abs(x - y) <= constants.EPSILON\n",
      "/home/mgrasso/pyphi/pyphi/utils.py:86: RuntimeWarning: invalid value encountered in double_scalars\n",
      "  return abs(x - y) <= constants.EPSILON\n",
      "/home/mgrasso/pyphi/pyphi/utils.py:86: RuntimeWarning: invalid value encountered in double_scalars\n",
      "  return abs(x - y) <= constants.EPSILON\n",
      "/home/mgrasso/pyphi/pyphi/utils.py:86: RuntimeWarning: invalid value encountered in double_scalars\n",
      "  return abs(x - y) <= constants.EPSILON\n",
      "/home/mgrasso/pyphi/pyphi/utils.py:86: RuntimeWarning: invalid value encountered in double_scalars\n",
      "  return abs(x - y) <= constants.EPSILON\n",
      "/home/mgrasso/pyphi/pyphi/utils.py:86: RuntimeWarning: invalid value encountered in double_scalars\n",
      "  return abs(x - y) <= constants.EPSILON\n",
      "/home/mgrasso/pyphi/pyphi/utils.py:86: RuntimeWarning: invalid value encountered in double_scalars\n",
      "  return abs(x - y) <= constants.EPSILON\n",
      "/home/mgrasso/pyphi/pyphi/utils.py:86: RuntimeWarning: invalid value encountered in double_scalars\n",
      "  return abs(x - y) <= constants.EPSILON\n",
      "/home/mgrasso/pyphi/pyphi/utils.py:86: RuntimeWarning: invalid value encountered in double_scalars\n",
      "  return abs(x - y) <= constants.EPSILON\n",
      "/home/mgrasso/pyphi/pyphi/utils.py:86: RuntimeWarning: invalid value encountered in double_scalars\n",
      "  return abs(x - y) <= constants.EPSILON\n",
      "/home/mgrasso/pyphi/pyphi/utils.py:86: RuntimeWarning: invalid value encountered in double_scalars\n",
      "  return abs(x - y) <= constants.EPSILON\n",
      "/home/mgrasso/pyphi/pyphi/utils.py:86: RuntimeWarning: invalid value encountered in double_scalars\n",
      "  return abs(x - y) <= constants.EPSILON\n",
      "/home/mgrasso/pyphi/pyphi/utils.py:86: RuntimeWarning: invalid value encountered in double_scalars\n",
      "  return abs(x - y) <= constants.EPSILON\n",
      "/home/mgrasso/pyphi/pyphi/utils.py:86: RuntimeWarning: invalid value encountered in double_scalars\n",
      "  return abs(x - y) <= constants.EPSILON\n",
      "/home/mgrasso/pyphi/pyphi/utils.py:86: RuntimeWarning: invalid value encountered in double_scalars\n",
      "  return abs(x - y) <= constants.EPSILON\n",
      "/home/mgrasso/pyphi/pyphi/utils.py:86: RuntimeWarning: invalid value encountered in double_scalars\n",
      "  return abs(x - y) <= constants.EPSILON\n",
      "/home/mgrasso/pyphi/pyphi/utils.py:86: RuntimeWarning: invalid value encountered in double_scalars\n",
      "  return abs(x - y) <= constants.EPSILON\n",
      "/home/mgrasso/pyphi/pyphi/utils.py:86: RuntimeWarning: invalid value encountered in double_scalars\n",
      "  return abs(x - y) <= constants.EPSILON\n",
      "/home/mgrasso/pyphi/pyphi/utils.py:86: RuntimeWarning: invalid value encountered in double_scalars\n",
      "  return abs(x - y) <= constants.EPSILON\n",
      "/home/mgrasso/pyphi/pyphi/utils.py:86: RuntimeWarning: invalid value encountered in double_scalars\n",
      "  return abs(x - y) <= constants.EPSILON\n",
      "/home/mgrasso/pyphi/pyphi/utils.py:86: RuntimeWarning: invalid value encountered in double_scalars\n",
      "  return abs(x - y) <= constants.EPSILON\n",
      "/home/mgrasso/pyphi/pyphi/utils.py:86: RuntimeWarning: invalid value encountered in double_scalars\n",
      "  return abs(x - y) <= constants.EPSILON\n",
      "/home/mgrasso/pyphi/pyphi/utils.py:86: RuntimeWarning: invalid value encountered in double_scalars\n",
      "  return abs(x - y) <= constants.EPSILON\n",
      "/home/mgrasso/pyphi/pyphi/utils.py:86: RuntimeWarning: invalid value encountered in double_scalars\n",
      "  return abs(x - y) <= constants.EPSILON\n",
      "/home/mgrasso/pyphi/pyphi/utils.py:86: RuntimeWarning: invalid value encountered in double_scalars\n",
      "  return abs(x - y) <= constants.EPSILON\n",
      "/home/mgrasso/pyphi/pyphi/utils.py:86: RuntimeWarning: invalid value encountered in double_scalars\n",
      "  return abs(x - y) <= constants.EPSILON\n",
      "/home/mgrasso/pyphi/pyphi/utils.py:86: RuntimeWarning: invalid value encountered in double_scalars\n",
      "  return abs(x - y) <= constants.EPSILON\n",
      "/home/mgrasso/pyphi/pyphi/utils.py:86: RuntimeWarning: invalid value encountered in double_scalars\n",
      "  return abs(x - y) <= constants.EPSILON\n",
      "/home/mgrasso/pyphi/pyphi/utils.py:86: RuntimeWarning: invalid value encountered in double_scalars\n",
      "  return abs(x - y) <= constants.EPSILON\n",
      "/home/mgrasso/pyphi/pyphi/utils.py:86: RuntimeWarning: invalid value encountered in double_scalars\n",
      "  return abs(x - y) <= constants.EPSILON\n"
     ]
    },
    {
     "name": "stderr",
     "output_type": "stream",
     "text": [
      "/home/mgrasso/pyphi/pyphi/utils.py:86: RuntimeWarning: invalid value encountered in double_scalars\n",
      "  return abs(x - y) <= constants.EPSILON\n"
     ]
    }
   ],
   "source": [
    "relations = list(pyphi.relations.relations(subsystem,sep(final_ces),max_degree=3,parallel=True))\n",
    "\n",
    "sia = pyphi.big_phi.sia(subsystem,final_ces,relations)\n",
    "\n",
    "existence = np.round(sum(sia.phi_structure.distinctions.phis)+sum([rel.phi for rel in sia.phi_structure.relations]),2)\n",
    "\n",
    "print(f'Existence={existence}\\nIrreducibility={sia.phi}')\n",
    "\n",
    "utils.sepces2df(sep(sia.phi_structure.distinctions),subsystem)"
   ]
  },
  {
   "cell_type": "code",
   "execution_count": 61,
   "id": "e1054552",
   "metadata": {
    "hidden": true
   },
   "outputs": [],
   "source": [
    "# print('-REFLEXIVITY FIRST-')\n",
    "# print(f'Network = {net_name}')\n",
    "# print(f'Existence = {existence}')\n",
    "# print(f'Irreducibility = {np.round(sia.phi,4)}')\n",
    "# utils.sepces2df(sep(sia.phi_structure.distinctions),subsystem)"
   ]
  },
  {
   "cell_type": "code",
   "execution_count": 77,
   "id": "35f9fb76",
   "metadata": {
    "hidden": true
   },
   "outputs": [
    {
     "data": {
      "text/plain": [
       "26"
      ]
     },
     "execution_count": 77,
     "metadata": {},
     "output_type": "execute_result"
    }
   ],
   "source": [
    "filled_slots = len(\n",
    "    list(\n",
    "        toolz.concat(\n",
    "            [\n",
    "                [\n",
    "                    slot\n",
    "                    for slot in get_empty_purv_slots(subsystem)[d]\n",
    "                    if slot\n",
    "                    not in get_empty_purv_slots(\n",
    "                        subsystem,\n",
    "                        separate_miws_for_direction(\n",
    "                            sep(sia.phi_structure.distinctions)\n",
    "                        ),\n",
    "                    )[d]\n",
    "                ]\n",
    "                for d in range(2)\n",
    "            ]\n",
    "        )\n",
    "    )\n",
    ")\n",
    "filled_slots"
   ]
  },
  {
   "cell_type": "code",
   "execution_count": 81,
   "id": "a2c778c4",
   "metadata": {
    "hidden": true
   },
   "outputs": [
    {
     "data": {
      "text/plain": [
       "[8, 11, 5, 2]"
      ]
     },
     "execution_count": 81,
     "metadata": {},
     "output_type": "execute_result"
    }
   ],
   "source": [
    "purvs_per_order = [len([m for m in sep(sia.phi_structure.distinctions) if len(m.purview)==o]) for o in range(1,len(subsystem)+1)]\n",
    "purvs_per_order"
   ]
  },
  {
   "cell_type": "markdown",
   "id": "5c78fc5c",
   "metadata": {},
   "source": [
    "# Ch 3"
   ]
  },
  {
   "cell_type": "markdown",
   "id": "af85395a",
   "metadata": {},
   "source": [
    "## 4 nodes"
   ]
  },
  {
   "cell_type": "code",
   "execution_count": 152,
   "id": "aa3ac544",
   "metadata": {},
   "outputs": [
    {
     "data": {
      "application/vnd.jupyter.widget-view+json": {
       "model_id": "ae083eec593b4f0bb97ddf4c6f2b21fc",
       "version_major": 2,
       "version_minor": 0
      },
      "text/plain": [
       "  0%|          | 0/64 [00:00<?, ?it/s]"
      ]
     },
     "metadata": {},
     "output_type": "display_data"
    }
   ],
   "source": [
    "import pyphi\n",
    "from visualize_pyphi import *\n",
    "import numpy as np\n",
    "from pyphi.models.subsystem import FlatCauseEffectStructure as sep\n",
    "\n",
    "th = 1/4\n",
    "exp = 5\n",
    "mu = 1\n",
    "si = .3\n",
    "ll = 1\n",
    "kk = 15\n",
    "x0 = .7\n",
    "\n",
    "q = .4\n",
    "p = .1\n",
    "s = .8\n",
    "l = .25\n",
    "j = 1-q\n",
    "i = j-.05\n",
    "b = .01\n",
    "\n",
    "weights = np.array([\n",
    "    [s,l,0,i,0,0],#A\n",
    "    [l,s,l,j,b,0],#B\n",
    "    [0,l,s,i,0,0],#C\n",
    "    [b,b,b,q,0,i],#D\n",
    "    [0,i,0,0,0,0],#I\n",
    "    [0,0,0,b,0,s],#O\n",
    "    #A,B,C,D,I,O\n",
    "  ])\n",
    "\n",
    "node_labels = ['A','B','C','D','I','O']\n",
    "mech_func = [f for f in 'sssgll']\n",
    "network = network_generator.get_net(mech_func, weights, exp=exp, th=th, mu=mu, si=si, l=ll, k=kk, x0=x0, node_labels=node_labels, pickle_network=False)\n",
    "# utils.pklthis(network,'example_data/ch3_network.pkl')\n",
    "\n",
    "subsystem = pyphi.Subsystem(network,state=(0,1,0,1,1,1),nodes=(0,1,2,3))\n",
    "# ces = pyphi.compute.ces(subsystem)"
   ]
  },
  {
   "cell_type": "code",
   "execution_count": 153,
   "id": "42a11973",
   "metadata": {},
   "outputs": [],
   "source": [
    "pset = list(pyphi.utils.powerset(subsystem.node_indices,nonempty=True))"
   ]
  },
  {
   "cell_type": "code",
   "execution_count": 164,
   "id": "802fb097",
   "metadata": {},
   "outputs": [
    {
     "name": "stderr",
     "output_type": "stream",
     "text": [
      "                                                                                                                                                         \r"
     ]
    }
   ],
   "source": [
    "ces = pyphi.compute.ces(subsystem,parallel=True)"
   ]
  },
  {
   "cell_type": "code",
   "execution_count": 165,
   "id": "c4b45799",
   "metadata": {},
   "outputs": [
    {
     "data": {
      "text/plain": [
       "[[9, 0], [3, 12], [8, 0], [2, 12]]"
      ]
     },
     "execution_count": 165,
     "metadata": {},
     "output_type": "execute_result"
    }
   ],
   "source": [
    "count_purview_element_states(sep(ces),subsystem)"
   ]
  },
  {
   "cell_type": "code",
   "execution_count": 154,
   "id": "dd0677d3",
   "metadata": {
    "scrolled": false
   },
   "outputs": [],
   "source": [
    "# utils.sepces2df(all_miws,subsystem)"
   ]
  },
  {
   "cell_type": "code",
   "execution_count": 155,
   "id": "c269e4b1",
   "metadata": {},
   "outputs": [
    {
     "data": {
      "application/vnd.jupyter.widget-view+json": {
       "model_id": "9c9939f516314bd1bca3e1a4e18721e2",
       "version_major": 2,
       "version_minor": 0
      },
      "text/plain": [
       "  0%|          | 0/15 [00:00<?, ?it/s]"
      ]
     },
     "metadata": {},
     "output_type": "display_data"
    },
    {
     "data": {
      "text/html": [
       "<div>\n",
       "<style scoped>\n",
       "    .dataframe tbody tr th:only-of-type {\n",
       "        vertical-align: middle;\n",
       "    }\n",
       "\n",
       "    .dataframe tbody tr th {\n",
       "        vertical-align: top;\n",
       "    }\n",
       "\n",
       "    .dataframe thead th {\n",
       "        text-align: right;\n",
       "    }\n",
       "</style>\n",
       "<table border=\"1\" class=\"dataframe\">\n",
       "  <thead>\n",
       "    <tr style=\"text-align: right;\">\n",
       "      <th></th>\n",
       "      <th>mechanism</th>\n",
       "      <th>direction</th>\n",
       "      <th>purview</th>\n",
       "      <th>state</th>\n",
       "      <th>phi</th>\n",
       "    </tr>\n",
       "  </thead>\n",
       "  <tbody>\n",
       "    <tr>\n",
       "      <th>0</th>\n",
       "      <td>A</td>\n",
       "      <td>CAUSE</td>\n",
       "      <td>A</td>\n",
       "      <td>0</td>\n",
       "      <td>0.486034</td>\n",
       "    </tr>\n",
       "    <tr>\n",
       "      <th>1</th>\n",
       "      <td>A</td>\n",
       "      <td>EFFECT</td>\n",
       "      <td>A</td>\n",
       "      <td>0</td>\n",
       "      <td>0.627340</td>\n",
       "    </tr>\n",
       "    <tr>\n",
       "      <th>2</th>\n",
       "      <td>B</td>\n",
       "      <td>CAUSE</td>\n",
       "      <td>B</td>\n",
       "      <td>1</td>\n",
       "      <td>0.232803</td>\n",
       "    </tr>\n",
       "    <tr>\n",
       "      <th>3</th>\n",
       "      <td>B</td>\n",
       "      <td>EFFECT</td>\n",
       "      <td>AC</td>\n",
       "      <td>00</td>\n",
       "      <td>0.106082</td>\n",
       "    </tr>\n",
       "    <tr>\n",
       "      <th>4</th>\n",
       "      <td>C</td>\n",
       "      <td>CAUSE</td>\n",
       "      <td>C</td>\n",
       "      <td>0</td>\n",
       "      <td>0.486034</td>\n",
       "    </tr>\n",
       "    <tr>\n",
       "      <th>5</th>\n",
       "      <td>C</td>\n",
       "      <td>EFFECT</td>\n",
       "      <td>C</td>\n",
       "      <td>0</td>\n",
       "      <td>0.627340</td>\n",
       "    </tr>\n",
       "    <tr>\n",
       "      <th>6</th>\n",
       "      <td>AC</td>\n",
       "      <td>CAUSE</td>\n",
       "      <td>D</td>\n",
       "      <td>0</td>\n",
       "      <td>0.003137</td>\n",
       "    </tr>\n",
       "    <tr>\n",
       "      <th>7</th>\n",
       "      <td>AC</td>\n",
       "      <td>EFFECT</td>\n",
       "      <td>B</td>\n",
       "      <td>0</td>\n",
       "      <td>0.177767</td>\n",
       "    </tr>\n",
       "    <tr>\n",
       "      <th>8</th>\n",
       "      <td>ABC</td>\n",
       "      <td>CAUSE</td>\n",
       "      <td>AC</td>\n",
       "      <td>00</td>\n",
       "      <td>0.070977</td>\n",
       "    </tr>\n",
       "    <tr>\n",
       "      <th>9</th>\n",
       "      <td>ABC</td>\n",
       "      <td>EFFECT</td>\n",
       "      <td>ABC</td>\n",
       "      <td>010</td>\n",
       "      <td>0.023489</td>\n",
       "    </tr>\n",
       "    <tr>\n",
       "      <th>10</th>\n",
       "      <td>ACD</td>\n",
       "      <td>CAUSE</td>\n",
       "      <td>ABCD</td>\n",
       "      <td>0101</td>\n",
       "      <td>0.204522</td>\n",
       "    </tr>\n",
       "    <tr>\n",
       "      <th>11</th>\n",
       "      <td>ACD</td>\n",
       "      <td>EFFECT</td>\n",
       "      <td>ACD</td>\n",
       "      <td>001</td>\n",
       "      <td>0.008122</td>\n",
       "    </tr>\n",
       "    <tr>\n",
       "      <th>12</th>\n",
       "      <td>ABCD</td>\n",
       "      <td>CAUSE</td>\n",
       "      <td>ABC</td>\n",
       "      <td>010</td>\n",
       "      <td>0.085785</td>\n",
       "    </tr>\n",
       "    <tr>\n",
       "      <th>13</th>\n",
       "      <td>ABCD</td>\n",
       "      <td>EFFECT</td>\n",
       "      <td>D</td>\n",
       "      <td>1</td>\n",
       "      <td>0.483922</td>\n",
       "    </tr>\n",
       "  </tbody>\n",
       "</table>\n",
       "</div>"
      ],
      "text/plain": [
       "   mechanism direction purview state       phi\n",
       "0          A     CAUSE       A     0  0.486034\n",
       "1          A    EFFECT       A     0  0.627340\n",
       "2          B     CAUSE       B     1  0.232803\n",
       "3          B    EFFECT      AC    00  0.106082\n",
       "4          C     CAUSE       C     0  0.486034\n",
       "5          C    EFFECT       C     0  0.627340\n",
       "6         AC     CAUSE       D     0  0.003137\n",
       "7         AC    EFFECT       B     0  0.177767\n",
       "8        ABC     CAUSE      AC    00  0.070977\n",
       "9        ABC    EFFECT     ABC   010  0.023489\n",
       "10       ACD     CAUSE    ABCD  0101  0.204522\n",
       "11       ACD    EFFECT     ACD   001  0.008122\n",
       "12      ABCD     CAUSE     ABC   010  0.085785\n",
       "13      ABCD    EFFECT       D     1  0.483922"
      ]
     },
     "execution_count": 155,
     "metadata": {},
     "output_type": "execute_result"
    }
   ],
   "source": [
    "bestbig_ces = fill_slots(subsystem)\n",
    "\n",
    "utils.sepces2df(bestbig_ces,subsystem)"
   ]
  },
  {
   "cell_type": "code",
   "execution_count": 161,
   "id": "3f68b6ac",
   "metadata": {},
   "outputs": [
    {
     "data": {
      "application/vnd.jupyter.widget-view+json": {
       "model_id": "ed58e32a1deb45d2b4517ad70612afd8",
       "version_major": 2,
       "version_minor": 0
      },
      "text/plain": [
       "  0%|          | 0/15 [00:00<?, ?it/s]"
      ]
     },
     "metadata": {},
     "output_type": "display_data"
    }
   ],
   "source": [
    "bag = get_mices_from_bag(get_bag_of_mices(subsystem,pset,pset,candidate=\"miw\"),subsystem)"
   ]
  },
  {
   "cell_type": "code",
   "execution_count": 163,
   "id": "2d46375e",
   "metadata": {},
   "outputs": [
    {
     "data": {
      "text/plain": [
       "[[42, 16], [27, 43], [43, 15], [25, 33]]"
      ]
     },
     "execution_count": 163,
     "metadata": {},
     "output_type": "execute_result"
    }
   ],
   "source": [
    "count_purview_element_states(bag,subsystem)"
   ]
  },
  {
   "cell_type": "code",
   "execution_count": null,
   "id": "97356c38",
   "metadata": {},
   "outputs": [],
   "source": [
    "def get_congruence_index(mices,subsystem):\n",
    "    nodes = subsystem.node_indices\n",
    "    for node in nodes:\n",
    "        for state in [0,1]:\n",
    "            "
   ]
  },
  {
   "cell_type": "code",
   "execution_count": 54,
   "id": "ff803525",
   "metadata": {},
   "outputs": [],
   "source": [
    "bestbig_ces.subsystem=subsystem\n",
    "bestbig_ces = compute.get_linked_ces(bestbig_ces,subsystem)"
   ]
  },
  {
   "cell_type": "code",
   "execution_count": 55,
   "id": "5362b218",
   "metadata": {},
   "outputs": [],
   "source": [
    "subsystem.clear_caches()"
   ]
  },
  {
   "cell_type": "code",
   "execution_count": 56,
   "id": "b9bd8fc7",
   "metadata": {},
   "outputs": [
    {
     "data": {
      "application/vnd.jupyter.widget-view+json": {
       "model_id": "b33451fd7a634b7f8d6af568548040c7",
       "version_major": 2,
       "version_minor": 0
      },
      "text/plain": [
       "  0%|          | 0/49 [00:00<?, ?it/s]"
      ]
     },
     "metadata": {},
     "output_type": "display_data"
    },
    {
     "name": "stderr",
     "output_type": "stream",
     "text": [
      "/home/mgrasso/pyphi/pyphi/utils.py:86: RuntimeWarning: invalid value encountered in double_scalars\n",
      "  return abs(x - y) <= constants.EPSILON\n"
     ]
    }
   ],
   "source": [
    "bestbig_ces_relations = list(pyphi.relations.relations(subsystem,sep(bestbig_ces),parallel=True))"
   ]
  },
  {
   "cell_type": "code",
   "execution_count": 57,
   "id": "7fec3f82",
   "metadata": {},
   "outputs": [],
   "source": [
    "subsystem.clear_caches()"
   ]
  },
  {
   "cell_type": "code",
   "execution_count": 58,
   "id": "6ebe54ec",
   "metadata": {
    "scrolled": false
   },
   "outputs": [
    {
     "name": "stdout",
     "output_type": "stream",
     "text": [
      "Done putting relations\n",
      "Finding maximal compositional state\n"
     ]
    },
    {
     "data": {
      "application/vnd.jupyter.widget-view+json": {
       "model_id": "b59d4645d01048cf8eac342e355ea79e",
       "version_major": 2,
       "version_minor": 0
      },
      "text/plain": [
       "Submitting tasks: 0it [00:00, ?it/s]"
      ]
     },
     "metadata": {},
     "output_type": "display_data"
    },
    {
     "name": "stdout",
     "output_type": "stream",
     "text": [
      "Done submitting tasks\n"
     ]
    },
    {
     "data": {
      "application/vnd.jupyter.widget-view+json": {
       "model_id": "e808be20fa1047d5b301ab2d3f434e10",
       "version_major": 2,
       "version_minor": 0
      },
      "text/plain": [
       "  0%|          | 0/1 [00:00<?, ?it/s]"
      ]
     },
     "metadata": {},
     "output_type": "display_data"
    },
    {
     "name": "stdout",
     "output_type": "stream",
     "text": [
      "Evaluating maximal compositional state\n",
      "Existence=5.33\n",
      "Irreducibility=0.0\n"
     ]
    }
   ],
   "source": [
    "bestbig_sia = pyphi.big_phi.sia(subsystem,bestbig_ces,bestbig_ces_relations)\n",
    "\n",
    "bestbig_existence = np.round(sum(bestbig_sia.phi_structure.distinctions.phis)+sum([rel.phi for rel in bestbig_sia.phi_structure.relations]),2)\n",
    "print(f'Existence={bestbig_existence}\\nIrreducibility={bestbig_sia.phi}')"
   ]
  },
  {
   "cell_type": "code",
   "execution_count": 59,
   "id": "3a75cc9e",
   "metadata": {},
   "outputs": [
    {
     "data": {
      "text/plain": [
       "0.0"
      ]
     },
     "execution_count": 59,
     "metadata": {},
     "output_type": "execute_result"
    }
   ],
   "source": [
    "bestbig_sia.informativeness"
   ]
  },
  {
   "cell_type": "code",
   "execution_count": 60,
   "id": "751ff924",
   "metadata": {},
   "outputs": [],
   "source": [
    "# fig = visualize_ces.plot_ces(\n",
    "#     subsystem,\n",
    "#     sep(sia.phi_structure.distinctions),\n",
    "#     sia.phi_structure.relations,\n",
    "#     base_rotation=0,\n",
    "#     base_z_offset=.3,\n",
    "#     network_name='ch3_bestbigger',\n",
    "# )\n",
    "# fig.show()"
   ]
  },
  {
   "cell_type": "code",
   "execution_count": 61,
   "id": "f4be8901",
   "metadata": {
    "scrolled": false
   },
   "outputs": [
    {
     "data": {
      "text/html": [
       "<div>\n",
       "<style scoped>\n",
       "    .dataframe tbody tr th:only-of-type {\n",
       "        vertical-align: middle;\n",
       "    }\n",
       "\n",
       "    .dataframe tbody tr th {\n",
       "        vertical-align: top;\n",
       "    }\n",
       "\n",
       "    .dataframe thead th {\n",
       "        text-align: right;\n",
       "    }\n",
       "</style>\n",
       "<table border=\"1\" class=\"dataframe\">\n",
       "  <thead>\n",
       "    <tr style=\"text-align: right;\">\n",
       "      <th></th>\n",
       "      <th>mechanism</th>\n",
       "      <th>direction</th>\n",
       "      <th>purview</th>\n",
       "      <th>state</th>\n",
       "      <th>phi</th>\n",
       "    </tr>\n",
       "  </thead>\n",
       "  <tbody>\n",
       "    <tr>\n",
       "      <th>0</th>\n",
       "      <td>A</td>\n",
       "      <td>CAUSE</td>\n",
       "      <td>A</td>\n",
       "      <td>0</td>\n",
       "      <td>0.492685</td>\n",
       "    </tr>\n",
       "    <tr>\n",
       "      <th>1</th>\n",
       "      <td>A</td>\n",
       "      <td>EFFECT</td>\n",
       "      <td>A</td>\n",
       "      <td>0</td>\n",
       "      <td>0.633166</td>\n",
       "    </tr>\n",
       "    <tr>\n",
       "      <th>2</th>\n",
       "      <td>B</td>\n",
       "      <td>CAUSE</td>\n",
       "      <td>B</td>\n",
       "      <td>1</td>\n",
       "      <td>0.228257</td>\n",
       "    </tr>\n",
       "    <tr>\n",
       "      <th>3</th>\n",
       "      <td>B</td>\n",
       "      <td>EFFECT</td>\n",
       "      <td>AC</td>\n",
       "      <td>00</td>\n",
       "      <td>0.104252</td>\n",
       "    </tr>\n",
       "    <tr>\n",
       "      <th>4</th>\n",
       "      <td>C</td>\n",
       "      <td>CAUSE</td>\n",
       "      <td>C</td>\n",
       "      <td>0</td>\n",
       "      <td>0.492685</td>\n",
       "    </tr>\n",
       "    <tr>\n",
       "      <th>5</th>\n",
       "      <td>C</td>\n",
       "      <td>EFFECT</td>\n",
       "      <td>C</td>\n",
       "      <td>0</td>\n",
       "      <td>0.633166</td>\n",
       "    </tr>\n",
       "    <tr>\n",
       "      <th>6</th>\n",
       "      <td>ABC</td>\n",
       "      <td>CAUSE</td>\n",
       "      <td>AC</td>\n",
       "      <td>00</td>\n",
       "      <td>0.070701</td>\n",
       "    </tr>\n",
       "    <tr>\n",
       "      <th>7</th>\n",
       "      <td>ABC</td>\n",
       "      <td>EFFECT</td>\n",
       "      <td>ABC</td>\n",
       "      <td>010</td>\n",
       "      <td>0.023365</td>\n",
       "    </tr>\n",
       "  </tbody>\n",
       "</table>\n",
       "</div>"
      ],
      "text/plain": [
       "  mechanism direction purview state       phi\n",
       "0         A     CAUSE       A     0  0.492685\n",
       "1         A    EFFECT       A     0  0.633166\n",
       "2         B     CAUSE       B     1  0.228257\n",
       "3         B    EFFECT      AC    00  0.104252\n",
       "4         C     CAUSE       C     0  0.492685\n",
       "5         C    EFFECT       C     0  0.633166\n",
       "6       ABC     CAUSE      AC    00  0.070701\n",
       "7       ABC    EFFECT     ABC   010  0.023365"
      ]
     },
     "execution_count": 61,
     "metadata": {},
     "output_type": "execute_result"
    }
   ],
   "source": [
    "utils.sepces2df(sep(bestbig_sia.phi_structure.distinctions),subsystem)"
   ]
  },
  {
   "cell_type": "code",
   "execution_count": 62,
   "id": "cfbb8b07",
   "metadata": {},
   "outputs": [
    {
     "data": {
      "text/plain": [
       "48"
      ]
     },
     "execution_count": 62,
     "metadata": {},
     "output_type": "execute_result"
    }
   ],
   "source": [
    "len(bestbig_sia.phi_structure.relations)"
   ]
  },
  {
   "cell_type": "code",
   "execution_count": 63,
   "id": "eda7a6a3",
   "metadata": {},
   "outputs": [
    {
     "data": {
      "application/vnd.jupyter.widget-view+json": {
       "model_id": "ee6d875719e44387af6cb2092d41be53",
       "version_major": 2,
       "version_minor": 0
      },
      "text/plain": [
       "  0%|          | 0/7 [00:00<?, ?it/s]"
      ]
     },
     "metadata": {},
     "output_type": "display_data"
    },
    {
     "data": {
      "application/vnd.jupyter.widget-view+json": {
       "model_id": "814c42aa67134aa38f2990de4fe108bd",
       "version_major": 2,
       "version_minor": 0
      },
      "text/plain": [
       "  0%|          | 0/7 [00:00<?, ?it/s]"
      ]
     },
     "metadata": {},
     "output_type": "display_data"
    }
   ],
   "source": [
    "reflexive_ces = fill_slots_reflexive(subsystem)"
   ]
  },
  {
   "cell_type": "code",
   "execution_count": 64,
   "id": "e9df1a2a",
   "metadata": {},
   "outputs": [
    {
     "data": {
      "application/vnd.jupyter.widget-view+json": {
       "model_id": "754e810d1ed94d4da41c5e2cc6d77fc2",
       "version_major": 2,
       "version_minor": 0
      },
      "text/plain": [
       "  0%|          | 0/25 [00:00<?, ?it/s]"
      ]
     },
     "metadata": {},
     "output_type": "display_data"
    },
    {
     "name": "stderr",
     "output_type": "stream",
     "text": [
      "/home/mgrasso/pyphi/pyphi/utils.py:86: RuntimeWarning: invalid value encountered in double_scalars\n",
      "  return abs(x - y) <= constants.EPSILON\n",
      "/home/mgrasso/pyphi/pyphi/utils.py:86: RuntimeWarning: invalid value encountered in double_scalars\n",
      "  return abs(x - y) <= constants.EPSILON\n",
      "/home/mgrasso/pyphi/pyphi/utils.py:86: RuntimeWarning: invalid value encountered in double_scalars\n",
      "  return abs(x - y) <= constants.EPSILON\n"
     ]
    }
   ],
   "source": [
    "reflexive_relations = list(pyphi.relations.relations(subsystem,sep(reflexive_ces),parallel=True))"
   ]
  },
  {
   "cell_type": "code",
   "execution_count": 65,
   "id": "510665c8",
   "metadata": {},
   "outputs": [],
   "source": [
    "subsystem.clear_caches()"
   ]
  },
  {
   "cell_type": "code",
   "execution_count": 66,
   "id": "868196e3",
   "metadata": {},
   "outputs": [
    {
     "name": "stdout",
     "output_type": "stream",
     "text": [
      "Done putting relations\n",
      "Finding maximal compositional state\n"
     ]
    },
    {
     "data": {
      "application/vnd.jupyter.widget-view+json": {
       "model_id": "1d4c6050e13744d7a47d87aeebf5d8d5",
       "version_major": 2,
       "version_minor": 0
      },
      "text/plain": [
       "Submitting tasks: 0it [00:00, ?it/s]"
      ]
     },
     "metadata": {},
     "output_type": "display_data"
    },
    {
     "name": "stdout",
     "output_type": "stream",
     "text": [
      "Done submitting tasks\n"
     ]
    },
    {
     "data": {
      "application/vnd.jupyter.widget-view+json": {
       "model_id": "20489ddd99c3445c8724f21e2c00f6b5",
       "version_major": 2,
       "version_minor": 0
      },
      "text/plain": [
       "  0%|          | 0/1 [00:00<?, ?it/s]"
      ]
     },
     "metadata": {},
     "output_type": "display_data"
    },
    {
     "name": "stdout",
     "output_type": "stream",
     "text": [
      "Evaluating maximal compositional state\n",
      "Existence=4.45\n",
      "Irreducibility=0.0\n"
     ]
    }
   ],
   "source": [
    "reflexive_sia = pyphi.big_phi.sia(subsystem,reflexive_ces,reflexive_relations)\n",
    "\n",
    "reflexive_existence = np.round(sum(reflexive_sia.phi_structure.distinctions.phis)+sum([rel.phi for rel in reflexive_sia.phi_structure.relations]),2)\n",
    "print(f'Existence={reflexive_existence}\\nIrreducibility={reflexive_sia.phi}')"
   ]
  },
  {
   "cell_type": "code",
   "execution_count": 67,
   "id": "6e5672fd",
   "metadata": {},
   "outputs": [],
   "source": [
    "# fig = visualize_ces.plot_ces(\n",
    "#     subsystem,\n",
    "#     sep(sia.phi_structure.distinctions),\n",
    "#     sia.phi_structure.relations,\n",
    "#     base_rotation=0,\n",
    "#     base_z_offset=.3,\n",
    "#     network_name='ch3_reflexivity',    \n",
    "# )\n",
    "# fig.show()"
   ]
  },
  {
   "cell_type": "code",
   "execution_count": 68,
   "id": "25f61a41",
   "metadata": {},
   "outputs": [
    {
     "data": {
      "text/html": [
       "<div>\n",
       "<style scoped>\n",
       "    .dataframe tbody tr th:only-of-type {\n",
       "        vertical-align: middle;\n",
       "    }\n",
       "\n",
       "    .dataframe tbody tr th {\n",
       "        vertical-align: top;\n",
       "    }\n",
       "\n",
       "    .dataframe thead th {\n",
       "        text-align: right;\n",
       "    }\n",
       "</style>\n",
       "<table border=\"1\" class=\"dataframe\">\n",
       "  <thead>\n",
       "    <tr style=\"text-align: right;\">\n",
       "      <th></th>\n",
       "      <th>mechanism</th>\n",
       "      <th>direction</th>\n",
       "      <th>purview</th>\n",
       "      <th>state</th>\n",
       "      <th>phi</th>\n",
       "    </tr>\n",
       "  </thead>\n",
       "  <tbody>\n",
       "    <tr>\n",
       "      <th>0</th>\n",
       "      <td>A</td>\n",
       "      <td>CAUSE</td>\n",
       "      <td>A</td>\n",
       "      <td>0</td>\n",
       "      <td>0.492685</td>\n",
       "    </tr>\n",
       "    <tr>\n",
       "      <th>1</th>\n",
       "      <td>A</td>\n",
       "      <td>EFFECT</td>\n",
       "      <td>A</td>\n",
       "      <td>0</td>\n",
       "      <td>0.633166</td>\n",
       "    </tr>\n",
       "    <tr>\n",
       "      <th>2</th>\n",
       "      <td>B</td>\n",
       "      <td>CAUSE</td>\n",
       "      <td>B</td>\n",
       "      <td>1</td>\n",
       "      <td>0.228257</td>\n",
       "    </tr>\n",
       "    <tr>\n",
       "      <th>3</th>\n",
       "      <td>B</td>\n",
       "      <td>EFFECT</td>\n",
       "      <td>B</td>\n",
       "      <td>1</td>\n",
       "      <td>0.346988</td>\n",
       "    </tr>\n",
       "    <tr>\n",
       "      <th>4</th>\n",
       "      <td>C</td>\n",
       "      <td>CAUSE</td>\n",
       "      <td>C</td>\n",
       "      <td>0</td>\n",
       "      <td>0.492685</td>\n",
       "    </tr>\n",
       "    <tr>\n",
       "      <th>5</th>\n",
       "      <td>C</td>\n",
       "      <td>EFFECT</td>\n",
       "      <td>C</td>\n",
       "      <td>0</td>\n",
       "      <td>0.633166</td>\n",
       "    </tr>\n",
       "    <tr>\n",
       "      <th>6</th>\n",
       "      <td>ABC</td>\n",
       "      <td>CAUSE</td>\n",
       "      <td>AC</td>\n",
       "      <td>00</td>\n",
       "      <td>0.070701</td>\n",
       "    </tr>\n",
       "    <tr>\n",
       "      <th>7</th>\n",
       "      <td>ABC</td>\n",
       "      <td>EFFECT</td>\n",
       "      <td>ABC</td>\n",
       "      <td>010</td>\n",
       "      <td>0.023365</td>\n",
       "    </tr>\n",
       "  </tbody>\n",
       "</table>\n",
       "</div>"
      ],
      "text/plain": [
       "  mechanism direction purview state       phi\n",
       "0         A     CAUSE       A     0  0.492685\n",
       "1         A    EFFECT       A     0  0.633166\n",
       "2         B     CAUSE       B     1  0.228257\n",
       "3         B    EFFECT       B     1  0.346988\n",
       "4         C     CAUSE       C     0  0.492685\n",
       "5         C    EFFECT       C     0  0.633166\n",
       "6       ABC     CAUSE      AC    00  0.070701\n",
       "7       ABC    EFFECT     ABC   010  0.023365"
      ]
     },
     "execution_count": 68,
     "metadata": {},
     "output_type": "execute_result"
    }
   ],
   "source": [
    "utils.sepces2df(sep(reflexive_sia.phi_structure.distinctions),subsystem)"
   ]
  },
  {
   "cell_type": "code",
   "execution_count": 69,
   "id": "168ebe18",
   "metadata": {},
   "outputs": [
    {
     "data": {
      "text/plain": [
       "22"
      ]
     },
     "execution_count": 69,
     "metadata": {},
     "output_type": "execute_result"
    }
   ],
   "source": [
    "len(reflexive_sia.phi_structure.relations)"
   ]
  },
  {
   "cell_type": "code",
   "execution_count": 70,
   "id": "7a1f4f35",
   "metadata": {},
   "outputs": [],
   "source": [
    "# fig = visualize_ces.plot_ces(\n",
    "#     subsystem,\n",
    "#     sep(pruned_sia_ces),\n",
    "#     pruned_sia_rels,\n",
    "#     base_rotation=0,\n",
    "#     base_z_offset=.3,\n",
    "# )\n",
    "# fig.show()"
   ]
  },
  {
   "cell_type": "markdown",
   "id": "04e17651",
   "metadata": {},
   "source": [
    "## 5 nodes"
   ]
  },
  {
   "cell_type": "code",
   "execution_count": null,
   "id": "3fe02e0b",
   "metadata": {},
   "outputs": [],
   "source": [
    "subsystem = pyphi.Subsystem(network,state=(0,1,0,1,1,1),nodes=(0,1,2,3,5))\n",
    "ces = pyphi.compute.ces(subsystem)\n",
    "utils.sepces2df(sep(ces),subsystem)"
   ]
  },
  {
   "cell_type": "code",
   "execution_count": null,
   "id": "4e8caec8",
   "metadata": {},
   "outputs": [],
   "source": [
    "relations = list(pyphi.relations.relations(subsystem,sep(ces),max_degree=2))\n",
    "sia = pyphi.big_phi.sia(subsystem,ces,relations)\n",
    "sia.phi"
   ]
  },
  {
   "cell_type": "code",
   "execution_count": null,
   "id": "767bfc14",
   "metadata": {
    "scrolled": true
   },
   "outputs": [],
   "source": [
    "utils.sepces2df(sep(sia.phi_structure.distinctions),subsystem)"
   ]
  },
  {
   "cell_type": "code",
   "execution_count": null,
   "id": "9516fec0",
   "metadata": {},
   "outputs": [],
   "source": []
  }
 ],
 "metadata": {
  "kernelspec": {
   "display_name": "Python 3",
   "language": "python",
   "name": "python3"
  },
  "language_info": {
   "codemirror_mode": {
    "name": "ipython",
    "version": 3
   },
   "file_extension": ".py",
   "mimetype": "text/x-python",
   "name": "python",
   "nbconvert_exporter": "python",
   "pygments_lexer": "ipython3",
   "version": "3.9.7"
  }
 },
 "nbformat": 4,
 "nbformat_minor": 5
}
