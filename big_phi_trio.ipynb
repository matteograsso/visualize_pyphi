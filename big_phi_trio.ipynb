{
 "cells": [
  {
   "cell_type": "code",
   "execution_count": 1,
   "id": "7750c639",
   "metadata": {},
   "outputs": [],
   "source": [
    "%load_ext autoreload\n",
    "%autoreload 2"
   ]
  },
  {
   "cell_type": "code",
   "execution_count": 30,
   "id": "1d3bd096-df28-427e-bc3a-671da949bf9b",
   "metadata": {},
   "outputs": [
    {
     "name": "stdout",
     "output_type": "stream",
     "text": [
      "The blackcellmagic extension is already loaded. To reload it, use:\n",
      "  %reload_ext blackcellmagic\n"
     ]
    },
    {
     "data": {
      "text/plain": [
       "('IIT_4.0_SMALL_PHI', 'maximal-state-first', 'TRI')"
      ]
     },
     "execution_count": 30,
     "metadata": {},
     "output_type": "execute_result"
    }
   ],
   "source": [
    "%load_ext blackcellmagic\n",
    "\n",
    "import pyphi\n",
    "from visualize_pyphi import utils\n",
    "from visualize_pyphi import network_generator\n",
    "from visualize_pyphi import fill_slots\n",
    "import string\n",
    "import pickle as pkl\n",
    "from tqdm.auto import tqdm\n",
    "import numpy as np\n",
    "import itertools\n",
    "import toolz\n",
    "from pyphi.models.subsystem import FlatCauseEffectStructure as sep\n",
    "\n",
    "'''\n",
    "Check that the config parameters are correct (if not change pyphi_config.yml to match):\n",
    "REPERTOIRE_DISTANCE = 'IIT_4.0_SMALL_PHI'\n",
    "IIT_VERSION = 'maximal-state-first'\n",
    "PARTITION_TYPE = 'TRI'\n",
    "'''\n",
    "pyphi.config.REPERTOIRE_DISTANCE,pyphi.config.IIT_VERSION,pyphi.config.PARTITION_TYPE"
   ]
  },
  {
   "cell_type": "markdown",
   "id": "a34b2923",
   "metadata": {},
   "source": [
    "# Activation and weight function parameters"
   ]
  },
  {
   "cell_type": "code",
   "execution_count": 31,
   "id": "bed16193",
   "metadata": {},
   "outputs": [],
   "source": [
    "# Sigmoid formula is y = l / (l + np.e ** (-k * (x - x0)))\n",
    "# Sigmoid values\n",
    "l = 1\n",
    "x0 = .5\n",
    "k = 3.8"
   ]
  },
  {
   "cell_type": "code",
   "execution_count": 32,
   "id": "fb08e095",
   "metadata": {},
   "outputs": [],
   "source": [
    "# Weight decay\n",
    "decay_vals = np.linspace(1, 0, 200)\n",
    "\n",
    "weight_vals = []\n",
    "for d in decay_vals:\n",
    "    weights = [d ** n for n in range(0, 4)]\n",
    "    weight_vals.append(weights)"
   ]
  },
  {
   "cell_type": "code",
   "execution_count": 33,
   "id": "8903c0af",
   "metadata": {},
   "outputs": [],
   "source": [
    "decay_val = 198\n",
    "d = weight_vals[decay_val]"
   ]
  },
  {
   "cell_type": "markdown",
   "id": "e212ab40",
   "metadata": {},
   "source": [
    "### 3 nodes"
   ]
  },
  {
   "cell_type": "code",
   "execution_count": 23,
   "id": "276ed3c6",
   "metadata": {},
   "outputs": [
    {
     "name": "stdout",
     "output_type": "stream",
     "text": [
      "[0.99004975 0.00497512 0.00497512] \n",
      "sum = 1.0000000000000002\n"
     ]
    }
   ],
   "source": [
    "weights3node = [\n",
    "    weight_vals[decay_val][0],\n",
    "    weight_vals[decay_val][1],\n",
    "    weight_vals[decay_val][1],\n",
    "]\n",
    "weights3node = weights3node / sum(weights3node)\n",
    "print(weights3node,'\\nsum =',sum(weights3node))"
   ]
  },
  {
   "cell_type": "code",
   "execution_count": 24,
   "id": "53476f3f",
   "metadata": {},
   "outputs": [
    {
     "data": {
      "text/plain": [
       "(0.9900497512437813, 0.004975124378109475, 2.4999375015624835e-05)"
      ]
     },
     "execution_count": 24,
     "metadata": {},
     "output_type": "execute_result"
    }
   ],
   "source": [
    "# s = strong, m = medium, w = weak\n",
    "s = weights3node[0]\n",
    "m = weights3node[1]\n",
    "s,m,w"
   ]
  },
  {
   "cell_type": "code",
   "execution_count": 25,
   "id": "a38ec18c",
   "metadata": {},
   "outputs": [
    {
     "data": {
      "application/vnd.jupyter.widget-view+json": {
       "model_id": "1278c4954d79446495cf46b6bc426e66",
       "version_major": 2,
       "version_minor": 0
      },
      "text/plain": [
       "  0%|          | 0/8 [00:00<?, ?it/s]"
      ]
     },
     "metadata": {},
     "output_type": "display_data"
    }
   ],
   "source": [
    "net_name3 = \"bigphi3\"\n",
    "\n",
    "# 4 nodes toroidal grid, each node has 1 strong (self-loop), 2 medium (nearest neighbors) and one weak (far neighbor)\n",
    "weights = np.array(\n",
    "    [\n",
    "        [s, m, m],  # A\n",
    "        [m, s, m],  # B\n",
    "        [m, s, m],  # C\n",
    "        #A, B, C\n",
    "    ]\n",
    ")\n",
    "\n",
    "node_labels = [string.ascii_uppercase[n] for n in range(len(weights))]\n",
    "mech_func = ['l' for n in range(len(weights))] # \"l\" stands for LogFunc\n",
    "\n",
    "network = network_generator.get_net(\n",
    "    mech_func,\n",
    "    weights,\n",
    "    l=l,\n",
    "    k=k,\n",
    "    x0=x0,\n",
    "    node_labels=node_labels,\n",
    "    network_name=net_name4,\n",
    "    pickle_network=False,\n",
    ")\n",
    "\n",
    "state = (0, 0, 0)\n",
    "subsystem3 = pyphi.Subsystem(network, state)"
   ]
  },
  {
   "cell_type": "code",
   "execution_count": 26,
   "id": "22c70803",
   "metadata": {},
   "outputs": [
    {
     "data": {
      "application/vnd.jupyter.widget-view+json": {
       "model_id": "89281f843d624a5aa48aa1659a3a62d9",
       "version_major": 2,
       "version_minor": 0
      },
      "text/plain": [
       "  0%|          | 0/7 [00:00<?, ?it/s]"
      ]
     },
     "metadata": {},
     "output_type": "display_data"
    },
    {
     "data": {
      "application/vnd.jupyter.widget-view+json": {
       "model_id": "0e3524f749304dfeb71c39bc9327f39a",
       "version_major": 2,
       "version_minor": 0
      },
      "text/plain": [
       "  0%|          | 0/7 [00:00<?, ?it/s]"
      ]
     },
     "metadata": {},
     "output_type": "display_data"
    }
   ],
   "source": [
    "ces3 = fill_slots.fill_slots_reflexive(subsystem3)\n",
    "# utils.ces2df(ces4,subsystem4)"
   ]
  },
  {
   "cell_type": "code",
   "execution_count": 27,
   "id": "6906fef6",
   "metadata": {},
   "outputs": [
    {
     "data": {
      "application/vnd.jupyter.widget-view+json": {
       "model_id": "ef8095e6e3b14cc8ac5bed96b5d0d7f6",
       "version_major": 2,
       "version_minor": 0
      },
      "text/plain": [
       "  0%|          | 0/339 [00:00<?, ?it/s]"
      ]
     },
     "metadata": {},
     "output_type": "display_data"
    }
   ],
   "source": [
    "# To compute relations from scratch\n",
    "relations3 = pyphi.relations.relations(subsystem3,sep(ces3))"
   ]
  },
  {
   "cell_type": "code",
   "execution_count": 28,
   "id": "7ab29bfe",
   "metadata": {},
   "outputs": [
    {
     "name": "stdout",
     "output_type": "stream",
     "text": [
      "Done putting relations\n",
      "Finding maximal compositional state\n"
     ]
    },
    {
     "data": {
      "application/vnd.jupyter.widget-view+json": {
       "model_id": "4d8e3619845a40d4a359f644f5abb463",
       "version_major": 2,
       "version_minor": 0
      },
      "text/plain": [
       "Submitting tasks: 0it [00:00, ?it/s]"
      ]
     },
     "metadata": {},
     "output_type": "display_data"
    },
    {
     "name": "stdout",
     "output_type": "stream",
     "text": [
      "Done submitting tasks\n"
     ]
    },
    {
     "data": {
      "application/vnd.jupyter.widget-view+json": {
       "model_id": "292068acdadf42e6918873ac7bc98c47",
       "version_major": 2,
       "version_minor": 0
      },
      "text/plain": [
       "  0%|          | 0/1 [00:00<?, ?it/s]"
      ]
     },
     "metadata": {},
     "output_type": "display_data"
    },
    {
     "name": "stdout",
     "output_type": "stream",
     "text": [
      "Evaluating maximal compositional state\n"
     ]
    }
   ],
   "source": [
    "# Compute big phi\n",
    "sia3 = pyphi.big_phi.sia(subsystem3,ces3,relations3)"
   ]
  },
  {
   "cell_type": "code",
   "execution_count": 29,
   "id": "c0b77e24",
   "metadata": {},
   "outputs": [
    {
     "name": "stdout",
     "output_type": "stream",
     "text": [
      "bigphi3\n",
      "krels=all\n",
      "#rels=339\n",
      "bigphi=3.251937332271986\n"
     ]
    },
    {
     "data": {
      "text/html": [
       "<div>\n",
       "<style scoped>\n",
       "    .dataframe tbody tr th:only-of-type {\n",
       "        vertical-align: middle;\n",
       "    }\n",
       "\n",
       "    .dataframe tbody tr th {\n",
       "        vertical-align: top;\n",
       "    }\n",
       "\n",
       "    .dataframe thead th {\n",
       "        text-align: right;\n",
       "    }\n",
       "</style>\n",
       "<table border=\"1\" class=\"dataframe\">\n",
       "  <thead>\n",
       "    <tr style=\"text-align: right;\">\n",
       "      <th></th>\n",
       "      <th>mechanism</th>\n",
       "      <th>state</th>\n",
       "      <th>cause</th>\n",
       "      <th>state</th>\n",
       "      <th>phi</th>\n",
       "      <th>effect</th>\n",
       "      <th>state</th>\n",
       "      <th>phi</th>\n",
       "    </tr>\n",
       "  </thead>\n",
       "  <tbody>\n",
       "    <tr>\n",
       "      <th>0</th>\n",
       "      <td>A</td>\n",
       "      <td>0</td>\n",
       "      <td>A</td>\n",
       "      <td>0</td>\n",
       "      <td>0.690120</td>\n",
       "      <td>A</td>\n",
       "      <td>0</td>\n",
       "      <td>0.690120</td>\n",
       "    </tr>\n",
       "    <tr>\n",
       "      <th>1</th>\n",
       "      <td>B</td>\n",
       "      <td>0</td>\n",
       "      <td>B</td>\n",
       "      <td>0</td>\n",
       "      <td>0.717256</td>\n",
       "      <td>B</td>\n",
       "      <td>0</td>\n",
       "      <td>0.408509</td>\n",
       "    </tr>\n",
       "    <tr>\n",
       "      <th>2</th>\n",
       "      <td>C</td>\n",
       "      <td>0</td>\n",
       "      <td>C</td>\n",
       "      <td>0</td>\n",
       "      <td>0.000910</td>\n",
       "      <td>C</td>\n",
       "      <td>0</td>\n",
       "      <td>0.001577</td>\n",
       "    </tr>\n",
       "    <tr>\n",
       "      <th>3</th>\n",
       "      <td>AB</td>\n",
       "      <td>00</td>\n",
       "      <td>BC</td>\n",
       "      <td>00</td>\n",
       "      <td>0.001145</td>\n",
       "      <td>BC</td>\n",
       "      <td>00</td>\n",
       "      <td>0.002148</td>\n",
       "    </tr>\n",
       "    <tr>\n",
       "      <th>4</th>\n",
       "      <td>AC</td>\n",
       "      <td>00</td>\n",
       "      <td>AC</td>\n",
       "      <td>00</td>\n",
       "      <td>0.000985</td>\n",
       "      <td>AC</td>\n",
       "      <td>00</td>\n",
       "      <td>0.002721</td>\n",
       "    </tr>\n",
       "    <tr>\n",
       "      <th>5</th>\n",
       "      <td>ABC</td>\n",
       "      <td>000</td>\n",
       "      <td>ABC</td>\n",
       "      <td>000</td>\n",
       "      <td>0.000884</td>\n",
       "      <td>ABC</td>\n",
       "      <td>000</td>\n",
       "      <td>0.004717</td>\n",
       "    </tr>\n",
       "  </tbody>\n",
       "</table>\n",
       "</div>"
      ],
      "text/plain": [
       "  mechanism state cause state       phi effect state       phi\n",
       "0         A     0     A     0  0.690120      A     0  0.690120\n",
       "1         B     0     B     0  0.717256      B     0  0.408509\n",
       "2         C     0     C     0  0.000910      C     0  0.001577\n",
       "3        AB    00    BC    00  0.001145     BC    00  0.002148\n",
       "4        AC    00    AC    00  0.000985     AC    00  0.002721\n",
       "5       ABC   000   ABC   000  0.000884    ABC   000  0.004717"
      ]
     },
     "execution_count": 29,
     "metadata": {},
     "output_type": "execute_result"
    }
   ],
   "source": [
    "print(f'{net_name3}\\nkrels=all\\n#rels={len(sia3.phi_structure.relations)}\\nbigphi={sia3.phi}')\n",
    "utils.ces2df(sia3.phi_structure.distinctions,subsystem3)"
   ]
  },
  {
   "cell_type": "markdown",
   "id": "a7c48982",
   "metadata": {},
   "source": [
    "### 4 nodes"
   ]
  },
  {
   "cell_type": "code",
   "execution_count": 6,
   "id": "e3a97c26",
   "metadata": {},
   "outputs": [
    {
     "name": "stdout",
     "output_type": "stream",
     "text": [
      "[9.90025e-01 4.97500e-03 4.97500e-03 2.50000e-05] \n",
      "sum = 1.0000000000000004\n"
     ]
    }
   ],
   "source": [
    "weights4node = [\n",
    "    weight_vals[decay_val][0],\n",
    "    weight_vals[decay_val][1],\n",
    "    weight_vals[decay_val][1],\n",
    "    weight_vals[decay_val][2],\n",
    "]\n",
    "weights4node = weights4node / sum(weights4node)\n",
    "print(weights4node,'\\nsum =',sum(weights4node))"
   ]
  },
  {
   "cell_type": "code",
   "execution_count": 7,
   "id": "8bd21c32",
   "metadata": {},
   "outputs": [
    {
     "data": {
      "text/plain": [
       "(0.9900250000000003, 0.004975000000000023, 2.5000000000000225e-05)"
      ]
     },
     "execution_count": 7,
     "metadata": {},
     "output_type": "execute_result"
    }
   ],
   "source": [
    "# s = strong, m = medium, w = weak\n",
    "s = weights4node[0]\n",
    "m = weights4node[1]\n",
    "w = weights4node[3]\n",
    "s,m,w"
   ]
  },
  {
   "cell_type": "code",
   "execution_count": 8,
   "id": "67cf140d",
   "metadata": {},
   "outputs": [
    {
     "data": {
      "application/vnd.jupyter.widget-view+json": {
       "model_id": "e41a6910f91a4a778be1586b1fa64f48",
       "version_major": 2,
       "version_minor": 0
      },
      "text/plain": [
       "  0%|          | 0/16 [00:00<?, ?it/s]"
      ]
     },
     "metadata": {},
     "output_type": "display_data"
    }
   ],
   "source": [
    "net_name4 = \"bigphi4\"\n",
    "\n",
    "# 4 nodes toroidal grid, each node has 1 strong (self-loop), 2 medium (nearest neighbors) and one weak (far neighbor)\n",
    "weights = np.array(\n",
    "    [\n",
    "        [s, m, w, m],  # A\n",
    "        [m, s, m, w],  # B\n",
    "        [w, m, s, m],  # C\n",
    "        [m, w, m, s],  # D\n",
    "        #A, B, C, D\n",
    "    ]\n",
    ")\n",
    "\n",
    "node_labels = [string.ascii_uppercase[n] for n in range(len(weights))]\n",
    "mech_func = ['l' for n in range(len(weights))] # \"l\" stands for LogFunc\n",
    "\n",
    "network = network_generator.get_net(\n",
    "    mech_func,\n",
    "    weights,\n",
    "    l=l,\n",
    "    k=k,\n",
    "    x0=x0,\n",
    "    node_labels=node_labels,\n",
    "    network_name=net_name4,\n",
    "    pickle_network=False,\n",
    ")\n",
    "\n",
    "state = (0, 0, 0, 0)\n",
    "subsystem4 = pyphi.Subsystem(network, state)"
   ]
  },
  {
   "cell_type": "code",
   "execution_count": 9,
   "id": "5a67ab6d",
   "metadata": {},
   "outputs": [
    {
     "data": {
      "application/vnd.jupyter.widget-view+json": {
       "model_id": "9f2ab8c3afe940089d2f403741b0b4c2",
       "version_major": 2,
       "version_minor": 0
      },
      "text/plain": [
       "  0%|          | 0/15 [00:00<?, ?it/s]"
      ]
     },
     "metadata": {},
     "output_type": "display_data"
    },
    {
     "data": {
      "application/vnd.jupyter.widget-view+json": {
       "model_id": "2f0049884e6344cf8f5fbff9bcf8aab7",
       "version_major": 2,
       "version_minor": 0
      },
      "text/plain": [
       "  0%|          | 0/15 [00:00<?, ?it/s]"
      ]
     },
     "metadata": {},
     "output_type": "display_data"
    }
   ],
   "source": [
    "ces4 = fill_slots.fill_slots_reflexive(subsystem4)\n",
    "# utils.ces2df(ces4,subsystem4)"
   ]
  },
  {
   "cell_type": "code",
   "execution_count": 10,
   "id": "7ebb867a",
   "metadata": {},
   "outputs": [],
   "source": [
    "# To compute relations from scratch\n",
    "relations4 = pyphi.relations.relations(subsystem,sep(ces),max_degree=2)"
   ]
  },
  {
   "cell_type": "code",
   "execution_count": 11,
   "id": "8b0d6ab7",
   "metadata": {},
   "outputs": [
    {
     "data": {
      "application/vnd.jupyter.widget-view+json": {
       "model_id": "8dc59c627fa34efd8eb6d0879fbaf987",
       "version_major": 2,
       "version_minor": 0
      },
      "text/plain": [
       "  0%|          | 0/27 [00:00<?, ?it/s]"
      ]
     },
     "metadata": {},
     "output_type": "display_data"
    },
    {
     "data": {
      "application/vnd.jupyter.widget-view+json": {
       "model_id": "27b0f92ee123460c890c200d201b314c",
       "version_major": 2,
       "version_minor": 0
      },
      "text/plain": [
       "  0%|          | 0/65138 [00:00<?, ?it/s]"
      ]
     },
     "metadata": {},
     "output_type": "display_data"
    }
   ],
   "source": [
    "# #To load precomputed relations\n",
    "# relations4 = utils.decompress_relations(subsystem4, ces4, f\"relations/{net_name4}_*\")"
   ]
  },
  {
   "cell_type": "code",
   "execution_count": 12,
   "id": "85d3b87f",
   "metadata": {},
   "outputs": [
    {
     "name": "stderr",
     "output_type": "stream",
     "text": [
      "2022-02-14 10:35:58,105\tINFO services.py:1338 -- View the Ray dashboard at \u001b[1m\u001b[32mhttp://127.0.0.1:8269\u001b[39m\u001b[22m\n"
     ]
    },
    {
     "name": "stdout",
     "output_type": "stream",
     "text": [
      "Done putting relations\n",
      "Finding maximal compositional state\n"
     ]
    },
    {
     "data": {
      "application/vnd.jupyter.widget-view+json": {
       "model_id": "a162c3afa9ba4964b4eda00b2b981012",
       "version_major": 2,
       "version_minor": 0
      },
      "text/plain": [
       "Submitting tasks: 0it [00:00, ?it/s]"
      ]
     },
     "metadata": {},
     "output_type": "display_data"
    },
    {
     "name": "stdout",
     "output_type": "stream",
     "text": [
      "Done submitting tasks\n"
     ]
    },
    {
     "data": {
      "application/vnd.jupyter.widget-view+json": {
       "model_id": "63cdd2a8ce5646dabb7e0c87a8c39878",
       "version_major": 2,
       "version_minor": 0
      },
      "text/plain": [
       "  0%|          | 0/1 [00:00<?, ?it/s]"
      ]
     },
     "metadata": {},
     "output_type": "display_data"
    },
    {
     "name": "stdout",
     "output_type": "stream",
     "text": [
      "Evaluating maximal compositional state\n"
     ]
    }
   ],
   "source": [
    "# Compute big phi\n",
    "sia4 = pyphi.big_phi.sia(subsystem4,ces4,relations4)"
   ]
  },
  {
   "cell_type": "code",
   "execution_count": 13,
   "id": "d35edd9d",
   "metadata": {},
   "outputs": [
    {
     "name": "stdout",
     "output_type": "stream",
     "text": [
      "bigphi4\n",
      "krels=all\n",
      "#rels=65138\n",
      "bigphi=522.5734344627173\n"
     ]
    },
    {
     "data": {
      "text/html": [
       "<div>\n",
       "<style scoped>\n",
       "    .dataframe tbody tr th:only-of-type {\n",
       "        vertical-align: middle;\n",
       "    }\n",
       "\n",
       "    .dataframe tbody tr th {\n",
       "        vertical-align: top;\n",
       "    }\n",
       "\n",
       "    .dataframe thead th {\n",
       "        text-align: right;\n",
       "    }\n",
       "</style>\n",
       "<table border=\"1\" class=\"dataframe\">\n",
       "  <thead>\n",
       "    <tr style=\"text-align: right;\">\n",
       "      <th></th>\n",
       "      <th>mechanism</th>\n",
       "      <th>state</th>\n",
       "      <th>cause</th>\n",
       "      <th>state</th>\n",
       "      <th>phi</th>\n",
       "      <th>effect</th>\n",
       "      <th>state</th>\n",
       "      <th>phi</th>\n",
       "    </tr>\n",
       "  </thead>\n",
       "  <tbody>\n",
       "    <tr>\n",
       "      <th>0</th>\n",
       "      <td>A</td>\n",
       "      <td>0</td>\n",
       "      <td>A</td>\n",
       "      <td>0</td>\n",
       "      <td>0.690108</td>\n",
       "      <td>A</td>\n",
       "      <td>0</td>\n",
       "      <td>0.690108</td>\n",
       "    </tr>\n",
       "    <tr>\n",
       "      <th>1</th>\n",
       "      <td>B</td>\n",
       "      <td>0</td>\n",
       "      <td>B</td>\n",
       "      <td>0</td>\n",
       "      <td>0.690108</td>\n",
       "      <td>B</td>\n",
       "      <td>0</td>\n",
       "      <td>0.690108</td>\n",
       "    </tr>\n",
       "    <tr>\n",
       "      <th>2</th>\n",
       "      <td>C</td>\n",
       "      <td>0</td>\n",
       "      <td>C</td>\n",
       "      <td>0</td>\n",
       "      <td>0.690108</td>\n",
       "      <td>C</td>\n",
       "      <td>0</td>\n",
       "      <td>0.690108</td>\n",
       "    </tr>\n",
       "    <tr>\n",
       "      <th>3</th>\n",
       "      <td>D</td>\n",
       "      <td>0</td>\n",
       "      <td>D</td>\n",
       "      <td>0</td>\n",
       "      <td>0.690108</td>\n",
       "      <td>D</td>\n",
       "      <td>0</td>\n",
       "      <td>0.690108</td>\n",
       "    </tr>\n",
       "    <tr>\n",
       "      <th>4</th>\n",
       "      <td>AB</td>\n",
       "      <td>00</td>\n",
       "      <td>AB</td>\n",
       "      <td>00</td>\n",
       "      <td>0.000746</td>\n",
       "      <td>AB</td>\n",
       "      <td>00</td>\n",
       "      <td>0.002721</td>\n",
       "    </tr>\n",
       "    <tr>\n",
       "      <th>5</th>\n",
       "      <td>AC</td>\n",
       "      <td>00</td>\n",
       "      <td>AC</td>\n",
       "      <td>00</td>\n",
       "      <td>0.000004</td>\n",
       "      <td>AC</td>\n",
       "      <td>00</td>\n",
       "      <td>0.000014</td>\n",
       "    </tr>\n",
       "    <tr>\n",
       "      <th>6</th>\n",
       "      <td>AD</td>\n",
       "      <td>00</td>\n",
       "      <td>AD</td>\n",
       "      <td>00</td>\n",
       "      <td>0.000746</td>\n",
       "      <td>AD</td>\n",
       "      <td>00</td>\n",
       "      <td>0.002721</td>\n",
       "    </tr>\n",
       "    <tr>\n",
       "      <th>7</th>\n",
       "      <td>BC</td>\n",
       "      <td>00</td>\n",
       "      <td>BC</td>\n",
       "      <td>00</td>\n",
       "      <td>0.000746</td>\n",
       "      <td>BC</td>\n",
       "      <td>00</td>\n",
       "      <td>0.002721</td>\n",
       "    </tr>\n",
       "    <tr>\n",
       "      <th>8</th>\n",
       "      <td>BD</td>\n",
       "      <td>00</td>\n",
       "      <td>BD</td>\n",
       "      <td>00</td>\n",
       "      <td>0.000004</td>\n",
       "      <td>BD</td>\n",
       "      <td>00</td>\n",
       "      <td>0.000014</td>\n",
       "    </tr>\n",
       "    <tr>\n",
       "      <th>9</th>\n",
       "      <td>CD</td>\n",
       "      <td>00</td>\n",
       "      <td>CD</td>\n",
       "      <td>00</td>\n",
       "      <td>0.000746</td>\n",
       "      <td>CD</td>\n",
       "      <td>00</td>\n",
       "      <td>0.002721</td>\n",
       "    </tr>\n",
       "    <tr>\n",
       "      <th>10</th>\n",
       "      <td>ABC</td>\n",
       "      <td>000</td>\n",
       "      <td>ACD</td>\n",
       "      <td>000</td>\n",
       "      <td>0.000629</td>\n",
       "      <td>ABC</td>\n",
       "      <td>000</td>\n",
       "      <td>0.002369</td>\n",
       "    </tr>\n",
       "    <tr>\n",
       "      <th>11</th>\n",
       "      <td>ABD</td>\n",
       "      <td>000</td>\n",
       "      <td>BCD</td>\n",
       "      <td>000</td>\n",
       "      <td>0.000629</td>\n",
       "      <td>ABD</td>\n",
       "      <td>000</td>\n",
       "      <td>0.002369</td>\n",
       "    </tr>\n",
       "    <tr>\n",
       "      <th>12</th>\n",
       "      <td>ACD</td>\n",
       "      <td>000</td>\n",
       "      <td>ABC</td>\n",
       "      <td>000</td>\n",
       "      <td>0.000629</td>\n",
       "      <td>ACD</td>\n",
       "      <td>000</td>\n",
       "      <td>0.002369</td>\n",
       "    </tr>\n",
       "    <tr>\n",
       "      <th>13</th>\n",
       "      <td>BCD</td>\n",
       "      <td>000</td>\n",
       "      <td>ABD</td>\n",
       "      <td>000</td>\n",
       "      <td>0.000629</td>\n",
       "      <td>BCD</td>\n",
       "      <td>000</td>\n",
       "      <td>0.002369</td>\n",
       "    </tr>\n",
       "  </tbody>\n",
       "</table>\n",
       "</div>"
      ],
      "text/plain": [
       "   mechanism state cause state       phi effect state       phi\n",
       "0          A     0     A     0  0.690108      A     0  0.690108\n",
       "1          B     0     B     0  0.690108      B     0  0.690108\n",
       "2          C     0     C     0  0.690108      C     0  0.690108\n",
       "3          D     0     D     0  0.690108      D     0  0.690108\n",
       "4         AB    00    AB    00  0.000746     AB    00  0.002721\n",
       "5         AC    00    AC    00  0.000004     AC    00  0.000014\n",
       "6         AD    00    AD    00  0.000746     AD    00  0.002721\n",
       "7         BC    00    BC    00  0.000746     BC    00  0.002721\n",
       "8         BD    00    BD    00  0.000004     BD    00  0.000014\n",
       "9         CD    00    CD    00  0.000746     CD    00  0.002721\n",
       "10       ABC   000   ACD   000  0.000629    ABC   000  0.002369\n",
       "11       ABD   000   BCD   000  0.000629    ABD   000  0.002369\n",
       "12       ACD   000   ABC   000  0.000629    ACD   000  0.002369\n",
       "13       BCD   000   ABD   000  0.000629    BCD   000  0.002369"
      ]
     },
     "execution_count": 13,
     "metadata": {},
     "output_type": "execute_result"
    }
   ],
   "source": [
    "print(f'{net_name4}\\nkrels=all\\n#rels={len(sia4.phi_structure.relations)}\\nbigphi={sia4.phi}')\n",
    "utils.ces2df(sia4.phi_structure.distinctions,subsystem4)"
   ]
  },
  {
   "cell_type": "markdown",
   "id": "2f43443d",
   "metadata": {},
   "source": [
    "### 5 nodes"
   ]
  },
  {
   "cell_type": "code",
   "execution_count": 14,
   "id": "ce55036e",
   "metadata": {},
   "outputs": [
    {
     "name": "stdout",
     "output_type": "stream",
     "text": [
      "[9.90000250e-01 4.97487563e-03 4.97487563e-03 2.49993750e-05\n",
      " 2.49993750e-05] \n",
      "sum = 1.0000000000000002\n"
     ]
    }
   ],
   "source": [
    "weights5node = [\n",
    "    weight_vals[decay_val][0],\n",
    "    weight_vals[decay_val][1],\n",
    "    weight_vals[decay_val][1],\n",
    "    weight_vals[decay_val][2],\n",
    "    weight_vals[decay_val][2]    \n",
    "]\n",
    "weights5node = weights5node / sum(weights5node)\n",
    "print(weights5node,'\\nsum =',sum(weights5node))"
   ]
  },
  {
   "cell_type": "code",
   "execution_count": 15,
   "id": "3f22fce8",
   "metadata": {},
   "outputs": [
    {
     "data": {
      "text/plain": [
       "(0.9900002499937505, 0.004974875628109321, 2.4999375015624835e-05)"
      ]
     },
     "execution_count": 15,
     "metadata": {},
     "output_type": "execute_result"
    }
   ],
   "source": [
    "# s = strong, m = medium, w = weak\n",
    "s = weights5node[0]\n",
    "m = weights5node[1]\n",
    "w = weights5node[3]\n",
    "s,m,w"
   ]
  },
  {
   "cell_type": "code",
   "execution_count": 16,
   "id": "25798e3f",
   "metadata": {
    "scrolled": false
   },
   "outputs": [
    {
     "data": {
      "application/vnd.jupyter.widget-view+json": {
       "model_id": "fad563d6e5c348a2b19e2cdb9e179072",
       "version_major": 2,
       "version_minor": 0
      },
      "text/plain": [
       "  0%|          | 0/32 [00:00<?, ?it/s]"
      ]
     },
     "metadata": {},
     "output_type": "display_data"
    }
   ],
   "source": [
    "net_name5 = \"bigphi5\"\n",
    "\n",
    "# 5 nodes toroidal grid, each node has 1 strong (self-loop), 2 medium (nearest neighbors) and two weak (far neighbors)\n",
    "weights = np.array(\n",
    "    [\n",
    "        [s, m, w, w, m],  # A\n",
    "        [m, s, m, w, w],  # B\n",
    "        [w, m, s, m, w],  # C\n",
    "        [w, w, m, s, m],  # D\n",
    "        [m, w, w, m, s],  # E\n",
    "        #A, B, C, D, E\n",
    "    ]\n",
    ")\n",
    "\n",
    "node_labels = [string.ascii_uppercase[n] for n in range(len(weights))]\n",
    "mech_func = ['l' for n in range(len(weights))] # \"l\" stands for LogFunc\n",
    "\n",
    "network = network_generator.get_net(\n",
    "    mech_func,\n",
    "    weights,\n",
    "    l=l,\n",
    "    k=k,\n",
    "    x0=x0,\n",
    "    node_labels=node_labels,\n",
    "    network_name=net_name5,\n",
    "    pickle_network=False,\n",
    ")\n",
    "\n",
    "state = (0, 0, 0, 0, 0)\n",
    "subsystem5 = pyphi.Subsystem(network, state)"
   ]
  },
  {
   "cell_type": "code",
   "execution_count": 18,
   "id": "247df7bf",
   "metadata": {},
   "outputs": [
    {
     "data": {
      "application/vnd.jupyter.widget-view+json": {
       "model_id": "d5d73f2d0edc4e6c8ae2612ee9967e78",
       "version_major": 2,
       "version_minor": 0
      },
      "text/plain": [
       "  0%|          | 0/31 [00:00<?, ?it/s]"
      ]
     },
     "metadata": {},
     "output_type": "display_data"
    },
    {
     "data": {
      "application/vnd.jupyter.widget-view+json": {
       "model_id": "1231a281992c46af92e4495a7502049f",
       "version_major": 2,
       "version_minor": 0
      },
      "text/plain": [
       "  0%|          | 0/31 [00:00<?, ?it/s]"
      ]
     },
     "metadata": {},
     "output_type": "display_data"
    }
   ],
   "source": [
    "ces5 = fill_slots.fill_slots_reflexive(subsystem5)\n",
    "# utils.ces2df(ces5,subsystem5)"
   ]
  },
  {
   "cell_type": "code",
   "execution_count": 19,
   "id": "7c19e572",
   "metadata": {},
   "outputs": [],
   "source": [
    "# To compute relations from scratch\n",
    "relations5 = pyphi.relations.relations(subsystem,sep(ces),max_degree=2)"
   ]
  },
  {
   "cell_type": "code",
   "execution_count": 20,
   "id": "8370fec1",
   "metadata": {},
   "outputs": [
    {
     "data": {
      "application/vnd.jupyter.widget-view+json": {
       "model_id": "f862d4f2abe14e1aab7df12e1d03338d",
       "version_major": 2,
       "version_minor": 0
      },
      "text/plain": [
       "  0%|          | 0/1 [00:00<?, ?it/s]"
      ]
     },
     "metadata": {},
     "output_type": "display_data"
    },
    {
     "data": {
      "application/vnd.jupyter.widget-view+json": {
       "model_id": "6af9ef6177444ecb8c7afc9e2677689f",
       "version_major": 2,
       "version_minor": 0
      },
      "text/plain": [
       "  0%|          | 0/59225 [00:00<?, ?it/s]"
      ]
     },
     "metadata": {},
     "output_type": "display_data"
    }
   ],
   "source": [
    "# #To load precomputed relations\n",
    "# r_degree = 4\n",
    "# relations5 = utils.decompress_relations(subsystem5, ces5, f\"relations/{net_name5}_krels_{r_degree}*\")"
   ]
  },
  {
   "cell_type": "code",
   "execution_count": 21,
   "id": "e8279a8b",
   "metadata": {},
   "outputs": [
    {
     "name": "stdout",
     "output_type": "stream",
     "text": [
      "Done putting relations\n",
      "Finding maximal compositional state\n"
     ]
    },
    {
     "data": {
      "application/vnd.jupyter.widget-view+json": {
       "model_id": "999e0a1a300d47cdab07b0bc5d2ece28",
       "version_major": 2,
       "version_minor": 0
      },
      "text/plain": [
       "Submitting tasks: 0it [00:00, ?it/s]"
      ]
     },
     "metadata": {},
     "output_type": "display_data"
    },
    {
     "name": "stdout",
     "output_type": "stream",
     "text": [
      "Done submitting tasks\n"
     ]
    },
    {
     "data": {
      "application/vnd.jupyter.widget-view+json": {
       "model_id": "bec2c39f27fc4f9bbc0096b005a27196",
       "version_major": 2,
       "version_minor": 0
      },
      "text/plain": [
       "  0%|          | 0/1 [00:00<?, ?it/s]"
      ]
     },
     "metadata": {},
     "output_type": "display_data"
    },
    {
     "name": "stdout",
     "output_type": "stream",
     "text": [
      "Evaluating maximal compositional state\n"
     ]
    }
   ],
   "source": [
    "# Compute big phi\n",
    "sia5 = pyphi.big_phi.sia(subsystem5,ces5,relations5)"
   ]
  },
  {
   "cell_type": "code",
   "execution_count": 22,
   "id": "6ee10a77",
   "metadata": {},
   "outputs": [
    {
     "name": "stdout",
     "output_type": "stream",
     "text": [
      "bigphi5\n",
      "krels=4\n",
      "#rels=59225\n",
      "bigphi=0.02005838021693895\n"
     ]
    },
    {
     "data": {
      "text/html": [
       "<div>\n",
       "<style scoped>\n",
       "    .dataframe tbody tr th:only-of-type {\n",
       "        vertical-align: middle;\n",
       "    }\n",
       "\n",
       "    .dataframe tbody tr th {\n",
       "        vertical-align: top;\n",
       "    }\n",
       "\n",
       "    .dataframe thead th {\n",
       "        text-align: right;\n",
       "    }\n",
       "</style>\n",
       "<table border=\"1\" class=\"dataframe\">\n",
       "  <thead>\n",
       "    <tr style=\"text-align: right;\">\n",
       "      <th></th>\n",
       "      <th>mechanism</th>\n",
       "      <th>state</th>\n",
       "      <th>cause</th>\n",
       "      <th>state</th>\n",
       "      <th>phi</th>\n",
       "      <th>effect</th>\n",
       "      <th>state</th>\n",
       "      <th>phi</th>\n",
       "    </tr>\n",
       "  </thead>\n",
       "  <tbody>\n",
       "    <tr>\n",
       "      <th>0</th>\n",
       "      <td>A</td>\n",
       "      <td>0</td>\n",
       "      <td>A</td>\n",
       "      <td>0</td>\n",
       "      <td>0.690096</td>\n",
       "      <td>A</td>\n",
       "      <td>0</td>\n",
       "      <td>0.690096</td>\n",
       "    </tr>\n",
       "    <tr>\n",
       "      <th>1</th>\n",
       "      <td>B</td>\n",
       "      <td>0</td>\n",
       "      <td>B</td>\n",
       "      <td>0</td>\n",
       "      <td>0.690096</td>\n",
       "      <td>B</td>\n",
       "      <td>0</td>\n",
       "      <td>0.690096</td>\n",
       "    </tr>\n",
       "    <tr>\n",
       "      <th>2</th>\n",
       "      <td>C</td>\n",
       "      <td>0</td>\n",
       "      <td>C</td>\n",
       "      <td>0</td>\n",
       "      <td>0.690096</td>\n",
       "      <td>C</td>\n",
       "      <td>0</td>\n",
       "      <td>0.690096</td>\n",
       "    </tr>\n",
       "    <tr>\n",
       "      <th>3</th>\n",
       "      <td>D</td>\n",
       "      <td>0</td>\n",
       "      <td>D</td>\n",
       "      <td>0</td>\n",
       "      <td>0.690096</td>\n",
       "      <td>D</td>\n",
       "      <td>0</td>\n",
       "      <td>0.690096</td>\n",
       "    </tr>\n",
       "    <tr>\n",
       "      <th>4</th>\n",
       "      <td>E</td>\n",
       "      <td>0</td>\n",
       "      <td>E</td>\n",
       "      <td>0</td>\n",
       "      <td>0.690096</td>\n",
       "      <td>E</td>\n",
       "      <td>0</td>\n",
       "      <td>0.690096</td>\n",
       "    </tr>\n",
       "    <tr>\n",
       "      <th>5</th>\n",
       "      <td>AB</td>\n",
       "      <td>00</td>\n",
       "      <td>AB</td>\n",
       "      <td>00</td>\n",
       "      <td>0.000746</td>\n",
       "      <td>AB</td>\n",
       "      <td>00</td>\n",
       "      <td>0.002721</td>\n",
       "    </tr>\n",
       "    <tr>\n",
       "      <th>6</th>\n",
       "      <td>AC</td>\n",
       "      <td>00</td>\n",
       "      <td>AC</td>\n",
       "      <td>00</td>\n",
       "      <td>0.000004</td>\n",
       "      <td>AC</td>\n",
       "      <td>00</td>\n",
       "      <td>0.000014</td>\n",
       "    </tr>\n",
       "    <tr>\n",
       "      <th>7</th>\n",
       "      <td>AD</td>\n",
       "      <td>00</td>\n",
       "      <td>AD</td>\n",
       "      <td>00</td>\n",
       "      <td>0.000004</td>\n",
       "      <td>AD</td>\n",
       "      <td>00</td>\n",
       "      <td>0.000014</td>\n",
       "    </tr>\n",
       "    <tr>\n",
       "      <th>8</th>\n",
       "      <td>AE</td>\n",
       "      <td>00</td>\n",
       "      <td>AE</td>\n",
       "      <td>00</td>\n",
       "      <td>0.000746</td>\n",
       "      <td>AE</td>\n",
       "      <td>00</td>\n",
       "      <td>0.002721</td>\n",
       "    </tr>\n",
       "    <tr>\n",
       "      <th>9</th>\n",
       "      <td>BC</td>\n",
       "      <td>00</td>\n",
       "      <td>BC</td>\n",
       "      <td>00</td>\n",
       "      <td>0.000746</td>\n",
       "      <td>BC</td>\n",
       "      <td>00</td>\n",
       "      <td>0.002721</td>\n",
       "    </tr>\n",
       "    <tr>\n",
       "      <th>10</th>\n",
       "      <td>BD</td>\n",
       "      <td>00</td>\n",
       "      <td>BD</td>\n",
       "      <td>00</td>\n",
       "      <td>0.000004</td>\n",
       "      <td>BD</td>\n",
       "      <td>00</td>\n",
       "      <td>0.000014</td>\n",
       "    </tr>\n",
       "    <tr>\n",
       "      <th>11</th>\n",
       "      <td>BE</td>\n",
       "      <td>00</td>\n",
       "      <td>BE</td>\n",
       "      <td>00</td>\n",
       "      <td>0.000004</td>\n",
       "      <td>BE</td>\n",
       "      <td>00</td>\n",
       "      <td>0.000014</td>\n",
       "    </tr>\n",
       "    <tr>\n",
       "      <th>12</th>\n",
       "      <td>CD</td>\n",
       "      <td>00</td>\n",
       "      <td>CD</td>\n",
       "      <td>00</td>\n",
       "      <td>0.000746</td>\n",
       "      <td>CD</td>\n",
       "      <td>00</td>\n",
       "      <td>0.002721</td>\n",
       "    </tr>\n",
       "    <tr>\n",
       "      <th>13</th>\n",
       "      <td>CE</td>\n",
       "      <td>00</td>\n",
       "      <td>CE</td>\n",
       "      <td>00</td>\n",
       "      <td>0.000004</td>\n",
       "      <td>CE</td>\n",
       "      <td>00</td>\n",
       "      <td>0.000014</td>\n",
       "    </tr>\n",
       "    <tr>\n",
       "      <th>14</th>\n",
       "      <td>DE</td>\n",
       "      <td>00</td>\n",
       "      <td>DE</td>\n",
       "      <td>00</td>\n",
       "      <td>0.000746</td>\n",
       "      <td>DE</td>\n",
       "      <td>00</td>\n",
       "      <td>0.002721</td>\n",
       "    </tr>\n",
       "    <tr>\n",
       "      <th>15</th>\n",
       "      <td>ABD</td>\n",
       "      <td>000</td>\n",
       "      <td>ABD</td>\n",
       "      <td>000</td>\n",
       "      <td>0.000007</td>\n",
       "      <td>ABD</td>\n",
       "      <td>000</td>\n",
       "      <td>0.000024</td>\n",
       "    </tr>\n",
       "    <tr>\n",
       "      <th>16</th>\n",
       "      <td>ACD</td>\n",
       "      <td>000</td>\n",
       "      <td>ACD</td>\n",
       "      <td>000</td>\n",
       "      <td>0.000007</td>\n",
       "      <td>ACD</td>\n",
       "      <td>000</td>\n",
       "      <td>0.000024</td>\n",
       "    </tr>\n",
       "    <tr>\n",
       "      <th>17</th>\n",
       "      <td>ACE</td>\n",
       "      <td>000</td>\n",
       "      <td>ACE</td>\n",
       "      <td>000</td>\n",
       "      <td>0.000007</td>\n",
       "      <td>ACE</td>\n",
       "      <td>000</td>\n",
       "      <td>0.000024</td>\n",
       "    </tr>\n",
       "    <tr>\n",
       "      <th>18</th>\n",
       "      <td>BCE</td>\n",
       "      <td>000</td>\n",
       "      <td>BCE</td>\n",
       "      <td>000</td>\n",
       "      <td>0.000007</td>\n",
       "      <td>BCE</td>\n",
       "      <td>000</td>\n",
       "      <td>0.000024</td>\n",
       "    </tr>\n",
       "    <tr>\n",
       "      <th>19</th>\n",
       "      <td>BDE</td>\n",
       "      <td>000</td>\n",
       "      <td>BDE</td>\n",
       "      <td>000</td>\n",
       "      <td>0.000007</td>\n",
       "      <td>BDE</td>\n",
       "      <td>000</td>\n",
       "      <td>0.000024</td>\n",
       "    </tr>\n",
       "    <tr>\n",
       "      <th>20</th>\n",
       "      <td>ABCD</td>\n",
       "      <td>0000</td>\n",
       "      <td>ADE</td>\n",
       "      <td>000</td>\n",
       "      <td>0.000320</td>\n",
       "      <td>ABCD</td>\n",
       "      <td>0000</td>\n",
       "      <td>0.002071</td>\n",
       "    </tr>\n",
       "    <tr>\n",
       "      <th>21</th>\n",
       "      <td>ABCE</td>\n",
       "      <td>0000</td>\n",
       "      <td>CDE</td>\n",
       "      <td>000</td>\n",
       "      <td>0.000320</td>\n",
       "      <td>ABCE</td>\n",
       "      <td>0000</td>\n",
       "      <td>0.002071</td>\n",
       "    </tr>\n",
       "    <tr>\n",
       "      <th>22</th>\n",
       "      <td>ABDE</td>\n",
       "      <td>0000</td>\n",
       "      <td>BCD</td>\n",
       "      <td>000</td>\n",
       "      <td>0.000320</td>\n",
       "      <td>ABDE</td>\n",
       "      <td>0000</td>\n",
       "      <td>0.002071</td>\n",
       "    </tr>\n",
       "    <tr>\n",
       "      <th>23</th>\n",
       "      <td>ACDE</td>\n",
       "      <td>0000</td>\n",
       "      <td>ABC</td>\n",
       "      <td>000</td>\n",
       "      <td>0.000320</td>\n",
       "      <td>ACDE</td>\n",
       "      <td>0000</td>\n",
       "      <td>0.002071</td>\n",
       "    </tr>\n",
       "    <tr>\n",
       "      <th>24</th>\n",
       "      <td>BCDE</td>\n",
       "      <td>0000</td>\n",
       "      <td>ABE</td>\n",
       "      <td>000</td>\n",
       "      <td>0.000320</td>\n",
       "      <td>BCDE</td>\n",
       "      <td>0000</td>\n",
       "      <td>0.002071</td>\n",
       "    </tr>\n",
       "    <tr>\n",
       "      <th>25</th>\n",
       "      <td>ABCDE</td>\n",
       "      <td>00000</td>\n",
       "      <td>ABCDE</td>\n",
       "      <td>00000</td>\n",
       "      <td>0.000988</td>\n",
       "      <td>ABCDE</td>\n",
       "      <td>00000</td>\n",
       "      <td>0.003587</td>\n",
       "    </tr>\n",
       "  </tbody>\n",
       "</table>\n",
       "</div>"
      ],
      "text/plain": [
       "   mechanism  state  cause  state       phi effect  state       phi\n",
       "0          A      0      A      0  0.690096      A      0  0.690096\n",
       "1          B      0      B      0  0.690096      B      0  0.690096\n",
       "2          C      0      C      0  0.690096      C      0  0.690096\n",
       "3          D      0      D      0  0.690096      D      0  0.690096\n",
       "4          E      0      E      0  0.690096      E      0  0.690096\n",
       "5         AB     00     AB     00  0.000746     AB     00  0.002721\n",
       "6         AC     00     AC     00  0.000004     AC     00  0.000014\n",
       "7         AD     00     AD     00  0.000004     AD     00  0.000014\n",
       "8         AE     00     AE     00  0.000746     AE     00  0.002721\n",
       "9         BC     00     BC     00  0.000746     BC     00  0.002721\n",
       "10        BD     00     BD     00  0.000004     BD     00  0.000014\n",
       "11        BE     00     BE     00  0.000004     BE     00  0.000014\n",
       "12        CD     00     CD     00  0.000746     CD     00  0.002721\n",
       "13        CE     00     CE     00  0.000004     CE     00  0.000014\n",
       "14        DE     00     DE     00  0.000746     DE     00  0.002721\n",
       "15       ABD    000    ABD    000  0.000007    ABD    000  0.000024\n",
       "16       ACD    000    ACD    000  0.000007    ACD    000  0.000024\n",
       "17       ACE    000    ACE    000  0.000007    ACE    000  0.000024\n",
       "18       BCE    000    BCE    000  0.000007    BCE    000  0.000024\n",
       "19       BDE    000    BDE    000  0.000007    BDE    000  0.000024\n",
       "20      ABCD   0000    ADE    000  0.000320   ABCD   0000  0.002071\n",
       "21      ABCE   0000    CDE    000  0.000320   ABCE   0000  0.002071\n",
       "22      ABDE   0000    BCD    000  0.000320   ABDE   0000  0.002071\n",
       "23      ACDE   0000    ABC    000  0.000320   ACDE   0000  0.002071\n",
       "24      BCDE   0000    ABE    000  0.000320   BCDE   0000  0.002071\n",
       "25     ABCDE  00000  ABCDE  00000  0.000988  ABCDE  00000  0.003587"
      ]
     },
     "execution_count": 22,
     "metadata": {},
     "output_type": "execute_result"
    }
   ],
   "source": [
    "print(f'{net_name5}\\nkrels={r_degree}\\n#rels={len(sia5.phi_structure.relations)}\\nbigphi={sia5.phi}')\n",
    "utils.ces2df(sia5.phi_structure.distinctions,subsystem5)"
   ]
  },
  {
   "cell_type": "code",
   "execution_count": null,
   "id": "d27713f7",
   "metadata": {},
   "outputs": [],
   "source": []
  },
  {
   "cell_type": "code",
   "execution_count": null,
   "id": "80bea586",
   "metadata": {},
   "outputs": [],
   "source": []
  }
 ],
 "metadata": {
  "kernelspec": {
   "display_name": "Python 3",
   "language": "python",
   "name": "python3"
  },
  "language_info": {
   "codemirror_mode": {
    "name": "ipython",
    "version": 3
   },
   "file_extension": ".py",
   "mimetype": "text/x-python",
   "name": "python",
   "nbconvert_exporter": "python",
   "pygments_lexer": "ipython3",
   "version": "3.9.7"
  }
 },
 "nbformat": 4,
 "nbformat_minor": 5
}
