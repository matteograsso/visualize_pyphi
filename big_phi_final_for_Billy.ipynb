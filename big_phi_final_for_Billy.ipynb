{
 "cells": [
  {
   "cell_type": "code",
   "execution_count": 1,
   "id": "3c07e9cf",
   "metadata": {},
   "outputs": [],
   "source": [
    "%load_ext autoreload\n",
    "%autoreload 2\n",
    "\n",
    "%load_ext blackcellmagic"
   ]
  },
  {
   "cell_type": "code",
   "execution_count": 2,
   "id": "de69154f",
   "metadata": {},
   "outputs": [
    {
     "data": {
      "text/html": [
       "<style>.container { width:90% !important; }</style>"
      ],
      "text/plain": [
       "<IPython.core.display.HTML object>"
      ]
     },
     "metadata": {},
     "output_type": "display_data"
    }
   ],
   "source": [
    "import IPython.display as display\n",
    "from IPython.display import HTML\n",
    "display.display(HTML(\"<style>.container { width:90% !important; }</style>\"))"
   ]
  },
  {
   "cell_type": "code",
   "execution_count": 3,
   "id": "6b6b5f16",
   "metadata": {},
   "outputs": [
    {
     "name": "stderr",
     "output_type": "stream",
     "text": [
      "2022-02-20 23:14:12,988\tINFO services.py:1374 -- View the Ray dashboard at \u001b[1m\u001b[32mhttp://127.0.0.1:8282\u001b[39m\u001b[22m\n"
     ]
    },
    {
     "data": {
      "text/plain": [
       "{'node_ip_address': '144.92.2.85',\n",
       " 'raylet_ip_address': '144.92.2.85',\n",
       " 'redis_address': '144.92.2.85:39897',\n",
       " 'object_store_address': '/tmp/ray/session_2022-02-20_23-14-10_879781_283562/sockets/plasma_store',\n",
       " 'raylet_socket_name': '/tmp/ray/session_2022-02-20_23-14-10_879781_283562/sockets/raylet',\n",
       " 'webui_url': '127.0.0.1:8282',\n",
       " 'session_dir': '/tmp/ray/session_2022-02-20_23-14-10_879781_283562',\n",
       " 'metrics_export_port': 54721,\n",
       " 'gcs_address': '144.92.2.85:45839',\n",
       " 'node_id': '665d918e201e2bc43cf30ab0363289563c417ac4a0ade9237f6ebb67'}"
      ]
     },
     "execution_count": 3,
     "metadata": {},
     "output_type": "execute_result"
    }
   ],
   "source": [
    "import ray\n",
    "ray.init(num_cpus=180)"
   ]
  },
  {
   "cell_type": "code",
   "execution_count": 5,
   "id": "4b750777",
   "metadata": {},
   "outputs": [
    {
     "data": {
      "text/plain": [
       "('IIT_4.0_SMALL_PHI',\n",
       " 'maximal-state-first',\n",
       " 'TRI',\n",
       " 'BI_CUT_ONE',\n",
       " 'SUM',\n",
       " 'TEMPORAL_DIRECTED_BI_CUT_ONE')"
      ]
     },
     "execution_count": 5,
     "metadata": {},
     "output_type": "execute_result"
    }
   ],
   "source": [
    "import pyphi\n",
    "from visualize_pyphi import utils\n",
    "from visualize_pyphi import network_generator\n",
    "from visualize_pyphi import fill_slots\n",
    "import string\n",
    "import pickle as pkl\n",
    "from tqdm.auto import tqdm\n",
    "import numpy as np\n",
    "import itertools\n",
    "import toolz\n",
    "import pandas as pd\n",
    "from pyphi.models.subsystem import FlatCauseEffectStructure as sep\n",
    "from visualize_pyphi.utils import ces2df\n",
    "pd.set_option('display.max_rows', 500)\n",
    "pd.set_option('display.max_columns', 500)\n",
    "pd.set_option('display.width', 1000)\n",
    "'''\n",
    "Check that the config parameters are correct (if not change pyphi_config.yml to match):\n",
    "REPERTOIRE_DISTANCE = 'maximal-state-first'\n",
    "IIT_VERSION = 'IIT_4.0_SMALL_PHI'\n",
    "PARTITION_TYPE = 'TRI'\n",
    "'''\n",
    "\n",
    "\n",
    "pyphi.config.REPERTOIRE_DISTANCE,pyphi.config.IIT_VERSION,pyphi.config.PARTITION_TYPE,pyphi.config.RELATION_PARTITION_TYPE,pyphi.config.RELATION_PARTITION_AGGREGATION,pyphi.config.SYSTEM_PARTITION_TYPE"
   ]
  },
  {
   "cell_type": "code",
   "execution_count": 7,
   "id": "859051f9",
   "metadata": {},
   "outputs": [],
   "source": [
    "#Set weight degay (g) and determinism level (k)\n",
    "g = 3\n",
    "k = 6"
   ]
  },
  {
   "cell_type": "code",
   "execution_count": 8,
   "id": "e9e8ed13",
   "metadata": {},
   "outputs": [
    {
     "data": {
      "text/plain": [
       "(0.7378309137489326,\n",
       " 0.09222886421861658,\n",
       " 0.027327070879590094,\n",
       " 0.011528608027327072)"
      ]
     },
     "execution_count": 8,
     "metadata": {},
     "output_type": "execute_result"
    }
   ],
   "source": [
    "net_name = \"bigphi_final\"\n",
    "\n",
    "#Create weights for 7 nodes toroidal grid\n",
    "n = 7\n",
    "ws = [1/(u**g) for u in range(1,n)]\n",
    "ws = [ws[i] for i in [0,1,1,2,2,3,3]]\n",
    "ws = [w/sum(ws) for w in ws]\n",
    "\n",
    "s = ws[0] #self (strong)\n",
    "h = ws[1] #high\n",
    "m = ws[3] #medium\n",
    "w = ws[5] #weak\n",
    "s,h,m,w"
   ]
  },
  {
   "cell_type": "code",
   "execution_count": 9,
   "id": "6c70d585",
   "metadata": {},
   "outputs": [
    {
     "data": {
      "application/vnd.jupyter.widget-view+json": {
       "model_id": "a783bea463434bf9a27a3e25ba85f23f",
       "version_major": 2,
       "version_minor": 0
      },
      "text/plain": [
       "  0%|          | 0/128 [00:00<?, ?it/s]"
      ]
     },
     "metadata": {},
     "output_type": "display_data"
    }
   ],
   "source": [
    "weights = np.array(\n",
    "    [\n",
    "        [s, h, m, w, w, m, h],  # A\n",
    "        [h, s, h, m, w, w, m],  # B\n",
    "        [m, h, s, h, m, w, w],  # C\n",
    "        [w, m, h, s, h, m, w],  # D\n",
    "        [w, w, m, h, s, h, m],  # E\n",
    "        [m, w, w, m, h, s, h],  # F\n",
    "        [h, m, w, w, m, h, s],  # G\n",
    "        #A, B, C, D, E, F, G\n",
    "    ]\n",
    ")\n",
    "\n",
    "node_labels = [string.ascii_uppercase[n] for n in range(len(weights))]\n",
    "mech_func = ['l' for n in range(len(weights))] # \"l\" stands for LogFunc\n",
    "\n",
    "network = network_generator.get_net(\n",
    "    mech_func,\n",
    "    weights,\n",
    "    l=1,\n",
    "    k=k,\n",
    "    x0=.5,\n",
    "    node_labels=node_labels,\n",
    "    network_name=net_name,\n",
    "    pickle_network=False,\n",
    ")\n",
    "\n",
    "state = (0,)*n"
   ]
  },
  {
   "cell_type": "markdown",
   "id": "afe5ddf4",
   "metadata": {},
   "source": [
    "## 3 nodes"
   ]
  },
  {
   "cell_type": "code",
   "execution_count": 57,
   "id": "971324cd",
   "metadata": {},
   "outputs": [
    {
     "name": "stderr",
     "output_type": "stream",
     "text": [
      "\n",
      "Computing concepts:   0%|                                                                                                          | 0/7 [00:00<?, ?it/s]\u001b[A\n",
      "Computing concepts: 100%|██████████████████████████████████████████████████████████████████████████████████████████████████| 7/7 [00:00<00:00, 59.23it/s]\u001b[A\n",
      "                                                                                                                                                         \u001b[A"
     ]
    },
    {
     "data": {
      "application/vnd.jupyter.widget-view+json": {
       "model_id": "64129eb1994444439baef8f2933f206c",
       "version_major": 2,
       "version_minor": 0
      },
      "text/plain": [
       "  0%|          | 0/77 [00:00<?, ?it/s]"
      ]
     },
     "metadata": {},
     "output_type": "display_data"
    },
    {
     "data": {
      "application/vnd.jupyter.widget-view+json": {
       "model_id": "a1ca91977fd348d68c33f0132494c824",
       "version_major": 2,
       "version_minor": 0
      },
      "text/plain": [
       "  0%|          | 0/339 [00:00<?, ?it/s]"
      ]
     },
     "metadata": {},
     "output_type": "display_data"
    },
    {
     "data": {
      "application/vnd.jupyter.widget-view+json": {
       "model_id": "a244379805c0450293f44bc7ad99c4d4",
       "version_major": 2,
       "version_minor": 0
      },
      "text/plain": [
       "  0%|          | 0/101 [00:00<?, ?it/s]"
      ]
     },
     "metadata": {},
     "output_type": "display_data"
    },
    {
     "data": {
      "application/vnd.jupyter.widget-view+json": {
       "model_id": "a885ff590be14924863e4e8f3a3f1a21",
       "version_major": 2,
       "version_minor": 0
      },
      "text/plain": [
       "  0%|          | 0/149 [00:00<?, ?it/s]"
      ]
     },
     "metadata": {},
     "output_type": "display_data"
    },
    {
     "name": "stdout",
     "output_type": "stream",
     "text": [
      "Done putting relations\n",
      "Finding maximal compositional state\n"
     ]
    },
    {
     "data": {
      "application/vnd.jupyter.widget-view+json": {
       "model_id": "8b74e421475c4a41871d3fb450fb85b9",
       "version_major": 2,
       "version_minor": 0
      },
      "text/plain": [
       "Submitting tasks: 0it [00:00, ?it/s]"
      ]
     },
     "metadata": {},
     "output_type": "display_data"
    },
    {
     "name": "stdout",
     "output_type": "stream",
     "text": [
      "Done submitting tasks\n"
     ]
    },
    {
     "data": {
      "application/vnd.jupyter.widget-view+json": {
       "model_id": "8c515aeb62bf4dcfa00457fb712e1b87",
       "version_major": 2,
       "version_minor": 0
      },
      "text/plain": [
       "  0%|          | 0/1 [00:00<?, ?it/s]"
      ]
     },
     "metadata": {},
     "output_type": "display_data"
    },
    {
     "name": "stdout",
     "output_type": "stream",
     "text": [
      "Evaluating maximal compositional state\n",
      "\n",
      "3-nodes big phi = 45.623904251360884\n"
     ]
    }
   ],
   "source": [
    "n = 3\n",
    "nodes = range(3)\n",
    "\n",
    "subsystem3 = pyphi.Subsystem(network, state, nodes=nodes)\n",
    "ces3 = pyphi.compute.ces(subsystem3)\n",
    "\n",
    "# print(ces2df(ces3,subsystem3))\n",
    "\n",
    "# generate all non conflicting distinctions sets\n",
    "ncdss3 = list(pyphi.big_phi.all_nonconflicting_distinction_sets(ces3))\n",
    "\n",
    "# compute all relations\n",
    "ncdss3_rels = [pyphi.relations.relations(subsystem3, ncds) for ncds in ncdss3]\n",
    "\n",
    "# pick compositional state based on existence\n",
    "existences = [\n",
    "    fill_slots.compute_existence(subsystem3, ncds, rels)\n",
    "    for ncds, rels in zip(ncdss3, ncdss3_rels)\n",
    "]\n",
    "existences\n",
    "\n",
    "max_ncds3 = ncdss3[existences.index(max(existences))]\n",
    "max_ncds3_rels = ncdss3_rels[existences.index(max(existences))]\n",
    "\n",
    "sia3 = pyphi.big_phi.sia(subsystem3, max_ncds3, max_ncds3_rels)\n",
    "\n",
    "print(f\"\\n{n}-nodes big phi = {sia3.phi}\")"
   ]
  },
  {
   "cell_type": "markdown",
   "id": "b8c59040",
   "metadata": {},
   "source": [
    "## 4 nodes"
   ]
  },
  {
   "cell_type": "code",
   "execution_count": 30,
   "id": "426b3e0d",
   "metadata": {},
   "outputs": [
    {
     "name": "stderr",
     "output_type": "stream",
     "text": [
      "                                                                                                                                                         "
     ]
    },
    {
     "name": "stdout",
     "output_type": "stream",
     "text": [
      "CPU times: user 1.12 s, sys: 40.7 ms, total: 1.16 s\n",
      "Wall time: 1.12 s\n"
     ]
    },
    {
     "name": "stderr",
     "output_type": "stream",
     "text": [
      "\r"
     ]
    }
   ],
   "source": [
    "%%time\n",
    "n = 4\n",
    "nodes = range(4)\n",
    "\n",
    "subsystem4 = pyphi.Subsystem(network, state, nodes=nodes)\n",
    "ces4 = pyphi.compute.ces(subsystem4)\n",
    "\n",
    "# print(ces2df(ces4,subsystem4))"
   ]
  },
  {
   "cell_type": "code",
   "execution_count": 32,
   "id": "7a8f4b74",
   "metadata": {},
   "outputs": [],
   "source": [
    "# all_rels4 = pyphi.relations.relations(subsystem4, ces4)\n",
    "# filename = f'relations/bigphi_final_for_Billy_{n}'\n",
    "# all_rels4 = utils.compute_relations_by_k(subsystem4,ces4,filename)"
   ]
  },
  {
   "cell_type": "code",
   "execution_count": 45,
   "id": "43e00b65",
   "metadata": {},
   "outputs": [],
   "source": [
    "# all_rels4 = utils.decompress_relations(subsystem4,ces4,f'{filename}*')\n",
    "# len(all_rels4)"
   ]
  },
  {
   "cell_type": "code",
   "execution_count": 46,
   "id": "583df67d",
   "metadata": {},
   "outputs": [
    {
     "name": "stdout",
     "output_type": "stream",
     "text": [
      "# of non-conflicting sets: 128\n"
     ]
    }
   ],
   "source": [
    "# generate all non conflicting distinctions sets\n",
    "ncdss4 = list(pyphi.big_phi.all_nonconflicting_distinction_sets(ces4))\n",
    "print(f\"# of non-conflicting sets: {len(ncdss4)}\")"
   ]
  },
  {
   "cell_type": "code",
   "execution_count": 53,
   "id": "1e822704",
   "metadata": {},
   "outputs": [],
   "source": [
    "existences = [fill_slots.estimate_existence(subsystem4,ces) for ces in ncdss4]"
   ]
  },
  {
   "cell_type": "code",
   "execution_count": 54,
   "id": "35e8bae3",
   "metadata": {},
   "outputs": [],
   "source": [
    "# pick compositional state based on existence\n",
    "max_ncds4 = ncdss4[existences.index(max(existences))]\n",
    "# ces2df(max_ncds4,subsystem4)"
   ]
  },
  {
   "cell_type": "code",
   "execution_count": 55,
   "id": "0e0245f9",
   "metadata": {},
   "outputs": [
    {
     "data": {
      "application/vnd.jupyter.widget-view+json": {
       "model_id": "6ec7e07b63e94dec9fc6ffe9a0eaa872",
       "version_major": 2,
       "version_minor": 0
      },
      "text/plain": [
       "  0%|          | 0/8299 [00:00<?, ?it/s]"
      ]
     },
     "metadata": {},
     "output_type": "display_data"
    }
   ],
   "source": [
    "max_ncds4_rels = pyphi.relations.relations(subsystem4,max_ncds4)"
   ]
  },
  {
   "cell_type": "code",
   "execution_count": 56,
   "id": "24e4add6",
   "metadata": {
    "scrolled": true
   },
   "outputs": [
    {
     "name": "stdout",
     "output_type": "stream",
     "text": [
      "Done putting relations\n",
      "Finding maximal compositional state\n"
     ]
    },
    {
     "data": {
      "application/vnd.jupyter.widget-view+json": {
       "model_id": "5718bafb0c3748a4a501ef333a2c82b7",
       "version_major": 2,
       "version_minor": 0
      },
      "text/plain": [
       "Submitting tasks: 0it [00:00, ?it/s]"
      ]
     },
     "metadata": {},
     "output_type": "display_data"
    },
    {
     "name": "stdout",
     "output_type": "stream",
     "text": [
      "Done submitting tasks\n"
     ]
    },
    {
     "data": {
      "application/vnd.jupyter.widget-view+json": {
       "model_id": "4c95f413ec614b059ce64c5a20adfa3e",
       "version_major": 2,
       "version_minor": 0
      },
      "text/plain": [
       "  0%|          | 0/1 [00:00<?, ?it/s]"
      ]
     },
     "metadata": {},
     "output_type": "display_data"
    },
    {
     "name": "stdout",
     "output_type": "stream",
     "text": [
      "Evaluating maximal compositional state\n",
      "\n",
      "4-nodes big phi = 50.61468472969473\n"
     ]
    }
   ],
   "source": [
    "sia4 = pyphi.big_phi.sia(subsystem4, max_ncds4, max_ncds4_rels)\n",
    "\n",
    "print(f\"\\n{n}-nodes big phi = {sia4.phi}\")"
   ]
  },
  {
   "cell_type": "markdown",
   "id": "585b622f",
   "metadata": {},
   "source": [
    "## 5 nodes"
   ]
  },
  {
   "cell_type": "code",
   "execution_count": 59,
   "id": "622cef0b",
   "metadata": {},
   "outputs": [
    {
     "name": "stderr",
     "output_type": "stream",
     "text": [
      "\n",
      "Computing concepts:   0%|                                                                                                         | 0/31 [00:00<?, ?it/s]\u001b[A\n",
      "Computing concepts:   6%|██████▎                                                                                          | 2/31 [00:00<00:01, 17.25it/s]\u001b[A\n",
      "Computing concepts:  13%|████████████▌                                                                                    | 4/31 [00:00<00:01, 17.55it/s]\u001b[A\n",
      "Computing concepts:  19%|██████████████████▊                                                                              | 6/31 [00:00<00:02, 11.22it/s]\u001b[A\n",
      "Computing concepts:  26%|█████████████████████████                                                                        | 8/31 [00:00<00:02,  7.70it/s]\u001b[A\n",
      "Computing concepts:  29%|████████████████████████████▏                                                                    | 9/31 [00:01<00:03,  6.75it/s]\u001b[A\n",
      "Computing concepts:  32%|██████████████████████████████▉                                                                 | 10/31 [00:01<00:03,  6.13it/s]\u001b[A\n",
      "Computing concepts:  35%|██████████████████████████████████                                                              | 11/31 [00:01<00:03,  5.67it/s]\u001b[A\n",
      "Computing concepts:  39%|█████████████████████████████████████▏                                                          | 12/31 [00:01<00:03,  5.45it/s]\u001b[A\n",
      "Computing concepts:  42%|████████████████████████████████████████▎                                                       | 13/31 [00:01<00:03,  5.31it/s]\u001b[A\n",
      "Computing concepts:  45%|███████████████████████████████████████████▎                                                    | 14/31 [00:02<00:05,  3.02it/s]\u001b[A\n",
      "Computing concepts:  48%|██████████████████████████████████████████████▍                                                 | 15/31 [00:02<00:04,  3.38it/s]\u001b[A\n",
      "Computing concepts:  52%|█████████████████████████████████████████████████▌                                              | 16/31 [00:03<00:05,  2.89it/s]\u001b[A\n",
      "Computing concepts:  55%|████████████████████████████████████████████████████▋                                           | 17/31 [00:03<00:05,  2.63it/s]\u001b[A\n",
      "Computing concepts:  58%|███████████████████████████████████████████████████████▋                                        | 18/31 [00:04<00:05,  2.52it/s]\u001b[A\n",
      "Computing concepts:  61%|██████████████████████████████████████████████████████████▊                                     | 19/31 [00:04<00:04,  2.44it/s]\u001b[A\n",
      "Computing concepts:  65%|█████████████████████████████████████████████████████████████▉                                  | 20/31 [00:05<00:04,  2.39it/s]\u001b[A\n",
      "Computing concepts:  68%|█████████████████████████████████████████████████████████████████                               | 21/31 [00:05<00:04,  2.34it/s]\u001b[A\n",
      "Computing concepts:  71%|████████████████████████████████████████████████████████████████████▏                           | 22/31 [00:05<00:03,  2.32it/s]\u001b[A\n",
      "Computing concepts:  74%|███████████████████████████████████████████████████████████████████████▏                        | 23/31 [00:06<00:03,  2.30it/s]\u001b[A\n",
      "Computing concepts:  77%|██████████████████████████████████████████████████████████████████████████▎                     | 24/31 [00:06<00:03,  2.33it/s]\u001b[A\n",
      "Computing concepts:  81%|█████████████████████████████████████████████████████████████████████████████▍                  | 25/31 [00:07<00:02,  2.30it/s]\u001b[A\n",
      "Computing concepts:  84%|████████████████████████████████████████████████████████████████████████████████▌               | 26/31 [00:08<00:02,  1.72it/s]\u001b[A\n",
      "Computing concepts:  87%|███████████████████████████████████████████████████████████████████████████████████▌            | 27/31 [00:09<00:02,  1.46it/s]\u001b[A\n",
      "Computing concepts:  90%|██████████████████████████████████████████████████████████████████████████████████████▋         | 28/31 [00:10<00:02,  1.30it/s]\u001b[A\n",
      "Computing concepts:  94%|█████████████████████████████████████████████████████████████████████████████████████████▊      | 29/31 [00:11<00:01,  1.20it/s]\u001b[A\n",
      "Computing concepts:  97%|████████████████████████████████████████████████████████████████████████████████████████████▉   | 30/31 [00:11<00:00,  1.16it/s]\u001b[A\n",
      "Computing concepts: 100%|████████████████████████████████████████████████████████████████████████████████████████████████| 31/31 [00:14<00:00,  1.38s/it]\u001b[A\n",
      "                                                                                                                                                         \u001b[A"
     ]
    },
    {
     "name": "stdout",
     "output_type": "stream",
     "text": [
      "CPU times: user 14.6 s, sys: 313 ms, total: 14.9 s\n",
      "Wall time: 14.6 s\n"
     ]
    }
   ],
   "source": [
    "n = 5\n",
    "nodes = range(5)\n",
    "\n",
    "subsystem5 = pyphi.Subsystem(network, state, nodes=nodes)\n",
    "ces5 = pyphi.compute.ces(subsystem5)\n",
    "\n",
    "# print(ces2df(ces5,subsystem5))"
   ]
  },
  {
   "cell_type": "code",
   "execution_count": 60,
   "id": "b374060f",
   "metadata": {},
   "outputs": [
    {
     "name": "stdout",
     "output_type": "stream",
     "text": [
      "# of non-conflicting sets: 69696\n"
     ]
    }
   ],
   "source": [
    "# generate all non conflicting distinctions sets\n",
    "ncdss5 = list(pyphi.big_phi.all_nonconflicting_distinction_sets(ces5))\n",
    "print(f\"# of non-conflicting sets: {len(ncdss5)}\")"
   ]
  },
  {
   "cell_type": "code",
   "execution_count": 76,
   "id": "9b8d61ff",
   "metadata": {},
   "outputs": [],
   "source": [
    "# ncdss5_lens = set([len(s) for s in ncdss5])\n",
    "\n",
    "# ncdss5_by_len = [[ces for ces in ncdss5 if len(ces)==l] for l in ncdss5_lens]\n",
    "\n",
    "# ncdss5_max_len = ncdss5_by_len[-1]"
   ]
  },
  {
   "cell_type": "code",
   "execution_count": 74,
   "id": "d3124c29",
   "metadata": {},
   "outputs": [
    {
     "data": {
      "text/plain": [
       "876544"
      ]
     },
     "execution_count": 74,
     "metadata": {},
     "output_type": "execute_result"
    }
   ],
   "source": [
    "existences = [fill_slots.estimate_existing_relations_number(subsystem5,ces) for ces in ncdss5]\n",
    "max(existences)"
   ]
  },
  {
   "cell_type": "code",
   "execution_count": 75,
   "id": "31335032",
   "metadata": {},
   "outputs": [
    {
     "data": {
      "text/plain": [
       "[12020, 12029]"
      ]
     },
     "execution_count": 75,
     "metadata": {},
     "output_type": "execute_result"
    }
   ],
   "source": [
    "max_ncdss5_indices = [n for n,e in enumerate(existences) if e==max(existences)]\n",
    "max_ncdss5_indices"
   ]
  },
  {
   "cell_type": "code",
   "execution_count": 81,
   "id": "bf7ee077",
   "metadata": {},
   "outputs": [],
   "source": [
    "max_ncdss5 = [ncdss5[i] for i in max_ncdss5_indices]"
   ]
  },
  {
   "cell_type": "code",
   "execution_count": 83,
   "id": "1bbfaa77",
   "metadata": {},
   "outputs": [
    {
     "data": {
      "text/plain": [
       "[   mechanism  state  cause  state       phi effect  state       phi\n",
       " 1          A      0      A      0  0.694314      A      0  0.739839\n",
       " 2          B      0      B      0  0.733409      B      0  0.749158\n",
       " 3          D      0      D      0  0.733409      D      0  0.749158\n",
       " 4          E      0      E      0  0.694314      E      0  0.739839\n",
       " 5         AB     00     AB     00  0.028522     AB     00  0.056662\n",
       " 6         AD     00     BC     00  0.010957    ABD    000  0.013185\n",
       " 7         AE     00      C      0  0.010386    ACE    000  0.012766\n",
       " 8         BE     00     CD     00  0.010957    BDE    000  0.013185\n",
       " 9         DE     00     DE     00  0.028522     DE     00  0.056662\n",
       " 10       ABC    000    ABC    000  0.033824    ABC    000  0.059513\n",
       " 11       ABE    000     AD     00  0.010456   ABDE   0000  0.019106\n",
       " 12       BCD    000    BCD    000  0.034153    BCD    000  0.067233\n",
       " 13       CDE    000    CDE    000  0.033824    CDE    000  0.059513\n",
       " 14      ABCD   0000   ABCD   0000  0.033068   ABCD   0000  0.058383\n",
       " 15      BCDE   0000   BCDE   0000  0.033068   BCDE   0000  0.058383\n",
       " 16     ABCDE  00000  ABCDE  00000  0.033275  ABCDE  00000  0.059166,\n",
       "    mechanism  state  cause  state       phi effect  state       phi\n",
       " 1          A      0      A      0  0.694314      A      0  0.739839\n",
       " 2          B      0      B      0  0.733409      B      0  0.749158\n",
       " 3          D      0      D      0  0.733409      D      0  0.749158\n",
       " 4          E      0      E      0  0.694314      E      0  0.739839\n",
       " 5         AB     00     AB     00  0.028522     AB     00  0.056662\n",
       " 6         AD     00     BC     00  0.010957    ABD    000  0.013185\n",
       " 7         AE     00      C      0  0.010386    ACE    000  0.012766\n",
       " 8         BE     00     CD     00  0.010957    BDE    000  0.013185\n",
       " 9         DE     00     DE     00  0.028522     DE     00  0.056662\n",
       " 10       ABC    000    ABC    000  0.033824    ABC    000  0.059513\n",
       " 11       ADE    000     BE     00  0.010456   ABDE   0000  0.019106\n",
       " 12       BCD    000    BCD    000  0.034153    BCD    000  0.067233\n",
       " 13       CDE    000    CDE    000  0.033824    CDE    000  0.059513\n",
       " 14      ABCD   0000   ABCD   0000  0.033068   ABCD   0000  0.058383\n",
       " 15      BCDE   0000   BCDE   0000  0.033068   BCDE   0000  0.058383\n",
       " 16     ABCDE  00000  ABCDE  00000  0.033275  ABCDE  00000  0.059166]"
      ]
     },
     "execution_count": 83,
     "metadata": {},
     "output_type": "execute_result"
    }
   ],
   "source": [
    "[ces2df(ncdss5[i],subsystem5) for i in max_ncdss5_indices]"
   ]
  },
  {
   "cell_type": "code",
   "execution_count": 84,
   "id": "fa2c1e57",
   "metadata": {},
   "outputs": [
    {
     "data": {
      "text/plain": [
       "[[[14, 0], [18, 0], [16, 0], [19, 0], [13, 0]],\n",
       " [[13, 0], [19, 0], [16, 0], [18, 0], [14, 0]]]"
      ]
     },
     "execution_count": 84,
     "metadata": {},
     "output_type": "execute_result"
    }
   ],
   "source": [
    "[fill_slots.count_purview_element_states_in_ces(ces,subsystem5) for ces in max_ncdss5]"
   ]
  },
  {
   "cell_type": "code",
   "execution_count": 85,
   "id": "e9bd16ec",
   "metadata": {},
   "outputs": [
    {
     "data": {
      "text/html": [
       "<div>\n",
       "<style scoped>\n",
       "    .dataframe tbody tr th:only-of-type {\n",
       "        vertical-align: middle;\n",
       "    }\n",
       "\n",
       "    .dataframe tbody tr th {\n",
       "        vertical-align: top;\n",
       "    }\n",
       "\n",
       "    .dataframe thead th {\n",
       "        text-align: right;\n",
       "    }\n",
       "</style>\n",
       "<table border=\"1\" class=\"dataframe\">\n",
       "  <thead>\n",
       "    <tr style=\"text-align: right;\">\n",
       "      <th></th>\n",
       "      <th>mechanism</th>\n",
       "      <th>state</th>\n",
       "      <th>cause</th>\n",
       "      <th>state</th>\n",
       "      <th>phi</th>\n",
       "      <th>effect</th>\n",
       "      <th>state</th>\n",
       "      <th>phi</th>\n",
       "    </tr>\n",
       "  </thead>\n",
       "  <tbody>\n",
       "    <tr>\n",
       "      <th>1</th>\n",
       "      <td>A</td>\n",
       "      <td>0</td>\n",
       "      <td>A</td>\n",
       "      <td>0</td>\n",
       "      <td>0.694314</td>\n",
       "      <td>A</td>\n",
       "      <td>0</td>\n",
       "      <td>0.739839</td>\n",
       "    </tr>\n",
       "    <tr>\n",
       "      <th>2</th>\n",
       "      <td>B</td>\n",
       "      <td>0</td>\n",
       "      <td>B</td>\n",
       "      <td>0</td>\n",
       "      <td>0.733409</td>\n",
       "      <td>B</td>\n",
       "      <td>0</td>\n",
       "      <td>0.749158</td>\n",
       "    </tr>\n",
       "    <tr>\n",
       "      <th>3</th>\n",
       "      <td>D</td>\n",
       "      <td>0</td>\n",
       "      <td>D</td>\n",
       "      <td>0</td>\n",
       "      <td>0.733409</td>\n",
       "      <td>D</td>\n",
       "      <td>0</td>\n",
       "      <td>0.749158</td>\n",
       "    </tr>\n",
       "    <tr>\n",
       "      <th>4</th>\n",
       "      <td>E</td>\n",
       "      <td>0</td>\n",
       "      <td>E</td>\n",
       "      <td>0</td>\n",
       "      <td>0.694314</td>\n",
       "      <td>E</td>\n",
       "      <td>0</td>\n",
       "      <td>0.739839</td>\n",
       "    </tr>\n",
       "    <tr>\n",
       "      <th>5</th>\n",
       "      <td>AB</td>\n",
       "      <td>00</td>\n",
       "      <td>AB</td>\n",
       "      <td>00</td>\n",
       "      <td>0.028522</td>\n",
       "      <td>AB</td>\n",
       "      <td>00</td>\n",
       "      <td>0.056662</td>\n",
       "    </tr>\n",
       "    <tr>\n",
       "      <th>6</th>\n",
       "      <td>AD</td>\n",
       "      <td>00</td>\n",
       "      <td>BC</td>\n",
       "      <td>00</td>\n",
       "      <td>0.010957</td>\n",
       "      <td>ABD</td>\n",
       "      <td>000</td>\n",
       "      <td>0.013185</td>\n",
       "    </tr>\n",
       "    <tr>\n",
       "      <th>7</th>\n",
       "      <td>AE</td>\n",
       "      <td>00</td>\n",
       "      <td>C</td>\n",
       "      <td>0</td>\n",
       "      <td>0.010386</td>\n",
       "      <td>ACE</td>\n",
       "      <td>000</td>\n",
       "      <td>0.012766</td>\n",
       "    </tr>\n",
       "    <tr>\n",
       "      <th>8</th>\n",
       "      <td>BE</td>\n",
       "      <td>00</td>\n",
       "      <td>CD</td>\n",
       "      <td>00</td>\n",
       "      <td>0.010957</td>\n",
       "      <td>BDE</td>\n",
       "      <td>000</td>\n",
       "      <td>0.013185</td>\n",
       "    </tr>\n",
       "    <tr>\n",
       "      <th>9</th>\n",
       "      <td>DE</td>\n",
       "      <td>00</td>\n",
       "      <td>DE</td>\n",
       "      <td>00</td>\n",
       "      <td>0.028522</td>\n",
       "      <td>DE</td>\n",
       "      <td>00</td>\n",
       "      <td>0.056662</td>\n",
       "    </tr>\n",
       "    <tr>\n",
       "      <th>10</th>\n",
       "      <td>ABC</td>\n",
       "      <td>000</td>\n",
       "      <td>ABC</td>\n",
       "      <td>000</td>\n",
       "      <td>0.033824</td>\n",
       "      <td>ABC</td>\n",
       "      <td>000</td>\n",
       "      <td>0.059513</td>\n",
       "    </tr>\n",
       "    <tr>\n",
       "      <th>11</th>\n",
       "      <td>ABE</td>\n",
       "      <td>000</td>\n",
       "      <td>AD</td>\n",
       "      <td>00</td>\n",
       "      <td>0.010456</td>\n",
       "      <td>ABDE</td>\n",
       "      <td>0000</td>\n",
       "      <td>0.019106</td>\n",
       "    </tr>\n",
       "    <tr>\n",
       "      <th>12</th>\n",
       "      <td>BCD</td>\n",
       "      <td>000</td>\n",
       "      <td>BCD</td>\n",
       "      <td>000</td>\n",
       "      <td>0.034153</td>\n",
       "      <td>BCD</td>\n",
       "      <td>000</td>\n",
       "      <td>0.067233</td>\n",
       "    </tr>\n",
       "    <tr>\n",
       "      <th>13</th>\n",
       "      <td>CDE</td>\n",
       "      <td>000</td>\n",
       "      <td>CDE</td>\n",
       "      <td>000</td>\n",
       "      <td>0.033824</td>\n",
       "      <td>CDE</td>\n",
       "      <td>000</td>\n",
       "      <td>0.059513</td>\n",
       "    </tr>\n",
       "    <tr>\n",
       "      <th>14</th>\n",
       "      <td>ABCD</td>\n",
       "      <td>0000</td>\n",
       "      <td>ABCD</td>\n",
       "      <td>0000</td>\n",
       "      <td>0.033068</td>\n",
       "      <td>ABCD</td>\n",
       "      <td>0000</td>\n",
       "      <td>0.058383</td>\n",
       "    </tr>\n",
       "    <tr>\n",
       "      <th>15</th>\n",
       "      <td>BCDE</td>\n",
       "      <td>0000</td>\n",
       "      <td>BCDE</td>\n",
       "      <td>0000</td>\n",
       "      <td>0.033068</td>\n",
       "      <td>BCDE</td>\n",
       "      <td>0000</td>\n",
       "      <td>0.058383</td>\n",
       "    </tr>\n",
       "    <tr>\n",
       "      <th>16</th>\n",
       "      <td>ABCDE</td>\n",
       "      <td>00000</td>\n",
       "      <td>ABCDE</td>\n",
       "      <td>00000</td>\n",
       "      <td>0.033275</td>\n",
       "      <td>ABCDE</td>\n",
       "      <td>00000</td>\n",
       "      <td>0.059166</td>\n",
       "    </tr>\n",
       "  </tbody>\n",
       "</table>\n",
       "</div>"
      ],
      "text/plain": [
       "   mechanism  state  cause  state       phi effect  state       phi\n",
       "1          A      0      A      0  0.694314      A      0  0.739839\n",
       "2          B      0      B      0  0.733409      B      0  0.749158\n",
       "3          D      0      D      0  0.733409      D      0  0.749158\n",
       "4          E      0      E      0  0.694314      E      0  0.739839\n",
       "5         AB     00     AB     00  0.028522     AB     00  0.056662\n",
       "6         AD     00     BC     00  0.010957    ABD    000  0.013185\n",
       "7         AE     00      C      0  0.010386    ACE    000  0.012766\n",
       "8         BE     00     CD     00  0.010957    BDE    000  0.013185\n",
       "9         DE     00     DE     00  0.028522     DE     00  0.056662\n",
       "10       ABC    000    ABC    000  0.033824    ABC    000  0.059513\n",
       "11       ABE    000     AD     00  0.010456   ABDE   0000  0.019106\n",
       "12       BCD    000    BCD    000  0.034153    BCD    000  0.067233\n",
       "13       CDE    000    CDE    000  0.033824    CDE    000  0.059513\n",
       "14      ABCD   0000   ABCD   0000  0.033068   ABCD   0000  0.058383\n",
       "15      BCDE   0000   BCDE   0000  0.033068   BCDE   0000  0.058383\n",
       "16     ABCDE  00000  ABCDE  00000  0.033275  ABCDE  00000  0.059166"
      ]
     },
     "execution_count": 85,
     "metadata": {},
     "output_type": "execute_result"
    }
   ],
   "source": [
    "# pick compositional state based on existence\n",
    "max_ncds5 = ncdss5[existences.index(max(existences))]\n",
    "ces2df(max_ncds5,subsystem5)"
   ]
  },
  {
   "cell_type": "code",
   "execution_count": null,
   "id": "9ff2beee",
   "metadata": {},
   "outputs": [
    {
     "data": {
      "application/vnd.jupyter.widget-view+json": {
       "model_id": "8deee7164e3d4bfe9b51e4497b3e251c",
       "version_major": 2,
       "version_minor": 0
      },
      "text/plain": [
       "  0%|          | 0/31 [00:00<?, ?it/s]"
      ]
     },
     "metadata": {},
     "output_type": "display_data"
    },
    {
     "name": "stdout",
     "output_type": "stream",
     "text": [
      "Computing k=2...\n"
     ]
    },
    {
     "data": {
      "application/vnd.jupyter.widget-view+json": {
       "model_id": "4c7452251fb74d07bcb9906bf21dec13",
       "version_major": 2,
       "version_minor": 0
      },
      "text/plain": [
       "  0%|          | 0/367 [00:00<?, ?it/s]"
      ]
     },
     "metadata": {},
     "output_type": "display_data"
    },
    {
     "name": "stderr",
     "output_type": "stream",
     "text": [
      "[Parallel(n_jobs=160)]: Using backend LokyBackend with 160 concurrent workers.\n",
      "[Parallel(n_jobs=160)]: Done   4 tasks      | elapsed:    4.5s\n",
      "[Parallel(n_jobs=160)]: Done 122 out of 367 | elapsed:   11.0s remaining:   22.1s\n",
      "[Parallel(n_jobs=160)]: Done 196 out of 367 | elapsed:   16.3s remaining:   14.2s\n",
      "[Parallel(n_jobs=160)]: Done 270 out of 367 | elapsed:   20.8s remaining:    7.5s\n",
      "[Parallel(n_jobs=160)]: Done 344 out of 367 | elapsed:   27.0s remaining:    1.8s\n"
     ]
    },
    {
     "name": "stdout",
     "output_type": "stream",
     "text": [
      "Computing k=3...\n"
     ]
    },
    {
     "name": "stderr",
     "output_type": "stream",
     "text": [
      "[Parallel(n_jobs=160)]: Done 367 out of 367 | elapsed:   29.5s finished\n"
     ]
    },
    {
     "data": {
      "application/vnd.jupyter.widget-view+json": {
       "model_id": "53eba0fa136640a7872156ba305c4486",
       "version_major": 2,
       "version_minor": 0
      },
      "text/plain": [
       "  0%|          | 0/2269 [00:00<?, ?it/s]"
      ]
     },
     "metadata": {},
     "output_type": "display_data"
    },
    {
     "name": "stderr",
     "output_type": "stream",
     "text": [
      "[Parallel(n_jobs=160)]: Using backend LokyBackend with 160 concurrent workers.\n",
      "[Parallel(n_jobs=160)]: Done   4 tasks      | elapsed:    0.4s\n",
      "[Parallel(n_jobs=160)]: Done 256 tasks      | elapsed:   16.6s\n",
      "[Parallel(n_jobs=160)]: Done 450 tasks      | elapsed:   37.7s\n",
      "[Parallel(n_jobs=160)]: Done 648 tasks      | elapsed:  1.1min\n",
      "[Parallel(n_jobs=160)]: Done 882 tasks      | elapsed:  1.6min\n",
      "[Parallel(n_jobs=160)]: Done 1152 tasks      | elapsed:  2.1min\n",
      "[Parallel(n_jobs=160)]: Done 1458 tasks      | elapsed:  2.8min\n",
      "[Parallel(n_jobs=160)]: Done 1800 tasks      | elapsed:  3.5min\n"
     ]
    }
   ],
   "source": [
    "path = 'relations/bigphi_final_for_Billy_5'\n",
    "utils.compute_relations_by_k(subsystem5,max_ncds5,path)"
   ]
  },
  {
   "cell_type": "code",
   "execution_count": null,
   "id": "45ecbe6a",
   "metadata": {},
   "outputs": [],
   "source": [
    "max_ncds5_rels = utils.decompress_relations(subsystem5, max_ncds5, f\"{path}*\")"
   ]
  },
  {
   "cell_type": "code",
   "execution_count": null,
   "id": "05f4c38d",
   "metadata": {},
   "outputs": [],
   "source": [
    "sia5 = pyphi.big_phi.sia(subsystem5, max_ncds5, max_ncds5_rels)\n",
    "\n",
    "print(f\"\\n{n}-nodes big phi = {sia5.phi}\")"
   ]
  },
  {
   "cell_type": "code",
   "execution_count": null,
   "id": "5fd2ac86",
   "metadata": {},
   "outputs": [],
   "source": []
  }
 ],
 "metadata": {
  "kernelspec": {
   "display_name": "Python 3",
   "language": "python",
   "name": "python3"
  },
  "language_info": {
   "codemirror_mode": {
    "name": "ipython",
    "version": 3
   },
   "file_extension": ".py",
   "mimetype": "text/x-python",
   "name": "python",
   "nbconvert_exporter": "python",
   "pygments_lexer": "ipython3",
   "version": "3.9.7"
  }
 },
 "nbformat": 4,
 "nbformat_minor": 5
}
