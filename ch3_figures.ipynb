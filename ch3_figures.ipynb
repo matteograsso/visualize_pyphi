{
 "cells": [
  {
   "cell_type": "code",
   "execution_count": 1,
   "id": "be33d172-f531-437e-8ecc-82ad363c5a05",
   "metadata": {},
   "outputs": [],
   "source": [
    "%load_ext autoreload\n",
    "%autoreload 2\n",
    "%load_ext blackcellmagic"
   ]
  },
  {
   "cell_type": "code",
   "execution_count": 2,
   "id": "8c439499",
   "metadata": {},
   "outputs": [
    {
     "data": {
      "text/html": [
       "<style>.container { width:80% !important; }</style>"
      ],
      "text/plain": [
       "<IPython.core.display.HTML object>"
      ]
     },
     "metadata": {},
     "output_type": "display_data"
    }
   ],
   "source": [
    "from IPython.core.display import display, HTML\n",
    "\n",
    "display(HTML(\"<style>.container { width:80% !important; }</style>\"))"
   ]
  },
  {
   "cell_type": "code",
   "execution_count": 3,
   "id": "99f3860c-e5f3-4255-875f-45e721e2dd0c",
   "metadata": {
    "tags": []
   },
   "outputs": [
    {
     "name": "stdout",
     "output_type": "stream",
     "text": [
      "\n",
      "Welcome to PyPhi!\n",
      "\n",
      "If you use PyPhi in your research, please cite the paper:\n",
      "\n",
      "  Mayner WGP, Marshall W, Albantakis L, Findlay G, Marchman R, Tononi G.\n",
      "  (2018). PyPhi: A toolbox for integrated information theory.\n",
      "  PLOS Computational Biology 14(7): e1006343.\n",
      "  https://doi.org/10.1371/journal.pcbi.1006343\n",
      "\n",
      "Documentation is available online (or with the built-in `help()` function):\n",
      "  https://pyphi.readthedocs.io\n",
      "\n",
      "To report issues, please use the issue tracker on the GitHub repository:\n",
      "  https://github.com/wmayner/pyphi\n",
      "\n",
      "For general discussion, you are welcome to join the pyphi-users group:\n",
      "  https://groups.google.com/forum/#!forum/pyphi-users\n",
      "\n",
      "To suppress this message, either:\n",
      "  - Set `WELCOME_OFF: true` in your `pyphi_config.yml` file, or\n",
      "  - Set the environment variable PYPHI_WELCOME_OFF to any value in your shell:\n",
      "        export PYPHI_WELCOME_OFF='yes'\n",
      "\n"
     ]
    }
   ],
   "source": [
    "from visualize_pyphi import *\n",
    "from visualize_pyphi import utils\n",
    "from visualize_pyphi import compute\n",
    "import pickle as pkl\n",
    "from tqdm.auto import tqdm\n",
    "import numpy as np"
   ]
  },
  {
   "cell_type": "code",
   "execution_count": 162,
   "id": "4d4f90f3-5e65-4214-b63c-b7769674aecb",
   "metadata": {},
   "outputs": [
    {
     "data": {
      "application/vnd.jupyter.widget-view+json": {
       "model_id": "1f8174814b6f474f8681b8b2a98af365",
       "version_major": 2,
       "version_minor": 0
      },
      "text/plain": [
       "  0%|          | 0/64 [00:00<?, ?it/s]"
      ]
     },
     "metadata": {},
     "output_type": "display_data"
    },
    {
     "name": "stdout",
     "output_type": "stream",
     "text": [
      "Network saved to: ch3_v5\n"
     ]
    }
   ],
   "source": [
    "# ch3 system creation\n",
    "net_name = \"ch3_v5\"\n",
    "\n",
    "th = 1 / 4\n",
    "exp = 5\n",
    "mu = 1\n",
    "si = 0.3\n",
    "ll = 1\n",
    "kk = 15\n",
    "x0 = 0.7\n",
    "\n",
    "noise = 0.00\n",
    "rule = (weights>-1)\n",
    "\n",
    "s = 0.8\n",
    "l = 0.25\n",
    "f = 0.0\n",
    "q = 0.6\n",
    "j = 1 - q\n",
    "i = j - 0.05\n",
    "b = 0.01\n",
    "\n",
    "weights = np.array(\n",
    "    [\n",
    "        [s, l, f, i, 0, 0],  # A\n",
    "        [l, s, l, j, b, 0],  # B\n",
    "        [f, l, s, i, 0, 0],  # C\n",
    "        [b, b, b, q, 0, i],  # D\n",
    "        [0, i, 0, 0, 0, 0],  # I\n",
    "        [0, 0, 0, 0, 0, 0],  # O\n",
    "        # A, B, C, D, I, O\n",
    "    ]\n",
    ")\n",
    "\n",
    "weights += rule * np.random.random((6,6))*noise\n",
    "weights = np.abs(weights)\n",
    "\n",
    "node_labels = [\"A\", \"B\", \"C\", \"D\", \"I\", \"O\"]\n",
    "mech_func = [f for f in \"sssgll\"]\n",
    "\n",
    "network = ng.get_net(\n",
    "    mech_func,\n",
    "    weights,\n",
    "    exp=exp,\n",
    "    th=th,\n",
    "    mu=mu,\n",
    "    si=si,\n",
    "    l=ll,\n",
    "    k=kk,\n",
    "    x0=x0,\n",
    "    node_labels=node_labels,\n",
    "    network_name=net_name,\n",
    "    pickle_network=True,\n",
    ")\n",
    "\n",
    "state = (0, 1, 0, 1, 1, 1)\n",
    "subsystem = pyphi.Subsystem(network, state, nodes=(0,))"
   ]
  },
  {
   "cell_type": "code",
   "execution_count": 163,
   "id": "d160eea7",
   "metadata": {},
   "outputs": [
    {
     "name": "stderr",
     "output_type": "stream",
     "text": [
      "                                                                                                                        "
     ]
    },
    {
     "name": "stdout",
     "output_type": "stream",
     "text": [
      "there are 1 possible compositional states\n"
     ]
    },
    {
     "name": "stderr",
     "output_type": "stream",
     "text": [
      "\r"
     ]
    }
   ],
   "source": [
    "ces = utils.flatten([[d.cause,d.effect] for d in pyphi.compute.ces(subsystem,parallel=True)])\n",
    "all_compositional_states = compute.get_all_compositional_states(ces)\n",
    "print('there are {} possible compositional states'.format(len(all_compositional_states)))"
   ]
  },
  {
   "cell_type": "code",
   "execution_count": 164,
   "id": "5c4659ff",
   "metadata": {
    "tags": []
   },
   "outputs": [
    {
     "data": {
      "application/vnd.jupyter.widget-view+json": {
       "model_id": "e9f9b2b1f1b34792ab157c4de126fab7",
       "version_major": 2,
       "version_minor": 0
      },
      "text/plain": [
       "  0%|          | 0/1 [00:00<?, ?it/s]"
      ]
     },
     "metadata": {},
     "output_type": "display_data"
    }
   ],
   "source": [
    "max_ces = max(\n",
    "    [\n",
    "        compute.filter_ces(subsystem, ces, compositional_state, max_relations_k=3)\n",
    "        for compositional_state in tqdm(all_compositional_states)\n",
    "    ],\n",
    "    key=lambda c: c[\"big phi\"],\n",
    ")"
   ]
  },
  {
   "cell_type": "code",
   "execution_count": 135,
   "id": "e26059ac-2d56-4494-8dcb-8d95b64bb1ea",
   "metadata": {},
   "outputs": [
    {
     "ename": "IndexError",
     "evalue": "too many indices for array: array is 1-dimensional, but 2 were indexed",
     "output_type": "error",
     "traceback": [
      "\u001b[0;31m---------------------------------------------------------------------------\u001b[0m",
      "\u001b[0;31mIndexError\u001b[0m                                Traceback (most recent call last)",
      "\u001b[0;32m/tmp/ipykernel_905154/542650658.py\u001b[0m in \u001b[0;36m<module>\u001b[0;34m\u001b[0m\n\u001b[0;32m----> 1\u001b[0;31m \u001b[0mfig\u001b[0m \u001b[0;34m=\u001b[0m \u001b[0mviz\u001b[0m\u001b[0;34m.\u001b[0m\u001b[0mplot_ces\u001b[0m\u001b[0;34m(\u001b[0m\u001b[0msubsystem\u001b[0m\u001b[0;34m,\u001b[0m\u001b[0mmax_ces\u001b[0m\u001b[0;34m[\u001b[0m\u001b[0;34m'ces'\u001b[0m\u001b[0;34m]\u001b[0m\u001b[0;34m,\u001b[0m\u001b[0mmax_ces\u001b[0m\u001b[0;34m[\u001b[0m\u001b[0;34m'relations'\u001b[0m\u001b[0;34m]\u001b[0m\u001b[0;34m,\u001b[0m\u001b[0mnetwork_name\u001b[0m\u001b[0;34m=\u001b[0m\u001b[0;34m'figures/max_ces'\u001b[0m\u001b[0;34m,\u001b[0m\u001b[0msurface_opacity\u001b[0m\u001b[0;34m=\u001b[0m\u001b[0;36m0.7\u001b[0m\u001b[0;34m,\u001b[0m\u001b[0;34m)\u001b[0m\u001b[0;34m\u001b[0m\u001b[0;34m\u001b[0m\u001b[0m\n\u001b[0m",
      "\u001b[0;32m~/projects/visualize/visualize_pyphi/visualize_pyphi/visualize_ces.py\u001b[0m in \u001b[0;36mplot_ces\u001b[0;34m(subsystem, ces, relations, network_name, floor_width_scale, floor_width_scales, floor_height_scale, cause_effect_distance, base_height_scale, base_z_offset, base_width_scale, base_opacity, base_intensity, base_color, user_mechanism_coordinates, user_purview_coordinates, mechanism_labels_size, purview_labels_size, mechanism_label_position, purview_label_position, edge_size_range, state_as_lettercase, link_width_range, transparent_edges, surface_size_range, surface_colorscale, surface_opacity, axes_range, eye_coordinates, hovermode, plot_dimensions, save_plot_to_html, save_plot_to_png, show_mechanism_base, show_chains, show_links, show_mesh, show_edges, show_labels, colorcode_2_relations, show_legend, transparent_background, chain_width, fig)\u001b[0m\n\u001b[1;32m    444\u001b[0m             \u001b[0my\u001b[0m\u001b[0;34m=\u001b[0m\u001b[0my_mechanism\u001b[0m\u001b[0;34m,\u001b[0m\u001b[0;34m\u001b[0m\u001b[0;34m\u001b[0m\u001b[0m\n\u001b[1;32m    445\u001b[0m             \u001b[0mz\u001b[0m\u001b[0;34m=\u001b[0m\u001b[0mz_mechanism\u001b[0m\u001b[0;34m,\u001b[0m\u001b[0;34m\u001b[0m\u001b[0;34m\u001b[0m\u001b[0m\n\u001b[0;32m--> 446\u001b[0;31m             \u001b[0mi\u001b[0m\u001b[0;34m=\u001b[0m\u001b[0mbase_mechanisms_triangles\u001b[0m\u001b[0;34m[\u001b[0m\u001b[0;34m:\u001b[0m\u001b[0;34m,\u001b[0m \u001b[0;36m0\u001b[0m\u001b[0;34m]\u001b[0m\u001b[0;34m,\u001b[0m\u001b[0;34m\u001b[0m\u001b[0;34m\u001b[0m\u001b[0m\n\u001b[0m\u001b[1;32m    447\u001b[0m             \u001b[0mj\u001b[0m\u001b[0;34m=\u001b[0m\u001b[0mbase_mechanisms_triangles\u001b[0m\u001b[0;34m[\u001b[0m\u001b[0;34m:\u001b[0m\u001b[0;34m,\u001b[0m \u001b[0;36m1\u001b[0m\u001b[0;34m]\u001b[0m\u001b[0;34m,\u001b[0m\u001b[0;34m\u001b[0m\u001b[0;34m\u001b[0m\u001b[0m\n\u001b[1;32m    448\u001b[0m             \u001b[0mk\u001b[0m\u001b[0;34m=\u001b[0m\u001b[0mbase_mechanisms_triangles\u001b[0m\u001b[0;34m[\u001b[0m\u001b[0;34m:\u001b[0m\u001b[0;34m,\u001b[0m \u001b[0;36m2\u001b[0m\u001b[0;34m]\u001b[0m\u001b[0;34m,\u001b[0m\u001b[0;34m\u001b[0m\u001b[0;34m\u001b[0m\u001b[0m\n",
      "\u001b[0;31mIndexError\u001b[0m: too many indices for array: array is 1-dimensional, but 2 were indexed"
     ]
    }
   ],
   "source": [
    "\n",
    "fig = viz.plot_ces(subsystem,max_ces['ces'],max_ces['relations'],network_name='figures/max_ces',surface_opacity=0.7,)"
   ]
  },
  {
   "cell_type": "code",
   "execution_count": 165,
   "id": "d6934b90-badf-43a2-b6b6-b23ec5ab15bf",
   "metadata": {},
   "outputs": [
    {
     "data": {
      "text/plain": [
       "1.361076302171824e+00"
      ]
     },
     "execution_count": 165,
     "metadata": {},
     "output_type": "execute_result"
    }
   ],
   "source": [
    "max_ces['big phi']"
   ]
  },
  {
   "cell_type": "code",
   "execution_count": 166,
   "id": "d7b868e8-b6ad-4f8c-9512-88f953aba9e7",
   "metadata": {},
   "outputs": [
    {
     "data": {
      "text/plain": [
       "(((), ()), 'disintegration')"
      ]
     },
     "execution_count": 166,
     "metadata": {},
     "output_type": "execute_result"
    }
   ],
   "source": [
    "max_ces['MIP']"
   ]
  },
  {
   "cell_type": "code",
   "execution_count": 167,
   "id": "5e6fad8a-db9d-421f-bd1c-23e812d0e107",
   "metadata": {},
   "outputs": [
    {
     "data": {
      "text/html": [
       "<div>\n",
       "<style scoped>\n",
       "    .dataframe tbody tr th:only-of-type {\n",
       "        vertical-align: middle;\n",
       "    }\n",
       "\n",
       "    .dataframe tbody tr th {\n",
       "        vertical-align: top;\n",
       "    }\n",
       "\n",
       "    .dataframe thead th {\n",
       "        text-align: right;\n",
       "    }\n",
       "</style>\n",
       "<table border=\"1\" class=\"dataframe\">\n",
       "  <thead>\n",
       "    <tr style=\"text-align: right;\">\n",
       "      <th></th>\n",
       "      <th>mechanism</th>\n",
       "      <th>direction</th>\n",
       "      <th>purview</th>\n",
       "      <th>state</th>\n",
       "      <th>phi</th>\n",
       "    </tr>\n",
       "  </thead>\n",
       "  <tbody>\n",
       "    <tr>\n",
       "      <th>0</th>\n",
       "      <td>A</td>\n",
       "      <td>CAUSE</td>\n",
       "      <td>A</td>\n",
       "      <td>0</td>\n",
       "      <td>0.680538</td>\n",
       "    </tr>\n",
       "    <tr>\n",
       "      <th>1</th>\n",
       "      <td>A</td>\n",
       "      <td>EFFECT</td>\n",
       "      <td>A</td>\n",
       "      <td>0</td>\n",
       "      <td>0.784442</td>\n",
       "    </tr>\n",
       "  </tbody>\n",
       "</table>\n",
       "</div>"
      ],
      "text/plain": [
       "  mechanism direction purview state       phi\n",
       "0         A     CAUSE       A     0  0.680538\n",
       "1         A    EFFECT       A     0  0.784442"
      ]
     },
     "execution_count": 167,
     "metadata": {},
     "output_type": "execute_result"
    }
   ],
   "source": [
    "utils.sepces2df(max_ces['ces'],subsystem)"
   ]
  },
  {
   "cell_type": "code",
   "execution_count": 168,
   "id": "ffeb2078-2f7a-40a2-8483-e0b55284ea6c",
   "metadata": {},
   "outputs": [
    {
     "data": {
      "text/plain": [
       "[Maximally-irreducible cause\n",
       "   φ = 0.680538\n",
       "   Mechanism: [A]\n",
       "   Purview = [A]\n",
       "   State = None\n",
       "   Direction: CAUSE,\n",
       " Maximally-irreducible effect\n",
       "   φ = 0.784442\n",
       "   Mechanism: [A]\n",
       "   Purview = [A]\n",
       "   State = None\n",
       "   Direction: EFFECT]"
      ]
     },
     "execution_count": 168,
     "metadata": {},
     "output_type": "execute_result"
    }
   ],
   "source": [
    "ces"
   ]
  },
  {
   "cell_type": "code",
   "execution_count": 50,
   "id": "aefe3300",
   "metadata": {},
   "outputs": [
    {
     "data": {
      "text/html": [
       "<div>\n",
       "<style scoped>\n",
       "    .dataframe tbody tr th:only-of-type {\n",
       "        vertical-align: middle;\n",
       "    }\n",
       "\n",
       "    .dataframe tbody tr th {\n",
       "        vertical-align: top;\n",
       "    }\n",
       "\n",
       "    .dataframe thead th {\n",
       "        text-align: right;\n",
       "    }\n",
       "</style>\n",
       "<table border=\"1\" class=\"dataframe\">\n",
       "  <thead>\n",
       "    <tr style=\"text-align: right;\">\n",
       "      <th></th>\n",
       "      <th>mechanism</th>\n",
       "      <th>direction</th>\n",
       "      <th>purview</th>\n",
       "      <th>state</th>\n",
       "      <th>phi</th>\n",
       "    </tr>\n",
       "  </thead>\n",
       "  <tbody>\n",
       "    <tr>\n",
       "      <th>0</th>\n",
       "      <td>A</td>\n",
       "      <td>CAUSE</td>\n",
       "      <td>A</td>\n",
       "      <td>0</td>\n",
       "      <td>0.532197</td>\n",
       "    </tr>\n",
       "    <tr>\n",
       "      <th>1</th>\n",
       "      <td>A</td>\n",
       "      <td>EFFECT</td>\n",
       "      <td>A</td>\n",
       "      <td>0</td>\n",
       "      <td>0.666480</td>\n",
       "    </tr>\n",
       "    <tr>\n",
       "      <th>2</th>\n",
       "      <td>B</td>\n",
       "      <td>CAUSE</td>\n",
       "      <td>B</td>\n",
       "      <td>1</td>\n",
       "      <td>0.440708</td>\n",
       "    </tr>\n",
       "    <tr>\n",
       "      <th>3</th>\n",
       "      <td>B</td>\n",
       "      <td>EFFECT</td>\n",
       "      <td>B</td>\n",
       "      <td>1</td>\n",
       "      <td>0.557322</td>\n",
       "    </tr>\n",
       "    <tr>\n",
       "      <th>4</th>\n",
       "      <td>C</td>\n",
       "      <td>CAUSE</td>\n",
       "      <td>C</td>\n",
       "      <td>0</td>\n",
       "      <td>0.537943</td>\n",
       "    </tr>\n",
       "    <tr>\n",
       "      <th>5</th>\n",
       "      <td>C</td>\n",
       "      <td>EFFECT</td>\n",
       "      <td>C</td>\n",
       "      <td>0</td>\n",
       "      <td>0.671042</td>\n",
       "    </tr>\n",
       "    <tr>\n",
       "      <th>6</th>\n",
       "      <td>AB</td>\n",
       "      <td>CAUSE</td>\n",
       "      <td>AB</td>\n",
       "      <td>10</td>\n",
       "      <td>0.171851</td>\n",
       "    </tr>\n",
       "    <tr>\n",
       "      <th>7</th>\n",
       "      <td>AB</td>\n",
       "      <td>EFFECT</td>\n",
       "      <td>ABD</td>\n",
       "      <td>010</td>\n",
       "      <td>0.040551</td>\n",
       "    </tr>\n",
       "    <tr>\n",
       "      <th>8</th>\n",
       "      <td>AC</td>\n",
       "      <td>CAUSE</td>\n",
       "      <td>ABC</td>\n",
       "      <td>100</td>\n",
       "      <td>0.080356</td>\n",
       "    </tr>\n",
       "    <tr>\n",
       "      <th>9</th>\n",
       "      <td>AC</td>\n",
       "      <td>EFFECT</td>\n",
       "      <td>ABCD</td>\n",
       "      <td>0000</td>\n",
       "      <td>0.150566</td>\n",
       "    </tr>\n",
       "    <tr>\n",
       "      <th>10</th>\n",
       "      <td>BC</td>\n",
       "      <td>CAUSE</td>\n",
       "      <td>BC</td>\n",
       "      <td>01</td>\n",
       "      <td>0.175203</td>\n",
       "    </tr>\n",
       "    <tr>\n",
       "      <th>11</th>\n",
       "      <td>BC</td>\n",
       "      <td>EFFECT</td>\n",
       "      <td>BCD</td>\n",
       "      <td>100</td>\n",
       "      <td>0.040954</td>\n",
       "    </tr>\n",
       "    <tr>\n",
       "      <th>12</th>\n",
       "      <td>CD</td>\n",
       "      <td>CAUSE</td>\n",
       "      <td>CD</td>\n",
       "      <td>01</td>\n",
       "      <td>0.159986</td>\n",
       "    </tr>\n",
       "    <tr>\n",
       "      <th>13</th>\n",
       "      <td>CD</td>\n",
       "      <td>EFFECT</td>\n",
       "      <td>D</td>\n",
       "      <td>1</td>\n",
       "      <td>0.152080</td>\n",
       "    </tr>\n",
       "    <tr>\n",
       "      <th>14</th>\n",
       "      <td>ABCD</td>\n",
       "      <td>CAUSE</td>\n",
       "      <td>ABCD</td>\n",
       "      <td>0101</td>\n",
       "      <td>0.214490</td>\n",
       "    </tr>\n",
       "    <tr>\n",
       "      <th>15</th>\n",
       "      <td>ABCD</td>\n",
       "      <td>EFFECT</td>\n",
       "      <td>CD</td>\n",
       "      <td>01</td>\n",
       "      <td>0.436501</td>\n",
       "    </tr>\n",
       "  </tbody>\n",
       "</table>\n",
       "</div>"
      ],
      "text/plain": [
       "   mechanism direction purview state       phi\n",
       "0          A     CAUSE       A     0  0.532197\n",
       "1          A    EFFECT       A     0  0.666480\n",
       "2          B     CAUSE       B     1  0.440708\n",
       "3          B    EFFECT       B     1  0.557322\n",
       "4          C     CAUSE       C     0  0.537943\n",
       "5          C    EFFECT       C     0  0.671042\n",
       "6         AB     CAUSE      AB    10  0.171851\n",
       "7         AB    EFFECT     ABD   010  0.040551\n",
       "8         AC     CAUSE     ABC   100  0.080356\n",
       "9         AC    EFFECT    ABCD  0000  0.150566\n",
       "10        BC     CAUSE      BC    01  0.175203\n",
       "11        BC    EFFECT     BCD   100  0.040954\n",
       "12        CD     CAUSE      CD    01  0.159986\n",
       "13        CD    EFFECT       D     1  0.152080\n",
       "14      ABCD     CAUSE    ABCD  0101  0.214490\n",
       "15      ABCD    EFFECT      CD    01  0.436501"
      ]
     },
     "execution_count": 50,
     "metadata": {},
     "output_type": "execute_result"
    }
   ],
   "source": [
    "utils.sepces2df(max_ces['ces'],subsystem)"
   ]
  },
  {
   "cell_type": "code",
   "execution_count": 72,
   "id": "986377fa",
   "metadata": {},
   "outputs": [
    {
     "data": {
      "text/html": [
       "<div>\n",
       "<style scoped>\n",
       "    .dataframe tbody tr th:only-of-type {\n",
       "        vertical-align: middle;\n",
       "    }\n",
       "\n",
       "    .dataframe tbody tr th {\n",
       "        vertical-align: top;\n",
       "    }\n",
       "\n",
       "    .dataframe thead th {\n",
       "        text-align: right;\n",
       "    }\n",
       "</style>\n",
       "<table border=\"1\" class=\"dataframe\">\n",
       "  <thead>\n",
       "    <tr style=\"text-align: right;\">\n",
       "      <th></th>\n",
       "      <th>mechanism</th>\n",
       "      <th>direction</th>\n",
       "      <th>purview</th>\n",
       "      <th>state</th>\n",
       "      <th>phi</th>\n",
       "    </tr>\n",
       "  </thead>\n",
       "  <tbody>\n",
       "    <tr>\n",
       "      <th>0</th>\n",
       "      <td>A</td>\n",
       "      <td>CAUSE</td>\n",
       "      <td>A</td>\n",
       "      <td>0</td>\n",
       "      <td>0.486034</td>\n",
       "    </tr>\n",
       "    <tr>\n",
       "      <th>1</th>\n",
       "      <td>A</td>\n",
       "      <td>EFFECT</td>\n",
       "      <td>A</td>\n",
       "      <td>0</td>\n",
       "      <td>0.627340</td>\n",
       "    </tr>\n",
       "    <tr>\n",
       "      <th>2</th>\n",
       "      <td>B</td>\n",
       "      <td>CAUSE</td>\n",
       "      <td>B</td>\n",
       "      <td>0</td>\n",
       "      <td>0.601248</td>\n",
       "    </tr>\n",
       "    <tr>\n",
       "      <th>3</th>\n",
       "      <td>B</td>\n",
       "      <td>EFFECT</td>\n",
       "      <td>B</td>\n",
       "      <td>0</td>\n",
       "      <td>0.703992</td>\n",
       "    </tr>\n",
       "    <tr>\n",
       "      <th>4</th>\n",
       "      <td>C</td>\n",
       "      <td>CAUSE</td>\n",
       "      <td>C</td>\n",
       "      <td>0</td>\n",
       "      <td>0.486034</td>\n",
       "    </tr>\n",
       "    <tr>\n",
       "      <th>5</th>\n",
       "      <td>C</td>\n",
       "      <td>EFFECT</td>\n",
       "      <td>C</td>\n",
       "      <td>0</td>\n",
       "      <td>0.627340</td>\n",
       "    </tr>\n",
       "    <tr>\n",
       "      <th>6</th>\n",
       "      <td>D</td>\n",
       "      <td>CAUSE</td>\n",
       "      <td>BD</td>\n",
       "      <td>00</td>\n",
       "      <td>0.311921</td>\n",
       "    </tr>\n",
       "    <tr>\n",
       "      <th>7</th>\n",
       "      <td>D</td>\n",
       "      <td>EFFECT</td>\n",
       "      <td>D</td>\n",
       "      <td>0</td>\n",
       "      <td>0.177053</td>\n",
       "    </tr>\n",
       "    <tr>\n",
       "      <th>8</th>\n",
       "      <td>AB</td>\n",
       "      <td>CAUSE</td>\n",
       "      <td>AB</td>\n",
       "      <td>00</td>\n",
       "      <td>0.075913</td>\n",
       "    </tr>\n",
       "    <tr>\n",
       "      <th>9</th>\n",
       "      <td>AB</td>\n",
       "      <td>EFFECT</td>\n",
       "      <td>ABD</td>\n",
       "      <td>000</td>\n",
       "      <td>0.185003</td>\n",
       "    </tr>\n",
       "    <tr>\n",
       "      <th>10</th>\n",
       "      <td>AC</td>\n",
       "      <td>CAUSE</td>\n",
       "      <td>B</td>\n",
       "      <td>0</td>\n",
       "      <td>0.076816</td>\n",
       "    </tr>\n",
       "    <tr>\n",
       "      <th>11</th>\n",
       "      <td>AC</td>\n",
       "      <td>EFFECT</td>\n",
       "      <td>BD</td>\n",
       "      <td>00</td>\n",
       "      <td>0.166159</td>\n",
       "    </tr>\n",
       "    <tr>\n",
       "      <th>12</th>\n",
       "      <td>AD</td>\n",
       "      <td>CAUSE</td>\n",
       "      <td>AD</td>\n",
       "      <td>00</td>\n",
       "      <td>0.184125</td>\n",
       "    </tr>\n",
       "    <tr>\n",
       "      <th>13</th>\n",
       "      <td>AD</td>\n",
       "      <td>EFFECT</td>\n",
       "      <td>D</td>\n",
       "      <td>0</td>\n",
       "      <td>0.289812</td>\n",
       "    </tr>\n",
       "    <tr>\n",
       "      <th>14</th>\n",
       "      <td>BC</td>\n",
       "      <td>CAUSE</td>\n",
       "      <td>BC</td>\n",
       "      <td>00</td>\n",
       "      <td>0.075913</td>\n",
       "    </tr>\n",
       "    <tr>\n",
       "      <th>15</th>\n",
       "      <td>BC</td>\n",
       "      <td>EFFECT</td>\n",
       "      <td>BCD</td>\n",
       "      <td>000</td>\n",
       "      <td>0.185003</td>\n",
       "    </tr>\n",
       "    <tr>\n",
       "      <th>16</th>\n",
       "      <td>BD</td>\n",
       "      <td>CAUSE</td>\n",
       "      <td>BD</td>\n",
       "      <td>00</td>\n",
       "      <td>0.228717</td>\n",
       "    </tr>\n",
       "    <tr>\n",
       "      <th>17</th>\n",
       "      <td>BD</td>\n",
       "      <td>EFFECT</td>\n",
       "      <td>D</td>\n",
       "      <td>0</td>\n",
       "      <td>0.354625</td>\n",
       "    </tr>\n",
       "    <tr>\n",
       "      <th>18</th>\n",
       "      <td>CD</td>\n",
       "      <td>CAUSE</td>\n",
       "      <td>CD</td>\n",
       "      <td>00</td>\n",
       "      <td>0.184125</td>\n",
       "    </tr>\n",
       "    <tr>\n",
       "      <th>19</th>\n",
       "      <td>CD</td>\n",
       "      <td>EFFECT</td>\n",
       "      <td>D</td>\n",
       "      <td>0</td>\n",
       "      <td>0.289812</td>\n",
       "    </tr>\n",
       "    <tr>\n",
       "      <th>20</th>\n",
       "      <td>ABC</td>\n",
       "      <td>CAUSE</td>\n",
       "      <td>ABC</td>\n",
       "      <td>000</td>\n",
       "      <td>0.066542</td>\n",
       "    </tr>\n",
       "    <tr>\n",
       "      <th>21</th>\n",
       "      <td>ABC</td>\n",
       "      <td>EFFECT</td>\n",
       "      <td>ABCD</td>\n",
       "      <td>0000</td>\n",
       "      <td>0.274974</td>\n",
       "    </tr>\n",
       "    <tr>\n",
       "      <th>22</th>\n",
       "      <td>ABD</td>\n",
       "      <td>CAUSE</td>\n",
       "      <td>ABCD</td>\n",
       "      <td>0000</td>\n",
       "      <td>0.098318</td>\n",
       "    </tr>\n",
       "    <tr>\n",
       "      <th>23</th>\n",
       "      <td>ABD</td>\n",
       "      <td>EFFECT</td>\n",
       "      <td>ABD</td>\n",
       "      <td>000</td>\n",
       "      <td>0.277780</td>\n",
       "    </tr>\n",
       "    <tr>\n",
       "      <th>24</th>\n",
       "      <td>ACD</td>\n",
       "      <td>CAUSE</td>\n",
       "      <td>ABCD</td>\n",
       "      <td>0001</td>\n",
       "      <td>0.134707</td>\n",
       "    </tr>\n",
       "    <tr>\n",
       "      <th>25</th>\n",
       "      <td>ACD</td>\n",
       "      <td>EFFECT</td>\n",
       "      <td>BD</td>\n",
       "      <td>00</td>\n",
       "      <td>0.284907</td>\n",
       "    </tr>\n",
       "    <tr>\n",
       "      <th>26</th>\n",
       "      <td>BCD</td>\n",
       "      <td>CAUSE</td>\n",
       "      <td>ABCD</td>\n",
       "      <td>0000</td>\n",
       "      <td>0.098318</td>\n",
       "    </tr>\n",
       "    <tr>\n",
       "      <th>27</th>\n",
       "      <td>BCD</td>\n",
       "      <td>EFFECT</td>\n",
       "      <td>BCD</td>\n",
       "      <td>000</td>\n",
       "      <td>0.277780</td>\n",
       "    </tr>\n",
       "    <tr>\n",
       "      <th>28</th>\n",
       "      <td>ABCD</td>\n",
       "      <td>CAUSE</td>\n",
       "      <td>ABCD</td>\n",
       "      <td>0100</td>\n",
       "      <td>0.112356</td>\n",
       "    </tr>\n",
       "    <tr>\n",
       "      <th>29</th>\n",
       "      <td>ABCD</td>\n",
       "      <td>EFFECT</td>\n",
       "      <td>ABCD</td>\n",
       "      <td>0000</td>\n",
       "      <td>0.073669</td>\n",
       "    </tr>\n",
       "  </tbody>\n",
       "</table>\n",
       "</div>"
      ],
      "text/plain": [
       "   mechanism direction purview state       phi\n",
       "0          A     CAUSE       A     0  0.486034\n",
       "1          A    EFFECT       A     0  0.627340\n",
       "2          B     CAUSE       B     0  0.601248\n",
       "3          B    EFFECT       B     0  0.703992\n",
       "4          C     CAUSE       C     0  0.486034\n",
       "5          C    EFFECT       C     0  0.627340\n",
       "6          D     CAUSE      BD    00  0.311921\n",
       "7          D    EFFECT       D     0  0.177053\n",
       "8         AB     CAUSE      AB    00  0.075913\n",
       "9         AB    EFFECT     ABD   000  0.185003\n",
       "10        AC     CAUSE       B     0  0.076816\n",
       "11        AC    EFFECT      BD    00  0.166159\n",
       "12        AD     CAUSE      AD    00  0.184125\n",
       "13        AD    EFFECT       D     0  0.289812\n",
       "14        BC     CAUSE      BC    00  0.075913\n",
       "15        BC    EFFECT     BCD   000  0.185003\n",
       "16        BD     CAUSE      BD    00  0.228717\n",
       "17        BD    EFFECT       D     0  0.354625\n",
       "18        CD     CAUSE      CD    00  0.184125\n",
       "19        CD    EFFECT       D     0  0.289812\n",
       "20       ABC     CAUSE     ABC   000  0.066542\n",
       "21       ABC    EFFECT    ABCD  0000  0.274974\n",
       "22       ABD     CAUSE    ABCD  0000  0.098318\n",
       "23       ABD    EFFECT     ABD   000  0.277780\n",
       "24       ACD     CAUSE    ABCD  0001  0.134707\n",
       "25       ACD    EFFECT      BD    00  0.284907\n",
       "26       BCD     CAUSE    ABCD  0000  0.098318\n",
       "27       BCD    EFFECT     BCD   000  0.277780\n",
       "28      ABCD     CAUSE    ABCD  0100  0.112356\n",
       "29      ABCD    EFFECT    ABCD  0000  0.073669"
      ]
     },
     "execution_count": 72,
     "metadata": {},
     "output_type": "execute_result"
    }
   ],
   "source": [
    "utils.sepces2df(ces,subsystem)"
   ]
  },
  {
   "cell_type": "code",
   "execution_count": 76,
   "id": "5b43b12f",
   "metadata": {},
   "outputs": [
    {
     "data": {
      "text/html": [
       "<div>\n",
       "<style scoped>\n",
       "    .dataframe tbody tr th:only-of-type {\n",
       "        vertical-align: middle;\n",
       "    }\n",
       "\n",
       "    .dataframe tbody tr th {\n",
       "        vertical-align: top;\n",
       "    }\n",
       "\n",
       "    .dataframe thead th {\n",
       "        text-align: right;\n",
       "    }\n",
       "</style>\n",
       "<table border=\"1\" class=\"dataframe\">\n",
       "  <thead>\n",
       "    <tr style=\"text-align: right;\">\n",
       "      <th></th>\n",
       "      <th>mechanism</th>\n",
       "      <th>direction</th>\n",
       "      <th>purview</th>\n",
       "      <th>state</th>\n",
       "      <th>phi</th>\n",
       "    </tr>\n",
       "  </thead>\n",
       "  <tbody>\n",
       "    <tr>\n",
       "      <th>0</th>\n",
       "      <td>A</td>\n",
       "      <td>CAUSE</td>\n",
       "      <td>A</td>\n",
       "      <td>0</td>\n",
       "      <td>0.512357</td>\n",
       "    </tr>\n",
       "    <tr>\n",
       "      <th>1</th>\n",
       "      <td>A</td>\n",
       "      <td>EFFECT</td>\n",
       "      <td>A</td>\n",
       "      <td>0</td>\n",
       "      <td>0.649867</td>\n",
       "    </tr>\n",
       "    <tr>\n",
       "      <th>2</th>\n",
       "      <td>B</td>\n",
       "      <td>CAUSE</td>\n",
       "      <td>B</td>\n",
       "      <td>1</td>\n",
       "      <td>0.452130</td>\n",
       "    </tr>\n",
       "    <tr>\n",
       "      <th>3</th>\n",
       "      <td>B</td>\n",
       "      <td>EFFECT</td>\n",
       "      <td>B</td>\n",
       "      <td>1</td>\n",
       "      <td>0.567426</td>\n",
       "    </tr>\n",
       "    <tr>\n",
       "      <th>4</th>\n",
       "      <td>C</td>\n",
       "      <td>CAUSE</td>\n",
       "      <td>C</td>\n",
       "      <td>0</td>\n",
       "      <td>0.514622</td>\n",
       "    </tr>\n",
       "    <tr>\n",
       "      <th>5</th>\n",
       "      <td>C</td>\n",
       "      <td>EFFECT</td>\n",
       "      <td>C</td>\n",
       "      <td>0</td>\n",
       "      <td>0.652147</td>\n",
       "    </tr>\n",
       "    <tr>\n",
       "      <th>6</th>\n",
       "      <td>AB</td>\n",
       "      <td>CAUSE</td>\n",
       "      <td>AB</td>\n",
       "      <td>10</td>\n",
       "      <td>0.180604</td>\n",
       "    </tr>\n",
       "    <tr>\n",
       "      <th>7</th>\n",
       "      <td>AB</td>\n",
       "      <td>EFFECT</td>\n",
       "      <td>ABD</td>\n",
       "      <td>010</td>\n",
       "      <td>0.038629</td>\n",
       "    </tr>\n",
       "    <tr>\n",
       "      <th>8</th>\n",
       "      <td>BC</td>\n",
       "      <td>CAUSE</td>\n",
       "      <td>BC</td>\n",
       "      <td>01</td>\n",
       "      <td>0.175186</td>\n",
       "    </tr>\n",
       "    <tr>\n",
       "      <th>9</th>\n",
       "      <td>BC</td>\n",
       "      <td>EFFECT</td>\n",
       "      <td>BCD</td>\n",
       "      <td>100</td>\n",
       "      <td>0.038340</td>\n",
       "    </tr>\n",
       "    <tr>\n",
       "      <th>10</th>\n",
       "      <td>BD</td>\n",
       "      <td>CAUSE</td>\n",
       "      <td>BCD</td>\n",
       "      <td>110</td>\n",
       "      <td>0.139932</td>\n",
       "    </tr>\n",
       "    <tr>\n",
       "      <th>11</th>\n",
       "      <td>BD</td>\n",
       "      <td>EFFECT</td>\n",
       "      <td>BD</td>\n",
       "      <td>10</td>\n",
       "      <td>0.024241</td>\n",
       "    </tr>\n",
       "    <tr>\n",
       "      <th>12</th>\n",
       "      <td>ABCD</td>\n",
       "      <td>CAUSE</td>\n",
       "      <td>ABCD</td>\n",
       "      <td>0101</td>\n",
       "      <td>0.218696</td>\n",
       "    </tr>\n",
       "    <tr>\n",
       "      <th>13</th>\n",
       "      <td>ABCD</td>\n",
       "      <td>EFFECT</td>\n",
       "      <td>D</td>\n",
       "      <td>1</td>\n",
       "      <td>0.427381</td>\n",
       "    </tr>\n",
       "  </tbody>\n",
       "</table>\n",
       "</div>"
      ],
      "text/plain": [
       "   mechanism direction purview state       phi\n",
       "0          A     CAUSE       A     0  0.512357\n",
       "1          A    EFFECT       A     0  0.649867\n",
       "2          B     CAUSE       B     1  0.452130\n",
       "3          B    EFFECT       B     1  0.567426\n",
       "4          C     CAUSE       C     0  0.514622\n",
       "5          C    EFFECT       C     0  0.652147\n",
       "6         AB     CAUSE      AB    10  0.180604\n",
       "7         AB    EFFECT     ABD   010  0.038629\n",
       "8         BC     CAUSE      BC    01  0.175186\n",
       "9         BC    EFFECT     BCD   100  0.038340\n",
       "10        BD     CAUSE     BCD   110  0.139932\n",
       "11        BD    EFFECT      BD    10  0.024241\n",
       "12      ABCD     CAUSE    ABCD  0101  0.218696\n",
       "13      ABCD    EFFECT       D     1  0.427381"
      ]
     },
     "execution_count": 76,
     "metadata": {},
     "output_type": "execute_result"
    }
   ],
   "source": [
    "CES = [m for f in filtered for m in f if m['big phi']>8.8][0]\n",
    "utils.sepces2df(CES['ces'],subsystem)"
   ]
  },
  {
   "cell_type": "code",
   "execution_count": 77,
   "id": "210fc0b9",
   "metadata": {},
   "outputs": [
    {
     "data": {
      "text/plain": [
       "(((0,), (1, 2, 3)), (1, 2, 3), (0,), EFFECT)"
      ]
     },
     "execution_count": 77,
     "metadata": {},
     "output_type": "execute_result"
    }
   ],
   "source": [
    "CES['MIP']"
   ]
  },
  {
   "cell_type": "code",
   "execution_count": 69,
   "id": "b36fef8f",
   "metadata": {},
   "outputs": [
    {
     "data": {
      "text/plain": [
       "array([[0.80429078, 0.25524274, 0.00307273, 0.3515403 , 0.00492981,\n",
       "        0.00996336],\n",
       "       [0.25475904, 0.8015509 , 0.25453847, 0.40018269, 0.01702802,\n",
       "        0.0043879 ],\n",
       "       [0.00997719, 0.25221898, 0.80581981, 0.35990666, 0.00266345,\n",
       "        0.00728655],\n",
       "       [0.01578615, 0.01329649, 0.0181051 , 0.60958749, 0.00620138,\n",
       "        0.35398605],\n",
       "       [0.00974372, 0.35204232, 0.00702253, 0.00453444, 0.00349476,\n",
       "        0.00514265],\n",
       "       [0.00515462, 0.00230007, 0.00979452, 0.00469913, 0.00642495,\n",
       "        0.00897918]])"
      ]
     },
     "execution_count": 69,
     "metadata": {},
     "output_type": "execute_result"
    }
   ],
   "source": [
    "good_weights = weights\n",
    "good_weights"
   ]
  },
  {
   "cell_type": "code",
   "execution_count": null,
   "id": "5619941b",
   "metadata": {},
   "outputs": [],
   "source": []
  },
  {
   "cell_type": "code",
   "execution_count": 129,
   "id": "17723e14-8850-495b-b93b-66aead2a0c44",
   "metadata": {},
   "outputs": [
    {
     "data": {
      "application/vnd.jupyter.widget-view+json": {
       "model_id": "e4754b42c680433ab260f52f0c746a74",
       "version_major": 2,
       "version_minor": 0
      },
      "text/plain": [
       "  0%|          | 0/64 [00:00<?, ?it/s]"
      ]
     },
     "metadata": {},
     "output_type": "display_data"
    },
    {
     "name": "stdout",
     "output_type": "stream",
     "text": [
      "Network saved to: ch3_v5\n"
     ]
    }
   ],
   "source": [
    "# ch3 larger system creation\n",
    "net_name = \"ch3_v5\"\n",
    "\n",
    "th = 1 / 4\n",
    "exp = 5\n",
    "mu = 1\n",
    "si = 0.3\n",
    "ll = 1\n",
    "kk = 15\n",
    "x0 = 0.7\n",
    "\n",
    "noise = 0.02\n",
    "rule = (weights>0)\n",
    "\n",
    "s = 0.8\n",
    "l = 0.25\n",
    "f = 0.0\n",
    "q = 0.6\n",
    "j = 1 - q\n",
    "i = j - 0.05\n",
    "b = 0.01\n",
    "\n",
    "weights = np.array(\n",
    "    [\n",
    "        [s, l, f, 0, i, 0],  # A\n",
    "        [l, s, l, f, j, b],  # B\n",
    "        [f, l, s, l, i, 0],  # C\n",
    "        [0, f, l, s, i, 0],  # D\n",
    "        [b, b, b, b, q, 0],  # E\n",
    "        [0, i, 0, 0, 0, 0],  # I\n",
    "       # A, B, C, D, E, I\n",
    "    ]\n",
    ")\n",
    "\n",
    "weights += rule * np.random.random((6,6))*noise\n",
    "weights = np.abs(weights)\n",
    "\n",
    "node_labels = [\"A\", \"B\", \"C\", \"D\", \"E\", \"I\"]\n",
    "mech_func = [f for f in \"ssssgl\"]\n",
    "\n",
    "network = ng.get_net(\n",
    "    mech_func,\n",
    "    weights,\n",
    "    exp=exp,\n",
    "    th=th,\n",
    "    mu=mu,\n",
    "    si=si,\n",
    "    l=ll,\n",
    "    k=kk,\n",
    "    x0=x0,\n",
    "    node_labels=node_labels,\n",
    "    network_name=net_name,\n",
    "    pickle_network=True,\n",
    ")\n",
    "\n",
    "state = (0, 1, 0, 0, 1, 1)\n",
    "subsystem = pyphi.Subsystem(network, state, nodes=(0, 1, 2, 3, 4))"
   ]
  },
  {
   "cell_type": "code",
   "execution_count": 130,
   "id": "fb65ed49-1dbd-4969-89d9-23631bc515ff",
   "metadata": {},
   "outputs": [
    {
     "name": "stderr",
     "output_type": "stream",
     "text": [
      "\n",
      "\n",
      "Computing concepts:   0%|                                                                        | 0/31 [00:00<?, ?it/s]\u001b[A\u001b[A\n",
      "\n",
      "Computing concepts:   3%|██                                                              | 1/31 [00:02<01:22,  2.73s/it]\u001b[A\u001b[A\n",
      "\n",
      "Computing concepts:  26%|████████████████▌                                               | 8/31 [00:02<00:06,  3.61it/s]\u001b[A\u001b[A\n",
      "\n",
      "Computing concepts:  52%|████████████████████████████████▌                              | 16/31 [00:03<00:01,  7.59it/s]\u001b[A\u001b[A\n",
      "\n",
      "Computing concepts:  77%|████████████████████████████████████████████████▊              | 24/31 [00:03<00:00, 12.92it/s]\u001b[A\u001b[A\n",
      "\n",
      "Computing concepts:  94%|██████████████████████████████████████████████████████████▉    | 29/31 [00:04<00:00,  9.61it/s]\u001b[A\u001b[A\n",
      "\n",
      "                                                                                                                        \u001b[A\u001b[A"
     ]
    },
    {
     "name": "stdout",
     "output_type": "stream",
     "text": [
      "there are 384 possible compositional states\n"
     ]
    }
   ],
   "source": [
    "ces = utils.flatten([[d.cause,d.effect] for d in pyphi.compute.ces(subsystem,parallel=True)])\n",
    "all_compositional_states = compute.get_all_compositional_states(ces)\n",
    "print('there are {} possible compositional states'.format(len(all_compositional_states)))"
   ]
  },
  {
   "cell_type": "code",
   "execution_count": 131,
   "id": "f807be8a-6165-4552-b4e0-a9d3f317fcdc",
   "metadata": {
    "tags": []
   },
   "outputs": [
    {
     "data": {
      "application/vnd.jupyter.widget-view+json": {
       "model_id": "0fc64502553f4962a39034bb902fd8b9",
       "version_major": 2,
       "version_minor": 0
      },
      "text/plain": [
       "  0%|          | 0/384 [00:00<?, ?it/s]"
      ]
     },
     "metadata": {},
     "output_type": "display_data"
    },
    {
     "data": {
      "application/vnd.jupyter.widget-view+json": {
       "model_id": "7bb886c4e14349ee837a88fbe71dc501",
       "version_major": 2,
       "version_minor": 0
      },
      "text/plain": [
       "  0%|          | 0/192 [00:00<?, ?it/s]"
      ]
     },
     "metadata": {},
     "output_type": "display_data"
    },
    {
     "ename": "KeyboardInterrupt",
     "evalue": "",
     "output_type": "error",
     "traceback": [
      "\u001b[0;31m---------------------------------------------------------------------------\u001b[0m",
      "\u001b[0;31mKeyboardInterrupt\u001b[0m                         Traceback (most recent call last)",
      "\u001b[0;32m/tmp/ipykernel_905154/3108785130.py\u001b[0m in \u001b[0;36m<module>\u001b[0;34m\u001b[0m\n\u001b[1;32m      1\u001b[0m max_ces = max(\n\u001b[0;32m----> 2\u001b[0;31m     [\n\u001b[0m\u001b[1;32m      3\u001b[0m         \u001b[0mcompute\u001b[0m\u001b[0;34m.\u001b[0m\u001b[0mfilter_ces\u001b[0m\u001b[0;34m(\u001b[0m\u001b[0msubsystem\u001b[0m\u001b[0;34m,\u001b[0m \u001b[0mces\u001b[0m\u001b[0;34m,\u001b[0m \u001b[0mcompositional_state\u001b[0m\u001b[0;34m,\u001b[0m \u001b[0mmax_relations_k\u001b[0m\u001b[0;34m=\u001b[0m\u001b[0;36m3\u001b[0m\u001b[0;34m)\u001b[0m\u001b[0;34m\u001b[0m\u001b[0;34m\u001b[0m\u001b[0m\n\u001b[1;32m      4\u001b[0m         \u001b[0;32mfor\u001b[0m \u001b[0mcompositional_state\u001b[0m \u001b[0;32min\u001b[0m \u001b[0mtqdm\u001b[0m\u001b[0;34m(\u001b[0m\u001b[0mall_compositional_states\u001b[0m\u001b[0;34m)\u001b[0m\u001b[0;34m\u001b[0m\u001b[0;34m\u001b[0m\u001b[0m\n\u001b[1;32m      5\u001b[0m     ],\n",
      "\u001b[0;32m/tmp/ipykernel_905154/3108785130.py\u001b[0m in \u001b[0;36m<listcomp>\u001b[0;34m(.0)\u001b[0m\n\u001b[1;32m      1\u001b[0m max_ces = max(\n\u001b[1;32m      2\u001b[0m     [\n\u001b[0;32m----> 3\u001b[0;31m         \u001b[0mcompute\u001b[0m\u001b[0;34m.\u001b[0m\u001b[0mfilter_ces\u001b[0m\u001b[0;34m(\u001b[0m\u001b[0msubsystem\u001b[0m\u001b[0;34m,\u001b[0m \u001b[0mces\u001b[0m\u001b[0;34m,\u001b[0m \u001b[0mcompositional_state\u001b[0m\u001b[0;34m,\u001b[0m \u001b[0mmax_relations_k\u001b[0m\u001b[0;34m=\u001b[0m\u001b[0;36m3\u001b[0m\u001b[0;34m)\u001b[0m\u001b[0;34m\u001b[0m\u001b[0;34m\u001b[0m\u001b[0m\n\u001b[0m\u001b[1;32m      4\u001b[0m         \u001b[0;32mfor\u001b[0m \u001b[0mcompositional_state\u001b[0m \u001b[0;32min\u001b[0m \u001b[0mtqdm\u001b[0m\u001b[0;34m(\u001b[0m\u001b[0mall_compositional_states\u001b[0m\u001b[0;34m)\u001b[0m\u001b[0;34m\u001b[0m\u001b[0;34m\u001b[0m\u001b[0m\n\u001b[1;32m      5\u001b[0m     ],\n",
      "\u001b[0;32m~/projects/visualize/visualize_pyphi/visualize_pyphi/compute.py\u001b[0m in \u001b[0;36mfilter_ces\u001b[0;34m(subsystem, ces, compositional_state, max_relations_k)\u001b[0m\n\u001b[1;32m    708\u001b[0m         ]\n\u001b[1;32m    709\u001b[0m         max_ces.append(\n\u001b[0;32m--> 710\u001b[0;31m             get_maximal_ces(\n\u001b[0m\u001b[1;32m    711\u001b[0m                 \u001b[0msubsystem\u001b[0m\u001b[0;34m,\u001b[0m\u001b[0;34m\u001b[0m\u001b[0;34m\u001b[0m\u001b[0m\n\u001b[1;32m    712\u001b[0m                 \u001b[0mces\u001b[0m\u001b[0;34m=\u001b[0m\u001b[0mpyphi\u001b[0m\u001b[0;34m.\u001b[0m\u001b[0mmodels\u001b[0m\u001b[0;34m.\u001b[0m\u001b[0mCauseEffectStructure\u001b[0m\u001b[0;34m(\u001b[0m\u001b[0mfiltered_ces\u001b[0m\u001b[0;34m)\u001b[0m\u001b[0;34m,\u001b[0m\u001b[0;34m\u001b[0m\u001b[0;34m\u001b[0m\u001b[0m\n",
      "\u001b[0;32m~/projects/visualize/visualize_pyphi/visualize_pyphi/compute.py\u001b[0m in \u001b[0;36mget_maximal_ces\u001b[0;34m(system, ces, max_k)\u001b[0m\n\u001b[1;32m    575\u001b[0m             \u001b[0msystem\u001b[0m\u001b[0;34m,\u001b[0m \u001b[0mcompositional_state\u001b[0m\u001b[0;34m,\u001b[0m \u001b[0mces\u001b[0m\u001b[0;34m,\u001b[0m \u001b[0mmax_k\u001b[0m\u001b[0;34m\u001b[0m\u001b[0;34m\u001b[0m\u001b[0m\n\u001b[1;32m    576\u001b[0m         )\n\u001b[0;32m--> 577\u001b[0;31m         \u001b[0mphi\u001b[0m\u001b[0;34m,\u001b[0m \u001b[0mcut\u001b[0m \u001b[0;34m=\u001b[0m \u001b[0mget_big_phi\u001b[0m\u001b[0;34m(\u001b[0m\u001b[0mfiltered_ces\u001b[0m\u001b[0;34m,\u001b[0m \u001b[0mfiltered_relations\u001b[0m\u001b[0;34m,\u001b[0m \u001b[0msystem\u001b[0m\u001b[0;34m.\u001b[0m\u001b[0mnode_indices\u001b[0m\u001b[0;34m)\u001b[0m\u001b[0;34m\u001b[0m\u001b[0;34m\u001b[0m\u001b[0m\n\u001b[0m\u001b[1;32m    578\u001b[0m \u001b[0;34m\u001b[0m\u001b[0m\n\u001b[1;32m    579\u001b[0m         \u001b[0;32mif\u001b[0m \u001b[0mphi\u001b[0m \u001b[0;34m>=\u001b[0m \u001b[0mbig_phi\u001b[0m\u001b[0;34m:\u001b[0m\u001b[0;34m\u001b[0m\u001b[0;34m\u001b[0m\u001b[0m\n",
      "\u001b[0;32m~/projects/visualize/visualize_pyphi/visualize_pyphi/compute.py\u001b[0m in \u001b[0;36mget_big_phi\u001b[0;34m(ces, relations, indices, partitions)\u001b[0m\n\u001b[1;32m    476\u001b[0m                 \u001b[0mlost_phi\u001b[0m \u001b[0;34m=\u001b[0m \u001b[0msum_of_small_phi\u001b[0m \u001b[0;34m-\u001b[0m \u001b[0msum_phi_untouched\u001b[0m\u001b[0;34m\u001b[0m\u001b[0;34m\u001b[0m\u001b[0m\n\u001b[1;32m    477\u001b[0m \u001b[0;34m\u001b[0m\u001b[0m\n\u001b[0;32m--> 478\u001b[0;31m                 \u001b[0mtouched\u001b[0m \u001b[0;34m=\u001b[0m \u001b[0;34m[\u001b[0m\u001b[0mr\u001b[0m \u001b[0;32mfor\u001b[0m \u001b[0mr\u001b[0m \u001b[0;32min\u001b[0m \u001b[0mrelations\u001b[0m \u001b[0;32mif\u001b[0m \u001b[0mr\u001b[0m \u001b[0;32mnot\u001b[0m \u001b[0;32min\u001b[0m \u001b[0muntouched_relations\u001b[0m\u001b[0;34m]\u001b[0m\u001b[0;34m\u001b[0m\u001b[0;34m\u001b[0m\u001b[0m\n\u001b[0m\u001b[1;32m    479\u001b[0m                 \u001b[0;32mif\u001b[0m \u001b[0mlost_phi\u001b[0m \u001b[0;34m<\u001b[0m \u001b[0mmin_phi\u001b[0m\u001b[0;34m:\u001b[0m\u001b[0;34m\u001b[0m\u001b[0;34m\u001b[0m\u001b[0m\n\u001b[1;32m    480\u001b[0m                     \u001b[0mmin_phi\u001b[0m \u001b[0;34m=\u001b[0m \u001b[0mlost_phi\u001b[0m\u001b[0;34m\u001b[0m\u001b[0;34m\u001b[0m\u001b[0m\n",
      "\u001b[0;32m~/projects/visualize/visualize_pyphi/visualize_pyphi/compute.py\u001b[0m in \u001b[0;36m<listcomp>\u001b[0;34m(.0)\u001b[0m\n\u001b[1;32m    476\u001b[0m                 \u001b[0mlost_phi\u001b[0m \u001b[0;34m=\u001b[0m \u001b[0msum_of_small_phi\u001b[0m \u001b[0;34m-\u001b[0m \u001b[0msum_phi_untouched\u001b[0m\u001b[0;34m\u001b[0m\u001b[0;34m\u001b[0m\u001b[0m\n\u001b[1;32m    477\u001b[0m \u001b[0;34m\u001b[0m\u001b[0m\n\u001b[0;32m--> 478\u001b[0;31m                 \u001b[0mtouched\u001b[0m \u001b[0;34m=\u001b[0m \u001b[0;34m[\u001b[0m\u001b[0mr\u001b[0m \u001b[0;32mfor\u001b[0m \u001b[0mr\u001b[0m \u001b[0;32min\u001b[0m \u001b[0mrelations\u001b[0m \u001b[0;32mif\u001b[0m \u001b[0mr\u001b[0m \u001b[0;32mnot\u001b[0m \u001b[0;32min\u001b[0m \u001b[0muntouched_relations\u001b[0m\u001b[0;34m]\u001b[0m\u001b[0;34m\u001b[0m\u001b[0;34m\u001b[0m\u001b[0m\n\u001b[0m\u001b[1;32m    479\u001b[0m                 \u001b[0;32mif\u001b[0m \u001b[0mlost_phi\u001b[0m \u001b[0;34m<\u001b[0m \u001b[0mmin_phi\u001b[0m\u001b[0;34m:\u001b[0m\u001b[0;34m\u001b[0m\u001b[0;34m\u001b[0m\u001b[0m\n\u001b[1;32m    480\u001b[0m                     \u001b[0mmin_phi\u001b[0m \u001b[0;34m=\u001b[0m \u001b[0mlost_phi\u001b[0m\u001b[0;34m\u001b[0m\u001b[0;34m\u001b[0m\u001b[0m\n",
      "\u001b[0;32m~/projects/visualize/visualize_pyphi/pyphi/pyphi/relations.py\u001b[0m in \u001b[0;36m__eq__\u001b[0;34m(self, other)\u001b[0m\n\u001b[1;32m    326\u001b[0m     \u001b[0;32mdef\u001b[0m \u001b[0m__eq__\u001b[0m\u001b[0;34m(\u001b[0m\u001b[0mself\u001b[0m\u001b[0;34m,\u001b[0m \u001b[0mother\u001b[0m\u001b[0;34m)\u001b[0m\u001b[0;34m:\u001b[0m\u001b[0;34m\u001b[0m\u001b[0;34m\u001b[0m\u001b[0m\n\u001b[1;32m    327\u001b[0m         \u001b[0;31m# TODO\u001b[0m\u001b[0;34m\u001b[0m\u001b[0;34m\u001b[0m\u001b[0m\n\u001b[0;32m--> 328\u001b[0;31m         \u001b[0;32mreturn\u001b[0m \u001b[0mself\u001b[0m\u001b[0;34m.\u001b[0m\u001b[0mrelata\u001b[0m\u001b[0;34m.\u001b[0m\u001b[0mas_set\u001b[0m\u001b[0;34m(\u001b[0m\u001b[0;34m)\u001b[0m \u001b[0;34m==\u001b[0m \u001b[0mother\u001b[0m\u001b[0;34m.\u001b[0m\u001b[0mrelata\u001b[0m\u001b[0;34m.\u001b[0m\u001b[0mas_set\u001b[0m\u001b[0;34m(\u001b[0m\u001b[0;34m)\u001b[0m \u001b[0;32mand\u001b[0m \u001b[0meq\u001b[0m\u001b[0;34m(\u001b[0m\u001b[0mself\u001b[0m\u001b[0;34m.\u001b[0m\u001b[0mphi\u001b[0m\u001b[0;34m,\u001b[0m \u001b[0mother\u001b[0m\u001b[0;34m.\u001b[0m\u001b[0mphi\u001b[0m\u001b[0;34m)\u001b[0m\u001b[0;34m\u001b[0m\u001b[0;34m\u001b[0m\u001b[0m\n\u001b[0m\u001b[1;32m    329\u001b[0m         \u001b[0;31m# attrs = [\"phi\", \"relata\"]\u001b[0m\u001b[0;34m\u001b[0m\u001b[0;34m\u001b[0m\u001b[0m\n\u001b[1;32m    330\u001b[0m         \u001b[0;31m# return cmp.general_eq(self, other, attrs)\u001b[0m\u001b[0;34m\u001b[0m\u001b[0;34m\u001b[0m\u001b[0m\n",
      "\u001b[0;31mKeyboardInterrupt\u001b[0m: "
     ]
    }
   ],
   "source": [
    "max_ces = max(\n",
    "    [\n",
    "        compute.filter_ces(subsystem, ces, compositional_state, max_relations_k=3)\n",
    "        for compositional_state in tqdm(all_compositional_states)\n",
    "    ],\n",
    "    key=lambda c: c[\"big phi\"],\n",
    ")"
   ]
  },
  {
   "cell_type": "code",
   "execution_count": 120,
   "id": "5d949d6a-4f2b-4d4b-8957-023b21a717d7",
   "metadata": {},
   "outputs": [
    {
     "data": {
      "application/vnd.jupyter.widget-view+json": {
       "model_id": "13ea6fffb8c749edb7013bf9741f3fe0",
       "version_major": 2,
       "version_minor": 0
      },
      "text/plain": [
       "Computing edges:   0%|          | 0/33 [00:00<?, ?it/s]"
      ]
     },
     "metadata": {},
     "output_type": "display_data"
    },
    {
     "data": {
      "application/vnd.jupyter.widget-view+json": {
       "model_id": "35b6695958b14616ad858a62f75c5a73",
       "version_major": 2,
       "version_minor": 0
      },
      "text/plain": [
       "Computing triangles:   0%|          | 0/32 [00:00<?, ?it/s]"
      ]
     },
     "metadata": {},
     "output_type": "display_data"
    }
   ],
   "source": [
    "\n",
    "fig = viz.plot_ces(subsystem,max_ces['ces'],max_ces['relations'],network_name='figures/max_ces',surface_opacity=0.7,)"
   ]
  },
  {
   "cell_type": "code",
   "execution_count": 113,
   "id": "cf9ac2a7-d688-4d1e-b446-dfdf24a3b103",
   "metadata": {},
   "outputs": [],
   "source": [
    "mice = max_ces['ces'][0]"
   ]
  },
  {
   "cell_type": "code",
   "execution_count": 118,
   "id": "3a40a174-00c1-434f-9755-5f0cd64c86b8",
   "metadata": {},
   "outputs": [
    {
     "data": {
      "text/plain": [
       "NodeLabels(('A', 'B', 'C', 'D', 'I', 'O'))"
      ]
     },
     "execution_count": 118,
     "metadata": {},
     "output_type": "execute_result"
    }
   ],
   "source": [
    "mice.ria.node_labels"
   ]
  },
  {
   "cell_type": "code",
   "execution_count": 109,
   "id": "7df641a3-7ba1-4c3b-a85c-ccf469e8d2ca",
   "metadata": {},
   "outputs": [
    {
     "data": {
      "text/plain": [
       "4.375449186656582e+00"
      ]
     },
     "execution_count": 109,
     "metadata": {},
     "output_type": "execute_result"
    }
   ],
   "source": [
    "max_ces['big phi']"
   ]
  },
  {
   "cell_type": "code",
   "execution_count": 110,
   "id": "36f1bdd8-01df-4938-8611-587127500341",
   "metadata": {},
   "outputs": [
    {
     "data": {
      "text/plain": [
       "(((2,), (0, 1, 3)), (0, 1, 3), (2,), EFFECT)"
      ]
     },
     "execution_count": 110,
     "metadata": {},
     "output_type": "execute_result"
    }
   ],
   "source": [
    "max_ces['MIP']"
   ]
  },
  {
   "cell_type": "code",
   "execution_count": 111,
   "id": "ce98155c-df36-4f30-9719-983feee6f9cc",
   "metadata": {},
   "outputs": [
    {
     "data": {
      "text/html": [
       "<div>\n",
       "<style scoped>\n",
       "    .dataframe tbody tr th:only-of-type {\n",
       "        vertical-align: middle;\n",
       "    }\n",
       "\n",
       "    .dataframe tbody tr th {\n",
       "        vertical-align: top;\n",
       "    }\n",
       "\n",
       "    .dataframe thead th {\n",
       "        text-align: right;\n",
       "    }\n",
       "</style>\n",
       "<table border=\"1\" class=\"dataframe\">\n",
       "  <thead>\n",
       "    <tr style=\"text-align: right;\">\n",
       "      <th></th>\n",
       "      <th>mechanism</th>\n",
       "      <th>direction</th>\n",
       "      <th>purview</th>\n",
       "      <th>state</th>\n",
       "      <th>phi</th>\n",
       "    </tr>\n",
       "  </thead>\n",
       "  <tbody>\n",
       "    <tr>\n",
       "      <th>0</th>\n",
       "      <td>A</td>\n",
       "      <td>CAUSE</td>\n",
       "      <td>A</td>\n",
       "      <td>0</td>\n",
       "      <td>0.502959</td>\n",
       "    </tr>\n",
       "    <tr>\n",
       "      <th>1</th>\n",
       "      <td>A</td>\n",
       "      <td>EFFECT</td>\n",
       "      <td>A</td>\n",
       "      <td>0</td>\n",
       "      <td>0.641988</td>\n",
       "    </tr>\n",
       "    <tr>\n",
       "      <th>2</th>\n",
       "      <td>B</td>\n",
       "      <td>CAUSE</td>\n",
       "      <td>B</td>\n",
       "      <td>1</td>\n",
       "      <td>0.460940</td>\n",
       "    </tr>\n",
       "    <tr>\n",
       "      <th>3</th>\n",
       "      <td>B</td>\n",
       "      <td>EFFECT</td>\n",
       "      <td>B</td>\n",
       "      <td>1</td>\n",
       "      <td>0.574265</td>\n",
       "    </tr>\n",
       "    <tr>\n",
       "      <th>4</th>\n",
       "      <td>C</td>\n",
       "      <td>CAUSE</td>\n",
       "      <td>C</td>\n",
       "      <td>0</td>\n",
       "      <td>0.497810</td>\n",
       "    </tr>\n",
       "    <tr>\n",
       "      <th>5</th>\n",
       "      <td>C</td>\n",
       "      <td>EFFECT</td>\n",
       "      <td>C</td>\n",
       "      <td>0</td>\n",
       "      <td>0.637561</td>\n",
       "    </tr>\n",
       "    <tr>\n",
       "      <th>6</th>\n",
       "      <td>AB</td>\n",
       "      <td>CAUSE</td>\n",
       "      <td>AB</td>\n",
       "      <td>10</td>\n",
       "      <td>0.181306</td>\n",
       "    </tr>\n",
       "    <tr>\n",
       "      <th>7</th>\n",
       "      <td>AB</td>\n",
       "      <td>EFFECT</td>\n",
       "      <td>ABD</td>\n",
       "      <td>010</td>\n",
       "      <td>0.039542</td>\n",
       "    </tr>\n",
       "    <tr>\n",
       "      <th>8</th>\n",
       "      <td>BC</td>\n",
       "      <td>CAUSE</td>\n",
       "      <td>BC</td>\n",
       "      <td>01</td>\n",
       "      <td>0.181514</td>\n",
       "    </tr>\n",
       "    <tr>\n",
       "      <th>9</th>\n",
       "      <td>BC</td>\n",
       "      <td>EFFECT</td>\n",
       "      <td>BCD</td>\n",
       "      <td>100</td>\n",
       "      <td>0.039336</td>\n",
       "    </tr>\n",
       "    <tr>\n",
       "      <th>10</th>\n",
       "      <td>BD</td>\n",
       "      <td>CAUSE</td>\n",
       "      <td>ABD</td>\n",
       "      <td>110</td>\n",
       "      <td>0.143419</td>\n",
       "    </tr>\n",
       "    <tr>\n",
       "      <th>11</th>\n",
       "      <td>BD</td>\n",
       "      <td>EFFECT</td>\n",
       "      <td>D</td>\n",
       "      <td>0</td>\n",
       "      <td>0.030476</td>\n",
       "    </tr>\n",
       "    <tr>\n",
       "      <th>12</th>\n",
       "      <td>ACD</td>\n",
       "      <td>CAUSE</td>\n",
       "      <td>ABCD</td>\n",
       "      <td>0101</td>\n",
       "      <td>0.174645</td>\n",
       "    </tr>\n",
       "    <tr>\n",
       "      <th>13</th>\n",
       "      <td>ACD</td>\n",
       "      <td>EFFECT</td>\n",
       "      <td>BD</td>\n",
       "      <td>01</td>\n",
       "      <td>0.071605</td>\n",
       "    </tr>\n",
       "  </tbody>\n",
       "</table>\n",
       "</div>"
      ],
      "text/plain": [
       "   mechanism direction purview state       phi\n",
       "0          A     CAUSE       A     0  0.502959\n",
       "1          A    EFFECT       A     0  0.641988\n",
       "2          B     CAUSE       B     1  0.460940\n",
       "3          B    EFFECT       B     1  0.574265\n",
       "4          C     CAUSE       C     0  0.497810\n",
       "5          C    EFFECT       C     0  0.637561\n",
       "6         AB     CAUSE      AB    10  0.181306\n",
       "7         AB    EFFECT     ABD   010  0.039542\n",
       "8         BC     CAUSE      BC    01  0.181514\n",
       "9         BC    EFFECT     BCD   100  0.039336\n",
       "10        BD     CAUSE     ABD   110  0.143419\n",
       "11        BD    EFFECT       D     0  0.030476\n",
       "12       ACD     CAUSE    ABCD  0101  0.174645\n",
       "13       ACD    EFFECT      BD    01  0.071605"
      ]
     },
     "execution_count": 111,
     "metadata": {},
     "output_type": "execute_result"
    }
   ],
   "source": [
    "utils.sepces2df(max_ces['ces'],subsystem)"
   ]
  }
 ],
 "metadata": {
  "kernelspec": {
   "display_name": "Python 3 (ipykernel)",
   "language": "python",
   "name": "python3"
  },
  "language_info": {
   "codemirror_mode": {
    "name": "ipython",
    "version": 3
   },
   "file_extension": ".py",
   "mimetype": "text/x-python",
   "name": "python",
   "nbconvert_exporter": "python",
   "pygments_lexer": "ipython3",
   "version": "3.9.7"
  }
 },
 "nbformat": 4,
 "nbformat_minor": 5
}
