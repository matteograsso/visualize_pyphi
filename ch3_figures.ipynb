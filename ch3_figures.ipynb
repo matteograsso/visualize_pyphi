{
 "cells": [
  {
   "cell_type": "code",
   "execution_count": 23,
   "id": "be33d172-f531-437e-8ecc-82ad363c5a05",
   "metadata": {},
   "outputs": [
    {
     "name": "stdout",
     "output_type": "stream",
     "text": [
      "The autoreload extension is already loaded. To reload it, use:\n",
      "  %reload_ext autoreload\n",
      "The blackcellmagic extension is already loaded. To reload it, use:\n",
      "  %reload_ext blackcellmagic\n"
     ]
    }
   ],
   "source": [
    "%load_ext autoreload\n",
    "%autoreload 2\n",
    "%load_ext blackcellmagic"
   ]
  },
  {
   "cell_type": "code",
   "execution_count": 6,
   "id": "8c439499",
   "metadata": {},
   "outputs": [
    {
     "data": {
      "text/html": [
       "<style>.container { width:80% !important; }</style>"
      ],
      "text/plain": [
       "<IPython.core.display.HTML object>"
      ]
     },
     "metadata": {},
     "output_type": "display_data"
    }
   ],
   "source": [
    "from IPython.core.display import display, HTML\n",
    "\n",
    "display(HTML(\"<style>.container { width:80% !important; }</style>\"))"
   ]
  },
  {
   "cell_type": "code",
   "execution_count": 47,
   "id": "99f3860c-e5f3-4255-875f-45e721e2dd0c",
   "metadata": {
    "tags": []
   },
   "outputs": [],
   "source": [
    "from visualize_pyphi import *\n",
    "from visualize_pyphi import utils\n",
    "from visualize_pyphi import compute\n",
    "import pickle as pkl\n",
    "from tqdm.auto import tqdm\n",
    "import numpy as np"
   ]
  },
  {
   "cell_type": "code",
   "execution_count": 70,
   "id": "ce0193a8",
   "metadata": {},
   "outputs": [
    {
     "data": {
      "application/vnd.jupyter.widget-view+json": {
       "model_id": "da1cbae572954f57954df216c9246e52",
       "version_major": 2,
       "version_minor": 0
      },
      "text/plain": [
       "  0%|          | 0/64 [00:00<?, ?it/s]"
      ]
     },
     "metadata": {},
     "output_type": "display_data"
    },
    {
     "name": "stdout",
     "output_type": "stream",
     "text": [
      "Network saved to: ch3_v5\n"
     ]
    }
   ],
   "source": [
    "# ch3 system creation\n",
    "net_name = \"ch3_v5\"\n",
    "\n",
    "th = 1 / 4\n",
    "exp = 5\n",
    "mu = 1\n",
    "si = 0.3\n",
    "ll = 1\n",
    "kk = 15\n",
    "x0 = 0.7\n",
    "\n",
    "q = 0.6\n",
    "s = 0.8\n",
    "l = 0.25\n",
    "k = l#+.001\n",
    "j = 1 - q\n",
    "i = j - 0.05\n",
    "b = 0.01\n",
    "\n",
    "weights = np.array(\n",
    "    [\n",
    "        [s, k, 0, i, 0, 0],  # A\n",
    "        [k, s, l, j, b, 0],  # B\n",
    "        [0, l, s, i, 0, 0],  # C\n",
    "        [b, b, b, q, 0, i],  # D\n",
    "        [0, i, 0, 0, 0, 0],  # I\n",
    "        [0, 0, 0, 0, 0, 0],  # O\n",
    "        # A, B, C, D, I, O\n",
    "    ]\n",
    ")\n",
    "\n",
    "weights += np.random.random((6,6))/100\n",
    "weights = np.abs(weights)\n",
    "\n",
    "node_labels = [\"A\", \"B\", \"C\", \"D\", \"I\", \"O\"]\n",
    "mech_func = [f for f in \"sssgll\"]\n",
    "\n",
    "network = ng.get_net(\n",
    "    mech_func,\n",
    "    weights,\n",
    "    exp=exp,\n",
    "    th=th,\n",
    "    mu=mu,\n",
    "    si=si,\n",
    "    l=ll,\n",
    "    k=kk,\n",
    "    x0=x0,\n",
    "    node_labels=node_labels,\n",
    "    network_name=net_name,\n",
    "    pickle_network=True,\n",
    ")\n",
    "\n",
    "state = (0, 1, 0, 1, 1, 1)\n",
    "subsystem = pyphi.Subsystem(network, state, nodes=(0, 1, 2, 3))"
   ]
  },
  {
   "cell_type": "code",
   "execution_count": 71,
   "id": "f29cebcb",
   "metadata": {},
   "outputs": [
    {
     "name": "stderr",
     "output_type": "stream",
     "text": [
      "                                                                                                                                                         \r"
     ]
    }
   ],
   "source": [
    "ces = pyphi.compute.ces(subsystem,parallel=True)"
   ]
  },
  {
   "cell_type": "code",
   "execution_count": 72,
   "id": "4aea1715",
   "metadata": {},
   "outputs": [],
   "source": [
    "sepces = utils.flatten([[d.cause,d.effect] for d in ces])\n",
    "ces = sepces"
   ]
  },
  {
   "cell_type": "code",
   "execution_count": 73,
   "id": "8da3c7c7-3014-4e19-b0ad-e0c2f623a983",
   "metadata": {
    "jupyter": {
     "outputs_hidden": true
    },
    "tags": []
   },
   "outputs": [
    {
     "name": "stdout",
     "output_type": "stream",
     "text": [
      "there are 12 possible compositional states\n"
     ]
    }
   ],
   "source": [
    "all_compositional_states = compute.get_all_compositional_states(ces)\n",
    "print('there are {} possible compositional states'.format(len(all_compositional_states)))"
   ]
  },
  {
   "cell_type": "code",
   "execution_count": 74,
   "id": "2f140987",
   "metadata": {},
   "outputs": [
    {
     "data": {
      "application/vnd.jupyter.widget-view+json": {
       "model_id": "8ef8bea7df1c4202b74fb9808dc2f13a",
       "version_major": 2,
       "version_minor": 0
      },
      "text/plain": [
       "  0%|          | 0/12 [00:00<?, ?it/s]"
      ]
     },
     "metadata": {},
     "output_type": "display_data"
    },
    {
     "data": {
      "application/vnd.jupyter.widget-view+json": {
       "model_id": "e60c01c999f545f69e3debecf65dad78",
       "version_major": 2,
       "version_minor": 0
      },
      "text/plain": [
       "  0%|          | 0/64 [00:00<?, ?it/s]"
      ]
     },
     "metadata": {},
     "output_type": "display_data"
    },
    {
     "data": {
      "application/vnd.jupyter.widget-view+json": {
       "model_id": "775c7a7fe3654c789122d57711167d9a",
       "version_major": 2,
       "version_minor": 0
      },
      "text/plain": [
       "  0%|          | 0/64 [00:00<?, ?it/s]"
      ]
     },
     "metadata": {},
     "output_type": "display_data"
    },
    {
     "data": {
      "application/vnd.jupyter.widget-view+json": {
       "model_id": "1b43ecf7cac74ecba10e7b902cb772e8",
       "version_major": 2,
       "version_minor": 0
      },
      "text/plain": [
       "  0%|          | 0/64 [00:00<?, ?it/s]"
      ]
     },
     "metadata": {},
     "output_type": "display_data"
    },
    {
     "data": {
      "application/vnd.jupyter.widget-view+json": {
       "model_id": "edc3bcdb64b54d81967f4998629a5fa0",
       "version_major": 2,
       "version_minor": 0
      },
      "text/plain": [
       "  0%|          | 0/64 [00:00<?, ?it/s]"
      ]
     },
     "metadata": {},
     "output_type": "display_data"
    },
    {
     "data": {
      "application/vnd.jupyter.widget-view+json": {
       "model_id": "f4539353f35f4a22b77203e5011e4917",
       "version_major": 2,
       "version_minor": 0
      },
      "text/plain": [
       "  0%|          | 0/64 [00:00<?, ?it/s]"
      ]
     },
     "metadata": {},
     "output_type": "display_data"
    },
    {
     "data": {
      "application/vnd.jupyter.widget-view+json": {
       "model_id": "f51402f953d4405c96d57b29ee4794c4",
       "version_major": 2,
       "version_minor": 0
      },
      "text/plain": [
       "  0%|          | 0/64 [00:00<?, ?it/s]"
      ]
     },
     "metadata": {},
     "output_type": "display_data"
    },
    {
     "data": {
      "application/vnd.jupyter.widget-view+json": {
       "model_id": "4d73a15b832344a793897c75dfbef35f",
       "version_major": 2,
       "version_minor": 0
      },
      "text/plain": [
       "  0%|          | 0/64 [00:00<?, ?it/s]"
      ]
     },
     "metadata": {},
     "output_type": "display_data"
    },
    {
     "data": {
      "application/vnd.jupyter.widget-view+json": {
       "model_id": "c8a4701e50e843cf8babeffd26f8c0bc",
       "version_major": 2,
       "version_minor": 0
      },
      "text/plain": [
       "  0%|          | 0/64 [00:00<?, ?it/s]"
      ]
     },
     "metadata": {},
     "output_type": "display_data"
    },
    {
     "data": {
      "application/vnd.jupyter.widget-view+json": {
       "model_id": "052bbecb9dd34ef0a0f79c7c8174e34f",
       "version_major": 2,
       "version_minor": 0
      },
      "text/plain": [
       "  0%|          | 0/64 [00:00<?, ?it/s]"
      ]
     },
     "metadata": {},
     "output_type": "display_data"
    },
    {
     "data": {
      "application/vnd.jupyter.widget-view+json": {
       "model_id": "72f9618b82be46a78e37a40ebea02218",
       "version_major": 2,
       "version_minor": 0
      },
      "text/plain": [
       "  0%|          | 0/64 [00:00<?, ?it/s]"
      ]
     },
     "metadata": {},
     "output_type": "display_data"
    },
    {
     "data": {
      "application/vnd.jupyter.widget-view+json": {
       "model_id": "1c091aae3fe7460bacead87b69740fa0",
       "version_major": 2,
       "version_minor": 0
      },
      "text/plain": [
       "  0%|          | 0/64 [00:00<?, ?it/s]"
      ]
     },
     "metadata": {},
     "output_type": "display_data"
    },
    {
     "data": {
      "application/vnd.jupyter.widget-view+json": {
       "model_id": "48412bf8e1de42d9a22cee5a8fcdec20",
       "version_major": 2,
       "version_minor": 0
      },
      "text/plain": [
       "  0%|          | 0/64 [00:00<?, ?it/s]"
      ]
     },
     "metadata": {},
     "output_type": "display_data"
    }
   ],
   "source": [
    "filtered = [compute.filter_ces(subsystem, ces, compositional_state) for compositional_state in tqdm(all_compositional_states)]"
   ]
  },
  {
   "cell_type": "code",
   "execution_count": 75,
   "id": "dbc63a7f",
   "metadata": {},
   "outputs": [
    {
     "data": {
      "text/plain": [
       "(3, 88, 6, 14, 0.0, 8.806497418234592)"
      ]
     },
     "execution_count": 75,
     "metadata": {},
     "output_type": "execute_result"
    }
   ],
   "source": [
    "a = [len(m['relations']) for f in filtered for m in f]\n",
    "b = [m['big phi'] for f in filtered for m in f]\n",
    "c = [len(m['ces']) for f in filtered for m in f]\n",
    "min(a),max(a),min(c),max(c),min(b),max(b)"
   ]
  },
  {
   "cell_type": "code",
   "execution_count": 76,
   "id": "986b0dcd",
   "metadata": {},
   "outputs": [
    {
     "data": {
      "text/html": [
       "<div>\n",
       "<style scoped>\n",
       "    .dataframe tbody tr th:only-of-type {\n",
       "        vertical-align: middle;\n",
       "    }\n",
       "\n",
       "    .dataframe tbody tr th {\n",
       "        vertical-align: top;\n",
       "    }\n",
       "\n",
       "    .dataframe thead th {\n",
       "        text-align: right;\n",
       "    }\n",
       "</style>\n",
       "<table border=\"1\" class=\"dataframe\">\n",
       "  <thead>\n",
       "    <tr style=\"text-align: right;\">\n",
       "      <th></th>\n",
       "      <th>mechanism</th>\n",
       "      <th>direction</th>\n",
       "      <th>purview</th>\n",
       "      <th>state</th>\n",
       "      <th>phi</th>\n",
       "    </tr>\n",
       "  </thead>\n",
       "  <tbody>\n",
       "    <tr>\n",
       "      <th>0</th>\n",
       "      <td>A</td>\n",
       "      <td>CAUSE</td>\n",
       "      <td>A</td>\n",
       "      <td>0</td>\n",
       "      <td>0.512357</td>\n",
       "    </tr>\n",
       "    <tr>\n",
       "      <th>1</th>\n",
       "      <td>A</td>\n",
       "      <td>EFFECT</td>\n",
       "      <td>A</td>\n",
       "      <td>0</td>\n",
       "      <td>0.649867</td>\n",
       "    </tr>\n",
       "    <tr>\n",
       "      <th>2</th>\n",
       "      <td>B</td>\n",
       "      <td>CAUSE</td>\n",
       "      <td>B</td>\n",
       "      <td>1</td>\n",
       "      <td>0.452130</td>\n",
       "    </tr>\n",
       "    <tr>\n",
       "      <th>3</th>\n",
       "      <td>B</td>\n",
       "      <td>EFFECT</td>\n",
       "      <td>B</td>\n",
       "      <td>1</td>\n",
       "      <td>0.567426</td>\n",
       "    </tr>\n",
       "    <tr>\n",
       "      <th>4</th>\n",
       "      <td>C</td>\n",
       "      <td>CAUSE</td>\n",
       "      <td>C</td>\n",
       "      <td>0</td>\n",
       "      <td>0.514622</td>\n",
       "    </tr>\n",
       "    <tr>\n",
       "      <th>5</th>\n",
       "      <td>C</td>\n",
       "      <td>EFFECT</td>\n",
       "      <td>C</td>\n",
       "      <td>0</td>\n",
       "      <td>0.652147</td>\n",
       "    </tr>\n",
       "    <tr>\n",
       "      <th>6</th>\n",
       "      <td>AB</td>\n",
       "      <td>CAUSE</td>\n",
       "      <td>AB</td>\n",
       "      <td>10</td>\n",
       "      <td>0.180604</td>\n",
       "    </tr>\n",
       "    <tr>\n",
       "      <th>7</th>\n",
       "      <td>AB</td>\n",
       "      <td>EFFECT</td>\n",
       "      <td>ABD</td>\n",
       "      <td>010</td>\n",
       "      <td>0.038629</td>\n",
       "    </tr>\n",
       "    <tr>\n",
       "      <th>8</th>\n",
       "      <td>BC</td>\n",
       "      <td>CAUSE</td>\n",
       "      <td>BC</td>\n",
       "      <td>01</td>\n",
       "      <td>0.175186</td>\n",
       "    </tr>\n",
       "    <tr>\n",
       "      <th>9</th>\n",
       "      <td>BC</td>\n",
       "      <td>EFFECT</td>\n",
       "      <td>BCD</td>\n",
       "      <td>100</td>\n",
       "      <td>0.038340</td>\n",
       "    </tr>\n",
       "    <tr>\n",
       "      <th>10</th>\n",
       "      <td>BD</td>\n",
       "      <td>CAUSE</td>\n",
       "      <td>BCD</td>\n",
       "      <td>110</td>\n",
       "      <td>0.139932</td>\n",
       "    </tr>\n",
       "    <tr>\n",
       "      <th>11</th>\n",
       "      <td>BD</td>\n",
       "      <td>EFFECT</td>\n",
       "      <td>BD</td>\n",
       "      <td>10</td>\n",
       "      <td>0.024241</td>\n",
       "    </tr>\n",
       "    <tr>\n",
       "      <th>12</th>\n",
       "      <td>ABCD</td>\n",
       "      <td>CAUSE</td>\n",
       "      <td>ABCD</td>\n",
       "      <td>0101</td>\n",
       "      <td>0.218696</td>\n",
       "    </tr>\n",
       "    <tr>\n",
       "      <th>13</th>\n",
       "      <td>ABCD</td>\n",
       "      <td>EFFECT</td>\n",
       "      <td>D</td>\n",
       "      <td>1</td>\n",
       "      <td>0.427381</td>\n",
       "    </tr>\n",
       "  </tbody>\n",
       "</table>\n",
       "</div>"
      ],
      "text/plain": [
       "   mechanism direction purview state       phi\n",
       "0          A     CAUSE       A     0  0.512357\n",
       "1          A    EFFECT       A     0  0.649867\n",
       "2          B     CAUSE       B     1  0.452130\n",
       "3          B    EFFECT       B     1  0.567426\n",
       "4          C     CAUSE       C     0  0.514622\n",
       "5          C    EFFECT       C     0  0.652147\n",
       "6         AB     CAUSE      AB    10  0.180604\n",
       "7         AB    EFFECT     ABD   010  0.038629\n",
       "8         BC     CAUSE      BC    01  0.175186\n",
       "9         BC    EFFECT     BCD   100  0.038340\n",
       "10        BD     CAUSE     BCD   110  0.139932\n",
       "11        BD    EFFECT      BD    10  0.024241\n",
       "12      ABCD     CAUSE    ABCD  0101  0.218696\n",
       "13      ABCD    EFFECT       D     1  0.427381"
      ]
     },
     "execution_count": 76,
     "metadata": {},
     "output_type": "execute_result"
    }
   ],
   "source": [
    "CES = [m for f in filtered for m in f if m['big phi']>8.8][0]\n",
    "utils.sepces2df(CES['ces'],subsystem)"
   ]
  },
  {
   "cell_type": "code",
   "execution_count": 77,
   "id": "ae5c84a3",
   "metadata": {},
   "outputs": [
    {
     "data": {
      "text/plain": [
       "(((0,), (1, 2, 3)), (1, 2, 3), (0,), EFFECT)"
      ]
     },
     "execution_count": 77,
     "metadata": {},
     "output_type": "execute_result"
    }
   ],
   "source": [
    "CES['MIP']"
   ]
  },
  {
   "cell_type": "code",
   "execution_count": 69,
   "id": "7b9088bf",
   "metadata": {},
   "outputs": [
    {
     "data": {
      "text/plain": [
       "array([[0.80429078, 0.25524274, 0.00307273, 0.3515403 , 0.00492981,\n",
       "        0.00996336],\n",
       "       [0.25475904, 0.8015509 , 0.25453847, 0.40018269, 0.01702802,\n",
       "        0.0043879 ],\n",
       "       [0.00997719, 0.25221898, 0.80581981, 0.35990666, 0.00266345,\n",
       "        0.00728655],\n",
       "       [0.01578615, 0.01329649, 0.0181051 , 0.60958749, 0.00620138,\n",
       "        0.35398605],\n",
       "       [0.00974372, 0.35204232, 0.00702253, 0.00453444, 0.00349476,\n",
       "        0.00514265],\n",
       "       [0.00515462, 0.00230007, 0.00979452, 0.00469913, 0.00642495,\n",
       "        0.00897918]])"
      ]
     },
     "execution_count": 69,
     "metadata": {},
     "output_type": "execute_result"
    }
   ],
   "source": [
    "good_weights = weights\n",
    "good_weights"
   ]
  },
  {
   "cell_type": "code",
   "execution_count": null,
   "id": "dd74a938",
   "metadata": {},
   "outputs": [],
   "source": []
  }
 ],
 "metadata": {
  "kernelspec": {
   "display_name": "Python 3",
   "language": "python",
   "name": "python3"
  },
  "language_info": {
   "codemirror_mode": {
    "name": "ipython",
    "version": 3
   },
   "file_extension": ".py",
   "mimetype": "text/x-python",
   "name": "python",
   "nbconvert_exporter": "python",
   "pygments_lexer": "ipython3",
   "version": "3.7.11"
  }
 },
 "nbformat": 4,
 "nbformat_minor": 5
}
