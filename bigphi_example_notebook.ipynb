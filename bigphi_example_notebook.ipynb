{
 "cells": [
  {
   "cell_type": "code",
   "execution_count": 3,
   "id": "d97f6742",
   "metadata": {},
   "outputs": [],
   "source": [
    "%load_ext autoreload\n",
    "%autoreload 2\n",
    "\n",
    "%load_ext blackcellmagic"
   ]
  },
  {
   "cell_type": "code",
   "execution_count": 1,
   "id": "6c30288b",
   "metadata": {
    "scrolled": true
   },
   "outputs": [
    {
     "name": "stdout",
     "output_type": "stream",
     "text": [
      "IIT_4.0_SMALL_PHI maximal-state-first TRI BI_CUT_ONE SUM TEMPORAL_DIRECTED_BI_CUT_ONE False WHOLE EXACT SAMPLED_DEGREE_ONE OVERLAP_RATIO_TIMES_RELATION_INFORMATIVENESS 1.0\n"
     ]
    }
   ],
   "source": [
    "import pyphi\n",
    "from visualize_pyphi import utils\n",
    "from visualize_pyphi import network_generator\n",
    "from visualize_pyphi.utils import ces2df\n",
    "import string\n",
    "import pickle as pkl\n",
    "from tqdm.auto import tqdm\n",
    "import numpy as np\n",
    "import itertools\n",
    "import toolz\n",
    "import pandas as pd\n",
    "\n",
    "import glob\n",
    "\n",
    "\"\"\"\n",
    "Check that the config parameters are correct (if not change pyphi_config.yml to match):\n",
    "REPERTOIRE_DISTANCE = 'maximal-state-first'\n",
    "IIT_VERSION = 'IIT_4.0_SMALL_PHI'\n",
    "PARTITION_TYPE = 'TRI'\n",
    "\"\"\"\n",
    "\n",
    "print(\n",
    "    pyphi.config.REPERTOIRE_DISTANCE,\n",
    "    pyphi.config.IIT_VERSION,\n",
    "    pyphi.config.PARTITION_TYPE,\n",
    "    pyphi.config.RELATION_PARTITION_TYPE,\n",
    "    pyphi.config.RELATION_PARTITION_AGGREGATION,\n",
    "    pyphi.config.SYSTEM_PARTITION_TYPE,\n",
    "    pyphi.config.PROGRESS_BARS,\n",
    "    pyphi.config.RELATION_POTENTIAL_PURVIEWS,\n",
    "    pyphi.config.RELATION_COMPUTATION,\n",
    "    pyphi.config.RELATION_APPROXIMATION,\n",
    "    pyphi.config.RELATION_PHI_SCHEME,\n",
    "    pyphi.config.RELATION_APPROXIMATION_SAMPLE_TIMEOUT\n",
    ")"
   ]
  },
  {
   "cell_type": "code",
   "execution_count": 5,
   "id": "59ed7a5d",
   "metadata": {},
   "outputs": [],
   "source": [
    "# Define number of nodes, determinism level (k) and self-loop strenght (s) \n",
    "n = 3\n",
    "k = 5\n",
    "s = .5\n",
    "\n",
    "\"\"\"\n",
    "Args:\n",
    "- weight_distributions: \"L\", \"pareto\", \"nearest_neighbor\"\n",
    "- use self_loop_value var if weight_distribution == \"L\" or \"nearest_neighbor\"\n",
    "- use weight_decay_value var if weight_distribution == \"pareto\"\n",
    "\"\"\"\n",
    "\n",
    "grid = network_generator.ToroidalGrid(\n",
    "    n_nodes=n,\n",
    "    determinism_value=k,\n",
    "    weight_distribution=\"nearest_neighbor\",\n",
    "    self_loop_value=s,\n",
    "    backgound_conditions=True,\n",
    ")\n",
    "\n",
    "subsystem = grid.subsystem\n",
    "\n",
    "ces = pyphi.compute.ces(subsystem, parallel=True)"
   ]
  },
  {
   "cell_type": "code",
   "execution_count": 6,
   "id": "3941e33a",
   "metadata": {},
   "outputs": [
    {
     "data": {
      "text/html": [
       "<div>\n",
       "<style scoped>\n",
       "    .dataframe tbody tr th:only-of-type {\n",
       "        vertical-align: middle;\n",
       "    }\n",
       "\n",
       "    .dataframe tbody tr th {\n",
       "        vertical-align: top;\n",
       "    }\n",
       "\n",
       "    .dataframe thead th {\n",
       "        text-align: right;\n",
       "    }\n",
       "</style>\n",
       "<table border=\"1\" class=\"dataframe\">\n",
       "  <thead>\n",
       "    <tr style=\"text-align: right;\">\n",
       "      <th></th>\n",
       "      <th>mechanism</th>\n",
       "      <th>state</th>\n",
       "      <th>cause</th>\n",
       "      <th>state</th>\n",
       "      <th>phi</th>\n",
       "      <th>effect</th>\n",
       "      <th>state</th>\n",
       "      <th>phi</th>\n",
       "    </tr>\n",
       "  </thead>\n",
       "  <tbody>\n",
       "    <tr>\n",
       "      <th>1</th>\n",
       "      <td>A</td>\n",
       "      <td>0</td>\n",
       "      <td>A</td>\n",
       "      <td>0</td>\n",
       "      <td>0.343415</td>\n",
       "      <td>A</td>\n",
       "      <td>0</td>\n",
       "      <td>0.416244</td>\n",
       "    </tr>\n",
       "    <tr>\n",
       "      <th>2</th>\n",
       "      <td>B</td>\n",
       "      <td>0</td>\n",
       "      <td>B</td>\n",
       "      <td>0</td>\n",
       "      <td>0.427973</td>\n",
       "      <td>AB</td>\n",
       "      <td>00</td>\n",
       "      <td>0.428097</td>\n",
       "    </tr>\n",
       "    <tr>\n",
       "      <th>3</th>\n",
       "      <td>C</td>\n",
       "      <td>0</td>\n",
       "      <td>C</td>\n",
       "      <td>0</td>\n",
       "      <td>0.343415</td>\n",
       "      <td>C</td>\n",
       "      <td>0</td>\n",
       "      <td>0.416244</td>\n",
       "    </tr>\n",
       "    <tr>\n",
       "      <th>4</th>\n",
       "      <td>AB</td>\n",
       "      <td>00</td>\n",
       "      <td>A</td>\n",
       "      <td>0</td>\n",
       "      <td>0.124558</td>\n",
       "      <td>AB</td>\n",
       "      <td>00</td>\n",
       "      <td>0.244884</td>\n",
       "    </tr>\n",
       "    <tr>\n",
       "      <th>5</th>\n",
       "      <td>AC</td>\n",
       "      <td>00</td>\n",
       "      <td>B</td>\n",
       "      <td>0</td>\n",
       "      <td>0.126664</td>\n",
       "      <td>B</td>\n",
       "      <td>0</td>\n",
       "      <td>0.165641</td>\n",
       "    </tr>\n",
       "    <tr>\n",
       "      <th>6</th>\n",
       "      <td>BC</td>\n",
       "      <td>00</td>\n",
       "      <td>C</td>\n",
       "      <td>0</td>\n",
       "      <td>0.124558</td>\n",
       "      <td>BC</td>\n",
       "      <td>00</td>\n",
       "      <td>0.244884</td>\n",
       "    </tr>\n",
       "    <tr>\n",
       "      <th>7</th>\n",
       "      <td>ABC</td>\n",
       "      <td>000</td>\n",
       "      <td>AC</td>\n",
       "      <td>00</td>\n",
       "      <td>0.073735</td>\n",
       "      <td>ABC</td>\n",
       "      <td>000</td>\n",
       "      <td>0.188518</td>\n",
       "    </tr>\n",
       "  </tbody>\n",
       "</table>\n",
       "</div>"
      ],
      "text/plain": [
       "  mechanism state cause state       phi effect state       phi\n",
       "1         A     0     A     0  0.343415      A     0  0.416244\n",
       "2         B     0     B     0  0.427973     AB    00  0.428097\n",
       "3         C     0     C     0  0.343415      C     0  0.416244\n",
       "4        AB    00     A     0  0.124558     AB    00  0.244884\n",
       "5        AC    00     B     0  0.126664      B     0  0.165641\n",
       "6        BC    00     C     0  0.124558     BC    00  0.244884\n",
       "7       ABC   000    AC    00  0.073735    ABC   000  0.188518"
      ]
     },
     "execution_count": 6,
     "metadata": {},
     "output_type": "execute_result"
    }
   ],
   "source": [
    "ces2df(ces)"
   ]
  },
  {
   "cell_type": "code",
   "execution_count": 7,
   "id": "8bd4184c",
   "metadata": {},
   "outputs": [
    {
     "data": {
      "application/vnd.jupyter.widget-view+json": {
       "model_id": "d7f0b2697cd7488797d3ae185bfc852d",
       "version_major": 2,
       "version_minor": 0
      },
      "text/plain": [
       "  0%|          | 0/291 [00:00<?, ?it/s]"
      ]
     },
     "metadata": {},
     "output_type": "display_data"
    }
   ],
   "source": [
    "relations = pyphi.relations.relations(subsystem, ces)"
   ]
  },
  {
   "cell_type": "code",
   "execution_count": 8,
   "id": "e01e2a2c",
   "metadata": {},
   "outputs": [
    {
     "name": "stderr",
     "output_type": "stream",
     "text": [
      "2022-03-07 15:39:50,271\tINFO services.py:1374 -- View the Ray dashboard at \u001b[1m\u001b[32mhttp://127.0.0.1:8269\u001b[39m\u001b[22m\n"
     ]
    },
    {
     "name": "stdout",
     "output_type": "stream",
     "text": [
      "Done putting relations\n",
      "Finding maximal compositional state\n"
     ]
    },
    {
     "data": {
      "application/vnd.jupyter.widget-view+json": {
       "model_id": "b66fde5560cb4213b39659f42a0befb3",
       "version_major": 2,
       "version_minor": 0
      },
      "text/plain": [
       "Submitting tasks: 0it [00:00, ?it/s]"
      ]
     },
     "metadata": {},
     "output_type": "display_data"
    },
    {
     "name": "stdout",
     "output_type": "stream",
     "text": [
      "Done submitting tasks\n"
     ]
    },
    {
     "data": {
      "application/vnd.jupyter.widget-view+json": {
       "model_id": "0c1f8fe25c894a1d89975cbe9a07c8cc",
       "version_major": 2,
       "version_minor": 0
      },
      "text/plain": [
       "  0%|          | 0/1 [00:00<?, ?it/s]"
      ]
     },
     "metadata": {},
     "output_type": "display_data"
    },
    {
     "name": "stdout",
     "output_type": "stream",
     "text": [
      "Evaluating maximal compositional state\n"
     ]
    }
   ],
   "source": [
    "sia = pyphi.big_phi.sia(\n",
    "    subsystem,\n",
    "    ces,\n",
    "    relations,\n",
    ")"
   ]
  },
  {
   "cell_type": "code",
   "execution_count": 13,
   "id": "96f17b7f",
   "metadata": {},
   "outputs": [
    {
     "name": "stdout",
     "output_type": "stream",
     "text": [
      "\n",
      "k = 5\n",
      "s = 0.5\n",
      "big phi = 0.0\n",
      "\n",
      "distinctions:\n",
      "   mechanism state cause state       phi effect state       phi\n",
      "1         A     0     A     0  0.343415      A     0  0.416244\n",
      "2         B     0     B     0  0.427973     AB    00  0.428097\n",
      "3         C     0     C     0  0.343415      C     0  0.416244\n",
      "4       ABC   000    AC    00  0.073735    ABC   000  0.188518\n",
      "\n"
     ]
    }
   ],
   "source": [
    "print(f\"\"\"\n",
    "k = {k}\n",
    "s = {s}\n",
    "big phi = {sia.phi}\n",
    "\\ndistinctions:\\n {ces2df(sia.phi_structure.distinctions)}\n",
    "\"\"\")"
   ]
  }
 ],
 "metadata": {
  "kernelspec": {
   "display_name": "Python 3",
   "language": "python",
   "name": "python3"
  },
  "language_info": {
   "codemirror_mode": {
    "name": "ipython",
    "version": 3
   },
   "file_extension": ".py",
   "mimetype": "text/x-python",
   "name": "python",
   "nbconvert_exporter": "python",
   "pygments_lexer": "ipython3",
   "version": "3.9.7"
  }
 },
 "nbformat": 4,
 "nbformat_minor": 5
}
