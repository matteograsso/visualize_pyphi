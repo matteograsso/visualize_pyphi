{
 "cells": [
  {
   "cell_type": "code",
   "execution_count": 10,
   "id": "1d3bd096-df28-427e-bc3a-671da949bf9b",
   "metadata": {},
   "outputs": [
    {
     "name": "stderr",
     "output_type": "stream",
     "text": [
      "/tmp/ipykernel_143107/2425759611.py:1: DeprecationWarning: Importing display from IPython.core.display is deprecated since IPython 7.14, please import from IPython display\n",
      "  from IPython.core.display import display, HTML\n"
     ]
    },
    {
     "data": {
      "text/html": [
       "<style>.container { width:80% !important; }</style>"
      ],
      "text/plain": [
       "<IPython.core.display.HTML object>"
      ]
     },
     "metadata": {},
     "output_type": "display_data"
    },
    {
     "name": "stdout",
     "output_type": "stream",
     "text": [
      "The autoreload extension is already loaded. To reload it, use:\n",
      "  %reload_ext autoreload\n",
      "The blackcellmagic extension is already loaded. To reload it, use:\n",
      "  %reload_ext blackcellmagic\n"
     ]
    },
    {
     "name": "stderr",
     "output_type": "stream",
     "text": [
      "/tmp/ipykernel_143107/2425759611.py:19: DeprecationWarning: Importing display from IPython.core.display is deprecated since IPython 7.14, please import from IPython display\n",
      "  from IPython.core.display import display, HTML\n"
     ]
    },
    {
     "data": {
      "text/html": [
       "<style>.container { width:80% !important; }</style>"
      ],
      "text/plain": [
       "<IPython.core.display.HTML object>"
      ]
     },
     "metadata": {},
     "output_type": "display_data"
    }
   ],
   "source": [
    "from IPython.core.display import display, HTML\n",
    "\n",
    "display(HTML(\"<style>.container { width:80% !important; }</style>\"))\n",
    "\n",
    "%load_ext autoreload\n",
    "%autoreload 2\n",
    "%load_ext blackcellmagic\n",
    "%config Completer.use_jedi = False\n",
    "\n",
    "import pyphi\n",
    "from visualize_pyphi import *\n",
    "from visualize_pyphi import utils\n",
    "from visualize_pyphi.compute import *\n",
    "import pickle as pkl\n",
    "from tqdm.auto import tqdm\n",
    "import numpy as np\n",
    "import itertools\n",
    "from pyphi.models.subsystem import FlatCauseEffectStructure as sep\n",
    "from IPython.core.display import display, HTML\n",
    "display(HTML(\"<style>.container { width:80% !important; }</style>\"))\n",
    "import pandas as pd\n",
    "pd.set_option('display.max_rows', None)\n",
    "\n",
    "'''\n",
    "Check that the config parameters are correct (if not change pyphi_config.yml to match):\n",
    "REPERTOIRE_DISTANCE = 'maximal-state-first'\n",
    "IIT_VERSION = 'IIT_4.0_SMALL_PHI'\n",
    "PARTITION_TYPE = 'TRI'\n",
    "'''\n",
    "pyphi.config.REPERTOIRE_DISTANCE,pyphi.config.IIT_VERSION,pyphi.config.PARTITION_TYPE\n",
    "\n",
    "\n",
    "C = pyphi.Direction.CAUSE\n",
    "E = pyphi.Direction.EFFECT\n"
   ]
  },
  {
   "cell_type": "markdown",
   "id": "d7624902",
   "metadata": {
    "heading_collapsed": true
   },
   "source": [
    "# Space"
   ]
  },
  {
   "cell_type": "code",
   "execution_count": 63,
   "id": "e3a87b01",
   "metadata": {
    "hidden": true
   },
   "outputs": [],
   "source": [
    "with open(r\"example_data/4_node_grid_subsystem.pkl\", \"rb\") as f:\n",
    "    subsystem = pkl.load(f)"
   ]
  },
  {
   "cell_type": "code",
   "execution_count": 65,
   "id": "a10d2a64",
   "metadata": {
    "hidden": true
   },
   "outputs": [
    {
     "name": "stderr",
     "output_type": "stream",
     "text": [
      "                                                                                                                                                                                  \r"
     ]
    }
   ],
   "source": [
    "ces = pyphi.compute.ces(subsystem)"
   ]
  },
  {
   "cell_type": "code",
   "execution_count": 66,
   "id": "a558c696",
   "metadata": {
    "hidden": true
   },
   "outputs": [
    {
     "data": {
      "application/vnd.jupyter.widget-view+json": {
       "model_id": "378d4b95485e4968a562575cb84970ee",
       "version_major": 2,
       "version_minor": 0
      },
      "text/plain": [
       "  0%|          | 0/334 [00:00<?, ?it/s]"
      ]
     },
     "metadata": {},
     "output_type": "display_data"
    }
   ],
   "source": [
    "relations = list(pyphi.relations.relations(subsystem,sep(ces),max_degree=2))"
   ]
  },
  {
   "cell_type": "code",
   "execution_count": 67,
   "id": "15f67ae4",
   "metadata": {
    "hidden": true
   },
   "outputs": [
    {
     "name": "stdout",
     "output_type": "stream",
     "text": [
      "Done putting relations\n",
      "Finding maximal compositional state\n"
     ]
    },
    {
     "data": {
      "application/vnd.jupyter.widget-view+json": {
       "model_id": "f7aeacb4f2b840f6be3fee0dc3bfd543",
       "version_major": 2,
       "version_minor": 0
      },
      "text/plain": [
       "Submitting tasks: 0it [00:00, ?it/s]"
      ]
     },
     "metadata": {},
     "output_type": "display_data"
    },
    {
     "name": "stdout",
     "output_type": "stream",
     "text": [
      "Done submitting tasks\n"
     ]
    },
    {
     "data": {
      "application/vnd.jupyter.widget-view+json": {
       "model_id": "ba4290e771c941c7bfe6faa4c77b9c44",
       "version_major": 2,
       "version_minor": 0
      },
      "text/plain": [
       "  0%|          | 0/2 [00:00<?, ?it/s]"
      ]
     },
     "metadata": {},
     "output_type": "display_data"
    },
    {
     "name": "stdout",
     "output_type": "stream",
     "text": [
      "Evaluating maximal compositional state\n"
     ]
    }
   ],
   "source": [
    "sia = pyphi.big_phi.sia(subsystem,ces,relations)"
   ]
  },
  {
   "cell_type": "code",
   "execution_count": 68,
   "id": "bc86cdfb",
   "metadata": {
    "hidden": true
   },
   "outputs": [
    {
     "data": {
      "text/plain": [
       "0.014032332339088526"
      ]
     },
     "execution_count": 68,
     "metadata": {},
     "output_type": "execute_result"
    }
   ],
   "source": [
    "sia.phi"
   ]
  },
  {
   "cell_type": "code",
   "execution_count": 69,
   "id": "cbbfb8fc-e8d3-4711-b9fd-84d610d03854",
   "metadata": {
    "hidden": true
   },
   "outputs": [
    {
     "data": {
      "application/vnd.jupyter.widget-view+json": {
       "model_id": "98292dc4d17148ed8e359283e352411b",
       "version_major": 2,
       "version_minor": 0
      },
      "text/plain": [
       "  0%|          | 0/15 [00:00<?, ?it/s]"
      ]
     },
     "metadata": {},
     "output_type": "display_data"
    }
   ],
   "source": [
    "mechanisms = list(pyphi.utils.powerset(subsystem.node_indices,nonempty=True))\n",
    "purviews = list(pyphi.utils.powerset(subsystem.node_indices,nonempty=True))\n",
    "bag_of_mices = get_bag_of_mices(subsystem,mechanisms,purviews,candidate='miw')"
   ]
  },
  {
   "cell_type": "code",
   "execution_count": 70,
   "id": "7692aa9e",
   "metadata": {
    "hidden": true
   },
   "outputs": [
    {
     "data": {
      "application/vnd.jupyter.widget-view+json": {
       "model_id": "4225db7b750a4a09aac26435b686b4c1",
       "version_major": 2,
       "version_minor": 0
      },
      "text/plain": [
       "  0%|          | 0/15 [00:00<?, ?it/s]"
      ]
     },
     "metadata": {},
     "output_type": "display_data"
    }
   ],
   "source": [
    "flat_bag = []\n",
    "for mechanism in tqdm(mechanisms):\n",
    "    for direction in [C,E]:\n",
    "        for purview in mechanisms: \n",
    "            try:\n",
    "                flat_bag.append(bag_of_mices[mechanism][direction][purview])\n",
    "            except:\n",
    "                pass\n",
    "\n",
    "reflexive_ds = [\n",
    "    pyphi.subsystem.Concept(m1.mechanism, m1, m2, subsystem)\n",
    "    for m1,m2 in itertools.combinations(flat_bag,2)\n",
    "    if m1.mechanism==m2.mechanism==m1.purview==m2.purview\n",
    "    and m1.direction == C\n",
    "    and m2.direction == E\n",
    "]\n",
    "\n",
    "reflexive_sep = sep(pyphi.models.CauseEffectStructure(reflexive_ds))\n",
    "\n",
    "reflexive_causes = [m.purview for m in reflexive_sep if m.direction==C]\n",
    "reflexive_effects = [m.purview for m in reflexive_sep if m.direction==E]\n",
    "reflexive_mechanisms = [m.mechanism for m in reflexive_sep]\n",
    "\n",
    "remaining_mices = []\n",
    "for m in flat_bag:\n",
    "    if m.direction==C and m.mechanism not in reflexive_mechanisms and m.purview not in reflexive_causes:\n",
    "        remaining_mices.append(m)\n",
    "    if m.direction==E and m.mechanism not in reflexive_mechanisms and m.purview not in reflexive_effects:\n",
    "        remaining_mices.append(m)\n",
    "\n",
    "remaining_ces = CES_from_bag_of_mices(make_bag(remaining_mices))\n",
    "\n",
    "final_ces = compute.get_linked_ces(list(reflexive_sep)+list(remaining_ces),subsystem)\n",
    "final_ces.subsystem=subsystem"
   ]
  },
  {
   "cell_type": "code",
   "execution_count": 71,
   "id": "a7e54838",
   "metadata": {
    "hidden": true,
    "scrolled": true
   },
   "outputs": [
    {
     "data": {
      "application/vnd.jupyter.widget-view+json": {
       "model_id": "7b9e104b38e44b42b46d1e0b320dcfff",
       "version_major": 2,
       "version_minor": 0
      },
      "text/plain": [
       "  0%|          | 0/237 [00:00<?, ?it/s]"
      ]
     },
     "metadata": {},
     "output_type": "display_data"
    },
    {
     "name": "stderr",
     "output_type": "stream",
     "text": [
      "/home/mgrasso/pyphi/pyphi/utils.py:86: RuntimeWarning: invalid value encountered in double_scalars\n",
      "  return abs(x - y) <= constants.EPSILON\n",
      "/home/mgrasso/pyphi/pyphi/utils.py:86: RuntimeWarning: invalid value encountered in double_scalars\n",
      "  return abs(x - y) <= constants.EPSILON\n",
      "/home/mgrasso/pyphi/pyphi/utils.py:86: RuntimeWarning: invalid value encountered in double_scalars\n",
      "  return abs(x - y) <= constants.EPSILON\n",
      "/home/mgrasso/pyphi/pyphi/utils.py:86: RuntimeWarning: invalid value encountered in double_scalars\n",
      "  return abs(x - y) <= constants.EPSILON\n",
      "/home/mgrasso/pyphi/pyphi/utils.py:86: RuntimeWarning: invalid value encountered in double_scalars\n",
      "  return abs(x - y) <= constants.EPSILON\n",
      "/home/mgrasso/pyphi/pyphi/utils.py:86: RuntimeWarning: invalid value encountered in double_scalars\n",
      "  return abs(x - y) <= constants.EPSILON\n",
      "/home/mgrasso/pyphi/pyphi/utils.py:86: RuntimeWarning: invalid value encountered in double_scalars\n",
      "  return abs(x - y) <= constants.EPSILON\n",
      "/home/mgrasso/pyphi/pyphi/utils.py:86: RuntimeWarning: invalid value encountered in double_scalars\n",
      "  return abs(x - y) <= constants.EPSILON\n",
      "/home/mgrasso/pyphi/pyphi/utils.py:86: RuntimeWarning: invalid value encountered in double_scalars\n",
      "  return abs(x - y) <= constants.EPSILON\n",
      "/home/mgrasso/pyphi/pyphi/utils.py:86: RuntimeWarning: invalid value encountered in double_scalars\n",
      "  return abs(x - y) <= constants.EPSILON\n",
      "/home/mgrasso/pyphi/pyphi/utils.py:86: RuntimeWarning: invalid value encountered in double_scalars\n",
      "  return abs(x - y) <= constants.EPSILON\n"
     ]
    }
   ],
   "source": [
    "relations = list(pyphi.relations.relations(subsystem,sep(final_ces),max_degree=2,parallel=True))"
   ]
  },
  {
   "cell_type": "code",
   "execution_count": 72,
   "id": "9bf3a757",
   "metadata": {
    "hidden": true
   },
   "outputs": [
    {
     "name": "stdout",
     "output_type": "stream",
     "text": [
      "Done putting relations\n",
      "Finding maximal compositional state\n"
     ]
    },
    {
     "data": {
      "application/vnd.jupyter.widget-view+json": {
       "model_id": "369d910df77b4957a2478b42e04fc790",
       "version_major": 2,
       "version_minor": 0
      },
      "text/plain": [
       "Submitting tasks: 0it [00:00, ?it/s]"
      ]
     },
     "metadata": {},
     "output_type": "display_data"
    },
    {
     "name": "stdout",
     "output_type": "stream",
     "text": [
      "Done submitting tasks\n"
     ]
    },
    {
     "data": {
      "application/vnd.jupyter.widget-view+json": {
       "model_id": "a6ec580f86874c4ca78d7e07f5591727",
       "version_major": 2,
       "version_minor": 0
      },
      "text/plain": [
       "  0%|          | 0/1 [00:00<?, ?it/s]"
      ]
     },
     "metadata": {},
     "output_type": "display_data"
    },
    {
     "name": "stdout",
     "output_type": "stream",
     "text": [
      "Evaluating maximal compositional state\n"
     ]
    },
    {
     "data": {
      "text/plain": [
       "0.04542253372529282"
      ]
     },
     "execution_count": 72,
     "metadata": {},
     "output_type": "execute_result"
    }
   ],
   "source": [
    "sia = pyphi.big_phi.sia(subsystem,final_ces,relations)\n",
    "\n",
    "sia.phi"
   ]
  },
  {
   "cell_type": "code",
   "execution_count": 73,
   "id": "dc08f971",
   "metadata": {
    "hidden": true
   },
   "outputs": [
    {
     "data": {
      "text/html": [
       "<div>\n",
       "<style scoped>\n",
       "    .dataframe tbody tr th:only-of-type {\n",
       "        vertical-align: middle;\n",
       "    }\n",
       "\n",
       "    .dataframe tbody tr th {\n",
       "        vertical-align: top;\n",
       "    }\n",
       "\n",
       "    .dataframe thead th {\n",
       "        text-align: right;\n",
       "    }\n",
       "</style>\n",
       "<table border=\"1\" class=\"dataframe\">\n",
       "  <thead>\n",
       "    <tr style=\"text-align: right;\">\n",
       "      <th></th>\n",
       "      <th>mechanism</th>\n",
       "      <th>direction</th>\n",
       "      <th>purview</th>\n",
       "      <th>state</th>\n",
       "      <th>phi</th>\n",
       "    </tr>\n",
       "  </thead>\n",
       "  <tbody>\n",
       "    <tr>\n",
       "      <th>0</th>\n",
       "      <td>A</td>\n",
       "      <td>CAUSE</td>\n",
       "      <td>A</td>\n",
       "      <td>0</td>\n",
       "      <td>0.520382</td>\n",
       "    </tr>\n",
       "    <tr>\n",
       "      <th>1</th>\n",
       "      <td>A</td>\n",
       "      <td>EFFECT</td>\n",
       "      <td>A</td>\n",
       "      <td>0</td>\n",
       "      <td>0.656129</td>\n",
       "    </tr>\n",
       "    <tr>\n",
       "      <th>2</th>\n",
       "      <td>B</td>\n",
       "      <td>CAUSE</td>\n",
       "      <td>B</td>\n",
       "      <td>0</td>\n",
       "      <td>0.629285</td>\n",
       "    </tr>\n",
       "    <tr>\n",
       "      <th>3</th>\n",
       "      <td>B</td>\n",
       "      <td>EFFECT</td>\n",
       "      <td>B</td>\n",
       "      <td>0</td>\n",
       "      <td>0.713724</td>\n",
       "    </tr>\n",
       "    <tr>\n",
       "      <th>4</th>\n",
       "      <td>C</td>\n",
       "      <td>CAUSE</td>\n",
       "      <td>C</td>\n",
       "      <td>0</td>\n",
       "      <td>0.629285</td>\n",
       "    </tr>\n",
       "    <tr>\n",
       "      <th>5</th>\n",
       "      <td>C</td>\n",
       "      <td>EFFECT</td>\n",
       "      <td>C</td>\n",
       "      <td>0</td>\n",
       "      <td>0.713724</td>\n",
       "    </tr>\n",
       "    <tr>\n",
       "      <th>6</th>\n",
       "      <td>D</td>\n",
       "      <td>CAUSE</td>\n",
       "      <td>D</td>\n",
       "      <td>0</td>\n",
       "      <td>0.520382</td>\n",
       "    </tr>\n",
       "    <tr>\n",
       "      <th>7</th>\n",
       "      <td>D</td>\n",
       "      <td>EFFECT</td>\n",
       "      <td>D</td>\n",
       "      <td>0</td>\n",
       "      <td>0.656129</td>\n",
       "    </tr>\n",
       "    <tr>\n",
       "      <th>8</th>\n",
       "      <td>AB</td>\n",
       "      <td>CAUSE</td>\n",
       "      <td>AB</td>\n",
       "      <td>00</td>\n",
       "      <td>0.071485</td>\n",
       "    </tr>\n",
       "    <tr>\n",
       "      <th>9</th>\n",
       "      <td>AB</td>\n",
       "      <td>EFFECT</td>\n",
       "      <td>AB</td>\n",
       "      <td>00</td>\n",
       "      <td>0.069119</td>\n",
       "    </tr>\n",
       "    <tr>\n",
       "      <th>10</th>\n",
       "      <td>AC</td>\n",
       "      <td>CAUSE</td>\n",
       "      <td>AC</td>\n",
       "      <td>00</td>\n",
       "      <td>0.017755</td>\n",
       "    </tr>\n",
       "    <tr>\n",
       "      <th>11</th>\n",
       "      <td>AC</td>\n",
       "      <td>EFFECT</td>\n",
       "      <td>AC</td>\n",
       "      <td>00</td>\n",
       "      <td>0.019795</td>\n",
       "    </tr>\n",
       "    <tr>\n",
       "      <th>12</th>\n",
       "      <td>BC</td>\n",
       "      <td>CAUSE</td>\n",
       "      <td>BC</td>\n",
       "      <td>00</td>\n",
       "      <td>0.053428</td>\n",
       "    </tr>\n",
       "    <tr>\n",
       "      <th>13</th>\n",
       "      <td>BC</td>\n",
       "      <td>EFFECT</td>\n",
       "      <td>BC</td>\n",
       "      <td>00</td>\n",
       "      <td>0.124742</td>\n",
       "    </tr>\n",
       "    <tr>\n",
       "      <th>14</th>\n",
       "      <td>BD</td>\n",
       "      <td>CAUSE</td>\n",
       "      <td>BD</td>\n",
       "      <td>00</td>\n",
       "      <td>0.017755</td>\n",
       "    </tr>\n",
       "    <tr>\n",
       "      <th>15</th>\n",
       "      <td>BD</td>\n",
       "      <td>EFFECT</td>\n",
       "      <td>BD</td>\n",
       "      <td>00</td>\n",
       "      <td>0.019795</td>\n",
       "    </tr>\n",
       "    <tr>\n",
       "      <th>16</th>\n",
       "      <td>CD</td>\n",
       "      <td>CAUSE</td>\n",
       "      <td>CD</td>\n",
       "      <td>00</td>\n",
       "      <td>0.071485</td>\n",
       "    </tr>\n",
       "    <tr>\n",
       "      <th>17</th>\n",
       "      <td>CD</td>\n",
       "      <td>EFFECT</td>\n",
       "      <td>CD</td>\n",
       "      <td>00</td>\n",
       "      <td>0.069119</td>\n",
       "    </tr>\n",
       "    <tr>\n",
       "      <th>18</th>\n",
       "      <td>ABC</td>\n",
       "      <td>CAUSE</td>\n",
       "      <td>ABC</td>\n",
       "      <td>000</td>\n",
       "      <td>0.077012</td>\n",
       "    </tr>\n",
       "    <tr>\n",
       "      <th>19</th>\n",
       "      <td>ABC</td>\n",
       "      <td>EFFECT</td>\n",
       "      <td>ABC</td>\n",
       "      <td>000</td>\n",
       "      <td>0.016039</td>\n",
       "    </tr>\n",
       "    <tr>\n",
       "      <th>20</th>\n",
       "      <td>ABD</td>\n",
       "      <td>CAUSE</td>\n",
       "      <td>ABD</td>\n",
       "      <td>000</td>\n",
       "      <td>0.018262</td>\n",
       "    </tr>\n",
       "    <tr>\n",
       "      <th>21</th>\n",
       "      <td>ABD</td>\n",
       "      <td>EFFECT</td>\n",
       "      <td>AD</td>\n",
       "      <td>00</td>\n",
       "      <td>0.003075</td>\n",
       "    </tr>\n",
       "    <tr>\n",
       "      <th>22</th>\n",
       "      <td>BCD</td>\n",
       "      <td>CAUSE</td>\n",
       "      <td>BCD</td>\n",
       "      <td>000</td>\n",
       "      <td>0.077012</td>\n",
       "    </tr>\n",
       "    <tr>\n",
       "      <th>23</th>\n",
       "      <td>BCD</td>\n",
       "      <td>EFFECT</td>\n",
       "      <td>BCD</td>\n",
       "      <td>000</td>\n",
       "      <td>0.016039</td>\n",
       "    </tr>\n",
       "    <tr>\n",
       "      <th>24</th>\n",
       "      <td>ABCD</td>\n",
       "      <td>CAUSE</td>\n",
       "      <td>ABCD</td>\n",
       "      <td>0000</td>\n",
       "      <td>0.036879</td>\n",
       "    </tr>\n",
       "    <tr>\n",
       "      <th>25</th>\n",
       "      <td>ABCD</td>\n",
       "      <td>EFFECT</td>\n",
       "      <td>ABCD</td>\n",
       "      <td>0000</td>\n",
       "      <td>0.009917</td>\n",
       "    </tr>\n",
       "  </tbody>\n",
       "</table>\n",
       "</div>"
      ],
      "text/plain": [
       "   mechanism direction purview state       phi\n",
       "0          A     CAUSE       A     0  0.520382\n",
       "1          A    EFFECT       A     0  0.656129\n",
       "2          B     CAUSE       B     0  0.629285\n",
       "3          B    EFFECT       B     0  0.713724\n",
       "4          C     CAUSE       C     0  0.629285\n",
       "5          C    EFFECT       C     0  0.713724\n",
       "6          D     CAUSE       D     0  0.520382\n",
       "7          D    EFFECT       D     0  0.656129\n",
       "8         AB     CAUSE      AB    00  0.071485\n",
       "9         AB    EFFECT      AB    00  0.069119\n",
       "10        AC     CAUSE      AC    00  0.017755\n",
       "11        AC    EFFECT      AC    00  0.019795\n",
       "12        BC     CAUSE      BC    00  0.053428\n",
       "13        BC    EFFECT      BC    00  0.124742\n",
       "14        BD     CAUSE      BD    00  0.017755\n",
       "15        BD    EFFECT      BD    00  0.019795\n",
       "16        CD     CAUSE      CD    00  0.071485\n",
       "17        CD    EFFECT      CD    00  0.069119\n",
       "18       ABC     CAUSE     ABC   000  0.077012\n",
       "19       ABC    EFFECT     ABC   000  0.016039\n",
       "20       ABD     CAUSE     ABD   000  0.018262\n",
       "21       ABD    EFFECT      AD    00  0.003075\n",
       "22       BCD     CAUSE     BCD   000  0.077012\n",
       "23       BCD    EFFECT     BCD   000  0.016039\n",
       "24      ABCD     CAUSE    ABCD  0000  0.036879\n",
       "25      ABCD    EFFECT    ABCD  0000  0.009917"
      ]
     },
     "execution_count": 73,
     "metadata": {},
     "output_type": "execute_result"
    }
   ],
   "source": [
    "utils.sepces2df(sep(sia.phi_structure.distinctions),subsystem)"
   ]
  },
  {
   "cell_type": "markdown",
   "id": "5c78fc5c",
   "metadata": {},
   "source": [
    "# Ch 3"
   ]
  },
  {
   "cell_type": "markdown",
   "id": "af85395a",
   "metadata": {},
   "source": [
    "## 4 nodes"
   ]
  },
  {
   "cell_type": "code",
   "execution_count": 97,
   "id": "39ce1c15",
   "metadata": {},
   "outputs": [
    {
     "data": {
      "application/vnd.jupyter.widget-view+json": {
       "model_id": "999509afb3284c9bb3a7d403762596b9",
       "version_major": 2,
       "version_minor": 0
      },
      "text/plain": [
       "  0%|          | 0/64 [00:00<?, ?it/s]"
      ]
     },
     "metadata": {},
     "output_type": "display_data"
    },
    {
     "name": "stderr",
     "output_type": "stream",
     "text": [
      "                                                                                                                                                                                  \r"
     ]
    },
    {
     "data": {
      "application/vnd.jupyter.widget-view+json": {
       "model_id": "4247a195dfa54ac19ce71ff6464c4adf",
       "version_major": 2,
       "version_minor": 0
      },
      "text/plain": [
       "  0%|          | 0/15 [00:00<?, ?it/s]"
      ]
     },
     "metadata": {},
     "output_type": "display_data"
    },
    {
     "data": {
      "text/html": [
       "<div>\n",
       "<style scoped>\n",
       "    .dataframe tbody tr th:only-of-type {\n",
       "        vertical-align: middle;\n",
       "    }\n",
       "\n",
       "    .dataframe tbody tr th {\n",
       "        vertical-align: top;\n",
       "    }\n",
       "\n",
       "    .dataframe thead th {\n",
       "        text-align: right;\n",
       "    }\n",
       "</style>\n",
       "<table border=\"1\" class=\"dataframe\">\n",
       "  <thead>\n",
       "    <tr style=\"text-align: right;\">\n",
       "      <th></th>\n",
       "      <th>mechanism</th>\n",
       "      <th>direction</th>\n",
       "      <th>purview</th>\n",
       "      <th>state</th>\n",
       "      <th>phi</th>\n",
       "    </tr>\n",
       "  </thead>\n",
       "  <tbody>\n",
       "    <tr>\n",
       "      <th>0</th>\n",
       "      <td>A</td>\n",
       "      <td>CAUSE</td>\n",
       "      <td>A</td>\n",
       "      <td>0</td>\n",
       "      <td>0.486034</td>\n",
       "    </tr>\n",
       "    <tr>\n",
       "      <th>1</th>\n",
       "      <td>A</td>\n",
       "      <td>EFFECT</td>\n",
       "      <td>A</td>\n",
       "      <td>0</td>\n",
       "      <td>0.627340</td>\n",
       "    </tr>\n",
       "    <tr>\n",
       "      <th>2</th>\n",
       "      <td>B</td>\n",
       "      <td>CAUSE</td>\n",
       "      <td>B</td>\n",
       "      <td>1</td>\n",
       "      <td>0.232803</td>\n",
       "    </tr>\n",
       "    <tr>\n",
       "      <th>3</th>\n",
       "      <td>B</td>\n",
       "      <td>EFFECT</td>\n",
       "      <td>B</td>\n",
       "      <td>1</td>\n",
       "      <td>0.352352</td>\n",
       "    </tr>\n",
       "    <tr>\n",
       "      <th>4</th>\n",
       "      <td>C</td>\n",
       "      <td>CAUSE</td>\n",
       "      <td>C</td>\n",
       "      <td>0</td>\n",
       "      <td>0.486034</td>\n",
       "    </tr>\n",
       "    <tr>\n",
       "      <th>5</th>\n",
       "      <td>C</td>\n",
       "      <td>EFFECT</td>\n",
       "      <td>C</td>\n",
       "      <td>0</td>\n",
       "      <td>0.627340</td>\n",
       "    </tr>\n",
       "    <tr>\n",
       "      <th>6</th>\n",
       "      <td>D</td>\n",
       "      <td>CAUSE</td>\n",
       "      <td>AC</td>\n",
       "      <td>10\\n01</td>\n",
       "      <td>0.103475</td>\n",
       "    </tr>\n",
       "    <tr>\n",
       "      <th>7</th>\n",
       "      <td>D</td>\n",
       "      <td>EFFECT</td>\n",
       "      <td>AC</td>\n",
       "      <td>00</td>\n",
       "      <td>0.005182</td>\n",
       "    </tr>\n",
       "    <tr>\n",
       "      <th>8</th>\n",
       "      <td>AD</td>\n",
       "      <td>CAUSE</td>\n",
       "      <td>AB</td>\n",
       "      <td>01</td>\n",
       "      <td>0.140774</td>\n",
       "    </tr>\n",
       "    <tr>\n",
       "      <th>9</th>\n",
       "      <td>AD</td>\n",
       "      <td>EFFECT</td>\n",
       "      <td>D</td>\n",
       "      <td>1</td>\n",
       "      <td>0.130094</td>\n",
       "    </tr>\n",
       "    <tr>\n",
       "      <th>10</th>\n",
       "      <td>BD</td>\n",
       "      <td>CAUSE</td>\n",
       "      <td>BD</td>\n",
       "      <td>10</td>\n",
       "      <td>0.088648</td>\n",
       "    </tr>\n",
       "    <tr>\n",
       "      <th>11</th>\n",
       "      <td>BD</td>\n",
       "      <td>EFFECT</td>\n",
       "      <td>AB</td>\n",
       "      <td>11</td>\n",
       "      <td>0.002811</td>\n",
       "    </tr>\n",
       "    <tr>\n",
       "      <th>12</th>\n",
       "      <td>CD</td>\n",
       "      <td>CAUSE</td>\n",
       "      <td>BC</td>\n",
       "      <td>10</td>\n",
       "      <td>0.140774</td>\n",
       "    </tr>\n",
       "    <tr>\n",
       "      <th>13</th>\n",
       "      <td>CD</td>\n",
       "      <td>EFFECT</td>\n",
       "      <td>BC</td>\n",
       "      <td>00</td>\n",
       "      <td>0.005580</td>\n",
       "    </tr>\n",
       "    <tr>\n",
       "      <th>14</th>\n",
       "      <td>ABC</td>\n",
       "      <td>CAUSE</td>\n",
       "      <td>CD</td>\n",
       "      <td>01</td>\n",
       "      <td>0.000617</td>\n",
       "    </tr>\n",
       "    <tr>\n",
       "      <th>15</th>\n",
       "      <td>ABC</td>\n",
       "      <td>EFFECT</td>\n",
       "      <td>ABC</td>\n",
       "      <td>010</td>\n",
       "      <td>0.023489</td>\n",
       "    </tr>\n",
       "    <tr>\n",
       "      <th>16</th>\n",
       "      <td>ACD</td>\n",
       "      <td>CAUSE</td>\n",
       "      <td>ABCD</td>\n",
       "      <td>0101</td>\n",
       "      <td>0.204522</td>\n",
       "    </tr>\n",
       "    <tr>\n",
       "      <th>17</th>\n",
       "      <td>ACD</td>\n",
       "      <td>EFFECT</td>\n",
       "      <td>BD</td>\n",
       "      <td>01</td>\n",
       "      <td>0.065610</td>\n",
       "    </tr>\n",
       "  </tbody>\n",
       "</table>\n",
       "</div>"
      ],
      "text/plain": [
       "   mechanism direction purview   state       phi\n",
       "0          A     CAUSE       A       0  0.486034\n",
       "1          A    EFFECT       A       0  0.627340\n",
       "2          B     CAUSE       B       1  0.232803\n",
       "3          B    EFFECT       B       1  0.352352\n",
       "4          C     CAUSE       C       0  0.486034\n",
       "5          C    EFFECT       C       0  0.627340\n",
       "6          D     CAUSE      AC  10\\n01  0.103475\n",
       "7          D    EFFECT      AC      00  0.005182\n",
       "8         AD     CAUSE      AB      01  0.140774\n",
       "9         AD    EFFECT       D       1  0.130094\n",
       "10        BD     CAUSE      BD      10  0.088648\n",
       "11        BD    EFFECT      AB      11  0.002811\n",
       "12        CD     CAUSE      BC      10  0.140774\n",
       "13        CD    EFFECT      BC      00  0.005580\n",
       "14       ABC     CAUSE      CD      01  0.000617\n",
       "15       ABC    EFFECT     ABC     010  0.023489\n",
       "16       ACD     CAUSE    ABCD    0101  0.204522\n",
       "17       ACD    EFFECT      BD      01  0.065610"
      ]
     },
     "execution_count": 97,
     "metadata": {},
     "output_type": "execute_result"
    }
   ],
   "source": [
    "import pyphi\n",
    "from visualize_pyphi import *\n",
    "import numpy as np\n",
    "from pyphi.models.subsystem import FlatCauseEffectStructure as sep\n",
    "\n",
    "th = 1/4\n",
    "exp = 5\n",
    "mu = 1\n",
    "si = .3\n",
    "ll = 1\n",
    "kk = 15\n",
    "x0 = .7\n",
    "\n",
    "q = .4\n",
    "p = .1\n",
    "s = .8\n",
    "l = .25\n",
    "j = 1-q\n",
    "i = j-.05\n",
    "b = .01\n",
    "\n",
    "weights = np.array([\n",
    "    [s,l,0,i,0,0],#A\n",
    "    [l,s,l,j,b,0],#B\n",
    "    [0,l,s,i,0,0],#C\n",
    "    [b,b,b,q,0,i],#D\n",
    "    [0,i,0,0,0,0],#I\n",
    "    [0,0,0,b,0,s],#O\n",
    "    #A,B,C,D,I,O\n",
    "  ])\n",
    "\n",
    "node_labels = ['A','B','C','D','I','O']\n",
    "mech_func = [f for f in 'sssgll']\n",
    "network = network_generator.get_net(mech_func, weights, exp=exp, th=th, mu=mu, si=si, l=ll, k=kk, x0=x0, node_labels=node_labels, pickle_network=False)\n",
    "# utils.pklthis(network,'example_data/ch3_network.pkl')\n",
    "\n",
    "subsystem = pyphi.Subsystem(network,state=(0,1,0,1,1,1),nodes=(0,1,2,3))\n",
    "ces = pyphi.compute.ces(subsystem)\n",
    "# utils.sepces2df(sep(ces),subsystem)\n",
    "\n",
    "mechanisms = list(pyphi.utils.powerset(subsystem.node_indices,nonempty=True))\n",
    "purviews = list(pyphi.utils.powerset(subsystem.node_indices,nonempty=True))\n",
    "bag_of_mices = get_bag_of_mices(subsystem,mechanisms,purviews,candidate='miw')\n",
    "\n",
    "pruned_ces = compute.get_linked_ces(CES_from_bag_of_mices(bag_of_mices),subsystem)\n",
    "utils.sepces2df(sep(pruned_ces),subsystem)"
   ]
  },
  {
   "cell_type": "code",
   "execution_count": 98,
   "id": "aa1a5ef0",
   "metadata": {},
   "outputs": [
    {
     "data": {
      "application/vnd.jupyter.widget-view+json": {
       "model_id": "9fe7f4792a1549c2a0622c70ebc3c28b",
       "version_major": 2,
       "version_minor": 0
      },
      "text/plain": [
       "  0%|          | 0/355 [00:00<?, ?it/s]"
      ]
     },
     "metadata": {},
     "output_type": "display_data"
    },
    {
     "name": "stderr",
     "output_type": "stream",
     "text": [
      "/home/mgrasso/pyphi/pyphi/utils.py:86: RuntimeWarning:\n",
      "\n",
      "invalid value encountered in double_scalars\n",
      "\n"
     ]
    },
    {
     "name": "stdout",
     "output_type": "stream",
     "text": [
      "Done putting relations\n",
      "Finding maximal compositional state\n"
     ]
    },
    {
     "data": {
      "application/vnd.jupyter.widget-view+json": {
       "model_id": "827d3ebc3bf0462ea67de4c8d1f37e4a",
       "version_major": 2,
       "version_minor": 0
      },
      "text/plain": [
       "Submitting tasks: 0it [00:00, ?it/s]"
      ]
     },
     "metadata": {},
     "output_type": "display_data"
    },
    {
     "name": "stdout",
     "output_type": "stream",
     "text": [
      "Done submitting tasks\n"
     ]
    },
    {
     "data": {
      "application/vnd.jupyter.widget-view+json": {
       "model_id": "0db138d4c10746148e117c0592b5b5d0",
       "version_major": 2,
       "version_minor": 0
      },
      "text/plain": [
       "  0%|          | 0/1 [00:00<?, ?it/s]"
      ]
     },
     "metadata": {},
     "output_type": "display_data"
    },
    {
     "name": "stdout",
     "output_type": "stream",
     "text": [
      "Evaluating maximal compositional state\n"
     ]
    },
    {
     "data": {
      "text/plain": [
       "0.00012485547369374585"
      ]
     },
     "execution_count": 98,
     "metadata": {},
     "output_type": "execute_result"
    }
   ],
   "source": [
    "pruned_relations = list(pyphi.relations.relations(subsystem,pruned_ces,max_degree=3))\n",
    "\n",
    "pruned_sia = pyphi.big_phi.sia(subsystem,pruned_ces,pruned_relations)\n",
    "pruned_sia_ces = pruned_sia.phi_structure.distinctions\n",
    "pruned_sia_rels = pruned_sia.phi_structure.relations\n",
    "pruned_sia.phi"
   ]
  },
  {
   "cell_type": "code",
   "execution_count": 99,
   "id": "7a1f4f35",
   "metadata": {},
   "outputs": [
    {
     "data": {
      "application/vnd.jupyter.widget-view+json": {
       "model_id": "17df8550f4574dedb06629ec1cf83282",
       "version_major": 2,
       "version_minor": 0
      },
      "text/plain": [
       "Computing edges:   0%|          | 0/51 [00:00<?, ?it/s]"
      ]
     },
     "metadata": {},
     "output_type": "display_data"
    },
    {
     "data": {
      "application/vnd.jupyter.widget-view+json": {
       "model_id": "83b4be155c9b4aaa8f3b6d73c6b2be0d",
       "version_major": 2,
       "version_minor": 0
      },
      "text/plain": [
       "Computing triangles:   0%|          | 0/64 [00:00<?, ?it/s]"
      ]
     },
     "metadata": {},
     "output_type": "display_data"
    },
    {
     "name": "stdout",
     "output_type": "stream",
     "text": [
      "Fig saved to .html\n"
     ]
    },
    {
     "data": {
      "application/vnd.plotly.v1+json": {
       "config": {
        "plotlyServerURL": "https://plotly.com"
       },
       "data": [
        {
         "hoverinfo": "text",
         "hoverlabel": {
          "bgcolor": "black",
          "font": {
           "color": "white"
          }
         },
         "hovertext": "False",
         "mode": "text",
         "name": "Mechanism Labels",
         "showlegend": true,
         "text": [
          "<i>a</i>",
          "<i>a</i>",
          "<i>B</i>",
          "<i>B</i>",
          "<i>c</i>",
          "<i>c</i>",
          "<i>D</i>",
          "<i>D</i>",
          "<i>aD</i>",
          "<i>aD</i>",
          "<i>BD</i>",
          "<i>BD</i>",
          "<i>cD</i>",
          "<i>cD</i>",
          "<i>aBc</i>",
          "<i>aBc</i>",
          "<i>acD</i>",
          "<i>acD</i>"
         ],
         "textfont": {
          "color": "black",
          "size": 30
         },
         "textposition": "middle center",
         "type": "scatter3d",
         "visible": true,
         "x": [
          0.3601265264628424,
          0.3601265264628424,
          0.36012652646284243,
          0.36012652646284243,
          -0.3601265264628424,
          -0.3601265264628424,
          -0.3601265264628425,
          -0.3601265264628425,
          0.3819718634205491,
          0.3819718634205491,
          -0.7639437268410977,
          -0.7639437268410977,
          -0.3819718634205492,
          -0.3819718634205492,
          0.3601265264628424,
          0.3601265264628424,
          -0.3601265264628424,
          -0.3601265264628424
         ],
         "y": [
          0.36012652646284243,
          0.36012652646284243,
          -0.3601265264628424,
          -0.3601265264628424,
          -0.3601265264628425,
          -0.3601265264628425,
          0.3601265264628423,
          0.3601265264628423,
          -0.6615946745061504,
          -0.6615946745061504,
          -1.4033418597069753e-16,
          -1.4033418597069753e-16,
          0.6615946745061503,
          0.6615946745061503,
          0.36012652646284243,
          0.36012652646284243,
          -0.3601265264628425,
          -0.3601265264628425
         ],
         "z": [
          0.9750000000000001,
          0.9750000000000001,
          0.9750000000000001,
          0.9750000000000001,
          0.9750000000000001,
          0.9750000000000001,
          0.9750000000000001,
          0.9750000000000001,
          1.6500000000000001,
          1.6500000000000001,
          1.6500000000000001,
          1.6500000000000001,
          1.6500000000000001,
          1.6500000000000001,
          2.325,
          2.325,
          2.325,
          2.325
         ]
        },
        {
         "colorscale": [
          [
           0,
           "grey"
          ],
          [
           0.058823529411764705,
           "grey"
          ],
          [
           0.11764705882352941,
           "grey"
          ],
          [
           0.17647058823529413,
           "grey"
          ],
          [
           0.23529411764705882,
           "grey"
          ],
          [
           0.29411764705882354,
           "grey"
          ],
          [
           0.35294117647058826,
           "grey"
          ],
          [
           0.4117647058823529,
           "grey"
          ],
          [
           0.47058823529411764,
           "grey"
          ],
          [
           0.5294117647058824,
           "grey"
          ],
          [
           0.5882352941176471,
           "grey"
          ],
          [
           0.6470588235294118,
           "grey"
          ],
          [
           0.7058823529411765,
           "grey"
          ],
          [
           0.7647058823529411,
           "grey"
          ],
          [
           0.8235294117647058,
           "grey"
          ],
          [
           0.8823529411764706,
           "grey"
          ],
          [
           0.9411764705882353,
           "grey"
          ],
          [
           1,
           "grey"
          ]
         ],
         "i": [
          0,
          0,
          0,
          0,
          0,
          0,
          0,
          0,
          0,
          0,
          0,
          0,
          0,
          0,
          0,
          0,
          0,
          0,
          0,
          0,
          0,
          0,
          0,
          0,
          0,
          0,
          0,
          0,
          0,
          0,
          0,
          0,
          0,
          0,
          0,
          0,
          0,
          0,
          0,
          0,
          0,
          0,
          0,
          0,
          0,
          0,
          0,
          0,
          0,
          0,
          0,
          0,
          0,
          0,
          0,
          0,
          0,
          0,
          1,
          1,
          1,
          1,
          1,
          1,
          1,
          1,
          1,
          1,
          1,
          1,
          1,
          1,
          1,
          1,
          1,
          1,
          1,
          1,
          1,
          1,
          1,
          1,
          1,
          1,
          1,
          1,
          1,
          1,
          1,
          1,
          1,
          1,
          1,
          1,
          1,
          1,
          1,
          1,
          1,
          1,
          1,
          1,
          1,
          1,
          1,
          1,
          1,
          1,
          1,
          1,
          2,
          2,
          2,
          2,
          2,
          2,
          2,
          2,
          2,
          2,
          2,
          2,
          2,
          2,
          2,
          2,
          2,
          2,
          2,
          2,
          2,
          2,
          2,
          2,
          2,
          2,
          2,
          2,
          2,
          2,
          2,
          2,
          2,
          2,
          2,
          2,
          2,
          2,
          2,
          2,
          3,
          3,
          3,
          3,
          3,
          3,
          3,
          3,
          3,
          3,
          3,
          3,
          3,
          3,
          3,
          3,
          3,
          3,
          3,
          3,
          3,
          3,
          3,
          3,
          3,
          3,
          3,
          3,
          3,
          3,
          3,
          3,
          3,
          3,
          3,
          3,
          4,
          4,
          4,
          4,
          4,
          4,
          4,
          4,
          4,
          4,
          4,
          4,
          4,
          4,
          4,
          4,
          4,
          4,
          4,
          4,
          4,
          4,
          4,
          4,
          4,
          4,
          5,
          5,
          5,
          5,
          5,
          5,
          5,
          5,
          5,
          5,
          5,
          5,
          5,
          5,
          5,
          5,
          5,
          5,
          5,
          5,
          6,
          6,
          6,
          6,
          6,
          6,
          6,
          6
         ],
         "intensity": [
          0.9,
          0.9,
          0.9,
          0.9,
          0.9,
          0.9,
          0.9,
          0.9,
          0.9,
          0.9,
          0.9,
          0.9,
          0.9,
          0.9,
          0.9,
          0.9,
          0.9,
          0.9
         ],
         "j": [
          1,
          1,
          1,
          1,
          1,
          1,
          2,
          2,
          2,
          2,
          2,
          2,
          2,
          2,
          3,
          3,
          3,
          3,
          3,
          3,
          3,
          3,
          4,
          4,
          4,
          4,
          4,
          4,
          4,
          4,
          5,
          5,
          5,
          5,
          5,
          5,
          5,
          5,
          6,
          6,
          6,
          6,
          6,
          6,
          6,
          6,
          6,
          6,
          7,
          7,
          7,
          7,
          7,
          7,
          7,
          7,
          7,
          7,
          2,
          2,
          2,
          2,
          2,
          2,
          2,
          2,
          3,
          3,
          3,
          3,
          3,
          3,
          3,
          3,
          4,
          4,
          4,
          4,
          4,
          4,
          4,
          4,
          5,
          5,
          5,
          5,
          5,
          5,
          5,
          5,
          6,
          6,
          6,
          6,
          6,
          6,
          6,
          6,
          6,
          6,
          7,
          7,
          7,
          7,
          7,
          7,
          7,
          7,
          7,
          7,
          3,
          3,
          3,
          3,
          4,
          4,
          4,
          4,
          4,
          4,
          4,
          4,
          5,
          5,
          5,
          5,
          5,
          5,
          5,
          5,
          6,
          6,
          6,
          6,
          6,
          6,
          6,
          6,
          6,
          6,
          7,
          7,
          7,
          7,
          7,
          7,
          7,
          7,
          7,
          7,
          4,
          4,
          4,
          4,
          4,
          4,
          4,
          4,
          5,
          5,
          5,
          5,
          5,
          5,
          5,
          5,
          6,
          6,
          6,
          6,
          6,
          6,
          6,
          6,
          6,
          6,
          7,
          7,
          7,
          7,
          7,
          7,
          7,
          7,
          7,
          7,
          5,
          5,
          5,
          5,
          5,
          5,
          6,
          6,
          6,
          6,
          6,
          6,
          6,
          6,
          6,
          6,
          7,
          7,
          7,
          7,
          7,
          7,
          7,
          7,
          7,
          7,
          6,
          6,
          6,
          6,
          6,
          6,
          6,
          6,
          6,
          6,
          7,
          7,
          7,
          7,
          7,
          7,
          7,
          7,
          7,
          7,
          7,
          7,
          7,
          7,
          7,
          7,
          7,
          7
         ],
         "k": [
          8,
          9,
          14,
          15,
          16,
          17,
          8,
          9,
          10,
          11,
          14,
          15,
          16,
          17,
          8,
          9,
          10,
          11,
          14,
          15,
          16,
          17,
          8,
          9,
          12,
          13,
          14,
          15,
          16,
          17,
          8,
          9,
          12,
          13,
          14,
          15,
          16,
          17,
          8,
          9,
          10,
          11,
          12,
          13,
          14,
          15,
          16,
          17,
          8,
          9,
          10,
          11,
          12,
          13,
          14,
          15,
          16,
          17,
          8,
          9,
          10,
          11,
          14,
          15,
          16,
          17,
          8,
          9,
          10,
          11,
          14,
          15,
          16,
          17,
          8,
          9,
          12,
          13,
          14,
          15,
          16,
          17,
          8,
          9,
          12,
          13,
          14,
          15,
          16,
          17,
          8,
          9,
          10,
          11,
          12,
          13,
          14,
          15,
          16,
          17,
          8,
          9,
          10,
          11,
          12,
          13,
          14,
          15,
          16,
          17,
          10,
          11,
          14,
          15,
          10,
          11,
          12,
          13,
          14,
          15,
          16,
          17,
          10,
          11,
          12,
          13,
          14,
          15,
          16,
          17,
          8,
          9,
          10,
          11,
          12,
          13,
          14,
          15,
          16,
          17,
          8,
          9,
          10,
          11,
          12,
          13,
          14,
          15,
          16,
          17,
          10,
          11,
          12,
          13,
          14,
          15,
          16,
          17,
          10,
          11,
          12,
          13,
          14,
          15,
          16,
          17,
          8,
          9,
          10,
          11,
          12,
          13,
          14,
          15,
          16,
          17,
          8,
          9,
          10,
          11,
          12,
          13,
          14,
          15,
          16,
          17,
          12,
          13,
          14,
          15,
          16,
          17,
          8,
          9,
          10,
          11,
          12,
          13,
          14,
          15,
          16,
          17,
          8,
          9,
          10,
          11,
          12,
          13,
          14,
          15,
          16,
          17,
          8,
          9,
          10,
          11,
          12,
          13,
          14,
          15,
          16,
          17,
          8,
          9,
          10,
          11,
          12,
          13,
          14,
          15,
          16,
          17,
          8,
          9,
          10,
          11,
          12,
          13,
          16,
          17
         ],
         "legendgroup": "base mesh",
         "name": "Base",
         "opacity": 0.9,
         "showlegend": true,
         "showscale": false,
         "type": "mesh3d",
         "visible": true,
         "x": [
          0.3601265264628424,
          0.3601265264628424,
          0.36012652646284243,
          0.36012652646284243,
          -0.3601265264628424,
          -0.3601265264628424,
          -0.3601265264628425,
          -0.3601265264628425,
          0.3819718634205491,
          0.3819718634205491,
          -0.7639437268410977,
          -0.7639437268410977,
          -0.3819718634205492,
          -0.3819718634205492,
          0.3601265264628424,
          0.3601265264628424,
          -0.3601265264628424,
          -0.3601265264628424
         ],
         "y": [
          0.36012652646284243,
          0.36012652646284243,
          -0.3601265264628424,
          -0.3601265264628424,
          -0.3601265264628425,
          -0.3601265264628425,
          0.3601265264628423,
          0.3601265264628423,
          -0.6615946745061504,
          -0.6615946745061504,
          -1.4033418597069753e-16,
          -1.4033418597069753e-16,
          0.6615946745061503,
          0.6615946745061503,
          0.36012652646284243,
          0.36012652646284243,
          -0.3601265264628425,
          -0.3601265264628425
         ],
         "z": [
          0.9750000000000001,
          0.9750000000000001,
          0.9750000000000001,
          0.9750000000000001,
          0.9750000000000001,
          0.9750000000000001,
          0.9750000000000001,
          0.9750000000000001,
          1.6500000000000001,
          1.6500000000000001,
          1.6500000000000001,
          1.6500000000000001,
          1.6500000000000001,
          1.6500000000000001,
          2.325,
          2.325,
          2.325,
          2.325
         ]
        },
        {
         "hoverinfo": "text",
         "hoverlabel": {
          "bgcolor": "red"
         },
         "hovertext": [
          "Distinction: A<br>Direction: CAUSE<br>Purview: A<br>φ = 0.486<br>State: [0]",
          "Distinction: B<br>Direction: CAUSE<br>Purview: B<br>φ = 0.2328<br>State: [1]",
          "Distinction: C<br>Direction: CAUSE<br>Purview: C<br>φ = 0.486<br>State: [0]",
          "Distinction: D<br>Direction: CAUSE<br>Purview: AC<br>φ = 0.1035<br>State: [1, 0]",
          "Distinction: AD<br>Direction: CAUSE<br>Purview: AB<br>φ = 0.1408<br>State: [0, 1]",
          "Distinction: BD<br>Direction: CAUSE<br>Purview: BD<br>φ = 0.0886<br>State: [1, 0]",
          "Distinction: CD<br>Direction: CAUSE<br>Purview: BC<br>φ = 0.1408<br>State: [1, 0]",
          "Distinction: ABC<br>Direction: CAUSE<br>Purview: CD<br>φ = 0.0006<br>State: [0, 1]",
          "Distinction: ACD<br>Direction: CAUSE<br>Purview: ABCD<br>φ = 0.2045<br>State: [0, 1, 0, 1]"
         ],
         "mode": "text",
         "name": "Cause Purview Labels",
         "showlegend": true,
         "text": [
          "<i>a</i>",
          "<i>B</i>",
          "<i>c</i>",
          "<i>Ac</i>",
          "<i>aB</i>",
          "<i>Bd</i>",
          "<i>Bc</i>",
          "<i>cD</i>",
          "<i>aBcD</i>"
         ],
         "textfont": {
          "color": "red",
          "size": 30
         },
         "textposition": "middle center",
         "type": "scatter3d",
         "visible": true,
         "x": [
          0.8752372371178294,
          0.8752372371178296,
          -0.47523723711782945,
          2.109859317102744,
          1.154929658551372,
          -1.709859317102744,
          -0.7549296585513714,
          -0.9549296585513729,
          0
         ],
         "y": [
          0.6752372371178296,
          -0.6752372371178295,
          -0.6752372371178297,
          1.291916229670548e-16,
          1.6539866862653763,
          -3.3858899693527023e-16,
          -1.6539866862653765,
          1.6539866862653756,
          0
         ],
         "z": [
          0,
          0,
          0,
          2,
          2,
          2,
          2,
          2,
          3.75
         ]
        },
        {
         "hoverinfo": "text",
         "hoverlabel": {
          "bgcolor": "green"
         },
         "hovertext": [
          "Distinction: A<br>Direction: EFFECT<br>Purview: A<br>φ = 0.6273<br>State: [0]",
          "Distinction: B<br>Direction: EFFECT<br>Purview: B<br>φ = 0.3524<br>State: [1]",
          "Distinction: C<br>Direction: EFFECT<br>Purview: C<br>φ = 0.6273<br>State: [0]",
          "Distinction: D<br>Direction: EFFECT<br>Purview: AC<br>φ = 0.0052<br>State: [0, 0]",
          "Distinction: AD<br>Direction: EFFECT<br>Purview: D<br>φ = 0.1301<br>State: [1]",
          "Distinction: BD<br>Direction: EFFECT<br>Purview: AB<br>φ = 0.0028<br>State: [1, 1]",
          "Distinction: CD<br>Direction: EFFECT<br>Purview: BC<br>φ = 0.0056<br>State: [0, 0]",
          "Distinction: ABC<br>Direction: EFFECT<br>Purview: ABC<br>φ = 0.0235<br>State: [0, 1, 0]",
          "Distinction: ACD<br>Direction: EFFECT<br>Purview: BD<br>φ = 0.0656<br>State: [0, 1]"
         ],
         "mode": "text",
         "name": "Effect Purview Labels",
         "showlegend": true,
         "text": [
          "<i>a</i>",
          "<i>B</i>",
          "<i>c</i>",
          "<i>ac</i>",
          "<i>D</i>",
          "<i>AB</i>",
          "<i>bc</i>",
          "<i>aBc</i>",
          "<i>bD</i>"
         ],
         "textfont": {
          "color": "green",
          "size": 30
         },
         "textposition": "middle center",
         "type": "scatter3d",
         "visible": true,
         "x": [
          0.47523723711782945,
          0.47523723711782956,
          -0.8752372371178294,
          1.709859317102744,
          -0.6752372371178297,
          0.7549296585513718,
          -1.1549296585513715,
          1.1253953951963827,
          -2.109859317102744
         ],
         "y": [
          0.6752372371178296,
          -0.6752372371178295,
          -0.6752372371178297,
          8.020575100116068e-17,
          0.6752372371178293,
          1.6539866862653763,
          -1.6539866862653765,
          1.1253953951963829,
          -3.875748689011644e-16
         ],
         "z": [
          0,
          0,
          0,
          2,
          0,
          2,
          2,
          3,
          2
         ]
        },
        {
         "hoverinfo": "skip",
         "legendgroup": "Links",
         "line": {
          "color": [
           "orange"
          ],
          "width": 5.098125549050213
         },
         "mode": "lines",
         "name": "Links",
         "showlegend": true,
         "type": "scatter3d",
         "visible": true,
         "x": [
          0.8752372371178294,
          0.3601265264628424
         ],
         "y": [
          0.6752372371178296,
          0.36012652646284243
         ],
         "z": [
          0,
          0.9750000000000001
         ]
        },
        {
         "hoverinfo": "skip",
         "legendgroup": "Links",
         "line": {
          "color": [
           "orange"
          ],
          "width": 5.098125549050213
         },
         "mode": "lines",
         "name": "Links",
         "showlegend": false,
         "type": "scatter3d",
         "visible": true,
         "x": [
          0.47523723711782945,
          0.3601265264628424
         ],
         "y": [
          0.6752372371178296,
          0.36012652646284243
         ],
         "z": [
          0,
          0.9750000000000001
         ]
        },
        {
         "hoverinfo": "skip",
         "legendgroup": "Links",
         "line": {
          "color": [
           "orange"
          ],
          "width": 6
         },
         "mode": "lines",
         "name": "Links",
         "showlegend": false,
         "type": "scatter3d",
         "visible": true,
         "x": [
          0.8752372371178296,
          0.36012652646284243
         ],
         "y": [
          -0.6752372371178295,
          -0.3601265264628424
         ],
         "z": [
          0,
          0.9750000000000001
         ]
        },
        {
         "hoverinfo": "skip",
         "legendgroup": "Links",
         "line": {
          "color": [
           "orange"
          ],
          "width": 6
         },
         "mode": "lines",
         "name": "Links",
         "showlegend": false,
         "type": "scatter3d",
         "visible": true,
         "x": [
          0.47523723711782956,
          0.36012652646284243
         ],
         "y": [
          -0.6752372371178295,
          -0.3601265264628424
         ],
         "z": [
          0,
          0.9750000000000001
         ]
        },
        {
         "hoverinfo": "skip",
         "legendgroup": "Links",
         "line": {
          "color": [
           "orange"
          ],
          "width": 3.481907729699563
         },
         "mode": "lines",
         "name": "Links",
         "showlegend": false,
         "type": "scatter3d",
         "visible": true,
         "x": [
          -0.47523723711782945,
          -0.3601265264628424
         ],
         "y": [
          -0.6752372371178297,
          -0.3601265264628425
         ],
         "z": [
          0,
          0.9750000000000001
         ]
        },
        {
         "hoverinfo": "skip",
         "legendgroup": "Links",
         "line": {
          "color": [
           "orange"
          ],
          "width": 3.481907729699563
         },
         "mode": "lines",
         "name": "Links",
         "showlegend": false,
         "type": "scatter3d",
         "visible": true,
         "x": [
          -0.8752372371178294,
          -0.3601265264628424
         ],
         "y": [
          -0.6752372371178297,
          -0.3601265264628425
         ],
         "z": [
          0,
          0.9750000000000001
         ]
        },
        {
         "hoverinfo": "skip",
         "legendgroup": "Links",
         "line": {
          "color": [
           "orange"
          ],
          "width": 4.244912081238878
         },
         "mode": "lines",
         "name": "Links",
         "showlegend": false,
         "type": "scatter3d",
         "visible": true,
         "x": [
          2.109859317102744,
          -0.3601265264628425
         ],
         "y": [
          1.291916229670548e-16,
          0.3601265264628423
         ],
         "z": [
          2,
          0.9750000000000001
         ]
        },
        {
         "hoverinfo": "skip",
         "legendgroup": "Links",
         "line": {
          "color": [
           "orange"
          ],
          "width": 4.244912081238878
         },
         "mode": "lines",
         "name": "Links",
         "showlegend": false,
         "type": "scatter3d",
         "visible": true,
         "x": [
          1.709859317102744,
          -0.3601265264628425
         ],
         "y": [
          8.020575100116068e-17,
          0.3601265264628423
         ],
         "z": [
          2,
          0.9750000000000001
         ]
        },
        {
         "hoverinfo": "skip",
         "legendgroup": "Links",
         "line": {
          "color": [
           "orange"
          ],
          "width": 5.098125549050213
         },
         "mode": "lines",
         "name": "Links",
         "showlegend": false,
         "type": "scatter3d",
         "visible": true,
         "x": [
          1.154929658551372,
          0.3819718634205491
         ],
         "y": [
          1.6539866862653763,
          -0.6615946745061504
         ],
         "z": [
          2,
          1.6500000000000001
         ]
        },
        {
         "hoverinfo": "skip",
         "legendgroup": "Links",
         "line": {
          "color": [
           "orange"
          ],
          "width": 5.098125549050213
         },
         "mode": "lines",
         "name": "Links",
         "showlegend": false,
         "type": "scatter3d",
         "visible": true,
         "x": [
          -0.6752372371178297,
          0.3819718634205491
         ],
         "y": [
          0.6752372371178293,
          -0.6615946745061504
         ],
         "z": [
          0,
          1.6500000000000001
         ]
        },
        {
         "hoverinfo": "skip",
         "legendgroup": "Links",
         "line": {
          "color": [
           "orange"
          ],
          "width": 6
         },
         "mode": "lines",
         "name": "Links",
         "showlegend": false,
         "type": "scatter3d",
         "visible": true,
         "x": [
          -1.709859317102744,
          -0.7639437268410977
         ],
         "y": [
          -3.3858899693527023e-16,
          -1.4033418597069753e-16
         ],
         "z": [
          2,
          1.6500000000000001
         ]
        },
        {
         "hoverinfo": "skip",
         "legendgroup": "Links",
         "line": {
          "color": [
           "orange"
          ],
          "width": 6
         },
         "mode": "lines",
         "name": "Links",
         "showlegend": false,
         "type": "scatter3d",
         "visible": true,
         "x": [
          0.7549296585513718,
          -0.7639437268410977
         ],
         "y": [
          1.6539866862653763,
          -1.4033418597069753e-16
         ],
         "z": [
          2,
          1.6500000000000001
         ]
        },
        {
         "hoverinfo": "skip",
         "legendgroup": "Links",
         "line": {
          "color": [
           "orange"
          ],
          "width": 2.65648585485515
         },
         "mode": "lines",
         "name": "Links",
         "showlegend": false,
         "type": "scatter3d",
         "visible": true,
         "x": [
          -0.7549296585513714,
          -0.3819718634205492
         ],
         "y": [
          -1.6539866862653765,
          0.6615946745061503
         ],
         "z": [
          2,
          1.6500000000000001
         ]
        },
        {
         "hoverinfo": "skip",
         "legendgroup": "Links",
         "line": {
          "color": [
           "orange"
          ],
          "width": 2.65648585485515
         },
         "mode": "lines",
         "name": "Links",
         "showlegend": false,
         "type": "scatter3d",
         "visible": true,
         "x": [
          -1.1549296585513715,
          -0.3819718634205492
         ],
         "y": [
          -1.6539866862653765,
          0.6615946745061503
         ],
         "z": [
          2,
          1.6500000000000001
         ]
        },
        {
         "hoverinfo": "skip",
         "legendgroup": "Links",
         "line": {
          "color": [
           "orange"
          ],
          "width": 2.029135996413238
         },
         "mode": "lines",
         "name": "Links",
         "showlegend": false,
         "type": "scatter3d",
         "visible": true,
         "x": [
          -0.9549296585513729,
          0.3601265264628424
         ],
         "y": [
          1.6539866862653756,
          0.36012652646284243
         ],
         "z": [
          2,
          2.325
         ]
        },
        {
         "hoverinfo": "skip",
         "legendgroup": "Links",
         "line": {
          "color": [
           "orange"
          ],
          "width": 2.029135996413238
         },
         "mode": "lines",
         "name": "Links",
         "showlegend": false,
         "type": "scatter3d",
         "visible": true,
         "x": [
          1.1253953951963827,
          0.3601265264628424
         ],
         "y": [
          1.1253953951963829,
          0.36012652646284243
         ],
         "z": [
          3,
          2.325
         ]
        },
        {
         "hoverinfo": "skip",
         "legendgroup": "Links",
         "line": {
          "color": [
           "orange"
          ],
          "width": 2.8945414108668848
         },
         "mode": "lines",
         "name": "Links",
         "showlegend": false,
         "type": "scatter3d",
         "visible": true,
         "x": [
          0,
          -0.3601265264628424
         ],
         "y": [
          0,
          -0.3601265264628425
         ],
         "z": [
          3.75,
          2.325
         ]
        },
        {
         "hoverinfo": "skip",
         "legendgroup": "Links",
         "line": {
          "color": [
           "orange"
          ],
          "width": 2.8945414108668848
         },
         "mode": "lines",
         "name": "Links",
         "showlegend": false,
         "type": "scatter3d",
         "visible": true,
         "x": [
          -2.109859317102744,
          -0.3601265264628424
         ],
         "y": [
          -3.875748689011644e-16,
          -0.3601265264628425
         ],
         "z": [
          2,
          2.325
         ]
        },
        {
         "hoverinfo": "skip",
         "legendgroup": "Chains",
         "line": {
          "color": "black",
          "dash": "dash",
          "width": 3
         },
         "mode": "lines",
         "name": "Chains",
         "showlegend": true,
         "type": "scatter3d",
         "visible": true,
         "x": [
          0.3601265264628424,
          0.3601265264628424
         ],
         "y": [
          0.36012652646284243,
          0.36012652646284243
         ],
         "z": [
          0.9750000000000001,
          0.9750000000000001
         ]
        },
        {
         "hoverinfo": "skip",
         "legendgroup": "Chains",
         "line": {
          "color": "black",
          "dash": "dash",
          "width": 3
         },
         "mode": "lines",
         "name": "Chains",
         "showlegend": false,
         "type": "scatter3d",
         "visible": true,
         "x": [
          0.3601265264628424,
          0.3601265264628424
         ],
         "y": [
          0.36012652646284243,
          0.36012652646284243
         ],
         "z": [
          0.9750000000000001,
          0.9750000000000001
         ]
        },
        {
         "hoverinfo": "skip",
         "legendgroup": "Chains",
         "line": {
          "color": "black",
          "dash": "dash",
          "width": 3
         },
         "mode": "lines",
         "name": "Chains",
         "showlegend": false,
         "type": "scatter3d",
         "visible": true,
         "x": [
          0.3601265264628424,
          0.3601265264628424
         ],
         "y": [
          0.36012652646284243,
          0.36012652646284243
         ],
         "z": [
          0.9750000000000001,
          0.9750000000000001
         ]
        },
        {
         "hoverinfo": "skip",
         "legendgroup": "Chains",
         "line": {
          "color": "black",
          "dash": "dash",
          "width": 3
         },
         "mode": "lines",
         "name": "Chains",
         "showlegend": false,
         "type": "scatter3d",
         "visible": true,
         "x": [
          0.3601265264628424,
          0.3601265264628424
         ],
         "y": [
          0.36012652646284243,
          0.36012652646284243
         ],
         "z": [
          0.9750000000000001,
          0.9750000000000001
         ]
        },
        {
         "hoverinfo": "skip",
         "legendgroup": "Chains",
         "line": {
          "color": "black",
          "dash": "dash",
          "width": 3
         },
         "mode": "lines",
         "name": "Chains",
         "showlegend": false,
         "type": "scatter3d",
         "visible": true,
         "x": [
          0.36012652646284243,
          0.36012652646284243
         ],
         "y": [
          -0.3601265264628424,
          -0.3601265264628424
         ],
         "z": [
          0.9750000000000001,
          0.9750000000000001
         ]
        },
        {
         "hoverinfo": "skip",
         "legendgroup": "Chains",
         "line": {
          "color": "black",
          "dash": "dash",
          "width": 3
         },
         "mode": "lines",
         "name": "Chains",
         "showlegend": false,
         "type": "scatter3d",
         "visible": true,
         "x": [
          0.36012652646284243,
          0.36012652646284243
         ],
         "y": [
          -0.3601265264628424,
          -0.3601265264628424
         ],
         "z": [
          0.9750000000000001,
          0.9750000000000001
         ]
        },
        {
         "hoverinfo": "skip",
         "legendgroup": "Chains",
         "line": {
          "color": "black",
          "dash": "dash",
          "width": 3
         },
         "mode": "lines",
         "name": "Chains",
         "showlegend": false,
         "type": "scatter3d",
         "visible": true,
         "x": [
          0.36012652646284243,
          0.36012652646284243
         ],
         "y": [
          -0.3601265264628424,
          -0.3601265264628424
         ],
         "z": [
          0.9750000000000001,
          0.9750000000000001
         ]
        },
        {
         "hoverinfo": "skip",
         "legendgroup": "Chains",
         "line": {
          "color": "black",
          "dash": "dash",
          "width": 3
         },
         "mode": "lines",
         "name": "Chains",
         "showlegend": false,
         "type": "scatter3d",
         "visible": true,
         "x": [
          0.36012652646284243,
          0.36012652646284243
         ],
         "y": [
          -0.3601265264628424,
          -0.3601265264628424
         ],
         "z": [
          0.9750000000000001,
          0.9750000000000001
         ]
        },
        {
         "hoverinfo": "skip",
         "legendgroup": "Chains",
         "line": {
          "color": "black",
          "dash": "dash",
          "width": 3
         },
         "mode": "lines",
         "name": "Chains",
         "showlegend": false,
         "type": "scatter3d",
         "visible": true,
         "x": [
          -0.3601265264628424,
          -0.3601265264628424
         ],
         "y": [
          -0.3601265264628425,
          -0.3601265264628425
         ],
         "z": [
          0.9750000000000001,
          0.9750000000000001
         ]
        },
        {
         "hoverinfo": "skip",
         "legendgroup": "Chains",
         "line": {
          "color": "black",
          "dash": "dash",
          "width": 3
         },
         "mode": "lines",
         "name": "Chains",
         "showlegend": false,
         "type": "scatter3d",
         "visible": true,
         "x": [
          -0.3601265264628424,
          -0.3601265264628424
         ],
         "y": [
          -0.3601265264628425,
          -0.3601265264628425
         ],
         "z": [
          0.9750000000000001,
          0.9750000000000001
         ]
        },
        {
         "hoverinfo": "skip",
         "legendgroup": "Chains",
         "line": {
          "color": "black",
          "dash": "dash",
          "width": 3
         },
         "mode": "lines",
         "name": "Chains",
         "showlegend": false,
         "type": "scatter3d",
         "visible": true,
         "x": [
          -0.3601265264628424,
          -0.3601265264628424
         ],
         "y": [
          -0.3601265264628425,
          -0.3601265264628425
         ],
         "z": [
          0.9750000000000001,
          0.9750000000000001
         ]
        },
        {
         "hoverinfo": "skip",
         "legendgroup": "Chains",
         "line": {
          "color": "black",
          "dash": "dash",
          "width": 3
         },
         "mode": "lines",
         "name": "Chains",
         "showlegend": false,
         "type": "scatter3d",
         "visible": true,
         "x": [
          -0.3601265264628424,
          -0.3601265264628424
         ],
         "y": [
          -0.3601265264628425,
          -0.3601265264628425
         ],
         "z": [
          0.9750000000000001,
          0.9750000000000001
         ]
        },
        {
         "hoverinfo": "skip",
         "legendgroup": "Chains",
         "line": {
          "color": "black",
          "dash": "dash",
          "width": 3
         },
         "mode": "lines",
         "name": "Chains",
         "showlegend": false,
         "type": "scatter3d",
         "visible": true,
         "x": [
          -0.3601265264628425,
          -0.3601265264628425
         ],
         "y": [
          0.3601265264628423,
          0.3601265264628423
         ],
         "z": [
          0.9750000000000001,
          0.9750000000000001
         ]
        },
        {
         "hoverinfo": "skip",
         "legendgroup": "Chains",
         "line": {
          "color": "black",
          "dash": "dash",
          "width": 3
         },
         "mode": "lines",
         "name": "Chains",
         "showlegend": false,
         "type": "scatter3d",
         "visible": true,
         "x": [
          -0.3601265264628425,
          -0.3601265264628425
         ],
         "y": [
          0.3601265264628423,
          0.3601265264628423
         ],
         "z": [
          0.9750000000000001,
          0.9750000000000001
         ]
        },
        {
         "hoverinfo": "skip",
         "legendgroup": "Chains",
         "line": {
          "color": "black",
          "dash": "dash",
          "width": 3
         },
         "mode": "lines",
         "name": "Chains",
         "showlegend": false,
         "type": "scatter3d",
         "visible": true,
         "x": [
          -0.3601265264628425,
          -0.3601265264628425
         ],
         "y": [
          0.3601265264628423,
          0.3601265264628423
         ],
         "z": [
          0.9750000000000001,
          0.9750000000000001
         ]
        },
        {
         "hoverinfo": "skip",
         "legendgroup": "Chains",
         "line": {
          "color": "black",
          "dash": "dash",
          "width": 3
         },
         "mode": "lines",
         "name": "Chains",
         "showlegend": false,
         "type": "scatter3d",
         "visible": true,
         "x": [
          -0.3601265264628425,
          -0.3601265264628425
         ],
         "y": [
          0.3601265264628423,
          0.3601265264628423
         ],
         "z": [
          0.9750000000000001,
          0.9750000000000001
         ]
        },
        {
         "hoverinfo": "skip",
         "legendgroup": "Chains",
         "line": {
          "color": "black",
          "dash": "dash",
          "width": 3
         },
         "mode": "lines",
         "name": "Chains",
         "showlegend": false,
         "type": "scatter3d",
         "visible": true,
         "x": [
          0.3819718634205491,
          0.3601265264628424
         ],
         "y": [
          -0.6615946745061504,
          0.36012652646284243
         ],
         "z": [
          1.6500000000000001,
          0.9750000000000001
         ]
        },
        {
         "hoverinfo": "skip",
         "legendgroup": "Chains",
         "line": {
          "color": "black",
          "dash": "dash",
          "width": 3
         },
         "mode": "lines",
         "name": "Chains",
         "showlegend": false,
         "type": "scatter3d",
         "visible": true,
         "x": [
          0.3819718634205491,
          0.3601265264628424
         ],
         "y": [
          -0.6615946745061504,
          0.36012652646284243
         ],
         "z": [
          1.6500000000000001,
          0.9750000000000001
         ]
        },
        {
         "hoverinfo": "skip",
         "legendgroup": "Chains",
         "line": {
          "color": "black",
          "dash": "dash",
          "width": 3
         },
         "mode": "lines",
         "name": "Chains",
         "showlegend": false,
         "type": "scatter3d",
         "visible": true,
         "x": [
          0.3819718634205491,
          -0.3601265264628425
         ],
         "y": [
          -0.6615946745061504,
          0.3601265264628423
         ],
         "z": [
          1.6500000000000001,
          0.9750000000000001
         ]
        },
        {
         "hoverinfo": "skip",
         "legendgroup": "Chains",
         "line": {
          "color": "black",
          "dash": "dash",
          "width": 3
         },
         "mode": "lines",
         "name": "Chains",
         "showlegend": false,
         "type": "scatter3d",
         "visible": true,
         "x": [
          0.3819718634205491,
          -0.3601265264628425
         ],
         "y": [
          -0.6615946745061504,
          0.3601265264628423
         ],
         "z": [
          1.6500000000000001,
          0.9750000000000001
         ]
        },
        {
         "hoverinfo": "skip",
         "legendgroup": "Chains",
         "line": {
          "color": "black",
          "dash": "dash",
          "width": 3
         },
         "mode": "lines",
         "name": "Chains",
         "showlegend": false,
         "type": "scatter3d",
         "visible": true,
         "x": [
          0.3819718634205491,
          0.3601265264628424
         ],
         "y": [
          -0.6615946745061504,
          0.36012652646284243
         ],
         "z": [
          1.6500000000000001,
          0.9750000000000001
         ]
        },
        {
         "hoverinfo": "skip",
         "legendgroup": "Chains",
         "line": {
          "color": "black",
          "dash": "dash",
          "width": 3
         },
         "mode": "lines",
         "name": "Chains",
         "showlegend": false,
         "type": "scatter3d",
         "visible": true,
         "x": [
          0.3819718634205491,
          0.3601265264628424
         ],
         "y": [
          -0.6615946745061504,
          0.36012652646284243
         ],
         "z": [
          1.6500000000000001,
          0.9750000000000001
         ]
        },
        {
         "hoverinfo": "skip",
         "legendgroup": "Chains",
         "line": {
          "color": "black",
          "dash": "dash",
          "width": 3
         },
         "mode": "lines",
         "name": "Chains",
         "showlegend": false,
         "type": "scatter3d",
         "visible": true,
         "x": [
          0.3819718634205491,
          -0.3601265264628425
         ],
         "y": [
          -0.6615946745061504,
          0.3601265264628423
         ],
         "z": [
          1.6500000000000001,
          0.9750000000000001
         ]
        },
        {
         "hoverinfo": "skip",
         "legendgroup": "Chains",
         "line": {
          "color": "black",
          "dash": "dash",
          "width": 3
         },
         "mode": "lines",
         "name": "Chains",
         "showlegend": false,
         "type": "scatter3d",
         "visible": true,
         "x": [
          0.3819718634205491,
          -0.3601265264628425
         ],
         "y": [
          -0.6615946745061504,
          0.3601265264628423
         ],
         "z": [
          1.6500000000000001,
          0.9750000000000001
         ]
        },
        {
         "hoverinfo": "skip",
         "legendgroup": "Chains",
         "line": {
          "color": "black",
          "dash": "dash",
          "width": 3
         },
         "mode": "lines",
         "name": "Chains",
         "showlegend": false,
         "type": "scatter3d",
         "visible": true,
         "x": [
          -0.7639437268410977,
          0.36012652646284243
         ],
         "y": [
          -1.4033418597069753e-16,
          -0.3601265264628424
         ],
         "z": [
          1.6500000000000001,
          0.9750000000000001
         ]
        },
        {
         "hoverinfo": "skip",
         "legendgroup": "Chains",
         "line": {
          "color": "black",
          "dash": "dash",
          "width": 3
         },
         "mode": "lines",
         "name": "Chains",
         "showlegend": false,
         "type": "scatter3d",
         "visible": true,
         "x": [
          -0.7639437268410977,
          0.36012652646284243
         ],
         "y": [
          -1.4033418597069753e-16,
          -0.3601265264628424
         ],
         "z": [
          1.6500000000000001,
          0.9750000000000001
         ]
        },
        {
         "hoverinfo": "skip",
         "legendgroup": "Chains",
         "line": {
          "color": "black",
          "dash": "dash",
          "width": 3
         },
         "mode": "lines",
         "name": "Chains",
         "showlegend": false,
         "type": "scatter3d",
         "visible": true,
         "x": [
          -0.7639437268410977,
          -0.3601265264628425
         ],
         "y": [
          -1.4033418597069753e-16,
          0.3601265264628423
         ],
         "z": [
          1.6500000000000001,
          0.9750000000000001
         ]
        },
        {
         "hoverinfo": "skip",
         "legendgroup": "Chains",
         "line": {
          "color": "black",
          "dash": "dash",
          "width": 3
         },
         "mode": "lines",
         "name": "Chains",
         "showlegend": false,
         "type": "scatter3d",
         "visible": true,
         "x": [
          -0.7639437268410977,
          -0.3601265264628425
         ],
         "y": [
          -1.4033418597069753e-16,
          0.3601265264628423
         ],
         "z": [
          1.6500000000000001,
          0.9750000000000001
         ]
        },
        {
         "hoverinfo": "skip",
         "legendgroup": "Chains",
         "line": {
          "color": "black",
          "dash": "dash",
          "width": 3
         },
         "mode": "lines",
         "name": "Chains",
         "showlegend": false,
         "type": "scatter3d",
         "visible": true,
         "x": [
          -0.7639437268410977,
          0.36012652646284243
         ],
         "y": [
          -1.4033418597069753e-16,
          -0.3601265264628424
         ],
         "z": [
          1.6500000000000001,
          0.9750000000000001
         ]
        },
        {
         "hoverinfo": "skip",
         "legendgroup": "Chains",
         "line": {
          "color": "black",
          "dash": "dash",
          "width": 3
         },
         "mode": "lines",
         "name": "Chains",
         "showlegend": false,
         "type": "scatter3d",
         "visible": true,
         "x": [
          -0.7639437268410977,
          0.36012652646284243
         ],
         "y": [
          -1.4033418597069753e-16,
          -0.3601265264628424
         ],
         "z": [
          1.6500000000000001,
          0.9750000000000001
         ]
        },
        {
         "hoverinfo": "skip",
         "legendgroup": "Chains",
         "line": {
          "color": "black",
          "dash": "dash",
          "width": 3
         },
         "mode": "lines",
         "name": "Chains",
         "showlegend": false,
         "type": "scatter3d",
         "visible": true,
         "x": [
          -0.7639437268410977,
          -0.3601265264628425
         ],
         "y": [
          -1.4033418597069753e-16,
          0.3601265264628423
         ],
         "z": [
          1.6500000000000001,
          0.9750000000000001
         ]
        },
        {
         "hoverinfo": "skip",
         "legendgroup": "Chains",
         "line": {
          "color": "black",
          "dash": "dash",
          "width": 3
         },
         "mode": "lines",
         "name": "Chains",
         "showlegend": false,
         "type": "scatter3d",
         "visible": true,
         "x": [
          -0.7639437268410977,
          -0.3601265264628425
         ],
         "y": [
          -1.4033418597069753e-16,
          0.3601265264628423
         ],
         "z": [
          1.6500000000000001,
          0.9750000000000001
         ]
        },
        {
         "hoverinfo": "skip",
         "legendgroup": "Chains",
         "line": {
          "color": "black",
          "dash": "dash",
          "width": 3
         },
         "mode": "lines",
         "name": "Chains",
         "showlegend": false,
         "type": "scatter3d",
         "visible": true,
         "x": [
          -0.3819718634205492,
          -0.3601265264628424
         ],
         "y": [
          0.6615946745061503,
          -0.3601265264628425
         ],
         "z": [
          1.6500000000000001,
          0.9750000000000001
         ]
        },
        {
         "hoverinfo": "skip",
         "legendgroup": "Chains",
         "line": {
          "color": "black",
          "dash": "dash",
          "width": 3
         },
         "mode": "lines",
         "name": "Chains",
         "showlegend": false,
         "type": "scatter3d",
         "visible": true,
         "x": [
          -0.3819718634205492,
          -0.3601265264628424
         ],
         "y": [
          0.6615946745061503,
          -0.3601265264628425
         ],
         "z": [
          1.6500000000000001,
          0.9750000000000001
         ]
        },
        {
         "hoverinfo": "skip",
         "legendgroup": "Chains",
         "line": {
          "color": "black",
          "dash": "dash",
          "width": 3
         },
         "mode": "lines",
         "name": "Chains",
         "showlegend": false,
         "type": "scatter3d",
         "visible": true,
         "x": [
          -0.3819718634205492,
          -0.3601265264628425
         ],
         "y": [
          0.6615946745061503,
          0.3601265264628423
         ],
         "z": [
          1.6500000000000001,
          0.9750000000000001
         ]
        },
        {
         "hoverinfo": "skip",
         "legendgroup": "Chains",
         "line": {
          "color": "black",
          "dash": "dash",
          "width": 3
         },
         "mode": "lines",
         "name": "Chains",
         "showlegend": false,
         "type": "scatter3d",
         "visible": true,
         "x": [
          -0.3819718634205492,
          -0.3601265264628425
         ],
         "y": [
          0.6615946745061503,
          0.3601265264628423
         ],
         "z": [
          1.6500000000000001,
          0.9750000000000001
         ]
        },
        {
         "hoverinfo": "skip",
         "legendgroup": "Chains",
         "line": {
          "color": "black",
          "dash": "dash",
          "width": 3
         },
         "mode": "lines",
         "name": "Chains",
         "showlegend": false,
         "type": "scatter3d",
         "visible": true,
         "x": [
          -0.3819718634205492,
          -0.3601265264628424
         ],
         "y": [
          0.6615946745061503,
          -0.3601265264628425
         ],
         "z": [
          1.6500000000000001,
          0.9750000000000001
         ]
        },
        {
         "hoverinfo": "skip",
         "legendgroup": "Chains",
         "line": {
          "color": "black",
          "dash": "dash",
          "width": 3
         },
         "mode": "lines",
         "name": "Chains",
         "showlegend": false,
         "type": "scatter3d",
         "visible": true,
         "x": [
          -0.3819718634205492,
          -0.3601265264628424
         ],
         "y": [
          0.6615946745061503,
          -0.3601265264628425
         ],
         "z": [
          1.6500000000000001,
          0.9750000000000001
         ]
        },
        {
         "hoverinfo": "skip",
         "legendgroup": "Chains",
         "line": {
          "color": "black",
          "dash": "dash",
          "width": 3
         },
         "mode": "lines",
         "name": "Chains",
         "showlegend": false,
         "type": "scatter3d",
         "visible": true,
         "x": [
          -0.3819718634205492,
          -0.3601265264628425
         ],
         "y": [
          0.6615946745061503,
          0.3601265264628423
         ],
         "z": [
          1.6500000000000001,
          0.9750000000000001
         ]
        },
        {
         "hoverinfo": "skip",
         "legendgroup": "Chains",
         "line": {
          "color": "black",
          "dash": "dash",
          "width": 3
         },
         "mode": "lines",
         "name": "Chains",
         "showlegend": false,
         "type": "scatter3d",
         "visible": true,
         "x": [
          -0.3819718634205492,
          -0.3601265264628425
         ],
         "y": [
          0.6615946745061503,
          0.3601265264628423
         ],
         "z": [
          1.6500000000000001,
          0.9750000000000001
         ]
        },
        {
         "hoverinfo": "skip",
         "legendgroup": "Chains",
         "line": {
          "color": "black",
          "dash": "dash",
          "width": 3
         },
         "mode": "lines",
         "name": "Chains",
         "showlegend": false,
         "type": "scatter3d",
         "visible": true,
         "x": [
          0.3601265264628424,
          0.3601265264628424
         ],
         "y": [
          0.36012652646284243,
          0.36012652646284243
         ],
         "z": [
          2.325,
          0.9750000000000001
         ]
        },
        {
         "hoverinfo": "skip",
         "legendgroup": "Chains",
         "line": {
          "color": "black",
          "dash": "dash",
          "width": 3
         },
         "mode": "lines",
         "name": "Chains",
         "showlegend": false,
         "type": "scatter3d",
         "visible": true,
         "x": [
          0.3601265264628424,
          0.3601265264628424
         ],
         "y": [
          0.36012652646284243,
          0.36012652646284243
         ],
         "z": [
          2.325,
          0.9750000000000001
         ]
        },
        {
         "hoverinfo": "skip",
         "legendgroup": "Chains",
         "line": {
          "color": "black",
          "dash": "dash",
          "width": 3
         },
         "mode": "lines",
         "name": "Chains",
         "showlegend": false,
         "type": "scatter3d",
         "visible": true,
         "x": [
          0.3601265264628424,
          0.36012652646284243
         ],
         "y": [
          0.36012652646284243,
          -0.3601265264628424
         ],
         "z": [
          2.325,
          0.9750000000000001
         ]
        },
        {
         "hoverinfo": "skip",
         "legendgroup": "Chains",
         "line": {
          "color": "black",
          "dash": "dash",
          "width": 3
         },
         "mode": "lines",
         "name": "Chains",
         "showlegend": false,
         "type": "scatter3d",
         "visible": true,
         "x": [
          0.3601265264628424,
          0.36012652646284243
         ],
         "y": [
          0.36012652646284243,
          -0.3601265264628424
         ],
         "z": [
          2.325,
          0.9750000000000001
         ]
        },
        {
         "hoverinfo": "skip",
         "legendgroup": "Chains",
         "line": {
          "color": "black",
          "dash": "dash",
          "width": 3
         },
         "mode": "lines",
         "name": "Chains",
         "showlegend": false,
         "type": "scatter3d",
         "visible": true,
         "x": [
          0.3601265264628424,
          -0.3601265264628424
         ],
         "y": [
          0.36012652646284243,
          -0.3601265264628425
         ],
         "z": [
          2.325,
          0.9750000000000001
         ]
        },
        {
         "hoverinfo": "skip",
         "legendgroup": "Chains",
         "line": {
          "color": "black",
          "dash": "dash",
          "width": 3
         },
         "mode": "lines",
         "name": "Chains",
         "showlegend": false,
         "type": "scatter3d",
         "visible": true,
         "x": [
          0.3601265264628424,
          -0.3601265264628424
         ],
         "y": [
          0.36012652646284243,
          -0.3601265264628425
         ],
         "z": [
          2.325,
          0.9750000000000001
         ]
        },
        {
         "hoverinfo": "skip",
         "legendgroup": "Chains",
         "line": {
          "color": "black",
          "dash": "dash",
          "width": 3
         },
         "mode": "lines",
         "name": "Chains",
         "showlegend": false,
         "type": "scatter3d",
         "visible": true,
         "x": [
          0.3601265264628424,
          0.3601265264628424
         ],
         "y": [
          0.36012652646284243,
          0.36012652646284243
         ],
         "z": [
          2.325,
          0.9750000000000001
         ]
        },
        {
         "hoverinfo": "skip",
         "legendgroup": "Chains",
         "line": {
          "color": "black",
          "dash": "dash",
          "width": 3
         },
         "mode": "lines",
         "name": "Chains",
         "showlegend": false,
         "type": "scatter3d",
         "visible": true,
         "x": [
          0.3601265264628424,
          0.3601265264628424
         ],
         "y": [
          0.36012652646284243,
          0.36012652646284243
         ],
         "z": [
          2.325,
          0.9750000000000001
         ]
        },
        {
         "hoverinfo": "skip",
         "legendgroup": "Chains",
         "line": {
          "color": "black",
          "dash": "dash",
          "width": 3
         },
         "mode": "lines",
         "name": "Chains",
         "showlegend": false,
         "type": "scatter3d",
         "visible": true,
         "x": [
          0.3601265264628424,
          0.36012652646284243
         ],
         "y": [
          0.36012652646284243,
          -0.3601265264628424
         ],
         "z": [
          2.325,
          0.9750000000000001
         ]
        },
        {
         "hoverinfo": "skip",
         "legendgroup": "Chains",
         "line": {
          "color": "black",
          "dash": "dash",
          "width": 3
         },
         "mode": "lines",
         "name": "Chains",
         "showlegend": false,
         "type": "scatter3d",
         "visible": true,
         "x": [
          0.3601265264628424,
          0.36012652646284243
         ],
         "y": [
          0.36012652646284243,
          -0.3601265264628424
         ],
         "z": [
          2.325,
          0.9750000000000001
         ]
        },
        {
         "hoverinfo": "skip",
         "legendgroup": "Chains",
         "line": {
          "color": "black",
          "dash": "dash",
          "width": 3
         },
         "mode": "lines",
         "name": "Chains",
         "showlegend": false,
         "type": "scatter3d",
         "visible": true,
         "x": [
          0.3601265264628424,
          -0.3601265264628424
         ],
         "y": [
          0.36012652646284243,
          -0.3601265264628425
         ],
         "z": [
          2.325,
          0.9750000000000001
         ]
        },
        {
         "hoverinfo": "skip",
         "legendgroup": "Chains",
         "line": {
          "color": "black",
          "dash": "dash",
          "width": 3
         },
         "mode": "lines",
         "name": "Chains",
         "showlegend": false,
         "type": "scatter3d",
         "visible": true,
         "x": [
          0.3601265264628424,
          -0.3601265264628424
         ],
         "y": [
          0.36012652646284243,
          -0.3601265264628425
         ],
         "z": [
          2.325,
          0.9750000000000001
         ]
        },
        {
         "hoverinfo": "skip",
         "legendgroup": "Chains",
         "line": {
          "color": "black",
          "dash": "dash",
          "width": 3
         },
         "mode": "lines",
         "name": "Chains",
         "showlegend": false,
         "type": "scatter3d",
         "visible": true,
         "x": [
          -0.3601265264628424,
          0.3601265264628424
         ],
         "y": [
          -0.3601265264628425,
          0.36012652646284243
         ],
         "z": [
          2.325,
          0.9750000000000001
         ]
        },
        {
         "hoverinfo": "skip",
         "legendgroup": "Chains",
         "line": {
          "color": "black",
          "dash": "dash",
          "width": 3
         },
         "mode": "lines",
         "name": "Chains",
         "showlegend": false,
         "type": "scatter3d",
         "visible": true,
         "x": [
          -0.3601265264628424,
          0.3601265264628424
         ],
         "y": [
          -0.3601265264628425,
          0.36012652646284243
         ],
         "z": [
          2.325,
          0.9750000000000001
         ]
        },
        {
         "hoverinfo": "skip",
         "legendgroup": "Chains",
         "line": {
          "color": "black",
          "dash": "dash",
          "width": 3
         },
         "mode": "lines",
         "name": "Chains",
         "showlegend": false,
         "type": "scatter3d",
         "visible": true,
         "x": [
          -0.3601265264628424,
          -0.3601265264628424
         ],
         "y": [
          -0.3601265264628425,
          -0.3601265264628425
         ],
         "z": [
          2.325,
          0.9750000000000001
         ]
        },
        {
         "hoverinfo": "skip",
         "legendgroup": "Chains",
         "line": {
          "color": "black",
          "dash": "dash",
          "width": 3
         },
         "mode": "lines",
         "name": "Chains",
         "showlegend": false,
         "type": "scatter3d",
         "visible": true,
         "x": [
          -0.3601265264628424,
          -0.3601265264628424
         ],
         "y": [
          -0.3601265264628425,
          -0.3601265264628425
         ],
         "z": [
          2.325,
          0.9750000000000001
         ]
        },
        {
         "hoverinfo": "skip",
         "legendgroup": "Chains",
         "line": {
          "color": "black",
          "dash": "dash",
          "width": 3
         },
         "mode": "lines",
         "name": "Chains",
         "showlegend": false,
         "type": "scatter3d",
         "visible": true,
         "x": [
          -0.3601265264628424,
          -0.3601265264628425
         ],
         "y": [
          -0.3601265264628425,
          0.3601265264628423
         ],
         "z": [
          2.325,
          0.9750000000000001
         ]
        },
        {
         "hoverinfo": "skip",
         "legendgroup": "Chains",
         "line": {
          "color": "black",
          "dash": "dash",
          "width": 3
         },
         "mode": "lines",
         "name": "Chains",
         "showlegend": false,
         "type": "scatter3d",
         "visible": true,
         "x": [
          -0.3601265264628424,
          -0.3601265264628425
         ],
         "y": [
          -0.3601265264628425,
          0.3601265264628423
         ],
         "z": [
          2.325,
          0.9750000000000001
         ]
        },
        {
         "hoverinfo": "skip",
         "legendgroup": "Chains",
         "line": {
          "color": "black",
          "dash": "dash",
          "width": 3
         },
         "mode": "lines",
         "name": "Chains",
         "showlegend": false,
         "type": "scatter3d",
         "visible": true,
         "x": [
          -0.3601265264628424,
          0.3601265264628424
         ],
         "y": [
          -0.3601265264628425,
          0.36012652646284243
         ],
         "z": [
          2.325,
          0.9750000000000001
         ]
        },
        {
         "hoverinfo": "skip",
         "legendgroup": "Chains",
         "line": {
          "color": "black",
          "dash": "dash",
          "width": 3
         },
         "mode": "lines",
         "name": "Chains",
         "showlegend": false,
         "type": "scatter3d",
         "visible": true,
         "x": [
          -0.3601265264628424,
          0.3601265264628424
         ],
         "y": [
          -0.3601265264628425,
          0.36012652646284243
         ],
         "z": [
          2.325,
          0.9750000000000001
         ]
        },
        {
         "hoverinfo": "skip",
         "legendgroup": "Chains",
         "line": {
          "color": "black",
          "dash": "dash",
          "width": 3
         },
         "mode": "lines",
         "name": "Chains",
         "showlegend": false,
         "type": "scatter3d",
         "visible": true,
         "x": [
          -0.3601265264628424,
          -0.3601265264628424
         ],
         "y": [
          -0.3601265264628425,
          -0.3601265264628425
         ],
         "z": [
          2.325,
          0.9750000000000001
         ]
        },
        {
         "hoverinfo": "skip",
         "legendgroup": "Chains",
         "line": {
          "color": "black",
          "dash": "dash",
          "width": 3
         },
         "mode": "lines",
         "name": "Chains",
         "showlegend": false,
         "type": "scatter3d",
         "visible": true,
         "x": [
          -0.3601265264628424,
          -0.3601265264628424
         ],
         "y": [
          -0.3601265264628425,
          -0.3601265264628425
         ],
         "z": [
          2.325,
          0.9750000000000001
         ]
        },
        {
         "hoverinfo": "skip",
         "legendgroup": "Chains",
         "line": {
          "color": "black",
          "dash": "dash",
          "width": 3
         },
         "mode": "lines",
         "name": "Chains",
         "showlegend": false,
         "type": "scatter3d",
         "visible": true,
         "x": [
          -0.3601265264628424,
          -0.3601265264628425
         ],
         "y": [
          -0.3601265264628425,
          0.3601265264628423
         ],
         "z": [
          2.325,
          0.9750000000000001
         ]
        },
        {
         "hoverinfo": "skip",
         "legendgroup": "Chains",
         "line": {
          "color": "black",
          "dash": "dash",
          "width": 3
         },
         "mode": "lines",
         "name": "Chains",
         "showlegend": false,
         "type": "scatter3d",
         "visible": true,
         "x": [
          -0.3601265264628424,
          -0.3601265264628425
         ],
         "y": [
          -0.3601265264628425,
          0.3601265264628423
         ],
         "z": [
          2.325,
          0.9750000000000001
         ]
        },
        {
         "hoverinfo": "text",
         "hovertext": "<br>=2-Relation=<br><br>Distinction 0: B<br>Direction: CAUSE<br>Purview: B<br>φ = 0.2328<br>State: [1]<br><br>Distinction 1: B<br>Direction: EFFECT<br>Purview: B<br>φ = 0.3524<br>State: [1]<br><br>Relation purview: B<br>Relation φ = 0.2328<br>",
         "legendgroup": "All 2-Relations",
         "line": {
          "color": "cyan",
          "width": 1.9499632773941473
         },
         "mode": "lines",
         "name": "All 2-Relations",
         "showlegend": true,
         "type": "scatter3d",
         "visible": true,
         "x": [
          0.8752372371178296,
          0.47523723711782956
         ],
         "y": [
          -0.6752372371178295,
          -0.6752372371178295
         ],
         "z": [
          0,
          0
         ]
        },
        {
         "hoverinfo": "text",
         "hovertext": "<br>=2-Relation=<br><br>Distinction 0: CD<br>Direction: EFFECT<br>Purview: BC<br>φ = 0.0056<br>State: [0, 0]<br><br>Distinction 1: C<br>Direction: EFFECT<br>Purview: C<br>φ = 0.6273<br>State: [0]<br><br>Relation purview: C<br>Relation φ = 0.2054<br>",
         "legendgroup": "All 2-Relations",
         "line": {
          "color": "indigo",
          "width": 1.8369368252958198
         },
         "mode": "lines",
         "name": "All 2-Relations",
         "showlegend": false,
         "type": "scatter3d",
         "visible": true,
         "x": [
          -0.8752372371178294,
          -1.1549296585513715
         ],
         "y": [
          -0.6752372371178297,
          -1.6539866862653765
         ],
         "z": [
          0,
          2
         ]
        },
        {
         "hoverinfo": "text",
         "hovertext": "<br>=2-Relation=<br><br>Distinction 0: B<br>Direction: CAUSE<br>Purview: B<br>φ = 0.2328<br>State: [1]<br><br>Distinction 1: BD<br>Direction: EFFECT<br>Purview: AB<br>φ = 0.0028<br>State: [1, 1]<br><br>Relation purview: B<br>Relation φ = 0.1496<br>",
         "legendgroup": "All 2-Relations",
         "line": {
          "color": "indigo",
          "width": 1.606682881814971
         },
         "mode": "lines",
         "name": "All 2-Relations",
         "showlegend": false,
         "type": "scatter3d",
         "visible": true,
         "x": [
          0.8752372371178296,
          0.7549296585513718
         ],
         "y": [
          -0.6752372371178295,
          1.6539866862653763
         ],
         "z": [
          0,
          2
         ]
        },
        {
         "hoverinfo": "text",
         "hovertext": "<br>=2-Relation=<br><br>Distinction 0: ACD<br>Direction: CAUSE<br>Purview: ABCD<br>φ = 0.2045<br>State: [0, 1, 0, 1]<br><br>Distinction 1: ACD<br>Direction: EFFECT<br>Purview: BD<br>φ = 0.0656<br>State: [0, 1]<br><br>Relation purview: D<br>Relation φ = 0.0891<br>",
         "legendgroup": "All 2-Relations",
         "line": {
          "color": "indigo",
          "width": 1.3568581445626344
         },
         "mode": "lines",
         "name": "All 2-Relations",
         "showlegend": false,
         "type": "scatter3d",
         "visible": true,
         "x": [
          0,
          -2.109859317102744
         ],
         "y": [
          0,
          -3.875748689011644e-16
         ],
         "z": [
          3.75,
          2
         ]
        },
        {
         "hoverinfo": "text",
         "hovertext": "<br>=2-Relation=<br><br>Distinction 0: ACD<br>Direction: CAUSE<br>Purview: ABCD<br>φ = 0.2045<br>State: [0, 1, 0, 1]<br><br>Distinction 1: ABC<br>Direction: EFFECT<br>Purview: ABC<br>φ = 0.0235<br>State: [0, 1, 0]<br><br>Relation purview: AC<br>Relation φ = 0.0644<br>",
         "legendgroup": "All 2-Relations",
         "line": {
          "color": "indigo",
          "width": 1.2549617001622821
         },
         "mode": "lines",
         "name": "All 2-Relations",
         "showlegend": false,
         "type": "scatter3d",
         "visible": true,
         "x": [
          1.1253953951963827,
          0
         ],
         "y": [
          1.1253953951963829,
          0
         ],
         "z": [
          3,
          3.75
         ]
        },
        {
         "hoverinfo": "text",
         "hovertext": "<br>=2-Relation=<br><br>Distinction 0: ACD<br>Direction: CAUSE<br>Purview: ABCD<br>φ = 0.2045<br>State: [0, 1, 0, 1]<br><br>Distinction 1: CD<br>Direction: EFFECT<br>Purview: BC<br>φ = 0.0056<br>State: [0, 0]<br><br>Relation purview: C<br>Relation φ = 0.2054<br>",
         "legendgroup": "All 2-Relations",
         "line": {
          "color": "indigo",
          "width": 1.8369368252958198
         },
         "mode": "lines",
         "name": "All 2-Relations",
         "showlegend": false,
         "type": "scatter3d",
         "visible": true,
         "x": [
          -1.1549296585513715,
          0
         ],
         "y": [
          -1.6539866862653765,
          0
         ],
         "z": [
          2,
          3.75
         ]
        },
        {
         "hoverinfo": "text",
         "hovertext": "<br>=2-Relation=<br><br>Distinction 0: BD<br>Direction: EFFECT<br>Purview: AB<br>φ = 0.0028<br>State: [1, 1]<br><br>Distinction 1: B<br>Direction: EFFECT<br>Purview: B<br>φ = 0.3524<br>State: [1]<br><br>Relation purview: B<br>Relation φ = 0.1496<br>",
         "legendgroup": "All 2-Relations",
         "line": {
          "color": "indigo",
          "width": 1.606682881814971
         },
         "mode": "lines",
         "name": "All 2-Relations",
         "showlegend": false,
         "type": "scatter3d",
         "visible": true,
         "x": [
          0.47523723711782956,
          0.7549296585513718
         ],
         "y": [
          -0.6752372371178295,
          1.6539866862653763
         ],
         "z": [
          0,
          2
         ]
        },
        {
         "hoverinfo": "text",
         "hovertext": "<br>=2-Relation=<br><br>Distinction 0: C<br>Direction: CAUSE<br>Purview: C<br>φ = 0.486<br>State: [0]<br><br>Distinction 1: D<br>Direction: EFFECT<br>Purview: AC<br>φ = 0.0052<br>State: [0, 0]<br><br>Relation purview: C<br>Relation φ = 0.0026<br>",
         "legendgroup": "All 2-Relations",
         "line": {
          "color": "indigo",
          "width": 1.0000000000000009
         },
         "mode": "lines",
         "name": "All 2-Relations",
         "showlegend": false,
         "type": "scatter3d",
         "visible": true,
         "x": [
          -0.47523723711782945,
          1.709859317102744
         ],
         "y": [
          -0.6752372371178297,
          8.020575100116068e-17
         ],
         "z": [
          0,
          2
         ]
        },
        {
         "hoverinfo": "text",
         "hovertext": "<br>=2-Relation=<br><br>Distinction 0: D<br>Direction: CAUSE<br>Purview: AC<br>φ = 0.1035<br>State: [1, 0]<br><br>Distinction 1: D<br>Direction: EFFECT<br>Purview: AC<br>φ = 0.0052<br>State: [0, 0]<br><br>Relation purview: A<br>Relation φ = 0.0026<br>",
         "legendgroup": "All 2-Relations",
         "line": {
          "color": "cyan",
          "width": 1
         },
         "mode": "lines",
         "name": "All 2-Relations",
         "showlegend": false,
         "type": "scatter3d",
         "visible": true,
         "x": [
          2.109859317102744,
          1.709859317102744
         ],
         "y": [
          1.291916229670548e-16,
          8.020575100116068e-17
         ],
         "z": [
          2,
          2
         ]
        },
        {
         "hoverinfo": "text",
         "hovertext": "<br>=2-Relation=<br><br>Distinction 0: C<br>Direction: EFFECT<br>Purview: C<br>φ = 0.6273<br>State: [0]<br><br>Distinction 1: ABC<br>Direction: EFFECT<br>Purview: ABC<br>φ = 0.0235<br>State: [0, 1, 0]<br><br>Relation purview: C<br>Relation φ = 0.0322<br>",
         "legendgroup": "All 2-Relations",
         "line": {
          "color": "indigo",
          "width": 1.1221354511939716
         },
         "mode": "lines",
         "name": "All 2-Relations",
         "showlegend": false,
         "type": "scatter3d",
         "visible": true,
         "x": [
          -0.8752372371178294,
          1.1253953951963827
         ],
         "y": [
          -0.6752372371178297,
          1.1253953951963829
         ],
         "z": [
          0,
          3
         ]
        },
        {
         "hoverinfo": "text",
         "hovertext": "<br>=2-Relation=<br><br>Distinction 0: ACD<br>Direction: CAUSE<br>Purview: ABCD<br>φ = 0.2045<br>State: [0, 1, 0, 1]<br><br>Distinction 1: A<br>Direction: EFFECT<br>Purview: A<br>φ = 0.6273<br>State: [0]<br><br>Relation purview: A<br>Relation φ = 0.4873<br>",
         "legendgroup": "All 2-Relations",
         "line": {
          "color": "indigo",
          "width": 3
         },
         "mode": "lines",
         "name": "All 2-Relations",
         "showlegend": false,
         "type": "scatter3d",
         "visible": true,
         "x": [
          0.47523723711782945,
          0
         ],
         "y": [
          0.6752372371178296,
          0
         ],
         "z": [
          0,
          3.75
         ]
        },
        {
         "hoverinfo": "text",
         "hovertext": "<br>=2-Relation=<br><br>Distinction 0: B<br>Direction: CAUSE<br>Purview: B<br>φ = 0.2328<br>State: [1]<br><br>Distinction 1: BD<br>Direction: CAUSE<br>Purview: BD<br>φ = 0.0886<br>State: [1, 0]<br><br>Relation purview: B<br>Relation φ = 0.0189<br>",
         "legendgroup": "All 2-Relations",
         "line": {
          "color": "indigo",
          "width": 1.0674394530687192
         },
         "mode": "lines",
         "name": "All 2-Relations",
         "showlegend": false,
         "type": "scatter3d",
         "visible": true,
         "x": [
          0.8752372371178296,
          -1.709859317102744
         ],
         "y": [
          -0.6752372371178295,
          -3.3858899693527023e-16
         ],
         "z": [
          0,
          2
         ]
        },
        {
         "hoverinfo": "text",
         "hovertext": "<br>=2-Relation=<br><br>Distinction 0: A<br>Direction: CAUSE<br>Purview: A<br>φ = 0.486<br>State: [0]<br><br>Distinction 1: ACD<br>Direction: CAUSE<br>Purview: ABCD<br>φ = 0.2045<br>State: [0, 1, 0, 1]<br><br>Relation purview: A<br>Relation φ = 0.486<br>",
         "legendgroup": "All 2-Relations",
         "line": {
          "color": "indigo",
          "width": 2.9949099018395247
         },
         "mode": "lines",
         "name": "All 2-Relations",
         "showlegend": false,
         "type": "scatter3d",
         "visible": true,
         "x": [
          0.8752372371178294,
          0
         ],
         "y": [
          0.6752372371178296,
          0
         ],
         "z": [
          0,
          3.75
         ]
        },
        {
         "hoverinfo": "text",
         "hovertext": "<br>=2-Relation=<br><br>Distinction 0: ABC<br>Direction: EFFECT<br>Purview: ABC<br>φ = 0.0235<br>State: [0, 1, 0]<br><br>Distinction 1: D<br>Direction: EFFECT<br>Purview: AC<br>φ = 0.0052<br>State: [0, 0]<br><br>Relation purview: AC<br>Relation φ = 0.0052<br>",
         "legendgroup": "All 2-Relations",
         "line": {
          "color": "indigo",
          "width": 1.0106907977743396
         },
         "mode": "lines",
         "name": "All 2-Relations",
         "showlegend": false,
         "type": "scatter3d",
         "visible": true,
         "x": [
          1.709859317102744,
          1.1253953951963827
         ],
         "y": [
          8.020575100116068e-17,
          1.1253953951963829
         ],
         "z": [
          2,
          3
         ]
        },
        {
         "hoverinfo": "text",
         "hovertext": "<br>=2-Relation=<br><br>Distinction 0: D<br>Direction: CAUSE<br>Purview: AC<br>φ = 0.1035<br>State: [1, 0]<br><br>Distinction 1: ABC<br>Direction: EFFECT<br>Purview: ABC<br>φ = 0.0235<br>State: [0, 1, 0]<br><br>Relation purview: A<br>Relation φ = 0.0322<br>",
         "legendgroup": "All 2-Relations",
         "line": {
          "color": "indigo",
          "width": 1.1221354511939718
         },
         "mode": "lines",
         "name": "All 2-Relations",
         "showlegend": false,
         "type": "scatter3d",
         "visible": true,
         "x": [
          2.109859317102744,
          1.1253953951963827
         ],
         "y": [
          1.291916229670548e-16,
          1.1253953951963829
         ],
         "z": [
          2,
          3
         ]
        },
        {
         "hoverinfo": "text",
         "hovertext": "<br>=2-Relation=<br><br>Distinction 0: A<br>Direction: EFFECT<br>Purview: A<br>φ = 0.6273<br>State: [0]<br><br>Distinction 1: ABC<br>Direction: EFFECT<br>Purview: ABC<br>φ = 0.0235<br>State: [0, 1, 0]<br><br>Relation purview: A<br>Relation φ = 0.0322<br>",
         "legendgroup": "All 2-Relations",
         "line": {
          "color": "indigo",
          "width": 1.1221354511939718
         },
         "mode": "lines",
         "name": "All 2-Relations",
         "showlegend": false,
         "type": "scatter3d",
         "visible": true,
         "x": [
          0.47523723711782945,
          1.1253953951963827
         ],
         "y": [
          0.6752372371178296,
          1.1253953951963829
         ],
         "z": [
          0,
          3
         ]
        },
        {
         "hoverinfo": "text",
         "hovertext": "<br>=2-Relation=<br><br>Distinction 0: C<br>Direction: CAUSE<br>Purview: C<br>φ = 0.486<br>State: [0]<br><br>Distinction 1: C<br>Direction: EFFECT<br>Purview: C<br>φ = 0.6273<br>State: [0]<br><br>Relation purview: C<br>Relation φ = 0.486<br>",
         "legendgroup": "All 2-Relations",
         "line": {
          "color": "cyan",
          "width": 2.994909901839524
         },
         "mode": "lines",
         "name": "All 2-Relations",
         "showlegend": false,
         "type": "scatter3d",
         "visible": true,
         "x": [
          -0.47523723711782945,
          -0.8752372371178294
         ],
         "y": [
          -0.6752372371178297,
          -0.6752372371178297
         ],
         "z": [
          0,
          0
         ]
        },
        {
         "hoverinfo": "text",
         "hovertext": "<br>=2-Relation=<br><br>Distinction 0: ACD<br>Direction: CAUSE<br>Purview: ABCD<br>φ = 0.2045<br>State: [0, 1, 0, 1]<br><br>Distinction 1: C<br>Direction: EFFECT<br>Purview: C<br>φ = 0.6273<br>State: [0]<br><br>Relation purview: C<br>Relation φ = 0.4873<br>",
         "legendgroup": "All 2-Relations",
         "line": {
          "color": "indigo",
          "width": 3
         },
         "mode": "lines",
         "name": "All 2-Relations",
         "showlegend": false,
         "type": "scatter3d",
         "visible": true,
         "x": [
          -0.8752372371178294,
          0
         ],
         "y": [
          -0.6752372371178297,
          0
         ],
         "z": [
          0,
          3.75
         ]
        },
        {
         "hoverinfo": "text",
         "hovertext": "<br>=2-Relation=<br><br>Distinction 0: AD<br>Direction: EFFECT<br>Purview: D<br>φ = 0.1301<br>State: [1]<br><br>Distinction 1: ACD<br>Direction: EFFECT<br>Purview: BD<br>φ = 0.0656<br>State: [0, 1]<br><br>Relation purview: D<br>Relation φ = 0.0891<br>",
         "legendgroup": "All 2-Relations",
         "line": {
          "color": "indigo",
          "width": 1.3568581445626344
         },
         "mode": "lines",
         "name": "All 2-Relations",
         "showlegend": false,
         "type": "scatter3d",
         "visible": true,
         "x": [
          -0.6752372371178297,
          -2.109859317102744
         ],
         "y": [
          0.6752372371178293,
          -3.875748689011644e-16
         ],
         "z": [
          0,
          2
         ]
        },
        {
         "hoverinfo": "text",
         "hovertext": "<br>=2-Relation=<br><br>Distinction 0: ACD<br>Direction: CAUSE<br>Purview: ABCD<br>φ = 0.2045<br>State: [0, 1, 0, 1]<br><br>Distinction 1: D<br>Direction: EFFECT<br>Purview: AC<br>φ = 0.0052<br>State: [0, 0]<br><br>Relation purview: AC<br>Relation φ = 0.0052<br>",
         "legendgroup": "All 2-Relations",
         "line": {
          "color": "indigo",
          "width": 1.0106907977743396
         },
         "mode": "lines",
         "name": "All 2-Relations",
         "showlegend": false,
         "type": "scatter3d",
         "visible": true,
         "x": [
          1.709859317102744,
          0
         ],
         "y": [
          8.020575100116068e-17,
          0
         ],
         "z": [
          2,
          3.75
         ]
        },
        {
         "hoverinfo": "text",
         "hovertext": "<br>=2-Relation=<br><br>Distinction 0: BD<br>Direction: CAUSE<br>Purview: BD<br>φ = 0.0886<br>State: [1, 0]<br><br>Distinction 1: BD<br>Direction: EFFECT<br>Purview: AB<br>φ = 0.0028<br>State: [1, 1]<br><br>Relation purview: B<br>Relation φ = 0.0189<br>",
         "legendgroup": "All 2-Relations",
         "line": {
          "color": "cyan",
          "width": 1.0674394530687192
         },
         "mode": "lines",
         "name": "All 2-Relations",
         "showlegend": false,
         "type": "scatter3d",
         "visible": true,
         "x": [
          -1.709859317102744,
          0.7549296585513718
         ],
         "y": [
          -3.3858899693527023e-16,
          1.6539866862653763
         ],
         "z": [
          2,
          2
         ]
        },
        {
         "hoverinfo": "text",
         "hovertext": "<br>=2-Relation=<br><br>Distinction 0: A<br>Direction: EFFECT<br>Purview: A<br>φ = 0.6273<br>State: [0]<br><br>Distinction 1: D<br>Direction: EFFECT<br>Purview: AC<br>φ = 0.0052<br>State: [0, 0]<br><br>Relation purview: A<br>Relation φ = 0.0026<br>",
         "legendgroup": "All 2-Relations",
         "line": {
          "color": "indigo",
          "width": 1
         },
         "mode": "lines",
         "name": "All 2-Relations",
         "showlegend": false,
         "type": "scatter3d",
         "visible": true,
         "x": [
          0.47523723711782945,
          1.709859317102744
         ],
         "y": [
          0.6752372371178296,
          8.020575100116068e-17
         ],
         "z": [
          0,
          2
         ]
        },
        {
         "hoverinfo": "text",
         "hovertext": "<br>=2-Relation=<br><br>Distinction 0: C<br>Direction: CAUSE<br>Purview: C<br>φ = 0.486<br>State: [0]<br><br>Distinction 1: CD<br>Direction: EFFECT<br>Purview: BC<br>φ = 0.0056<br>State: [0, 0]<br><br>Relation purview: C<br>Relation φ = 0.2054<br>",
         "legendgroup": "All 2-Relations",
         "line": {
          "color": "indigo",
          "width": 1.8369368252958198
         },
         "mode": "lines",
         "name": "All 2-Relations",
         "showlegend": false,
         "type": "scatter3d",
         "visible": true,
         "x": [
          -0.47523723711782945,
          -1.1549296585513715
         ],
         "y": [
          -0.6752372371178297,
          -1.6539866862653765
         ],
         "z": [
          0,
          2
         ]
        },
        {
         "hoverinfo": "text",
         "hovertext": "<br>=2-Relation=<br><br>Distinction 0: ACD<br>Direction: CAUSE<br>Purview: ABCD<br>φ = 0.2045<br>State: [0, 1, 0, 1]<br><br>Distinction 1: B<br>Direction: CAUSE<br>Purview: B<br>φ = 0.2328<br>State: [1]<br><br>Relation purview: B<br>Relation φ = 0.219<br>",
         "legendgroup": "All 2-Relations",
         "line": {
          "color": "indigo",
          "width": 1.892962041935363
         },
         "mode": "lines",
         "name": "All 2-Relations",
         "showlegend": false,
         "type": "scatter3d",
         "visible": true,
         "x": [
          0.8752372371178296,
          0
         ],
         "y": [
          -0.6752372371178295,
          0
         ],
         "z": [
          0,
          3.75
         ]
        },
        {
         "hoverinfo": "text",
         "hovertext": "<br>=2-Relation=<br><br>Distinction 0: A<br>Direction: EFFECT<br>Purview: A<br>φ = 0.6273<br>State: [0]<br><br>Distinction 1: D<br>Direction: CAUSE<br>Purview: AC<br>φ = 0.1035<br>State: [1, 0]<br><br>Relation purview: A<br>Relation φ = 0.1247<br>",
         "legendgroup": "All 2-Relations",
         "line": {
          "color": "indigo",
          "width": 1.503729057403437
         },
         "mode": "lines",
         "name": "All 2-Relations",
         "showlegend": false,
         "type": "scatter3d",
         "visible": true,
         "x": [
          0.47523723711782945,
          2.109859317102744
         ],
         "y": [
          0.6752372371178296,
          1.291916229670548e-16
         ],
         "z": [
          0,
          2
         ]
        },
        {
         "hoverinfo": "text",
         "hovertext": "<br>=2-Relation=<br><br>Distinction 0: AD<br>Direction: CAUSE<br>Purview: AB<br>φ = 0.1408<br>State: [0, 1]<br><br>Distinction 1: ABC<br>Direction: EFFECT<br>Purview: ABC<br>φ = 0.0235<br>State: [0, 1, 0]<br><br>Relation purview: B<br>Relation φ = 0.1147<br>",
         "legendgroup": "All 2-Relations",
         "line": {
          "color": "indigo",
          "width": 1.4624888776301275
         },
         "mode": "lines",
         "name": "All 2-Relations",
         "showlegend": false,
         "type": "scatter3d",
         "visible": true,
         "x": [
          1.154929658551372,
          1.1253953951963827
         ],
         "y": [
          1.6539866862653763,
          1.1253953951963829
         ],
         "z": [
          2,
          3
         ]
        },
        {
         "hoverinfo": "text",
         "hovertext": "<br>=2-Relation=<br><br>Distinction 0: AD<br>Direction: CAUSE<br>Purview: AB<br>φ = 0.1408<br>State: [0, 1]<br><br>Distinction 1: CD<br>Direction: CAUSE<br>Purview: BC<br>φ = 0.1408<br>State: [1, 0]<br><br>Relation purview: B<br>Relation φ = 0.1968<br>",
         "legendgroup": "All 2-Relations",
         "line": {
          "color": "cyan",
          "width": 1.8013924477176704
         },
         "mode": "lines",
         "name": "All 2-Relations",
         "showlegend": false,
         "type": "scatter3d",
         "visible": true,
         "x": [
          1.154929658551372,
          -0.7549296585513714
         ],
         "y": [
          1.6539866862653763,
          -1.6539866862653765
         ],
         "z": [
          2,
          2
         ]
        },
        {
         "hoverinfo": "text",
         "hovertext": "<br>=2-Relation=<br><br>Distinction 0: C<br>Direction: EFFECT<br>Purview: C<br>φ = 0.6273<br>State: [0]<br><br>Distinction 1: D<br>Direction: EFFECT<br>Purview: AC<br>φ = 0.0052<br>State: [0, 0]<br><br>Relation purview: C<br>Relation φ = 0.0026<br>",
         "legendgroup": "All 2-Relations",
         "line": {
          "color": "indigo",
          "width": 1.0000000000000009
         },
         "mode": "lines",
         "name": "All 2-Relations",
         "showlegend": false,
         "type": "scatter3d",
         "visible": true,
         "x": [
          -0.8752372371178294,
          1.709859317102744
         ],
         "y": [
          -0.6752372371178297,
          8.020575100116068e-17
         ],
         "z": [
          0,
          2
         ]
        },
        {
         "hoverinfo": "text",
         "hovertext": "<br>=2-Relation=<br><br>Distinction 0: C<br>Direction: CAUSE<br>Purview: C<br>φ = 0.486<br>State: [0]<br><br>Distinction 1: ABC<br>Direction: EFFECT<br>Purview: ABC<br>φ = 0.0235<br>State: [0, 1, 0]<br><br>Relation purview: C<br>Relation φ = 0.0322<br>",
         "legendgroup": "All 2-Relations",
         "line": {
          "color": "indigo",
          "width": 1.1221354511939716
         },
         "mode": "lines",
         "name": "All 2-Relations",
         "showlegend": false,
         "type": "scatter3d",
         "visible": true,
         "x": [
          -0.47523723711782945,
          1.1253953951963827
         ],
         "y": [
          -0.6752372371178297,
          1.1253953951963829
         ],
         "z": [
          0,
          3
         ]
        },
        {
         "hoverinfo": "text",
         "hovertext": "<br>=2-Relation=<br><br>Distinction 0: ACD<br>Direction: CAUSE<br>Purview: ABCD<br>φ = 0.2045<br>State: [0, 1, 0, 1]<br><br>Distinction 1: B<br>Direction: EFFECT<br>Purview: B<br>φ = 0.3524<br>State: [1]<br><br>Relation purview: B<br>Relation φ = 0.219<br>",
         "legendgroup": "All 2-Relations",
         "line": {
          "color": "indigo",
          "width": 1.892962041935363
         },
         "mode": "lines",
         "name": "All 2-Relations",
         "showlegend": false,
         "type": "scatter3d",
         "visible": true,
         "x": [
          0.47523723711782956,
          0
         ],
         "y": [
          -0.6752372371178295,
          0
         ],
         "z": [
          0,
          3.75
         ]
        },
        {
         "hoverinfo": "text",
         "hovertext": "<br>=2-Relation=<br><br>Distinction 0: CD<br>Direction: EFFECT<br>Purview: BC<br>φ = 0.0056<br>State: [0, 0]<br><br>Distinction 1: D<br>Direction: CAUSE<br>Purview: AC<br>φ = 0.1035<br>State: [1, 0]<br><br>Relation purview: C<br>Relation φ = 0.1247<br>",
         "legendgroup": "All 2-Relations",
         "line": {
          "color": "cyan",
          "width": 1.5037290574034374
         },
         "mode": "lines",
         "name": "All 2-Relations",
         "showlegend": false,
         "type": "scatter3d",
         "visible": true,
         "x": [
          2.109859317102744,
          -1.1549296585513715
         ],
         "y": [
          1.291916229670548e-16,
          -1.6539866862653765
         ],
         "z": [
          2,
          2
         ]
        },
        {
         "hoverinfo": "text",
         "hovertext": "<br>=2-Relation=<br><br>Distinction 0: ACD<br>Direction: CAUSE<br>Purview: ABCD<br>φ = 0.2045<br>State: [0, 1, 0, 1]<br><br>Distinction 1: AD<br>Direction: EFFECT<br>Purview: D<br>φ = 0.1301<br>State: [1]<br><br>Relation purview: D<br>Relation φ = 0.1476<br>",
         "legendgroup": "All 2-Relations",
         "line": {
          "color": "indigo",
          "width": 1.5982099845086906
         },
         "mode": "lines",
         "name": "All 2-Relations",
         "showlegend": false,
         "type": "scatter3d",
         "visible": true,
         "x": [
          -0.6752372371178297,
          0
         ],
         "y": [
          0.6752372371178293,
          0
         ],
         "z": [
          0,
          3.75
         ]
        },
        {
         "hoverinfo": "text",
         "hovertext": "<br>=2-Relation=<br><br>Distinction 0: CD<br>Direction: EFFECT<br>Purview: BC<br>φ = 0.0056<br>State: [0, 0]<br><br>Distinction 1: ABC<br>Direction: EFFECT<br>Purview: ABC<br>φ = 0.0235<br>State: [0, 1, 0]<br><br>Relation purview: C<br>Relation φ = 0.0322<br>",
         "legendgroup": "All 2-Relations",
         "line": {
          "color": "indigo",
          "width": 1.1221354511939716
         },
         "mode": "lines",
         "name": "All 2-Relations",
         "showlegend": false,
         "type": "scatter3d",
         "visible": true,
         "x": [
          -1.1549296585513715,
          1.1253953951963827
         ],
         "y": [
          -1.6539866862653765,
          1.1253953951963829
         ],
         "z": [
          2,
          3
         ]
        },
        {
         "hoverinfo": "text",
         "hovertext": "<br>=2-Relation=<br><br>Distinction 0: A<br>Direction: CAUSE<br>Purview: A<br>φ = 0.486<br>State: [0]<br><br>Distinction 1: A<br>Direction: EFFECT<br>Purview: A<br>φ = 0.6273<br>State: [0]<br><br>Relation purview: A<br>Relation φ = 0.486<br>",
         "legendgroup": "All 2-Relations",
         "line": {
          "color": "cyan",
          "width": 2.9949099018395247
         },
         "mode": "lines",
         "name": "All 2-Relations",
         "showlegend": false,
         "type": "scatter3d",
         "visible": true,
         "x": [
          0.8752372371178294,
          0.47523723711782945
         ],
         "y": [
          0.6752372371178296,
          0.6752372371178296
         ],
         "z": [
          0,
          0
         ]
        },
        {
         "hoverinfo": "text",
         "hovertext": "<br>=2-Relation=<br><br>Distinction 0: D<br>Direction: CAUSE<br>Purview: AC<br>φ = 0.1035<br>State: [1, 0]<br><br>Distinction 1: ABC<br>Direction: CAUSE<br>Purview: CD<br>φ = 0.0006<br>State: [0, 1]<br><br>Relation purview: C<br>Relation φ = 0.0832<br>",
         "legendgroup": "All 2-Relations",
         "line": {
          "color": "cyan",
          "width": 1.3327697735133723
         },
         "mode": "lines",
         "name": "All 2-Relations",
         "showlegend": false,
         "type": "scatter3d",
         "visible": true,
         "x": [
          2.109859317102744,
          -0.9549296585513729
         ],
         "y": [
          1.291916229670548e-16,
          1.6539866862653756
         ],
         "z": [
          2,
          2
         ]
        },
        {
         "hoverinfo": "text",
         "hovertext": "<br>=2-Relation=<br><br>Distinction 0: AD<br>Direction: CAUSE<br>Purview: AB<br>φ = 0.1408<br>State: [0, 1]<br><br>Distinction 1: D<br>Direction: CAUSE<br>Purview: AC<br>φ = 0.1035<br>State: [1, 0]<br><br>Relation purview: A<br>Relation φ = 0.0832<br>",
         "legendgroup": "All 2-Relations",
         "line": {
          "color": "cyan",
          "width": 1.3327697735133723
         },
         "mode": "lines",
         "name": "All 2-Relations",
         "showlegend": false,
         "type": "scatter3d",
         "visible": true,
         "x": [
          2.109859317102744,
          1.154929658551372
         ],
         "y": [
          1.291916229670548e-16,
          1.6539866862653763
         ],
         "z": [
          2,
          2
         ]
        },
        {
         "hoverinfo": "text",
         "hovertext": "<br>=2-Relation=<br><br>Distinction 0: ACD<br>Direction: CAUSE<br>Purview: ABCD<br>φ = 0.2045<br>State: [0, 1, 0, 1]<br><br>Distinction 1: BD<br>Direction: CAUSE<br>Purview: BD<br>φ = 0.0886<br>State: [1, 0]<br><br>Relation purview: B<br>Relation φ = 0.0189<br>",
         "legendgroup": "All 2-Relations",
         "line": {
          "color": "indigo",
          "width": 1.0674394530687192
         },
         "mode": "lines",
         "name": "All 2-Relations",
         "showlegend": false,
         "type": "scatter3d",
         "visible": true,
         "x": [
          -1.709859317102744,
          0
         ],
         "y": [
          -3.3858899693527023e-16,
          0
         ],
         "z": [
          2,
          3.75
         ]
        },
        {
         "hoverinfo": "text",
         "hovertext": "<br>=2-Relation=<br><br>Distinction 0: A<br>Direction: CAUSE<br>Purview: A<br>φ = 0.486<br>State: [0]<br><br>Distinction 1: ABC<br>Direction: EFFECT<br>Purview: ABC<br>φ = 0.0235<br>State: [0, 1, 0]<br><br>Relation purview: A<br>Relation φ = 0.0322<br>",
         "legendgroup": "All 2-Relations",
         "line": {
          "color": "indigo",
          "width": 1.1221354511939718
         },
         "mode": "lines",
         "name": "All 2-Relations",
         "showlegend": false,
         "type": "scatter3d",
         "visible": true,
         "x": [
          0.8752372371178294,
          1.1253953951963827
         ],
         "y": [
          0.6752372371178296,
          1.1253953951963829
         ],
         "z": [
          0,
          3
         ]
        },
        {
         "hoverinfo": "text",
         "hovertext": "<br>=2-Relation=<br><br>Distinction 0: C<br>Direction: CAUSE<br>Purview: C<br>φ = 0.486<br>State: [0]<br><br>Distinction 1: D<br>Direction: CAUSE<br>Purview: AC<br>φ = 0.1035<br>State: [1, 0]<br><br>Relation purview: C<br>Relation φ = 0.1247<br>",
         "legendgroup": "All 2-Relations",
         "line": {
          "color": "indigo",
          "width": 1.5037290574034374
         },
         "mode": "lines",
         "name": "All 2-Relations",
         "showlegend": false,
         "type": "scatter3d",
         "visible": true,
         "x": [
          -0.47523723711782945,
          2.109859317102744
         ],
         "y": [
          -0.6752372371178297,
          1.291916229670548e-16
         ],
         "z": [
          0,
          2
         ]
        },
        {
         "hoverinfo": "text",
         "hovertext": "<br>=2-Relation=<br><br>Distinction 0: ACD<br>Direction: CAUSE<br>Purview: ABCD<br>φ = 0.2045<br>State: [0, 1, 0, 1]<br><br>Distinction 1: C<br>Direction: CAUSE<br>Purview: C<br>φ = 0.486<br>State: [0]<br><br>Relation purview: C<br>Relation φ = 0.486<br>",
         "legendgroup": "All 2-Relations",
         "line": {
          "color": "indigo",
          "width": 2.994909901839524
         },
         "mode": "lines",
         "name": "All 2-Relations",
         "showlegend": false,
         "type": "scatter3d",
         "visible": true,
         "x": [
          -0.47523723711782945,
          0
         ],
         "y": [
          -0.6752372371178297,
          0
         ],
         "z": [
          0,
          3.75
         ]
        },
        {
         "hoverinfo": "text",
         "hovertext": "<br>=2-Relation=<br><br>Distinction 0: ACD<br>Direction: CAUSE<br>Purview: ABCD<br>φ = 0.2045<br>State: [0, 1, 0, 1]<br><br>Distinction 1: D<br>Direction: CAUSE<br>Purview: AC<br>φ = 0.1035<br>State: [1, 0]<br><br>Relation purview: A<br>Relation φ = 0.1247<br>",
         "legendgroup": "All 2-Relations",
         "line": {
          "color": "indigo",
          "width": 1.503729057403437
         },
         "mode": "lines",
         "name": "All 2-Relations",
         "showlegend": false,
         "type": "scatter3d",
         "visible": true,
         "x": [
          2.109859317102744,
          0
         ],
         "y": [
          1.291916229670548e-16,
          0
         ],
         "z": [
          2,
          3.75
         ]
        },
        {
         "hoverinfo": "text",
         "hovertext": "<br>=2-Relation=<br><br>Distinction 0: BD<br>Direction: EFFECT<br>Purview: AB<br>φ = 0.0028<br>State: [1, 1]<br><br>Distinction 1: D<br>Direction: CAUSE<br>Purview: AC<br>φ = 0.1035<br>State: [1, 0]<br><br>Relation purview: A<br>Relation φ = 0.0832<br>",
         "legendgroup": "All 2-Relations",
         "line": {
          "color": "cyan",
          "width": 1.3327697735133723
         },
         "mode": "lines",
         "name": "All 2-Relations",
         "showlegend": false,
         "type": "scatter3d",
         "visible": true,
         "x": [
          2.109859317102744,
          0.7549296585513718
         ],
         "y": [
          1.291916229670548e-16,
          1.6539866862653763
         ],
         "z": [
          2,
          2
         ]
        },
        {
         "hoverinfo": "text",
         "hovertext": "<br>=2-Relation=<br><br>Distinction 0: A<br>Direction: CAUSE<br>Purview: A<br>φ = 0.486<br>State: [0]<br><br>Distinction 1: D<br>Direction: CAUSE<br>Purview: AC<br>φ = 0.1035<br>State: [1, 0]<br><br>Relation purview: A<br>Relation φ = 0.1247<br>",
         "legendgroup": "All 2-Relations",
         "line": {
          "color": "indigo",
          "width": 1.503729057403437
         },
         "mode": "lines",
         "name": "All 2-Relations",
         "showlegend": false,
         "type": "scatter3d",
         "visible": true,
         "x": [
          0.8752372371178294,
          2.109859317102744
         ],
         "y": [
          0.6752372371178296,
          1.291916229670548e-16
         ],
         "z": [
          0,
          2
         ]
        },
        {
         "hoverinfo": "text",
         "hovertext": "<br>=2-Relation=<br><br>Distinction 0: ACD<br>Direction: CAUSE<br>Purview: ABCD<br>φ = 0.2045<br>State: [0, 1, 0, 1]<br><br>Distinction 1: BD<br>Direction: EFFECT<br>Purview: AB<br>φ = 0.0028<br>State: [1, 1]<br><br>Relation purview: B<br>Relation φ = 0.1496<br>",
         "legendgroup": "All 2-Relations",
         "line": {
          "color": "indigo",
          "width": 1.606682881814971
         },
         "mode": "lines",
         "name": "All 2-Relations",
         "showlegend": false,
         "type": "scatter3d",
         "visible": true,
         "x": [
          0.7549296585513718,
          0
         ],
         "y": [
          1.6539866862653763,
          0
         ],
         "z": [
          2,
          3.75
         ]
        },
        {
         "hoverinfo": "text",
         "hovertext": "<br>=2-Relation=<br><br>Distinction 0: C<br>Direction: EFFECT<br>Purview: C<br>φ = 0.6273<br>State: [0]<br><br>Distinction 1: D<br>Direction: CAUSE<br>Purview: AC<br>φ = 0.1035<br>State: [1, 0]<br><br>Relation purview: C<br>Relation φ = 0.1247<br>",
         "legendgroup": "All 2-Relations",
         "line": {
          "color": "indigo",
          "width": 1.5037290574034374
         },
         "mode": "lines",
         "name": "All 2-Relations",
         "showlegend": false,
         "type": "scatter3d",
         "visible": true,
         "x": [
          -0.8752372371178294,
          2.109859317102744
         ],
         "y": [
          -0.6752372371178297,
          1.291916229670548e-16
         ],
         "z": [
          0,
          2
         ]
        },
        {
         "hoverinfo": "text",
         "hovertext": "<br>=2-Relation=<br><br>Distinction 0: CD<br>Direction: CAUSE<br>Purview: BC<br>φ = 0.1408<br>State: [1, 0]<br><br>Distinction 1: D<br>Direction: CAUSE<br>Purview: AC<br>φ = 0.1035<br>State: [1, 0]<br><br>Relation purview: C<br>Relation φ = 0.0832<br>",
         "legendgroup": "All 2-Relations",
         "line": {
          "color": "cyan",
          "width": 1.3327697735133723
         },
         "mode": "lines",
         "name": "All 2-Relations",
         "showlegend": false,
         "type": "scatter3d",
         "visible": true,
         "x": [
          2.109859317102744,
          -0.7549296585513714
         ],
         "y": [
          1.291916229670548e-16,
          -1.6539866862653765
         ],
         "z": [
          2,
          2
         ]
        },
        {
         "hoverinfo": "text",
         "hovertext": "<br>=2-Relation=<br><br>Distinction 0: A<br>Direction: CAUSE<br>Purview: A<br>φ = 0.486<br>State: [0]<br><br>Distinction 1: D<br>Direction: EFFECT<br>Purview: AC<br>φ = 0.0052<br>State: [0, 0]<br><br>Relation purview: A<br>Relation φ = 0.0026<br>",
         "legendgroup": "All 2-Relations",
         "line": {
          "color": "indigo",
          "width": 1
         },
         "mode": "lines",
         "name": "All 2-Relations",
         "showlegend": false,
         "type": "scatter3d",
         "visible": true,
         "x": [
          0.8752372371178294,
          1.709859317102744
         ],
         "y": [
          0.6752372371178296,
          8.020575100116068e-17
         ],
         "z": [
          0,
          2
         ]
        },
        {
         "hoverinfo": "text",
         "hovertext": "<br>=2-Relation=<br><br>Distinction 0: CD<br>Direction: EFFECT<br>Purview: BC<br>φ = 0.0056<br>State: [0, 0]<br><br>Distinction 1: D<br>Direction: EFFECT<br>Purview: AC<br>φ = 0.0052<br>State: [0, 0]<br><br>Relation purview: C<br>Relation φ = 0.0026<br>",
         "legendgroup": "All 2-Relations",
         "line": {
          "color": "cyan",
          "width": 1.0000000000000009
         },
         "mode": "lines",
         "name": "All 2-Relations",
         "showlegend": false,
         "type": "scatter3d",
         "visible": true,
         "x": [
          1.709859317102744,
          -1.1549296585513715
         ],
         "y": [
          8.020575100116068e-17,
          -1.6539866862653765
         ],
         "z": [
          2,
          2
         ]
        },
        {
         "hoverinfo": "text",
         "hovertext": "<br>=2-Relation=<br><br>Distinction 0: CD<br>Direction: CAUSE<br>Purview: BC<br>φ = 0.1408<br>State: [1, 0]<br><br>Distinction 1: ABC<br>Direction: CAUSE<br>Purview: CD<br>φ = 0.0006<br>State: [0, 1]<br><br>Relation purview: C<br>Relation φ = 0.1016<br>",
         "legendgroup": "All 2-Relations",
         "line": {
          "color": "cyan",
          "width": 1.40857794298798
         },
         "mode": "lines",
         "name": "All 2-Relations",
         "showlegend": false,
         "type": "scatter3d",
         "visible": true,
         "x": [
          -0.7549296585513714,
          -0.9549296585513729
         ],
         "y": [
          -1.6539866862653765,
          1.6539866862653756
         ],
         "z": [
          2,
          2
         ]
        },
        {
         "hoverinfo": "text",
         "hovertext": "<br>=2-Relation=<br><br>Distinction 0: CD<br>Direction: CAUSE<br>Purview: BC<br>φ = 0.1408<br>State: [1, 0]<br><br>Distinction 1: ABC<br>Direction: EFFECT<br>Purview: ABC<br>φ = 0.0235<br>State: [0, 1, 0]<br><br>Relation purview: B<br>Relation φ = 0.1147<br>",
         "legendgroup": "All 2-Relations",
         "line": {
          "color": "indigo",
          "width": 1.4624888776301275
         },
         "mode": "lines",
         "name": "All 2-Relations",
         "showlegend": false,
         "type": "scatter3d",
         "visible": true,
         "x": [
          -0.7549296585513714,
          1.1253953951963827
         ],
         "y": [
          -1.6539866862653765,
          1.1253953951963829
         ],
         "z": [
          2,
          3
         ]
        },
        {
         "hoverinfo": "text",
         "hovertext": "<br>=2-Relation=<br><br>Distinction 0: BD<br>Direction: CAUSE<br>Purview: BD<br>φ = 0.0886<br>State: [1, 0]<br><br>Distinction 1: B<br>Direction: EFFECT<br>Purview: B<br>φ = 0.3524<br>State: [1]<br><br>Relation purview: B<br>Relation φ = 0.0189<br>",
         "legendgroup": "All 2-Relations",
         "line": {
          "color": "indigo",
          "width": 1.0674394530687192
         },
         "mode": "lines",
         "name": "All 2-Relations",
         "showlegend": false,
         "type": "scatter3d",
         "visible": true,
         "x": [
          0.47523723711782956,
          -1.709859317102744
         ],
         "y": [
          -0.6752372371178295,
          -3.3858899693527023e-16
         ],
         "z": [
          0,
          2
         ]
        },
        {
         "colorscale": [
          [
           0,
           "red"
          ],
          [
           0.5,
           "rgb(171, 207, 229)"
          ],
          [
           1,
           "blue"
          ]
         ],
         "hoverinfo": "text",
         "hovertext": "<br>=3-Relation=<br><br>Distinction 0: A<br>Direction: CAUSE<br>Purview: A<br>φ = 0.486<br>State: [0]<br><br>Distinction 1: A<br>Direction: EFFECT<br>Purview: A<br>φ = 0.6273<br>State: [0]<br><br>Distinction 2: D<br>Direction: EFFECT<br>Purview: AC<br>φ = 0.0052<br>State: [0, 0]<br><br>Relation purview: A<br>Relation φ = 0.0026<br>",
         "i": [
          0
         ],
         "intensity": [
          1
         ],
         "intensitymode": "cell",
         "j": [
          1
         ],
         "k": [
          7
         ],
         "legendgroup": "All 3-Relations",
         "name": "All 3-Relations",
         "opacity": 0.015,
         "showlegend": true,
         "showscale": false,
         "type": "mesh3d",
         "visible": true,
         "x": [
          0.8752372371178294,
          0.47523723711782945,
          0.8752372371178296,
          0.47523723711782956,
          -0.47523723711782945,
          -0.8752372371178294,
          2.109859317102744,
          1.709859317102744,
          1.154929658551372,
          -0.6752372371178297,
          -1.709859317102744,
          0.7549296585513718,
          -0.7549296585513714,
          -1.1549296585513715,
          -0.9549296585513729,
          1.1253953951963827,
          0,
          -2.109859317102744
         ],
         "y": [
          0.6752372371178296,
          0.6752372371178296,
          -0.6752372371178295,
          -0.6752372371178295,
          -0.6752372371178297,
          -0.6752372371178297,
          1.291916229670548e-16,
          8.020575100116068e-17,
          1.6539866862653763,
          0.6752372371178293,
          -3.3858899693527023e-16,
          1.6539866862653763,
          -1.6539866862653765,
          -1.6539866862653765,
          1.6539866862653756,
          1.1253953951963829,
          0,
          -3.875748689011644e-16
         ],
         "z": [
          0,
          0,
          0,
          0,
          0,
          0,
          2,
          2,
          2,
          0,
          2,
          2,
          2,
          2,
          2,
          3,
          3.75,
          2
         ]
        },
        {
         "colorscale": [
          [
           0,
           "red"
          ],
          [
           0.5,
           "rgb(17, 93, 165)"
          ],
          [
           1,
           "blue"
          ]
         ],
         "hoverinfo": "text",
         "hovertext": "<br>=3-Relation=<br><br>Distinction 0: ABC<br>Direction: EFFECT<br>Purview: ABC<br>φ = 0.0235<br>State: [0, 1, 0]<br><br>Distinction 1: CD<br>Direction: EFFECT<br>Purview: BC<br>φ = 0.0056<br>State: [0, 0]<br><br>Distinction 2: D<br>Direction: EFFECT<br>Purview: AC<br>φ = 0.0052<br>State: [0, 0]<br><br>Relation purview: C<br>Relation φ = 0.0026<br>",
         "i": [
          7
         ],
         "intensity": [
          1
         ],
         "intensitymode": "cell",
         "j": [
          13
         ],
         "k": [
          15
         ],
         "legendgroup": "All 3-Relations",
         "name": "All 3-Relations",
         "opacity": 0.015000000000000024,
         "showlegend": false,
         "showscale": false,
         "type": "mesh3d",
         "visible": true,
         "x": [
          0.8752372371178294,
          0.47523723711782945,
          0.8752372371178296,
          0.47523723711782956,
          -0.47523723711782945,
          -0.8752372371178294,
          2.109859317102744,
          1.709859317102744,
          1.154929658551372,
          -0.6752372371178297,
          -1.709859317102744,
          0.7549296585513718,
          -0.7549296585513714,
          -1.1549296585513715,
          -0.9549296585513729,
          1.1253953951963827,
          0,
          -2.109859317102744
         ],
         "y": [
          0.6752372371178296,
          0.6752372371178296,
          -0.6752372371178295,
          -0.6752372371178295,
          -0.6752372371178297,
          -0.6752372371178297,
          1.291916229670548e-16,
          8.020575100116068e-17,
          1.6539866862653763,
          0.6752372371178293,
          -3.3858899693527023e-16,
          1.6539866862653763,
          -1.6539866862653765,
          -1.6539866862653765,
          1.6539866862653756,
          1.1253953951963829,
          0,
          -3.875748689011644e-16
         ],
         "z": [
          0,
          0,
          0,
          0,
          0,
          0,
          2,
          2,
          2,
          0,
          2,
          2,
          2,
          2,
          2,
          3,
          3.75,
          2
         ]
        },
        {
         "colorscale": [
          [
           0,
           "red"
          ],
          [
           0.5,
           "rgb(166, 205, 227)"
          ],
          [
           1,
           "blue"
          ]
         ],
         "hoverinfo": "text",
         "hovertext": "<br>=3-Relation=<br><br>Distinction 0: ACD<br>Direction: CAUSE<br>Purview: ABCD<br>φ = 0.2045<br>State: [0, 1, 0, 1]<br><br>Distinction 1: A<br>Direction: EFFECT<br>Purview: A<br>φ = 0.6273<br>State: [0]<br><br>Distinction 2: ABC<br>Direction: EFFECT<br>Purview: ABC<br>φ = 0.0235<br>State: [0, 1, 0]<br><br>Relation purview: A<br>Relation φ = 0.0322<br>",
         "i": [
          1
         ],
         "intensity": [
          1
         ],
         "intensitymode": "cell",
         "j": [
          15
         ],
         "k": [
          16
         ],
         "legendgroup": "All 3-Relations",
         "name": "All 3-Relations",
         "opacity": 0.018627494894165375,
         "showlegend": false,
         "showscale": false,
         "type": "mesh3d",
         "visible": true,
         "x": [
          0.8752372371178294,
          0.47523723711782945,
          0.8752372371178296,
          0.47523723711782956,
          -0.47523723711782945,
          -0.8752372371178294,
          2.109859317102744,
          1.709859317102744,
          1.154929658551372,
          -0.6752372371178297,
          -1.709859317102744,
          0.7549296585513718,
          -0.7549296585513714,
          -1.1549296585513715,
          -0.9549296585513729,
          1.1253953951963827,
          0,
          -2.109859317102744
         ],
         "y": [
          0.6752372371178296,
          0.6752372371178296,
          -0.6752372371178295,
          -0.6752372371178295,
          -0.6752372371178297,
          -0.6752372371178297,
          1.291916229670548e-16,
          8.020575100116068e-17,
          1.6539866862653763,
          0.6752372371178293,
          -3.3858899693527023e-16,
          1.6539866862653763,
          -1.6539866862653765,
          -1.6539866862653765,
          1.6539866862653756,
          1.1253953951963829,
          0,
          -3.875748689011644e-16
         ],
         "z": [
          0,
          0,
          0,
          0,
          0,
          0,
          2,
          2,
          2,
          0,
          2,
          2,
          2,
          2,
          2,
          3,
          3.75,
          2
         ]
        },
        {
         "colorscale": [
          [
           0,
           "red"
          ],
          [
           0.5,
           "rgb(136, 190, 220)"
          ],
          [
           1,
           "blue"
          ]
         ],
         "hoverinfo": "text",
         "hovertext": "<br>=3-Relation=<br><br>Distinction 0: ACD<br>Direction: CAUSE<br>Purview: ABCD<br>φ = 0.2045<br>State: [0, 1, 0, 1]<br><br>Distinction 1: ABC<br>Direction: EFFECT<br>Purview: ABC<br>φ = 0.0235<br>State: [0, 1, 0]<br><br>Distinction 2: D<br>Direction: EFFECT<br>Purview: AC<br>φ = 0.0052<br>State: [0, 0]<br><br>Relation purview: AC<br>Relation φ = 0.0052<br>",
         "i": [
          7
         ],
         "intensity": [
          1
         ],
         "intensitymode": "cell",
         "j": [
          15
         ],
         "k": [
          16
         ],
         "legendgroup": "All 3-Relations",
         "name": "All 3-Relations",
         "opacity": 0.015317522995672902,
         "showlegend": false,
         "showscale": false,
         "type": "mesh3d",
         "visible": true,
         "x": [
          0.8752372371178294,
          0.47523723711782945,
          0.8752372371178296,
          0.47523723711782956,
          -0.47523723711782945,
          -0.8752372371178294,
          2.109859317102744,
          1.709859317102744,
          1.154929658551372,
          -0.6752372371178297,
          -1.709859317102744,
          0.7549296585513718,
          -0.7549296585513714,
          -1.1549296585513715,
          -0.9549296585513729,
          1.1253953951963827,
          0,
          -2.109859317102744
         ],
         "y": [
          0.6752372371178296,
          0.6752372371178296,
          -0.6752372371178295,
          -0.6752372371178295,
          -0.6752372371178297,
          -0.6752372371178297,
          1.291916229670548e-16,
          8.020575100116068e-17,
          1.6539866862653763,
          0.6752372371178293,
          -3.3858899693527023e-16,
          1.6539866862653763,
          -1.6539866862653765,
          -1.6539866862653765,
          1.6539866862653756,
          1.1253953951963829,
          0,
          -3.875748689011644e-16
         ],
         "z": [
          0,
          0,
          0,
          0,
          0,
          0,
          2,
          2,
          2,
          0,
          2,
          2,
          2,
          2,
          2,
          3,
          3.75,
          2
         ]
        },
        {
         "colorscale": [
          [
           0,
           "red"
          ],
          [
           0.5,
           "rgb(123, 183, 217)"
          ],
          [
           1,
           "blue"
          ]
         ],
         "hoverinfo": "text",
         "hovertext": "<br>=3-Relation=<br><br>Distinction 0: D<br>Direction: EFFECT<br>Purview: AC<br>φ = 0.0052<br>State: [0, 0]<br><br>Distinction 1: D<br>Direction: CAUSE<br>Purview: AC<br>φ = 0.1035<br>State: [1, 0]<br><br>Distinction 2: ABC<br>Direction: EFFECT<br>Purview: ABC<br>φ = 0.0235<br>State: [0, 1, 0]<br><br>Relation purview: A<br>Relation φ = 0.0026<br>",
         "i": [
          6
         ],
         "intensity": [
          1
         ],
         "intensitymode": "cell",
         "j": [
          7
         ],
         "k": [
          15
         ],
         "legendgroup": "All 3-Relations",
         "name": "All 3-Relations",
         "opacity": 0.015,
         "showlegend": false,
         "showscale": false,
         "type": "mesh3d",
         "visible": true,
         "x": [
          0.8752372371178294,
          0.47523723711782945,
          0.8752372371178296,
          0.47523723711782956,
          -0.47523723711782945,
          -0.8752372371178294,
          2.109859317102744,
          1.709859317102744,
          1.154929658551372,
          -0.6752372371178297,
          -1.709859317102744,
          0.7549296585513718,
          -0.7549296585513714,
          -1.1549296585513715,
          -0.9549296585513729,
          1.1253953951963827,
          0,
          -2.109859317102744
         ],
         "y": [
          0.6752372371178296,
          0.6752372371178296,
          -0.6752372371178295,
          -0.6752372371178295,
          -0.6752372371178297,
          -0.6752372371178297,
          1.291916229670548e-16,
          8.020575100116068e-17,
          1.6539866862653763,
          0.6752372371178293,
          -3.3858899693527023e-16,
          1.6539866862653763,
          -1.6539866862653765,
          -1.6539866862653765,
          1.6539866862653756,
          1.1253953951963829,
          0,
          -3.875748689011644e-16
         ],
         "z": [
          0,
          0,
          0,
          0,
          0,
          0,
          2,
          2,
          2,
          0,
          2,
          2,
          2,
          2,
          2,
          3,
          3.75,
          2
         ]
        },
        {
         "colorscale": [
          [
           0,
           "red"
          ],
          [
           0.5,
           "rgb(186, 214, 234)"
          ],
          [
           1,
           "blue"
          ]
         ],
         "hoverinfo": "text",
         "hovertext": "<br>=3-Relation=<br><br>Distinction 0: CD<br>Direction: EFFECT<br>Purview: BC<br>φ = 0.0056<br>State: [0, 0]<br><br>Distinction 1: D<br>Direction: CAUSE<br>Purview: AC<br>φ = 0.1035<br>State: [1, 0]<br><br>Distinction 2: D<br>Direction: EFFECT<br>Purview: AC<br>φ = 0.0052<br>State: [0, 0]<br><br>Relation purview: C<br>Relation φ = 0.0026<br>",
         "i": [
          6
         ],
         "intensity": [
          1
         ],
         "intensitymode": "cell",
         "j": [
          7
         ],
         "k": [
          13
         ],
         "legendgroup": "All 3-Relations",
         "name": "All 3-Relations",
         "opacity": 0.015000000000000024,
         "showlegend": false,
         "showscale": false,
         "type": "mesh3d",
         "visible": true,
         "x": [
          0.8752372371178294,
          0.47523723711782945,
          0.8752372371178296,
          0.47523723711782956,
          -0.47523723711782945,
          -0.8752372371178294,
          2.109859317102744,
          1.709859317102744,
          1.154929658551372,
          -0.6752372371178297,
          -1.709859317102744,
          0.7549296585513718,
          -0.7549296585513714,
          -1.1549296585513715,
          -0.9549296585513729,
          1.1253953951963827,
          0,
          -2.109859317102744
         ],
         "y": [
          0.6752372371178296,
          0.6752372371178296,
          -0.6752372371178295,
          -0.6752372371178295,
          -0.6752372371178297,
          -0.6752372371178297,
          1.291916229670548e-16,
          8.020575100116068e-17,
          1.6539866862653763,
          0.6752372371178293,
          -3.3858899693527023e-16,
          1.6539866862653763,
          -1.6539866862653765,
          -1.6539866862653765,
          1.6539866862653756,
          1.1253953951963829,
          0,
          -3.875748689011644e-16
         ],
         "z": [
          0,
          0,
          0,
          0,
          0,
          0,
          2,
          2,
          2,
          0,
          2,
          2,
          2,
          2,
          2,
          3,
          3.75,
          2
         ]
        },
        {
         "colorscale": [
          [
           0,
           "red"
          ],
          [
           0.5,
           "rgb(34, 114, 181)"
          ],
          [
           1,
           "blue"
          ]
         ],
         "hoverinfo": "text",
         "hovertext": "<br>=3-Relation=<br><br>Distinction 0: A<br>Direction: CAUSE<br>Purview: A<br>φ = 0.486<br>State: [0]<br><br>Distinction 1: ACD<br>Direction: CAUSE<br>Purview: ABCD<br>φ = 0.2045<br>State: [0, 1, 0, 1]<br><br>Distinction 2: ABC<br>Direction: EFFECT<br>Purview: ABC<br>φ = 0.0235<br>State: [0, 1, 0]<br><br>Relation purview: A<br>Relation φ = 0.0322<br>",
         "i": [
          0
         ],
         "intensity": [
          1
         ],
         "intensitymode": "cell",
         "j": [
          15
         ],
         "k": [
          16
         ],
         "legendgroup": "All 3-Relations",
         "name": "All 3-Relations",
         "opacity": 0.018627494894165375,
         "showlegend": false,
         "showscale": false,
         "type": "mesh3d",
         "visible": true,
         "x": [
          0.8752372371178294,
          0.47523723711782945,
          0.8752372371178296,
          0.47523723711782956,
          -0.47523723711782945,
          -0.8752372371178294,
          2.109859317102744,
          1.709859317102744,
          1.154929658551372,
          -0.6752372371178297,
          -1.709859317102744,
          0.7549296585513718,
          -0.7549296585513714,
          -1.1549296585513715,
          -0.9549296585513729,
          1.1253953951963827,
          0,
          -2.109859317102744
         ],
         "y": [
          0.6752372371178296,
          0.6752372371178296,
          -0.6752372371178295,
          -0.6752372371178295,
          -0.6752372371178297,
          -0.6752372371178297,
          1.291916229670548e-16,
          8.020575100116068e-17,
          1.6539866862653763,
          0.6752372371178293,
          -3.3858899693527023e-16,
          1.6539866862653763,
          -1.6539866862653765,
          -1.6539866862653765,
          1.6539866862653756,
          1.1253953951963829,
          0,
          -3.875748689011644e-16
         ],
         "z": [
          0,
          0,
          0,
          0,
          0,
          0,
          2,
          2,
          2,
          0,
          2,
          2,
          2,
          2,
          2,
          3,
          3.75,
          2
         ]
        },
        {
         "colorscale": [
          [
           0,
           "red"
          ],
          [
           0.5,
           "rgb(215, 230, 244)"
          ],
          [
           1,
           "blue"
          ]
         ],
         "hoverinfo": "text",
         "hovertext": "<br>=3-Relation=<br><br>Distinction 0: ACD<br>Direction: CAUSE<br>Purview: ABCD<br>φ = 0.2045<br>State: [0, 1, 0, 1]<br><br>Distinction 1: BD<br>Direction: CAUSE<br>Purview: BD<br>φ = 0.0886<br>State: [1, 0]<br><br>Distinction 2: BD<br>Direction: EFFECT<br>Purview: AB<br>φ = 0.0028<br>State: [1, 1]<br><br>Relation purview: B<br>Relation φ = 0.0189<br>",
         "i": [
          10
         ],
         "intensity": [
          1
         ],
         "intensitymode": "cell",
         "j": [
          11
         ],
         "k": [
          16
         ],
         "legendgroup": "All 3-Relations",
         "name": "All 3-Relations",
         "opacity": 0.01700299150885815,
         "showlegend": false,
         "showscale": false,
         "type": "mesh3d",
         "visible": true,
         "x": [
          0.8752372371178294,
          0.47523723711782945,
          0.8752372371178296,
          0.47523723711782956,
          -0.47523723711782945,
          -0.8752372371178294,
          2.109859317102744,
          1.709859317102744,
          1.154929658551372,
          -0.6752372371178297,
          -1.709859317102744,
          0.7549296585513718,
          -0.7549296585513714,
          -1.1549296585513715,
          -0.9549296585513729,
          1.1253953951963827,
          0,
          -2.109859317102744
         ],
         "y": [
          0.6752372371178296,
          0.6752372371178296,
          -0.6752372371178295,
          -0.6752372371178295,
          -0.6752372371178297,
          -0.6752372371178297,
          1.291916229670548e-16,
          8.020575100116068e-17,
          1.6539866862653763,
          0.6752372371178293,
          -3.3858899693527023e-16,
          1.6539866862653763,
          -1.6539866862653765,
          -1.6539866862653765,
          1.6539866862653756,
          1.1253953951963829,
          0,
          -3.875748689011644e-16
         ],
         "z": [
          0,
          0,
          0,
          0,
          0,
          0,
          2,
          2,
          2,
          0,
          2,
          2,
          2,
          2,
          2,
          3,
          3.75,
          2
         ]
        },
        {
         "colorscale": [
          [
           0,
           "red"
          ],
          [
           0.5,
           "rgb(176, 209, 231)"
          ],
          [
           1,
           "blue"
          ]
         ],
         "hoverinfo": "text",
         "hovertext": "<br>=3-Relation=<br><br>Distinction 0: D<br>Direction: EFFECT<br>Purview: AC<br>φ = 0.0052<br>State: [0, 0]<br><br>Distinction 1: C<br>Direction: EFFECT<br>Purview: C<br>φ = 0.6273<br>State: [0]<br><br>Distinction 2: ABC<br>Direction: EFFECT<br>Purview: ABC<br>φ = 0.0235<br>State: [0, 1, 0]<br><br>Relation purview: C<br>Relation φ = 0.0026<br>",
         "i": [
          5
         ],
         "intensity": [
          1
         ],
         "intensitymode": "cell",
         "j": [
          7
         ],
         "k": [
          15
         ],
         "legendgroup": "All 3-Relations",
         "name": "All 3-Relations",
         "opacity": 0.015000000000000024,
         "showlegend": false,
         "showscale": false,
         "type": "mesh3d",
         "visible": true,
         "x": [
          0.8752372371178294,
          0.47523723711782945,
          0.8752372371178296,
          0.47523723711782956,
          -0.47523723711782945,
          -0.8752372371178294,
          2.109859317102744,
          1.709859317102744,
          1.154929658551372,
          -0.6752372371178297,
          -1.709859317102744,
          0.7549296585513718,
          -0.7549296585513714,
          -1.1549296585513715,
          -0.9549296585513729,
          1.1253953951963827,
          0,
          -2.109859317102744
         ],
         "y": [
          0.6752372371178296,
          0.6752372371178296,
          -0.6752372371178295,
          -0.6752372371178295,
          -0.6752372371178297,
          -0.6752372371178297,
          1.291916229670548e-16,
          8.020575100116068e-17,
          1.6539866862653763,
          0.6752372371178293,
          -3.3858899693527023e-16,
          1.6539866862653763,
          -1.6539866862653765,
          -1.6539866862653765,
          1.6539866862653756,
          1.1253953951963829,
          0,
          -3.875748689011644e-16
         ],
         "z": [
          0,
          0,
          0,
          0,
          0,
          0,
          2,
          2,
          2,
          0,
          2,
          2,
          2,
          2,
          2,
          3,
          3.75,
          2
         ]
        },
        {
         "colorscale": [
          [
           0,
           "red"
          ],
          [
           0.5,
           "rgb(8, 52, 113)"
          ],
          [
           1,
           "blue"
          ]
         ],
         "hoverinfo": "text",
         "hovertext": "<br>=3-Relation=<br><br>Distinction 0: A<br>Direction: CAUSE<br>Purview: A<br>φ = 0.486<br>State: [0]<br><br>Distinction 1: D<br>Direction: CAUSE<br>Purview: AC<br>φ = 0.1035<br>State: [1, 0]<br><br>Distinction 2: ABC<br>Direction: EFFECT<br>Purview: ABC<br>φ = 0.0235<br>State: [0, 1, 0]<br><br>Relation purview: A<br>Relation φ = 0.0322<br>",
         "i": [
          0
         ],
         "intensity": [
          1
         ],
         "intensitymode": "cell",
         "j": [
          6
         ],
         "k": [
          15
         ],
         "legendgroup": "All 3-Relations",
         "name": "All 3-Relations",
         "opacity": 0.018627494894165375,
         "showlegend": false,
         "showscale": false,
         "type": "mesh3d",
         "visible": true,
         "x": [
          0.8752372371178294,
          0.47523723711782945,
          0.8752372371178296,
          0.47523723711782956,
          -0.47523723711782945,
          -0.8752372371178294,
          2.109859317102744,
          1.709859317102744,
          1.154929658551372,
          -0.6752372371178297,
          -1.709859317102744,
          0.7549296585513718,
          -0.7549296585513714,
          -1.1549296585513715,
          -0.9549296585513729,
          1.1253953951963827,
          0,
          -2.109859317102744
         ],
         "y": [
          0.6752372371178296,
          0.6752372371178296,
          -0.6752372371178295,
          -0.6752372371178295,
          -0.6752372371178297,
          -0.6752372371178297,
          1.291916229670548e-16,
          8.020575100116068e-17,
          1.6539866862653763,
          0.6752372371178293,
          -3.3858899693527023e-16,
          1.6539866862653763,
          -1.6539866862653765,
          -1.6539866862653765,
          1.6539866862653756,
          1.1253953951963829,
          0,
          -3.875748689011644e-16
         ],
         "z": [
          0,
          0,
          0,
          0,
          0,
          0,
          2,
          2,
          2,
          0,
          2,
          2,
          2,
          2,
          2,
          3,
          3.75,
          2
         ]
        },
        {
         "colorscale": [
          [
           0,
           "red"
          ],
          [
           0.5,
           "rgb(237, 244, 251)"
          ],
          [
           1,
           "blue"
          ]
         ],
         "hoverinfo": "text",
         "hovertext": "<br>=3-Relation=<br><br>Distinction 0: C<br>Direction: CAUSE<br>Purview: C<br>φ = 0.486<br>State: [0]<br><br>Distinction 1: D<br>Direction: CAUSE<br>Purview: AC<br>φ = 0.1035<br>State: [1, 0]<br><br>Distinction 2: D<br>Direction: EFFECT<br>Purview: AC<br>φ = 0.0052<br>State: [0, 0]<br><br>Relation purview: C<br>Relation φ = 0.0026<br>",
         "i": [
          4
         ],
         "intensity": [
          1
         ],
         "intensitymode": "cell",
         "j": [
          6
         ],
         "k": [
          7
         ],
         "legendgroup": "All 3-Relations",
         "name": "All 3-Relations",
         "opacity": 0.015000000000000024,
         "showlegend": false,
         "showscale": false,
         "type": "mesh3d",
         "visible": true,
         "x": [
          0.8752372371178294,
          0.47523723711782945,
          0.8752372371178296,
          0.47523723711782956,
          -0.47523723711782945,
          -0.8752372371178294,
          2.109859317102744,
          1.709859317102744,
          1.154929658551372,
          -0.6752372371178297,
          -1.709859317102744,
          0.7549296585513718,
          -0.7549296585513714,
          -1.1549296585513715,
          -0.9549296585513729,
          1.1253953951963827,
          0,
          -2.109859317102744
         ],
         "y": [
          0.6752372371178296,
          0.6752372371178296,
          -0.6752372371178295,
          -0.6752372371178295,
          -0.6752372371178297,
          -0.6752372371178297,
          1.291916229670548e-16,
          8.020575100116068e-17,
          1.6539866862653763,
          0.6752372371178293,
          -3.3858899693527023e-16,
          1.6539866862653763,
          -1.6539866862653765,
          -1.6539866862653765,
          1.6539866862653756,
          1.1253953951963829,
          0,
          -3.875748689011644e-16
         ],
         "z": [
          0,
          0,
          0,
          0,
          0,
          0,
          2,
          2,
          2,
          0,
          2,
          2,
          2,
          2,
          2,
          3,
          3.75,
          2
         ]
        },
        {
         "colorscale": [
          [
           0,
           "red"
          ],
          [
           0.5,
           "rgb(8, 48, 107)"
          ],
          [
           1,
           "blue"
          ]
         ],
         "hoverinfo": "text",
         "hovertext": "<br>=3-Relation=<br><br>Distinction 0: C<br>Direction: CAUSE<br>Purview: C<br>φ = 0.486<br>State: [0]<br><br>Distinction 1: D<br>Direction: CAUSE<br>Purview: AC<br>φ = 0.1035<br>State: [1, 0]<br><br>Distinction 2: ABC<br>Direction: EFFECT<br>Purview: ABC<br>φ = 0.0235<br>State: [0, 1, 0]<br><br>Relation purview: C<br>Relation φ = 0.0322<br>",
         "i": [
          4
         ],
         "intensity": [
          1
         ],
         "intensitymode": "cell",
         "j": [
          6
         ],
         "k": [
          15
         ],
         "legendgroup": "All 3-Relations",
         "name": "All 3-Relations",
         "opacity": 0.01862749489416537,
         "showlegend": false,
         "showscale": false,
         "type": "mesh3d",
         "visible": true,
         "x": [
          0.8752372371178294,
          0.47523723711782945,
          0.8752372371178296,
          0.47523723711782956,
          -0.47523723711782945,
          -0.8752372371178294,
          2.109859317102744,
          1.709859317102744,
          1.154929658551372,
          -0.6752372371178297,
          -1.709859317102744,
          0.7549296585513718,
          -0.7549296585513714,
          -1.1549296585513715,
          -0.9549296585513729,
          1.1253953951963827,
          0,
          -2.109859317102744
         ],
         "y": [
          0.6752372371178296,
          0.6752372371178296,
          -0.6752372371178295,
          -0.6752372371178295,
          -0.6752372371178297,
          -0.6752372371178297,
          1.291916229670548e-16,
          8.020575100116068e-17,
          1.6539866862653763,
          0.6752372371178293,
          -3.3858899693527023e-16,
          1.6539866862653763,
          -1.6539866862653765,
          -1.6539866862653765,
          1.6539866862653756,
          1.1253953951963829,
          0,
          -3.875748689011644e-16
         ],
         "z": [
          0,
          0,
          0,
          0,
          0,
          0,
          2,
          2,
          2,
          0,
          2,
          2,
          2,
          2,
          2,
          3,
          3.75,
          2
         ]
        },
        {
         "colorscale": [
          [
           0,
           "red"
          ],
          [
           0.5,
           "rgb(8, 72, 143)"
          ],
          [
           1,
           "blue"
          ]
         ],
         "hoverinfo": "text",
         "hovertext": "<br>=3-Relation=<br><br>Distinction 0: A<br>Direction: CAUSE<br>Purview: A<br>φ = 0.486<br>State: [0]<br><br>Distinction 1: D<br>Direction: CAUSE<br>Purview: AC<br>φ = 0.1035<br>State: [1, 0]<br><br>Distinction 2: D<br>Direction: EFFECT<br>Purview: AC<br>φ = 0.0052<br>State: [0, 0]<br><br>Relation purview: A<br>Relation φ = 0.0026<br>",
         "i": [
          0
         ],
         "intensity": [
          1
         ],
         "intensitymode": "cell",
         "j": [
          6
         ],
         "k": [
          7
         ],
         "legendgroup": "All 3-Relations",
         "name": "All 3-Relations",
         "opacity": 0.015,
         "showlegend": false,
         "showscale": false,
         "type": "mesh3d",
         "visible": true,
         "x": [
          0.8752372371178294,
          0.47523723711782945,
          0.8752372371178296,
          0.47523723711782956,
          -0.47523723711782945,
          -0.8752372371178294,
          2.109859317102744,
          1.709859317102744,
          1.154929658551372,
          -0.6752372371178297,
          -1.709859317102744,
          0.7549296585513718,
          -0.7549296585513714,
          -1.1549296585513715,
          -0.9549296585513729,
          1.1253953951963827,
          0,
          -2.109859317102744
         ],
         "y": [
          0.6752372371178296,
          0.6752372371178296,
          -0.6752372371178295,
          -0.6752372371178295,
          -0.6752372371178297,
          -0.6752372371178297,
          1.291916229670548e-16,
          8.020575100116068e-17,
          1.6539866862653763,
          0.6752372371178293,
          -3.3858899693527023e-16,
          1.6539866862653763,
          -1.6539866862653765,
          -1.6539866862653765,
          1.6539866862653756,
          1.1253953951963829,
          0,
          -3.875748689011644e-16
         ],
         "z": [
          0,
          0,
          0,
          0,
          0,
          0,
          2,
          2,
          2,
          0,
          2,
          2,
          2,
          2,
          2,
          3,
          3.75,
          2
         ]
        },
        {
         "colorscale": [
          [
           0,
           "red"
          ],
          [
           0.5,
           "rgb(117, 179, 216)"
          ],
          [
           1,
           "blue"
          ]
         ],
         "hoverinfo": "text",
         "hovertext": "<br>=3-Relation=<br><br>Distinction 0: ACD<br>Direction: CAUSE<br>Purview: ABCD<br>φ = 0.2045<br>State: [0, 1, 0, 1]<br><br>Distinction 1: D<br>Direction: CAUSE<br>Purview: AC<br>φ = 0.1035<br>State: [1, 0]<br><br>Distinction 2: ABC<br>Direction: EFFECT<br>Purview: ABC<br>φ = 0.0235<br>State: [0, 1, 0]<br><br>Relation purview: A<br>Relation φ = 0.0322<br>",
         "i": [
          6
         ],
         "intensity": [
          1
         ],
         "intensitymode": "cell",
         "j": [
          15
         ],
         "k": [
          16
         ],
         "legendgroup": "All 3-Relations",
         "name": "All 3-Relations",
         "opacity": 0.018627494894165375,
         "showlegend": false,
         "showscale": false,
         "type": "mesh3d",
         "visible": true,
         "x": [
          0.8752372371178294,
          0.47523723711782945,
          0.8752372371178296,
          0.47523723711782956,
          -0.47523723711782945,
          -0.8752372371178294,
          2.109859317102744,
          1.709859317102744,
          1.154929658551372,
          -0.6752372371178297,
          -1.709859317102744,
          0.7549296585513718,
          -0.7549296585513714,
          -1.1549296585513715,
          -0.9549296585513729,
          1.1253953951963827,
          0,
          -2.109859317102744
         ],
         "y": [
          0.6752372371178296,
          0.6752372371178296,
          -0.6752372371178295,
          -0.6752372371178295,
          -0.6752372371178297,
          -0.6752372371178297,
          1.291916229670548e-16,
          8.020575100116068e-17,
          1.6539866862653763,
          0.6752372371178293,
          -3.3858899693527023e-16,
          1.6539866862653763,
          -1.6539866862653765,
          -1.6539866862653765,
          1.6539866862653756,
          1.1253953951963829,
          0,
          -3.875748689011644e-16
         ],
         "z": [
          0,
          0,
          0,
          0,
          0,
          0,
          2,
          2,
          2,
          0,
          2,
          2,
          2,
          2,
          2,
          3,
          3.75,
          2
         ]
        },
        {
         "colorscale": [
          [
           0,
           "red"
          ],
          [
           0.5,
           "rgb(221, 234, 246)"
          ],
          [
           1,
           "blue"
          ]
         ],
         "hoverinfo": "text",
         "hovertext": "<br>=3-Relation=<br><br>Distinction 0: A<br>Direction: CAUSE<br>Purview: A<br>φ = 0.486<br>State: [0]<br><br>Distinction 1: ACD<br>Direction: CAUSE<br>Purview: ABCD<br>φ = 0.2045<br>State: [0, 1, 0, 1]<br><br>Distinction 2: D<br>Direction: EFFECT<br>Purview: AC<br>φ = 0.0052<br>State: [0, 0]<br><br>Relation purview: A<br>Relation φ = 0.0026<br>",
         "i": [
          0
         ],
         "intensity": [
          1
         ],
         "intensitymode": "cell",
         "j": [
          7
         ],
         "k": [
          16
         ],
         "legendgroup": "All 3-Relations",
         "name": "All 3-Relations",
         "opacity": 0.015,
         "showlegend": false,
         "showscale": false,
         "type": "mesh3d",
         "visible": true,
         "x": [
          0.8752372371178294,
          0.47523723711782945,
          0.8752372371178296,
          0.47523723711782956,
          -0.47523723711782945,
          -0.8752372371178294,
          2.109859317102744,
          1.709859317102744,
          1.154929658551372,
          -0.6752372371178297,
          -1.709859317102744,
          0.7549296585513718,
          -0.7549296585513714,
          -1.1549296585513715,
          -0.9549296585513729,
          1.1253953951963827,
          0,
          -2.109859317102744
         ],
         "y": [
          0.6752372371178296,
          0.6752372371178296,
          -0.6752372371178295,
          -0.6752372371178295,
          -0.6752372371178297,
          -0.6752372371178297,
          1.291916229670548e-16,
          8.020575100116068e-17,
          1.6539866862653763,
          0.6752372371178293,
          -3.3858899693527023e-16,
          1.6539866862653763,
          -1.6539866862653765,
          -1.6539866862653765,
          1.6539866862653756,
          1.1253953951963829,
          0,
          -3.875748689011644e-16
         ],
         "z": [
          0,
          0,
          0,
          0,
          0,
          0,
          2,
          2,
          2,
          0,
          2,
          2,
          2,
          2,
          2,
          3,
          3.75,
          2
         ]
        },
        {
         "colorscale": [
          [
           0,
           "red"
          ],
          [
           0.5,
           "rgb(200, 220, 239)"
          ],
          [
           1,
           "blue"
          ]
         ],
         "hoverinfo": "text",
         "hovertext": "<br>=3-Relation=<br><br>Distinction 0: ACD<br>Direction: CAUSE<br>Purview: ABCD<br>φ = 0.2045<br>State: [0, 1, 0, 1]<br><br>Distinction 1: CD<br>Direction: EFFECT<br>Purview: BC<br>φ = 0.0056<br>State: [0, 0]<br><br>Distinction 2: C<br>Direction: EFFECT<br>Purview: C<br>φ = 0.6273<br>State: [0]<br><br>Relation purview: C<br>Relation φ = 0.2054<br>",
         "i": [
          5
         ],
         "intensity": [
          1
         ],
         "intensitymode": "cell",
         "j": [
          13
         ],
         "k": [
          16
         ],
         "legendgroup": "All 3-Relations",
         "name": "All 3-Relations",
         "opacity": 0.0398575170502945,
         "showlegend": false,
         "showscale": false,
         "type": "mesh3d",
         "visible": true,
         "x": [
          0.8752372371178294,
          0.47523723711782945,
          0.8752372371178296,
          0.47523723711782956,
          -0.47523723711782945,
          -0.8752372371178294,
          2.109859317102744,
          1.709859317102744,
          1.154929658551372,
          -0.6752372371178297,
          -1.709859317102744,
          0.7549296585513718,
          -0.7549296585513714,
          -1.1549296585513715,
          -0.9549296585513729,
          1.1253953951963827,
          0,
          -2.109859317102744
         ],
         "y": [
          0.6752372371178296,
          0.6752372371178296,
          -0.6752372371178295,
          -0.6752372371178295,
          -0.6752372371178297,
          -0.6752372371178297,
          1.291916229670548e-16,
          8.020575100116068e-17,
          1.6539866862653763,
          0.6752372371178293,
          -3.3858899693527023e-16,
          1.6539866862653763,
          -1.6539866862653765,
          -1.6539866862653765,
          1.6539866862653756,
          1.1253953951963829,
          0,
          -3.875748689011644e-16
         ],
         "z": [
          0,
          0,
          0,
          0,
          0,
          0,
          2,
          2,
          2,
          0,
          2,
          2,
          2,
          2,
          2,
          3,
          3.75,
          2
         ]
        },
        {
         "colorscale": [
          [
           0,
           "red"
          ],
          [
           0.5,
           "rgb(181, 211, 233)"
          ],
          [
           1,
           "blue"
          ]
         ],
         "hoverinfo": "text",
         "hovertext": "<br>=3-Relation=<br><br>Distinction 0: CD<br>Direction: EFFECT<br>Purview: BC<br>φ = 0.0056<br>State: [0, 0]<br><br>Distinction 1: C<br>Direction: EFFECT<br>Purview: C<br>φ = 0.6273<br>State: [0]<br><br>Distinction 2: D<br>Direction: CAUSE<br>Purview: AC<br>φ = 0.1035<br>State: [1, 0]<br><br>Relation purview: C<br>Relation φ = 0.1247<br>",
         "i": [
          5
         ],
         "intensity": [
          1
         ],
         "intensitymode": "cell",
         "j": [
          6
         ],
         "k": [
          13
         ],
         "legendgroup": "All 3-Relations",
         "name": "All 3-Relations",
         "opacity": 0.029961049931945514,
         "showlegend": false,
         "showscale": false,
         "type": "mesh3d",
         "visible": true,
         "x": [
          0.8752372371178294,
          0.47523723711782945,
          0.8752372371178296,
          0.47523723711782956,
          -0.47523723711782945,
          -0.8752372371178294,
          2.109859317102744,
          1.709859317102744,
          1.154929658551372,
          -0.6752372371178297,
          -1.709859317102744,
          0.7549296585513718,
          -0.7549296585513714,
          -1.1549296585513715,
          -0.9549296585513729,
          1.1253953951963827,
          0,
          -2.109859317102744
         ],
         "y": [
          0.6752372371178296,
          0.6752372371178296,
          -0.6752372371178295,
          -0.6752372371178295,
          -0.6752372371178297,
          -0.6752372371178297,
          1.291916229670548e-16,
          8.020575100116068e-17,
          1.6539866862653763,
          0.6752372371178293,
          -3.3858899693527023e-16,
          1.6539866862653763,
          -1.6539866862653765,
          -1.6539866862653765,
          1.6539866862653756,
          1.1253953951963829,
          0,
          -3.875748689011644e-16
         ],
         "z": [
          0,
          0,
          0,
          0,
          0,
          0,
          2,
          2,
          2,
          0,
          2,
          2,
          2,
          2,
          2,
          3,
          3.75,
          2
         ]
        },
        {
         "colorscale": [
          [
           0,
           "red"
          ],
          [
           0.5,
           "rgb(161, 203, 226)"
          ],
          [
           1,
           "blue"
          ]
         ],
         "hoverinfo": "text",
         "hovertext": "<br>=3-Relation=<br><br>Distinction 0: CD<br>Direction: EFFECT<br>Purview: BC<br>φ = 0.0056<br>State: [0, 0]<br><br>Distinction 1: D<br>Direction: CAUSE<br>Purview: AC<br>φ = 0.1035<br>State: [1, 0]<br><br>Distinction 2: ABC<br>Direction: EFFECT<br>Purview: ABC<br>φ = 0.0235<br>State: [0, 1, 0]<br><br>Relation purview: C<br>Relation φ = 0.0322<br>",
         "i": [
          6
         ],
         "intensity": [
          1
         ],
         "intensitymode": "cell",
         "j": [
          13
         ],
         "k": [
          15
         ],
         "legendgroup": "All 3-Relations",
         "name": "All 3-Relations",
         "opacity": 0.01862749489416537,
         "showlegend": false,
         "showscale": false,
         "type": "mesh3d",
         "visible": true,
         "x": [
          0.8752372371178294,
          0.47523723711782945,
          0.8752372371178296,
          0.47523723711782956,
          -0.47523723711782945,
          -0.8752372371178294,
          2.109859317102744,
          1.709859317102744,
          1.154929658551372,
          -0.6752372371178297,
          -1.709859317102744,
          0.7549296585513718,
          -0.7549296585513714,
          -1.1549296585513715,
          -0.9549296585513729,
          1.1253953951963827,
          0,
          -2.109859317102744
         ],
         "y": [
          0.6752372371178296,
          0.6752372371178296,
          -0.6752372371178295,
          -0.6752372371178295,
          -0.6752372371178297,
          -0.6752372371178297,
          1.291916229670548e-16,
          8.020575100116068e-17,
          1.6539866862653763,
          0.6752372371178293,
          -3.3858899693527023e-16,
          1.6539866862653763,
          -1.6539866862653765,
          -1.6539866862653765,
          1.6539866862653756,
          1.1253953951963829,
          0,
          -3.875748689011644e-16
         ],
         "z": [
          0,
          0,
          0,
          0,
          0,
          0,
          2,
          2,
          2,
          0,
          2,
          2,
          2,
          2,
          2,
          3,
          3.75,
          2
         ]
        },
        {
         "colorscale": [
          [
           0,
           "red"
          ],
          [
           0.5,
           "rgb(98, 168, 210)"
          ],
          [
           1,
           "blue"
          ]
         ],
         "hoverinfo": "text",
         "hovertext": "<br>=3-Relation=<br><br>Distinction 0: C<br>Direction: EFFECT<br>Purview: C<br>φ = 0.6273<br>State: [0]<br><br>Distinction 1: C<br>Direction: CAUSE<br>Purview: C<br>φ = 0.486<br>State: [0]<br><br>Distinction 2: CD<br>Direction: EFFECT<br>Purview: BC<br>φ = 0.0056<br>State: [0, 0]<br><br>Relation purview: C<br>Relation φ = 0.2054<br>",
         "i": [
          4
         ],
         "intensity": [
          1
         ],
         "intensitymode": "cell",
         "j": [
          5
         ],
         "k": [
          13
         ],
         "legendgroup": "All 3-Relations",
         "name": "All 3-Relations",
         "opacity": 0.0398575170502945,
         "showlegend": false,
         "showscale": false,
         "type": "mesh3d",
         "visible": true,
         "x": [
          0.8752372371178294,
          0.47523723711782945,
          0.8752372371178296,
          0.47523723711782956,
          -0.47523723711782945,
          -0.8752372371178294,
          2.109859317102744,
          1.709859317102744,
          1.154929658551372,
          -0.6752372371178297,
          -1.709859317102744,
          0.7549296585513718,
          -0.7549296585513714,
          -1.1549296585513715,
          -0.9549296585513729,
          1.1253953951963827,
          0,
          -2.109859317102744
         ],
         "y": [
          0.6752372371178296,
          0.6752372371178296,
          -0.6752372371178295,
          -0.6752372371178295,
          -0.6752372371178297,
          -0.6752372371178297,
          1.291916229670548e-16,
          8.020575100116068e-17,
          1.6539866862653763,
          0.6752372371178293,
          -3.3858899693527023e-16,
          1.6539866862653763,
          -1.6539866862653765,
          -1.6539866862653765,
          1.6539866862653756,
          1.1253953951963829,
          0,
          -3.875748689011644e-16
         ],
         "z": [
          0,
          0,
          0,
          0,
          0,
          0,
          2,
          2,
          2,
          0,
          2,
          2,
          2,
          2,
          2,
          3,
          3.75,
          2
         ]
        },
        {
         "colorscale": [
          [
           0,
           "red"
          ],
          [
           0.5,
           "rgb(83, 157, 204)"
          ],
          [
           1,
           "blue"
          ]
         ],
         "hoverinfo": "text",
         "hovertext": "<br>=3-Relation=<br><br>Distinction 0: ACD<br>Direction: CAUSE<br>Purview: ABCD<br>φ = 0.2045<br>State: [0, 1, 0, 1]<br><br>Distinction 1: B<br>Direction: CAUSE<br>Purview: B<br>φ = 0.2328<br>State: [1]<br><br>Distinction 2: B<br>Direction: EFFECT<br>Purview: B<br>φ = 0.3524<br>State: [1]<br><br>Relation purview: B<br>Relation φ = 0.219<br>",
         "i": [
          2
         ],
         "intensity": [
          1
         ],
         "intensitymode": "cell",
         "j": [
          3
         ],
         "k": [
          16
         ],
         "legendgroup": "All 3-Relations",
         "name": "All 3-Relations",
         "opacity": 0.04152149900899449,
         "showlegend": false,
         "showscale": false,
         "type": "mesh3d",
         "visible": true,
         "x": [
          0.8752372371178294,
          0.47523723711782945,
          0.8752372371178296,
          0.47523723711782956,
          -0.47523723711782945,
          -0.8752372371178294,
          2.109859317102744,
          1.709859317102744,
          1.154929658551372,
          -0.6752372371178297,
          -1.709859317102744,
          0.7549296585513718,
          -0.7549296585513714,
          -1.1549296585513715,
          -0.9549296585513729,
          1.1253953951963827,
          0,
          -2.109859317102744
         ],
         "y": [
          0.6752372371178296,
          0.6752372371178296,
          -0.6752372371178295,
          -0.6752372371178295,
          -0.6752372371178297,
          -0.6752372371178297,
          1.291916229670548e-16,
          8.020575100116068e-17,
          1.6539866862653763,
          0.6752372371178293,
          -3.3858899693527023e-16,
          1.6539866862653763,
          -1.6539866862653765,
          -1.6539866862653765,
          1.6539866862653756,
          1.1253953951963829,
          0,
          -3.875748689011644e-16
         ],
         "z": [
          0,
          0,
          0,
          0,
          0,
          0,
          2,
          2,
          2,
          0,
          2,
          2,
          2,
          2,
          2,
          3,
          3.75,
          2
         ]
        },
        {
         "colorscale": [
          [
           0,
           "red"
          ],
          [
           0.5,
           "rgb(8, 81, 156)"
          ],
          [
           1,
           "blue"
          ]
         ],
         "hoverinfo": "text",
         "hovertext": "<br>=3-Relation=<br><br>Distinction 0: A<br>Direction: CAUSE<br>Purview: A<br>φ = 0.486<br>State: [0]<br><br>Distinction 1: D<br>Direction: EFFECT<br>Purview: AC<br>φ = 0.0052<br>State: [0, 0]<br><br>Distinction 2: ABC<br>Direction: EFFECT<br>Purview: ABC<br>φ = 0.0235<br>State: [0, 1, 0]<br><br>Relation purview: A<br>Relation φ = 0.0026<br>",
         "i": [
          0
         ],
         "intensity": [
          1
         ],
         "intensitymode": "cell",
         "j": [
          7
         ],
         "k": [
          15
         ],
         "legendgroup": "All 3-Relations",
         "name": "All 3-Relations",
         "opacity": 0.015,
         "showlegend": false,
         "showscale": false,
         "type": "mesh3d",
         "visible": true,
         "x": [
          0.8752372371178294,
          0.47523723711782945,
          0.8752372371178296,
          0.47523723711782956,
          -0.47523723711782945,
          -0.8752372371178294,
          2.109859317102744,
          1.709859317102744,
          1.154929658551372,
          -0.6752372371178297,
          -1.709859317102744,
          0.7549296585513718,
          -0.7549296585513714,
          -1.1549296585513715,
          -0.9549296585513729,
          1.1253953951963827,
          0,
          -2.109859317102744
         ],
         "y": [
          0.6752372371178296,
          0.6752372371178296,
          -0.6752372371178295,
          -0.6752372371178295,
          -0.6752372371178297,
          -0.6752372371178297,
          1.291916229670548e-16,
          8.020575100116068e-17,
          1.6539866862653763,
          0.6752372371178293,
          -3.3858899693527023e-16,
          1.6539866862653763,
          -1.6539866862653765,
          -1.6539866862653765,
          1.6539866862653756,
          1.1253953951963829,
          0,
          -3.875748689011644e-16
         ],
         "z": [
          0,
          0,
          0,
          0,
          0,
          0,
          2,
          2,
          2,
          0,
          2,
          2,
          2,
          2,
          2,
          3,
          3.75,
          2
         ]
        },
        {
         "colorscale": [
          [
           0,
           "red"
          ],
          [
           0.5,
           "rgb(11, 85, 159)"
          ],
          [
           1,
           "blue"
          ]
         ],
         "hoverinfo": "text",
         "hovertext": "<br>=3-Relation=<br><br>Distinction 0: B<br>Direction: EFFECT<br>Purview: B<br>φ = 0.3524<br>State: [1]<br><br>Distinction 1: B<br>Direction: CAUSE<br>Purview: B<br>φ = 0.2328<br>State: [1]<br><br>Distinction 2: BD<br>Direction: EFFECT<br>Purview: AB<br>φ = 0.0028<br>State: [1, 1]<br><br>Relation purview: B<br>Relation φ = 0.1496<br>",
         "i": [
          2
         ],
         "intensity": [
          1
         ],
         "intensitymode": "cell",
         "j": [
          3
         ],
         "k": [
          11
         ],
         "legendgroup": "All 3-Relations",
         "name": "All 3-Relations",
         "opacity": 0.03301883920391138,
         "showlegend": false,
         "showscale": false,
         "type": "mesh3d",
         "visible": true,
         "x": [
          0.8752372371178294,
          0.47523723711782945,
          0.8752372371178296,
          0.47523723711782956,
          -0.47523723711782945,
          -0.8752372371178294,
          2.109859317102744,
          1.709859317102744,
          1.154929658551372,
          -0.6752372371178297,
          -1.709859317102744,
          0.7549296585513718,
          -0.7549296585513714,
          -1.1549296585513715,
          -0.9549296585513729,
          1.1253953951963827,
          0,
          -2.109859317102744
         ],
         "y": [
          0.6752372371178296,
          0.6752372371178296,
          -0.6752372371178295,
          -0.6752372371178295,
          -0.6752372371178297,
          -0.6752372371178297,
          1.291916229670548e-16,
          8.020575100116068e-17,
          1.6539866862653763,
          0.6752372371178293,
          -3.3858899693527023e-16,
          1.6539866862653763,
          -1.6539866862653765,
          -1.6539866862653765,
          1.6539866862653756,
          1.1253953951963829,
          0,
          -3.875748689011644e-16
         ],
         "z": [
          0,
          0,
          0,
          0,
          0,
          0,
          2,
          2,
          2,
          0,
          2,
          2,
          2,
          2,
          2,
          3,
          3.75,
          2
         ]
        },
        {
         "colorscale": [
          [
           0,
           "red"
          ],
          [
           0.5,
           "rgb(78, 154, 202)"
          ],
          [
           1,
           "blue"
          ]
         ],
         "hoverinfo": "text",
         "hovertext": "<br>=3-Relation=<br><br>Distinction 0: ACD<br>Direction: CAUSE<br>Purview: ABCD<br>φ = 0.2045<br>State: [0, 1, 0, 1]<br><br>Distinction 1: BD<br>Direction: CAUSE<br>Purview: BD<br>φ = 0.0886<br>State: [1, 0]<br><br>Distinction 2: B<br>Direction: EFFECT<br>Purview: B<br>φ = 0.3524<br>State: [1]<br><br>Relation purview: B<br>Relation φ = 0.0189<br>",
         "i": [
          3
         ],
         "intensity": [
          1
         ],
         "intensitymode": "cell",
         "j": [
          10
         ],
         "k": [
          16
         ],
         "legendgroup": "All 3-Relations",
         "name": "All 3-Relations",
         "opacity": 0.01700299150885815,
         "showlegend": false,
         "showscale": false,
         "type": "mesh3d",
         "visible": true,
         "x": [
          0.8752372371178294,
          0.47523723711782945,
          0.8752372371178296,
          0.47523723711782956,
          -0.47523723711782945,
          -0.8752372371178294,
          2.109859317102744,
          1.709859317102744,
          1.154929658551372,
          -0.6752372371178297,
          -1.709859317102744,
          0.7549296585513718,
          -0.7549296585513714,
          -1.1549296585513715,
          -0.9549296585513729,
          1.1253953951963827,
          0,
          -2.109859317102744
         ],
         "y": [
          0.6752372371178296,
          0.6752372371178296,
          -0.6752372371178295,
          -0.6752372371178295,
          -0.6752372371178297,
          -0.6752372371178297,
          1.291916229670548e-16,
          8.020575100116068e-17,
          1.6539866862653763,
          0.6752372371178293,
          -3.3858899693527023e-16,
          1.6539866862653763,
          -1.6539866862653765,
          -1.6539866862653765,
          1.6539866862653756,
          1.1253953951963829,
          0,
          -3.875748689011644e-16
         ],
         "z": [
          0,
          0,
          0,
          0,
          0,
          0,
          2,
          2,
          2,
          0,
          2,
          2,
          2,
          2,
          2,
          3,
          3.75,
          2
         ]
        },
        {
         "colorscale": [
          [
           0,
           "red"
          ],
          [
           0.5,
           "rgb(38, 118, 183)"
          ],
          [
           1,
           "blue"
          ]
         ],
         "hoverinfo": "text",
         "hovertext": "<br>=3-Relation=<br><br>Distinction 0: ACD<br>Direction: CAUSE<br>Purview: ABCD<br>φ = 0.2045<br>State: [0, 1, 0, 1]<br><br>Distinction 1: A<br>Direction: EFFECT<br>Purview: A<br>φ = 0.6273<br>State: [0]<br><br>Distinction 2: D<br>Direction: EFFECT<br>Purview: AC<br>φ = 0.0052<br>State: [0, 0]<br><br>Relation purview: A<br>Relation φ = 0.0026<br>",
         "i": [
          1
         ],
         "intensity": [
          1
         ],
         "intensitymode": "cell",
         "j": [
          7
         ],
         "k": [
          16
         ],
         "legendgroup": "All 3-Relations",
         "name": "All 3-Relations",
         "opacity": 0.015,
         "showlegend": false,
         "showscale": false,
         "type": "mesh3d",
         "visible": true,
         "x": [
          0.8752372371178294,
          0.47523723711782945,
          0.8752372371178296,
          0.47523723711782956,
          -0.47523723711782945,
          -0.8752372371178294,
          2.109859317102744,
          1.709859317102744,
          1.154929658551372,
          -0.6752372371178297,
          -1.709859317102744,
          0.7549296585513718,
          -0.7549296585513714,
          -1.1549296585513715,
          -0.9549296585513729,
          1.1253953951963827,
          0,
          -2.109859317102744
         ],
         "y": [
          0.6752372371178296,
          0.6752372371178296,
          -0.6752372371178295,
          -0.6752372371178295,
          -0.6752372371178297,
          -0.6752372371178297,
          1.291916229670548e-16,
          8.020575100116068e-17,
          1.6539866862653763,
          0.6752372371178293,
          -3.3858899693527023e-16,
          1.6539866862653763,
          -1.6539866862653765,
          -1.6539866862653765,
          1.6539866862653756,
          1.1253953951963829,
          0,
          -3.875748689011644e-16
         ],
         "z": [
          0,
          0,
          0,
          0,
          0,
          0,
          2,
          2,
          2,
          0,
          2,
          2,
          2,
          2,
          2,
          3,
          3.75,
          2
         ]
        },
        {
         "colorscale": [
          [
           0,
           "red"
          ],
          [
           0.5,
           "rgb(88, 161, 206)"
          ],
          [
           1,
           "blue"
          ]
         ],
         "hoverinfo": "text",
         "hovertext": "<br>=3-Relation=<br><br>Distinction 0: ACD<br>Direction: CAUSE<br>Purview: ABCD<br>φ = 0.2045<br>State: [0, 1, 0, 1]<br><br>Distinction 1: D<br>Direction: CAUSE<br>Purview: AC<br>φ = 0.1035<br>State: [1, 0]<br><br>Distinction 2: D<br>Direction: EFFECT<br>Purview: AC<br>φ = 0.0052<br>State: [0, 0]<br><br>Relation purview: A<br>Relation φ = 0.0026<br>",
         "i": [
          6
         ],
         "intensity": [
          1
         ],
         "intensitymode": "cell",
         "j": [
          7
         ],
         "k": [
          16
         ],
         "legendgroup": "All 3-Relations",
         "name": "All 3-Relations",
         "opacity": 0.015,
         "showlegend": false,
         "showscale": false,
         "type": "mesh3d",
         "visible": true,
         "x": [
          0.8752372371178294,
          0.47523723711782945,
          0.8752372371178296,
          0.47523723711782956,
          -0.47523723711782945,
          -0.8752372371178294,
          2.109859317102744,
          1.709859317102744,
          1.154929658551372,
          -0.6752372371178297,
          -1.709859317102744,
          0.7549296585513718,
          -0.7549296585513714,
          -1.1549296585513715,
          -0.9549296585513729,
          1.1253953951963827,
          0,
          -2.109859317102744
         ],
         "y": [
          0.6752372371178296,
          0.6752372371178296,
          -0.6752372371178295,
          -0.6752372371178295,
          -0.6752372371178297,
          -0.6752372371178297,
          1.291916229670548e-16,
          8.020575100116068e-17,
          1.6539866862653763,
          0.6752372371178293,
          -3.3858899693527023e-16,
          1.6539866862653763,
          -1.6539866862653765,
          -1.6539866862653765,
          1.6539866862653756,
          1.1253953951963829,
          0,
          -3.875748689011644e-16
         ],
         "z": [
          0,
          0,
          0,
          0,
          0,
          0,
          2,
          2,
          2,
          0,
          2,
          2,
          2,
          2,
          2,
          3,
          3.75,
          2
         ]
        },
        {
         "colorscale": [
          [
           0,
           "red"
          ],
          [
           0.5,
           "rgb(111, 176, 214)"
          ],
          [
           1,
           "blue"
          ]
         ],
         "hoverinfo": "text",
         "hovertext": "<br>=3-Relation=<br><br>Distinction 0: C<br>Direction: EFFECT<br>Purview: C<br>φ = 0.6273<br>State: [0]<br><br>Distinction 1: D<br>Direction: CAUSE<br>Purview: AC<br>φ = 0.1035<br>State: [1, 0]<br><br>Distinction 2: D<br>Direction: EFFECT<br>Purview: AC<br>φ = 0.0052<br>State: [0, 0]<br><br>Relation purview: C<br>Relation φ = 0.0026<br>",
         "i": [
          5
         ],
         "intensity": [
          1
         ],
         "intensitymode": "cell",
         "j": [
          6
         ],
         "k": [
          7
         ],
         "legendgroup": "All 3-Relations",
         "name": "All 3-Relations",
         "opacity": 0.015000000000000024,
         "showlegend": false,
         "showscale": false,
         "type": "mesh3d",
         "visible": true,
         "x": [
          0.8752372371178294,
          0.47523723711782945,
          0.8752372371178296,
          0.47523723711782956,
          -0.47523723711782945,
          -0.8752372371178294,
          2.109859317102744,
          1.709859317102744,
          1.154929658551372,
          -0.6752372371178297,
          -1.709859317102744,
          0.7549296585513718,
          -0.7549296585513714,
          -1.1549296585513715,
          -0.9549296585513729,
          1.1253953951963827,
          0,
          -2.109859317102744
         ],
         "y": [
          0.6752372371178296,
          0.6752372371178296,
          -0.6752372371178295,
          -0.6752372371178295,
          -0.6752372371178297,
          -0.6752372371178297,
          1.291916229670548e-16,
          8.020575100116068e-17,
          1.6539866862653763,
          0.6752372371178293,
          -3.3858899693527023e-16,
          1.6539866862653763,
          -1.6539866862653765,
          -1.6539866862653765,
          1.6539866862653756,
          1.1253953951963829,
          0,
          -3.875748689011644e-16
         ],
         "z": [
          0,
          0,
          0,
          0,
          0,
          0,
          2,
          2,
          2,
          0,
          2,
          2,
          2,
          2,
          2,
          3,
          3.75,
          2
         ]
        },
        {
         "colorscale": [
          [
           0,
           "red"
          ],
          [
           0.5,
           "rgb(103, 171, 212)"
          ],
          [
           1,
           "blue"
          ]
         ],
         "hoverinfo": "text",
         "hovertext": "<br>=3-Relation=<br><br>Distinction 0: ACD<br>Direction: CAUSE<br>Purview: ABCD<br>φ = 0.2045<br>State: [0, 1, 0, 1]<br><br>Distinction 1: B<br>Direction: CAUSE<br>Purview: B<br>φ = 0.2328<br>State: [1]<br><br>Distinction 2: BD<br>Direction: CAUSE<br>Purview: BD<br>φ = 0.0886<br>State: [1, 0]<br><br>Relation purview: B<br>Relation φ = 0.0189<br>",
         "i": [
          2
         ],
         "intensity": [
          1
         ],
         "intensitymode": "cell",
         "j": [
          10
         ],
         "k": [
          16
         ],
         "legendgroup": "All 3-Relations",
         "name": "All 3-Relations",
         "opacity": 0.01700299150885815,
         "showlegend": false,
         "showscale": false,
         "type": "mesh3d",
         "visible": true,
         "x": [
          0.8752372371178294,
          0.47523723711782945,
          0.8752372371178296,
          0.47523723711782956,
          -0.47523723711782945,
          -0.8752372371178294,
          2.109859317102744,
          1.709859317102744,
          1.154929658551372,
          -0.6752372371178297,
          -1.709859317102744,
          0.7549296585513718,
          -0.7549296585513714,
          -1.1549296585513715,
          -0.9549296585513729,
          1.1253953951963827,
          0,
          -2.109859317102744
         ],
         "y": [
          0.6752372371178296,
          0.6752372371178296,
          -0.6752372371178295,
          -0.6752372371178295,
          -0.6752372371178297,
          -0.6752372371178297,
          1.291916229670548e-16,
          8.020575100116068e-17,
          1.6539866862653763,
          0.6752372371178293,
          -3.3858899693527023e-16,
          1.6539866862653763,
          -1.6539866862653765,
          -1.6539866862653765,
          1.6539866862653756,
          1.1253953951963829,
          0,
          -3.875748689011644e-16
         ],
         "z": [
          0,
          0,
          0,
          0,
          0,
          0,
          2,
          2,
          2,
          0,
          2,
          2,
          2,
          2,
          2,
          3,
          3.75,
          2
         ]
        },
        {
         "colorscale": [
          [
           0,
           "red"
          ],
          [
           0.5,
           "rgb(155, 200, 224)"
          ],
          [
           1,
           "blue"
          ]
         ],
         "hoverinfo": "text",
         "hovertext": "<br>=3-Relation=<br><br>Distinction 0: C<br>Direction: CAUSE<br>Purview: C<br>φ = 0.486<br>State: [0]<br><br>Distinction 1: D<br>Direction: EFFECT<br>Purview: AC<br>φ = 0.0052<br>State: [0, 0]<br><br>Distinction 2: ABC<br>Direction: EFFECT<br>Purview: ABC<br>φ = 0.0235<br>State: [0, 1, 0]<br><br>Relation purview: C<br>Relation φ = 0.0026<br>",
         "i": [
          4
         ],
         "intensity": [
          1
         ],
         "intensitymode": "cell",
         "j": [
          7
         ],
         "k": [
          15
         ],
         "legendgroup": "All 3-Relations",
         "name": "All 3-Relations",
         "opacity": 0.015000000000000024,
         "showlegend": false,
         "showscale": false,
         "type": "mesh3d",
         "visible": true,
         "x": [
          0.8752372371178294,
          0.47523723711782945,
          0.8752372371178296,
          0.47523723711782956,
          -0.47523723711782945,
          -0.8752372371178294,
          2.109859317102744,
          1.709859317102744,
          1.154929658551372,
          -0.6752372371178297,
          -1.709859317102744,
          0.7549296585513718,
          -0.7549296585513714,
          -1.1549296585513715,
          -0.9549296585513729,
          1.1253953951963827,
          0,
          -2.109859317102744
         ],
         "y": [
          0.6752372371178296,
          0.6752372371178296,
          -0.6752372371178295,
          -0.6752372371178295,
          -0.6752372371178297,
          -0.6752372371178297,
          1.291916229670548e-16,
          8.020575100116068e-17,
          1.6539866862653763,
          0.6752372371178293,
          -3.3858899693527023e-16,
          1.6539866862653763,
          -1.6539866862653765,
          -1.6539866862653765,
          1.6539866862653756,
          1.1253953951963829,
          0,
          -3.875748689011644e-16
         ],
         "z": [
          0,
          0,
          0,
          0,
          0,
          0,
          2,
          2,
          2,
          0,
          2,
          2,
          2,
          2,
          2,
          3,
          3.75,
          2
         ]
        },
        {
         "colorscale": [
          [
           0,
           "red"
          ],
          [
           0.5,
           "rgb(72, 150, 200)"
          ],
          [
           1,
           "blue"
          ]
         ],
         "hoverinfo": "text",
         "hovertext": "<br>=3-Relation=<br><br>Distinction 0: BD<br>Direction: EFFECT<br>Purview: AB<br>φ = 0.0028<br>State: [1, 1]<br><br>Distinction 1: B<br>Direction: CAUSE<br>Purview: B<br>φ = 0.2328<br>State: [1]<br><br>Distinction 2: BD<br>Direction: CAUSE<br>Purview: BD<br>φ = 0.0886<br>State: [1, 0]<br><br>Relation purview: B<br>Relation φ = 0.0189<br>",
         "i": [
          2
         ],
         "intensity": [
          1
         ],
         "intensitymode": "cell",
         "j": [
          10
         ],
         "k": [
          11
         ],
         "legendgroup": "All 3-Relations",
         "name": "All 3-Relations",
         "opacity": 0.01700299150885815,
         "showlegend": false,
         "showscale": false,
         "type": "mesh3d",
         "visible": true,
         "x": [
          0.8752372371178294,
          0.47523723711782945,
          0.8752372371178296,
          0.47523723711782956,
          -0.47523723711782945,
          -0.8752372371178294,
          2.109859317102744,
          1.709859317102744,
          1.154929658551372,
          -0.6752372371178297,
          -1.709859317102744,
          0.7549296585513718,
          -0.7549296585513714,
          -1.1549296585513715,
          -0.9549296585513729,
          1.1253953951963827,
          0,
          -2.109859317102744
         ],
         "y": [
          0.6752372371178296,
          0.6752372371178296,
          -0.6752372371178295,
          -0.6752372371178295,
          -0.6752372371178297,
          -0.6752372371178297,
          1.291916229670548e-16,
          8.020575100116068e-17,
          1.6539866862653763,
          0.6752372371178293,
          -3.3858899693527023e-16,
          1.6539866862653763,
          -1.6539866862653765,
          -1.6539866862653765,
          1.6539866862653756,
          1.1253953951963829,
          0,
          -3.875748689011644e-16
         ],
         "z": [
          0,
          0,
          0,
          0,
          0,
          0,
          2,
          2,
          2,
          0,
          2,
          2,
          2,
          2,
          2,
          3,
          3.75,
          2
         ]
        },
        {
         "colorscale": [
          [
           0,
           "red"
          ],
          [
           0.5,
           "rgb(23, 101, 171)"
          ],
          [
           1,
           "blue"
          ]
         ],
         "hoverinfo": "text",
         "hovertext": "<br>=3-Relation=<br><br>Distinction 0: ACD<br>Direction: CAUSE<br>Purview: ABCD<br>φ = 0.2045<br>State: [0, 1, 0, 1]<br><br>Distinction 1: C<br>Direction: EFFECT<br>Purview: C<br>φ = 0.6273<br>State: [0]<br><br>Distinction 2: ABC<br>Direction: EFFECT<br>Purview: ABC<br>φ = 0.0235<br>State: [0, 1, 0]<br><br>Relation purview: C<br>Relation φ = 0.0322<br>",
         "i": [
          5
         ],
         "intensity": [
          1
         ],
         "intensitymode": "cell",
         "j": [
          15
         ],
         "k": [
          16
         ],
         "legendgroup": "All 3-Relations",
         "name": "All 3-Relations",
         "opacity": 0.01862749489416537,
         "showlegend": false,
         "showscale": false,
         "type": "mesh3d",
         "visible": true,
         "x": [
          0.8752372371178294,
          0.47523723711782945,
          0.8752372371178296,
          0.47523723711782956,
          -0.47523723711782945,
          -0.8752372371178294,
          2.109859317102744,
          1.709859317102744,
          1.154929658551372,
          -0.6752372371178297,
          -1.709859317102744,
          0.7549296585513718,
          -0.7549296585513714,
          -1.1549296585513715,
          -0.9549296585513729,
          1.1253953951963827,
          0,
          -2.109859317102744
         ],
         "y": [
          0.6752372371178296,
          0.6752372371178296,
          -0.6752372371178295,
          -0.6752372371178295,
          -0.6752372371178297,
          -0.6752372371178297,
          1.291916229670548e-16,
          8.020575100116068e-17,
          1.6539866862653763,
          0.6752372371178293,
          -3.3858899693527023e-16,
          1.6539866862653763,
          -1.6539866862653765,
          -1.6539866862653765,
          1.6539866862653756,
          1.1253953951963829,
          0,
          -3.875748689011644e-16
         ],
         "z": [
          0,
          0,
          0,
          0,
          0,
          0,
          2,
          2,
          2,
          0,
          2,
          2,
          2,
          2,
          2,
          3,
          3.75,
          2
         ]
        },
        {
         "colorscale": [
          [
           0,
           "red"
          ],
          [
           0.5,
           "rgb(8, 68, 137)"
          ],
          [
           1,
           "blue"
          ]
         ],
         "hoverinfo": "text",
         "hovertext": "<br>=3-Relation=<br><br>Distinction 0: ACD<br>Direction: CAUSE<br>Purview: ABCD<br>φ = 0.2045<br>State: [0, 1, 0, 1]<br><br>Distinction 1: C<br>Direction: CAUSE<br>Purview: C<br>φ = 0.486<br>State: [0]<br><br>Distinction 2: D<br>Direction: CAUSE<br>Purview: AC<br>φ = 0.1035<br>State: [1, 0]<br><br>Relation purview: C<br>Relation φ = 0.1247<br>",
         "i": [
          4
         ],
         "intensity": [
          1
         ],
         "intensitymode": "cell",
         "j": [
          6
         ],
         "k": [
          16
         ],
         "legendgroup": "All 3-Relations",
         "name": "All 3-Relations",
         "opacity": 0.029961049931945514,
         "showlegend": false,
         "showscale": false,
         "type": "mesh3d",
         "visible": true,
         "x": [
          0.8752372371178294,
          0.47523723711782945,
          0.8752372371178296,
          0.47523723711782956,
          -0.47523723711782945,
          -0.8752372371178294,
          2.109859317102744,
          1.709859317102744,
          1.154929658551372,
          -0.6752372371178297,
          -1.709859317102744,
          0.7549296585513718,
          -0.7549296585513714,
          -1.1549296585513715,
          -0.9549296585513729,
          1.1253953951963827,
          0,
          -2.109859317102744
         ],
         "y": [
          0.6752372371178296,
          0.6752372371178296,
          -0.6752372371178295,
          -0.6752372371178295,
          -0.6752372371178297,
          -0.6752372371178297,
          1.291916229670548e-16,
          8.020575100116068e-17,
          1.6539866862653763,
          0.6752372371178293,
          -3.3858899693527023e-16,
          1.6539866862653763,
          -1.6539866862653765,
          -1.6539866862653765,
          1.6539866862653756,
          1.1253953951963829,
          0,
          -3.875748689011644e-16
         ],
         "z": [
          0,
          0,
          0,
          0,
          0,
          0,
          2,
          2,
          2,
          0,
          2,
          2,
          2,
          2,
          2,
          3,
          3.75,
          2
         ]
        },
        {
         "colorscale": [
          [
           0,
           "red"
          ],
          [
           0.5,
           "rgb(55, 135, 192)"
          ],
          [
           1,
           "blue"
          ]
         ],
         "hoverinfo": "text",
         "hovertext": "<br>=3-Relation=<br><br>Distinction 0: ACD<br>Direction: CAUSE<br>Purview: ABCD<br>φ = 0.2045<br>State: [0, 1, 0, 1]<br><br>Distinction 1: C<br>Direction: CAUSE<br>Purview: C<br>φ = 0.486<br>State: [0]<br><br>Distinction 2: CD<br>Direction: EFFECT<br>Purview: BC<br>φ = 0.0056<br>State: [0, 0]<br><br>Relation purview: C<br>Relation φ = 0.2054<br>",
         "i": [
          4
         ],
         "intensity": [
          1
         ],
         "intensitymode": "cell",
         "j": [
          13
         ],
         "k": [
          16
         ],
         "legendgroup": "All 3-Relations",
         "name": "All 3-Relations",
         "opacity": 0.0398575170502945,
         "showlegend": false,
         "showscale": false,
         "type": "mesh3d",
         "visible": true,
         "x": [
          0.8752372371178294,
          0.47523723711782945,
          0.8752372371178296,
          0.47523723711782956,
          -0.47523723711782945,
          -0.8752372371178294,
          2.109859317102744,
          1.709859317102744,
          1.154929658551372,
          -0.6752372371178297,
          -1.709859317102744,
          0.7549296585513718,
          -0.7549296585513714,
          -1.1549296585513715,
          -0.9549296585513729,
          1.1253953951963827,
          0,
          -2.109859317102744
         ],
         "y": [
          0.6752372371178296,
          0.6752372371178296,
          -0.6752372371178295,
          -0.6752372371178295,
          -0.6752372371178297,
          -0.6752372371178297,
          1.291916229670548e-16,
          8.020575100116068e-17,
          1.6539866862653763,
          0.6752372371178293,
          -3.3858899693527023e-16,
          1.6539866862653763,
          -1.6539866862653765,
          -1.6539866862653765,
          1.6539866862653756,
          1.1253953951963829,
          0,
          -3.875748689011644e-16
         ],
         "z": [
          0,
          0,
          0,
          0,
          0,
          0,
          2,
          2,
          2,
          0,
          2,
          2,
          2,
          2,
          2,
          3,
          3.75,
          2
         ]
        },
        {
         "colorscale": [
          [
           0,
           "red"
          ],
          [
           0.5,
           "rgb(203, 222, 240)"
          ],
          [
           1,
           "blue"
          ]
         ],
         "hoverinfo": "text",
         "hovertext": "<br>=3-Relation=<br><br>Distinction 0: A<br>Direction: CAUSE<br>Purview: A<br>φ = 0.486<br>State: [0]<br><br>Distinction 1: A<br>Direction: EFFECT<br>Purview: A<br>φ = 0.6273<br>State: [0]<br><br>Distinction 2: ABC<br>Direction: EFFECT<br>Purview: ABC<br>φ = 0.0235<br>State: [0, 1, 0]<br><br>Relation purview: A<br>Relation φ = 0.0322<br>",
         "i": [
          0
         ],
         "intensity": [
          1
         ],
         "intensitymode": "cell",
         "j": [
          1
         ],
         "k": [
          15
         ],
         "legendgroup": "All 3-Relations",
         "name": "All 3-Relations",
         "opacity": 0.018627494894165375,
         "showlegend": false,
         "showscale": false,
         "type": "mesh3d",
         "visible": true,
         "x": [
          0.8752372371178294,
          0.47523723711782945,
          0.8752372371178296,
          0.47523723711782956,
          -0.47523723711782945,
          -0.8752372371178294,
          2.109859317102744,
          1.709859317102744,
          1.154929658551372,
          -0.6752372371178297,
          -1.709859317102744,
          0.7549296585513718,
          -0.7549296585513714,
          -1.1549296585513715,
          -0.9549296585513729,
          1.1253953951963827,
          0,
          -2.109859317102744
         ],
         "y": [
          0.6752372371178296,
          0.6752372371178296,
          -0.6752372371178295,
          -0.6752372371178295,
          -0.6752372371178297,
          -0.6752372371178297,
          1.291916229670548e-16,
          8.020575100116068e-17,
          1.6539866862653763,
          0.6752372371178293,
          -3.3858899693527023e-16,
          1.6539866862653763,
          -1.6539866862653765,
          -1.6539866862653765,
          1.6539866862653756,
          1.1253953951963829,
          0,
          -3.875748689011644e-16
         ],
         "z": [
          0,
          0,
          0,
          0,
          0,
          0,
          2,
          2,
          2,
          0,
          2,
          2,
          2,
          2,
          2,
          3,
          3.75,
          2
         ]
        },
        {
         "colorscale": [
          [
           0,
           "red"
          ],
          [
           0.5,
           "rgb(196, 218, 238)"
          ],
          [
           1,
           "blue"
          ]
         ],
         "hoverinfo": "text",
         "hovertext": "<br>=3-Relation=<br><br>Distinction 0: ACD<br>Direction: CAUSE<br>Purview: ABCD<br>φ = 0.2045<br>State: [0, 1, 0, 1]<br><br>Distinction 1: AD<br>Direction: EFFECT<br>Purview: D<br>φ = 0.1301<br>State: [1]<br><br>Distinction 2: ACD<br>Direction: EFFECT<br>Purview: BD<br>φ = 0.0656<br>State: [0, 1]<br><br>Relation purview: D<br>Relation φ = 0.0891<br>",
         "i": [
          9
         ],
         "intensity": [
          1
         ],
         "intensitymode": "cell",
         "j": [
          16
         ],
         "k": [
          17
         ],
         "legendgroup": "All 3-Relations",
         "name": "All 3-Relations",
         "opacity": 0.025598897246356413,
         "showlegend": false,
         "showscale": false,
         "type": "mesh3d",
         "visible": true,
         "x": [
          0.8752372371178294,
          0.47523723711782945,
          0.8752372371178296,
          0.47523723711782956,
          -0.47523723711782945,
          -0.8752372371178294,
          2.109859317102744,
          1.709859317102744,
          1.154929658551372,
          -0.6752372371178297,
          -1.709859317102744,
          0.7549296585513718,
          -0.7549296585513714,
          -1.1549296585513715,
          -0.9549296585513729,
          1.1253953951963827,
          0,
          -2.109859317102744
         ],
         "y": [
          0.6752372371178296,
          0.6752372371178296,
          -0.6752372371178295,
          -0.6752372371178295,
          -0.6752372371178297,
          -0.6752372371178297,
          1.291916229670548e-16,
          8.020575100116068e-17,
          1.6539866862653763,
          0.6752372371178293,
          -3.3858899693527023e-16,
          1.6539866862653763,
          -1.6539866862653765,
          -1.6539866862653765,
          1.6539866862653756,
          1.1253953951963829,
          0,
          -3.875748689011644e-16
         ],
         "z": [
          0,
          0,
          0,
          0,
          0,
          0,
          2,
          2,
          2,
          0,
          2,
          2,
          2,
          2,
          2,
          3,
          3.75,
          2
         ]
        },
        {
         "colorscale": [
          [
           0,
           "red"
          ],
          [
           0.5,
           "rgb(240, 246, 252)"
          ],
          [
           1,
           "blue"
          ]
         ],
         "hoverinfo": "text",
         "hovertext": "<br>=3-Relation=<br><br>Distinction 0: C<br>Direction: CAUSE<br>Purview: C<br>φ = 0.486<br>State: [0]<br><br>Distinction 1: CD<br>Direction: EFFECT<br>Purview: BC<br>φ = 0.0056<br>State: [0, 0]<br><br>Distinction 2: D<br>Direction: CAUSE<br>Purview: AC<br>φ = 0.1035<br>State: [1, 0]<br><br>Relation purview: C<br>Relation φ = 0.1247<br>",
         "i": [
          4
         ],
         "intensity": [
          1
         ],
         "intensitymode": "cell",
         "j": [
          6
         ],
         "k": [
          13
         ],
         "legendgroup": "All 3-Relations",
         "name": "All 3-Relations",
         "opacity": 0.029961049931945514,
         "showlegend": false,
         "showscale": false,
         "type": "mesh3d",
         "visible": true,
         "x": [
          0.8752372371178294,
          0.47523723711782945,
          0.8752372371178296,
          0.47523723711782956,
          -0.47523723711782945,
          -0.8752372371178294,
          2.109859317102744,
          1.709859317102744,
          1.154929658551372,
          -0.6752372371178297,
          -1.709859317102744,
          0.7549296585513718,
          -0.7549296585513714,
          -1.1549296585513715,
          -0.9549296585513729,
          1.1253953951963827,
          0,
          -2.109859317102744
         ],
         "y": [
          0.6752372371178296,
          0.6752372371178296,
          -0.6752372371178295,
          -0.6752372371178295,
          -0.6752372371178297,
          -0.6752372371178297,
          1.291916229670548e-16,
          8.020575100116068e-17,
          1.6539866862653763,
          0.6752372371178293,
          -3.3858899693527023e-16,
          1.6539866862653763,
          -1.6539866862653765,
          -1.6539866862653765,
          1.6539866862653756,
          1.1253953951963829,
          0,
          -3.875748689011644e-16
         ],
         "z": [
          0,
          0,
          0,
          0,
          0,
          0,
          2,
          2,
          2,
          0,
          2,
          2,
          2,
          2,
          2,
          3,
          3.75,
          2
         ]
        },
        {
         "colorscale": [
          [
           0,
           "red"
          ],
          [
           0.5,
           "rgb(228, 238, 248)"
          ],
          [
           1,
           "blue"
          ]
         ],
         "hoverinfo": "text",
         "hovertext": "<br>=3-Relation=<br><br>Distinction 0: A<br>Direction: EFFECT<br>Purview: A<br>φ = 0.6273<br>State: [0]<br><br>Distinction 1: D<br>Direction: CAUSE<br>Purview: AC<br>φ = 0.1035<br>State: [1, 0]<br><br>Distinction 2: D<br>Direction: EFFECT<br>Purview: AC<br>φ = 0.0052<br>State: [0, 0]<br><br>Relation purview: A<br>Relation φ = 0.0026<br>",
         "i": [
          1
         ],
         "intensity": [
          1
         ],
         "intensitymode": "cell",
         "j": [
          6
         ],
         "k": [
          7
         ],
         "legendgroup": "All 3-Relations",
         "name": "All 3-Relations",
         "opacity": 0.015,
         "showlegend": false,
         "showscale": false,
         "type": "mesh3d",
         "visible": true,
         "x": [
          0.8752372371178294,
          0.47523723711782945,
          0.8752372371178296,
          0.47523723711782956,
          -0.47523723711782945,
          -0.8752372371178294,
          2.109859317102744,
          1.709859317102744,
          1.154929658551372,
          -0.6752372371178297,
          -1.709859317102744,
          0.7549296585513718,
          -0.7549296585513714,
          -1.1549296585513715,
          -0.9549296585513729,
          1.1253953951963827,
          0,
          -2.109859317102744
         ],
         "y": [
          0.6752372371178296,
          0.6752372371178296,
          -0.6752372371178295,
          -0.6752372371178295,
          -0.6752372371178297,
          -0.6752372371178297,
          1.291916229670548e-16,
          8.020575100116068e-17,
          1.6539866862653763,
          0.6752372371178293,
          -3.3858899693527023e-16,
          1.6539866862653763,
          -1.6539866862653765,
          -1.6539866862653765,
          1.6539866862653756,
          1.1253953951963829,
          0,
          -3.875748689011644e-16
         ],
         "z": [
          0,
          0,
          0,
          0,
          0,
          0,
          2,
          2,
          2,
          0,
          2,
          2,
          2,
          2,
          2,
          3,
          3.75,
          2
         ]
        },
        {
         "colorscale": [
          [
           0,
           "red"
          ],
          [
           0.5,
           "rgb(212, 228, 243)"
          ],
          [
           1,
           "blue"
          ]
         ],
         "hoverinfo": "text",
         "hovertext": "<br>=3-Relation=<br><br>Distinction 0: CD<br>Direction: EFFECT<br>Purview: BC<br>φ = 0.0056<br>State: [0, 0]<br><br>Distinction 1: C<br>Direction: EFFECT<br>Purview: C<br>φ = 0.6273<br>State: [0]<br><br>Distinction 2: D<br>Direction: EFFECT<br>Purview: AC<br>φ = 0.0052<br>State: [0, 0]<br><br>Relation purview: C<br>Relation φ = 0.0026<br>",
         "i": [
          5
         ],
         "intensity": [
          1
         ],
         "intensitymode": "cell",
         "j": [
          7
         ],
         "k": [
          13
         ],
         "legendgroup": "All 3-Relations",
         "name": "All 3-Relations",
         "opacity": 0.015000000000000024,
         "showlegend": false,
         "showscale": false,
         "type": "mesh3d",
         "visible": true,
         "x": [
          0.8752372371178294,
          0.47523723711782945,
          0.8752372371178296,
          0.47523723711782956,
          -0.47523723711782945,
          -0.8752372371178294,
          2.109859317102744,
          1.709859317102744,
          1.154929658551372,
          -0.6752372371178297,
          -1.709859317102744,
          0.7549296585513718,
          -0.7549296585513714,
          -1.1549296585513715,
          -0.9549296585513729,
          1.1253953951963827,
          0,
          -2.109859317102744
         ],
         "y": [
          0.6752372371178296,
          0.6752372371178296,
          -0.6752372371178295,
          -0.6752372371178295,
          -0.6752372371178297,
          -0.6752372371178297,
          1.291916229670548e-16,
          8.020575100116068e-17,
          1.6539866862653763,
          0.6752372371178293,
          -3.3858899693527023e-16,
          1.6539866862653763,
          -1.6539866862653765,
          -1.6539866862653765,
          1.6539866862653756,
          1.1253953951963829,
          0,
          -3.875748689011644e-16
         ],
         "z": [
          0,
          0,
          0,
          0,
          0,
          0,
          2,
          2,
          2,
          0,
          2,
          2,
          2,
          2,
          2,
          3,
          3.75,
          2
         ]
        },
        {
         "colorscale": [
          [
           0,
           "red"
          ],
          [
           0.5,
           "rgb(234, 242, 250)"
          ],
          [
           1,
           "blue"
          ]
         ],
         "hoverinfo": "text",
         "hovertext": "<br>=3-Relation=<br><br>Distinction 0: ACD<br>Direction: CAUSE<br>Purview: ABCD<br>φ = 0.2045<br>State: [0, 1, 0, 1]<br><br>Distinction 1: C<br>Direction: EFFECT<br>Purview: C<br>φ = 0.6273<br>State: [0]<br><br>Distinction 2: D<br>Direction: CAUSE<br>Purview: AC<br>φ = 0.1035<br>State: [1, 0]<br><br>Relation purview: C<br>Relation φ = 0.1247<br>",
         "i": [
          5
         ],
         "intensity": [
          1
         ],
         "intensitymode": "cell",
         "j": [
          6
         ],
         "k": [
          16
         ],
         "legendgroup": "All 3-Relations",
         "name": "All 3-Relations",
         "opacity": 0.029961049931945514,
         "showlegend": false,
         "showscale": false,
         "type": "mesh3d",
         "visible": true,
         "x": [
          0.8752372371178294,
          0.47523723711782945,
          0.8752372371178296,
          0.47523723711782956,
          -0.47523723711782945,
          -0.8752372371178294,
          2.109859317102744,
          1.709859317102744,
          1.154929658551372,
          -0.6752372371178297,
          -1.709859317102744,
          0.7549296585513718,
          -0.7549296585513714,
          -1.1549296585513715,
          -0.9549296585513729,
          1.1253953951963827,
          0,
          -2.109859317102744
         ],
         "y": [
          0.6752372371178296,
          0.6752372371178296,
          -0.6752372371178295,
          -0.6752372371178295,
          -0.6752372371178297,
          -0.6752372371178297,
          1.291916229670548e-16,
          8.020575100116068e-17,
          1.6539866862653763,
          0.6752372371178293,
          -3.3858899693527023e-16,
          1.6539866862653763,
          -1.6539866862653765,
          -1.6539866862653765,
          1.6539866862653756,
          1.1253953951963829,
          0,
          -3.875748689011644e-16
         ],
         "z": [
          0,
          0,
          0,
          0,
          0,
          0,
          2,
          2,
          2,
          0,
          2,
          2,
          2,
          2,
          2,
          3,
          3.75,
          2
         ]
        },
        {
         "colorscale": [
          [
           0,
           "red"
          ],
          [
           0.5,
           "rgb(247, 251, 255)"
          ],
          [
           1,
           "blue"
          ]
         ],
         "hoverinfo": "text",
         "hovertext": "<br>=3-Relation=<br><br>Distinction 0: ACD<br>Direction: CAUSE<br>Purview: ABCD<br>φ = 0.2045<br>State: [0, 1, 0, 1]<br><br>Distinction 1: C<br>Direction: CAUSE<br>Purview: C<br>φ = 0.486<br>State: [0]<br><br>Distinction 2: ABC<br>Direction: EFFECT<br>Purview: ABC<br>φ = 0.0235<br>State: [0, 1, 0]<br><br>Relation purview: C<br>Relation φ = 0.0322<br>",
         "i": [
          4
         ],
         "intensity": [
          1
         ],
         "intensitymode": "cell",
         "j": [
          15
         ],
         "k": [
          16
         ],
         "legendgroup": "All 3-Relations",
         "name": "All 3-Relations",
         "opacity": 0.01862749489416537,
         "showlegend": false,
         "showscale": false,
         "type": "mesh3d",
         "visible": true,
         "x": [
          0.8752372371178294,
          0.47523723711782945,
          0.8752372371178296,
          0.47523723711782956,
          -0.47523723711782945,
          -0.8752372371178294,
          2.109859317102744,
          1.709859317102744,
          1.154929658551372,
          -0.6752372371178297,
          -1.709859317102744,
          0.7549296585513718,
          -0.7549296585513714,
          -1.1549296585513715,
          -0.9549296585513729,
          1.1253953951963827,
          0,
          -2.109859317102744
         ],
         "y": [
          0.6752372371178296,
          0.6752372371178296,
          -0.6752372371178295,
          -0.6752372371178295,
          -0.6752372371178297,
          -0.6752372371178297,
          1.291916229670548e-16,
          8.020575100116068e-17,
          1.6539866862653763,
          0.6752372371178293,
          -3.3858899693527023e-16,
          1.6539866862653763,
          -1.6539866862653765,
          -1.6539866862653765,
          1.6539866862653756,
          1.1253953951963829,
          0,
          -3.875748689011644e-16
         ],
         "z": [
          0,
          0,
          0,
          0,
          0,
          0,
          2,
          2,
          2,
          0,
          2,
          2,
          2,
          2,
          2,
          3,
          3.75,
          2
         ]
        },
        {
         "colorscale": [
          [
           0,
           "red"
          ],
          [
           0.5,
           "rgb(8, 64, 131)"
          ],
          [
           1,
           "blue"
          ]
         ],
         "hoverinfo": "text",
         "hovertext": "<br>=3-Relation=<br><br>Distinction 0: BD<br>Direction: EFFECT<br>Purview: AB<br>φ = 0.0028<br>State: [1, 1]<br><br>Distinction 1: BD<br>Direction: CAUSE<br>Purview: BD<br>φ = 0.0886<br>State: [1, 0]<br><br>Distinction 2: B<br>Direction: EFFECT<br>Purview: B<br>φ = 0.3524<br>State: [1]<br><br>Relation purview: B<br>Relation φ = 0.0189<br>",
         "i": [
          3
         ],
         "intensity": [
          1
         ],
         "intensitymode": "cell",
         "j": [
          10
         ],
         "k": [
          11
         ],
         "legendgroup": "All 3-Relations",
         "name": "All 3-Relations",
         "opacity": 0.01700299150885815,
         "showlegend": false,
         "showscale": false,
         "type": "mesh3d",
         "visible": true,
         "x": [
          0.8752372371178294,
          0.47523723711782945,
          0.8752372371178296,
          0.47523723711782956,
          -0.47523723711782945,
          -0.8752372371178294,
          2.109859317102744,
          1.709859317102744,
          1.154929658551372,
          -0.6752372371178297,
          -1.709859317102744,
          0.7549296585513718,
          -0.7549296585513714,
          -1.1549296585513715,
          -0.9549296585513729,
          1.1253953951963827,
          0,
          -2.109859317102744
         ],
         "y": [
          0.6752372371178296,
          0.6752372371178296,
          -0.6752372371178295,
          -0.6752372371178295,
          -0.6752372371178297,
          -0.6752372371178297,
          1.291916229670548e-16,
          8.020575100116068e-17,
          1.6539866862653763,
          0.6752372371178293,
          -3.3858899693527023e-16,
          1.6539866862653763,
          -1.6539866862653765,
          -1.6539866862653765,
          1.6539866862653756,
          1.1253953951963829,
          0,
          -3.875748689011644e-16
         ],
         "z": [
          0,
          0,
          0,
          0,
          0,
          0,
          2,
          2,
          2,
          0,
          2,
          2,
          2,
          2,
          2,
          3,
          3.75,
          2
         ]
        },
        {
         "colorscale": [
          [
           0,
           "red"
          ],
          [
           0.5,
           "rgb(14, 89, 162)"
          ],
          [
           1,
           "blue"
          ]
         ],
         "hoverinfo": "text",
         "hovertext": "<br>=3-Relation=<br><br>Distinction 0: ACD<br>Direction: CAUSE<br>Purview: ABCD<br>φ = 0.2045<br>State: [0, 1, 0, 1]<br><br>Distinction 1: CD<br>Direction: EFFECT<br>Purview: BC<br>φ = 0.0056<br>State: [0, 0]<br><br>Distinction 2: ABC<br>Direction: EFFECT<br>Purview: ABC<br>φ = 0.0235<br>State: [0, 1, 0]<br><br>Relation purview: C<br>Relation φ = 0.0322<br>",
         "i": [
          13
         ],
         "intensity": [
          1
         ],
         "intensitymode": "cell",
         "j": [
          15
         ],
         "k": [
          16
         ],
         "legendgroup": "All 3-Relations",
         "name": "All 3-Relations",
         "opacity": 0.01862749489416537,
         "showlegend": false,
         "showscale": false,
         "type": "mesh3d",
         "visible": true,
         "x": [
          0.8752372371178294,
          0.47523723711782945,
          0.8752372371178296,
          0.47523723711782956,
          -0.47523723711782945,
          -0.8752372371178294,
          2.109859317102744,
          1.709859317102744,
          1.154929658551372,
          -0.6752372371178297,
          -1.709859317102744,
          0.7549296585513718,
          -0.7549296585513714,
          -1.1549296585513715,
          -0.9549296585513729,
          1.1253953951963827,
          0,
          -2.109859317102744
         ],
         "y": [
          0.6752372371178296,
          0.6752372371178296,
          -0.6752372371178295,
          -0.6752372371178295,
          -0.6752372371178297,
          -0.6752372371178297,
          1.291916229670548e-16,
          8.020575100116068e-17,
          1.6539866862653763,
          0.6752372371178293,
          -3.3858899693527023e-16,
          1.6539866862653763,
          -1.6539866862653765,
          -1.6539866862653765,
          1.6539866862653756,
          1.1253953951963829,
          0,
          -3.875748689011644e-16
         ],
         "z": [
          0,
          0,
          0,
          0,
          0,
          0,
          2,
          2,
          2,
          0,
          2,
          2,
          2,
          2,
          2,
          3,
          3.75,
          2
         ]
        },
        {
         "colorscale": [
          [
           0,
           "red"
          ],
          [
           0.5,
           "rgb(8, 76, 150)"
          ],
          [
           1,
           "blue"
          ]
         ],
         "hoverinfo": "text",
         "hovertext": "<br>=3-Relation=<br><br>Distinction 0: A<br>Direction: CAUSE<br>Purview: A<br>φ = 0.486<br>State: [0]<br><br>Distinction 1: A<br>Direction: EFFECT<br>Purview: A<br>φ = 0.6273<br>State: [0]<br><br>Distinction 2: D<br>Direction: CAUSE<br>Purview: AC<br>φ = 0.1035<br>State: [1, 0]<br><br>Relation purview: A<br>Relation φ = 0.1247<br>",
         "i": [
          0
         ],
         "intensity": [
          1
         ],
         "intensitymode": "cell",
         "j": [
          1
         ],
         "k": [
          6
         ],
         "legendgroup": "All 3-Relations",
         "name": "All 3-Relations",
         "opacity": 0.029961049931945503,
         "showlegend": false,
         "showscale": false,
         "type": "mesh3d",
         "visible": true,
         "x": [
          0.8752372371178294,
          0.47523723711782945,
          0.8752372371178296,
          0.47523723711782956,
          -0.47523723711782945,
          -0.8752372371178294,
          2.109859317102744,
          1.709859317102744,
          1.154929658551372,
          -0.6752372371178297,
          -1.709859317102744,
          0.7549296585513718,
          -0.7549296585513714,
          -1.1549296585513715,
          -0.9549296585513729,
          1.1253953951963827,
          0,
          -2.109859317102744
         ],
         "y": [
          0.6752372371178296,
          0.6752372371178296,
          -0.6752372371178295,
          -0.6752372371178295,
          -0.6752372371178297,
          -0.6752372371178297,
          1.291916229670548e-16,
          8.020575100116068e-17,
          1.6539866862653763,
          0.6752372371178293,
          -3.3858899693527023e-16,
          1.6539866862653763,
          -1.6539866862653765,
          -1.6539866862653765,
          1.6539866862653756,
          1.1253953951963829,
          0,
          -3.875748689011644e-16
         ],
         "z": [
          0,
          0,
          0,
          0,
          0,
          0,
          2,
          2,
          2,
          0,
          2,
          2,
          2,
          2,
          2,
          3,
          3.75,
          2
         ]
        },
        {
         "colorscale": [
          [
           0,
           "red"
          ],
          [
           0.5,
           "rgb(26, 105, 174)"
          ],
          [
           1,
           "blue"
          ]
         ],
         "hoverinfo": "text",
         "hovertext": "<br>=3-Relation=<br><br>Distinction 0: C<br>Direction: CAUSE<br>Purview: C<br>φ = 0.486<br>State: [0]<br><br>Distinction 1: C<br>Direction: EFFECT<br>Purview: C<br>φ = 0.6273<br>State: [0]<br><br>Distinction 2: D<br>Direction: EFFECT<br>Purview: AC<br>φ = 0.0052<br>State: [0, 0]<br><br>Relation purview: C<br>Relation φ = 0.0026<br>",
         "i": [
          4
         ],
         "intensity": [
          1
         ],
         "intensitymode": "cell",
         "j": [
          5
         ],
         "k": [
          7
         ],
         "legendgroup": "All 3-Relations",
         "name": "All 3-Relations",
         "opacity": 0.015000000000000024,
         "showlegend": false,
         "showscale": false,
         "type": "mesh3d",
         "visible": true,
         "x": [
          0.8752372371178294,
          0.47523723711782945,
          0.8752372371178296,
          0.47523723711782956,
          -0.47523723711782945,
          -0.8752372371178294,
          2.109859317102744,
          1.709859317102744,
          1.154929658551372,
          -0.6752372371178297,
          -1.709859317102744,
          0.7549296585513718,
          -0.7549296585513714,
          -1.1549296585513715,
          -0.9549296585513729,
          1.1253953951963827,
          0,
          -2.109859317102744
         ],
         "y": [
          0.6752372371178296,
          0.6752372371178296,
          -0.6752372371178295,
          -0.6752372371178295,
          -0.6752372371178297,
          -0.6752372371178297,
          1.291916229670548e-16,
          8.020575100116068e-17,
          1.6539866862653763,
          0.6752372371178293,
          -3.3858899693527023e-16,
          1.6539866862653763,
          -1.6539866862653765,
          -1.6539866862653765,
          1.6539866862653756,
          1.1253953951963829,
          0,
          -3.875748689011644e-16
         ],
         "z": [
          0,
          0,
          0,
          0,
          0,
          0,
          2,
          2,
          2,
          0,
          2,
          2,
          2,
          2,
          2,
          3,
          3.75,
          2
         ]
        },
        {
         "colorscale": [
          [
           0,
           "red"
          ],
          [
           0.5,
           "rgb(130, 186, 219)"
          ],
          [
           1,
           "blue"
          ]
         ],
         "hoverinfo": "text",
         "hovertext": "<br>=3-Relation=<br><br>Distinction 0: A<br>Direction: EFFECT<br>Purview: A<br>φ = 0.6273<br>State: [0]<br><br>Distinction 1: D<br>Direction: EFFECT<br>Purview: AC<br>φ = 0.0052<br>State: [0, 0]<br><br>Distinction 2: ABC<br>Direction: EFFECT<br>Purview: ABC<br>φ = 0.0235<br>State: [0, 1, 0]<br><br>Relation purview: A<br>Relation φ = 0.0026<br>",
         "i": [
          1
         ],
         "intensity": [
          1
         ],
         "intensitymode": "cell",
         "j": [
          7
         ],
         "k": [
          15
         ],
         "legendgroup": "All 3-Relations",
         "name": "All 3-Relations",
         "opacity": 0.015,
         "showlegend": false,
         "showscale": false,
         "type": "mesh3d",
         "visible": true,
         "x": [
          0.8752372371178294,
          0.47523723711782945,
          0.8752372371178296,
          0.47523723711782956,
          -0.47523723711782945,
          -0.8752372371178294,
          2.109859317102744,
          1.709859317102744,
          1.154929658551372,
          -0.6752372371178297,
          -1.709859317102744,
          0.7549296585513718,
          -0.7549296585513714,
          -1.1549296585513715,
          -0.9549296585513729,
          1.1253953951963827,
          0,
          -2.109859317102744
         ],
         "y": [
          0.6752372371178296,
          0.6752372371178296,
          -0.6752372371178295,
          -0.6752372371178295,
          -0.6752372371178297,
          -0.6752372371178297,
          1.291916229670548e-16,
          8.020575100116068e-17,
          1.6539866862653763,
          0.6752372371178293,
          -3.3858899693527023e-16,
          1.6539866862653763,
          -1.6539866862653765,
          -1.6539866862653765,
          1.6539866862653756,
          1.1253953951963829,
          0,
          -3.875748689011644e-16
         ],
         "z": [
          0,
          0,
          0,
          0,
          0,
          0,
          2,
          2,
          2,
          0,
          2,
          2,
          2,
          2,
          2,
          3,
          3.75,
          2
         ]
        },
        {
         "colorscale": [
          [
           0,
           "red"
          ],
          [
           0.5,
           "rgb(143, 193, 221)"
          ],
          [
           1,
           "blue"
          ]
         ],
         "hoverinfo": "text",
         "hovertext": "<br>=3-Relation=<br><br>Distinction 0: C<br>Direction: CAUSE<br>Purview: C<br>φ = 0.486<br>State: [0]<br><br>Distinction 1: CD<br>Direction: EFFECT<br>Purview: BC<br>φ = 0.0056<br>State: [0, 0]<br><br>Distinction 2: D<br>Direction: EFFECT<br>Purview: AC<br>φ = 0.0052<br>State: [0, 0]<br><br>Relation purview: C<br>Relation φ = 0.0026<br>",
         "i": [
          4
         ],
         "intensity": [
          1
         ],
         "intensitymode": "cell",
         "j": [
          7
         ],
         "k": [
          13
         ],
         "legendgroup": "All 3-Relations",
         "name": "All 3-Relations",
         "opacity": 0.015000000000000024,
         "showlegend": false,
         "showscale": false,
         "type": "mesh3d",
         "visible": true,
         "x": [
          0.8752372371178294,
          0.47523723711782945,
          0.8752372371178296,
          0.47523723711782956,
          -0.47523723711782945,
          -0.8752372371178294,
          2.109859317102744,
          1.709859317102744,
          1.154929658551372,
          -0.6752372371178297,
          -1.709859317102744,
          0.7549296585513718,
          -0.7549296585513714,
          -1.1549296585513715,
          -0.9549296585513729,
          1.1253953951963827,
          0,
          -2.109859317102744
         ],
         "y": [
          0.6752372371178296,
          0.6752372371178296,
          -0.6752372371178295,
          -0.6752372371178295,
          -0.6752372371178297,
          -0.6752372371178297,
          1.291916229670548e-16,
          8.020575100116068e-17,
          1.6539866862653763,
          0.6752372371178293,
          -3.3858899693527023e-16,
          1.6539866862653763,
          -1.6539866862653765,
          -1.6539866862653765,
          1.6539866862653756,
          1.1253953951963829,
          0,
          -3.875748689011644e-16
         ],
         "z": [
          0,
          0,
          0,
          0,
          0,
          0,
          2,
          2,
          2,
          0,
          2,
          2,
          2,
          2,
          2,
          3,
          3.75,
          2
         ]
        },
        {
         "colorscale": [
          [
           0,
           "red"
          ],
          [
           0.5,
           "rgb(231, 240, 249)"
          ],
          [
           1,
           "blue"
          ]
         ],
         "hoverinfo": "text",
         "hovertext": "<br>=3-Relation=<br><br>Distinction 0: CD<br>Direction: CAUSE<br>Purview: BC<br>φ = 0.1408<br>State: [1, 0]<br><br>Distinction 1: D<br>Direction: CAUSE<br>Purview: AC<br>φ = 0.1035<br>State: [1, 0]<br><br>Distinction 2: ABC<br>Direction: CAUSE<br>Purview: CD<br>φ = 0.0006<br>State: [0, 1]<br><br>Relation purview: C<br>Relation φ = 0.0832<br>",
         "i": [
          6
         ],
         "intensity": [
          1
         ],
         "intensitymode": "cell",
         "j": [
          12
         ],
         "k": [
          14
         ],
         "legendgroup": "All 3-Relations",
         "name": "All 3-Relations",
         "opacity": 0.024883458427113144,
         "showlegend": false,
         "showscale": false,
         "type": "mesh3d",
         "visible": true,
         "x": [
          0.8752372371178294,
          0.47523723711782945,
          0.8752372371178296,
          0.47523723711782956,
          -0.47523723711782945,
          -0.8752372371178294,
          2.109859317102744,
          1.709859317102744,
          1.154929658551372,
          -0.6752372371178297,
          -1.709859317102744,
          0.7549296585513718,
          -0.7549296585513714,
          -1.1549296585513715,
          -0.9549296585513729,
          1.1253953951963827,
          0,
          -2.109859317102744
         ],
         "y": [
          0.6752372371178296,
          0.6752372371178296,
          -0.6752372371178295,
          -0.6752372371178295,
          -0.6752372371178297,
          -0.6752372371178297,
          1.291916229670548e-16,
          8.020575100116068e-17,
          1.6539866862653763,
          0.6752372371178293,
          -3.3858899693527023e-16,
          1.6539866862653763,
          -1.6539866862653765,
          -1.6539866862653765,
          1.6539866862653756,
          1.1253953951963829,
          0,
          -3.875748689011644e-16
         ],
         "z": [
          0,
          0,
          0,
          0,
          0,
          0,
          2,
          2,
          2,
          0,
          2,
          2,
          2,
          2,
          2,
          3,
          3.75,
          2
         ]
        },
        {
         "colorscale": [
          [
           0,
           "red"
          ],
          [
           0.5,
           "rgb(218, 232, 245)"
          ],
          [
           1,
           "blue"
          ]
         ],
         "hoverinfo": "text",
         "hovertext": "<br>=3-Relation=<br><br>Distinction 0: ACD<br>Direction: CAUSE<br>Purview: ABCD<br>φ = 0.2045<br>State: [0, 1, 0, 1]<br><br>Distinction 1: CD<br>Direction: EFFECT<br>Purview: BC<br>φ = 0.0056<br>State: [0, 0]<br><br>Distinction 2: D<br>Direction: EFFECT<br>Purview: AC<br>φ = 0.0052<br>State: [0, 0]<br><br>Relation purview: C<br>Relation φ = 0.0026<br>",
         "i": [
          7
         ],
         "intensity": [
          1
         ],
         "intensitymode": "cell",
         "j": [
          13
         ],
         "k": [
          16
         ],
         "legendgroup": "All 3-Relations",
         "name": "All 3-Relations",
         "opacity": 0.015000000000000024,
         "showlegend": false,
         "showscale": false,
         "type": "mesh3d",
         "visible": true,
         "x": [
          0.8752372371178294,
          0.47523723711782945,
          0.8752372371178296,
          0.47523723711782956,
          -0.47523723711782945,
          -0.8752372371178294,
          2.109859317102744,
          1.709859317102744,
          1.154929658551372,
          -0.6752372371178297,
          -1.709859317102744,
          0.7549296585513718,
          -0.7549296585513714,
          -1.1549296585513715,
          -0.9549296585513729,
          1.1253953951963827,
          0,
          -2.109859317102744
         ],
         "y": [
          0.6752372371178296,
          0.6752372371178296,
          -0.6752372371178295,
          -0.6752372371178295,
          -0.6752372371178297,
          -0.6752372371178297,
          1.291916229670548e-16,
          8.020575100116068e-17,
          1.6539866862653763,
          0.6752372371178293,
          -3.3858899693527023e-16,
          1.6539866862653763,
          -1.6539866862653765,
          -1.6539866862653765,
          1.6539866862653756,
          1.1253953951963829,
          0,
          -3.875748689011644e-16
         ],
         "z": [
          0,
          0,
          0,
          0,
          0,
          0,
          2,
          2,
          2,
          0,
          2,
          2,
          2,
          2,
          2,
          3,
          3.75,
          2
         ]
        },
        {
         "colorscale": [
          [
           0,
           "red"
          ],
          [
           0.5,
           "rgb(59, 139, 194)"
          ],
          [
           1,
           "blue"
          ]
         ],
         "hoverinfo": "text",
         "hovertext": "<br>=3-Relation=<br><br>Distinction 0: ACD<br>Direction: CAUSE<br>Purview: ABCD<br>φ = 0.2045<br>State: [0, 1, 0, 1]<br><br>Distinction 1: A<br>Direction: EFFECT<br>Purview: A<br>φ = 0.6273<br>State: [0]<br><br>Distinction 2: D<br>Direction: CAUSE<br>Purview: AC<br>φ = 0.1035<br>State: [1, 0]<br><br>Relation purview: A<br>Relation φ = 0.1247<br>",
         "i": [
          1
         ],
         "intensity": [
          1
         ],
         "intensitymode": "cell",
         "j": [
          6
         ],
         "k": [
          16
         ],
         "legendgroup": "All 3-Relations",
         "name": "All 3-Relations",
         "opacity": 0.029961049931945503,
         "showlegend": false,
         "showscale": false,
         "type": "mesh3d",
         "visible": true,
         "x": [
          0.8752372371178294,
          0.47523723711782945,
          0.8752372371178296,
          0.47523723711782956,
          -0.47523723711782945,
          -0.8752372371178294,
          2.109859317102744,
          1.709859317102744,
          1.154929658551372,
          -0.6752372371178297,
          -1.709859317102744,
          0.7549296585513718,
          -0.7549296585513714,
          -1.1549296585513715,
          -0.9549296585513729,
          1.1253953951963827,
          0,
          -2.109859317102744
         ],
         "y": [
          0.6752372371178296,
          0.6752372371178296,
          -0.6752372371178295,
          -0.6752372371178295,
          -0.6752372371178297,
          -0.6752372371178297,
          1.291916229670548e-16,
          8.020575100116068e-17,
          1.6539866862653763,
          0.6752372371178293,
          -3.3858899693527023e-16,
          1.6539866862653763,
          -1.6539866862653765,
          -1.6539866862653765,
          1.6539866862653756,
          1.1253953951963829,
          0,
          -3.875748689011644e-16
         ],
         "z": [
          0,
          0,
          0,
          0,
          0,
          0,
          2,
          2,
          2,
          0,
          2,
          2,
          2,
          2,
          2,
          3,
          3.75,
          2
         ]
        },
        {
         "colorscale": [
          [
           0,
           "red"
          ],
          [
           0.5,
           "rgb(46, 126, 188)"
          ],
          [
           1,
           "blue"
          ]
         ],
         "hoverinfo": "text",
         "hovertext": "<br>=3-Relation=<br><br>Distinction 0: ACD<br>Direction: CAUSE<br>Purview: ABCD<br>φ = 0.2045<br>State: [0, 1, 0, 1]<br><br>Distinction 1: C<br>Direction: CAUSE<br>Purview: C<br>φ = 0.486<br>State: [0]<br><br>Distinction 2: D<br>Direction: EFFECT<br>Purview: AC<br>φ = 0.0052<br>State: [0, 0]<br><br>Relation purview: C<br>Relation φ = 0.0026<br>",
         "i": [
          4
         ],
         "intensity": [
          1
         ],
         "intensitymode": "cell",
         "j": [
          7
         ],
         "k": [
          16
         ],
         "legendgroup": "All 3-Relations",
         "name": "All 3-Relations",
         "opacity": 0.015000000000000024,
         "showlegend": false,
         "showscale": false,
         "type": "mesh3d",
         "visible": true,
         "x": [
          0.8752372371178294,
          0.47523723711782945,
          0.8752372371178296,
          0.47523723711782956,
          -0.47523723711782945,
          -0.8752372371178294,
          2.109859317102744,
          1.709859317102744,
          1.154929658551372,
          -0.6752372371178297,
          -1.709859317102744,
          0.7549296585513718,
          -0.7549296585513714,
          -1.1549296585513715,
          -0.9549296585513729,
          1.1253953951963827,
          0,
          -2.109859317102744
         ],
         "y": [
          0.6752372371178296,
          0.6752372371178296,
          -0.6752372371178295,
          -0.6752372371178295,
          -0.6752372371178297,
          -0.6752372371178297,
          1.291916229670548e-16,
          8.020575100116068e-17,
          1.6539866862653763,
          0.6752372371178293,
          -3.3858899693527023e-16,
          1.6539866862653763,
          -1.6539866862653765,
          -1.6539866862653765,
          1.6539866862653756,
          1.1253953951963829,
          0,
          -3.875748689011644e-16
         ],
         "z": [
          0,
          0,
          0,
          0,
          0,
          0,
          2,
          2,
          2,
          0,
          2,
          2,
          2,
          2,
          2,
          3,
          3.75,
          2
         ]
        },
        {
         "colorscale": [
          [
           0,
           "red"
          ],
          [
           0.5,
           "rgb(209, 226, 242)"
          ],
          [
           1,
           "blue"
          ]
         ],
         "hoverinfo": "text",
         "hovertext": "<br>=3-Relation=<br><br>Distinction 0: C<br>Direction: CAUSE<br>Purview: C<br>φ = 0.486<br>State: [0]<br><br>Distinction 1: C<br>Direction: EFFECT<br>Purview: C<br>φ = 0.6273<br>State: [0]<br><br>Distinction 2: D<br>Direction: CAUSE<br>Purview: AC<br>φ = 0.1035<br>State: [1, 0]<br><br>Relation purview: C<br>Relation φ = 0.1247<br>",
         "i": [
          4
         ],
         "intensity": [
          1
         ],
         "intensitymode": "cell",
         "j": [
          5
         ],
         "k": [
          6
         ],
         "legendgroup": "All 3-Relations",
         "name": "All 3-Relations",
         "opacity": 0.029961049931945514,
         "showlegend": false,
         "showscale": false,
         "type": "mesh3d",
         "visible": true,
         "x": [
          0.8752372371178294,
          0.47523723711782945,
          0.8752372371178296,
          0.47523723711782956,
          -0.47523723711782945,
          -0.8752372371178294,
          2.109859317102744,
          1.709859317102744,
          1.154929658551372,
          -0.6752372371178297,
          -1.709859317102744,
          0.7549296585513718,
          -0.7549296585513714,
          -1.1549296585513715,
          -0.9549296585513729,
          1.1253953951963827,
          0,
          -2.109859317102744
         ],
         "y": [
          0.6752372371178296,
          0.6752372371178296,
          -0.6752372371178295,
          -0.6752372371178295,
          -0.6752372371178297,
          -0.6752372371178297,
          1.291916229670548e-16,
          8.020575100116068e-17,
          1.6539866862653763,
          0.6752372371178293,
          -3.3858899693527023e-16,
          1.6539866862653763,
          -1.6539866862653765,
          -1.6539866862653765,
          1.6539866862653756,
          1.1253953951963829,
          0,
          -3.875748689011644e-16
         ],
         "z": [
          0,
          0,
          0,
          0,
          0,
          0,
          2,
          2,
          2,
          0,
          2,
          2,
          2,
          2,
          2,
          3,
          3.75,
          2
         ]
        },
        {
         "colorscale": [
          [
           0,
           "red"
          ],
          [
           0.5,
           "rgb(30, 109, 178)"
          ],
          [
           1,
           "blue"
          ]
         ],
         "hoverinfo": "text",
         "hovertext": "<br>=3-Relation=<br><br>Distinction 0: A<br>Direction: EFFECT<br>Purview: A<br>φ = 0.6273<br>State: [0]<br><br>Distinction 1: D<br>Direction: CAUSE<br>Purview: AC<br>φ = 0.1035<br>State: [1, 0]<br><br>Distinction 2: ABC<br>Direction: EFFECT<br>Purview: ABC<br>φ = 0.0235<br>State: [0, 1, 0]<br><br>Relation purview: A<br>Relation φ = 0.0322<br>",
         "i": [
          1
         ],
         "intensity": [
          1
         ],
         "intensitymode": "cell",
         "j": [
          6
         ],
         "k": [
          15
         ],
         "legendgroup": "All 3-Relations",
         "name": "All 3-Relations",
         "opacity": 0.018627494894165375,
         "showlegend": false,
         "showscale": false,
         "type": "mesh3d",
         "visible": true,
         "x": [
          0.8752372371178294,
          0.47523723711782945,
          0.8752372371178296,
          0.47523723711782956,
          -0.47523723711782945,
          -0.8752372371178294,
          2.109859317102744,
          1.709859317102744,
          1.154929658551372,
          -0.6752372371178297,
          -1.709859317102744,
          0.7549296585513718,
          -0.7549296585513714,
          -1.1549296585513715,
          -0.9549296585513729,
          1.1253953951963827,
          0,
          -2.109859317102744
         ],
         "y": [
          0.6752372371178296,
          0.6752372371178296,
          -0.6752372371178295,
          -0.6752372371178295,
          -0.6752372371178297,
          -0.6752372371178297,
          1.291916229670548e-16,
          8.020575100116068e-17,
          1.6539866862653763,
          0.6752372371178293,
          -3.3858899693527023e-16,
          1.6539866862653763,
          -1.6539866862653765,
          -1.6539866862653765,
          1.6539866862653756,
          1.1253953951963829,
          0,
          -3.875748689011644e-16
         ],
         "z": [
          0,
          0,
          0,
          0,
          0,
          0,
          2,
          2,
          2,
          0,
          2,
          2,
          2,
          2,
          2,
          3,
          3.75,
          2
         ]
        },
        {
         "colorscale": [
          [
           0,
           "red"
          ],
          [
           0.5,
           "rgb(8, 56, 119)"
          ],
          [
           1,
           "blue"
          ]
         ],
         "hoverinfo": "text",
         "hovertext": "<br>=3-Relation=<br><br>Distinction 0: ACD<br>Direction: CAUSE<br>Purview: ABCD<br>φ = 0.2045<br>State: [0, 1, 0, 1]<br><br>Distinction 1: B<br>Direction: CAUSE<br>Purview: B<br>φ = 0.2328<br>State: [1]<br><br>Distinction 2: BD<br>Direction: EFFECT<br>Purview: AB<br>φ = 0.0028<br>State: [1, 1]<br><br>Relation purview: B<br>Relation φ = 0.1496<br>",
         "i": [
          2
         ],
         "intensity": [
          1
         ],
         "intensitymode": "cell",
         "j": [
          11
         ],
         "k": [
          16
         ],
         "legendgroup": "All 3-Relations",
         "name": "All 3-Relations",
         "opacity": 0.03301883920391138,
         "showlegend": false,
         "showscale": false,
         "type": "mesh3d",
         "visible": true,
         "x": [
          0.8752372371178294,
          0.47523723711782945,
          0.8752372371178296,
          0.47523723711782956,
          -0.47523723711782945,
          -0.8752372371178294,
          2.109859317102744,
          1.709859317102744,
          1.154929658551372,
          -0.6752372371178297,
          -1.709859317102744,
          0.7549296585513718,
          -0.7549296585513714,
          -1.1549296585513715,
          -0.9549296585513729,
          1.1253953951963827,
          0,
          -2.109859317102744
         ],
         "y": [
          0.6752372371178296,
          0.6752372371178296,
          -0.6752372371178295,
          -0.6752372371178295,
          -0.6752372371178297,
          -0.6752372371178297,
          1.291916229670548e-16,
          8.020575100116068e-17,
          1.6539866862653763,
          0.6752372371178293,
          -3.3858899693527023e-16,
          1.6539866862653763,
          -1.6539866862653765,
          -1.6539866862653765,
          1.6539866862653756,
          1.1253953951963829,
          0,
          -3.875748689011644e-16
         ],
         "z": [
          0,
          0,
          0,
          0,
          0,
          0,
          2,
          2,
          2,
          0,
          2,
          2,
          2,
          2,
          2,
          3,
          3.75,
          2
         ]
        },
        {
         "colorscale": [
          [
           0,
           "red"
          ],
          [
           0.5,
           "rgb(20, 97, 168)"
          ],
          [
           1,
           "blue"
          ]
         ],
         "hoverinfo": "text",
         "hovertext": "<br>=3-Relation=<br><br>Distinction 0: ACD<br>Direction: CAUSE<br>Purview: ABCD<br>φ = 0.2045<br>State: [0, 1, 0, 1]<br><br>Distinction 1: C<br>Direction: CAUSE<br>Purview: C<br>φ = 0.486<br>State: [0]<br><br>Distinction 2: C<br>Direction: EFFECT<br>Purview: C<br>φ = 0.6273<br>State: [0]<br><br>Relation purview: C<br>Relation φ = 0.486<br>",
         "i": [
          4
         ],
         "intensity": [
          1
         ],
         "intensitymode": "cell",
         "j": [
          5
         ],
         "k": [
          16
         ],
         "legendgroup": "All 3-Relations",
         "name": "All 3-Relations",
         "opacity": 0.07424999999999998,
         "showlegend": false,
         "showscale": false,
         "type": "mesh3d",
         "visible": true,
         "x": [
          0.8752372371178294,
          0.47523723711782945,
          0.8752372371178296,
          0.47523723711782956,
          -0.47523723711782945,
          -0.8752372371178294,
          2.109859317102744,
          1.709859317102744,
          1.154929658551372,
          -0.6752372371178297,
          -1.709859317102744,
          0.7549296585513718,
          -0.7549296585513714,
          -1.1549296585513715,
          -0.9549296585513729,
          1.1253953951963827,
          0,
          -2.109859317102744
         ],
         "y": [
          0.6752372371178296,
          0.6752372371178296,
          -0.6752372371178295,
          -0.6752372371178295,
          -0.6752372371178297,
          -0.6752372371178297,
          1.291916229670548e-16,
          8.020575100116068e-17,
          1.6539866862653763,
          0.6752372371178293,
          -3.3858899693527023e-16,
          1.6539866862653763,
          -1.6539866862653765,
          -1.6539866862653765,
          1.6539866862653756,
          1.1253953951963829,
          0,
          -3.875748689011644e-16
         ],
         "z": [
          0,
          0,
          0,
          0,
          0,
          0,
          2,
          2,
          2,
          0,
          2,
          2,
          2,
          2,
          2,
          3,
          3.75,
          2
         ]
        },
        {
         "colorscale": [
          [
           0,
           "red"
          ],
          [
           0.5,
           "rgb(42, 122, 185)"
          ],
          [
           1,
           "blue"
          ]
         ],
         "hoverinfo": "text",
         "hovertext": "<br>=3-Relation=<br><br>Distinction 0: A<br>Direction: CAUSE<br>Purview: A<br>φ = 0.486<br>State: [0]<br><br>Distinction 1: ACD<br>Direction: CAUSE<br>Purview: ABCD<br>φ = 0.2045<br>State: [0, 1, 0, 1]<br><br>Distinction 2: D<br>Direction: CAUSE<br>Purview: AC<br>φ = 0.1035<br>State: [1, 0]<br><br>Relation purview: A<br>Relation φ = 0.1247<br>",
         "i": [
          0
         ],
         "intensity": [
          1
         ],
         "intensitymode": "cell",
         "j": [
          6
         ],
         "k": [
          16
         ],
         "legendgroup": "All 3-Relations",
         "name": "All 3-Relations",
         "opacity": 0.029961049931945503,
         "showlegend": false,
         "showscale": false,
         "type": "mesh3d",
         "visible": true,
         "x": [
          0.8752372371178294,
          0.47523723711782945,
          0.8752372371178296,
          0.47523723711782956,
          -0.47523723711782945,
          -0.8752372371178294,
          2.109859317102744,
          1.709859317102744,
          1.154929658551372,
          -0.6752372371178297,
          -1.709859317102744,
          0.7549296585513718,
          -0.7549296585513714,
          -1.1549296585513715,
          -0.9549296585513729,
          1.1253953951963827,
          0,
          -2.109859317102744
         ],
         "y": [
          0.6752372371178296,
          0.6752372371178296,
          -0.6752372371178295,
          -0.6752372371178295,
          -0.6752372371178297,
          -0.6752372371178297,
          1.291916229670548e-16,
          8.020575100116068e-17,
          1.6539866862653763,
          0.6752372371178293,
          -3.3858899693527023e-16,
          1.6539866862653763,
          -1.6539866862653765,
          -1.6539866862653765,
          1.6539866862653756,
          1.1253953951963829,
          0,
          -3.875748689011644e-16
         ],
         "z": [
          0,
          0,
          0,
          0,
          0,
          0,
          2,
          2,
          2,
          0,
          2,
          2,
          2,
          2,
          2,
          3,
          3.75,
          2
         ]
        },
        {
         "colorscale": [
          [
           0,
           "red"
          ],
          [
           0.5,
           "rgb(191, 216, 236)"
          ],
          [
           1,
           "blue"
          ]
         ],
         "hoverinfo": "text",
         "hovertext": "<br>=3-Relation=<br><br>Distinction 0: A<br>Direction: CAUSE<br>Purview: A<br>φ = 0.486<br>State: [0]<br><br>Distinction 1: ACD<br>Direction: CAUSE<br>Purview: ABCD<br>φ = 0.2045<br>State: [0, 1, 0, 1]<br><br>Distinction 2: A<br>Direction: EFFECT<br>Purview: A<br>φ = 0.6273<br>State: [0]<br><br>Relation purview: A<br>Relation φ = 0.486<br>",
         "i": [
          0
         ],
         "intensity": [
          1
         ],
         "intensitymode": "cell",
         "j": [
          1
         ],
         "k": [
          16
         ],
         "legendgroup": "All 3-Relations",
         "name": "All 3-Relations",
         "opacity": 0.07425,
         "showlegend": false,
         "showscale": false,
         "type": "mesh3d",
         "visible": true,
         "x": [
          0.8752372371178294,
          0.47523723711782945,
          0.8752372371178296,
          0.47523723711782956,
          -0.47523723711782945,
          -0.8752372371178294,
          2.109859317102744,
          1.709859317102744,
          1.154929658551372,
          -0.6752372371178297,
          -1.709859317102744,
          0.7549296585513718,
          -0.7549296585513714,
          -1.1549296585513715,
          -0.9549296585513729,
          1.1253953951963827,
          0,
          -2.109859317102744
         ],
         "y": [
          0.6752372371178296,
          0.6752372371178296,
          -0.6752372371178295,
          -0.6752372371178295,
          -0.6752372371178297,
          -0.6752372371178297,
          1.291916229670548e-16,
          8.020575100116068e-17,
          1.6539866862653763,
          0.6752372371178293,
          -3.3858899693527023e-16,
          1.6539866862653763,
          -1.6539866862653765,
          -1.6539866862653765,
          1.6539866862653756,
          1.1253953951963829,
          0,
          -3.875748689011644e-16
         ],
         "z": [
          0,
          0,
          0,
          0,
          0,
          0,
          2,
          2,
          2,
          0,
          2,
          2,
          2,
          2,
          2,
          3,
          3.75,
          2
         ]
        },
        {
         "colorscale": [
          [
           0,
           "red"
          ],
          [
           0.5,
           "rgb(206, 224, 241)"
          ],
          [
           1,
           "blue"
          ]
         ],
         "hoverinfo": "text",
         "hovertext": "<br>=3-Relation=<br><br>Distinction 0: ACD<br>Direction: CAUSE<br>Purview: ABCD<br>φ = 0.2045<br>State: [0, 1, 0, 1]<br><br>Distinction 1: C<br>Direction: EFFECT<br>Purview: C<br>φ = 0.6273<br>State: [0]<br><br>Distinction 2: D<br>Direction: EFFECT<br>Purview: AC<br>φ = 0.0052<br>State: [0, 0]<br><br>Relation purview: C<br>Relation φ = 0.0026<br>",
         "i": [
          5
         ],
         "intensity": [
          1
         ],
         "intensitymode": "cell",
         "j": [
          7
         ],
         "k": [
          16
         ],
         "legendgroup": "All 3-Relations",
         "name": "All 3-Relations",
         "opacity": 0.015000000000000024,
         "showlegend": false,
         "showscale": false,
         "type": "mesh3d",
         "visible": true,
         "x": [
          0.8752372371178294,
          0.47523723711782945,
          0.8752372371178296,
          0.47523723711782956,
          -0.47523723711782945,
          -0.8752372371178294,
          2.109859317102744,
          1.709859317102744,
          1.154929658551372,
          -0.6752372371178297,
          -1.709859317102744,
          0.7549296585513718,
          -0.7549296585513714,
          -1.1549296585513715,
          -0.9549296585513729,
          1.1253953951963827,
          0,
          -2.109859317102744
         ],
         "y": [
          0.6752372371178296,
          0.6752372371178296,
          -0.6752372371178295,
          -0.6752372371178295,
          -0.6752372371178297,
          -0.6752372371178297,
          1.291916229670548e-16,
          8.020575100116068e-17,
          1.6539866862653763,
          0.6752372371178293,
          -3.3858899693527023e-16,
          1.6539866862653763,
          -1.6539866862653765,
          -1.6539866862653765,
          1.6539866862653756,
          1.1253953951963829,
          0,
          -3.875748689011644e-16
         ],
         "z": [
          0,
          0,
          0,
          0,
          0,
          0,
          2,
          2,
          2,
          0,
          2,
          2,
          2,
          2,
          2,
          3,
          3.75,
          2
         ]
        },
        {
         "colorscale": [
          [
           0,
           "red"
          ],
          [
           0.5,
           "rgb(243, 248, 253)"
          ],
          [
           1,
           "blue"
          ]
         ],
         "hoverinfo": "text",
         "hovertext": "<br>=3-Relation=<br><br>Distinction 0: C<br>Direction: CAUSE<br>Purview: C<br>φ = 0.486<br>State: [0]<br><br>Distinction 1: CD<br>Direction: EFFECT<br>Purview: BC<br>φ = 0.0056<br>State: [0, 0]<br><br>Distinction 2: ABC<br>Direction: EFFECT<br>Purview: ABC<br>φ = 0.0235<br>State: [0, 1, 0]<br><br>Relation purview: C<br>Relation φ = 0.0322<br>",
         "i": [
          4
         ],
         "intensity": [
          1
         ],
         "intensitymode": "cell",
         "j": [
          13
         ],
         "k": [
          15
         ],
         "legendgroup": "All 3-Relations",
         "name": "All 3-Relations",
         "opacity": 0.01862749489416537,
         "showlegend": false,
         "showscale": false,
         "type": "mesh3d",
         "visible": true,
         "x": [
          0.8752372371178294,
          0.47523723711782945,
          0.8752372371178296,
          0.47523723711782956,
          -0.47523723711782945,
          -0.8752372371178294,
          2.109859317102744,
          1.709859317102744,
          1.154929658551372,
          -0.6752372371178297,
          -1.709859317102744,
          0.7549296585513718,
          -0.7549296585513714,
          -1.1549296585513715,
          -0.9549296585513729,
          1.1253953951963827,
          0,
          -2.109859317102744
         ],
         "y": [
          0.6752372371178296,
          0.6752372371178296,
          -0.6752372371178295,
          -0.6752372371178295,
          -0.6752372371178297,
          -0.6752372371178297,
          1.291916229670548e-16,
          8.020575100116068e-17,
          1.6539866862653763,
          0.6752372371178293,
          -3.3858899693527023e-16,
          1.6539866862653763,
          -1.6539866862653765,
          -1.6539866862653765,
          1.6539866862653756,
          1.1253953951963829,
          0,
          -3.875748689011644e-16
         ],
         "z": [
          0,
          0,
          0,
          0,
          0,
          0,
          2,
          2,
          2,
          0,
          2,
          2,
          2,
          2,
          2,
          3,
          3.75,
          2
         ]
        },
        {
         "colorscale": [
          [
           0,
           "red"
          ],
          [
           0.5,
           "rgb(50, 130, 190)"
          ],
          [
           1,
           "blue"
          ]
         ],
         "hoverinfo": "text",
         "hovertext": "<br>=3-Relation=<br><br>Distinction 0: C<br>Direction: CAUSE<br>Purview: C<br>φ = 0.486<br>State: [0]<br><br>Distinction 1: C<br>Direction: EFFECT<br>Purview: C<br>φ = 0.6273<br>State: [0]<br><br>Distinction 2: ABC<br>Direction: EFFECT<br>Purview: ABC<br>φ = 0.0235<br>State: [0, 1, 0]<br><br>Relation purview: C<br>Relation φ = 0.0322<br>",
         "i": [
          4
         ],
         "intensity": [
          1
         ],
         "intensitymode": "cell",
         "j": [
          5
         ],
         "k": [
          15
         ],
         "legendgroup": "All 3-Relations",
         "name": "All 3-Relations",
         "opacity": 0.01862749489416537,
         "showlegend": false,
         "showscale": false,
         "type": "mesh3d",
         "visible": true,
         "x": [
          0.8752372371178294,
          0.47523723711782945,
          0.8752372371178296,
          0.47523723711782956,
          -0.47523723711782945,
          -0.8752372371178294,
          2.109859317102744,
          1.709859317102744,
          1.154929658551372,
          -0.6752372371178297,
          -1.709859317102744,
          0.7549296585513718,
          -0.7549296585513714,
          -1.1549296585513715,
          -0.9549296585513729,
          1.1253953951963827,
          0,
          -2.109859317102744
         ],
         "y": [
          0.6752372371178296,
          0.6752372371178296,
          -0.6752372371178295,
          -0.6752372371178295,
          -0.6752372371178297,
          -0.6752372371178297,
          1.291916229670548e-16,
          8.020575100116068e-17,
          1.6539866862653763,
          0.6752372371178293,
          -3.3858899693527023e-16,
          1.6539866862653763,
          -1.6539866862653765,
          -1.6539866862653765,
          1.6539866862653756,
          1.1253953951963829,
          0,
          -3.875748689011644e-16
         ],
         "z": [
          0,
          0,
          0,
          0,
          0,
          0,
          2,
          2,
          2,
          0,
          2,
          2,
          2,
          2,
          2,
          3,
          3.75,
          2
         ]
        },
        {
         "colorscale": [
          [
           0,
           "red"
          ],
          [
           0.5,
           "rgb(93, 164, 208)"
          ],
          [
           1,
           "blue"
          ]
         ],
         "hoverinfo": "text",
         "hovertext": "<br>=3-Relation=<br><br>Distinction 0: C<br>Direction: EFFECT<br>Purview: C<br>φ = 0.6273<br>State: [0]<br><br>Distinction 1: D<br>Direction: CAUSE<br>Purview: AC<br>φ = 0.1035<br>State: [1, 0]<br><br>Distinction 2: ABC<br>Direction: EFFECT<br>Purview: ABC<br>φ = 0.0235<br>State: [0, 1, 0]<br><br>Relation purview: C<br>Relation φ = 0.0322<br>",
         "i": [
          5
         ],
         "intensity": [
          1
         ],
         "intensitymode": "cell",
         "j": [
          6
         ],
         "k": [
          15
         ],
         "legendgroup": "All 3-Relations",
         "name": "All 3-Relations",
         "opacity": 0.01862749489416537,
         "showlegend": false,
         "showscale": false,
         "type": "mesh3d",
         "visible": true,
         "x": [
          0.8752372371178294,
          0.47523723711782945,
          0.8752372371178296,
          0.47523723711782956,
          -0.47523723711782945,
          -0.8752372371178294,
          2.109859317102744,
          1.709859317102744,
          1.154929658551372,
          -0.6752372371178297,
          -1.709859317102744,
          0.7549296585513718,
          -0.7549296585513714,
          -1.1549296585513715,
          -0.9549296585513729,
          1.1253953951963827,
          0,
          -2.109859317102744
         ],
         "y": [
          0.6752372371178296,
          0.6752372371178296,
          -0.6752372371178295,
          -0.6752372371178295,
          -0.6752372371178297,
          -0.6752372371178297,
          1.291916229670548e-16,
          8.020575100116068e-17,
          1.6539866862653763,
          0.6752372371178293,
          -3.3858899693527023e-16,
          1.6539866862653763,
          -1.6539866862653765,
          -1.6539866862653765,
          1.6539866862653756,
          1.1253953951963829,
          0,
          -3.875748689011644e-16
         ],
         "z": [
          0,
          0,
          0,
          0,
          0,
          0,
          2,
          2,
          2,
          0,
          2,
          2,
          2,
          2,
          2,
          3,
          3.75,
          2
         ]
        },
        {
         "colorscale": [
          [
           0,
           "red"
          ],
          [
           0.5,
           "rgb(149, 197, 223)"
          ],
          [
           1,
           "blue"
          ]
         ],
         "hoverinfo": "text",
         "hovertext": "<br>=3-Relation=<br><br>Distinction 0: B<br>Direction: EFFECT<br>Purview: B<br>φ = 0.3524<br>State: [1]<br><br>Distinction 1: B<br>Direction: CAUSE<br>Purview: B<br>φ = 0.2328<br>State: [1]<br><br>Distinction 2: BD<br>Direction: CAUSE<br>Purview: BD<br>φ = 0.0886<br>State: [1, 0]<br><br>Relation purview: B<br>Relation φ = 0.0189<br>",
         "i": [
          2
         ],
         "intensity": [
          1
         ],
         "intensitymode": "cell",
         "j": [
          3
         ],
         "k": [
          10
         ],
         "legendgroup": "All 3-Relations",
         "name": "All 3-Relations",
         "opacity": 0.01700299150885815,
         "showlegend": false,
         "showscale": false,
         "type": "mesh3d",
         "visible": true,
         "x": [
          0.8752372371178294,
          0.47523723711782945,
          0.8752372371178296,
          0.47523723711782956,
          -0.47523723711782945,
          -0.8752372371178294,
          2.109859317102744,
          1.709859317102744,
          1.154929658551372,
          -0.6752372371178297,
          -1.709859317102744,
          0.7549296585513718,
          -0.7549296585513714,
          -1.1549296585513715,
          -0.9549296585513729,
          1.1253953951963827,
          0,
          -2.109859317102744
         ],
         "y": [
          0.6752372371178296,
          0.6752372371178296,
          -0.6752372371178295,
          -0.6752372371178295,
          -0.6752372371178297,
          -0.6752372371178297,
          1.291916229670548e-16,
          8.020575100116068e-17,
          1.6539866862653763,
          0.6752372371178293,
          -3.3858899693527023e-16,
          1.6539866862653763,
          -1.6539866862653765,
          -1.6539866862653765,
          1.6539866862653756,
          1.1253953951963829,
          0,
          -3.875748689011644e-16
         ],
         "z": [
          0,
          0,
          0,
          0,
          0,
          0,
          2,
          2,
          2,
          0,
          2,
          2,
          2,
          2,
          2,
          3,
          3.75,
          2
         ]
        },
        {
         "colorscale": [
          [
           0,
           "red"
          ],
          [
           0.5,
           "rgb(67, 147, 198)"
          ],
          [
           1,
           "blue"
          ]
         ],
         "hoverinfo": "text",
         "hovertext": "<br>=3-Relation=<br><br>Distinction 0: ACD<br>Direction: CAUSE<br>Purview: ABCD<br>φ = 0.2045<br>State: [0, 1, 0, 1]<br><br>Distinction 1: CD<br>Direction: EFFECT<br>Purview: BC<br>φ = 0.0056<br>State: [0, 0]<br><br>Distinction 2: D<br>Direction: CAUSE<br>Purview: AC<br>φ = 0.1035<br>State: [1, 0]<br><br>Relation purview: C<br>Relation φ = 0.1247<br>",
         "i": [
          6
         ],
         "intensity": [
          1
         ],
         "intensitymode": "cell",
         "j": [
          13
         ],
         "k": [
          16
         ],
         "legendgroup": "All 3-Relations",
         "name": "All 3-Relations",
         "opacity": 0.029961049931945514,
         "showlegend": false,
         "showscale": false,
         "type": "mesh3d",
         "visible": true,
         "x": [
          0.8752372371178294,
          0.47523723711782945,
          0.8752372371178296,
          0.47523723711782956,
          -0.47523723711782945,
          -0.8752372371178294,
          2.109859317102744,
          1.709859317102744,
          1.154929658551372,
          -0.6752372371178297,
          -1.709859317102744,
          0.7549296585513718,
          -0.7549296585513714,
          -1.1549296585513715,
          -0.9549296585513729,
          1.1253953951963827,
          0,
          -2.109859317102744
         ],
         "y": [
          0.6752372371178296,
          0.6752372371178296,
          -0.6752372371178295,
          -0.6752372371178295,
          -0.6752372371178297,
          -0.6752372371178297,
          1.291916229670548e-16,
          8.020575100116068e-17,
          1.6539866862653763,
          0.6752372371178293,
          -3.3858899693527023e-16,
          1.6539866862653763,
          -1.6539866862653765,
          -1.6539866862653765,
          1.6539866862653756,
          1.1253953951963829,
          0,
          -3.875748689011644e-16
         ],
         "z": [
          0,
          0,
          0,
          0,
          0,
          0,
          2,
          2,
          2,
          0,
          2,
          2,
          2,
          2,
          2,
          3,
          3.75,
          2
         ]
        },
        {
         "colorscale": [
          [
           0,
           "red"
          ],
          [
           0.5,
           "rgb(63, 143, 196)"
          ],
          [
           1,
           "blue"
          ]
         ],
         "hoverinfo": "text",
         "hovertext": "<br>=3-Relation=<br><br>Distinction 0: CD<br>Direction: EFFECT<br>Purview: BC<br>φ = 0.0056<br>State: [0, 0]<br><br>Distinction 1: C<br>Direction: EFFECT<br>Purview: C<br>φ = 0.6273<br>State: [0]<br><br>Distinction 2: ABC<br>Direction: EFFECT<br>Purview: ABC<br>φ = 0.0235<br>State: [0, 1, 0]<br><br>Relation purview: C<br>Relation φ = 0.0322<br>",
         "i": [
          5
         ],
         "intensity": [
          1
         ],
         "intensitymode": "cell",
         "j": [
          13
         ],
         "k": [
          15
         ],
         "legendgroup": "All 3-Relations",
         "name": "All 3-Relations",
         "opacity": 0.01862749489416537,
         "showlegend": false,
         "showscale": false,
         "type": "mesh3d",
         "visible": true,
         "x": [
          0.8752372371178294,
          0.47523723711782945,
          0.8752372371178296,
          0.47523723711782956,
          -0.47523723711782945,
          -0.8752372371178294,
          2.109859317102744,
          1.709859317102744,
          1.154929658551372,
          -0.6752372371178297,
          -1.709859317102744,
          0.7549296585513718,
          -0.7549296585513714,
          -1.1549296585513715,
          -0.9549296585513729,
          1.1253953951963827,
          0,
          -2.109859317102744
         ],
         "y": [
          0.6752372371178296,
          0.6752372371178296,
          -0.6752372371178295,
          -0.6752372371178295,
          -0.6752372371178297,
          -0.6752372371178297,
          1.291916229670548e-16,
          8.020575100116068e-17,
          1.6539866862653763,
          0.6752372371178293,
          -3.3858899693527023e-16,
          1.6539866862653763,
          -1.6539866862653765,
          -1.6539866862653765,
          1.6539866862653756,
          1.1253953951963829,
          0,
          -3.875748689011644e-16
         ],
         "z": [
          0,
          0,
          0,
          0,
          0,
          0,
          2,
          2,
          2,
          0,
          2,
          2,
          2,
          2,
          2,
          3,
          3.75,
          2
         ]
        },
        {
         "colorscale": [
          [
           0,
           "red"
          ],
          [
           0.5,
           "rgb(225, 236, 247)"
          ],
          [
           1,
           "blue"
          ]
         ],
         "hoverinfo": "text",
         "hovertext": "<br>=3-Relation=<br><br>Distinction 0: ACD<br>Direction: CAUSE<br>Purview: ABCD<br>φ = 0.2045<br>State: [0, 1, 0, 1]<br><br>Distinction 1: BD<br>Direction: EFFECT<br>Purview: AB<br>φ = 0.0028<br>State: [1, 1]<br><br>Distinction 2: B<br>Direction: EFFECT<br>Purview: B<br>φ = 0.3524<br>State: [1]<br><br>Relation purview: B<br>Relation φ = 0.1496<br>",
         "i": [
          3
         ],
         "intensity": [
          1
         ],
         "intensitymode": "cell",
         "j": [
          11
         ],
         "k": [
          16
         ],
         "legendgroup": "All 3-Relations",
         "name": "All 3-Relations",
         "opacity": 0.03301883920391138,
         "showlegend": false,
         "showscale": false,
         "type": "mesh3d",
         "visible": true,
         "x": [
          0.8752372371178294,
          0.47523723711782945,
          0.8752372371178296,
          0.47523723711782956,
          -0.47523723711782945,
          -0.8752372371178294,
          2.109859317102744,
          1.709859317102744,
          1.154929658551372,
          -0.6752372371178297,
          -1.709859317102744,
          0.7549296585513718,
          -0.7549296585513714,
          -1.1549296585513715,
          -0.9549296585513729,
          1.1253953951963827,
          0,
          -2.109859317102744
         ],
         "y": [
          0.6752372371178296,
          0.6752372371178296,
          -0.6752372371178295,
          -0.6752372371178295,
          -0.6752372371178297,
          -0.6752372371178297,
          1.291916229670548e-16,
          8.020575100116068e-17,
          1.6539866862653763,
          0.6752372371178293,
          -3.3858899693527023e-16,
          1.6539866862653763,
          -1.6539866862653765,
          -1.6539866862653765,
          1.6539866862653756,
          1.1253953951963829,
          0,
          -3.875748689011644e-16
         ],
         "z": [
          0,
          0,
          0,
          0,
          0,
          0,
          2,
          2,
          2,
          0,
          2,
          2,
          2,
          2,
          2,
          3,
          3.75,
          2
         ]
        },
        {
         "colorscale": [
          [
           0,
           "red"
          ],
          [
           0.5,
           "rgb(8, 60, 125)"
          ],
          [
           1,
           "blue"
          ]
         ],
         "hoverinfo": "text",
         "hovertext": "<br>=3-Relation=<br><br>Distinction 0: AD<br>Direction: CAUSE<br>Purview: AB<br>φ = 0.1408<br>State: [0, 1]<br><br>Distinction 1: CD<br>Direction: CAUSE<br>Purview: BC<br>φ = 0.1408<br>State: [1, 0]<br><br>Distinction 2: ABC<br>Direction: EFFECT<br>Purview: ABC<br>φ = 0.0235<br>State: [0, 1, 0]<br><br>Relation purview: B<br>Relation φ = 0.1147<br>",
         "i": [
          8
         ],
         "intensity": [
          1
         ],
         "intensitymode": "cell",
         "j": [
          12
         ],
         "k": [
          15
         ],
         "legendgroup": "All 3-Relations",
         "name": "All 3-Relations",
         "opacity": 0.02873619228332918,
         "showlegend": false,
         "showscale": false,
         "type": "mesh3d",
         "visible": true,
         "x": [
          0.8752372371178294,
          0.47523723711782945,
          0.8752372371178296,
          0.47523723711782956,
          -0.47523723711782945,
          -0.8752372371178294,
          2.109859317102744,
          1.709859317102744,
          1.154929658551372,
          -0.6752372371178297,
          -1.709859317102744,
          0.7549296585513718,
          -0.7549296585513714,
          -1.1549296585513715,
          -0.9549296585513729,
          1.1253953951963827,
          0,
          -2.109859317102744
         ],
         "y": [
          0.6752372371178296,
          0.6752372371178296,
          -0.6752372371178295,
          -0.6752372371178295,
          -0.6752372371178297,
          -0.6752372371178297,
          1.291916229670548e-16,
          8.020575100116068e-17,
          1.6539866862653763,
          0.6752372371178293,
          -3.3858899693527023e-16,
          1.6539866862653763,
          -1.6539866862653765,
          -1.6539866862653765,
          1.6539866862653756,
          1.1253953951963829,
          0,
          -3.875748689011644e-16
         ],
         "z": [
          0,
          0,
          0,
          0,
          0,
          0,
          2,
          2,
          2,
          0,
          2,
          2,
          2,
          2,
          2,
          3,
          3.75,
          2
         ]
        }
       ],
       "layout": {
        "autosize": true,
        "height": 800,
        "hovermode": "x",
        "legend": {
         "title": {
          "font": {
           "color": "black",
           "size": 15
          },
          "text": "Trace legend (click trace to show/hide):"
         }
        },
        "paper_bgcolor": "white",
        "plot_bgcolor": "white",
        "scene": {
         "camera": {
          "eye": {
           "x": 0.22657694675916246,
           "y": 0,
           "z": 0.10565456543517486
          }
         },
         "xaxis": {
          "autorange": false,
          "backgroundcolor": "white",
          "gridcolor": "lightgray",
          "range": [
           -12.109859317102744,
           12.109859317102744
          ],
          "showbackground": false,
          "showgrid": false,
          "showline": false,
          "showspikes": false,
          "showticklabels": false,
          "title": {
           "text": ""
          },
          "zeroline": false
         },
         "yaxis": {
          "autorange": false,
          "backgroundcolor": "white",
          "gridcolor": "lightgray",
          "range": [
           -11.653986686265377,
           11.653986686265377
          ],
          "showbackground": false,
          "showgrid": false,
          "showline": false,
          "showspikes": false,
          "showticklabels": false,
          "title": {
           "text": ""
          },
          "zeroline": false
         },
         "zaxis": {
          "autorange": false,
          "backgroundcolor": "white",
          "gridcolor": "lightgray",
          "range": [
           -10,
           13.75
          ],
          "showbackground": false,
          "showgrid": false,
          "showline": false,
          "showspikes": false,
          "showticklabels": false,
          "title": {
           "text": ""
          },
          "zeroline": false
         }
        },
        "showlegend": true,
        "template": {
         "data": {
          "bar": [
           {
            "error_x": {
             "color": "#2a3f5f"
            },
            "error_y": {
             "color": "#2a3f5f"
            },
            "marker": {
             "line": {
              "color": "#E5ECF6",
              "width": 0.5
             },
             "pattern": {
              "fillmode": "overlay",
              "size": 10,
              "solidity": 0.2
             }
            },
            "type": "bar"
           }
          ],
          "barpolar": [
           {
            "marker": {
             "line": {
              "color": "#E5ECF6",
              "width": 0.5
             },
             "pattern": {
              "fillmode": "overlay",
              "size": 10,
              "solidity": 0.2
             }
            },
            "type": "barpolar"
           }
          ],
          "carpet": [
           {
            "aaxis": {
             "endlinecolor": "#2a3f5f",
             "gridcolor": "white",
             "linecolor": "white",
             "minorgridcolor": "white",
             "startlinecolor": "#2a3f5f"
            },
            "baxis": {
             "endlinecolor": "#2a3f5f",
             "gridcolor": "white",
             "linecolor": "white",
             "minorgridcolor": "white",
             "startlinecolor": "#2a3f5f"
            },
            "type": "carpet"
           }
          ],
          "choropleth": [
           {
            "colorbar": {
             "outlinewidth": 0,
             "ticks": ""
            },
            "type": "choropleth"
           }
          ],
          "contour": [
           {
            "colorbar": {
             "outlinewidth": 0,
             "ticks": ""
            },
            "colorscale": [
             [
              0,
              "#0d0887"
             ],
             [
              0.1111111111111111,
              "#46039f"
             ],
             [
              0.2222222222222222,
              "#7201a8"
             ],
             [
              0.3333333333333333,
              "#9c179e"
             ],
             [
              0.4444444444444444,
              "#bd3786"
             ],
             [
              0.5555555555555556,
              "#d8576b"
             ],
             [
              0.6666666666666666,
              "#ed7953"
             ],
             [
              0.7777777777777778,
              "#fb9f3a"
             ],
             [
              0.8888888888888888,
              "#fdca26"
             ],
             [
              1,
              "#f0f921"
             ]
            ],
            "type": "contour"
           }
          ],
          "contourcarpet": [
           {
            "colorbar": {
             "outlinewidth": 0,
             "ticks": ""
            },
            "type": "contourcarpet"
           }
          ],
          "heatmap": [
           {
            "colorbar": {
             "outlinewidth": 0,
             "ticks": ""
            },
            "colorscale": [
             [
              0,
              "#0d0887"
             ],
             [
              0.1111111111111111,
              "#46039f"
             ],
             [
              0.2222222222222222,
              "#7201a8"
             ],
             [
              0.3333333333333333,
              "#9c179e"
             ],
             [
              0.4444444444444444,
              "#bd3786"
             ],
             [
              0.5555555555555556,
              "#d8576b"
             ],
             [
              0.6666666666666666,
              "#ed7953"
             ],
             [
              0.7777777777777778,
              "#fb9f3a"
             ],
             [
              0.8888888888888888,
              "#fdca26"
             ],
             [
              1,
              "#f0f921"
             ]
            ],
            "type": "heatmap"
           }
          ],
          "heatmapgl": [
           {
            "colorbar": {
             "outlinewidth": 0,
             "ticks": ""
            },
            "colorscale": [
             [
              0,
              "#0d0887"
             ],
             [
              0.1111111111111111,
              "#46039f"
             ],
             [
              0.2222222222222222,
              "#7201a8"
             ],
             [
              0.3333333333333333,
              "#9c179e"
             ],
             [
              0.4444444444444444,
              "#bd3786"
             ],
             [
              0.5555555555555556,
              "#d8576b"
             ],
             [
              0.6666666666666666,
              "#ed7953"
             ],
             [
              0.7777777777777778,
              "#fb9f3a"
             ],
             [
              0.8888888888888888,
              "#fdca26"
             ],
             [
              1,
              "#f0f921"
             ]
            ],
            "type": "heatmapgl"
           }
          ],
          "histogram": [
           {
            "marker": {
             "pattern": {
              "fillmode": "overlay",
              "size": 10,
              "solidity": 0.2
             }
            },
            "type": "histogram"
           }
          ],
          "histogram2d": [
           {
            "colorbar": {
             "outlinewidth": 0,
             "ticks": ""
            },
            "colorscale": [
             [
              0,
              "#0d0887"
             ],
             [
              0.1111111111111111,
              "#46039f"
             ],
             [
              0.2222222222222222,
              "#7201a8"
             ],
             [
              0.3333333333333333,
              "#9c179e"
             ],
             [
              0.4444444444444444,
              "#bd3786"
             ],
             [
              0.5555555555555556,
              "#d8576b"
             ],
             [
              0.6666666666666666,
              "#ed7953"
             ],
             [
              0.7777777777777778,
              "#fb9f3a"
             ],
             [
              0.8888888888888888,
              "#fdca26"
             ],
             [
              1,
              "#f0f921"
             ]
            ],
            "type": "histogram2d"
           }
          ],
          "histogram2dcontour": [
           {
            "colorbar": {
             "outlinewidth": 0,
             "ticks": ""
            },
            "colorscale": [
             [
              0,
              "#0d0887"
             ],
             [
              0.1111111111111111,
              "#46039f"
             ],
             [
              0.2222222222222222,
              "#7201a8"
             ],
             [
              0.3333333333333333,
              "#9c179e"
             ],
             [
              0.4444444444444444,
              "#bd3786"
             ],
             [
              0.5555555555555556,
              "#d8576b"
             ],
             [
              0.6666666666666666,
              "#ed7953"
             ],
             [
              0.7777777777777778,
              "#fb9f3a"
             ],
             [
              0.8888888888888888,
              "#fdca26"
             ],
             [
              1,
              "#f0f921"
             ]
            ],
            "type": "histogram2dcontour"
           }
          ],
          "mesh3d": [
           {
            "colorbar": {
             "outlinewidth": 0,
             "ticks": ""
            },
            "type": "mesh3d"
           }
          ],
          "parcoords": [
           {
            "line": {
             "colorbar": {
              "outlinewidth": 0,
              "ticks": ""
             }
            },
            "type": "parcoords"
           }
          ],
          "pie": [
           {
            "automargin": true,
            "type": "pie"
           }
          ],
          "scatter": [
           {
            "marker": {
             "colorbar": {
              "outlinewidth": 0,
              "ticks": ""
             }
            },
            "type": "scatter"
           }
          ],
          "scatter3d": [
           {
            "line": {
             "colorbar": {
              "outlinewidth": 0,
              "ticks": ""
             }
            },
            "marker": {
             "colorbar": {
              "outlinewidth": 0,
              "ticks": ""
             }
            },
            "type": "scatter3d"
           }
          ],
          "scattercarpet": [
           {
            "marker": {
             "colorbar": {
              "outlinewidth": 0,
              "ticks": ""
             }
            },
            "type": "scattercarpet"
           }
          ],
          "scattergeo": [
           {
            "marker": {
             "colorbar": {
              "outlinewidth": 0,
              "ticks": ""
             }
            },
            "type": "scattergeo"
           }
          ],
          "scattergl": [
           {
            "marker": {
             "colorbar": {
              "outlinewidth": 0,
              "ticks": ""
             }
            },
            "type": "scattergl"
           }
          ],
          "scattermapbox": [
           {
            "marker": {
             "colorbar": {
              "outlinewidth": 0,
              "ticks": ""
             }
            },
            "type": "scattermapbox"
           }
          ],
          "scatterpolar": [
           {
            "marker": {
             "colorbar": {
              "outlinewidth": 0,
              "ticks": ""
             }
            },
            "type": "scatterpolar"
           }
          ],
          "scatterpolargl": [
           {
            "marker": {
             "colorbar": {
              "outlinewidth": 0,
              "ticks": ""
             }
            },
            "type": "scatterpolargl"
           }
          ],
          "scatterternary": [
           {
            "marker": {
             "colorbar": {
              "outlinewidth": 0,
              "ticks": ""
             }
            },
            "type": "scatterternary"
           }
          ],
          "surface": [
           {
            "colorbar": {
             "outlinewidth": 0,
             "ticks": ""
            },
            "colorscale": [
             [
              0,
              "#0d0887"
             ],
             [
              0.1111111111111111,
              "#46039f"
             ],
             [
              0.2222222222222222,
              "#7201a8"
             ],
             [
              0.3333333333333333,
              "#9c179e"
             ],
             [
              0.4444444444444444,
              "#bd3786"
             ],
             [
              0.5555555555555556,
              "#d8576b"
             ],
             [
              0.6666666666666666,
              "#ed7953"
             ],
             [
              0.7777777777777778,
              "#fb9f3a"
             ],
             [
              0.8888888888888888,
              "#fdca26"
             ],
             [
              1,
              "#f0f921"
             ]
            ],
            "type": "surface"
           }
          ],
          "table": [
           {
            "cells": {
             "fill": {
              "color": "#EBF0F8"
             },
             "line": {
              "color": "white"
             }
            },
            "header": {
             "fill": {
              "color": "#C8D4E3"
             },
             "line": {
              "color": "white"
             }
            },
            "type": "table"
           }
          ]
         },
         "layout": {
          "annotationdefaults": {
           "arrowcolor": "#2a3f5f",
           "arrowhead": 0,
           "arrowwidth": 1
          },
          "autotypenumbers": "strict",
          "coloraxis": {
           "colorbar": {
            "outlinewidth": 0,
            "ticks": ""
           }
          },
          "colorscale": {
           "diverging": [
            [
             0,
             "#8e0152"
            ],
            [
             0.1,
             "#c51b7d"
            ],
            [
             0.2,
             "#de77ae"
            ],
            [
             0.3,
             "#f1b6da"
            ],
            [
             0.4,
             "#fde0ef"
            ],
            [
             0.5,
             "#f7f7f7"
            ],
            [
             0.6,
             "#e6f5d0"
            ],
            [
             0.7,
             "#b8e186"
            ],
            [
             0.8,
             "#7fbc41"
            ],
            [
             0.9,
             "#4d9221"
            ],
            [
             1,
             "#276419"
            ]
           ],
           "sequential": [
            [
             0,
             "#0d0887"
            ],
            [
             0.1111111111111111,
             "#46039f"
            ],
            [
             0.2222222222222222,
             "#7201a8"
            ],
            [
             0.3333333333333333,
             "#9c179e"
            ],
            [
             0.4444444444444444,
             "#bd3786"
            ],
            [
             0.5555555555555556,
             "#d8576b"
            ],
            [
             0.6666666666666666,
             "#ed7953"
            ],
            [
             0.7777777777777778,
             "#fb9f3a"
            ],
            [
             0.8888888888888888,
             "#fdca26"
            ],
            [
             1,
             "#f0f921"
            ]
           ],
           "sequentialminus": [
            [
             0,
             "#0d0887"
            ],
            [
             0.1111111111111111,
             "#46039f"
            ],
            [
             0.2222222222222222,
             "#7201a8"
            ],
            [
             0.3333333333333333,
             "#9c179e"
            ],
            [
             0.4444444444444444,
             "#bd3786"
            ],
            [
             0.5555555555555556,
             "#d8576b"
            ],
            [
             0.6666666666666666,
             "#ed7953"
            ],
            [
             0.7777777777777778,
             "#fb9f3a"
            ],
            [
             0.8888888888888888,
             "#fdca26"
            ],
            [
             1,
             "#f0f921"
            ]
           ]
          },
          "colorway": [
           "#636efa",
           "#EF553B",
           "#00cc96",
           "#ab63fa",
           "#FFA15A",
           "#19d3f3",
           "#FF6692",
           "#B6E880",
           "#FF97FF",
           "#FECB52"
          ],
          "font": {
           "color": "#2a3f5f"
          },
          "geo": {
           "bgcolor": "white",
           "lakecolor": "white",
           "landcolor": "#E5ECF6",
           "showlakes": true,
           "showland": true,
           "subunitcolor": "white"
          },
          "hoverlabel": {
           "align": "left"
          },
          "hovermode": "closest",
          "mapbox": {
           "style": "light"
          },
          "paper_bgcolor": "white",
          "plot_bgcolor": "#E5ECF6",
          "polar": {
           "angularaxis": {
            "gridcolor": "white",
            "linecolor": "white",
            "ticks": ""
           },
           "bgcolor": "#E5ECF6",
           "radialaxis": {
            "gridcolor": "white",
            "linecolor": "white",
            "ticks": ""
           }
          },
          "scene": {
           "xaxis": {
            "backgroundcolor": "#E5ECF6",
            "gridcolor": "white",
            "gridwidth": 2,
            "linecolor": "white",
            "showbackground": true,
            "ticks": "",
            "zerolinecolor": "white"
           },
           "yaxis": {
            "backgroundcolor": "#E5ECF6",
            "gridcolor": "white",
            "gridwidth": 2,
            "linecolor": "white",
            "showbackground": true,
            "ticks": "",
            "zerolinecolor": "white"
           },
           "zaxis": {
            "backgroundcolor": "#E5ECF6",
            "gridcolor": "white",
            "gridwidth": 2,
            "linecolor": "white",
            "showbackground": true,
            "ticks": "",
            "zerolinecolor": "white"
           }
          },
          "shapedefaults": {
           "line": {
            "color": "#2a3f5f"
           }
          },
          "ternary": {
           "aaxis": {
            "gridcolor": "white",
            "linecolor": "white",
            "ticks": ""
           },
           "baxis": {
            "gridcolor": "white",
            "linecolor": "white",
            "ticks": ""
           },
           "bgcolor": "#E5ECF6",
           "caxis": {
            "gridcolor": "white",
            "linecolor": "white",
            "ticks": ""
           }
          },
          "title": {
           "x": 0.05
          },
          "xaxis": {
           "automargin": true,
           "gridcolor": "white",
           "linecolor": "white",
           "ticks": "",
           "title": {
            "standoff": 15
           },
           "zerolinecolor": "white",
           "zerolinewidth": 2
          },
          "yaxis": {
           "automargin": true,
           "gridcolor": "white",
           "linecolor": "white",
           "ticks": "",
           "title": {
            "standoff": 15
           },
           "zerolinecolor": "white",
           "zerolinewidth": 2
          }
         }
        },
        "title": {
         "font": {
          "size": 30
         },
         "text": ""
        },
        "width": 1400
       }
      },
      "text/html": [
       "<div>                            <div id=\"a4b1e400-75a5-4461-95b6-eb3385df9647\" class=\"plotly-graph-div\" style=\"height:800px; width:1400px;\"></div>            <script type=\"text/javascript\">                require([\"plotly\"], function(Plotly) {                    window.PLOTLYENV=window.PLOTLYENV || {};                                    if (document.getElementById(\"a4b1e400-75a5-4461-95b6-eb3385df9647\")) {                    Plotly.newPlot(                        \"a4b1e400-75a5-4461-95b6-eb3385df9647\",                        [{\"hoverinfo\":\"text\",\"hoverlabel\":{\"bgcolor\":\"black\",\"font\":{\"color\":\"white\"}},\"hovertext\":\"False\",\"mode\":\"text\",\"name\":\"Mechanism Labels\",\"showlegend\":true,\"text\":[\"<i>a</i>\",\"<i>a</i>\",\"<i>B</i>\",\"<i>B</i>\",\"<i>c</i>\",\"<i>c</i>\",\"<i>D</i>\",\"<i>D</i>\",\"<i>aD</i>\",\"<i>aD</i>\",\"<i>BD</i>\",\"<i>BD</i>\",\"<i>cD</i>\",\"<i>cD</i>\",\"<i>aBc</i>\",\"<i>aBc</i>\",\"<i>acD</i>\",\"<i>acD</i>\"],\"textfont\":{\"color\":\"black\",\"size\":30},\"textposition\":\"middle center\",\"visible\":true,\"x\":[0.3601265264628424,0.3601265264628424,0.36012652646284243,0.36012652646284243,-0.3601265264628424,-0.3601265264628424,-0.3601265264628425,-0.3601265264628425,0.3819718634205491,0.3819718634205491,-0.7639437268410977,-0.7639437268410977,-0.3819718634205492,-0.3819718634205492,0.3601265264628424,0.3601265264628424,-0.3601265264628424,-0.3601265264628424],\"y\":[0.36012652646284243,0.36012652646284243,-0.3601265264628424,-0.3601265264628424,-0.3601265264628425,-0.3601265264628425,0.3601265264628423,0.3601265264628423,-0.6615946745061504,-0.6615946745061504,-1.4033418597069753e-16,-1.4033418597069753e-16,0.6615946745061503,0.6615946745061503,0.36012652646284243,0.36012652646284243,-0.3601265264628425,-0.3601265264628425],\"z\":[0.9750000000000001,0.9750000000000001,0.9750000000000001,0.9750000000000001,0.9750000000000001,0.9750000000000001,0.9750000000000001,0.9750000000000001,1.6500000000000001,1.6500000000000001,1.6500000000000001,1.6500000000000001,1.6500000000000001,1.6500000000000001,2.325,2.325,2.325,2.325],\"type\":\"scatter3d\"},{\"colorscale\":[[0.0,\"grey\"],[0.058823529411764705,\"grey\"],[0.11764705882352941,\"grey\"],[0.17647058823529413,\"grey\"],[0.23529411764705882,\"grey\"],[0.29411764705882354,\"grey\"],[0.35294117647058826,\"grey\"],[0.4117647058823529,\"grey\"],[0.47058823529411764,\"grey\"],[0.5294117647058824,\"grey\"],[0.5882352941176471,\"grey\"],[0.6470588235294118,\"grey\"],[0.7058823529411765,\"grey\"],[0.7647058823529411,\"grey\"],[0.8235294117647058,\"grey\"],[0.8823529411764706,\"grey\"],[0.9411764705882353,\"grey\"],[1.0,\"grey\"]],\"i\":[0,0,0,0,0,0,0,0,0,0,0,0,0,0,0,0,0,0,0,0,0,0,0,0,0,0,0,0,0,0,0,0,0,0,0,0,0,0,0,0,0,0,0,0,0,0,0,0,0,0,0,0,0,0,0,0,0,0,1,1,1,1,1,1,1,1,1,1,1,1,1,1,1,1,1,1,1,1,1,1,1,1,1,1,1,1,1,1,1,1,1,1,1,1,1,1,1,1,1,1,1,1,1,1,1,1,1,1,1,1,2,2,2,2,2,2,2,2,2,2,2,2,2,2,2,2,2,2,2,2,2,2,2,2,2,2,2,2,2,2,2,2,2,2,2,2,2,2,2,2,3,3,3,3,3,3,3,3,3,3,3,3,3,3,3,3,3,3,3,3,3,3,3,3,3,3,3,3,3,3,3,3,3,3,3,3,4,4,4,4,4,4,4,4,4,4,4,4,4,4,4,4,4,4,4,4,4,4,4,4,4,4,5,5,5,5,5,5,5,5,5,5,5,5,5,5,5,5,5,5,5,5,6,6,6,6,6,6,6,6],\"intensity\":[0.9,0.9,0.9,0.9,0.9,0.9,0.9,0.9,0.9,0.9,0.9,0.9,0.9,0.9,0.9,0.9,0.9,0.9],\"j\":[1,1,1,1,1,1,2,2,2,2,2,2,2,2,3,3,3,3,3,3,3,3,4,4,4,4,4,4,4,4,5,5,5,5,5,5,5,5,6,6,6,6,6,6,6,6,6,6,7,7,7,7,7,7,7,7,7,7,2,2,2,2,2,2,2,2,3,3,3,3,3,3,3,3,4,4,4,4,4,4,4,4,5,5,5,5,5,5,5,5,6,6,6,6,6,6,6,6,6,6,7,7,7,7,7,7,7,7,7,7,3,3,3,3,4,4,4,4,4,4,4,4,5,5,5,5,5,5,5,5,6,6,6,6,6,6,6,6,6,6,7,7,7,7,7,7,7,7,7,7,4,4,4,4,4,4,4,4,5,5,5,5,5,5,5,5,6,6,6,6,6,6,6,6,6,6,7,7,7,7,7,7,7,7,7,7,5,5,5,5,5,5,6,6,6,6,6,6,6,6,6,6,7,7,7,7,7,7,7,7,7,7,6,6,6,6,6,6,6,6,6,6,7,7,7,7,7,7,7,7,7,7,7,7,7,7,7,7,7,7],\"k\":[8,9,14,15,16,17,8,9,10,11,14,15,16,17,8,9,10,11,14,15,16,17,8,9,12,13,14,15,16,17,8,9,12,13,14,15,16,17,8,9,10,11,12,13,14,15,16,17,8,9,10,11,12,13,14,15,16,17,8,9,10,11,14,15,16,17,8,9,10,11,14,15,16,17,8,9,12,13,14,15,16,17,8,9,12,13,14,15,16,17,8,9,10,11,12,13,14,15,16,17,8,9,10,11,12,13,14,15,16,17,10,11,14,15,10,11,12,13,14,15,16,17,10,11,12,13,14,15,16,17,8,9,10,11,12,13,14,15,16,17,8,9,10,11,12,13,14,15,16,17,10,11,12,13,14,15,16,17,10,11,12,13,14,15,16,17,8,9,10,11,12,13,14,15,16,17,8,9,10,11,12,13,14,15,16,17,12,13,14,15,16,17,8,9,10,11,12,13,14,15,16,17,8,9,10,11,12,13,14,15,16,17,8,9,10,11,12,13,14,15,16,17,8,9,10,11,12,13,14,15,16,17,8,9,10,11,12,13,16,17],\"legendgroup\":\"base mesh\",\"name\":\"Base\",\"opacity\":0.9,\"showlegend\":true,\"showscale\":false,\"visible\":true,\"x\":[0.3601265264628424,0.3601265264628424,0.36012652646284243,0.36012652646284243,-0.3601265264628424,-0.3601265264628424,-0.3601265264628425,-0.3601265264628425,0.3819718634205491,0.3819718634205491,-0.7639437268410977,-0.7639437268410977,-0.3819718634205492,-0.3819718634205492,0.3601265264628424,0.3601265264628424,-0.3601265264628424,-0.3601265264628424],\"y\":[0.36012652646284243,0.36012652646284243,-0.3601265264628424,-0.3601265264628424,-0.3601265264628425,-0.3601265264628425,0.3601265264628423,0.3601265264628423,-0.6615946745061504,-0.6615946745061504,-1.4033418597069753e-16,-1.4033418597069753e-16,0.6615946745061503,0.6615946745061503,0.36012652646284243,0.36012652646284243,-0.3601265264628425,-0.3601265264628425],\"z\":[0.9750000000000001,0.9750000000000001,0.9750000000000001,0.9750000000000001,0.9750000000000001,0.9750000000000001,0.9750000000000001,0.9750000000000001,1.6500000000000001,1.6500000000000001,1.6500000000000001,1.6500000000000001,1.6500000000000001,1.6500000000000001,2.325,2.325,2.325,2.325],\"type\":\"mesh3d\"},{\"hoverinfo\":\"text\",\"hoverlabel\":{\"bgcolor\":\"red\"},\"hovertext\":[\"Distinction: A<br>Direction: CAUSE<br>Purview: A<br>\\u03c6 = 0.486<br>State: [0]\",\"Distinction: B<br>Direction: CAUSE<br>Purview: B<br>\\u03c6 = 0.2328<br>State: [1]\",\"Distinction: C<br>Direction: CAUSE<br>Purview: C<br>\\u03c6 = 0.486<br>State: [0]\",\"Distinction: D<br>Direction: CAUSE<br>Purview: AC<br>\\u03c6 = 0.1035<br>State: [1, 0]\",\"Distinction: AD<br>Direction: CAUSE<br>Purview: AB<br>\\u03c6 = 0.1408<br>State: [0, 1]\",\"Distinction: BD<br>Direction: CAUSE<br>Purview: BD<br>\\u03c6 = 0.0886<br>State: [1, 0]\",\"Distinction: CD<br>Direction: CAUSE<br>Purview: BC<br>\\u03c6 = 0.1408<br>State: [1, 0]\",\"Distinction: ABC<br>Direction: CAUSE<br>Purview: CD<br>\\u03c6 = 0.0006<br>State: [0, 1]\",\"Distinction: ACD<br>Direction: CAUSE<br>Purview: ABCD<br>\\u03c6 = 0.2045<br>State: [0, 1, 0, 1]\"],\"mode\":\"text\",\"name\":\"Cause Purview Labels\",\"showlegend\":true,\"text\":[\"<i>a</i>\",\"<i>B</i>\",\"<i>c</i>\",\"<i>Ac</i>\",\"<i>aB</i>\",\"<i>Bd</i>\",\"<i>Bc</i>\",\"<i>cD</i>\",\"<i>aBcD</i>\"],\"textfont\":{\"color\":\"red\",\"size\":30},\"textposition\":\"middle center\",\"visible\":true,\"x\":[0.8752372371178294,0.8752372371178296,-0.47523723711782945,2.109859317102744,1.154929658551372,-1.709859317102744,-0.7549296585513714,-0.9549296585513729,0.0],\"y\":[0.6752372371178296,-0.6752372371178295,-0.6752372371178297,1.291916229670548e-16,1.6539866862653763,-3.3858899693527023e-16,-1.6539866862653765,1.6539866862653756,0.0],\"z\":[0.0,0.0,0.0,2.0,2.0,2.0,2.0,2.0,3.75],\"type\":\"scatter3d\"},{\"hoverinfo\":\"text\",\"hoverlabel\":{\"bgcolor\":\"green\"},\"hovertext\":[\"Distinction: A<br>Direction: EFFECT<br>Purview: A<br>\\u03c6 = 0.6273<br>State: [0]\",\"Distinction: B<br>Direction: EFFECT<br>Purview: B<br>\\u03c6 = 0.3524<br>State: [1]\",\"Distinction: C<br>Direction: EFFECT<br>Purview: C<br>\\u03c6 = 0.6273<br>State: [0]\",\"Distinction: D<br>Direction: EFFECT<br>Purview: AC<br>\\u03c6 = 0.0052<br>State: [0, 0]\",\"Distinction: AD<br>Direction: EFFECT<br>Purview: D<br>\\u03c6 = 0.1301<br>State: [1]\",\"Distinction: BD<br>Direction: EFFECT<br>Purview: AB<br>\\u03c6 = 0.0028<br>State: [1, 1]\",\"Distinction: CD<br>Direction: EFFECT<br>Purview: BC<br>\\u03c6 = 0.0056<br>State: [0, 0]\",\"Distinction: ABC<br>Direction: EFFECT<br>Purview: ABC<br>\\u03c6 = 0.0235<br>State: [0, 1, 0]\",\"Distinction: ACD<br>Direction: EFFECT<br>Purview: BD<br>\\u03c6 = 0.0656<br>State: [0, 1]\"],\"mode\":\"text\",\"name\":\"Effect Purview Labels\",\"showlegend\":true,\"text\":[\"<i>a</i>\",\"<i>B</i>\",\"<i>c</i>\",\"<i>ac</i>\",\"<i>D</i>\",\"<i>AB</i>\",\"<i>bc</i>\",\"<i>aBc</i>\",\"<i>bD</i>\"],\"textfont\":{\"color\":\"green\",\"size\":30},\"textposition\":\"middle center\",\"visible\":true,\"x\":[0.47523723711782945,0.47523723711782956,-0.8752372371178294,1.709859317102744,-0.6752372371178297,0.7549296585513718,-1.1549296585513715,1.1253953951963827,-2.109859317102744],\"y\":[0.6752372371178296,-0.6752372371178295,-0.6752372371178297,8.020575100116068e-17,0.6752372371178293,1.6539866862653763,-1.6539866862653765,1.1253953951963829,-3.875748689011644e-16],\"z\":[0.0,0.0,0.0,2.0,0.0,2.0,2.0,3.0,2.0],\"type\":\"scatter3d\"},{\"hoverinfo\":\"skip\",\"legendgroup\":\"Links\",\"line\":{\"color\":[\"orange\"],\"width\":5.098125549050213},\"mode\":\"lines\",\"name\":\"Links\",\"showlegend\":true,\"visible\":true,\"x\":[0.8752372371178294,0.3601265264628424],\"y\":[0.6752372371178296,0.36012652646284243],\"z\":[0.0,0.9750000000000001],\"type\":\"scatter3d\"},{\"hoverinfo\":\"skip\",\"legendgroup\":\"Links\",\"line\":{\"color\":[\"orange\"],\"width\":5.098125549050213},\"mode\":\"lines\",\"name\":\"Links\",\"showlegend\":false,\"visible\":true,\"x\":[0.47523723711782945,0.3601265264628424],\"y\":[0.6752372371178296,0.36012652646284243],\"z\":[0.0,0.9750000000000001],\"type\":\"scatter3d\"},{\"hoverinfo\":\"skip\",\"legendgroup\":\"Links\",\"line\":{\"color\":[\"orange\"],\"width\":6.0},\"mode\":\"lines\",\"name\":\"Links\",\"showlegend\":false,\"visible\":true,\"x\":[0.8752372371178296,0.36012652646284243],\"y\":[-0.6752372371178295,-0.3601265264628424],\"z\":[0.0,0.9750000000000001],\"type\":\"scatter3d\"},{\"hoverinfo\":\"skip\",\"legendgroup\":\"Links\",\"line\":{\"color\":[\"orange\"],\"width\":6.0},\"mode\":\"lines\",\"name\":\"Links\",\"showlegend\":false,\"visible\":true,\"x\":[0.47523723711782956,0.36012652646284243],\"y\":[-0.6752372371178295,-0.3601265264628424],\"z\":[0.0,0.9750000000000001],\"type\":\"scatter3d\"},{\"hoverinfo\":\"skip\",\"legendgroup\":\"Links\",\"line\":{\"color\":[\"orange\"],\"width\":3.481907729699563},\"mode\":\"lines\",\"name\":\"Links\",\"showlegend\":false,\"visible\":true,\"x\":[-0.47523723711782945,-0.3601265264628424],\"y\":[-0.6752372371178297,-0.3601265264628425],\"z\":[0.0,0.9750000000000001],\"type\":\"scatter3d\"},{\"hoverinfo\":\"skip\",\"legendgroup\":\"Links\",\"line\":{\"color\":[\"orange\"],\"width\":3.481907729699563},\"mode\":\"lines\",\"name\":\"Links\",\"showlegend\":false,\"visible\":true,\"x\":[-0.8752372371178294,-0.3601265264628424],\"y\":[-0.6752372371178297,-0.3601265264628425],\"z\":[0.0,0.9750000000000001],\"type\":\"scatter3d\"},{\"hoverinfo\":\"skip\",\"legendgroup\":\"Links\",\"line\":{\"color\":[\"orange\"],\"width\":4.244912081238878},\"mode\":\"lines\",\"name\":\"Links\",\"showlegend\":false,\"visible\":true,\"x\":[2.109859317102744,-0.3601265264628425],\"y\":[1.291916229670548e-16,0.3601265264628423],\"z\":[2.0,0.9750000000000001],\"type\":\"scatter3d\"},{\"hoverinfo\":\"skip\",\"legendgroup\":\"Links\",\"line\":{\"color\":[\"orange\"],\"width\":4.244912081238878},\"mode\":\"lines\",\"name\":\"Links\",\"showlegend\":false,\"visible\":true,\"x\":[1.709859317102744,-0.3601265264628425],\"y\":[8.020575100116068e-17,0.3601265264628423],\"z\":[2.0,0.9750000000000001],\"type\":\"scatter3d\"},{\"hoverinfo\":\"skip\",\"legendgroup\":\"Links\",\"line\":{\"color\":[\"orange\"],\"width\":5.098125549050213},\"mode\":\"lines\",\"name\":\"Links\",\"showlegend\":false,\"visible\":true,\"x\":[1.154929658551372,0.3819718634205491],\"y\":[1.6539866862653763,-0.6615946745061504],\"z\":[2.0,1.6500000000000001],\"type\":\"scatter3d\"},{\"hoverinfo\":\"skip\",\"legendgroup\":\"Links\",\"line\":{\"color\":[\"orange\"],\"width\":5.098125549050213},\"mode\":\"lines\",\"name\":\"Links\",\"showlegend\":false,\"visible\":true,\"x\":[-0.6752372371178297,0.3819718634205491],\"y\":[0.6752372371178293,-0.6615946745061504],\"z\":[0.0,1.6500000000000001],\"type\":\"scatter3d\"},{\"hoverinfo\":\"skip\",\"legendgroup\":\"Links\",\"line\":{\"color\":[\"orange\"],\"width\":6.0},\"mode\":\"lines\",\"name\":\"Links\",\"showlegend\":false,\"visible\":true,\"x\":[-1.709859317102744,-0.7639437268410977],\"y\":[-3.3858899693527023e-16,-1.4033418597069753e-16],\"z\":[2.0,1.6500000000000001],\"type\":\"scatter3d\"},{\"hoverinfo\":\"skip\",\"legendgroup\":\"Links\",\"line\":{\"color\":[\"orange\"],\"width\":6.0},\"mode\":\"lines\",\"name\":\"Links\",\"showlegend\":false,\"visible\":true,\"x\":[0.7549296585513718,-0.7639437268410977],\"y\":[1.6539866862653763,-1.4033418597069753e-16],\"z\":[2.0,1.6500000000000001],\"type\":\"scatter3d\"},{\"hoverinfo\":\"skip\",\"legendgroup\":\"Links\",\"line\":{\"color\":[\"orange\"],\"width\":2.65648585485515},\"mode\":\"lines\",\"name\":\"Links\",\"showlegend\":false,\"visible\":true,\"x\":[-0.7549296585513714,-0.3819718634205492],\"y\":[-1.6539866862653765,0.6615946745061503],\"z\":[2.0,1.6500000000000001],\"type\":\"scatter3d\"},{\"hoverinfo\":\"skip\",\"legendgroup\":\"Links\",\"line\":{\"color\":[\"orange\"],\"width\":2.65648585485515},\"mode\":\"lines\",\"name\":\"Links\",\"showlegend\":false,\"visible\":true,\"x\":[-1.1549296585513715,-0.3819718634205492],\"y\":[-1.6539866862653765,0.6615946745061503],\"z\":[2.0,1.6500000000000001],\"type\":\"scatter3d\"},{\"hoverinfo\":\"skip\",\"legendgroup\":\"Links\",\"line\":{\"color\":[\"orange\"],\"width\":2.029135996413238},\"mode\":\"lines\",\"name\":\"Links\",\"showlegend\":false,\"visible\":true,\"x\":[-0.9549296585513729,0.3601265264628424],\"y\":[1.6539866862653756,0.36012652646284243],\"z\":[2.0,2.325],\"type\":\"scatter3d\"},{\"hoverinfo\":\"skip\",\"legendgroup\":\"Links\",\"line\":{\"color\":[\"orange\"],\"width\":2.029135996413238},\"mode\":\"lines\",\"name\":\"Links\",\"showlegend\":false,\"visible\":true,\"x\":[1.1253953951963827,0.3601265264628424],\"y\":[1.1253953951963829,0.36012652646284243],\"z\":[3.0,2.325],\"type\":\"scatter3d\"},{\"hoverinfo\":\"skip\",\"legendgroup\":\"Links\",\"line\":{\"color\":[\"orange\"],\"width\":2.8945414108668848},\"mode\":\"lines\",\"name\":\"Links\",\"showlegend\":false,\"visible\":true,\"x\":[0.0,-0.3601265264628424],\"y\":[0.0,-0.3601265264628425],\"z\":[3.75,2.325],\"type\":\"scatter3d\"},{\"hoverinfo\":\"skip\",\"legendgroup\":\"Links\",\"line\":{\"color\":[\"orange\"],\"width\":2.8945414108668848},\"mode\":\"lines\",\"name\":\"Links\",\"showlegend\":false,\"visible\":true,\"x\":[-2.109859317102744,-0.3601265264628424],\"y\":[-3.875748689011644e-16,-0.3601265264628425],\"z\":[2.0,2.325],\"type\":\"scatter3d\"},{\"hoverinfo\":\"skip\",\"legendgroup\":\"Chains\",\"line\":{\"color\":\"black\",\"dash\":\"dash\",\"width\":3},\"mode\":\"lines\",\"name\":\"Chains\",\"showlegend\":true,\"visible\":true,\"x\":[0.3601265264628424,0.3601265264628424],\"y\":[0.36012652646284243,0.36012652646284243],\"z\":[0.9750000000000001,0.9750000000000001],\"type\":\"scatter3d\"},{\"hoverinfo\":\"skip\",\"legendgroup\":\"Chains\",\"line\":{\"color\":\"black\",\"dash\":\"dash\",\"width\":3},\"mode\":\"lines\",\"name\":\"Chains\",\"showlegend\":false,\"visible\":true,\"x\":[0.3601265264628424,0.3601265264628424],\"y\":[0.36012652646284243,0.36012652646284243],\"z\":[0.9750000000000001,0.9750000000000001],\"type\":\"scatter3d\"},{\"hoverinfo\":\"skip\",\"legendgroup\":\"Chains\",\"line\":{\"color\":\"black\",\"dash\":\"dash\",\"width\":3},\"mode\":\"lines\",\"name\":\"Chains\",\"showlegend\":false,\"visible\":true,\"x\":[0.3601265264628424,0.3601265264628424],\"y\":[0.36012652646284243,0.36012652646284243],\"z\":[0.9750000000000001,0.9750000000000001],\"type\":\"scatter3d\"},{\"hoverinfo\":\"skip\",\"legendgroup\":\"Chains\",\"line\":{\"color\":\"black\",\"dash\":\"dash\",\"width\":3},\"mode\":\"lines\",\"name\":\"Chains\",\"showlegend\":false,\"visible\":true,\"x\":[0.3601265264628424,0.3601265264628424],\"y\":[0.36012652646284243,0.36012652646284243],\"z\":[0.9750000000000001,0.9750000000000001],\"type\":\"scatter3d\"},{\"hoverinfo\":\"skip\",\"legendgroup\":\"Chains\",\"line\":{\"color\":\"black\",\"dash\":\"dash\",\"width\":3},\"mode\":\"lines\",\"name\":\"Chains\",\"showlegend\":false,\"visible\":true,\"x\":[0.36012652646284243,0.36012652646284243],\"y\":[-0.3601265264628424,-0.3601265264628424],\"z\":[0.9750000000000001,0.9750000000000001],\"type\":\"scatter3d\"},{\"hoverinfo\":\"skip\",\"legendgroup\":\"Chains\",\"line\":{\"color\":\"black\",\"dash\":\"dash\",\"width\":3},\"mode\":\"lines\",\"name\":\"Chains\",\"showlegend\":false,\"visible\":true,\"x\":[0.36012652646284243,0.36012652646284243],\"y\":[-0.3601265264628424,-0.3601265264628424],\"z\":[0.9750000000000001,0.9750000000000001],\"type\":\"scatter3d\"},{\"hoverinfo\":\"skip\",\"legendgroup\":\"Chains\",\"line\":{\"color\":\"black\",\"dash\":\"dash\",\"width\":3},\"mode\":\"lines\",\"name\":\"Chains\",\"showlegend\":false,\"visible\":true,\"x\":[0.36012652646284243,0.36012652646284243],\"y\":[-0.3601265264628424,-0.3601265264628424],\"z\":[0.9750000000000001,0.9750000000000001],\"type\":\"scatter3d\"},{\"hoverinfo\":\"skip\",\"legendgroup\":\"Chains\",\"line\":{\"color\":\"black\",\"dash\":\"dash\",\"width\":3},\"mode\":\"lines\",\"name\":\"Chains\",\"showlegend\":false,\"visible\":true,\"x\":[0.36012652646284243,0.36012652646284243],\"y\":[-0.3601265264628424,-0.3601265264628424],\"z\":[0.9750000000000001,0.9750000000000001],\"type\":\"scatter3d\"},{\"hoverinfo\":\"skip\",\"legendgroup\":\"Chains\",\"line\":{\"color\":\"black\",\"dash\":\"dash\",\"width\":3},\"mode\":\"lines\",\"name\":\"Chains\",\"showlegend\":false,\"visible\":true,\"x\":[-0.3601265264628424,-0.3601265264628424],\"y\":[-0.3601265264628425,-0.3601265264628425],\"z\":[0.9750000000000001,0.9750000000000001],\"type\":\"scatter3d\"},{\"hoverinfo\":\"skip\",\"legendgroup\":\"Chains\",\"line\":{\"color\":\"black\",\"dash\":\"dash\",\"width\":3},\"mode\":\"lines\",\"name\":\"Chains\",\"showlegend\":false,\"visible\":true,\"x\":[-0.3601265264628424,-0.3601265264628424],\"y\":[-0.3601265264628425,-0.3601265264628425],\"z\":[0.9750000000000001,0.9750000000000001],\"type\":\"scatter3d\"},{\"hoverinfo\":\"skip\",\"legendgroup\":\"Chains\",\"line\":{\"color\":\"black\",\"dash\":\"dash\",\"width\":3},\"mode\":\"lines\",\"name\":\"Chains\",\"showlegend\":false,\"visible\":true,\"x\":[-0.3601265264628424,-0.3601265264628424],\"y\":[-0.3601265264628425,-0.3601265264628425],\"z\":[0.9750000000000001,0.9750000000000001],\"type\":\"scatter3d\"},{\"hoverinfo\":\"skip\",\"legendgroup\":\"Chains\",\"line\":{\"color\":\"black\",\"dash\":\"dash\",\"width\":3},\"mode\":\"lines\",\"name\":\"Chains\",\"showlegend\":false,\"visible\":true,\"x\":[-0.3601265264628424,-0.3601265264628424],\"y\":[-0.3601265264628425,-0.3601265264628425],\"z\":[0.9750000000000001,0.9750000000000001],\"type\":\"scatter3d\"},{\"hoverinfo\":\"skip\",\"legendgroup\":\"Chains\",\"line\":{\"color\":\"black\",\"dash\":\"dash\",\"width\":3},\"mode\":\"lines\",\"name\":\"Chains\",\"showlegend\":false,\"visible\":true,\"x\":[-0.3601265264628425,-0.3601265264628425],\"y\":[0.3601265264628423,0.3601265264628423],\"z\":[0.9750000000000001,0.9750000000000001],\"type\":\"scatter3d\"},{\"hoverinfo\":\"skip\",\"legendgroup\":\"Chains\",\"line\":{\"color\":\"black\",\"dash\":\"dash\",\"width\":3},\"mode\":\"lines\",\"name\":\"Chains\",\"showlegend\":false,\"visible\":true,\"x\":[-0.3601265264628425,-0.3601265264628425],\"y\":[0.3601265264628423,0.3601265264628423],\"z\":[0.9750000000000001,0.9750000000000001],\"type\":\"scatter3d\"},{\"hoverinfo\":\"skip\",\"legendgroup\":\"Chains\",\"line\":{\"color\":\"black\",\"dash\":\"dash\",\"width\":3},\"mode\":\"lines\",\"name\":\"Chains\",\"showlegend\":false,\"visible\":true,\"x\":[-0.3601265264628425,-0.3601265264628425],\"y\":[0.3601265264628423,0.3601265264628423],\"z\":[0.9750000000000001,0.9750000000000001],\"type\":\"scatter3d\"},{\"hoverinfo\":\"skip\",\"legendgroup\":\"Chains\",\"line\":{\"color\":\"black\",\"dash\":\"dash\",\"width\":3},\"mode\":\"lines\",\"name\":\"Chains\",\"showlegend\":false,\"visible\":true,\"x\":[-0.3601265264628425,-0.3601265264628425],\"y\":[0.3601265264628423,0.3601265264628423],\"z\":[0.9750000000000001,0.9750000000000001],\"type\":\"scatter3d\"},{\"hoverinfo\":\"skip\",\"legendgroup\":\"Chains\",\"line\":{\"color\":\"black\",\"dash\":\"dash\",\"width\":3},\"mode\":\"lines\",\"name\":\"Chains\",\"showlegend\":false,\"visible\":true,\"x\":[0.3819718634205491,0.3601265264628424],\"y\":[-0.6615946745061504,0.36012652646284243],\"z\":[1.6500000000000001,0.9750000000000001],\"type\":\"scatter3d\"},{\"hoverinfo\":\"skip\",\"legendgroup\":\"Chains\",\"line\":{\"color\":\"black\",\"dash\":\"dash\",\"width\":3},\"mode\":\"lines\",\"name\":\"Chains\",\"showlegend\":false,\"visible\":true,\"x\":[0.3819718634205491,0.3601265264628424],\"y\":[-0.6615946745061504,0.36012652646284243],\"z\":[1.6500000000000001,0.9750000000000001],\"type\":\"scatter3d\"},{\"hoverinfo\":\"skip\",\"legendgroup\":\"Chains\",\"line\":{\"color\":\"black\",\"dash\":\"dash\",\"width\":3},\"mode\":\"lines\",\"name\":\"Chains\",\"showlegend\":false,\"visible\":true,\"x\":[0.3819718634205491,-0.3601265264628425],\"y\":[-0.6615946745061504,0.3601265264628423],\"z\":[1.6500000000000001,0.9750000000000001],\"type\":\"scatter3d\"},{\"hoverinfo\":\"skip\",\"legendgroup\":\"Chains\",\"line\":{\"color\":\"black\",\"dash\":\"dash\",\"width\":3},\"mode\":\"lines\",\"name\":\"Chains\",\"showlegend\":false,\"visible\":true,\"x\":[0.3819718634205491,-0.3601265264628425],\"y\":[-0.6615946745061504,0.3601265264628423],\"z\":[1.6500000000000001,0.9750000000000001],\"type\":\"scatter3d\"},{\"hoverinfo\":\"skip\",\"legendgroup\":\"Chains\",\"line\":{\"color\":\"black\",\"dash\":\"dash\",\"width\":3},\"mode\":\"lines\",\"name\":\"Chains\",\"showlegend\":false,\"visible\":true,\"x\":[0.3819718634205491,0.3601265264628424],\"y\":[-0.6615946745061504,0.36012652646284243],\"z\":[1.6500000000000001,0.9750000000000001],\"type\":\"scatter3d\"},{\"hoverinfo\":\"skip\",\"legendgroup\":\"Chains\",\"line\":{\"color\":\"black\",\"dash\":\"dash\",\"width\":3},\"mode\":\"lines\",\"name\":\"Chains\",\"showlegend\":false,\"visible\":true,\"x\":[0.3819718634205491,0.3601265264628424],\"y\":[-0.6615946745061504,0.36012652646284243],\"z\":[1.6500000000000001,0.9750000000000001],\"type\":\"scatter3d\"},{\"hoverinfo\":\"skip\",\"legendgroup\":\"Chains\",\"line\":{\"color\":\"black\",\"dash\":\"dash\",\"width\":3},\"mode\":\"lines\",\"name\":\"Chains\",\"showlegend\":false,\"visible\":true,\"x\":[0.3819718634205491,-0.3601265264628425],\"y\":[-0.6615946745061504,0.3601265264628423],\"z\":[1.6500000000000001,0.9750000000000001],\"type\":\"scatter3d\"},{\"hoverinfo\":\"skip\",\"legendgroup\":\"Chains\",\"line\":{\"color\":\"black\",\"dash\":\"dash\",\"width\":3},\"mode\":\"lines\",\"name\":\"Chains\",\"showlegend\":false,\"visible\":true,\"x\":[0.3819718634205491,-0.3601265264628425],\"y\":[-0.6615946745061504,0.3601265264628423],\"z\":[1.6500000000000001,0.9750000000000001],\"type\":\"scatter3d\"},{\"hoverinfo\":\"skip\",\"legendgroup\":\"Chains\",\"line\":{\"color\":\"black\",\"dash\":\"dash\",\"width\":3},\"mode\":\"lines\",\"name\":\"Chains\",\"showlegend\":false,\"visible\":true,\"x\":[-0.7639437268410977,0.36012652646284243],\"y\":[-1.4033418597069753e-16,-0.3601265264628424],\"z\":[1.6500000000000001,0.9750000000000001],\"type\":\"scatter3d\"},{\"hoverinfo\":\"skip\",\"legendgroup\":\"Chains\",\"line\":{\"color\":\"black\",\"dash\":\"dash\",\"width\":3},\"mode\":\"lines\",\"name\":\"Chains\",\"showlegend\":false,\"visible\":true,\"x\":[-0.7639437268410977,0.36012652646284243],\"y\":[-1.4033418597069753e-16,-0.3601265264628424],\"z\":[1.6500000000000001,0.9750000000000001],\"type\":\"scatter3d\"},{\"hoverinfo\":\"skip\",\"legendgroup\":\"Chains\",\"line\":{\"color\":\"black\",\"dash\":\"dash\",\"width\":3},\"mode\":\"lines\",\"name\":\"Chains\",\"showlegend\":false,\"visible\":true,\"x\":[-0.7639437268410977,-0.3601265264628425],\"y\":[-1.4033418597069753e-16,0.3601265264628423],\"z\":[1.6500000000000001,0.9750000000000001],\"type\":\"scatter3d\"},{\"hoverinfo\":\"skip\",\"legendgroup\":\"Chains\",\"line\":{\"color\":\"black\",\"dash\":\"dash\",\"width\":3},\"mode\":\"lines\",\"name\":\"Chains\",\"showlegend\":false,\"visible\":true,\"x\":[-0.7639437268410977,-0.3601265264628425],\"y\":[-1.4033418597069753e-16,0.3601265264628423],\"z\":[1.6500000000000001,0.9750000000000001],\"type\":\"scatter3d\"},{\"hoverinfo\":\"skip\",\"legendgroup\":\"Chains\",\"line\":{\"color\":\"black\",\"dash\":\"dash\",\"width\":3},\"mode\":\"lines\",\"name\":\"Chains\",\"showlegend\":false,\"visible\":true,\"x\":[-0.7639437268410977,0.36012652646284243],\"y\":[-1.4033418597069753e-16,-0.3601265264628424],\"z\":[1.6500000000000001,0.9750000000000001],\"type\":\"scatter3d\"},{\"hoverinfo\":\"skip\",\"legendgroup\":\"Chains\",\"line\":{\"color\":\"black\",\"dash\":\"dash\",\"width\":3},\"mode\":\"lines\",\"name\":\"Chains\",\"showlegend\":false,\"visible\":true,\"x\":[-0.7639437268410977,0.36012652646284243],\"y\":[-1.4033418597069753e-16,-0.3601265264628424],\"z\":[1.6500000000000001,0.9750000000000001],\"type\":\"scatter3d\"},{\"hoverinfo\":\"skip\",\"legendgroup\":\"Chains\",\"line\":{\"color\":\"black\",\"dash\":\"dash\",\"width\":3},\"mode\":\"lines\",\"name\":\"Chains\",\"showlegend\":false,\"visible\":true,\"x\":[-0.7639437268410977,-0.3601265264628425],\"y\":[-1.4033418597069753e-16,0.3601265264628423],\"z\":[1.6500000000000001,0.9750000000000001],\"type\":\"scatter3d\"},{\"hoverinfo\":\"skip\",\"legendgroup\":\"Chains\",\"line\":{\"color\":\"black\",\"dash\":\"dash\",\"width\":3},\"mode\":\"lines\",\"name\":\"Chains\",\"showlegend\":false,\"visible\":true,\"x\":[-0.7639437268410977,-0.3601265264628425],\"y\":[-1.4033418597069753e-16,0.3601265264628423],\"z\":[1.6500000000000001,0.9750000000000001],\"type\":\"scatter3d\"},{\"hoverinfo\":\"skip\",\"legendgroup\":\"Chains\",\"line\":{\"color\":\"black\",\"dash\":\"dash\",\"width\":3},\"mode\":\"lines\",\"name\":\"Chains\",\"showlegend\":false,\"visible\":true,\"x\":[-0.3819718634205492,-0.3601265264628424],\"y\":[0.6615946745061503,-0.3601265264628425],\"z\":[1.6500000000000001,0.9750000000000001],\"type\":\"scatter3d\"},{\"hoverinfo\":\"skip\",\"legendgroup\":\"Chains\",\"line\":{\"color\":\"black\",\"dash\":\"dash\",\"width\":3},\"mode\":\"lines\",\"name\":\"Chains\",\"showlegend\":false,\"visible\":true,\"x\":[-0.3819718634205492,-0.3601265264628424],\"y\":[0.6615946745061503,-0.3601265264628425],\"z\":[1.6500000000000001,0.9750000000000001],\"type\":\"scatter3d\"},{\"hoverinfo\":\"skip\",\"legendgroup\":\"Chains\",\"line\":{\"color\":\"black\",\"dash\":\"dash\",\"width\":3},\"mode\":\"lines\",\"name\":\"Chains\",\"showlegend\":false,\"visible\":true,\"x\":[-0.3819718634205492,-0.3601265264628425],\"y\":[0.6615946745061503,0.3601265264628423],\"z\":[1.6500000000000001,0.9750000000000001],\"type\":\"scatter3d\"},{\"hoverinfo\":\"skip\",\"legendgroup\":\"Chains\",\"line\":{\"color\":\"black\",\"dash\":\"dash\",\"width\":3},\"mode\":\"lines\",\"name\":\"Chains\",\"showlegend\":false,\"visible\":true,\"x\":[-0.3819718634205492,-0.3601265264628425],\"y\":[0.6615946745061503,0.3601265264628423],\"z\":[1.6500000000000001,0.9750000000000001],\"type\":\"scatter3d\"},{\"hoverinfo\":\"skip\",\"legendgroup\":\"Chains\",\"line\":{\"color\":\"black\",\"dash\":\"dash\",\"width\":3},\"mode\":\"lines\",\"name\":\"Chains\",\"showlegend\":false,\"visible\":true,\"x\":[-0.3819718634205492,-0.3601265264628424],\"y\":[0.6615946745061503,-0.3601265264628425],\"z\":[1.6500000000000001,0.9750000000000001],\"type\":\"scatter3d\"},{\"hoverinfo\":\"skip\",\"legendgroup\":\"Chains\",\"line\":{\"color\":\"black\",\"dash\":\"dash\",\"width\":3},\"mode\":\"lines\",\"name\":\"Chains\",\"showlegend\":false,\"visible\":true,\"x\":[-0.3819718634205492,-0.3601265264628424],\"y\":[0.6615946745061503,-0.3601265264628425],\"z\":[1.6500000000000001,0.9750000000000001],\"type\":\"scatter3d\"},{\"hoverinfo\":\"skip\",\"legendgroup\":\"Chains\",\"line\":{\"color\":\"black\",\"dash\":\"dash\",\"width\":3},\"mode\":\"lines\",\"name\":\"Chains\",\"showlegend\":false,\"visible\":true,\"x\":[-0.3819718634205492,-0.3601265264628425],\"y\":[0.6615946745061503,0.3601265264628423],\"z\":[1.6500000000000001,0.9750000000000001],\"type\":\"scatter3d\"},{\"hoverinfo\":\"skip\",\"legendgroup\":\"Chains\",\"line\":{\"color\":\"black\",\"dash\":\"dash\",\"width\":3},\"mode\":\"lines\",\"name\":\"Chains\",\"showlegend\":false,\"visible\":true,\"x\":[-0.3819718634205492,-0.3601265264628425],\"y\":[0.6615946745061503,0.3601265264628423],\"z\":[1.6500000000000001,0.9750000000000001],\"type\":\"scatter3d\"},{\"hoverinfo\":\"skip\",\"legendgroup\":\"Chains\",\"line\":{\"color\":\"black\",\"dash\":\"dash\",\"width\":3},\"mode\":\"lines\",\"name\":\"Chains\",\"showlegend\":false,\"visible\":true,\"x\":[0.3601265264628424,0.3601265264628424],\"y\":[0.36012652646284243,0.36012652646284243],\"z\":[2.325,0.9750000000000001],\"type\":\"scatter3d\"},{\"hoverinfo\":\"skip\",\"legendgroup\":\"Chains\",\"line\":{\"color\":\"black\",\"dash\":\"dash\",\"width\":3},\"mode\":\"lines\",\"name\":\"Chains\",\"showlegend\":false,\"visible\":true,\"x\":[0.3601265264628424,0.3601265264628424],\"y\":[0.36012652646284243,0.36012652646284243],\"z\":[2.325,0.9750000000000001],\"type\":\"scatter3d\"},{\"hoverinfo\":\"skip\",\"legendgroup\":\"Chains\",\"line\":{\"color\":\"black\",\"dash\":\"dash\",\"width\":3},\"mode\":\"lines\",\"name\":\"Chains\",\"showlegend\":false,\"visible\":true,\"x\":[0.3601265264628424,0.36012652646284243],\"y\":[0.36012652646284243,-0.3601265264628424],\"z\":[2.325,0.9750000000000001],\"type\":\"scatter3d\"},{\"hoverinfo\":\"skip\",\"legendgroup\":\"Chains\",\"line\":{\"color\":\"black\",\"dash\":\"dash\",\"width\":3},\"mode\":\"lines\",\"name\":\"Chains\",\"showlegend\":false,\"visible\":true,\"x\":[0.3601265264628424,0.36012652646284243],\"y\":[0.36012652646284243,-0.3601265264628424],\"z\":[2.325,0.9750000000000001],\"type\":\"scatter3d\"},{\"hoverinfo\":\"skip\",\"legendgroup\":\"Chains\",\"line\":{\"color\":\"black\",\"dash\":\"dash\",\"width\":3},\"mode\":\"lines\",\"name\":\"Chains\",\"showlegend\":false,\"visible\":true,\"x\":[0.3601265264628424,-0.3601265264628424],\"y\":[0.36012652646284243,-0.3601265264628425],\"z\":[2.325,0.9750000000000001],\"type\":\"scatter3d\"},{\"hoverinfo\":\"skip\",\"legendgroup\":\"Chains\",\"line\":{\"color\":\"black\",\"dash\":\"dash\",\"width\":3},\"mode\":\"lines\",\"name\":\"Chains\",\"showlegend\":false,\"visible\":true,\"x\":[0.3601265264628424,-0.3601265264628424],\"y\":[0.36012652646284243,-0.3601265264628425],\"z\":[2.325,0.9750000000000001],\"type\":\"scatter3d\"},{\"hoverinfo\":\"skip\",\"legendgroup\":\"Chains\",\"line\":{\"color\":\"black\",\"dash\":\"dash\",\"width\":3},\"mode\":\"lines\",\"name\":\"Chains\",\"showlegend\":false,\"visible\":true,\"x\":[0.3601265264628424,0.3601265264628424],\"y\":[0.36012652646284243,0.36012652646284243],\"z\":[2.325,0.9750000000000001],\"type\":\"scatter3d\"},{\"hoverinfo\":\"skip\",\"legendgroup\":\"Chains\",\"line\":{\"color\":\"black\",\"dash\":\"dash\",\"width\":3},\"mode\":\"lines\",\"name\":\"Chains\",\"showlegend\":false,\"visible\":true,\"x\":[0.3601265264628424,0.3601265264628424],\"y\":[0.36012652646284243,0.36012652646284243],\"z\":[2.325,0.9750000000000001],\"type\":\"scatter3d\"},{\"hoverinfo\":\"skip\",\"legendgroup\":\"Chains\",\"line\":{\"color\":\"black\",\"dash\":\"dash\",\"width\":3},\"mode\":\"lines\",\"name\":\"Chains\",\"showlegend\":false,\"visible\":true,\"x\":[0.3601265264628424,0.36012652646284243],\"y\":[0.36012652646284243,-0.3601265264628424],\"z\":[2.325,0.9750000000000001],\"type\":\"scatter3d\"},{\"hoverinfo\":\"skip\",\"legendgroup\":\"Chains\",\"line\":{\"color\":\"black\",\"dash\":\"dash\",\"width\":3},\"mode\":\"lines\",\"name\":\"Chains\",\"showlegend\":false,\"visible\":true,\"x\":[0.3601265264628424,0.36012652646284243],\"y\":[0.36012652646284243,-0.3601265264628424],\"z\":[2.325,0.9750000000000001],\"type\":\"scatter3d\"},{\"hoverinfo\":\"skip\",\"legendgroup\":\"Chains\",\"line\":{\"color\":\"black\",\"dash\":\"dash\",\"width\":3},\"mode\":\"lines\",\"name\":\"Chains\",\"showlegend\":false,\"visible\":true,\"x\":[0.3601265264628424,-0.3601265264628424],\"y\":[0.36012652646284243,-0.3601265264628425],\"z\":[2.325,0.9750000000000001],\"type\":\"scatter3d\"},{\"hoverinfo\":\"skip\",\"legendgroup\":\"Chains\",\"line\":{\"color\":\"black\",\"dash\":\"dash\",\"width\":3},\"mode\":\"lines\",\"name\":\"Chains\",\"showlegend\":false,\"visible\":true,\"x\":[0.3601265264628424,-0.3601265264628424],\"y\":[0.36012652646284243,-0.3601265264628425],\"z\":[2.325,0.9750000000000001],\"type\":\"scatter3d\"},{\"hoverinfo\":\"skip\",\"legendgroup\":\"Chains\",\"line\":{\"color\":\"black\",\"dash\":\"dash\",\"width\":3},\"mode\":\"lines\",\"name\":\"Chains\",\"showlegend\":false,\"visible\":true,\"x\":[-0.3601265264628424,0.3601265264628424],\"y\":[-0.3601265264628425,0.36012652646284243],\"z\":[2.325,0.9750000000000001],\"type\":\"scatter3d\"},{\"hoverinfo\":\"skip\",\"legendgroup\":\"Chains\",\"line\":{\"color\":\"black\",\"dash\":\"dash\",\"width\":3},\"mode\":\"lines\",\"name\":\"Chains\",\"showlegend\":false,\"visible\":true,\"x\":[-0.3601265264628424,0.3601265264628424],\"y\":[-0.3601265264628425,0.36012652646284243],\"z\":[2.325,0.9750000000000001],\"type\":\"scatter3d\"},{\"hoverinfo\":\"skip\",\"legendgroup\":\"Chains\",\"line\":{\"color\":\"black\",\"dash\":\"dash\",\"width\":3},\"mode\":\"lines\",\"name\":\"Chains\",\"showlegend\":false,\"visible\":true,\"x\":[-0.3601265264628424,-0.3601265264628424],\"y\":[-0.3601265264628425,-0.3601265264628425],\"z\":[2.325,0.9750000000000001],\"type\":\"scatter3d\"},{\"hoverinfo\":\"skip\",\"legendgroup\":\"Chains\",\"line\":{\"color\":\"black\",\"dash\":\"dash\",\"width\":3},\"mode\":\"lines\",\"name\":\"Chains\",\"showlegend\":false,\"visible\":true,\"x\":[-0.3601265264628424,-0.3601265264628424],\"y\":[-0.3601265264628425,-0.3601265264628425],\"z\":[2.325,0.9750000000000001],\"type\":\"scatter3d\"},{\"hoverinfo\":\"skip\",\"legendgroup\":\"Chains\",\"line\":{\"color\":\"black\",\"dash\":\"dash\",\"width\":3},\"mode\":\"lines\",\"name\":\"Chains\",\"showlegend\":false,\"visible\":true,\"x\":[-0.3601265264628424,-0.3601265264628425],\"y\":[-0.3601265264628425,0.3601265264628423],\"z\":[2.325,0.9750000000000001],\"type\":\"scatter3d\"},{\"hoverinfo\":\"skip\",\"legendgroup\":\"Chains\",\"line\":{\"color\":\"black\",\"dash\":\"dash\",\"width\":3},\"mode\":\"lines\",\"name\":\"Chains\",\"showlegend\":false,\"visible\":true,\"x\":[-0.3601265264628424,-0.3601265264628425],\"y\":[-0.3601265264628425,0.3601265264628423],\"z\":[2.325,0.9750000000000001],\"type\":\"scatter3d\"},{\"hoverinfo\":\"skip\",\"legendgroup\":\"Chains\",\"line\":{\"color\":\"black\",\"dash\":\"dash\",\"width\":3},\"mode\":\"lines\",\"name\":\"Chains\",\"showlegend\":false,\"visible\":true,\"x\":[-0.3601265264628424,0.3601265264628424],\"y\":[-0.3601265264628425,0.36012652646284243],\"z\":[2.325,0.9750000000000001],\"type\":\"scatter3d\"},{\"hoverinfo\":\"skip\",\"legendgroup\":\"Chains\",\"line\":{\"color\":\"black\",\"dash\":\"dash\",\"width\":3},\"mode\":\"lines\",\"name\":\"Chains\",\"showlegend\":false,\"visible\":true,\"x\":[-0.3601265264628424,0.3601265264628424],\"y\":[-0.3601265264628425,0.36012652646284243],\"z\":[2.325,0.9750000000000001],\"type\":\"scatter3d\"},{\"hoverinfo\":\"skip\",\"legendgroup\":\"Chains\",\"line\":{\"color\":\"black\",\"dash\":\"dash\",\"width\":3},\"mode\":\"lines\",\"name\":\"Chains\",\"showlegend\":false,\"visible\":true,\"x\":[-0.3601265264628424,-0.3601265264628424],\"y\":[-0.3601265264628425,-0.3601265264628425],\"z\":[2.325,0.9750000000000001],\"type\":\"scatter3d\"},{\"hoverinfo\":\"skip\",\"legendgroup\":\"Chains\",\"line\":{\"color\":\"black\",\"dash\":\"dash\",\"width\":3},\"mode\":\"lines\",\"name\":\"Chains\",\"showlegend\":false,\"visible\":true,\"x\":[-0.3601265264628424,-0.3601265264628424],\"y\":[-0.3601265264628425,-0.3601265264628425],\"z\":[2.325,0.9750000000000001],\"type\":\"scatter3d\"},{\"hoverinfo\":\"skip\",\"legendgroup\":\"Chains\",\"line\":{\"color\":\"black\",\"dash\":\"dash\",\"width\":3},\"mode\":\"lines\",\"name\":\"Chains\",\"showlegend\":false,\"visible\":true,\"x\":[-0.3601265264628424,-0.3601265264628425],\"y\":[-0.3601265264628425,0.3601265264628423],\"z\":[2.325,0.9750000000000001],\"type\":\"scatter3d\"},{\"hoverinfo\":\"skip\",\"legendgroup\":\"Chains\",\"line\":{\"color\":\"black\",\"dash\":\"dash\",\"width\":3},\"mode\":\"lines\",\"name\":\"Chains\",\"showlegend\":false,\"visible\":true,\"x\":[-0.3601265264628424,-0.3601265264628425],\"y\":[-0.3601265264628425,0.3601265264628423],\"z\":[2.325,0.9750000000000001],\"type\":\"scatter3d\"},{\"hoverinfo\":\"text\",\"hovertext\":\"<br>=2-Relation=<br><br>Distinction 0: B<br>Direction: CAUSE<br>Purview: B<br>\\u03c6 = 0.2328<br>State: [1]<br><br>Distinction 1: B<br>Direction: EFFECT<br>Purview: B<br>\\u03c6 = 0.3524<br>State: [1]<br><br>Relation purview: B<br>Relation \\u03c6 = 0.2328<br>\",\"legendgroup\":\"All 2-Relations\",\"line\":{\"color\":\"cyan\",\"width\":1.9499632773941473},\"mode\":\"lines\",\"name\":\"All 2-Relations\",\"showlegend\":true,\"visible\":true,\"x\":[0.8752372371178296,0.47523723711782956],\"y\":[-0.6752372371178295,-0.6752372371178295],\"z\":[0.0,0.0],\"type\":\"scatter3d\"},{\"hoverinfo\":\"text\",\"hovertext\":\"<br>=2-Relation=<br><br>Distinction 0: CD<br>Direction: EFFECT<br>Purview: BC<br>\\u03c6 = 0.0056<br>State: [0, 0]<br><br>Distinction 1: C<br>Direction: EFFECT<br>Purview: C<br>\\u03c6 = 0.6273<br>State: [0]<br><br>Relation purview: C<br>Relation \\u03c6 = 0.2054<br>\",\"legendgroup\":\"All 2-Relations\",\"line\":{\"color\":\"indigo\",\"width\":1.8369368252958198},\"mode\":\"lines\",\"name\":\"All 2-Relations\",\"showlegend\":false,\"visible\":true,\"x\":[-0.8752372371178294,-1.1549296585513715],\"y\":[-0.6752372371178297,-1.6539866862653765],\"z\":[0.0,2.0],\"type\":\"scatter3d\"},{\"hoverinfo\":\"text\",\"hovertext\":\"<br>=2-Relation=<br><br>Distinction 0: B<br>Direction: CAUSE<br>Purview: B<br>\\u03c6 = 0.2328<br>State: [1]<br><br>Distinction 1: BD<br>Direction: EFFECT<br>Purview: AB<br>\\u03c6 = 0.0028<br>State: [1, 1]<br><br>Relation purview: B<br>Relation \\u03c6 = 0.1496<br>\",\"legendgroup\":\"All 2-Relations\",\"line\":{\"color\":\"indigo\",\"width\":1.606682881814971},\"mode\":\"lines\",\"name\":\"All 2-Relations\",\"showlegend\":false,\"visible\":true,\"x\":[0.8752372371178296,0.7549296585513718],\"y\":[-0.6752372371178295,1.6539866862653763],\"z\":[0.0,2.0],\"type\":\"scatter3d\"},{\"hoverinfo\":\"text\",\"hovertext\":\"<br>=2-Relation=<br><br>Distinction 0: ACD<br>Direction: CAUSE<br>Purview: ABCD<br>\\u03c6 = 0.2045<br>State: [0, 1, 0, 1]<br><br>Distinction 1: ACD<br>Direction: EFFECT<br>Purview: BD<br>\\u03c6 = 0.0656<br>State: [0, 1]<br><br>Relation purview: D<br>Relation \\u03c6 = 0.0891<br>\",\"legendgroup\":\"All 2-Relations\",\"line\":{\"color\":\"indigo\",\"width\":1.3568581445626344},\"mode\":\"lines\",\"name\":\"All 2-Relations\",\"showlegend\":false,\"visible\":true,\"x\":[0.0,-2.109859317102744],\"y\":[0.0,-3.875748689011644e-16],\"z\":[3.75,2.0],\"type\":\"scatter3d\"},{\"hoverinfo\":\"text\",\"hovertext\":\"<br>=2-Relation=<br><br>Distinction 0: ACD<br>Direction: CAUSE<br>Purview: ABCD<br>\\u03c6 = 0.2045<br>State: [0, 1, 0, 1]<br><br>Distinction 1: ABC<br>Direction: EFFECT<br>Purview: ABC<br>\\u03c6 = 0.0235<br>State: [0, 1, 0]<br><br>Relation purview: AC<br>Relation \\u03c6 = 0.0644<br>\",\"legendgroup\":\"All 2-Relations\",\"line\":{\"color\":\"indigo\",\"width\":1.2549617001622821},\"mode\":\"lines\",\"name\":\"All 2-Relations\",\"showlegend\":false,\"visible\":true,\"x\":[1.1253953951963827,0.0],\"y\":[1.1253953951963829,0.0],\"z\":[3.0,3.75],\"type\":\"scatter3d\"},{\"hoverinfo\":\"text\",\"hovertext\":\"<br>=2-Relation=<br><br>Distinction 0: ACD<br>Direction: CAUSE<br>Purview: ABCD<br>\\u03c6 = 0.2045<br>State: [0, 1, 0, 1]<br><br>Distinction 1: CD<br>Direction: EFFECT<br>Purview: BC<br>\\u03c6 = 0.0056<br>State: [0, 0]<br><br>Relation purview: C<br>Relation \\u03c6 = 0.2054<br>\",\"legendgroup\":\"All 2-Relations\",\"line\":{\"color\":\"indigo\",\"width\":1.8369368252958198},\"mode\":\"lines\",\"name\":\"All 2-Relations\",\"showlegend\":false,\"visible\":true,\"x\":[-1.1549296585513715,0.0],\"y\":[-1.6539866862653765,0.0],\"z\":[2.0,3.75],\"type\":\"scatter3d\"},{\"hoverinfo\":\"text\",\"hovertext\":\"<br>=2-Relation=<br><br>Distinction 0: BD<br>Direction: EFFECT<br>Purview: AB<br>\\u03c6 = 0.0028<br>State: [1, 1]<br><br>Distinction 1: B<br>Direction: EFFECT<br>Purview: B<br>\\u03c6 = 0.3524<br>State: [1]<br><br>Relation purview: B<br>Relation \\u03c6 = 0.1496<br>\",\"legendgroup\":\"All 2-Relations\",\"line\":{\"color\":\"indigo\",\"width\":1.606682881814971},\"mode\":\"lines\",\"name\":\"All 2-Relations\",\"showlegend\":false,\"visible\":true,\"x\":[0.47523723711782956,0.7549296585513718],\"y\":[-0.6752372371178295,1.6539866862653763],\"z\":[0.0,2.0],\"type\":\"scatter3d\"},{\"hoverinfo\":\"text\",\"hovertext\":\"<br>=2-Relation=<br><br>Distinction 0: C<br>Direction: CAUSE<br>Purview: C<br>\\u03c6 = 0.486<br>State: [0]<br><br>Distinction 1: D<br>Direction: EFFECT<br>Purview: AC<br>\\u03c6 = 0.0052<br>State: [0, 0]<br><br>Relation purview: C<br>Relation \\u03c6 = 0.0026<br>\",\"legendgroup\":\"All 2-Relations\",\"line\":{\"color\":\"indigo\",\"width\":1.0000000000000009},\"mode\":\"lines\",\"name\":\"All 2-Relations\",\"showlegend\":false,\"visible\":true,\"x\":[-0.47523723711782945,1.709859317102744],\"y\":[-0.6752372371178297,8.020575100116068e-17],\"z\":[0.0,2.0],\"type\":\"scatter3d\"},{\"hoverinfo\":\"text\",\"hovertext\":\"<br>=2-Relation=<br><br>Distinction 0: D<br>Direction: CAUSE<br>Purview: AC<br>\\u03c6 = 0.1035<br>State: [1, 0]<br><br>Distinction 1: D<br>Direction: EFFECT<br>Purview: AC<br>\\u03c6 = 0.0052<br>State: [0, 0]<br><br>Relation purview: A<br>Relation \\u03c6 = 0.0026<br>\",\"legendgroup\":\"All 2-Relations\",\"line\":{\"color\":\"cyan\",\"width\":1.0},\"mode\":\"lines\",\"name\":\"All 2-Relations\",\"showlegend\":false,\"visible\":true,\"x\":[2.109859317102744,1.709859317102744],\"y\":[1.291916229670548e-16,8.020575100116068e-17],\"z\":[2.0,2.0],\"type\":\"scatter3d\"},{\"hoverinfo\":\"text\",\"hovertext\":\"<br>=2-Relation=<br><br>Distinction 0: C<br>Direction: EFFECT<br>Purview: C<br>\\u03c6 = 0.6273<br>State: [0]<br><br>Distinction 1: ABC<br>Direction: EFFECT<br>Purview: ABC<br>\\u03c6 = 0.0235<br>State: [0, 1, 0]<br><br>Relation purview: C<br>Relation \\u03c6 = 0.0322<br>\",\"legendgroup\":\"All 2-Relations\",\"line\":{\"color\":\"indigo\",\"width\":1.1221354511939716},\"mode\":\"lines\",\"name\":\"All 2-Relations\",\"showlegend\":false,\"visible\":true,\"x\":[-0.8752372371178294,1.1253953951963827],\"y\":[-0.6752372371178297,1.1253953951963829],\"z\":[0.0,3.0],\"type\":\"scatter3d\"},{\"hoverinfo\":\"text\",\"hovertext\":\"<br>=2-Relation=<br><br>Distinction 0: ACD<br>Direction: CAUSE<br>Purview: ABCD<br>\\u03c6 = 0.2045<br>State: [0, 1, 0, 1]<br><br>Distinction 1: A<br>Direction: EFFECT<br>Purview: A<br>\\u03c6 = 0.6273<br>State: [0]<br><br>Relation purview: A<br>Relation \\u03c6 = 0.4873<br>\",\"legendgroup\":\"All 2-Relations\",\"line\":{\"color\":\"indigo\",\"width\":3.0},\"mode\":\"lines\",\"name\":\"All 2-Relations\",\"showlegend\":false,\"visible\":true,\"x\":[0.47523723711782945,0.0],\"y\":[0.6752372371178296,0.0],\"z\":[0.0,3.75],\"type\":\"scatter3d\"},{\"hoverinfo\":\"text\",\"hovertext\":\"<br>=2-Relation=<br><br>Distinction 0: B<br>Direction: CAUSE<br>Purview: B<br>\\u03c6 = 0.2328<br>State: [1]<br><br>Distinction 1: BD<br>Direction: CAUSE<br>Purview: BD<br>\\u03c6 = 0.0886<br>State: [1, 0]<br><br>Relation purview: B<br>Relation \\u03c6 = 0.0189<br>\",\"legendgroup\":\"All 2-Relations\",\"line\":{\"color\":\"indigo\",\"width\":1.0674394530687192},\"mode\":\"lines\",\"name\":\"All 2-Relations\",\"showlegend\":false,\"visible\":true,\"x\":[0.8752372371178296,-1.709859317102744],\"y\":[-0.6752372371178295,-3.3858899693527023e-16],\"z\":[0.0,2.0],\"type\":\"scatter3d\"},{\"hoverinfo\":\"text\",\"hovertext\":\"<br>=2-Relation=<br><br>Distinction 0: A<br>Direction: CAUSE<br>Purview: A<br>\\u03c6 = 0.486<br>State: [0]<br><br>Distinction 1: ACD<br>Direction: CAUSE<br>Purview: ABCD<br>\\u03c6 = 0.2045<br>State: [0, 1, 0, 1]<br><br>Relation purview: A<br>Relation \\u03c6 = 0.486<br>\",\"legendgroup\":\"All 2-Relations\",\"line\":{\"color\":\"indigo\",\"width\":2.9949099018395247},\"mode\":\"lines\",\"name\":\"All 2-Relations\",\"showlegend\":false,\"visible\":true,\"x\":[0.8752372371178294,0.0],\"y\":[0.6752372371178296,0.0],\"z\":[0.0,3.75],\"type\":\"scatter3d\"},{\"hoverinfo\":\"text\",\"hovertext\":\"<br>=2-Relation=<br><br>Distinction 0: ABC<br>Direction: EFFECT<br>Purview: ABC<br>\\u03c6 = 0.0235<br>State: [0, 1, 0]<br><br>Distinction 1: D<br>Direction: EFFECT<br>Purview: AC<br>\\u03c6 = 0.0052<br>State: [0, 0]<br><br>Relation purview: AC<br>Relation \\u03c6 = 0.0052<br>\",\"legendgroup\":\"All 2-Relations\",\"line\":{\"color\":\"indigo\",\"width\":1.0106907977743396},\"mode\":\"lines\",\"name\":\"All 2-Relations\",\"showlegend\":false,\"visible\":true,\"x\":[1.709859317102744,1.1253953951963827],\"y\":[8.020575100116068e-17,1.1253953951963829],\"z\":[2.0,3.0],\"type\":\"scatter3d\"},{\"hoverinfo\":\"text\",\"hovertext\":\"<br>=2-Relation=<br><br>Distinction 0: D<br>Direction: CAUSE<br>Purview: AC<br>\\u03c6 = 0.1035<br>State: [1, 0]<br><br>Distinction 1: ABC<br>Direction: EFFECT<br>Purview: ABC<br>\\u03c6 = 0.0235<br>State: [0, 1, 0]<br><br>Relation purview: A<br>Relation \\u03c6 = 0.0322<br>\",\"legendgroup\":\"All 2-Relations\",\"line\":{\"color\":\"indigo\",\"width\":1.1221354511939718},\"mode\":\"lines\",\"name\":\"All 2-Relations\",\"showlegend\":false,\"visible\":true,\"x\":[2.109859317102744,1.1253953951963827],\"y\":[1.291916229670548e-16,1.1253953951963829],\"z\":[2.0,3.0],\"type\":\"scatter3d\"},{\"hoverinfo\":\"text\",\"hovertext\":\"<br>=2-Relation=<br><br>Distinction 0: A<br>Direction: EFFECT<br>Purview: A<br>\\u03c6 = 0.6273<br>State: [0]<br><br>Distinction 1: ABC<br>Direction: EFFECT<br>Purview: ABC<br>\\u03c6 = 0.0235<br>State: [0, 1, 0]<br><br>Relation purview: A<br>Relation \\u03c6 = 0.0322<br>\",\"legendgroup\":\"All 2-Relations\",\"line\":{\"color\":\"indigo\",\"width\":1.1221354511939718},\"mode\":\"lines\",\"name\":\"All 2-Relations\",\"showlegend\":false,\"visible\":true,\"x\":[0.47523723711782945,1.1253953951963827],\"y\":[0.6752372371178296,1.1253953951963829],\"z\":[0.0,3.0],\"type\":\"scatter3d\"},{\"hoverinfo\":\"text\",\"hovertext\":\"<br>=2-Relation=<br><br>Distinction 0: C<br>Direction: CAUSE<br>Purview: C<br>\\u03c6 = 0.486<br>State: [0]<br><br>Distinction 1: C<br>Direction: EFFECT<br>Purview: C<br>\\u03c6 = 0.6273<br>State: [0]<br><br>Relation purview: C<br>Relation \\u03c6 = 0.486<br>\",\"legendgroup\":\"All 2-Relations\",\"line\":{\"color\":\"cyan\",\"width\":2.994909901839524},\"mode\":\"lines\",\"name\":\"All 2-Relations\",\"showlegend\":false,\"visible\":true,\"x\":[-0.47523723711782945,-0.8752372371178294],\"y\":[-0.6752372371178297,-0.6752372371178297],\"z\":[0.0,0.0],\"type\":\"scatter3d\"},{\"hoverinfo\":\"text\",\"hovertext\":\"<br>=2-Relation=<br><br>Distinction 0: ACD<br>Direction: CAUSE<br>Purview: ABCD<br>\\u03c6 = 0.2045<br>State: [0, 1, 0, 1]<br><br>Distinction 1: C<br>Direction: EFFECT<br>Purview: C<br>\\u03c6 = 0.6273<br>State: [0]<br><br>Relation purview: C<br>Relation \\u03c6 = 0.4873<br>\",\"legendgroup\":\"All 2-Relations\",\"line\":{\"color\":\"indigo\",\"width\":3.0},\"mode\":\"lines\",\"name\":\"All 2-Relations\",\"showlegend\":false,\"visible\":true,\"x\":[-0.8752372371178294,0.0],\"y\":[-0.6752372371178297,0.0],\"z\":[0.0,3.75],\"type\":\"scatter3d\"},{\"hoverinfo\":\"text\",\"hovertext\":\"<br>=2-Relation=<br><br>Distinction 0: AD<br>Direction: EFFECT<br>Purview: D<br>\\u03c6 = 0.1301<br>State: [1]<br><br>Distinction 1: ACD<br>Direction: EFFECT<br>Purview: BD<br>\\u03c6 = 0.0656<br>State: [0, 1]<br><br>Relation purview: D<br>Relation \\u03c6 = 0.0891<br>\",\"legendgroup\":\"All 2-Relations\",\"line\":{\"color\":\"indigo\",\"width\":1.3568581445626344},\"mode\":\"lines\",\"name\":\"All 2-Relations\",\"showlegend\":false,\"visible\":true,\"x\":[-0.6752372371178297,-2.109859317102744],\"y\":[0.6752372371178293,-3.875748689011644e-16],\"z\":[0.0,2.0],\"type\":\"scatter3d\"},{\"hoverinfo\":\"text\",\"hovertext\":\"<br>=2-Relation=<br><br>Distinction 0: ACD<br>Direction: CAUSE<br>Purview: ABCD<br>\\u03c6 = 0.2045<br>State: [0, 1, 0, 1]<br><br>Distinction 1: D<br>Direction: EFFECT<br>Purview: AC<br>\\u03c6 = 0.0052<br>State: [0, 0]<br><br>Relation purview: AC<br>Relation \\u03c6 = 0.0052<br>\",\"legendgroup\":\"All 2-Relations\",\"line\":{\"color\":\"indigo\",\"width\":1.0106907977743396},\"mode\":\"lines\",\"name\":\"All 2-Relations\",\"showlegend\":false,\"visible\":true,\"x\":[1.709859317102744,0.0],\"y\":[8.020575100116068e-17,0.0],\"z\":[2.0,3.75],\"type\":\"scatter3d\"},{\"hoverinfo\":\"text\",\"hovertext\":\"<br>=2-Relation=<br><br>Distinction 0: BD<br>Direction: CAUSE<br>Purview: BD<br>\\u03c6 = 0.0886<br>State: [1, 0]<br><br>Distinction 1: BD<br>Direction: EFFECT<br>Purview: AB<br>\\u03c6 = 0.0028<br>State: [1, 1]<br><br>Relation purview: B<br>Relation \\u03c6 = 0.0189<br>\",\"legendgroup\":\"All 2-Relations\",\"line\":{\"color\":\"cyan\",\"width\":1.0674394530687192},\"mode\":\"lines\",\"name\":\"All 2-Relations\",\"showlegend\":false,\"visible\":true,\"x\":[-1.709859317102744,0.7549296585513718],\"y\":[-3.3858899693527023e-16,1.6539866862653763],\"z\":[2.0,2.0],\"type\":\"scatter3d\"},{\"hoverinfo\":\"text\",\"hovertext\":\"<br>=2-Relation=<br><br>Distinction 0: A<br>Direction: EFFECT<br>Purview: A<br>\\u03c6 = 0.6273<br>State: [0]<br><br>Distinction 1: D<br>Direction: EFFECT<br>Purview: AC<br>\\u03c6 = 0.0052<br>State: [0, 0]<br><br>Relation purview: A<br>Relation \\u03c6 = 0.0026<br>\",\"legendgroup\":\"All 2-Relations\",\"line\":{\"color\":\"indigo\",\"width\":1.0},\"mode\":\"lines\",\"name\":\"All 2-Relations\",\"showlegend\":false,\"visible\":true,\"x\":[0.47523723711782945,1.709859317102744],\"y\":[0.6752372371178296,8.020575100116068e-17],\"z\":[0.0,2.0],\"type\":\"scatter3d\"},{\"hoverinfo\":\"text\",\"hovertext\":\"<br>=2-Relation=<br><br>Distinction 0: C<br>Direction: CAUSE<br>Purview: C<br>\\u03c6 = 0.486<br>State: [0]<br><br>Distinction 1: CD<br>Direction: EFFECT<br>Purview: BC<br>\\u03c6 = 0.0056<br>State: [0, 0]<br><br>Relation purview: C<br>Relation \\u03c6 = 0.2054<br>\",\"legendgroup\":\"All 2-Relations\",\"line\":{\"color\":\"indigo\",\"width\":1.8369368252958198},\"mode\":\"lines\",\"name\":\"All 2-Relations\",\"showlegend\":false,\"visible\":true,\"x\":[-0.47523723711782945,-1.1549296585513715],\"y\":[-0.6752372371178297,-1.6539866862653765],\"z\":[0.0,2.0],\"type\":\"scatter3d\"},{\"hoverinfo\":\"text\",\"hovertext\":\"<br>=2-Relation=<br><br>Distinction 0: ACD<br>Direction: CAUSE<br>Purview: ABCD<br>\\u03c6 = 0.2045<br>State: [0, 1, 0, 1]<br><br>Distinction 1: B<br>Direction: CAUSE<br>Purview: B<br>\\u03c6 = 0.2328<br>State: [1]<br><br>Relation purview: B<br>Relation \\u03c6 = 0.219<br>\",\"legendgroup\":\"All 2-Relations\",\"line\":{\"color\":\"indigo\",\"width\":1.892962041935363},\"mode\":\"lines\",\"name\":\"All 2-Relations\",\"showlegend\":false,\"visible\":true,\"x\":[0.8752372371178296,0.0],\"y\":[-0.6752372371178295,0.0],\"z\":[0.0,3.75],\"type\":\"scatter3d\"},{\"hoverinfo\":\"text\",\"hovertext\":\"<br>=2-Relation=<br><br>Distinction 0: A<br>Direction: EFFECT<br>Purview: A<br>\\u03c6 = 0.6273<br>State: [0]<br><br>Distinction 1: D<br>Direction: CAUSE<br>Purview: AC<br>\\u03c6 = 0.1035<br>State: [1, 0]<br><br>Relation purview: A<br>Relation \\u03c6 = 0.1247<br>\",\"legendgroup\":\"All 2-Relations\",\"line\":{\"color\":\"indigo\",\"width\":1.503729057403437},\"mode\":\"lines\",\"name\":\"All 2-Relations\",\"showlegend\":false,\"visible\":true,\"x\":[0.47523723711782945,2.109859317102744],\"y\":[0.6752372371178296,1.291916229670548e-16],\"z\":[0.0,2.0],\"type\":\"scatter3d\"},{\"hoverinfo\":\"text\",\"hovertext\":\"<br>=2-Relation=<br><br>Distinction 0: AD<br>Direction: CAUSE<br>Purview: AB<br>\\u03c6 = 0.1408<br>State: [0, 1]<br><br>Distinction 1: ABC<br>Direction: EFFECT<br>Purview: ABC<br>\\u03c6 = 0.0235<br>State: [0, 1, 0]<br><br>Relation purview: B<br>Relation \\u03c6 = 0.1147<br>\",\"legendgroup\":\"All 2-Relations\",\"line\":{\"color\":\"indigo\",\"width\":1.4624888776301275},\"mode\":\"lines\",\"name\":\"All 2-Relations\",\"showlegend\":false,\"visible\":true,\"x\":[1.154929658551372,1.1253953951963827],\"y\":[1.6539866862653763,1.1253953951963829],\"z\":[2.0,3.0],\"type\":\"scatter3d\"},{\"hoverinfo\":\"text\",\"hovertext\":\"<br>=2-Relation=<br><br>Distinction 0: AD<br>Direction: CAUSE<br>Purview: AB<br>\\u03c6 = 0.1408<br>State: [0, 1]<br><br>Distinction 1: CD<br>Direction: CAUSE<br>Purview: BC<br>\\u03c6 = 0.1408<br>State: [1, 0]<br><br>Relation purview: B<br>Relation \\u03c6 = 0.1968<br>\",\"legendgroup\":\"All 2-Relations\",\"line\":{\"color\":\"cyan\",\"width\":1.8013924477176704},\"mode\":\"lines\",\"name\":\"All 2-Relations\",\"showlegend\":false,\"visible\":true,\"x\":[1.154929658551372,-0.7549296585513714],\"y\":[1.6539866862653763,-1.6539866862653765],\"z\":[2.0,2.0],\"type\":\"scatter3d\"},{\"hoverinfo\":\"text\",\"hovertext\":\"<br>=2-Relation=<br><br>Distinction 0: C<br>Direction: EFFECT<br>Purview: C<br>\\u03c6 = 0.6273<br>State: [0]<br><br>Distinction 1: D<br>Direction: EFFECT<br>Purview: AC<br>\\u03c6 = 0.0052<br>State: [0, 0]<br><br>Relation purview: C<br>Relation \\u03c6 = 0.0026<br>\",\"legendgroup\":\"All 2-Relations\",\"line\":{\"color\":\"indigo\",\"width\":1.0000000000000009},\"mode\":\"lines\",\"name\":\"All 2-Relations\",\"showlegend\":false,\"visible\":true,\"x\":[-0.8752372371178294,1.709859317102744],\"y\":[-0.6752372371178297,8.020575100116068e-17],\"z\":[0.0,2.0],\"type\":\"scatter3d\"},{\"hoverinfo\":\"text\",\"hovertext\":\"<br>=2-Relation=<br><br>Distinction 0: C<br>Direction: CAUSE<br>Purview: C<br>\\u03c6 = 0.486<br>State: [0]<br><br>Distinction 1: ABC<br>Direction: EFFECT<br>Purview: ABC<br>\\u03c6 = 0.0235<br>State: [0, 1, 0]<br><br>Relation purview: C<br>Relation \\u03c6 = 0.0322<br>\",\"legendgroup\":\"All 2-Relations\",\"line\":{\"color\":\"indigo\",\"width\":1.1221354511939716},\"mode\":\"lines\",\"name\":\"All 2-Relations\",\"showlegend\":false,\"visible\":true,\"x\":[-0.47523723711782945,1.1253953951963827],\"y\":[-0.6752372371178297,1.1253953951963829],\"z\":[0.0,3.0],\"type\":\"scatter3d\"},{\"hoverinfo\":\"text\",\"hovertext\":\"<br>=2-Relation=<br><br>Distinction 0: ACD<br>Direction: CAUSE<br>Purview: ABCD<br>\\u03c6 = 0.2045<br>State: [0, 1, 0, 1]<br><br>Distinction 1: B<br>Direction: EFFECT<br>Purview: B<br>\\u03c6 = 0.3524<br>State: [1]<br><br>Relation purview: B<br>Relation \\u03c6 = 0.219<br>\",\"legendgroup\":\"All 2-Relations\",\"line\":{\"color\":\"indigo\",\"width\":1.892962041935363},\"mode\":\"lines\",\"name\":\"All 2-Relations\",\"showlegend\":false,\"visible\":true,\"x\":[0.47523723711782956,0.0],\"y\":[-0.6752372371178295,0.0],\"z\":[0.0,3.75],\"type\":\"scatter3d\"},{\"hoverinfo\":\"text\",\"hovertext\":\"<br>=2-Relation=<br><br>Distinction 0: CD<br>Direction: EFFECT<br>Purview: BC<br>\\u03c6 = 0.0056<br>State: [0, 0]<br><br>Distinction 1: D<br>Direction: CAUSE<br>Purview: AC<br>\\u03c6 = 0.1035<br>State: [1, 0]<br><br>Relation purview: C<br>Relation \\u03c6 = 0.1247<br>\",\"legendgroup\":\"All 2-Relations\",\"line\":{\"color\":\"cyan\",\"width\":1.5037290574034374},\"mode\":\"lines\",\"name\":\"All 2-Relations\",\"showlegend\":false,\"visible\":true,\"x\":[2.109859317102744,-1.1549296585513715],\"y\":[1.291916229670548e-16,-1.6539866862653765],\"z\":[2.0,2.0],\"type\":\"scatter3d\"},{\"hoverinfo\":\"text\",\"hovertext\":\"<br>=2-Relation=<br><br>Distinction 0: ACD<br>Direction: CAUSE<br>Purview: ABCD<br>\\u03c6 = 0.2045<br>State: [0, 1, 0, 1]<br><br>Distinction 1: AD<br>Direction: EFFECT<br>Purview: D<br>\\u03c6 = 0.1301<br>State: [1]<br><br>Relation purview: D<br>Relation \\u03c6 = 0.1476<br>\",\"legendgroup\":\"All 2-Relations\",\"line\":{\"color\":\"indigo\",\"width\":1.5982099845086906},\"mode\":\"lines\",\"name\":\"All 2-Relations\",\"showlegend\":false,\"visible\":true,\"x\":[-0.6752372371178297,0.0],\"y\":[0.6752372371178293,0.0],\"z\":[0.0,3.75],\"type\":\"scatter3d\"},{\"hoverinfo\":\"text\",\"hovertext\":\"<br>=2-Relation=<br><br>Distinction 0: CD<br>Direction: EFFECT<br>Purview: BC<br>\\u03c6 = 0.0056<br>State: [0, 0]<br><br>Distinction 1: ABC<br>Direction: EFFECT<br>Purview: ABC<br>\\u03c6 = 0.0235<br>State: [0, 1, 0]<br><br>Relation purview: C<br>Relation \\u03c6 = 0.0322<br>\",\"legendgroup\":\"All 2-Relations\",\"line\":{\"color\":\"indigo\",\"width\":1.1221354511939716},\"mode\":\"lines\",\"name\":\"All 2-Relations\",\"showlegend\":false,\"visible\":true,\"x\":[-1.1549296585513715,1.1253953951963827],\"y\":[-1.6539866862653765,1.1253953951963829],\"z\":[2.0,3.0],\"type\":\"scatter3d\"},{\"hoverinfo\":\"text\",\"hovertext\":\"<br>=2-Relation=<br><br>Distinction 0: A<br>Direction: CAUSE<br>Purview: A<br>\\u03c6 = 0.486<br>State: [0]<br><br>Distinction 1: A<br>Direction: EFFECT<br>Purview: A<br>\\u03c6 = 0.6273<br>State: [0]<br><br>Relation purview: A<br>Relation \\u03c6 = 0.486<br>\",\"legendgroup\":\"All 2-Relations\",\"line\":{\"color\":\"cyan\",\"width\":2.9949099018395247},\"mode\":\"lines\",\"name\":\"All 2-Relations\",\"showlegend\":false,\"visible\":true,\"x\":[0.8752372371178294,0.47523723711782945],\"y\":[0.6752372371178296,0.6752372371178296],\"z\":[0.0,0.0],\"type\":\"scatter3d\"},{\"hoverinfo\":\"text\",\"hovertext\":\"<br>=2-Relation=<br><br>Distinction 0: D<br>Direction: CAUSE<br>Purview: AC<br>\\u03c6 = 0.1035<br>State: [1, 0]<br><br>Distinction 1: ABC<br>Direction: CAUSE<br>Purview: CD<br>\\u03c6 = 0.0006<br>State: [0, 1]<br><br>Relation purview: C<br>Relation \\u03c6 = 0.0832<br>\",\"legendgroup\":\"All 2-Relations\",\"line\":{\"color\":\"cyan\",\"width\":1.3327697735133723},\"mode\":\"lines\",\"name\":\"All 2-Relations\",\"showlegend\":false,\"visible\":true,\"x\":[2.109859317102744,-0.9549296585513729],\"y\":[1.291916229670548e-16,1.6539866862653756],\"z\":[2.0,2.0],\"type\":\"scatter3d\"},{\"hoverinfo\":\"text\",\"hovertext\":\"<br>=2-Relation=<br><br>Distinction 0: AD<br>Direction: CAUSE<br>Purview: AB<br>\\u03c6 = 0.1408<br>State: [0, 1]<br><br>Distinction 1: D<br>Direction: CAUSE<br>Purview: AC<br>\\u03c6 = 0.1035<br>State: [1, 0]<br><br>Relation purview: A<br>Relation \\u03c6 = 0.0832<br>\",\"legendgroup\":\"All 2-Relations\",\"line\":{\"color\":\"cyan\",\"width\":1.3327697735133723},\"mode\":\"lines\",\"name\":\"All 2-Relations\",\"showlegend\":false,\"visible\":true,\"x\":[2.109859317102744,1.154929658551372],\"y\":[1.291916229670548e-16,1.6539866862653763],\"z\":[2.0,2.0],\"type\":\"scatter3d\"},{\"hoverinfo\":\"text\",\"hovertext\":\"<br>=2-Relation=<br><br>Distinction 0: ACD<br>Direction: CAUSE<br>Purview: ABCD<br>\\u03c6 = 0.2045<br>State: [0, 1, 0, 1]<br><br>Distinction 1: BD<br>Direction: CAUSE<br>Purview: BD<br>\\u03c6 = 0.0886<br>State: [1, 0]<br><br>Relation purview: B<br>Relation \\u03c6 = 0.0189<br>\",\"legendgroup\":\"All 2-Relations\",\"line\":{\"color\":\"indigo\",\"width\":1.0674394530687192},\"mode\":\"lines\",\"name\":\"All 2-Relations\",\"showlegend\":false,\"visible\":true,\"x\":[-1.709859317102744,0.0],\"y\":[-3.3858899693527023e-16,0.0],\"z\":[2.0,3.75],\"type\":\"scatter3d\"},{\"hoverinfo\":\"text\",\"hovertext\":\"<br>=2-Relation=<br><br>Distinction 0: A<br>Direction: CAUSE<br>Purview: A<br>\\u03c6 = 0.486<br>State: [0]<br><br>Distinction 1: ABC<br>Direction: EFFECT<br>Purview: ABC<br>\\u03c6 = 0.0235<br>State: [0, 1, 0]<br><br>Relation purview: A<br>Relation \\u03c6 = 0.0322<br>\",\"legendgroup\":\"All 2-Relations\",\"line\":{\"color\":\"indigo\",\"width\":1.1221354511939718},\"mode\":\"lines\",\"name\":\"All 2-Relations\",\"showlegend\":false,\"visible\":true,\"x\":[0.8752372371178294,1.1253953951963827],\"y\":[0.6752372371178296,1.1253953951963829],\"z\":[0.0,3.0],\"type\":\"scatter3d\"},{\"hoverinfo\":\"text\",\"hovertext\":\"<br>=2-Relation=<br><br>Distinction 0: C<br>Direction: CAUSE<br>Purview: C<br>\\u03c6 = 0.486<br>State: [0]<br><br>Distinction 1: D<br>Direction: CAUSE<br>Purview: AC<br>\\u03c6 = 0.1035<br>State: [1, 0]<br><br>Relation purview: C<br>Relation \\u03c6 = 0.1247<br>\",\"legendgroup\":\"All 2-Relations\",\"line\":{\"color\":\"indigo\",\"width\":1.5037290574034374},\"mode\":\"lines\",\"name\":\"All 2-Relations\",\"showlegend\":false,\"visible\":true,\"x\":[-0.47523723711782945,2.109859317102744],\"y\":[-0.6752372371178297,1.291916229670548e-16],\"z\":[0.0,2.0],\"type\":\"scatter3d\"},{\"hoverinfo\":\"text\",\"hovertext\":\"<br>=2-Relation=<br><br>Distinction 0: ACD<br>Direction: CAUSE<br>Purview: ABCD<br>\\u03c6 = 0.2045<br>State: [0, 1, 0, 1]<br><br>Distinction 1: C<br>Direction: CAUSE<br>Purview: C<br>\\u03c6 = 0.486<br>State: [0]<br><br>Relation purview: C<br>Relation \\u03c6 = 0.486<br>\",\"legendgroup\":\"All 2-Relations\",\"line\":{\"color\":\"indigo\",\"width\":2.994909901839524},\"mode\":\"lines\",\"name\":\"All 2-Relations\",\"showlegend\":false,\"visible\":true,\"x\":[-0.47523723711782945,0.0],\"y\":[-0.6752372371178297,0.0],\"z\":[0.0,3.75],\"type\":\"scatter3d\"},{\"hoverinfo\":\"text\",\"hovertext\":\"<br>=2-Relation=<br><br>Distinction 0: ACD<br>Direction: CAUSE<br>Purview: ABCD<br>\\u03c6 = 0.2045<br>State: [0, 1, 0, 1]<br><br>Distinction 1: D<br>Direction: CAUSE<br>Purview: AC<br>\\u03c6 = 0.1035<br>State: [1, 0]<br><br>Relation purview: A<br>Relation \\u03c6 = 0.1247<br>\",\"legendgroup\":\"All 2-Relations\",\"line\":{\"color\":\"indigo\",\"width\":1.503729057403437},\"mode\":\"lines\",\"name\":\"All 2-Relations\",\"showlegend\":false,\"visible\":true,\"x\":[2.109859317102744,0.0],\"y\":[1.291916229670548e-16,0.0],\"z\":[2.0,3.75],\"type\":\"scatter3d\"},{\"hoverinfo\":\"text\",\"hovertext\":\"<br>=2-Relation=<br><br>Distinction 0: BD<br>Direction: EFFECT<br>Purview: AB<br>\\u03c6 = 0.0028<br>State: [1, 1]<br><br>Distinction 1: D<br>Direction: CAUSE<br>Purview: AC<br>\\u03c6 = 0.1035<br>State: [1, 0]<br><br>Relation purview: A<br>Relation \\u03c6 = 0.0832<br>\",\"legendgroup\":\"All 2-Relations\",\"line\":{\"color\":\"cyan\",\"width\":1.3327697735133723},\"mode\":\"lines\",\"name\":\"All 2-Relations\",\"showlegend\":false,\"visible\":true,\"x\":[2.109859317102744,0.7549296585513718],\"y\":[1.291916229670548e-16,1.6539866862653763],\"z\":[2.0,2.0],\"type\":\"scatter3d\"},{\"hoverinfo\":\"text\",\"hovertext\":\"<br>=2-Relation=<br><br>Distinction 0: A<br>Direction: CAUSE<br>Purview: A<br>\\u03c6 = 0.486<br>State: [0]<br><br>Distinction 1: D<br>Direction: CAUSE<br>Purview: AC<br>\\u03c6 = 0.1035<br>State: [1, 0]<br><br>Relation purview: A<br>Relation \\u03c6 = 0.1247<br>\",\"legendgroup\":\"All 2-Relations\",\"line\":{\"color\":\"indigo\",\"width\":1.503729057403437},\"mode\":\"lines\",\"name\":\"All 2-Relations\",\"showlegend\":false,\"visible\":true,\"x\":[0.8752372371178294,2.109859317102744],\"y\":[0.6752372371178296,1.291916229670548e-16],\"z\":[0.0,2.0],\"type\":\"scatter3d\"},{\"hoverinfo\":\"text\",\"hovertext\":\"<br>=2-Relation=<br><br>Distinction 0: ACD<br>Direction: CAUSE<br>Purview: ABCD<br>\\u03c6 = 0.2045<br>State: [0, 1, 0, 1]<br><br>Distinction 1: BD<br>Direction: EFFECT<br>Purview: AB<br>\\u03c6 = 0.0028<br>State: [1, 1]<br><br>Relation purview: B<br>Relation \\u03c6 = 0.1496<br>\",\"legendgroup\":\"All 2-Relations\",\"line\":{\"color\":\"indigo\",\"width\":1.606682881814971},\"mode\":\"lines\",\"name\":\"All 2-Relations\",\"showlegend\":false,\"visible\":true,\"x\":[0.7549296585513718,0.0],\"y\":[1.6539866862653763,0.0],\"z\":[2.0,3.75],\"type\":\"scatter3d\"},{\"hoverinfo\":\"text\",\"hovertext\":\"<br>=2-Relation=<br><br>Distinction 0: C<br>Direction: EFFECT<br>Purview: C<br>\\u03c6 = 0.6273<br>State: [0]<br><br>Distinction 1: D<br>Direction: CAUSE<br>Purview: AC<br>\\u03c6 = 0.1035<br>State: [1, 0]<br><br>Relation purview: C<br>Relation \\u03c6 = 0.1247<br>\",\"legendgroup\":\"All 2-Relations\",\"line\":{\"color\":\"indigo\",\"width\":1.5037290574034374},\"mode\":\"lines\",\"name\":\"All 2-Relations\",\"showlegend\":false,\"visible\":true,\"x\":[-0.8752372371178294,2.109859317102744],\"y\":[-0.6752372371178297,1.291916229670548e-16],\"z\":[0.0,2.0],\"type\":\"scatter3d\"},{\"hoverinfo\":\"text\",\"hovertext\":\"<br>=2-Relation=<br><br>Distinction 0: CD<br>Direction: CAUSE<br>Purview: BC<br>\\u03c6 = 0.1408<br>State: [1, 0]<br><br>Distinction 1: D<br>Direction: CAUSE<br>Purview: AC<br>\\u03c6 = 0.1035<br>State: [1, 0]<br><br>Relation purview: C<br>Relation \\u03c6 = 0.0832<br>\",\"legendgroup\":\"All 2-Relations\",\"line\":{\"color\":\"cyan\",\"width\":1.3327697735133723},\"mode\":\"lines\",\"name\":\"All 2-Relations\",\"showlegend\":false,\"visible\":true,\"x\":[2.109859317102744,-0.7549296585513714],\"y\":[1.291916229670548e-16,-1.6539866862653765],\"z\":[2.0,2.0],\"type\":\"scatter3d\"},{\"hoverinfo\":\"text\",\"hovertext\":\"<br>=2-Relation=<br><br>Distinction 0: A<br>Direction: CAUSE<br>Purview: A<br>\\u03c6 = 0.486<br>State: [0]<br><br>Distinction 1: D<br>Direction: EFFECT<br>Purview: AC<br>\\u03c6 = 0.0052<br>State: [0, 0]<br><br>Relation purview: A<br>Relation \\u03c6 = 0.0026<br>\",\"legendgroup\":\"All 2-Relations\",\"line\":{\"color\":\"indigo\",\"width\":1.0},\"mode\":\"lines\",\"name\":\"All 2-Relations\",\"showlegend\":false,\"visible\":true,\"x\":[0.8752372371178294,1.709859317102744],\"y\":[0.6752372371178296,8.020575100116068e-17],\"z\":[0.0,2.0],\"type\":\"scatter3d\"},{\"hoverinfo\":\"text\",\"hovertext\":\"<br>=2-Relation=<br><br>Distinction 0: CD<br>Direction: EFFECT<br>Purview: BC<br>\\u03c6 = 0.0056<br>State: [0, 0]<br><br>Distinction 1: D<br>Direction: EFFECT<br>Purview: AC<br>\\u03c6 = 0.0052<br>State: [0, 0]<br><br>Relation purview: C<br>Relation \\u03c6 = 0.0026<br>\",\"legendgroup\":\"All 2-Relations\",\"line\":{\"color\":\"cyan\",\"width\":1.0000000000000009},\"mode\":\"lines\",\"name\":\"All 2-Relations\",\"showlegend\":false,\"visible\":true,\"x\":[1.709859317102744,-1.1549296585513715],\"y\":[8.020575100116068e-17,-1.6539866862653765],\"z\":[2.0,2.0],\"type\":\"scatter3d\"},{\"hoverinfo\":\"text\",\"hovertext\":\"<br>=2-Relation=<br><br>Distinction 0: CD<br>Direction: CAUSE<br>Purview: BC<br>\\u03c6 = 0.1408<br>State: [1, 0]<br><br>Distinction 1: ABC<br>Direction: CAUSE<br>Purview: CD<br>\\u03c6 = 0.0006<br>State: [0, 1]<br><br>Relation purview: C<br>Relation \\u03c6 = 0.1016<br>\",\"legendgroup\":\"All 2-Relations\",\"line\":{\"color\":\"cyan\",\"width\":1.40857794298798},\"mode\":\"lines\",\"name\":\"All 2-Relations\",\"showlegend\":false,\"visible\":true,\"x\":[-0.7549296585513714,-0.9549296585513729],\"y\":[-1.6539866862653765,1.6539866862653756],\"z\":[2.0,2.0],\"type\":\"scatter3d\"},{\"hoverinfo\":\"text\",\"hovertext\":\"<br>=2-Relation=<br><br>Distinction 0: CD<br>Direction: CAUSE<br>Purview: BC<br>\\u03c6 = 0.1408<br>State: [1, 0]<br><br>Distinction 1: ABC<br>Direction: EFFECT<br>Purview: ABC<br>\\u03c6 = 0.0235<br>State: [0, 1, 0]<br><br>Relation purview: B<br>Relation \\u03c6 = 0.1147<br>\",\"legendgroup\":\"All 2-Relations\",\"line\":{\"color\":\"indigo\",\"width\":1.4624888776301275},\"mode\":\"lines\",\"name\":\"All 2-Relations\",\"showlegend\":false,\"visible\":true,\"x\":[-0.7549296585513714,1.1253953951963827],\"y\":[-1.6539866862653765,1.1253953951963829],\"z\":[2.0,3.0],\"type\":\"scatter3d\"},{\"hoverinfo\":\"text\",\"hovertext\":\"<br>=2-Relation=<br><br>Distinction 0: BD<br>Direction: CAUSE<br>Purview: BD<br>\\u03c6 = 0.0886<br>State: [1, 0]<br><br>Distinction 1: B<br>Direction: EFFECT<br>Purview: B<br>\\u03c6 = 0.3524<br>State: [1]<br><br>Relation purview: B<br>Relation \\u03c6 = 0.0189<br>\",\"legendgroup\":\"All 2-Relations\",\"line\":{\"color\":\"indigo\",\"width\":1.0674394530687192},\"mode\":\"lines\",\"name\":\"All 2-Relations\",\"showlegend\":false,\"visible\":true,\"x\":[0.47523723711782956,-1.709859317102744],\"y\":[-0.6752372371178295,-3.3858899693527023e-16],\"z\":[0.0,2.0],\"type\":\"scatter3d\"},{\"colorscale\":[[0,\"red\"],[0.5,\"rgb(171, 207, 229)\"],[1,\"blue\"]],\"hoverinfo\":\"text\",\"hovertext\":\"<br>=3-Relation=<br><br>Distinction 0: A<br>Direction: CAUSE<br>Purview: A<br>\\u03c6 = 0.486<br>State: [0]<br><br>Distinction 1: A<br>Direction: EFFECT<br>Purview: A<br>\\u03c6 = 0.6273<br>State: [0]<br><br>Distinction 2: D<br>Direction: EFFECT<br>Purview: AC<br>\\u03c6 = 0.0052<br>State: [0, 0]<br><br>Relation purview: A<br>Relation \\u03c6 = 0.0026<br>\",\"i\":[0],\"intensity\":[1.0],\"intensitymode\":\"cell\",\"j\":[1],\"k\":[7],\"legendgroup\":\"All 3-Relations\",\"name\":\"All 3-Relations\",\"opacity\":0.015,\"showlegend\":true,\"showscale\":false,\"visible\":true,\"x\":[0.8752372371178294,0.47523723711782945,0.8752372371178296,0.47523723711782956,-0.47523723711782945,-0.8752372371178294,2.109859317102744,1.709859317102744,1.154929658551372,-0.6752372371178297,-1.709859317102744,0.7549296585513718,-0.7549296585513714,-1.1549296585513715,-0.9549296585513729,1.1253953951963827,0.0,-2.109859317102744],\"y\":[0.6752372371178296,0.6752372371178296,-0.6752372371178295,-0.6752372371178295,-0.6752372371178297,-0.6752372371178297,1.291916229670548e-16,8.020575100116068e-17,1.6539866862653763,0.6752372371178293,-3.3858899693527023e-16,1.6539866862653763,-1.6539866862653765,-1.6539866862653765,1.6539866862653756,1.1253953951963829,0.0,-3.875748689011644e-16],\"z\":[0.0,0.0,0.0,0.0,0.0,0.0,2.0,2.0,2.0,0.0,2.0,2.0,2.0,2.0,2.0,3.0,3.75,2.0],\"type\":\"mesh3d\"},{\"colorscale\":[[0,\"red\"],[0.5,\"rgb(17, 93, 165)\"],[1,\"blue\"]],\"hoverinfo\":\"text\",\"hovertext\":\"<br>=3-Relation=<br><br>Distinction 0: ABC<br>Direction: EFFECT<br>Purview: ABC<br>\\u03c6 = 0.0235<br>State: [0, 1, 0]<br><br>Distinction 1: CD<br>Direction: EFFECT<br>Purview: BC<br>\\u03c6 = 0.0056<br>State: [0, 0]<br><br>Distinction 2: D<br>Direction: EFFECT<br>Purview: AC<br>\\u03c6 = 0.0052<br>State: [0, 0]<br><br>Relation purview: C<br>Relation \\u03c6 = 0.0026<br>\",\"i\":[7],\"intensity\":[1.0],\"intensitymode\":\"cell\",\"j\":[13],\"k\":[15],\"legendgroup\":\"All 3-Relations\",\"name\":\"All 3-Relations\",\"opacity\":0.015000000000000024,\"showlegend\":false,\"showscale\":false,\"visible\":true,\"x\":[0.8752372371178294,0.47523723711782945,0.8752372371178296,0.47523723711782956,-0.47523723711782945,-0.8752372371178294,2.109859317102744,1.709859317102744,1.154929658551372,-0.6752372371178297,-1.709859317102744,0.7549296585513718,-0.7549296585513714,-1.1549296585513715,-0.9549296585513729,1.1253953951963827,0.0,-2.109859317102744],\"y\":[0.6752372371178296,0.6752372371178296,-0.6752372371178295,-0.6752372371178295,-0.6752372371178297,-0.6752372371178297,1.291916229670548e-16,8.020575100116068e-17,1.6539866862653763,0.6752372371178293,-3.3858899693527023e-16,1.6539866862653763,-1.6539866862653765,-1.6539866862653765,1.6539866862653756,1.1253953951963829,0.0,-3.875748689011644e-16],\"z\":[0.0,0.0,0.0,0.0,0.0,0.0,2.0,2.0,2.0,0.0,2.0,2.0,2.0,2.0,2.0,3.0,3.75,2.0],\"type\":\"mesh3d\"},{\"colorscale\":[[0,\"red\"],[0.5,\"rgb(166, 205, 227)\"],[1,\"blue\"]],\"hoverinfo\":\"text\",\"hovertext\":\"<br>=3-Relation=<br><br>Distinction 0: ACD<br>Direction: CAUSE<br>Purview: ABCD<br>\\u03c6 = 0.2045<br>State: [0, 1, 0, 1]<br><br>Distinction 1: A<br>Direction: EFFECT<br>Purview: A<br>\\u03c6 = 0.6273<br>State: [0]<br><br>Distinction 2: ABC<br>Direction: EFFECT<br>Purview: ABC<br>\\u03c6 = 0.0235<br>State: [0, 1, 0]<br><br>Relation purview: A<br>Relation \\u03c6 = 0.0322<br>\",\"i\":[1],\"intensity\":[1.0],\"intensitymode\":\"cell\",\"j\":[15],\"k\":[16],\"legendgroup\":\"All 3-Relations\",\"name\":\"All 3-Relations\",\"opacity\":0.018627494894165375,\"showlegend\":false,\"showscale\":false,\"visible\":true,\"x\":[0.8752372371178294,0.47523723711782945,0.8752372371178296,0.47523723711782956,-0.47523723711782945,-0.8752372371178294,2.109859317102744,1.709859317102744,1.154929658551372,-0.6752372371178297,-1.709859317102744,0.7549296585513718,-0.7549296585513714,-1.1549296585513715,-0.9549296585513729,1.1253953951963827,0.0,-2.109859317102744],\"y\":[0.6752372371178296,0.6752372371178296,-0.6752372371178295,-0.6752372371178295,-0.6752372371178297,-0.6752372371178297,1.291916229670548e-16,8.020575100116068e-17,1.6539866862653763,0.6752372371178293,-3.3858899693527023e-16,1.6539866862653763,-1.6539866862653765,-1.6539866862653765,1.6539866862653756,1.1253953951963829,0.0,-3.875748689011644e-16],\"z\":[0.0,0.0,0.0,0.0,0.0,0.0,2.0,2.0,2.0,0.0,2.0,2.0,2.0,2.0,2.0,3.0,3.75,2.0],\"type\":\"mesh3d\"},{\"colorscale\":[[0,\"red\"],[0.5,\"rgb(136, 190, 220)\"],[1,\"blue\"]],\"hoverinfo\":\"text\",\"hovertext\":\"<br>=3-Relation=<br><br>Distinction 0: ACD<br>Direction: CAUSE<br>Purview: ABCD<br>\\u03c6 = 0.2045<br>State: [0, 1, 0, 1]<br><br>Distinction 1: ABC<br>Direction: EFFECT<br>Purview: ABC<br>\\u03c6 = 0.0235<br>State: [0, 1, 0]<br><br>Distinction 2: D<br>Direction: EFFECT<br>Purview: AC<br>\\u03c6 = 0.0052<br>State: [0, 0]<br><br>Relation purview: AC<br>Relation \\u03c6 = 0.0052<br>\",\"i\":[7],\"intensity\":[1.0],\"intensitymode\":\"cell\",\"j\":[15],\"k\":[16],\"legendgroup\":\"All 3-Relations\",\"name\":\"All 3-Relations\",\"opacity\":0.015317522995672902,\"showlegend\":false,\"showscale\":false,\"visible\":true,\"x\":[0.8752372371178294,0.47523723711782945,0.8752372371178296,0.47523723711782956,-0.47523723711782945,-0.8752372371178294,2.109859317102744,1.709859317102744,1.154929658551372,-0.6752372371178297,-1.709859317102744,0.7549296585513718,-0.7549296585513714,-1.1549296585513715,-0.9549296585513729,1.1253953951963827,0.0,-2.109859317102744],\"y\":[0.6752372371178296,0.6752372371178296,-0.6752372371178295,-0.6752372371178295,-0.6752372371178297,-0.6752372371178297,1.291916229670548e-16,8.020575100116068e-17,1.6539866862653763,0.6752372371178293,-3.3858899693527023e-16,1.6539866862653763,-1.6539866862653765,-1.6539866862653765,1.6539866862653756,1.1253953951963829,0.0,-3.875748689011644e-16],\"z\":[0.0,0.0,0.0,0.0,0.0,0.0,2.0,2.0,2.0,0.0,2.0,2.0,2.0,2.0,2.0,3.0,3.75,2.0],\"type\":\"mesh3d\"},{\"colorscale\":[[0,\"red\"],[0.5,\"rgb(123, 183, 217)\"],[1,\"blue\"]],\"hoverinfo\":\"text\",\"hovertext\":\"<br>=3-Relation=<br><br>Distinction 0: D<br>Direction: EFFECT<br>Purview: AC<br>\\u03c6 = 0.0052<br>State: [0, 0]<br><br>Distinction 1: D<br>Direction: CAUSE<br>Purview: AC<br>\\u03c6 = 0.1035<br>State: [1, 0]<br><br>Distinction 2: ABC<br>Direction: EFFECT<br>Purview: ABC<br>\\u03c6 = 0.0235<br>State: [0, 1, 0]<br><br>Relation purview: A<br>Relation \\u03c6 = 0.0026<br>\",\"i\":[6],\"intensity\":[1.0],\"intensitymode\":\"cell\",\"j\":[7],\"k\":[15],\"legendgroup\":\"All 3-Relations\",\"name\":\"All 3-Relations\",\"opacity\":0.015,\"showlegend\":false,\"showscale\":false,\"visible\":true,\"x\":[0.8752372371178294,0.47523723711782945,0.8752372371178296,0.47523723711782956,-0.47523723711782945,-0.8752372371178294,2.109859317102744,1.709859317102744,1.154929658551372,-0.6752372371178297,-1.709859317102744,0.7549296585513718,-0.7549296585513714,-1.1549296585513715,-0.9549296585513729,1.1253953951963827,0.0,-2.109859317102744],\"y\":[0.6752372371178296,0.6752372371178296,-0.6752372371178295,-0.6752372371178295,-0.6752372371178297,-0.6752372371178297,1.291916229670548e-16,8.020575100116068e-17,1.6539866862653763,0.6752372371178293,-3.3858899693527023e-16,1.6539866862653763,-1.6539866862653765,-1.6539866862653765,1.6539866862653756,1.1253953951963829,0.0,-3.875748689011644e-16],\"z\":[0.0,0.0,0.0,0.0,0.0,0.0,2.0,2.0,2.0,0.0,2.0,2.0,2.0,2.0,2.0,3.0,3.75,2.0],\"type\":\"mesh3d\"},{\"colorscale\":[[0,\"red\"],[0.5,\"rgb(186, 214, 234)\"],[1,\"blue\"]],\"hoverinfo\":\"text\",\"hovertext\":\"<br>=3-Relation=<br><br>Distinction 0: CD<br>Direction: EFFECT<br>Purview: BC<br>\\u03c6 = 0.0056<br>State: [0, 0]<br><br>Distinction 1: D<br>Direction: CAUSE<br>Purview: AC<br>\\u03c6 = 0.1035<br>State: [1, 0]<br><br>Distinction 2: D<br>Direction: EFFECT<br>Purview: AC<br>\\u03c6 = 0.0052<br>State: [0, 0]<br><br>Relation purview: C<br>Relation \\u03c6 = 0.0026<br>\",\"i\":[6],\"intensity\":[1.0],\"intensitymode\":\"cell\",\"j\":[7],\"k\":[13],\"legendgroup\":\"All 3-Relations\",\"name\":\"All 3-Relations\",\"opacity\":0.015000000000000024,\"showlegend\":false,\"showscale\":false,\"visible\":true,\"x\":[0.8752372371178294,0.47523723711782945,0.8752372371178296,0.47523723711782956,-0.47523723711782945,-0.8752372371178294,2.109859317102744,1.709859317102744,1.154929658551372,-0.6752372371178297,-1.709859317102744,0.7549296585513718,-0.7549296585513714,-1.1549296585513715,-0.9549296585513729,1.1253953951963827,0.0,-2.109859317102744],\"y\":[0.6752372371178296,0.6752372371178296,-0.6752372371178295,-0.6752372371178295,-0.6752372371178297,-0.6752372371178297,1.291916229670548e-16,8.020575100116068e-17,1.6539866862653763,0.6752372371178293,-3.3858899693527023e-16,1.6539866862653763,-1.6539866862653765,-1.6539866862653765,1.6539866862653756,1.1253953951963829,0.0,-3.875748689011644e-16],\"z\":[0.0,0.0,0.0,0.0,0.0,0.0,2.0,2.0,2.0,0.0,2.0,2.0,2.0,2.0,2.0,3.0,3.75,2.0],\"type\":\"mesh3d\"},{\"colorscale\":[[0,\"red\"],[0.5,\"rgb(34, 114, 181)\"],[1,\"blue\"]],\"hoverinfo\":\"text\",\"hovertext\":\"<br>=3-Relation=<br><br>Distinction 0: A<br>Direction: CAUSE<br>Purview: A<br>\\u03c6 = 0.486<br>State: [0]<br><br>Distinction 1: ACD<br>Direction: CAUSE<br>Purview: ABCD<br>\\u03c6 = 0.2045<br>State: [0, 1, 0, 1]<br><br>Distinction 2: ABC<br>Direction: EFFECT<br>Purview: ABC<br>\\u03c6 = 0.0235<br>State: [0, 1, 0]<br><br>Relation purview: A<br>Relation \\u03c6 = 0.0322<br>\",\"i\":[0],\"intensity\":[1.0],\"intensitymode\":\"cell\",\"j\":[15],\"k\":[16],\"legendgroup\":\"All 3-Relations\",\"name\":\"All 3-Relations\",\"opacity\":0.018627494894165375,\"showlegend\":false,\"showscale\":false,\"visible\":true,\"x\":[0.8752372371178294,0.47523723711782945,0.8752372371178296,0.47523723711782956,-0.47523723711782945,-0.8752372371178294,2.109859317102744,1.709859317102744,1.154929658551372,-0.6752372371178297,-1.709859317102744,0.7549296585513718,-0.7549296585513714,-1.1549296585513715,-0.9549296585513729,1.1253953951963827,0.0,-2.109859317102744],\"y\":[0.6752372371178296,0.6752372371178296,-0.6752372371178295,-0.6752372371178295,-0.6752372371178297,-0.6752372371178297,1.291916229670548e-16,8.020575100116068e-17,1.6539866862653763,0.6752372371178293,-3.3858899693527023e-16,1.6539866862653763,-1.6539866862653765,-1.6539866862653765,1.6539866862653756,1.1253953951963829,0.0,-3.875748689011644e-16],\"z\":[0.0,0.0,0.0,0.0,0.0,0.0,2.0,2.0,2.0,0.0,2.0,2.0,2.0,2.0,2.0,3.0,3.75,2.0],\"type\":\"mesh3d\"},{\"colorscale\":[[0,\"red\"],[0.5,\"rgb(215, 230, 244)\"],[1,\"blue\"]],\"hoverinfo\":\"text\",\"hovertext\":\"<br>=3-Relation=<br><br>Distinction 0: ACD<br>Direction: CAUSE<br>Purview: ABCD<br>\\u03c6 = 0.2045<br>State: [0, 1, 0, 1]<br><br>Distinction 1: BD<br>Direction: CAUSE<br>Purview: BD<br>\\u03c6 = 0.0886<br>State: [1, 0]<br><br>Distinction 2: BD<br>Direction: EFFECT<br>Purview: AB<br>\\u03c6 = 0.0028<br>State: [1, 1]<br><br>Relation purview: B<br>Relation \\u03c6 = 0.0189<br>\",\"i\":[10],\"intensity\":[1.0],\"intensitymode\":\"cell\",\"j\":[11],\"k\":[16],\"legendgroup\":\"All 3-Relations\",\"name\":\"All 3-Relations\",\"opacity\":0.01700299150885815,\"showlegend\":false,\"showscale\":false,\"visible\":true,\"x\":[0.8752372371178294,0.47523723711782945,0.8752372371178296,0.47523723711782956,-0.47523723711782945,-0.8752372371178294,2.109859317102744,1.709859317102744,1.154929658551372,-0.6752372371178297,-1.709859317102744,0.7549296585513718,-0.7549296585513714,-1.1549296585513715,-0.9549296585513729,1.1253953951963827,0.0,-2.109859317102744],\"y\":[0.6752372371178296,0.6752372371178296,-0.6752372371178295,-0.6752372371178295,-0.6752372371178297,-0.6752372371178297,1.291916229670548e-16,8.020575100116068e-17,1.6539866862653763,0.6752372371178293,-3.3858899693527023e-16,1.6539866862653763,-1.6539866862653765,-1.6539866862653765,1.6539866862653756,1.1253953951963829,0.0,-3.875748689011644e-16],\"z\":[0.0,0.0,0.0,0.0,0.0,0.0,2.0,2.0,2.0,0.0,2.0,2.0,2.0,2.0,2.0,3.0,3.75,2.0],\"type\":\"mesh3d\"},{\"colorscale\":[[0,\"red\"],[0.5,\"rgb(176, 209, 231)\"],[1,\"blue\"]],\"hoverinfo\":\"text\",\"hovertext\":\"<br>=3-Relation=<br><br>Distinction 0: D<br>Direction: EFFECT<br>Purview: AC<br>\\u03c6 = 0.0052<br>State: [0, 0]<br><br>Distinction 1: C<br>Direction: EFFECT<br>Purview: C<br>\\u03c6 = 0.6273<br>State: [0]<br><br>Distinction 2: ABC<br>Direction: EFFECT<br>Purview: ABC<br>\\u03c6 = 0.0235<br>State: [0, 1, 0]<br><br>Relation purview: C<br>Relation \\u03c6 = 0.0026<br>\",\"i\":[5],\"intensity\":[1.0],\"intensitymode\":\"cell\",\"j\":[7],\"k\":[15],\"legendgroup\":\"All 3-Relations\",\"name\":\"All 3-Relations\",\"opacity\":0.015000000000000024,\"showlegend\":false,\"showscale\":false,\"visible\":true,\"x\":[0.8752372371178294,0.47523723711782945,0.8752372371178296,0.47523723711782956,-0.47523723711782945,-0.8752372371178294,2.109859317102744,1.709859317102744,1.154929658551372,-0.6752372371178297,-1.709859317102744,0.7549296585513718,-0.7549296585513714,-1.1549296585513715,-0.9549296585513729,1.1253953951963827,0.0,-2.109859317102744],\"y\":[0.6752372371178296,0.6752372371178296,-0.6752372371178295,-0.6752372371178295,-0.6752372371178297,-0.6752372371178297,1.291916229670548e-16,8.020575100116068e-17,1.6539866862653763,0.6752372371178293,-3.3858899693527023e-16,1.6539866862653763,-1.6539866862653765,-1.6539866862653765,1.6539866862653756,1.1253953951963829,0.0,-3.875748689011644e-16],\"z\":[0.0,0.0,0.0,0.0,0.0,0.0,2.0,2.0,2.0,0.0,2.0,2.0,2.0,2.0,2.0,3.0,3.75,2.0],\"type\":\"mesh3d\"},{\"colorscale\":[[0,\"red\"],[0.5,\"rgb(8, 52, 113)\"],[1,\"blue\"]],\"hoverinfo\":\"text\",\"hovertext\":\"<br>=3-Relation=<br><br>Distinction 0: A<br>Direction: CAUSE<br>Purview: A<br>\\u03c6 = 0.486<br>State: [0]<br><br>Distinction 1: D<br>Direction: CAUSE<br>Purview: AC<br>\\u03c6 = 0.1035<br>State: [1, 0]<br><br>Distinction 2: ABC<br>Direction: EFFECT<br>Purview: ABC<br>\\u03c6 = 0.0235<br>State: [0, 1, 0]<br><br>Relation purview: A<br>Relation \\u03c6 = 0.0322<br>\",\"i\":[0],\"intensity\":[1.0],\"intensitymode\":\"cell\",\"j\":[6],\"k\":[15],\"legendgroup\":\"All 3-Relations\",\"name\":\"All 3-Relations\",\"opacity\":0.018627494894165375,\"showlegend\":false,\"showscale\":false,\"visible\":true,\"x\":[0.8752372371178294,0.47523723711782945,0.8752372371178296,0.47523723711782956,-0.47523723711782945,-0.8752372371178294,2.109859317102744,1.709859317102744,1.154929658551372,-0.6752372371178297,-1.709859317102744,0.7549296585513718,-0.7549296585513714,-1.1549296585513715,-0.9549296585513729,1.1253953951963827,0.0,-2.109859317102744],\"y\":[0.6752372371178296,0.6752372371178296,-0.6752372371178295,-0.6752372371178295,-0.6752372371178297,-0.6752372371178297,1.291916229670548e-16,8.020575100116068e-17,1.6539866862653763,0.6752372371178293,-3.3858899693527023e-16,1.6539866862653763,-1.6539866862653765,-1.6539866862653765,1.6539866862653756,1.1253953951963829,0.0,-3.875748689011644e-16],\"z\":[0.0,0.0,0.0,0.0,0.0,0.0,2.0,2.0,2.0,0.0,2.0,2.0,2.0,2.0,2.0,3.0,3.75,2.0],\"type\":\"mesh3d\"},{\"colorscale\":[[0,\"red\"],[0.5,\"rgb(237, 244, 251)\"],[1,\"blue\"]],\"hoverinfo\":\"text\",\"hovertext\":\"<br>=3-Relation=<br><br>Distinction 0: C<br>Direction: CAUSE<br>Purview: C<br>\\u03c6 = 0.486<br>State: [0]<br><br>Distinction 1: D<br>Direction: CAUSE<br>Purview: AC<br>\\u03c6 = 0.1035<br>State: [1, 0]<br><br>Distinction 2: D<br>Direction: EFFECT<br>Purview: AC<br>\\u03c6 = 0.0052<br>State: [0, 0]<br><br>Relation purview: C<br>Relation \\u03c6 = 0.0026<br>\",\"i\":[4],\"intensity\":[1.0],\"intensitymode\":\"cell\",\"j\":[6],\"k\":[7],\"legendgroup\":\"All 3-Relations\",\"name\":\"All 3-Relations\",\"opacity\":0.015000000000000024,\"showlegend\":false,\"showscale\":false,\"visible\":true,\"x\":[0.8752372371178294,0.47523723711782945,0.8752372371178296,0.47523723711782956,-0.47523723711782945,-0.8752372371178294,2.109859317102744,1.709859317102744,1.154929658551372,-0.6752372371178297,-1.709859317102744,0.7549296585513718,-0.7549296585513714,-1.1549296585513715,-0.9549296585513729,1.1253953951963827,0.0,-2.109859317102744],\"y\":[0.6752372371178296,0.6752372371178296,-0.6752372371178295,-0.6752372371178295,-0.6752372371178297,-0.6752372371178297,1.291916229670548e-16,8.020575100116068e-17,1.6539866862653763,0.6752372371178293,-3.3858899693527023e-16,1.6539866862653763,-1.6539866862653765,-1.6539866862653765,1.6539866862653756,1.1253953951963829,0.0,-3.875748689011644e-16],\"z\":[0.0,0.0,0.0,0.0,0.0,0.0,2.0,2.0,2.0,0.0,2.0,2.0,2.0,2.0,2.0,3.0,3.75,2.0],\"type\":\"mesh3d\"},{\"colorscale\":[[0,\"red\"],[0.5,\"rgb(8, 48, 107)\"],[1,\"blue\"]],\"hoverinfo\":\"text\",\"hovertext\":\"<br>=3-Relation=<br><br>Distinction 0: C<br>Direction: CAUSE<br>Purview: C<br>\\u03c6 = 0.486<br>State: [0]<br><br>Distinction 1: D<br>Direction: CAUSE<br>Purview: AC<br>\\u03c6 = 0.1035<br>State: [1, 0]<br><br>Distinction 2: ABC<br>Direction: EFFECT<br>Purview: ABC<br>\\u03c6 = 0.0235<br>State: [0, 1, 0]<br><br>Relation purview: C<br>Relation \\u03c6 = 0.0322<br>\",\"i\":[4],\"intensity\":[1.0],\"intensitymode\":\"cell\",\"j\":[6],\"k\":[15],\"legendgroup\":\"All 3-Relations\",\"name\":\"All 3-Relations\",\"opacity\":0.01862749489416537,\"showlegend\":false,\"showscale\":false,\"visible\":true,\"x\":[0.8752372371178294,0.47523723711782945,0.8752372371178296,0.47523723711782956,-0.47523723711782945,-0.8752372371178294,2.109859317102744,1.709859317102744,1.154929658551372,-0.6752372371178297,-1.709859317102744,0.7549296585513718,-0.7549296585513714,-1.1549296585513715,-0.9549296585513729,1.1253953951963827,0.0,-2.109859317102744],\"y\":[0.6752372371178296,0.6752372371178296,-0.6752372371178295,-0.6752372371178295,-0.6752372371178297,-0.6752372371178297,1.291916229670548e-16,8.020575100116068e-17,1.6539866862653763,0.6752372371178293,-3.3858899693527023e-16,1.6539866862653763,-1.6539866862653765,-1.6539866862653765,1.6539866862653756,1.1253953951963829,0.0,-3.875748689011644e-16],\"z\":[0.0,0.0,0.0,0.0,0.0,0.0,2.0,2.0,2.0,0.0,2.0,2.0,2.0,2.0,2.0,3.0,3.75,2.0],\"type\":\"mesh3d\"},{\"colorscale\":[[0,\"red\"],[0.5,\"rgb(8, 72, 143)\"],[1,\"blue\"]],\"hoverinfo\":\"text\",\"hovertext\":\"<br>=3-Relation=<br><br>Distinction 0: A<br>Direction: CAUSE<br>Purview: A<br>\\u03c6 = 0.486<br>State: [0]<br><br>Distinction 1: D<br>Direction: CAUSE<br>Purview: AC<br>\\u03c6 = 0.1035<br>State: [1, 0]<br><br>Distinction 2: D<br>Direction: EFFECT<br>Purview: AC<br>\\u03c6 = 0.0052<br>State: [0, 0]<br><br>Relation purview: A<br>Relation \\u03c6 = 0.0026<br>\",\"i\":[0],\"intensity\":[1.0],\"intensitymode\":\"cell\",\"j\":[6],\"k\":[7],\"legendgroup\":\"All 3-Relations\",\"name\":\"All 3-Relations\",\"opacity\":0.015,\"showlegend\":false,\"showscale\":false,\"visible\":true,\"x\":[0.8752372371178294,0.47523723711782945,0.8752372371178296,0.47523723711782956,-0.47523723711782945,-0.8752372371178294,2.109859317102744,1.709859317102744,1.154929658551372,-0.6752372371178297,-1.709859317102744,0.7549296585513718,-0.7549296585513714,-1.1549296585513715,-0.9549296585513729,1.1253953951963827,0.0,-2.109859317102744],\"y\":[0.6752372371178296,0.6752372371178296,-0.6752372371178295,-0.6752372371178295,-0.6752372371178297,-0.6752372371178297,1.291916229670548e-16,8.020575100116068e-17,1.6539866862653763,0.6752372371178293,-3.3858899693527023e-16,1.6539866862653763,-1.6539866862653765,-1.6539866862653765,1.6539866862653756,1.1253953951963829,0.0,-3.875748689011644e-16],\"z\":[0.0,0.0,0.0,0.0,0.0,0.0,2.0,2.0,2.0,0.0,2.0,2.0,2.0,2.0,2.0,3.0,3.75,2.0],\"type\":\"mesh3d\"},{\"colorscale\":[[0,\"red\"],[0.5,\"rgb(117, 179, 216)\"],[1,\"blue\"]],\"hoverinfo\":\"text\",\"hovertext\":\"<br>=3-Relation=<br><br>Distinction 0: ACD<br>Direction: CAUSE<br>Purview: ABCD<br>\\u03c6 = 0.2045<br>State: [0, 1, 0, 1]<br><br>Distinction 1: D<br>Direction: CAUSE<br>Purview: AC<br>\\u03c6 = 0.1035<br>State: [1, 0]<br><br>Distinction 2: ABC<br>Direction: EFFECT<br>Purview: ABC<br>\\u03c6 = 0.0235<br>State: [0, 1, 0]<br><br>Relation purview: A<br>Relation \\u03c6 = 0.0322<br>\",\"i\":[6],\"intensity\":[1.0],\"intensitymode\":\"cell\",\"j\":[15],\"k\":[16],\"legendgroup\":\"All 3-Relations\",\"name\":\"All 3-Relations\",\"opacity\":0.018627494894165375,\"showlegend\":false,\"showscale\":false,\"visible\":true,\"x\":[0.8752372371178294,0.47523723711782945,0.8752372371178296,0.47523723711782956,-0.47523723711782945,-0.8752372371178294,2.109859317102744,1.709859317102744,1.154929658551372,-0.6752372371178297,-1.709859317102744,0.7549296585513718,-0.7549296585513714,-1.1549296585513715,-0.9549296585513729,1.1253953951963827,0.0,-2.109859317102744],\"y\":[0.6752372371178296,0.6752372371178296,-0.6752372371178295,-0.6752372371178295,-0.6752372371178297,-0.6752372371178297,1.291916229670548e-16,8.020575100116068e-17,1.6539866862653763,0.6752372371178293,-3.3858899693527023e-16,1.6539866862653763,-1.6539866862653765,-1.6539866862653765,1.6539866862653756,1.1253953951963829,0.0,-3.875748689011644e-16],\"z\":[0.0,0.0,0.0,0.0,0.0,0.0,2.0,2.0,2.0,0.0,2.0,2.0,2.0,2.0,2.0,3.0,3.75,2.0],\"type\":\"mesh3d\"},{\"colorscale\":[[0,\"red\"],[0.5,\"rgb(221, 234, 246)\"],[1,\"blue\"]],\"hoverinfo\":\"text\",\"hovertext\":\"<br>=3-Relation=<br><br>Distinction 0: A<br>Direction: CAUSE<br>Purview: A<br>\\u03c6 = 0.486<br>State: [0]<br><br>Distinction 1: ACD<br>Direction: CAUSE<br>Purview: ABCD<br>\\u03c6 = 0.2045<br>State: [0, 1, 0, 1]<br><br>Distinction 2: D<br>Direction: EFFECT<br>Purview: AC<br>\\u03c6 = 0.0052<br>State: [0, 0]<br><br>Relation purview: A<br>Relation \\u03c6 = 0.0026<br>\",\"i\":[0],\"intensity\":[1.0],\"intensitymode\":\"cell\",\"j\":[7],\"k\":[16],\"legendgroup\":\"All 3-Relations\",\"name\":\"All 3-Relations\",\"opacity\":0.015,\"showlegend\":false,\"showscale\":false,\"visible\":true,\"x\":[0.8752372371178294,0.47523723711782945,0.8752372371178296,0.47523723711782956,-0.47523723711782945,-0.8752372371178294,2.109859317102744,1.709859317102744,1.154929658551372,-0.6752372371178297,-1.709859317102744,0.7549296585513718,-0.7549296585513714,-1.1549296585513715,-0.9549296585513729,1.1253953951963827,0.0,-2.109859317102744],\"y\":[0.6752372371178296,0.6752372371178296,-0.6752372371178295,-0.6752372371178295,-0.6752372371178297,-0.6752372371178297,1.291916229670548e-16,8.020575100116068e-17,1.6539866862653763,0.6752372371178293,-3.3858899693527023e-16,1.6539866862653763,-1.6539866862653765,-1.6539866862653765,1.6539866862653756,1.1253953951963829,0.0,-3.875748689011644e-16],\"z\":[0.0,0.0,0.0,0.0,0.0,0.0,2.0,2.0,2.0,0.0,2.0,2.0,2.0,2.0,2.0,3.0,3.75,2.0],\"type\":\"mesh3d\"},{\"colorscale\":[[0,\"red\"],[0.5,\"rgb(200, 220, 239)\"],[1,\"blue\"]],\"hoverinfo\":\"text\",\"hovertext\":\"<br>=3-Relation=<br><br>Distinction 0: ACD<br>Direction: CAUSE<br>Purview: ABCD<br>\\u03c6 = 0.2045<br>State: [0, 1, 0, 1]<br><br>Distinction 1: CD<br>Direction: EFFECT<br>Purview: BC<br>\\u03c6 = 0.0056<br>State: [0, 0]<br><br>Distinction 2: C<br>Direction: EFFECT<br>Purview: C<br>\\u03c6 = 0.6273<br>State: [0]<br><br>Relation purview: C<br>Relation \\u03c6 = 0.2054<br>\",\"i\":[5],\"intensity\":[1.0],\"intensitymode\":\"cell\",\"j\":[13],\"k\":[16],\"legendgroup\":\"All 3-Relations\",\"name\":\"All 3-Relations\",\"opacity\":0.0398575170502945,\"showlegend\":false,\"showscale\":false,\"visible\":true,\"x\":[0.8752372371178294,0.47523723711782945,0.8752372371178296,0.47523723711782956,-0.47523723711782945,-0.8752372371178294,2.109859317102744,1.709859317102744,1.154929658551372,-0.6752372371178297,-1.709859317102744,0.7549296585513718,-0.7549296585513714,-1.1549296585513715,-0.9549296585513729,1.1253953951963827,0.0,-2.109859317102744],\"y\":[0.6752372371178296,0.6752372371178296,-0.6752372371178295,-0.6752372371178295,-0.6752372371178297,-0.6752372371178297,1.291916229670548e-16,8.020575100116068e-17,1.6539866862653763,0.6752372371178293,-3.3858899693527023e-16,1.6539866862653763,-1.6539866862653765,-1.6539866862653765,1.6539866862653756,1.1253953951963829,0.0,-3.875748689011644e-16],\"z\":[0.0,0.0,0.0,0.0,0.0,0.0,2.0,2.0,2.0,0.0,2.0,2.0,2.0,2.0,2.0,3.0,3.75,2.0],\"type\":\"mesh3d\"},{\"colorscale\":[[0,\"red\"],[0.5,\"rgb(181, 211, 233)\"],[1,\"blue\"]],\"hoverinfo\":\"text\",\"hovertext\":\"<br>=3-Relation=<br><br>Distinction 0: CD<br>Direction: EFFECT<br>Purview: BC<br>\\u03c6 = 0.0056<br>State: [0, 0]<br><br>Distinction 1: C<br>Direction: EFFECT<br>Purview: C<br>\\u03c6 = 0.6273<br>State: [0]<br><br>Distinction 2: D<br>Direction: CAUSE<br>Purview: AC<br>\\u03c6 = 0.1035<br>State: [1, 0]<br><br>Relation purview: C<br>Relation \\u03c6 = 0.1247<br>\",\"i\":[5],\"intensity\":[1.0],\"intensitymode\":\"cell\",\"j\":[6],\"k\":[13],\"legendgroup\":\"All 3-Relations\",\"name\":\"All 3-Relations\",\"opacity\":0.029961049931945514,\"showlegend\":false,\"showscale\":false,\"visible\":true,\"x\":[0.8752372371178294,0.47523723711782945,0.8752372371178296,0.47523723711782956,-0.47523723711782945,-0.8752372371178294,2.109859317102744,1.709859317102744,1.154929658551372,-0.6752372371178297,-1.709859317102744,0.7549296585513718,-0.7549296585513714,-1.1549296585513715,-0.9549296585513729,1.1253953951963827,0.0,-2.109859317102744],\"y\":[0.6752372371178296,0.6752372371178296,-0.6752372371178295,-0.6752372371178295,-0.6752372371178297,-0.6752372371178297,1.291916229670548e-16,8.020575100116068e-17,1.6539866862653763,0.6752372371178293,-3.3858899693527023e-16,1.6539866862653763,-1.6539866862653765,-1.6539866862653765,1.6539866862653756,1.1253953951963829,0.0,-3.875748689011644e-16],\"z\":[0.0,0.0,0.0,0.0,0.0,0.0,2.0,2.0,2.0,0.0,2.0,2.0,2.0,2.0,2.0,3.0,3.75,2.0],\"type\":\"mesh3d\"},{\"colorscale\":[[0,\"red\"],[0.5,\"rgb(161, 203, 226)\"],[1,\"blue\"]],\"hoverinfo\":\"text\",\"hovertext\":\"<br>=3-Relation=<br><br>Distinction 0: CD<br>Direction: EFFECT<br>Purview: BC<br>\\u03c6 = 0.0056<br>State: [0, 0]<br><br>Distinction 1: D<br>Direction: CAUSE<br>Purview: AC<br>\\u03c6 = 0.1035<br>State: [1, 0]<br><br>Distinction 2: ABC<br>Direction: EFFECT<br>Purview: ABC<br>\\u03c6 = 0.0235<br>State: [0, 1, 0]<br><br>Relation purview: C<br>Relation \\u03c6 = 0.0322<br>\",\"i\":[6],\"intensity\":[1.0],\"intensitymode\":\"cell\",\"j\":[13],\"k\":[15],\"legendgroup\":\"All 3-Relations\",\"name\":\"All 3-Relations\",\"opacity\":0.01862749489416537,\"showlegend\":false,\"showscale\":false,\"visible\":true,\"x\":[0.8752372371178294,0.47523723711782945,0.8752372371178296,0.47523723711782956,-0.47523723711782945,-0.8752372371178294,2.109859317102744,1.709859317102744,1.154929658551372,-0.6752372371178297,-1.709859317102744,0.7549296585513718,-0.7549296585513714,-1.1549296585513715,-0.9549296585513729,1.1253953951963827,0.0,-2.109859317102744],\"y\":[0.6752372371178296,0.6752372371178296,-0.6752372371178295,-0.6752372371178295,-0.6752372371178297,-0.6752372371178297,1.291916229670548e-16,8.020575100116068e-17,1.6539866862653763,0.6752372371178293,-3.3858899693527023e-16,1.6539866862653763,-1.6539866862653765,-1.6539866862653765,1.6539866862653756,1.1253953951963829,0.0,-3.875748689011644e-16],\"z\":[0.0,0.0,0.0,0.0,0.0,0.0,2.0,2.0,2.0,0.0,2.0,2.0,2.0,2.0,2.0,3.0,3.75,2.0],\"type\":\"mesh3d\"},{\"colorscale\":[[0,\"red\"],[0.5,\"rgb(98, 168, 210)\"],[1,\"blue\"]],\"hoverinfo\":\"text\",\"hovertext\":\"<br>=3-Relation=<br><br>Distinction 0: C<br>Direction: EFFECT<br>Purview: C<br>\\u03c6 = 0.6273<br>State: [0]<br><br>Distinction 1: C<br>Direction: CAUSE<br>Purview: C<br>\\u03c6 = 0.486<br>State: [0]<br><br>Distinction 2: CD<br>Direction: EFFECT<br>Purview: BC<br>\\u03c6 = 0.0056<br>State: [0, 0]<br><br>Relation purview: C<br>Relation \\u03c6 = 0.2054<br>\",\"i\":[4],\"intensity\":[1.0],\"intensitymode\":\"cell\",\"j\":[5],\"k\":[13],\"legendgroup\":\"All 3-Relations\",\"name\":\"All 3-Relations\",\"opacity\":0.0398575170502945,\"showlegend\":false,\"showscale\":false,\"visible\":true,\"x\":[0.8752372371178294,0.47523723711782945,0.8752372371178296,0.47523723711782956,-0.47523723711782945,-0.8752372371178294,2.109859317102744,1.709859317102744,1.154929658551372,-0.6752372371178297,-1.709859317102744,0.7549296585513718,-0.7549296585513714,-1.1549296585513715,-0.9549296585513729,1.1253953951963827,0.0,-2.109859317102744],\"y\":[0.6752372371178296,0.6752372371178296,-0.6752372371178295,-0.6752372371178295,-0.6752372371178297,-0.6752372371178297,1.291916229670548e-16,8.020575100116068e-17,1.6539866862653763,0.6752372371178293,-3.3858899693527023e-16,1.6539866862653763,-1.6539866862653765,-1.6539866862653765,1.6539866862653756,1.1253953951963829,0.0,-3.875748689011644e-16],\"z\":[0.0,0.0,0.0,0.0,0.0,0.0,2.0,2.0,2.0,0.0,2.0,2.0,2.0,2.0,2.0,3.0,3.75,2.0],\"type\":\"mesh3d\"},{\"colorscale\":[[0,\"red\"],[0.5,\"rgb(83, 157, 204)\"],[1,\"blue\"]],\"hoverinfo\":\"text\",\"hovertext\":\"<br>=3-Relation=<br><br>Distinction 0: ACD<br>Direction: CAUSE<br>Purview: ABCD<br>\\u03c6 = 0.2045<br>State: [0, 1, 0, 1]<br><br>Distinction 1: B<br>Direction: CAUSE<br>Purview: B<br>\\u03c6 = 0.2328<br>State: [1]<br><br>Distinction 2: B<br>Direction: EFFECT<br>Purview: B<br>\\u03c6 = 0.3524<br>State: [1]<br><br>Relation purview: B<br>Relation \\u03c6 = 0.219<br>\",\"i\":[2],\"intensity\":[1.0],\"intensitymode\":\"cell\",\"j\":[3],\"k\":[16],\"legendgroup\":\"All 3-Relations\",\"name\":\"All 3-Relations\",\"opacity\":0.04152149900899449,\"showlegend\":false,\"showscale\":false,\"visible\":true,\"x\":[0.8752372371178294,0.47523723711782945,0.8752372371178296,0.47523723711782956,-0.47523723711782945,-0.8752372371178294,2.109859317102744,1.709859317102744,1.154929658551372,-0.6752372371178297,-1.709859317102744,0.7549296585513718,-0.7549296585513714,-1.1549296585513715,-0.9549296585513729,1.1253953951963827,0.0,-2.109859317102744],\"y\":[0.6752372371178296,0.6752372371178296,-0.6752372371178295,-0.6752372371178295,-0.6752372371178297,-0.6752372371178297,1.291916229670548e-16,8.020575100116068e-17,1.6539866862653763,0.6752372371178293,-3.3858899693527023e-16,1.6539866862653763,-1.6539866862653765,-1.6539866862653765,1.6539866862653756,1.1253953951963829,0.0,-3.875748689011644e-16],\"z\":[0.0,0.0,0.0,0.0,0.0,0.0,2.0,2.0,2.0,0.0,2.0,2.0,2.0,2.0,2.0,3.0,3.75,2.0],\"type\":\"mesh3d\"},{\"colorscale\":[[0,\"red\"],[0.5,\"rgb(8, 81, 156)\"],[1,\"blue\"]],\"hoverinfo\":\"text\",\"hovertext\":\"<br>=3-Relation=<br><br>Distinction 0: A<br>Direction: CAUSE<br>Purview: A<br>\\u03c6 = 0.486<br>State: [0]<br><br>Distinction 1: D<br>Direction: EFFECT<br>Purview: AC<br>\\u03c6 = 0.0052<br>State: [0, 0]<br><br>Distinction 2: ABC<br>Direction: EFFECT<br>Purview: ABC<br>\\u03c6 = 0.0235<br>State: [0, 1, 0]<br><br>Relation purview: A<br>Relation \\u03c6 = 0.0026<br>\",\"i\":[0],\"intensity\":[1.0],\"intensitymode\":\"cell\",\"j\":[7],\"k\":[15],\"legendgroup\":\"All 3-Relations\",\"name\":\"All 3-Relations\",\"opacity\":0.015,\"showlegend\":false,\"showscale\":false,\"visible\":true,\"x\":[0.8752372371178294,0.47523723711782945,0.8752372371178296,0.47523723711782956,-0.47523723711782945,-0.8752372371178294,2.109859317102744,1.709859317102744,1.154929658551372,-0.6752372371178297,-1.709859317102744,0.7549296585513718,-0.7549296585513714,-1.1549296585513715,-0.9549296585513729,1.1253953951963827,0.0,-2.109859317102744],\"y\":[0.6752372371178296,0.6752372371178296,-0.6752372371178295,-0.6752372371178295,-0.6752372371178297,-0.6752372371178297,1.291916229670548e-16,8.020575100116068e-17,1.6539866862653763,0.6752372371178293,-3.3858899693527023e-16,1.6539866862653763,-1.6539866862653765,-1.6539866862653765,1.6539866862653756,1.1253953951963829,0.0,-3.875748689011644e-16],\"z\":[0.0,0.0,0.0,0.0,0.0,0.0,2.0,2.0,2.0,0.0,2.0,2.0,2.0,2.0,2.0,3.0,3.75,2.0],\"type\":\"mesh3d\"},{\"colorscale\":[[0,\"red\"],[0.5,\"rgb(11, 85, 159)\"],[1,\"blue\"]],\"hoverinfo\":\"text\",\"hovertext\":\"<br>=3-Relation=<br><br>Distinction 0: B<br>Direction: EFFECT<br>Purview: B<br>\\u03c6 = 0.3524<br>State: [1]<br><br>Distinction 1: B<br>Direction: CAUSE<br>Purview: B<br>\\u03c6 = 0.2328<br>State: [1]<br><br>Distinction 2: BD<br>Direction: EFFECT<br>Purview: AB<br>\\u03c6 = 0.0028<br>State: [1, 1]<br><br>Relation purview: B<br>Relation \\u03c6 = 0.1496<br>\",\"i\":[2],\"intensity\":[1.0],\"intensitymode\":\"cell\",\"j\":[3],\"k\":[11],\"legendgroup\":\"All 3-Relations\",\"name\":\"All 3-Relations\",\"opacity\":0.03301883920391138,\"showlegend\":false,\"showscale\":false,\"visible\":true,\"x\":[0.8752372371178294,0.47523723711782945,0.8752372371178296,0.47523723711782956,-0.47523723711782945,-0.8752372371178294,2.109859317102744,1.709859317102744,1.154929658551372,-0.6752372371178297,-1.709859317102744,0.7549296585513718,-0.7549296585513714,-1.1549296585513715,-0.9549296585513729,1.1253953951963827,0.0,-2.109859317102744],\"y\":[0.6752372371178296,0.6752372371178296,-0.6752372371178295,-0.6752372371178295,-0.6752372371178297,-0.6752372371178297,1.291916229670548e-16,8.020575100116068e-17,1.6539866862653763,0.6752372371178293,-3.3858899693527023e-16,1.6539866862653763,-1.6539866862653765,-1.6539866862653765,1.6539866862653756,1.1253953951963829,0.0,-3.875748689011644e-16],\"z\":[0.0,0.0,0.0,0.0,0.0,0.0,2.0,2.0,2.0,0.0,2.0,2.0,2.0,2.0,2.0,3.0,3.75,2.0],\"type\":\"mesh3d\"},{\"colorscale\":[[0,\"red\"],[0.5,\"rgb(78, 154, 202)\"],[1,\"blue\"]],\"hoverinfo\":\"text\",\"hovertext\":\"<br>=3-Relation=<br><br>Distinction 0: ACD<br>Direction: CAUSE<br>Purview: ABCD<br>\\u03c6 = 0.2045<br>State: [0, 1, 0, 1]<br><br>Distinction 1: BD<br>Direction: CAUSE<br>Purview: BD<br>\\u03c6 = 0.0886<br>State: [1, 0]<br><br>Distinction 2: B<br>Direction: EFFECT<br>Purview: B<br>\\u03c6 = 0.3524<br>State: [1]<br><br>Relation purview: B<br>Relation \\u03c6 = 0.0189<br>\",\"i\":[3],\"intensity\":[1.0],\"intensitymode\":\"cell\",\"j\":[10],\"k\":[16],\"legendgroup\":\"All 3-Relations\",\"name\":\"All 3-Relations\",\"opacity\":0.01700299150885815,\"showlegend\":false,\"showscale\":false,\"visible\":true,\"x\":[0.8752372371178294,0.47523723711782945,0.8752372371178296,0.47523723711782956,-0.47523723711782945,-0.8752372371178294,2.109859317102744,1.709859317102744,1.154929658551372,-0.6752372371178297,-1.709859317102744,0.7549296585513718,-0.7549296585513714,-1.1549296585513715,-0.9549296585513729,1.1253953951963827,0.0,-2.109859317102744],\"y\":[0.6752372371178296,0.6752372371178296,-0.6752372371178295,-0.6752372371178295,-0.6752372371178297,-0.6752372371178297,1.291916229670548e-16,8.020575100116068e-17,1.6539866862653763,0.6752372371178293,-3.3858899693527023e-16,1.6539866862653763,-1.6539866862653765,-1.6539866862653765,1.6539866862653756,1.1253953951963829,0.0,-3.875748689011644e-16],\"z\":[0.0,0.0,0.0,0.0,0.0,0.0,2.0,2.0,2.0,0.0,2.0,2.0,2.0,2.0,2.0,3.0,3.75,2.0],\"type\":\"mesh3d\"},{\"colorscale\":[[0,\"red\"],[0.5,\"rgb(38, 118, 183)\"],[1,\"blue\"]],\"hoverinfo\":\"text\",\"hovertext\":\"<br>=3-Relation=<br><br>Distinction 0: ACD<br>Direction: CAUSE<br>Purview: ABCD<br>\\u03c6 = 0.2045<br>State: [0, 1, 0, 1]<br><br>Distinction 1: A<br>Direction: EFFECT<br>Purview: A<br>\\u03c6 = 0.6273<br>State: [0]<br><br>Distinction 2: D<br>Direction: EFFECT<br>Purview: AC<br>\\u03c6 = 0.0052<br>State: [0, 0]<br><br>Relation purview: A<br>Relation \\u03c6 = 0.0026<br>\",\"i\":[1],\"intensity\":[1.0],\"intensitymode\":\"cell\",\"j\":[7],\"k\":[16],\"legendgroup\":\"All 3-Relations\",\"name\":\"All 3-Relations\",\"opacity\":0.015,\"showlegend\":false,\"showscale\":false,\"visible\":true,\"x\":[0.8752372371178294,0.47523723711782945,0.8752372371178296,0.47523723711782956,-0.47523723711782945,-0.8752372371178294,2.109859317102744,1.709859317102744,1.154929658551372,-0.6752372371178297,-1.709859317102744,0.7549296585513718,-0.7549296585513714,-1.1549296585513715,-0.9549296585513729,1.1253953951963827,0.0,-2.109859317102744],\"y\":[0.6752372371178296,0.6752372371178296,-0.6752372371178295,-0.6752372371178295,-0.6752372371178297,-0.6752372371178297,1.291916229670548e-16,8.020575100116068e-17,1.6539866862653763,0.6752372371178293,-3.3858899693527023e-16,1.6539866862653763,-1.6539866862653765,-1.6539866862653765,1.6539866862653756,1.1253953951963829,0.0,-3.875748689011644e-16],\"z\":[0.0,0.0,0.0,0.0,0.0,0.0,2.0,2.0,2.0,0.0,2.0,2.0,2.0,2.0,2.0,3.0,3.75,2.0],\"type\":\"mesh3d\"},{\"colorscale\":[[0,\"red\"],[0.5,\"rgb(88, 161, 206)\"],[1,\"blue\"]],\"hoverinfo\":\"text\",\"hovertext\":\"<br>=3-Relation=<br><br>Distinction 0: ACD<br>Direction: CAUSE<br>Purview: ABCD<br>\\u03c6 = 0.2045<br>State: [0, 1, 0, 1]<br><br>Distinction 1: D<br>Direction: CAUSE<br>Purview: AC<br>\\u03c6 = 0.1035<br>State: [1, 0]<br><br>Distinction 2: D<br>Direction: EFFECT<br>Purview: AC<br>\\u03c6 = 0.0052<br>State: [0, 0]<br><br>Relation purview: A<br>Relation \\u03c6 = 0.0026<br>\",\"i\":[6],\"intensity\":[1.0],\"intensitymode\":\"cell\",\"j\":[7],\"k\":[16],\"legendgroup\":\"All 3-Relations\",\"name\":\"All 3-Relations\",\"opacity\":0.015,\"showlegend\":false,\"showscale\":false,\"visible\":true,\"x\":[0.8752372371178294,0.47523723711782945,0.8752372371178296,0.47523723711782956,-0.47523723711782945,-0.8752372371178294,2.109859317102744,1.709859317102744,1.154929658551372,-0.6752372371178297,-1.709859317102744,0.7549296585513718,-0.7549296585513714,-1.1549296585513715,-0.9549296585513729,1.1253953951963827,0.0,-2.109859317102744],\"y\":[0.6752372371178296,0.6752372371178296,-0.6752372371178295,-0.6752372371178295,-0.6752372371178297,-0.6752372371178297,1.291916229670548e-16,8.020575100116068e-17,1.6539866862653763,0.6752372371178293,-3.3858899693527023e-16,1.6539866862653763,-1.6539866862653765,-1.6539866862653765,1.6539866862653756,1.1253953951963829,0.0,-3.875748689011644e-16],\"z\":[0.0,0.0,0.0,0.0,0.0,0.0,2.0,2.0,2.0,0.0,2.0,2.0,2.0,2.0,2.0,3.0,3.75,2.0],\"type\":\"mesh3d\"},{\"colorscale\":[[0,\"red\"],[0.5,\"rgb(111, 176, 214)\"],[1,\"blue\"]],\"hoverinfo\":\"text\",\"hovertext\":\"<br>=3-Relation=<br><br>Distinction 0: C<br>Direction: EFFECT<br>Purview: C<br>\\u03c6 = 0.6273<br>State: [0]<br><br>Distinction 1: D<br>Direction: CAUSE<br>Purview: AC<br>\\u03c6 = 0.1035<br>State: [1, 0]<br><br>Distinction 2: D<br>Direction: EFFECT<br>Purview: AC<br>\\u03c6 = 0.0052<br>State: [0, 0]<br><br>Relation purview: C<br>Relation \\u03c6 = 0.0026<br>\",\"i\":[5],\"intensity\":[1.0],\"intensitymode\":\"cell\",\"j\":[6],\"k\":[7],\"legendgroup\":\"All 3-Relations\",\"name\":\"All 3-Relations\",\"opacity\":0.015000000000000024,\"showlegend\":false,\"showscale\":false,\"visible\":true,\"x\":[0.8752372371178294,0.47523723711782945,0.8752372371178296,0.47523723711782956,-0.47523723711782945,-0.8752372371178294,2.109859317102744,1.709859317102744,1.154929658551372,-0.6752372371178297,-1.709859317102744,0.7549296585513718,-0.7549296585513714,-1.1549296585513715,-0.9549296585513729,1.1253953951963827,0.0,-2.109859317102744],\"y\":[0.6752372371178296,0.6752372371178296,-0.6752372371178295,-0.6752372371178295,-0.6752372371178297,-0.6752372371178297,1.291916229670548e-16,8.020575100116068e-17,1.6539866862653763,0.6752372371178293,-3.3858899693527023e-16,1.6539866862653763,-1.6539866862653765,-1.6539866862653765,1.6539866862653756,1.1253953951963829,0.0,-3.875748689011644e-16],\"z\":[0.0,0.0,0.0,0.0,0.0,0.0,2.0,2.0,2.0,0.0,2.0,2.0,2.0,2.0,2.0,3.0,3.75,2.0],\"type\":\"mesh3d\"},{\"colorscale\":[[0,\"red\"],[0.5,\"rgb(103, 171, 212)\"],[1,\"blue\"]],\"hoverinfo\":\"text\",\"hovertext\":\"<br>=3-Relation=<br><br>Distinction 0: ACD<br>Direction: CAUSE<br>Purview: ABCD<br>\\u03c6 = 0.2045<br>State: [0, 1, 0, 1]<br><br>Distinction 1: B<br>Direction: CAUSE<br>Purview: B<br>\\u03c6 = 0.2328<br>State: [1]<br><br>Distinction 2: BD<br>Direction: CAUSE<br>Purview: BD<br>\\u03c6 = 0.0886<br>State: [1, 0]<br><br>Relation purview: B<br>Relation \\u03c6 = 0.0189<br>\",\"i\":[2],\"intensity\":[1.0],\"intensitymode\":\"cell\",\"j\":[10],\"k\":[16],\"legendgroup\":\"All 3-Relations\",\"name\":\"All 3-Relations\",\"opacity\":0.01700299150885815,\"showlegend\":false,\"showscale\":false,\"visible\":true,\"x\":[0.8752372371178294,0.47523723711782945,0.8752372371178296,0.47523723711782956,-0.47523723711782945,-0.8752372371178294,2.109859317102744,1.709859317102744,1.154929658551372,-0.6752372371178297,-1.709859317102744,0.7549296585513718,-0.7549296585513714,-1.1549296585513715,-0.9549296585513729,1.1253953951963827,0.0,-2.109859317102744],\"y\":[0.6752372371178296,0.6752372371178296,-0.6752372371178295,-0.6752372371178295,-0.6752372371178297,-0.6752372371178297,1.291916229670548e-16,8.020575100116068e-17,1.6539866862653763,0.6752372371178293,-3.3858899693527023e-16,1.6539866862653763,-1.6539866862653765,-1.6539866862653765,1.6539866862653756,1.1253953951963829,0.0,-3.875748689011644e-16],\"z\":[0.0,0.0,0.0,0.0,0.0,0.0,2.0,2.0,2.0,0.0,2.0,2.0,2.0,2.0,2.0,3.0,3.75,2.0],\"type\":\"mesh3d\"},{\"colorscale\":[[0,\"red\"],[0.5,\"rgb(155, 200, 224)\"],[1,\"blue\"]],\"hoverinfo\":\"text\",\"hovertext\":\"<br>=3-Relation=<br><br>Distinction 0: C<br>Direction: CAUSE<br>Purview: C<br>\\u03c6 = 0.486<br>State: [0]<br><br>Distinction 1: D<br>Direction: EFFECT<br>Purview: AC<br>\\u03c6 = 0.0052<br>State: [0, 0]<br><br>Distinction 2: ABC<br>Direction: EFFECT<br>Purview: ABC<br>\\u03c6 = 0.0235<br>State: [0, 1, 0]<br><br>Relation purview: C<br>Relation \\u03c6 = 0.0026<br>\",\"i\":[4],\"intensity\":[1.0],\"intensitymode\":\"cell\",\"j\":[7],\"k\":[15],\"legendgroup\":\"All 3-Relations\",\"name\":\"All 3-Relations\",\"opacity\":0.015000000000000024,\"showlegend\":false,\"showscale\":false,\"visible\":true,\"x\":[0.8752372371178294,0.47523723711782945,0.8752372371178296,0.47523723711782956,-0.47523723711782945,-0.8752372371178294,2.109859317102744,1.709859317102744,1.154929658551372,-0.6752372371178297,-1.709859317102744,0.7549296585513718,-0.7549296585513714,-1.1549296585513715,-0.9549296585513729,1.1253953951963827,0.0,-2.109859317102744],\"y\":[0.6752372371178296,0.6752372371178296,-0.6752372371178295,-0.6752372371178295,-0.6752372371178297,-0.6752372371178297,1.291916229670548e-16,8.020575100116068e-17,1.6539866862653763,0.6752372371178293,-3.3858899693527023e-16,1.6539866862653763,-1.6539866862653765,-1.6539866862653765,1.6539866862653756,1.1253953951963829,0.0,-3.875748689011644e-16],\"z\":[0.0,0.0,0.0,0.0,0.0,0.0,2.0,2.0,2.0,0.0,2.0,2.0,2.0,2.0,2.0,3.0,3.75,2.0],\"type\":\"mesh3d\"},{\"colorscale\":[[0,\"red\"],[0.5,\"rgb(72, 150, 200)\"],[1,\"blue\"]],\"hoverinfo\":\"text\",\"hovertext\":\"<br>=3-Relation=<br><br>Distinction 0: BD<br>Direction: EFFECT<br>Purview: AB<br>\\u03c6 = 0.0028<br>State: [1, 1]<br><br>Distinction 1: B<br>Direction: CAUSE<br>Purview: B<br>\\u03c6 = 0.2328<br>State: [1]<br><br>Distinction 2: BD<br>Direction: CAUSE<br>Purview: BD<br>\\u03c6 = 0.0886<br>State: [1, 0]<br><br>Relation purview: B<br>Relation \\u03c6 = 0.0189<br>\",\"i\":[2],\"intensity\":[1.0],\"intensitymode\":\"cell\",\"j\":[10],\"k\":[11],\"legendgroup\":\"All 3-Relations\",\"name\":\"All 3-Relations\",\"opacity\":0.01700299150885815,\"showlegend\":false,\"showscale\":false,\"visible\":true,\"x\":[0.8752372371178294,0.47523723711782945,0.8752372371178296,0.47523723711782956,-0.47523723711782945,-0.8752372371178294,2.109859317102744,1.709859317102744,1.154929658551372,-0.6752372371178297,-1.709859317102744,0.7549296585513718,-0.7549296585513714,-1.1549296585513715,-0.9549296585513729,1.1253953951963827,0.0,-2.109859317102744],\"y\":[0.6752372371178296,0.6752372371178296,-0.6752372371178295,-0.6752372371178295,-0.6752372371178297,-0.6752372371178297,1.291916229670548e-16,8.020575100116068e-17,1.6539866862653763,0.6752372371178293,-3.3858899693527023e-16,1.6539866862653763,-1.6539866862653765,-1.6539866862653765,1.6539866862653756,1.1253953951963829,0.0,-3.875748689011644e-16],\"z\":[0.0,0.0,0.0,0.0,0.0,0.0,2.0,2.0,2.0,0.0,2.0,2.0,2.0,2.0,2.0,3.0,3.75,2.0],\"type\":\"mesh3d\"},{\"colorscale\":[[0,\"red\"],[0.5,\"rgb(23, 101, 171)\"],[1,\"blue\"]],\"hoverinfo\":\"text\",\"hovertext\":\"<br>=3-Relation=<br><br>Distinction 0: ACD<br>Direction: CAUSE<br>Purview: ABCD<br>\\u03c6 = 0.2045<br>State: [0, 1, 0, 1]<br><br>Distinction 1: C<br>Direction: EFFECT<br>Purview: C<br>\\u03c6 = 0.6273<br>State: [0]<br><br>Distinction 2: ABC<br>Direction: EFFECT<br>Purview: ABC<br>\\u03c6 = 0.0235<br>State: [0, 1, 0]<br><br>Relation purview: C<br>Relation \\u03c6 = 0.0322<br>\",\"i\":[5],\"intensity\":[1.0],\"intensitymode\":\"cell\",\"j\":[15],\"k\":[16],\"legendgroup\":\"All 3-Relations\",\"name\":\"All 3-Relations\",\"opacity\":0.01862749489416537,\"showlegend\":false,\"showscale\":false,\"visible\":true,\"x\":[0.8752372371178294,0.47523723711782945,0.8752372371178296,0.47523723711782956,-0.47523723711782945,-0.8752372371178294,2.109859317102744,1.709859317102744,1.154929658551372,-0.6752372371178297,-1.709859317102744,0.7549296585513718,-0.7549296585513714,-1.1549296585513715,-0.9549296585513729,1.1253953951963827,0.0,-2.109859317102744],\"y\":[0.6752372371178296,0.6752372371178296,-0.6752372371178295,-0.6752372371178295,-0.6752372371178297,-0.6752372371178297,1.291916229670548e-16,8.020575100116068e-17,1.6539866862653763,0.6752372371178293,-3.3858899693527023e-16,1.6539866862653763,-1.6539866862653765,-1.6539866862653765,1.6539866862653756,1.1253953951963829,0.0,-3.875748689011644e-16],\"z\":[0.0,0.0,0.0,0.0,0.0,0.0,2.0,2.0,2.0,0.0,2.0,2.0,2.0,2.0,2.0,3.0,3.75,2.0],\"type\":\"mesh3d\"},{\"colorscale\":[[0,\"red\"],[0.5,\"rgb(8, 68, 137)\"],[1,\"blue\"]],\"hoverinfo\":\"text\",\"hovertext\":\"<br>=3-Relation=<br><br>Distinction 0: ACD<br>Direction: CAUSE<br>Purview: ABCD<br>\\u03c6 = 0.2045<br>State: [0, 1, 0, 1]<br><br>Distinction 1: C<br>Direction: CAUSE<br>Purview: C<br>\\u03c6 = 0.486<br>State: [0]<br><br>Distinction 2: D<br>Direction: CAUSE<br>Purview: AC<br>\\u03c6 = 0.1035<br>State: [1, 0]<br><br>Relation purview: C<br>Relation \\u03c6 = 0.1247<br>\",\"i\":[4],\"intensity\":[1.0],\"intensitymode\":\"cell\",\"j\":[6],\"k\":[16],\"legendgroup\":\"All 3-Relations\",\"name\":\"All 3-Relations\",\"opacity\":0.029961049931945514,\"showlegend\":false,\"showscale\":false,\"visible\":true,\"x\":[0.8752372371178294,0.47523723711782945,0.8752372371178296,0.47523723711782956,-0.47523723711782945,-0.8752372371178294,2.109859317102744,1.709859317102744,1.154929658551372,-0.6752372371178297,-1.709859317102744,0.7549296585513718,-0.7549296585513714,-1.1549296585513715,-0.9549296585513729,1.1253953951963827,0.0,-2.109859317102744],\"y\":[0.6752372371178296,0.6752372371178296,-0.6752372371178295,-0.6752372371178295,-0.6752372371178297,-0.6752372371178297,1.291916229670548e-16,8.020575100116068e-17,1.6539866862653763,0.6752372371178293,-3.3858899693527023e-16,1.6539866862653763,-1.6539866862653765,-1.6539866862653765,1.6539866862653756,1.1253953951963829,0.0,-3.875748689011644e-16],\"z\":[0.0,0.0,0.0,0.0,0.0,0.0,2.0,2.0,2.0,0.0,2.0,2.0,2.0,2.0,2.0,3.0,3.75,2.0],\"type\":\"mesh3d\"},{\"colorscale\":[[0,\"red\"],[0.5,\"rgb(55, 135, 192)\"],[1,\"blue\"]],\"hoverinfo\":\"text\",\"hovertext\":\"<br>=3-Relation=<br><br>Distinction 0: ACD<br>Direction: CAUSE<br>Purview: ABCD<br>\\u03c6 = 0.2045<br>State: [0, 1, 0, 1]<br><br>Distinction 1: C<br>Direction: CAUSE<br>Purview: C<br>\\u03c6 = 0.486<br>State: [0]<br><br>Distinction 2: CD<br>Direction: EFFECT<br>Purview: BC<br>\\u03c6 = 0.0056<br>State: [0, 0]<br><br>Relation purview: C<br>Relation \\u03c6 = 0.2054<br>\",\"i\":[4],\"intensity\":[1.0],\"intensitymode\":\"cell\",\"j\":[13],\"k\":[16],\"legendgroup\":\"All 3-Relations\",\"name\":\"All 3-Relations\",\"opacity\":0.0398575170502945,\"showlegend\":false,\"showscale\":false,\"visible\":true,\"x\":[0.8752372371178294,0.47523723711782945,0.8752372371178296,0.47523723711782956,-0.47523723711782945,-0.8752372371178294,2.109859317102744,1.709859317102744,1.154929658551372,-0.6752372371178297,-1.709859317102744,0.7549296585513718,-0.7549296585513714,-1.1549296585513715,-0.9549296585513729,1.1253953951963827,0.0,-2.109859317102744],\"y\":[0.6752372371178296,0.6752372371178296,-0.6752372371178295,-0.6752372371178295,-0.6752372371178297,-0.6752372371178297,1.291916229670548e-16,8.020575100116068e-17,1.6539866862653763,0.6752372371178293,-3.3858899693527023e-16,1.6539866862653763,-1.6539866862653765,-1.6539866862653765,1.6539866862653756,1.1253953951963829,0.0,-3.875748689011644e-16],\"z\":[0.0,0.0,0.0,0.0,0.0,0.0,2.0,2.0,2.0,0.0,2.0,2.0,2.0,2.0,2.0,3.0,3.75,2.0],\"type\":\"mesh3d\"},{\"colorscale\":[[0,\"red\"],[0.5,\"rgb(203, 222, 240)\"],[1,\"blue\"]],\"hoverinfo\":\"text\",\"hovertext\":\"<br>=3-Relation=<br><br>Distinction 0: A<br>Direction: CAUSE<br>Purview: A<br>\\u03c6 = 0.486<br>State: [0]<br><br>Distinction 1: A<br>Direction: EFFECT<br>Purview: A<br>\\u03c6 = 0.6273<br>State: [0]<br><br>Distinction 2: ABC<br>Direction: EFFECT<br>Purview: ABC<br>\\u03c6 = 0.0235<br>State: [0, 1, 0]<br><br>Relation purview: A<br>Relation \\u03c6 = 0.0322<br>\",\"i\":[0],\"intensity\":[1.0],\"intensitymode\":\"cell\",\"j\":[1],\"k\":[15],\"legendgroup\":\"All 3-Relations\",\"name\":\"All 3-Relations\",\"opacity\":0.018627494894165375,\"showlegend\":false,\"showscale\":false,\"visible\":true,\"x\":[0.8752372371178294,0.47523723711782945,0.8752372371178296,0.47523723711782956,-0.47523723711782945,-0.8752372371178294,2.109859317102744,1.709859317102744,1.154929658551372,-0.6752372371178297,-1.709859317102744,0.7549296585513718,-0.7549296585513714,-1.1549296585513715,-0.9549296585513729,1.1253953951963827,0.0,-2.109859317102744],\"y\":[0.6752372371178296,0.6752372371178296,-0.6752372371178295,-0.6752372371178295,-0.6752372371178297,-0.6752372371178297,1.291916229670548e-16,8.020575100116068e-17,1.6539866862653763,0.6752372371178293,-3.3858899693527023e-16,1.6539866862653763,-1.6539866862653765,-1.6539866862653765,1.6539866862653756,1.1253953951963829,0.0,-3.875748689011644e-16],\"z\":[0.0,0.0,0.0,0.0,0.0,0.0,2.0,2.0,2.0,0.0,2.0,2.0,2.0,2.0,2.0,3.0,3.75,2.0],\"type\":\"mesh3d\"},{\"colorscale\":[[0,\"red\"],[0.5,\"rgb(196, 218, 238)\"],[1,\"blue\"]],\"hoverinfo\":\"text\",\"hovertext\":\"<br>=3-Relation=<br><br>Distinction 0: ACD<br>Direction: CAUSE<br>Purview: ABCD<br>\\u03c6 = 0.2045<br>State: [0, 1, 0, 1]<br><br>Distinction 1: AD<br>Direction: EFFECT<br>Purview: D<br>\\u03c6 = 0.1301<br>State: [1]<br><br>Distinction 2: ACD<br>Direction: EFFECT<br>Purview: BD<br>\\u03c6 = 0.0656<br>State: [0, 1]<br><br>Relation purview: D<br>Relation \\u03c6 = 0.0891<br>\",\"i\":[9],\"intensity\":[1.0],\"intensitymode\":\"cell\",\"j\":[16],\"k\":[17],\"legendgroup\":\"All 3-Relations\",\"name\":\"All 3-Relations\",\"opacity\":0.025598897246356413,\"showlegend\":false,\"showscale\":false,\"visible\":true,\"x\":[0.8752372371178294,0.47523723711782945,0.8752372371178296,0.47523723711782956,-0.47523723711782945,-0.8752372371178294,2.109859317102744,1.709859317102744,1.154929658551372,-0.6752372371178297,-1.709859317102744,0.7549296585513718,-0.7549296585513714,-1.1549296585513715,-0.9549296585513729,1.1253953951963827,0.0,-2.109859317102744],\"y\":[0.6752372371178296,0.6752372371178296,-0.6752372371178295,-0.6752372371178295,-0.6752372371178297,-0.6752372371178297,1.291916229670548e-16,8.020575100116068e-17,1.6539866862653763,0.6752372371178293,-3.3858899693527023e-16,1.6539866862653763,-1.6539866862653765,-1.6539866862653765,1.6539866862653756,1.1253953951963829,0.0,-3.875748689011644e-16],\"z\":[0.0,0.0,0.0,0.0,0.0,0.0,2.0,2.0,2.0,0.0,2.0,2.0,2.0,2.0,2.0,3.0,3.75,2.0],\"type\":\"mesh3d\"},{\"colorscale\":[[0,\"red\"],[0.5,\"rgb(240, 246, 252)\"],[1,\"blue\"]],\"hoverinfo\":\"text\",\"hovertext\":\"<br>=3-Relation=<br><br>Distinction 0: C<br>Direction: CAUSE<br>Purview: C<br>\\u03c6 = 0.486<br>State: [0]<br><br>Distinction 1: CD<br>Direction: EFFECT<br>Purview: BC<br>\\u03c6 = 0.0056<br>State: [0, 0]<br><br>Distinction 2: D<br>Direction: CAUSE<br>Purview: AC<br>\\u03c6 = 0.1035<br>State: [1, 0]<br><br>Relation purview: C<br>Relation \\u03c6 = 0.1247<br>\",\"i\":[4],\"intensity\":[1.0],\"intensitymode\":\"cell\",\"j\":[6],\"k\":[13],\"legendgroup\":\"All 3-Relations\",\"name\":\"All 3-Relations\",\"opacity\":0.029961049931945514,\"showlegend\":false,\"showscale\":false,\"visible\":true,\"x\":[0.8752372371178294,0.47523723711782945,0.8752372371178296,0.47523723711782956,-0.47523723711782945,-0.8752372371178294,2.109859317102744,1.709859317102744,1.154929658551372,-0.6752372371178297,-1.709859317102744,0.7549296585513718,-0.7549296585513714,-1.1549296585513715,-0.9549296585513729,1.1253953951963827,0.0,-2.109859317102744],\"y\":[0.6752372371178296,0.6752372371178296,-0.6752372371178295,-0.6752372371178295,-0.6752372371178297,-0.6752372371178297,1.291916229670548e-16,8.020575100116068e-17,1.6539866862653763,0.6752372371178293,-3.3858899693527023e-16,1.6539866862653763,-1.6539866862653765,-1.6539866862653765,1.6539866862653756,1.1253953951963829,0.0,-3.875748689011644e-16],\"z\":[0.0,0.0,0.0,0.0,0.0,0.0,2.0,2.0,2.0,0.0,2.0,2.0,2.0,2.0,2.0,3.0,3.75,2.0],\"type\":\"mesh3d\"},{\"colorscale\":[[0,\"red\"],[0.5,\"rgb(228, 238, 248)\"],[1,\"blue\"]],\"hoverinfo\":\"text\",\"hovertext\":\"<br>=3-Relation=<br><br>Distinction 0: A<br>Direction: EFFECT<br>Purview: A<br>\\u03c6 = 0.6273<br>State: [0]<br><br>Distinction 1: D<br>Direction: CAUSE<br>Purview: AC<br>\\u03c6 = 0.1035<br>State: [1, 0]<br><br>Distinction 2: D<br>Direction: EFFECT<br>Purview: AC<br>\\u03c6 = 0.0052<br>State: [0, 0]<br><br>Relation purview: A<br>Relation \\u03c6 = 0.0026<br>\",\"i\":[1],\"intensity\":[1.0],\"intensitymode\":\"cell\",\"j\":[6],\"k\":[7],\"legendgroup\":\"All 3-Relations\",\"name\":\"All 3-Relations\",\"opacity\":0.015,\"showlegend\":false,\"showscale\":false,\"visible\":true,\"x\":[0.8752372371178294,0.47523723711782945,0.8752372371178296,0.47523723711782956,-0.47523723711782945,-0.8752372371178294,2.109859317102744,1.709859317102744,1.154929658551372,-0.6752372371178297,-1.709859317102744,0.7549296585513718,-0.7549296585513714,-1.1549296585513715,-0.9549296585513729,1.1253953951963827,0.0,-2.109859317102744],\"y\":[0.6752372371178296,0.6752372371178296,-0.6752372371178295,-0.6752372371178295,-0.6752372371178297,-0.6752372371178297,1.291916229670548e-16,8.020575100116068e-17,1.6539866862653763,0.6752372371178293,-3.3858899693527023e-16,1.6539866862653763,-1.6539866862653765,-1.6539866862653765,1.6539866862653756,1.1253953951963829,0.0,-3.875748689011644e-16],\"z\":[0.0,0.0,0.0,0.0,0.0,0.0,2.0,2.0,2.0,0.0,2.0,2.0,2.0,2.0,2.0,3.0,3.75,2.0],\"type\":\"mesh3d\"},{\"colorscale\":[[0,\"red\"],[0.5,\"rgb(212, 228, 243)\"],[1,\"blue\"]],\"hoverinfo\":\"text\",\"hovertext\":\"<br>=3-Relation=<br><br>Distinction 0: CD<br>Direction: EFFECT<br>Purview: BC<br>\\u03c6 = 0.0056<br>State: [0, 0]<br><br>Distinction 1: C<br>Direction: EFFECT<br>Purview: C<br>\\u03c6 = 0.6273<br>State: [0]<br><br>Distinction 2: D<br>Direction: EFFECT<br>Purview: AC<br>\\u03c6 = 0.0052<br>State: [0, 0]<br><br>Relation purview: C<br>Relation \\u03c6 = 0.0026<br>\",\"i\":[5],\"intensity\":[1.0],\"intensitymode\":\"cell\",\"j\":[7],\"k\":[13],\"legendgroup\":\"All 3-Relations\",\"name\":\"All 3-Relations\",\"opacity\":0.015000000000000024,\"showlegend\":false,\"showscale\":false,\"visible\":true,\"x\":[0.8752372371178294,0.47523723711782945,0.8752372371178296,0.47523723711782956,-0.47523723711782945,-0.8752372371178294,2.109859317102744,1.709859317102744,1.154929658551372,-0.6752372371178297,-1.709859317102744,0.7549296585513718,-0.7549296585513714,-1.1549296585513715,-0.9549296585513729,1.1253953951963827,0.0,-2.109859317102744],\"y\":[0.6752372371178296,0.6752372371178296,-0.6752372371178295,-0.6752372371178295,-0.6752372371178297,-0.6752372371178297,1.291916229670548e-16,8.020575100116068e-17,1.6539866862653763,0.6752372371178293,-3.3858899693527023e-16,1.6539866862653763,-1.6539866862653765,-1.6539866862653765,1.6539866862653756,1.1253953951963829,0.0,-3.875748689011644e-16],\"z\":[0.0,0.0,0.0,0.0,0.0,0.0,2.0,2.0,2.0,0.0,2.0,2.0,2.0,2.0,2.0,3.0,3.75,2.0],\"type\":\"mesh3d\"},{\"colorscale\":[[0,\"red\"],[0.5,\"rgb(234, 242, 250)\"],[1,\"blue\"]],\"hoverinfo\":\"text\",\"hovertext\":\"<br>=3-Relation=<br><br>Distinction 0: ACD<br>Direction: CAUSE<br>Purview: ABCD<br>\\u03c6 = 0.2045<br>State: [0, 1, 0, 1]<br><br>Distinction 1: C<br>Direction: EFFECT<br>Purview: C<br>\\u03c6 = 0.6273<br>State: [0]<br><br>Distinction 2: D<br>Direction: CAUSE<br>Purview: AC<br>\\u03c6 = 0.1035<br>State: [1, 0]<br><br>Relation purview: C<br>Relation \\u03c6 = 0.1247<br>\",\"i\":[5],\"intensity\":[1.0],\"intensitymode\":\"cell\",\"j\":[6],\"k\":[16],\"legendgroup\":\"All 3-Relations\",\"name\":\"All 3-Relations\",\"opacity\":0.029961049931945514,\"showlegend\":false,\"showscale\":false,\"visible\":true,\"x\":[0.8752372371178294,0.47523723711782945,0.8752372371178296,0.47523723711782956,-0.47523723711782945,-0.8752372371178294,2.109859317102744,1.709859317102744,1.154929658551372,-0.6752372371178297,-1.709859317102744,0.7549296585513718,-0.7549296585513714,-1.1549296585513715,-0.9549296585513729,1.1253953951963827,0.0,-2.109859317102744],\"y\":[0.6752372371178296,0.6752372371178296,-0.6752372371178295,-0.6752372371178295,-0.6752372371178297,-0.6752372371178297,1.291916229670548e-16,8.020575100116068e-17,1.6539866862653763,0.6752372371178293,-3.3858899693527023e-16,1.6539866862653763,-1.6539866862653765,-1.6539866862653765,1.6539866862653756,1.1253953951963829,0.0,-3.875748689011644e-16],\"z\":[0.0,0.0,0.0,0.0,0.0,0.0,2.0,2.0,2.0,0.0,2.0,2.0,2.0,2.0,2.0,3.0,3.75,2.0],\"type\":\"mesh3d\"},{\"colorscale\":[[0,\"red\"],[0.5,\"rgb(247, 251, 255)\"],[1,\"blue\"]],\"hoverinfo\":\"text\",\"hovertext\":\"<br>=3-Relation=<br><br>Distinction 0: ACD<br>Direction: CAUSE<br>Purview: ABCD<br>\\u03c6 = 0.2045<br>State: [0, 1, 0, 1]<br><br>Distinction 1: C<br>Direction: CAUSE<br>Purview: C<br>\\u03c6 = 0.486<br>State: [0]<br><br>Distinction 2: ABC<br>Direction: EFFECT<br>Purview: ABC<br>\\u03c6 = 0.0235<br>State: [0, 1, 0]<br><br>Relation purview: C<br>Relation \\u03c6 = 0.0322<br>\",\"i\":[4],\"intensity\":[1.0],\"intensitymode\":\"cell\",\"j\":[15],\"k\":[16],\"legendgroup\":\"All 3-Relations\",\"name\":\"All 3-Relations\",\"opacity\":0.01862749489416537,\"showlegend\":false,\"showscale\":false,\"visible\":true,\"x\":[0.8752372371178294,0.47523723711782945,0.8752372371178296,0.47523723711782956,-0.47523723711782945,-0.8752372371178294,2.109859317102744,1.709859317102744,1.154929658551372,-0.6752372371178297,-1.709859317102744,0.7549296585513718,-0.7549296585513714,-1.1549296585513715,-0.9549296585513729,1.1253953951963827,0.0,-2.109859317102744],\"y\":[0.6752372371178296,0.6752372371178296,-0.6752372371178295,-0.6752372371178295,-0.6752372371178297,-0.6752372371178297,1.291916229670548e-16,8.020575100116068e-17,1.6539866862653763,0.6752372371178293,-3.3858899693527023e-16,1.6539866862653763,-1.6539866862653765,-1.6539866862653765,1.6539866862653756,1.1253953951963829,0.0,-3.875748689011644e-16],\"z\":[0.0,0.0,0.0,0.0,0.0,0.0,2.0,2.0,2.0,0.0,2.0,2.0,2.0,2.0,2.0,3.0,3.75,2.0],\"type\":\"mesh3d\"},{\"colorscale\":[[0,\"red\"],[0.5,\"rgb(8, 64, 131)\"],[1,\"blue\"]],\"hoverinfo\":\"text\",\"hovertext\":\"<br>=3-Relation=<br><br>Distinction 0: BD<br>Direction: EFFECT<br>Purview: AB<br>\\u03c6 = 0.0028<br>State: [1, 1]<br><br>Distinction 1: BD<br>Direction: CAUSE<br>Purview: BD<br>\\u03c6 = 0.0886<br>State: [1, 0]<br><br>Distinction 2: B<br>Direction: EFFECT<br>Purview: B<br>\\u03c6 = 0.3524<br>State: [1]<br><br>Relation purview: B<br>Relation \\u03c6 = 0.0189<br>\",\"i\":[3],\"intensity\":[1.0],\"intensitymode\":\"cell\",\"j\":[10],\"k\":[11],\"legendgroup\":\"All 3-Relations\",\"name\":\"All 3-Relations\",\"opacity\":0.01700299150885815,\"showlegend\":false,\"showscale\":false,\"visible\":true,\"x\":[0.8752372371178294,0.47523723711782945,0.8752372371178296,0.47523723711782956,-0.47523723711782945,-0.8752372371178294,2.109859317102744,1.709859317102744,1.154929658551372,-0.6752372371178297,-1.709859317102744,0.7549296585513718,-0.7549296585513714,-1.1549296585513715,-0.9549296585513729,1.1253953951963827,0.0,-2.109859317102744],\"y\":[0.6752372371178296,0.6752372371178296,-0.6752372371178295,-0.6752372371178295,-0.6752372371178297,-0.6752372371178297,1.291916229670548e-16,8.020575100116068e-17,1.6539866862653763,0.6752372371178293,-3.3858899693527023e-16,1.6539866862653763,-1.6539866862653765,-1.6539866862653765,1.6539866862653756,1.1253953951963829,0.0,-3.875748689011644e-16],\"z\":[0.0,0.0,0.0,0.0,0.0,0.0,2.0,2.0,2.0,0.0,2.0,2.0,2.0,2.0,2.0,3.0,3.75,2.0],\"type\":\"mesh3d\"},{\"colorscale\":[[0,\"red\"],[0.5,\"rgb(14, 89, 162)\"],[1,\"blue\"]],\"hoverinfo\":\"text\",\"hovertext\":\"<br>=3-Relation=<br><br>Distinction 0: ACD<br>Direction: CAUSE<br>Purview: ABCD<br>\\u03c6 = 0.2045<br>State: [0, 1, 0, 1]<br><br>Distinction 1: CD<br>Direction: EFFECT<br>Purview: BC<br>\\u03c6 = 0.0056<br>State: [0, 0]<br><br>Distinction 2: ABC<br>Direction: EFFECT<br>Purview: ABC<br>\\u03c6 = 0.0235<br>State: [0, 1, 0]<br><br>Relation purview: C<br>Relation \\u03c6 = 0.0322<br>\",\"i\":[13],\"intensity\":[1.0],\"intensitymode\":\"cell\",\"j\":[15],\"k\":[16],\"legendgroup\":\"All 3-Relations\",\"name\":\"All 3-Relations\",\"opacity\":0.01862749489416537,\"showlegend\":false,\"showscale\":false,\"visible\":true,\"x\":[0.8752372371178294,0.47523723711782945,0.8752372371178296,0.47523723711782956,-0.47523723711782945,-0.8752372371178294,2.109859317102744,1.709859317102744,1.154929658551372,-0.6752372371178297,-1.709859317102744,0.7549296585513718,-0.7549296585513714,-1.1549296585513715,-0.9549296585513729,1.1253953951963827,0.0,-2.109859317102744],\"y\":[0.6752372371178296,0.6752372371178296,-0.6752372371178295,-0.6752372371178295,-0.6752372371178297,-0.6752372371178297,1.291916229670548e-16,8.020575100116068e-17,1.6539866862653763,0.6752372371178293,-3.3858899693527023e-16,1.6539866862653763,-1.6539866862653765,-1.6539866862653765,1.6539866862653756,1.1253953951963829,0.0,-3.875748689011644e-16],\"z\":[0.0,0.0,0.0,0.0,0.0,0.0,2.0,2.0,2.0,0.0,2.0,2.0,2.0,2.0,2.0,3.0,3.75,2.0],\"type\":\"mesh3d\"},{\"colorscale\":[[0,\"red\"],[0.5,\"rgb(8, 76, 150)\"],[1,\"blue\"]],\"hoverinfo\":\"text\",\"hovertext\":\"<br>=3-Relation=<br><br>Distinction 0: A<br>Direction: CAUSE<br>Purview: A<br>\\u03c6 = 0.486<br>State: [0]<br><br>Distinction 1: A<br>Direction: EFFECT<br>Purview: A<br>\\u03c6 = 0.6273<br>State: [0]<br><br>Distinction 2: D<br>Direction: CAUSE<br>Purview: AC<br>\\u03c6 = 0.1035<br>State: [1, 0]<br><br>Relation purview: A<br>Relation \\u03c6 = 0.1247<br>\",\"i\":[0],\"intensity\":[1.0],\"intensitymode\":\"cell\",\"j\":[1],\"k\":[6],\"legendgroup\":\"All 3-Relations\",\"name\":\"All 3-Relations\",\"opacity\":0.029961049931945503,\"showlegend\":false,\"showscale\":false,\"visible\":true,\"x\":[0.8752372371178294,0.47523723711782945,0.8752372371178296,0.47523723711782956,-0.47523723711782945,-0.8752372371178294,2.109859317102744,1.709859317102744,1.154929658551372,-0.6752372371178297,-1.709859317102744,0.7549296585513718,-0.7549296585513714,-1.1549296585513715,-0.9549296585513729,1.1253953951963827,0.0,-2.109859317102744],\"y\":[0.6752372371178296,0.6752372371178296,-0.6752372371178295,-0.6752372371178295,-0.6752372371178297,-0.6752372371178297,1.291916229670548e-16,8.020575100116068e-17,1.6539866862653763,0.6752372371178293,-3.3858899693527023e-16,1.6539866862653763,-1.6539866862653765,-1.6539866862653765,1.6539866862653756,1.1253953951963829,0.0,-3.875748689011644e-16],\"z\":[0.0,0.0,0.0,0.0,0.0,0.0,2.0,2.0,2.0,0.0,2.0,2.0,2.0,2.0,2.0,3.0,3.75,2.0],\"type\":\"mesh3d\"},{\"colorscale\":[[0,\"red\"],[0.5,\"rgb(26, 105, 174)\"],[1,\"blue\"]],\"hoverinfo\":\"text\",\"hovertext\":\"<br>=3-Relation=<br><br>Distinction 0: C<br>Direction: CAUSE<br>Purview: C<br>\\u03c6 = 0.486<br>State: [0]<br><br>Distinction 1: C<br>Direction: EFFECT<br>Purview: C<br>\\u03c6 = 0.6273<br>State: [0]<br><br>Distinction 2: D<br>Direction: EFFECT<br>Purview: AC<br>\\u03c6 = 0.0052<br>State: [0, 0]<br><br>Relation purview: C<br>Relation \\u03c6 = 0.0026<br>\",\"i\":[4],\"intensity\":[1.0],\"intensitymode\":\"cell\",\"j\":[5],\"k\":[7],\"legendgroup\":\"All 3-Relations\",\"name\":\"All 3-Relations\",\"opacity\":0.015000000000000024,\"showlegend\":false,\"showscale\":false,\"visible\":true,\"x\":[0.8752372371178294,0.47523723711782945,0.8752372371178296,0.47523723711782956,-0.47523723711782945,-0.8752372371178294,2.109859317102744,1.709859317102744,1.154929658551372,-0.6752372371178297,-1.709859317102744,0.7549296585513718,-0.7549296585513714,-1.1549296585513715,-0.9549296585513729,1.1253953951963827,0.0,-2.109859317102744],\"y\":[0.6752372371178296,0.6752372371178296,-0.6752372371178295,-0.6752372371178295,-0.6752372371178297,-0.6752372371178297,1.291916229670548e-16,8.020575100116068e-17,1.6539866862653763,0.6752372371178293,-3.3858899693527023e-16,1.6539866862653763,-1.6539866862653765,-1.6539866862653765,1.6539866862653756,1.1253953951963829,0.0,-3.875748689011644e-16],\"z\":[0.0,0.0,0.0,0.0,0.0,0.0,2.0,2.0,2.0,0.0,2.0,2.0,2.0,2.0,2.0,3.0,3.75,2.0],\"type\":\"mesh3d\"},{\"colorscale\":[[0,\"red\"],[0.5,\"rgb(130, 186, 219)\"],[1,\"blue\"]],\"hoverinfo\":\"text\",\"hovertext\":\"<br>=3-Relation=<br><br>Distinction 0: A<br>Direction: EFFECT<br>Purview: A<br>\\u03c6 = 0.6273<br>State: [0]<br><br>Distinction 1: D<br>Direction: EFFECT<br>Purview: AC<br>\\u03c6 = 0.0052<br>State: [0, 0]<br><br>Distinction 2: ABC<br>Direction: EFFECT<br>Purview: ABC<br>\\u03c6 = 0.0235<br>State: [0, 1, 0]<br><br>Relation purview: A<br>Relation \\u03c6 = 0.0026<br>\",\"i\":[1],\"intensity\":[1.0],\"intensitymode\":\"cell\",\"j\":[7],\"k\":[15],\"legendgroup\":\"All 3-Relations\",\"name\":\"All 3-Relations\",\"opacity\":0.015,\"showlegend\":false,\"showscale\":false,\"visible\":true,\"x\":[0.8752372371178294,0.47523723711782945,0.8752372371178296,0.47523723711782956,-0.47523723711782945,-0.8752372371178294,2.109859317102744,1.709859317102744,1.154929658551372,-0.6752372371178297,-1.709859317102744,0.7549296585513718,-0.7549296585513714,-1.1549296585513715,-0.9549296585513729,1.1253953951963827,0.0,-2.109859317102744],\"y\":[0.6752372371178296,0.6752372371178296,-0.6752372371178295,-0.6752372371178295,-0.6752372371178297,-0.6752372371178297,1.291916229670548e-16,8.020575100116068e-17,1.6539866862653763,0.6752372371178293,-3.3858899693527023e-16,1.6539866862653763,-1.6539866862653765,-1.6539866862653765,1.6539866862653756,1.1253953951963829,0.0,-3.875748689011644e-16],\"z\":[0.0,0.0,0.0,0.0,0.0,0.0,2.0,2.0,2.0,0.0,2.0,2.0,2.0,2.0,2.0,3.0,3.75,2.0],\"type\":\"mesh3d\"},{\"colorscale\":[[0,\"red\"],[0.5,\"rgb(143, 193, 221)\"],[1,\"blue\"]],\"hoverinfo\":\"text\",\"hovertext\":\"<br>=3-Relation=<br><br>Distinction 0: C<br>Direction: CAUSE<br>Purview: C<br>\\u03c6 = 0.486<br>State: [0]<br><br>Distinction 1: CD<br>Direction: EFFECT<br>Purview: BC<br>\\u03c6 = 0.0056<br>State: [0, 0]<br><br>Distinction 2: D<br>Direction: EFFECT<br>Purview: AC<br>\\u03c6 = 0.0052<br>State: [0, 0]<br><br>Relation purview: C<br>Relation \\u03c6 = 0.0026<br>\",\"i\":[4],\"intensity\":[1.0],\"intensitymode\":\"cell\",\"j\":[7],\"k\":[13],\"legendgroup\":\"All 3-Relations\",\"name\":\"All 3-Relations\",\"opacity\":0.015000000000000024,\"showlegend\":false,\"showscale\":false,\"visible\":true,\"x\":[0.8752372371178294,0.47523723711782945,0.8752372371178296,0.47523723711782956,-0.47523723711782945,-0.8752372371178294,2.109859317102744,1.709859317102744,1.154929658551372,-0.6752372371178297,-1.709859317102744,0.7549296585513718,-0.7549296585513714,-1.1549296585513715,-0.9549296585513729,1.1253953951963827,0.0,-2.109859317102744],\"y\":[0.6752372371178296,0.6752372371178296,-0.6752372371178295,-0.6752372371178295,-0.6752372371178297,-0.6752372371178297,1.291916229670548e-16,8.020575100116068e-17,1.6539866862653763,0.6752372371178293,-3.3858899693527023e-16,1.6539866862653763,-1.6539866862653765,-1.6539866862653765,1.6539866862653756,1.1253953951963829,0.0,-3.875748689011644e-16],\"z\":[0.0,0.0,0.0,0.0,0.0,0.0,2.0,2.0,2.0,0.0,2.0,2.0,2.0,2.0,2.0,3.0,3.75,2.0],\"type\":\"mesh3d\"},{\"colorscale\":[[0,\"red\"],[0.5,\"rgb(231, 240, 249)\"],[1,\"blue\"]],\"hoverinfo\":\"text\",\"hovertext\":\"<br>=3-Relation=<br><br>Distinction 0: CD<br>Direction: CAUSE<br>Purview: BC<br>\\u03c6 = 0.1408<br>State: [1, 0]<br><br>Distinction 1: D<br>Direction: CAUSE<br>Purview: AC<br>\\u03c6 = 0.1035<br>State: [1, 0]<br><br>Distinction 2: ABC<br>Direction: CAUSE<br>Purview: CD<br>\\u03c6 = 0.0006<br>State: [0, 1]<br><br>Relation purview: C<br>Relation \\u03c6 = 0.0832<br>\",\"i\":[6],\"intensity\":[1.0],\"intensitymode\":\"cell\",\"j\":[12],\"k\":[14],\"legendgroup\":\"All 3-Relations\",\"name\":\"All 3-Relations\",\"opacity\":0.024883458427113144,\"showlegend\":false,\"showscale\":false,\"visible\":true,\"x\":[0.8752372371178294,0.47523723711782945,0.8752372371178296,0.47523723711782956,-0.47523723711782945,-0.8752372371178294,2.109859317102744,1.709859317102744,1.154929658551372,-0.6752372371178297,-1.709859317102744,0.7549296585513718,-0.7549296585513714,-1.1549296585513715,-0.9549296585513729,1.1253953951963827,0.0,-2.109859317102744],\"y\":[0.6752372371178296,0.6752372371178296,-0.6752372371178295,-0.6752372371178295,-0.6752372371178297,-0.6752372371178297,1.291916229670548e-16,8.020575100116068e-17,1.6539866862653763,0.6752372371178293,-3.3858899693527023e-16,1.6539866862653763,-1.6539866862653765,-1.6539866862653765,1.6539866862653756,1.1253953951963829,0.0,-3.875748689011644e-16],\"z\":[0.0,0.0,0.0,0.0,0.0,0.0,2.0,2.0,2.0,0.0,2.0,2.0,2.0,2.0,2.0,3.0,3.75,2.0],\"type\":\"mesh3d\"},{\"colorscale\":[[0,\"red\"],[0.5,\"rgb(218, 232, 245)\"],[1,\"blue\"]],\"hoverinfo\":\"text\",\"hovertext\":\"<br>=3-Relation=<br><br>Distinction 0: ACD<br>Direction: CAUSE<br>Purview: ABCD<br>\\u03c6 = 0.2045<br>State: [0, 1, 0, 1]<br><br>Distinction 1: CD<br>Direction: EFFECT<br>Purview: BC<br>\\u03c6 = 0.0056<br>State: [0, 0]<br><br>Distinction 2: D<br>Direction: EFFECT<br>Purview: AC<br>\\u03c6 = 0.0052<br>State: [0, 0]<br><br>Relation purview: C<br>Relation \\u03c6 = 0.0026<br>\",\"i\":[7],\"intensity\":[1.0],\"intensitymode\":\"cell\",\"j\":[13],\"k\":[16],\"legendgroup\":\"All 3-Relations\",\"name\":\"All 3-Relations\",\"opacity\":0.015000000000000024,\"showlegend\":false,\"showscale\":false,\"visible\":true,\"x\":[0.8752372371178294,0.47523723711782945,0.8752372371178296,0.47523723711782956,-0.47523723711782945,-0.8752372371178294,2.109859317102744,1.709859317102744,1.154929658551372,-0.6752372371178297,-1.709859317102744,0.7549296585513718,-0.7549296585513714,-1.1549296585513715,-0.9549296585513729,1.1253953951963827,0.0,-2.109859317102744],\"y\":[0.6752372371178296,0.6752372371178296,-0.6752372371178295,-0.6752372371178295,-0.6752372371178297,-0.6752372371178297,1.291916229670548e-16,8.020575100116068e-17,1.6539866862653763,0.6752372371178293,-3.3858899693527023e-16,1.6539866862653763,-1.6539866862653765,-1.6539866862653765,1.6539866862653756,1.1253953951963829,0.0,-3.875748689011644e-16],\"z\":[0.0,0.0,0.0,0.0,0.0,0.0,2.0,2.0,2.0,0.0,2.0,2.0,2.0,2.0,2.0,3.0,3.75,2.0],\"type\":\"mesh3d\"},{\"colorscale\":[[0,\"red\"],[0.5,\"rgb(59, 139, 194)\"],[1,\"blue\"]],\"hoverinfo\":\"text\",\"hovertext\":\"<br>=3-Relation=<br><br>Distinction 0: ACD<br>Direction: CAUSE<br>Purview: ABCD<br>\\u03c6 = 0.2045<br>State: [0, 1, 0, 1]<br><br>Distinction 1: A<br>Direction: EFFECT<br>Purview: A<br>\\u03c6 = 0.6273<br>State: [0]<br><br>Distinction 2: D<br>Direction: CAUSE<br>Purview: AC<br>\\u03c6 = 0.1035<br>State: [1, 0]<br><br>Relation purview: A<br>Relation \\u03c6 = 0.1247<br>\",\"i\":[1],\"intensity\":[1.0],\"intensitymode\":\"cell\",\"j\":[6],\"k\":[16],\"legendgroup\":\"All 3-Relations\",\"name\":\"All 3-Relations\",\"opacity\":0.029961049931945503,\"showlegend\":false,\"showscale\":false,\"visible\":true,\"x\":[0.8752372371178294,0.47523723711782945,0.8752372371178296,0.47523723711782956,-0.47523723711782945,-0.8752372371178294,2.109859317102744,1.709859317102744,1.154929658551372,-0.6752372371178297,-1.709859317102744,0.7549296585513718,-0.7549296585513714,-1.1549296585513715,-0.9549296585513729,1.1253953951963827,0.0,-2.109859317102744],\"y\":[0.6752372371178296,0.6752372371178296,-0.6752372371178295,-0.6752372371178295,-0.6752372371178297,-0.6752372371178297,1.291916229670548e-16,8.020575100116068e-17,1.6539866862653763,0.6752372371178293,-3.3858899693527023e-16,1.6539866862653763,-1.6539866862653765,-1.6539866862653765,1.6539866862653756,1.1253953951963829,0.0,-3.875748689011644e-16],\"z\":[0.0,0.0,0.0,0.0,0.0,0.0,2.0,2.0,2.0,0.0,2.0,2.0,2.0,2.0,2.0,3.0,3.75,2.0],\"type\":\"mesh3d\"},{\"colorscale\":[[0,\"red\"],[0.5,\"rgb(46, 126, 188)\"],[1,\"blue\"]],\"hoverinfo\":\"text\",\"hovertext\":\"<br>=3-Relation=<br><br>Distinction 0: ACD<br>Direction: CAUSE<br>Purview: ABCD<br>\\u03c6 = 0.2045<br>State: [0, 1, 0, 1]<br><br>Distinction 1: C<br>Direction: CAUSE<br>Purview: C<br>\\u03c6 = 0.486<br>State: [0]<br><br>Distinction 2: D<br>Direction: EFFECT<br>Purview: AC<br>\\u03c6 = 0.0052<br>State: [0, 0]<br><br>Relation purview: C<br>Relation \\u03c6 = 0.0026<br>\",\"i\":[4],\"intensity\":[1.0],\"intensitymode\":\"cell\",\"j\":[7],\"k\":[16],\"legendgroup\":\"All 3-Relations\",\"name\":\"All 3-Relations\",\"opacity\":0.015000000000000024,\"showlegend\":false,\"showscale\":false,\"visible\":true,\"x\":[0.8752372371178294,0.47523723711782945,0.8752372371178296,0.47523723711782956,-0.47523723711782945,-0.8752372371178294,2.109859317102744,1.709859317102744,1.154929658551372,-0.6752372371178297,-1.709859317102744,0.7549296585513718,-0.7549296585513714,-1.1549296585513715,-0.9549296585513729,1.1253953951963827,0.0,-2.109859317102744],\"y\":[0.6752372371178296,0.6752372371178296,-0.6752372371178295,-0.6752372371178295,-0.6752372371178297,-0.6752372371178297,1.291916229670548e-16,8.020575100116068e-17,1.6539866862653763,0.6752372371178293,-3.3858899693527023e-16,1.6539866862653763,-1.6539866862653765,-1.6539866862653765,1.6539866862653756,1.1253953951963829,0.0,-3.875748689011644e-16],\"z\":[0.0,0.0,0.0,0.0,0.0,0.0,2.0,2.0,2.0,0.0,2.0,2.0,2.0,2.0,2.0,3.0,3.75,2.0],\"type\":\"mesh3d\"},{\"colorscale\":[[0,\"red\"],[0.5,\"rgb(209, 226, 242)\"],[1,\"blue\"]],\"hoverinfo\":\"text\",\"hovertext\":\"<br>=3-Relation=<br><br>Distinction 0: C<br>Direction: CAUSE<br>Purview: C<br>\\u03c6 = 0.486<br>State: [0]<br><br>Distinction 1: C<br>Direction: EFFECT<br>Purview: C<br>\\u03c6 = 0.6273<br>State: [0]<br><br>Distinction 2: D<br>Direction: CAUSE<br>Purview: AC<br>\\u03c6 = 0.1035<br>State: [1, 0]<br><br>Relation purview: C<br>Relation \\u03c6 = 0.1247<br>\",\"i\":[4],\"intensity\":[1.0],\"intensitymode\":\"cell\",\"j\":[5],\"k\":[6],\"legendgroup\":\"All 3-Relations\",\"name\":\"All 3-Relations\",\"opacity\":0.029961049931945514,\"showlegend\":false,\"showscale\":false,\"visible\":true,\"x\":[0.8752372371178294,0.47523723711782945,0.8752372371178296,0.47523723711782956,-0.47523723711782945,-0.8752372371178294,2.109859317102744,1.709859317102744,1.154929658551372,-0.6752372371178297,-1.709859317102744,0.7549296585513718,-0.7549296585513714,-1.1549296585513715,-0.9549296585513729,1.1253953951963827,0.0,-2.109859317102744],\"y\":[0.6752372371178296,0.6752372371178296,-0.6752372371178295,-0.6752372371178295,-0.6752372371178297,-0.6752372371178297,1.291916229670548e-16,8.020575100116068e-17,1.6539866862653763,0.6752372371178293,-3.3858899693527023e-16,1.6539866862653763,-1.6539866862653765,-1.6539866862653765,1.6539866862653756,1.1253953951963829,0.0,-3.875748689011644e-16],\"z\":[0.0,0.0,0.0,0.0,0.0,0.0,2.0,2.0,2.0,0.0,2.0,2.0,2.0,2.0,2.0,3.0,3.75,2.0],\"type\":\"mesh3d\"},{\"colorscale\":[[0,\"red\"],[0.5,\"rgb(30, 109, 178)\"],[1,\"blue\"]],\"hoverinfo\":\"text\",\"hovertext\":\"<br>=3-Relation=<br><br>Distinction 0: A<br>Direction: EFFECT<br>Purview: A<br>\\u03c6 = 0.6273<br>State: [0]<br><br>Distinction 1: D<br>Direction: CAUSE<br>Purview: AC<br>\\u03c6 = 0.1035<br>State: [1, 0]<br><br>Distinction 2: ABC<br>Direction: EFFECT<br>Purview: ABC<br>\\u03c6 = 0.0235<br>State: [0, 1, 0]<br><br>Relation purview: A<br>Relation \\u03c6 = 0.0322<br>\",\"i\":[1],\"intensity\":[1.0],\"intensitymode\":\"cell\",\"j\":[6],\"k\":[15],\"legendgroup\":\"All 3-Relations\",\"name\":\"All 3-Relations\",\"opacity\":0.018627494894165375,\"showlegend\":false,\"showscale\":false,\"visible\":true,\"x\":[0.8752372371178294,0.47523723711782945,0.8752372371178296,0.47523723711782956,-0.47523723711782945,-0.8752372371178294,2.109859317102744,1.709859317102744,1.154929658551372,-0.6752372371178297,-1.709859317102744,0.7549296585513718,-0.7549296585513714,-1.1549296585513715,-0.9549296585513729,1.1253953951963827,0.0,-2.109859317102744],\"y\":[0.6752372371178296,0.6752372371178296,-0.6752372371178295,-0.6752372371178295,-0.6752372371178297,-0.6752372371178297,1.291916229670548e-16,8.020575100116068e-17,1.6539866862653763,0.6752372371178293,-3.3858899693527023e-16,1.6539866862653763,-1.6539866862653765,-1.6539866862653765,1.6539866862653756,1.1253953951963829,0.0,-3.875748689011644e-16],\"z\":[0.0,0.0,0.0,0.0,0.0,0.0,2.0,2.0,2.0,0.0,2.0,2.0,2.0,2.0,2.0,3.0,3.75,2.0],\"type\":\"mesh3d\"},{\"colorscale\":[[0,\"red\"],[0.5,\"rgb(8, 56, 119)\"],[1,\"blue\"]],\"hoverinfo\":\"text\",\"hovertext\":\"<br>=3-Relation=<br><br>Distinction 0: ACD<br>Direction: CAUSE<br>Purview: ABCD<br>\\u03c6 = 0.2045<br>State: [0, 1, 0, 1]<br><br>Distinction 1: B<br>Direction: CAUSE<br>Purview: B<br>\\u03c6 = 0.2328<br>State: [1]<br><br>Distinction 2: BD<br>Direction: EFFECT<br>Purview: AB<br>\\u03c6 = 0.0028<br>State: [1, 1]<br><br>Relation purview: B<br>Relation \\u03c6 = 0.1496<br>\",\"i\":[2],\"intensity\":[1.0],\"intensitymode\":\"cell\",\"j\":[11],\"k\":[16],\"legendgroup\":\"All 3-Relations\",\"name\":\"All 3-Relations\",\"opacity\":0.03301883920391138,\"showlegend\":false,\"showscale\":false,\"visible\":true,\"x\":[0.8752372371178294,0.47523723711782945,0.8752372371178296,0.47523723711782956,-0.47523723711782945,-0.8752372371178294,2.109859317102744,1.709859317102744,1.154929658551372,-0.6752372371178297,-1.709859317102744,0.7549296585513718,-0.7549296585513714,-1.1549296585513715,-0.9549296585513729,1.1253953951963827,0.0,-2.109859317102744],\"y\":[0.6752372371178296,0.6752372371178296,-0.6752372371178295,-0.6752372371178295,-0.6752372371178297,-0.6752372371178297,1.291916229670548e-16,8.020575100116068e-17,1.6539866862653763,0.6752372371178293,-3.3858899693527023e-16,1.6539866862653763,-1.6539866862653765,-1.6539866862653765,1.6539866862653756,1.1253953951963829,0.0,-3.875748689011644e-16],\"z\":[0.0,0.0,0.0,0.0,0.0,0.0,2.0,2.0,2.0,0.0,2.0,2.0,2.0,2.0,2.0,3.0,3.75,2.0],\"type\":\"mesh3d\"},{\"colorscale\":[[0,\"red\"],[0.5,\"rgb(20, 97, 168)\"],[1,\"blue\"]],\"hoverinfo\":\"text\",\"hovertext\":\"<br>=3-Relation=<br><br>Distinction 0: ACD<br>Direction: CAUSE<br>Purview: ABCD<br>\\u03c6 = 0.2045<br>State: [0, 1, 0, 1]<br><br>Distinction 1: C<br>Direction: CAUSE<br>Purview: C<br>\\u03c6 = 0.486<br>State: [0]<br><br>Distinction 2: C<br>Direction: EFFECT<br>Purview: C<br>\\u03c6 = 0.6273<br>State: [0]<br><br>Relation purview: C<br>Relation \\u03c6 = 0.486<br>\",\"i\":[4],\"intensity\":[1.0],\"intensitymode\":\"cell\",\"j\":[5],\"k\":[16],\"legendgroup\":\"All 3-Relations\",\"name\":\"All 3-Relations\",\"opacity\":0.07424999999999998,\"showlegend\":false,\"showscale\":false,\"visible\":true,\"x\":[0.8752372371178294,0.47523723711782945,0.8752372371178296,0.47523723711782956,-0.47523723711782945,-0.8752372371178294,2.109859317102744,1.709859317102744,1.154929658551372,-0.6752372371178297,-1.709859317102744,0.7549296585513718,-0.7549296585513714,-1.1549296585513715,-0.9549296585513729,1.1253953951963827,0.0,-2.109859317102744],\"y\":[0.6752372371178296,0.6752372371178296,-0.6752372371178295,-0.6752372371178295,-0.6752372371178297,-0.6752372371178297,1.291916229670548e-16,8.020575100116068e-17,1.6539866862653763,0.6752372371178293,-3.3858899693527023e-16,1.6539866862653763,-1.6539866862653765,-1.6539866862653765,1.6539866862653756,1.1253953951963829,0.0,-3.875748689011644e-16],\"z\":[0.0,0.0,0.0,0.0,0.0,0.0,2.0,2.0,2.0,0.0,2.0,2.0,2.0,2.0,2.0,3.0,3.75,2.0],\"type\":\"mesh3d\"},{\"colorscale\":[[0,\"red\"],[0.5,\"rgb(42, 122, 185)\"],[1,\"blue\"]],\"hoverinfo\":\"text\",\"hovertext\":\"<br>=3-Relation=<br><br>Distinction 0: A<br>Direction: CAUSE<br>Purview: A<br>\\u03c6 = 0.486<br>State: [0]<br><br>Distinction 1: ACD<br>Direction: CAUSE<br>Purview: ABCD<br>\\u03c6 = 0.2045<br>State: [0, 1, 0, 1]<br><br>Distinction 2: D<br>Direction: CAUSE<br>Purview: AC<br>\\u03c6 = 0.1035<br>State: [1, 0]<br><br>Relation purview: A<br>Relation \\u03c6 = 0.1247<br>\",\"i\":[0],\"intensity\":[1.0],\"intensitymode\":\"cell\",\"j\":[6],\"k\":[16],\"legendgroup\":\"All 3-Relations\",\"name\":\"All 3-Relations\",\"opacity\":0.029961049931945503,\"showlegend\":false,\"showscale\":false,\"visible\":true,\"x\":[0.8752372371178294,0.47523723711782945,0.8752372371178296,0.47523723711782956,-0.47523723711782945,-0.8752372371178294,2.109859317102744,1.709859317102744,1.154929658551372,-0.6752372371178297,-1.709859317102744,0.7549296585513718,-0.7549296585513714,-1.1549296585513715,-0.9549296585513729,1.1253953951963827,0.0,-2.109859317102744],\"y\":[0.6752372371178296,0.6752372371178296,-0.6752372371178295,-0.6752372371178295,-0.6752372371178297,-0.6752372371178297,1.291916229670548e-16,8.020575100116068e-17,1.6539866862653763,0.6752372371178293,-3.3858899693527023e-16,1.6539866862653763,-1.6539866862653765,-1.6539866862653765,1.6539866862653756,1.1253953951963829,0.0,-3.875748689011644e-16],\"z\":[0.0,0.0,0.0,0.0,0.0,0.0,2.0,2.0,2.0,0.0,2.0,2.0,2.0,2.0,2.0,3.0,3.75,2.0],\"type\":\"mesh3d\"},{\"colorscale\":[[0,\"red\"],[0.5,\"rgb(191, 216, 236)\"],[1,\"blue\"]],\"hoverinfo\":\"text\",\"hovertext\":\"<br>=3-Relation=<br><br>Distinction 0: A<br>Direction: CAUSE<br>Purview: A<br>\\u03c6 = 0.486<br>State: [0]<br><br>Distinction 1: ACD<br>Direction: CAUSE<br>Purview: ABCD<br>\\u03c6 = 0.2045<br>State: [0, 1, 0, 1]<br><br>Distinction 2: A<br>Direction: EFFECT<br>Purview: A<br>\\u03c6 = 0.6273<br>State: [0]<br><br>Relation purview: A<br>Relation \\u03c6 = 0.486<br>\",\"i\":[0],\"intensity\":[1.0],\"intensitymode\":\"cell\",\"j\":[1],\"k\":[16],\"legendgroup\":\"All 3-Relations\",\"name\":\"All 3-Relations\",\"opacity\":0.07425,\"showlegend\":false,\"showscale\":false,\"visible\":true,\"x\":[0.8752372371178294,0.47523723711782945,0.8752372371178296,0.47523723711782956,-0.47523723711782945,-0.8752372371178294,2.109859317102744,1.709859317102744,1.154929658551372,-0.6752372371178297,-1.709859317102744,0.7549296585513718,-0.7549296585513714,-1.1549296585513715,-0.9549296585513729,1.1253953951963827,0.0,-2.109859317102744],\"y\":[0.6752372371178296,0.6752372371178296,-0.6752372371178295,-0.6752372371178295,-0.6752372371178297,-0.6752372371178297,1.291916229670548e-16,8.020575100116068e-17,1.6539866862653763,0.6752372371178293,-3.3858899693527023e-16,1.6539866862653763,-1.6539866862653765,-1.6539866862653765,1.6539866862653756,1.1253953951963829,0.0,-3.875748689011644e-16],\"z\":[0.0,0.0,0.0,0.0,0.0,0.0,2.0,2.0,2.0,0.0,2.0,2.0,2.0,2.0,2.0,3.0,3.75,2.0],\"type\":\"mesh3d\"},{\"colorscale\":[[0,\"red\"],[0.5,\"rgb(206, 224, 241)\"],[1,\"blue\"]],\"hoverinfo\":\"text\",\"hovertext\":\"<br>=3-Relation=<br><br>Distinction 0: ACD<br>Direction: CAUSE<br>Purview: ABCD<br>\\u03c6 = 0.2045<br>State: [0, 1, 0, 1]<br><br>Distinction 1: C<br>Direction: EFFECT<br>Purview: C<br>\\u03c6 = 0.6273<br>State: [0]<br><br>Distinction 2: D<br>Direction: EFFECT<br>Purview: AC<br>\\u03c6 = 0.0052<br>State: [0, 0]<br><br>Relation purview: C<br>Relation \\u03c6 = 0.0026<br>\",\"i\":[5],\"intensity\":[1.0],\"intensitymode\":\"cell\",\"j\":[7],\"k\":[16],\"legendgroup\":\"All 3-Relations\",\"name\":\"All 3-Relations\",\"opacity\":0.015000000000000024,\"showlegend\":false,\"showscale\":false,\"visible\":true,\"x\":[0.8752372371178294,0.47523723711782945,0.8752372371178296,0.47523723711782956,-0.47523723711782945,-0.8752372371178294,2.109859317102744,1.709859317102744,1.154929658551372,-0.6752372371178297,-1.709859317102744,0.7549296585513718,-0.7549296585513714,-1.1549296585513715,-0.9549296585513729,1.1253953951963827,0.0,-2.109859317102744],\"y\":[0.6752372371178296,0.6752372371178296,-0.6752372371178295,-0.6752372371178295,-0.6752372371178297,-0.6752372371178297,1.291916229670548e-16,8.020575100116068e-17,1.6539866862653763,0.6752372371178293,-3.3858899693527023e-16,1.6539866862653763,-1.6539866862653765,-1.6539866862653765,1.6539866862653756,1.1253953951963829,0.0,-3.875748689011644e-16],\"z\":[0.0,0.0,0.0,0.0,0.0,0.0,2.0,2.0,2.0,0.0,2.0,2.0,2.0,2.0,2.0,3.0,3.75,2.0],\"type\":\"mesh3d\"},{\"colorscale\":[[0,\"red\"],[0.5,\"rgb(243, 248, 253)\"],[1,\"blue\"]],\"hoverinfo\":\"text\",\"hovertext\":\"<br>=3-Relation=<br><br>Distinction 0: C<br>Direction: CAUSE<br>Purview: C<br>\\u03c6 = 0.486<br>State: [0]<br><br>Distinction 1: CD<br>Direction: EFFECT<br>Purview: BC<br>\\u03c6 = 0.0056<br>State: [0, 0]<br><br>Distinction 2: ABC<br>Direction: EFFECT<br>Purview: ABC<br>\\u03c6 = 0.0235<br>State: [0, 1, 0]<br><br>Relation purview: C<br>Relation \\u03c6 = 0.0322<br>\",\"i\":[4],\"intensity\":[1.0],\"intensitymode\":\"cell\",\"j\":[13],\"k\":[15],\"legendgroup\":\"All 3-Relations\",\"name\":\"All 3-Relations\",\"opacity\":0.01862749489416537,\"showlegend\":false,\"showscale\":false,\"visible\":true,\"x\":[0.8752372371178294,0.47523723711782945,0.8752372371178296,0.47523723711782956,-0.47523723711782945,-0.8752372371178294,2.109859317102744,1.709859317102744,1.154929658551372,-0.6752372371178297,-1.709859317102744,0.7549296585513718,-0.7549296585513714,-1.1549296585513715,-0.9549296585513729,1.1253953951963827,0.0,-2.109859317102744],\"y\":[0.6752372371178296,0.6752372371178296,-0.6752372371178295,-0.6752372371178295,-0.6752372371178297,-0.6752372371178297,1.291916229670548e-16,8.020575100116068e-17,1.6539866862653763,0.6752372371178293,-3.3858899693527023e-16,1.6539866862653763,-1.6539866862653765,-1.6539866862653765,1.6539866862653756,1.1253953951963829,0.0,-3.875748689011644e-16],\"z\":[0.0,0.0,0.0,0.0,0.0,0.0,2.0,2.0,2.0,0.0,2.0,2.0,2.0,2.0,2.0,3.0,3.75,2.0],\"type\":\"mesh3d\"},{\"colorscale\":[[0,\"red\"],[0.5,\"rgb(50, 130, 190)\"],[1,\"blue\"]],\"hoverinfo\":\"text\",\"hovertext\":\"<br>=3-Relation=<br><br>Distinction 0: C<br>Direction: CAUSE<br>Purview: C<br>\\u03c6 = 0.486<br>State: [0]<br><br>Distinction 1: C<br>Direction: EFFECT<br>Purview: C<br>\\u03c6 = 0.6273<br>State: [0]<br><br>Distinction 2: ABC<br>Direction: EFFECT<br>Purview: ABC<br>\\u03c6 = 0.0235<br>State: [0, 1, 0]<br><br>Relation purview: C<br>Relation \\u03c6 = 0.0322<br>\",\"i\":[4],\"intensity\":[1.0],\"intensitymode\":\"cell\",\"j\":[5],\"k\":[15],\"legendgroup\":\"All 3-Relations\",\"name\":\"All 3-Relations\",\"opacity\":0.01862749489416537,\"showlegend\":false,\"showscale\":false,\"visible\":true,\"x\":[0.8752372371178294,0.47523723711782945,0.8752372371178296,0.47523723711782956,-0.47523723711782945,-0.8752372371178294,2.109859317102744,1.709859317102744,1.154929658551372,-0.6752372371178297,-1.709859317102744,0.7549296585513718,-0.7549296585513714,-1.1549296585513715,-0.9549296585513729,1.1253953951963827,0.0,-2.109859317102744],\"y\":[0.6752372371178296,0.6752372371178296,-0.6752372371178295,-0.6752372371178295,-0.6752372371178297,-0.6752372371178297,1.291916229670548e-16,8.020575100116068e-17,1.6539866862653763,0.6752372371178293,-3.3858899693527023e-16,1.6539866862653763,-1.6539866862653765,-1.6539866862653765,1.6539866862653756,1.1253953951963829,0.0,-3.875748689011644e-16],\"z\":[0.0,0.0,0.0,0.0,0.0,0.0,2.0,2.0,2.0,0.0,2.0,2.0,2.0,2.0,2.0,3.0,3.75,2.0],\"type\":\"mesh3d\"},{\"colorscale\":[[0,\"red\"],[0.5,\"rgb(93, 164, 208)\"],[1,\"blue\"]],\"hoverinfo\":\"text\",\"hovertext\":\"<br>=3-Relation=<br><br>Distinction 0: C<br>Direction: EFFECT<br>Purview: C<br>\\u03c6 = 0.6273<br>State: [0]<br><br>Distinction 1: D<br>Direction: CAUSE<br>Purview: AC<br>\\u03c6 = 0.1035<br>State: [1, 0]<br><br>Distinction 2: ABC<br>Direction: EFFECT<br>Purview: ABC<br>\\u03c6 = 0.0235<br>State: [0, 1, 0]<br><br>Relation purview: C<br>Relation \\u03c6 = 0.0322<br>\",\"i\":[5],\"intensity\":[1.0],\"intensitymode\":\"cell\",\"j\":[6],\"k\":[15],\"legendgroup\":\"All 3-Relations\",\"name\":\"All 3-Relations\",\"opacity\":0.01862749489416537,\"showlegend\":false,\"showscale\":false,\"visible\":true,\"x\":[0.8752372371178294,0.47523723711782945,0.8752372371178296,0.47523723711782956,-0.47523723711782945,-0.8752372371178294,2.109859317102744,1.709859317102744,1.154929658551372,-0.6752372371178297,-1.709859317102744,0.7549296585513718,-0.7549296585513714,-1.1549296585513715,-0.9549296585513729,1.1253953951963827,0.0,-2.109859317102744],\"y\":[0.6752372371178296,0.6752372371178296,-0.6752372371178295,-0.6752372371178295,-0.6752372371178297,-0.6752372371178297,1.291916229670548e-16,8.020575100116068e-17,1.6539866862653763,0.6752372371178293,-3.3858899693527023e-16,1.6539866862653763,-1.6539866862653765,-1.6539866862653765,1.6539866862653756,1.1253953951963829,0.0,-3.875748689011644e-16],\"z\":[0.0,0.0,0.0,0.0,0.0,0.0,2.0,2.0,2.0,0.0,2.0,2.0,2.0,2.0,2.0,3.0,3.75,2.0],\"type\":\"mesh3d\"},{\"colorscale\":[[0,\"red\"],[0.5,\"rgb(149, 197, 223)\"],[1,\"blue\"]],\"hoverinfo\":\"text\",\"hovertext\":\"<br>=3-Relation=<br><br>Distinction 0: B<br>Direction: EFFECT<br>Purview: B<br>\\u03c6 = 0.3524<br>State: [1]<br><br>Distinction 1: B<br>Direction: CAUSE<br>Purview: B<br>\\u03c6 = 0.2328<br>State: [1]<br><br>Distinction 2: BD<br>Direction: CAUSE<br>Purview: BD<br>\\u03c6 = 0.0886<br>State: [1, 0]<br><br>Relation purview: B<br>Relation \\u03c6 = 0.0189<br>\",\"i\":[2],\"intensity\":[1.0],\"intensitymode\":\"cell\",\"j\":[3],\"k\":[10],\"legendgroup\":\"All 3-Relations\",\"name\":\"All 3-Relations\",\"opacity\":0.01700299150885815,\"showlegend\":false,\"showscale\":false,\"visible\":true,\"x\":[0.8752372371178294,0.47523723711782945,0.8752372371178296,0.47523723711782956,-0.47523723711782945,-0.8752372371178294,2.109859317102744,1.709859317102744,1.154929658551372,-0.6752372371178297,-1.709859317102744,0.7549296585513718,-0.7549296585513714,-1.1549296585513715,-0.9549296585513729,1.1253953951963827,0.0,-2.109859317102744],\"y\":[0.6752372371178296,0.6752372371178296,-0.6752372371178295,-0.6752372371178295,-0.6752372371178297,-0.6752372371178297,1.291916229670548e-16,8.020575100116068e-17,1.6539866862653763,0.6752372371178293,-3.3858899693527023e-16,1.6539866862653763,-1.6539866862653765,-1.6539866862653765,1.6539866862653756,1.1253953951963829,0.0,-3.875748689011644e-16],\"z\":[0.0,0.0,0.0,0.0,0.0,0.0,2.0,2.0,2.0,0.0,2.0,2.0,2.0,2.0,2.0,3.0,3.75,2.0],\"type\":\"mesh3d\"},{\"colorscale\":[[0,\"red\"],[0.5,\"rgb(67, 147, 198)\"],[1,\"blue\"]],\"hoverinfo\":\"text\",\"hovertext\":\"<br>=3-Relation=<br><br>Distinction 0: ACD<br>Direction: CAUSE<br>Purview: ABCD<br>\\u03c6 = 0.2045<br>State: [0, 1, 0, 1]<br><br>Distinction 1: CD<br>Direction: EFFECT<br>Purview: BC<br>\\u03c6 = 0.0056<br>State: [0, 0]<br><br>Distinction 2: D<br>Direction: CAUSE<br>Purview: AC<br>\\u03c6 = 0.1035<br>State: [1, 0]<br><br>Relation purview: C<br>Relation \\u03c6 = 0.1247<br>\",\"i\":[6],\"intensity\":[1.0],\"intensitymode\":\"cell\",\"j\":[13],\"k\":[16],\"legendgroup\":\"All 3-Relations\",\"name\":\"All 3-Relations\",\"opacity\":0.029961049931945514,\"showlegend\":false,\"showscale\":false,\"visible\":true,\"x\":[0.8752372371178294,0.47523723711782945,0.8752372371178296,0.47523723711782956,-0.47523723711782945,-0.8752372371178294,2.109859317102744,1.709859317102744,1.154929658551372,-0.6752372371178297,-1.709859317102744,0.7549296585513718,-0.7549296585513714,-1.1549296585513715,-0.9549296585513729,1.1253953951963827,0.0,-2.109859317102744],\"y\":[0.6752372371178296,0.6752372371178296,-0.6752372371178295,-0.6752372371178295,-0.6752372371178297,-0.6752372371178297,1.291916229670548e-16,8.020575100116068e-17,1.6539866862653763,0.6752372371178293,-3.3858899693527023e-16,1.6539866862653763,-1.6539866862653765,-1.6539866862653765,1.6539866862653756,1.1253953951963829,0.0,-3.875748689011644e-16],\"z\":[0.0,0.0,0.0,0.0,0.0,0.0,2.0,2.0,2.0,0.0,2.0,2.0,2.0,2.0,2.0,3.0,3.75,2.0],\"type\":\"mesh3d\"},{\"colorscale\":[[0,\"red\"],[0.5,\"rgb(63, 143, 196)\"],[1,\"blue\"]],\"hoverinfo\":\"text\",\"hovertext\":\"<br>=3-Relation=<br><br>Distinction 0: CD<br>Direction: EFFECT<br>Purview: BC<br>\\u03c6 = 0.0056<br>State: [0, 0]<br><br>Distinction 1: C<br>Direction: EFFECT<br>Purview: C<br>\\u03c6 = 0.6273<br>State: [0]<br><br>Distinction 2: ABC<br>Direction: EFFECT<br>Purview: ABC<br>\\u03c6 = 0.0235<br>State: [0, 1, 0]<br><br>Relation purview: C<br>Relation \\u03c6 = 0.0322<br>\",\"i\":[5],\"intensity\":[1.0],\"intensitymode\":\"cell\",\"j\":[13],\"k\":[15],\"legendgroup\":\"All 3-Relations\",\"name\":\"All 3-Relations\",\"opacity\":0.01862749489416537,\"showlegend\":false,\"showscale\":false,\"visible\":true,\"x\":[0.8752372371178294,0.47523723711782945,0.8752372371178296,0.47523723711782956,-0.47523723711782945,-0.8752372371178294,2.109859317102744,1.709859317102744,1.154929658551372,-0.6752372371178297,-1.709859317102744,0.7549296585513718,-0.7549296585513714,-1.1549296585513715,-0.9549296585513729,1.1253953951963827,0.0,-2.109859317102744],\"y\":[0.6752372371178296,0.6752372371178296,-0.6752372371178295,-0.6752372371178295,-0.6752372371178297,-0.6752372371178297,1.291916229670548e-16,8.020575100116068e-17,1.6539866862653763,0.6752372371178293,-3.3858899693527023e-16,1.6539866862653763,-1.6539866862653765,-1.6539866862653765,1.6539866862653756,1.1253953951963829,0.0,-3.875748689011644e-16],\"z\":[0.0,0.0,0.0,0.0,0.0,0.0,2.0,2.0,2.0,0.0,2.0,2.0,2.0,2.0,2.0,3.0,3.75,2.0],\"type\":\"mesh3d\"},{\"colorscale\":[[0,\"red\"],[0.5,\"rgb(225, 236, 247)\"],[1,\"blue\"]],\"hoverinfo\":\"text\",\"hovertext\":\"<br>=3-Relation=<br><br>Distinction 0: ACD<br>Direction: CAUSE<br>Purview: ABCD<br>\\u03c6 = 0.2045<br>State: [0, 1, 0, 1]<br><br>Distinction 1: BD<br>Direction: EFFECT<br>Purview: AB<br>\\u03c6 = 0.0028<br>State: [1, 1]<br><br>Distinction 2: B<br>Direction: EFFECT<br>Purview: B<br>\\u03c6 = 0.3524<br>State: [1]<br><br>Relation purview: B<br>Relation \\u03c6 = 0.1496<br>\",\"i\":[3],\"intensity\":[1.0],\"intensitymode\":\"cell\",\"j\":[11],\"k\":[16],\"legendgroup\":\"All 3-Relations\",\"name\":\"All 3-Relations\",\"opacity\":0.03301883920391138,\"showlegend\":false,\"showscale\":false,\"visible\":true,\"x\":[0.8752372371178294,0.47523723711782945,0.8752372371178296,0.47523723711782956,-0.47523723711782945,-0.8752372371178294,2.109859317102744,1.709859317102744,1.154929658551372,-0.6752372371178297,-1.709859317102744,0.7549296585513718,-0.7549296585513714,-1.1549296585513715,-0.9549296585513729,1.1253953951963827,0.0,-2.109859317102744],\"y\":[0.6752372371178296,0.6752372371178296,-0.6752372371178295,-0.6752372371178295,-0.6752372371178297,-0.6752372371178297,1.291916229670548e-16,8.020575100116068e-17,1.6539866862653763,0.6752372371178293,-3.3858899693527023e-16,1.6539866862653763,-1.6539866862653765,-1.6539866862653765,1.6539866862653756,1.1253953951963829,0.0,-3.875748689011644e-16],\"z\":[0.0,0.0,0.0,0.0,0.0,0.0,2.0,2.0,2.0,0.0,2.0,2.0,2.0,2.0,2.0,3.0,3.75,2.0],\"type\":\"mesh3d\"},{\"colorscale\":[[0,\"red\"],[0.5,\"rgb(8, 60, 125)\"],[1,\"blue\"]],\"hoverinfo\":\"text\",\"hovertext\":\"<br>=3-Relation=<br><br>Distinction 0: AD<br>Direction: CAUSE<br>Purview: AB<br>\\u03c6 = 0.1408<br>State: [0, 1]<br><br>Distinction 1: CD<br>Direction: CAUSE<br>Purview: BC<br>\\u03c6 = 0.1408<br>State: [1, 0]<br><br>Distinction 2: ABC<br>Direction: EFFECT<br>Purview: ABC<br>\\u03c6 = 0.0235<br>State: [0, 1, 0]<br><br>Relation purview: B<br>Relation \\u03c6 = 0.1147<br>\",\"i\":[8],\"intensity\":[1.0],\"intensitymode\":\"cell\",\"j\":[12],\"k\":[15],\"legendgroup\":\"All 3-Relations\",\"name\":\"All 3-Relations\",\"opacity\":0.02873619228332918,\"showlegend\":false,\"showscale\":false,\"visible\":true,\"x\":[0.8752372371178294,0.47523723711782945,0.8752372371178296,0.47523723711782956,-0.47523723711782945,-0.8752372371178294,2.109859317102744,1.709859317102744,1.154929658551372,-0.6752372371178297,-1.709859317102744,0.7549296585513718,-0.7549296585513714,-1.1549296585513715,-0.9549296585513729,1.1253953951963827,0.0,-2.109859317102744],\"y\":[0.6752372371178296,0.6752372371178296,-0.6752372371178295,-0.6752372371178295,-0.6752372371178297,-0.6752372371178297,1.291916229670548e-16,8.020575100116068e-17,1.6539866862653763,0.6752372371178293,-3.3858899693527023e-16,1.6539866862653763,-1.6539866862653765,-1.6539866862653765,1.6539866862653756,1.1253953951963829,0.0,-3.875748689011644e-16],\"z\":[0.0,0.0,0.0,0.0,0.0,0.0,2.0,2.0,2.0,0.0,2.0,2.0,2.0,2.0,2.0,3.0,3.75,2.0],\"type\":\"mesh3d\"}],                        {\"autosize\":true,\"height\":800,\"hovermode\":\"x\",\"legend\":{\"title\":{\"font\":{\"color\":\"black\",\"size\":15},\"text\":\"Trace legend (click trace to show/hide):\"}},\"paper_bgcolor\":\"white\",\"plot_bgcolor\":\"white\",\"scene\":{\"camera\":{\"eye\":{\"x\":0.22657694675916246,\"y\":0.0,\"z\":0.10565456543517486}},\"xaxis\":{\"autorange\":false,\"backgroundcolor\":\"white\",\"gridcolor\":\"lightgray\",\"range\":[-12.109859317102744,12.109859317102744],\"showbackground\":false,\"showgrid\":false,\"showline\":false,\"showspikes\":false,\"showticklabels\":false,\"title\":{\"text\":\"\"},\"zeroline\":false},\"yaxis\":{\"autorange\":false,\"backgroundcolor\":\"white\",\"gridcolor\":\"lightgray\",\"range\":[-11.653986686265377,11.653986686265377],\"showbackground\":false,\"showgrid\":false,\"showline\":false,\"showspikes\":false,\"showticklabels\":false,\"title\":{\"text\":\"\"},\"zeroline\":false},\"zaxis\":{\"autorange\":false,\"backgroundcolor\":\"white\",\"gridcolor\":\"lightgray\",\"range\":[-10.0,13.75],\"showbackground\":false,\"showgrid\":false,\"showline\":false,\"showspikes\":false,\"showticklabels\":false,\"title\":{\"text\":\"\"},\"zeroline\":false}},\"showlegend\":true,\"title\":{\"font\":{\"size\":30},\"text\":\"\"},\"width\":1400,\"template\":{\"data\":{\"bar\":[{\"error_x\":{\"color\":\"#2a3f5f\"},\"error_y\":{\"color\":\"#2a3f5f\"},\"marker\":{\"line\":{\"color\":\"#E5ECF6\",\"width\":0.5},\"pattern\":{\"fillmode\":\"overlay\",\"size\":10,\"solidity\":0.2}},\"type\":\"bar\"}],\"barpolar\":[{\"marker\":{\"line\":{\"color\":\"#E5ECF6\",\"width\":0.5},\"pattern\":{\"fillmode\":\"overlay\",\"size\":10,\"solidity\":0.2}},\"type\":\"barpolar\"}],\"carpet\":[{\"aaxis\":{\"endlinecolor\":\"#2a3f5f\",\"gridcolor\":\"white\",\"linecolor\":\"white\",\"minorgridcolor\":\"white\",\"startlinecolor\":\"#2a3f5f\"},\"baxis\":{\"endlinecolor\":\"#2a3f5f\",\"gridcolor\":\"white\",\"linecolor\":\"white\",\"minorgridcolor\":\"white\",\"startlinecolor\":\"#2a3f5f\"},\"type\":\"carpet\"}],\"choropleth\":[{\"colorbar\":{\"outlinewidth\":0,\"ticks\":\"\"},\"type\":\"choropleth\"}],\"contour\":[{\"colorbar\":{\"outlinewidth\":0,\"ticks\":\"\"},\"colorscale\":[[0.0,\"#0d0887\"],[0.1111111111111111,\"#46039f\"],[0.2222222222222222,\"#7201a8\"],[0.3333333333333333,\"#9c179e\"],[0.4444444444444444,\"#bd3786\"],[0.5555555555555556,\"#d8576b\"],[0.6666666666666666,\"#ed7953\"],[0.7777777777777778,\"#fb9f3a\"],[0.8888888888888888,\"#fdca26\"],[1.0,\"#f0f921\"]],\"type\":\"contour\"}],\"contourcarpet\":[{\"colorbar\":{\"outlinewidth\":0,\"ticks\":\"\"},\"type\":\"contourcarpet\"}],\"heatmap\":[{\"colorbar\":{\"outlinewidth\":0,\"ticks\":\"\"},\"colorscale\":[[0.0,\"#0d0887\"],[0.1111111111111111,\"#46039f\"],[0.2222222222222222,\"#7201a8\"],[0.3333333333333333,\"#9c179e\"],[0.4444444444444444,\"#bd3786\"],[0.5555555555555556,\"#d8576b\"],[0.6666666666666666,\"#ed7953\"],[0.7777777777777778,\"#fb9f3a\"],[0.8888888888888888,\"#fdca26\"],[1.0,\"#f0f921\"]],\"type\":\"heatmap\"}],\"heatmapgl\":[{\"colorbar\":{\"outlinewidth\":0,\"ticks\":\"\"},\"colorscale\":[[0.0,\"#0d0887\"],[0.1111111111111111,\"#46039f\"],[0.2222222222222222,\"#7201a8\"],[0.3333333333333333,\"#9c179e\"],[0.4444444444444444,\"#bd3786\"],[0.5555555555555556,\"#d8576b\"],[0.6666666666666666,\"#ed7953\"],[0.7777777777777778,\"#fb9f3a\"],[0.8888888888888888,\"#fdca26\"],[1.0,\"#f0f921\"]],\"type\":\"heatmapgl\"}],\"histogram\":[{\"marker\":{\"pattern\":{\"fillmode\":\"overlay\",\"size\":10,\"solidity\":0.2}},\"type\":\"histogram\"}],\"histogram2d\":[{\"colorbar\":{\"outlinewidth\":0,\"ticks\":\"\"},\"colorscale\":[[0.0,\"#0d0887\"],[0.1111111111111111,\"#46039f\"],[0.2222222222222222,\"#7201a8\"],[0.3333333333333333,\"#9c179e\"],[0.4444444444444444,\"#bd3786\"],[0.5555555555555556,\"#d8576b\"],[0.6666666666666666,\"#ed7953\"],[0.7777777777777778,\"#fb9f3a\"],[0.8888888888888888,\"#fdca26\"],[1.0,\"#f0f921\"]],\"type\":\"histogram2d\"}],\"histogram2dcontour\":[{\"colorbar\":{\"outlinewidth\":0,\"ticks\":\"\"},\"colorscale\":[[0.0,\"#0d0887\"],[0.1111111111111111,\"#46039f\"],[0.2222222222222222,\"#7201a8\"],[0.3333333333333333,\"#9c179e\"],[0.4444444444444444,\"#bd3786\"],[0.5555555555555556,\"#d8576b\"],[0.6666666666666666,\"#ed7953\"],[0.7777777777777778,\"#fb9f3a\"],[0.8888888888888888,\"#fdca26\"],[1.0,\"#f0f921\"]],\"type\":\"histogram2dcontour\"}],\"mesh3d\":[{\"colorbar\":{\"outlinewidth\":0,\"ticks\":\"\"},\"type\":\"mesh3d\"}],\"parcoords\":[{\"line\":{\"colorbar\":{\"outlinewidth\":0,\"ticks\":\"\"}},\"type\":\"parcoords\"}],\"pie\":[{\"automargin\":true,\"type\":\"pie\"}],\"scatter\":[{\"marker\":{\"colorbar\":{\"outlinewidth\":0,\"ticks\":\"\"}},\"type\":\"scatter\"}],\"scatter3d\":[{\"line\":{\"colorbar\":{\"outlinewidth\":0,\"ticks\":\"\"}},\"marker\":{\"colorbar\":{\"outlinewidth\":0,\"ticks\":\"\"}},\"type\":\"scatter3d\"}],\"scattercarpet\":[{\"marker\":{\"colorbar\":{\"outlinewidth\":0,\"ticks\":\"\"}},\"type\":\"scattercarpet\"}],\"scattergeo\":[{\"marker\":{\"colorbar\":{\"outlinewidth\":0,\"ticks\":\"\"}},\"type\":\"scattergeo\"}],\"scattergl\":[{\"marker\":{\"colorbar\":{\"outlinewidth\":0,\"ticks\":\"\"}},\"type\":\"scattergl\"}],\"scattermapbox\":[{\"marker\":{\"colorbar\":{\"outlinewidth\":0,\"ticks\":\"\"}},\"type\":\"scattermapbox\"}],\"scatterpolar\":[{\"marker\":{\"colorbar\":{\"outlinewidth\":0,\"ticks\":\"\"}},\"type\":\"scatterpolar\"}],\"scatterpolargl\":[{\"marker\":{\"colorbar\":{\"outlinewidth\":0,\"ticks\":\"\"}},\"type\":\"scatterpolargl\"}],\"scatterternary\":[{\"marker\":{\"colorbar\":{\"outlinewidth\":0,\"ticks\":\"\"}},\"type\":\"scatterternary\"}],\"surface\":[{\"colorbar\":{\"outlinewidth\":0,\"ticks\":\"\"},\"colorscale\":[[0.0,\"#0d0887\"],[0.1111111111111111,\"#46039f\"],[0.2222222222222222,\"#7201a8\"],[0.3333333333333333,\"#9c179e\"],[0.4444444444444444,\"#bd3786\"],[0.5555555555555556,\"#d8576b\"],[0.6666666666666666,\"#ed7953\"],[0.7777777777777778,\"#fb9f3a\"],[0.8888888888888888,\"#fdca26\"],[1.0,\"#f0f921\"]],\"type\":\"surface\"}],\"table\":[{\"cells\":{\"fill\":{\"color\":\"#EBF0F8\"},\"line\":{\"color\":\"white\"}},\"header\":{\"fill\":{\"color\":\"#C8D4E3\"},\"line\":{\"color\":\"white\"}},\"type\":\"table\"}]},\"layout\":{\"annotationdefaults\":{\"arrowcolor\":\"#2a3f5f\",\"arrowhead\":0,\"arrowwidth\":1},\"autotypenumbers\":\"strict\",\"coloraxis\":{\"colorbar\":{\"outlinewidth\":0,\"ticks\":\"\"}},\"colorscale\":{\"diverging\":[[0,\"#8e0152\"],[0.1,\"#c51b7d\"],[0.2,\"#de77ae\"],[0.3,\"#f1b6da\"],[0.4,\"#fde0ef\"],[0.5,\"#f7f7f7\"],[0.6,\"#e6f5d0\"],[0.7,\"#b8e186\"],[0.8,\"#7fbc41\"],[0.9,\"#4d9221\"],[1,\"#276419\"]],\"sequential\":[[0.0,\"#0d0887\"],[0.1111111111111111,\"#46039f\"],[0.2222222222222222,\"#7201a8\"],[0.3333333333333333,\"#9c179e\"],[0.4444444444444444,\"#bd3786\"],[0.5555555555555556,\"#d8576b\"],[0.6666666666666666,\"#ed7953\"],[0.7777777777777778,\"#fb9f3a\"],[0.8888888888888888,\"#fdca26\"],[1.0,\"#f0f921\"]],\"sequentialminus\":[[0.0,\"#0d0887\"],[0.1111111111111111,\"#46039f\"],[0.2222222222222222,\"#7201a8\"],[0.3333333333333333,\"#9c179e\"],[0.4444444444444444,\"#bd3786\"],[0.5555555555555556,\"#d8576b\"],[0.6666666666666666,\"#ed7953\"],[0.7777777777777778,\"#fb9f3a\"],[0.8888888888888888,\"#fdca26\"],[1.0,\"#f0f921\"]]},\"colorway\":[\"#636efa\",\"#EF553B\",\"#00cc96\",\"#ab63fa\",\"#FFA15A\",\"#19d3f3\",\"#FF6692\",\"#B6E880\",\"#FF97FF\",\"#FECB52\"],\"font\":{\"color\":\"#2a3f5f\"},\"geo\":{\"bgcolor\":\"white\",\"lakecolor\":\"white\",\"landcolor\":\"#E5ECF6\",\"showlakes\":true,\"showland\":true,\"subunitcolor\":\"white\"},\"hoverlabel\":{\"align\":\"left\"},\"hovermode\":\"closest\",\"mapbox\":{\"style\":\"light\"},\"paper_bgcolor\":\"white\",\"plot_bgcolor\":\"#E5ECF6\",\"polar\":{\"angularaxis\":{\"gridcolor\":\"white\",\"linecolor\":\"white\",\"ticks\":\"\"},\"bgcolor\":\"#E5ECF6\",\"radialaxis\":{\"gridcolor\":\"white\",\"linecolor\":\"white\",\"ticks\":\"\"}},\"scene\":{\"xaxis\":{\"backgroundcolor\":\"#E5ECF6\",\"gridcolor\":\"white\",\"gridwidth\":2,\"linecolor\":\"white\",\"showbackground\":true,\"ticks\":\"\",\"zerolinecolor\":\"white\"},\"yaxis\":{\"backgroundcolor\":\"#E5ECF6\",\"gridcolor\":\"white\",\"gridwidth\":2,\"linecolor\":\"white\",\"showbackground\":true,\"ticks\":\"\",\"zerolinecolor\":\"white\"},\"zaxis\":{\"backgroundcolor\":\"#E5ECF6\",\"gridcolor\":\"white\",\"gridwidth\":2,\"linecolor\":\"white\",\"showbackground\":true,\"ticks\":\"\",\"zerolinecolor\":\"white\"}},\"shapedefaults\":{\"line\":{\"color\":\"#2a3f5f\"}},\"ternary\":{\"aaxis\":{\"gridcolor\":\"white\",\"linecolor\":\"white\",\"ticks\":\"\"},\"baxis\":{\"gridcolor\":\"white\",\"linecolor\":\"white\",\"ticks\":\"\"},\"bgcolor\":\"#E5ECF6\",\"caxis\":{\"gridcolor\":\"white\",\"linecolor\":\"white\",\"ticks\":\"\"}},\"title\":{\"x\":0.05},\"xaxis\":{\"automargin\":true,\"gridcolor\":\"white\",\"linecolor\":\"white\",\"ticks\":\"\",\"title\":{\"standoff\":15},\"zerolinecolor\":\"white\",\"zerolinewidth\":2},\"yaxis\":{\"automargin\":true,\"gridcolor\":\"white\",\"linecolor\":\"white\",\"ticks\":\"\",\"title\":{\"standoff\":15},\"zerolinecolor\":\"white\",\"zerolinewidth\":2}}}},                        {\"responsive\": true}                    ).then(function(){\n",
       "                            \n",
       "var gd = document.getElementById('a4b1e400-75a5-4461-95b6-eb3385df9647');\n",
       "var x = new MutationObserver(function (mutations, observer) {{\n",
       "        var display = window.getComputedStyle(gd).display;\n",
       "        if (!display || display === 'none') {{\n",
       "            console.log([gd, 'removed!']);\n",
       "            Plotly.purge(gd);\n",
       "            observer.disconnect();\n",
       "        }}\n",
       "}});\n",
       "\n",
       "// Listen for the removal of the full notebook cells\n",
       "var notebookContainer = gd.closest('#notebook-container');\n",
       "if (notebookContainer) {{\n",
       "    x.observe(notebookContainer, {childList: true});\n",
       "}}\n",
       "\n",
       "// Listen for the clearing of the current output cell\n",
       "var outputEl = gd.closest('.output');\n",
       "if (outputEl) {{\n",
       "    x.observe(outputEl, {childList: true});\n",
       "}}\n",
       "\n",
       "                        })                };                });            </script>        </div>"
      ]
     },
     "metadata": {},
     "output_type": "display_data"
    }
   ],
   "source": [
    "fig = visualize_ces.plot_ces(\n",
    "    subsystem,\n",
    "    sep(pruned_sia_ces),\n",
    "    pruned_sia_rels,\n",
    "    base_rotation=0,\n",
    "    base_z_offset=.3,\n",
    ")\n",
    "fig.show()"
   ]
  },
  {
   "cell_type": "markdown",
   "id": "04e17651",
   "metadata": {
    "heading_collapsed": true
   },
   "source": [
    "## 5 nodes"
   ]
  },
  {
   "cell_type": "code",
   "execution_count": 52,
   "id": "3fe02e0b",
   "metadata": {
    "hidden": true
   },
   "outputs": [
    {
     "name": "stderr",
     "output_type": "stream",
     "text": [
      "                                                                                                                                                                                  \r"
     ]
    },
    {
     "data": {
      "text/html": [
       "<div>\n",
       "<style scoped>\n",
       "    .dataframe tbody tr th:only-of-type {\n",
       "        vertical-align: middle;\n",
       "    }\n",
       "\n",
       "    .dataframe tbody tr th {\n",
       "        vertical-align: top;\n",
       "    }\n",
       "\n",
       "    .dataframe thead th {\n",
       "        text-align: right;\n",
       "    }\n",
       "</style>\n",
       "<table border=\"1\" class=\"dataframe\">\n",
       "  <thead>\n",
       "    <tr style=\"text-align: right;\">\n",
       "      <th></th>\n",
       "      <th>mechanism</th>\n",
       "      <th>direction</th>\n",
       "      <th>purview</th>\n",
       "      <th>state</th>\n",
       "      <th>phi</th>\n",
       "    </tr>\n",
       "  </thead>\n",
       "  <tbody>\n",
       "    <tr>\n",
       "      <th>0</th>\n",
       "      <td>A</td>\n",
       "      <td>CAUSE</td>\n",
       "      <td>A</td>\n",
       "      <td>0</td>\n",
       "      <td>0.615201</td>\n",
       "    </tr>\n",
       "    <tr>\n",
       "      <th>1</th>\n",
       "      <td>A</td>\n",
       "      <td>EFFECT</td>\n",
       "      <td>A</td>\n",
       "      <td>0</td>\n",
       "      <td>0.671364</td>\n",
       "    </tr>\n",
       "    <tr>\n",
       "      <th>2</th>\n",
       "      <td>B</td>\n",
       "      <td>CAUSE</td>\n",
       "      <td>BD</td>\n",
       "      <td>00</td>\n",
       "      <td>0.037179</td>\n",
       "    </tr>\n",
       "    <tr>\n",
       "      <th>3</th>\n",
       "      <td>B</td>\n",
       "      <td>EFFECT</td>\n",
       "      <td>BD</td>\n",
       "      <td>10</td>\n",
       "      <td>0.223010</td>\n",
       "    </tr>\n",
       "    <tr>\n",
       "      <th>4</th>\n",
       "      <td>C</td>\n",
       "      <td>CAUSE</td>\n",
       "      <td>C</td>\n",
       "      <td>0</td>\n",
       "      <td>0.615201</td>\n",
       "    </tr>\n",
       "    <tr>\n",
       "      <th>5</th>\n",
       "      <td>C</td>\n",
       "      <td>EFFECT</td>\n",
       "      <td>C</td>\n",
       "      <td>0</td>\n",
       "      <td>0.671364</td>\n",
       "    </tr>\n",
       "    <tr>\n",
       "      <th>6</th>\n",
       "      <td>D</td>\n",
       "      <td>CAUSE</td>\n",
       "      <td>ABC</td>\n",
       "      <td>100\\n001</td>\n",
       "      <td>0.433502</td>\n",
       "    </tr>\n",
       "    <tr>\n",
       "      <th>7</th>\n",
       "      <td>D</td>\n",
       "      <td>EFFECT</td>\n",
       "      <td>BO</td>\n",
       "      <td>11</td>\n",
       "      <td>0.957110</td>\n",
       "    </tr>\n",
       "    <tr>\n",
       "      <th>8</th>\n",
       "      <td>O</td>\n",
       "      <td>CAUSE</td>\n",
       "      <td>D</td>\n",
       "      <td>1</td>\n",
       "      <td>0.999928</td>\n",
       "    </tr>\n",
       "    <tr>\n",
       "      <th>9</th>\n",
       "      <td>O</td>\n",
       "      <td>EFFECT</td>\n",
       "      <td>D</td>\n",
       "      <td>0</td>\n",
       "      <td>0.108492</td>\n",
       "    </tr>\n",
       "    <tr>\n",
       "      <th>10</th>\n",
       "      <td>AB</td>\n",
       "      <td>CAUSE</td>\n",
       "      <td>B</td>\n",
       "      <td>0</td>\n",
       "      <td>0.032316</td>\n",
       "    </tr>\n",
       "    <tr>\n",
       "      <th>11</th>\n",
       "      <td>AB</td>\n",
       "      <td>EFFECT</td>\n",
       "      <td>A</td>\n",
       "      <td>0</td>\n",
       "      <td>0.097510</td>\n",
       "    </tr>\n",
       "    <tr>\n",
       "      <th>12</th>\n",
       "      <td>AC</td>\n",
       "      <td>CAUSE</td>\n",
       "      <td>D</td>\n",
       "      <td>0</td>\n",
       "      <td>0.135172</td>\n",
       "    </tr>\n",
       "    <tr>\n",
       "      <th>13</th>\n",
       "      <td>AC</td>\n",
       "      <td>EFFECT</td>\n",
       "      <td>B</td>\n",
       "      <td>0</td>\n",
       "      <td>0.055416</td>\n",
       "    </tr>\n",
       "    <tr>\n",
       "      <th>14</th>\n",
       "      <td>AD</td>\n",
       "      <td>CAUSE</td>\n",
       "      <td>ABC</td>\n",
       "      <td>001</td>\n",
       "      <td>0.220362</td>\n",
       "    </tr>\n",
       "    <tr>\n",
       "      <th>15</th>\n",
       "      <td>AD</td>\n",
       "      <td>EFFECT</td>\n",
       "      <td>A</td>\n",
       "      <td>0</td>\n",
       "      <td>0.120756</td>\n",
       "    </tr>\n",
       "    <tr>\n",
       "      <th>16</th>\n",
       "      <td>AO</td>\n",
       "      <td>CAUSE</td>\n",
       "      <td>ABD</td>\n",
       "      <td>001</td>\n",
       "      <td>0.146863</td>\n",
       "    </tr>\n",
       "    <tr>\n",
       "      <th>17</th>\n",
       "      <td>AO</td>\n",
       "      <td>EFFECT</td>\n",
       "      <td>D</td>\n",
       "      <td>1</td>\n",
       "      <td>0.015733</td>\n",
       "    </tr>\n",
       "    <tr>\n",
       "      <th>18</th>\n",
       "      <td>BC</td>\n",
       "      <td>CAUSE</td>\n",
       "      <td>B</td>\n",
       "      <td>0</td>\n",
       "      <td>0.032316</td>\n",
       "    </tr>\n",
       "    <tr>\n",
       "      <th>19</th>\n",
       "      <td>BC</td>\n",
       "      <td>EFFECT</td>\n",
       "      <td>C</td>\n",
       "      <td>0</td>\n",
       "      <td>0.097510</td>\n",
       "    </tr>\n",
       "    <tr>\n",
       "      <th>20</th>\n",
       "      <td>BD</td>\n",
       "      <td>CAUSE</td>\n",
       "      <td>B</td>\n",
       "      <td>0</td>\n",
       "      <td>0.028918</td>\n",
       "    </tr>\n",
       "    <tr>\n",
       "      <th>21</th>\n",
       "      <td>BD</td>\n",
       "      <td>EFFECT</td>\n",
       "      <td>ABC</td>\n",
       "      <td>111</td>\n",
       "      <td>0.165084</td>\n",
       "    </tr>\n",
       "    <tr>\n",
       "      <th>22</th>\n",
       "      <td>BO</td>\n",
       "      <td>CAUSE</td>\n",
       "      <td>BD</td>\n",
       "      <td>11</td>\n",
       "      <td>0.011675</td>\n",
       "    </tr>\n",
       "    <tr>\n",
       "      <th>23</th>\n",
       "      <td>BO</td>\n",
       "      <td>EFFECT</td>\n",
       "      <td>D</td>\n",
       "      <td>0</td>\n",
       "      <td>0.101976</td>\n",
       "    </tr>\n",
       "    <tr>\n",
       "      <th>24</th>\n",
       "      <td>CD</td>\n",
       "      <td>CAUSE</td>\n",
       "      <td>ABC</td>\n",
       "      <td>100</td>\n",
       "      <td>0.220362</td>\n",
       "    </tr>\n",
       "    <tr>\n",
       "      <th>25</th>\n",
       "      <td>CD</td>\n",
       "      <td>EFFECT</td>\n",
       "      <td>C</td>\n",
       "      <td>0</td>\n",
       "      <td>0.120756</td>\n",
       "    </tr>\n",
       "    <tr>\n",
       "      <th>26</th>\n",
       "      <td>CO</td>\n",
       "      <td>CAUSE</td>\n",
       "      <td>BCD</td>\n",
       "      <td>001</td>\n",
       "      <td>0.146863</td>\n",
       "    </tr>\n",
       "    <tr>\n",
       "      <th>27</th>\n",
       "      <td>CO</td>\n",
       "      <td>EFFECT</td>\n",
       "      <td>D</td>\n",
       "      <td>1</td>\n",
       "      <td>0.015733</td>\n",
       "    </tr>\n",
       "    <tr>\n",
       "      <th>28</th>\n",
       "      <td>DO</td>\n",
       "      <td>CAUSE</td>\n",
       "      <td>DO</td>\n",
       "      <td>10</td>\n",
       "      <td>0.043308</td>\n",
       "    </tr>\n",
       "    <tr>\n",
       "      <th>29</th>\n",
       "      <td>DO</td>\n",
       "      <td>EFFECT</td>\n",
       "      <td>D</td>\n",
       "      <td>0</td>\n",
       "      <td>0.033498</td>\n",
       "    </tr>\n",
       "    <tr>\n",
       "      <th>30</th>\n",
       "      <td>ABC</td>\n",
       "      <td>CAUSE</td>\n",
       "      <td>BD</td>\n",
       "      <td>00</td>\n",
       "      <td>0.048739</td>\n",
       "    </tr>\n",
       "    <tr>\n",
       "      <th>31</th>\n",
       "      <td>ABC</td>\n",
       "      <td>EFFECT</td>\n",
       "      <td>D</td>\n",
       "      <td>1</td>\n",
       "      <td>0.610320</td>\n",
       "    </tr>\n",
       "    <tr>\n",
       "      <th>32</th>\n",
       "      <td>ABD</td>\n",
       "      <td>CAUSE</td>\n",
       "      <td>AD</td>\n",
       "      <td>00</td>\n",
       "      <td>0.034137</td>\n",
       "    </tr>\n",
       "    <tr>\n",
       "      <th>33</th>\n",
       "      <td>ABD</td>\n",
       "      <td>EFFECT</td>\n",
       "      <td>A</td>\n",
       "      <td>0</td>\n",
       "      <td>0.182322</td>\n",
       "    </tr>\n",
       "    <tr>\n",
       "      <th>34</th>\n",
       "      <td>ABO</td>\n",
       "      <td>CAUSE</td>\n",
       "      <td>ABD</td>\n",
       "      <td>001</td>\n",
       "      <td>0.015494</td>\n",
       "    </tr>\n",
       "    <tr>\n",
       "      <th>35</th>\n",
       "      <td>ABO</td>\n",
       "      <td>EFFECT</td>\n",
       "      <td>D</td>\n",
       "      <td>0</td>\n",
       "      <td>0.019968</td>\n",
       "    </tr>\n",
       "    <tr>\n",
       "      <th>36</th>\n",
       "      <td>ACD</td>\n",
       "      <td>CAUSE</td>\n",
       "      <td>ABCD</td>\n",
       "      <td>0100</td>\n",
       "      <td>0.250125</td>\n",
       "    </tr>\n",
       "    <tr>\n",
       "      <th>37</th>\n",
       "      <td>ACD</td>\n",
       "      <td>EFFECT</td>\n",
       "      <td>AC</td>\n",
       "      <td>00</td>\n",
       "      <td>0.099241</td>\n",
       "    </tr>\n",
       "    <tr>\n",
       "      <th>38</th>\n",
       "      <td>ACO</td>\n",
       "      <td>CAUSE</td>\n",
       "      <td>ABCD</td>\n",
       "      <td>0001</td>\n",
       "      <td>0.186682</td>\n",
       "    </tr>\n",
       "    <tr>\n",
       "      <th>39</th>\n",
       "      <td>ACO</td>\n",
       "      <td>EFFECT</td>\n",
       "      <td>BD</td>\n",
       "      <td>10</td>\n",
       "      <td>0.037998</td>\n",
       "    </tr>\n",
       "    <tr>\n",
       "      <th>40</th>\n",
       "      <td>ADO</td>\n",
       "      <td>CAUSE</td>\n",
       "      <td>ABCD</td>\n",
       "      <td>0011</td>\n",
       "      <td>0.108021</td>\n",
       "    </tr>\n",
       "    <tr>\n",
       "      <th>41</th>\n",
       "      <td>ADO</td>\n",
       "      <td>EFFECT</td>\n",
       "      <td>AD</td>\n",
       "      <td>00</td>\n",
       "      <td>0.019362</td>\n",
       "    </tr>\n",
       "    <tr>\n",
       "      <th>42</th>\n",
       "      <td>BCD</td>\n",
       "      <td>CAUSE</td>\n",
       "      <td>CD</td>\n",
       "      <td>00</td>\n",
       "      <td>0.034137</td>\n",
       "    </tr>\n",
       "    <tr>\n",
       "      <th>43</th>\n",
       "      <td>BCD</td>\n",
       "      <td>EFFECT</td>\n",
       "      <td>C</td>\n",
       "      <td>0</td>\n",
       "      <td>0.182322</td>\n",
       "    </tr>\n",
       "    <tr>\n",
       "      <th>44</th>\n",
       "      <td>BCO</td>\n",
       "      <td>CAUSE</td>\n",
       "      <td>BCD</td>\n",
       "      <td>001</td>\n",
       "      <td>0.015494</td>\n",
       "    </tr>\n",
       "    <tr>\n",
       "      <th>45</th>\n",
       "      <td>BCO</td>\n",
       "      <td>EFFECT</td>\n",
       "      <td>D</td>\n",
       "      <td>0</td>\n",
       "      <td>0.019968</td>\n",
       "    </tr>\n",
       "    <tr>\n",
       "      <th>46</th>\n",
       "      <td>BDO</td>\n",
       "      <td>CAUSE</td>\n",
       "      <td>BDO</td>\n",
       "      <td>010</td>\n",
       "      <td>0.006126</td>\n",
       "    </tr>\n",
       "    <tr>\n",
       "      <th>47</th>\n",
       "      <td>BDO</td>\n",
       "      <td>EFFECT</td>\n",
       "      <td>AD</td>\n",
       "      <td>10</td>\n",
       "      <td>0.074438</td>\n",
       "    </tr>\n",
       "    <tr>\n",
       "      <th>48</th>\n",
       "      <td>CDO</td>\n",
       "      <td>CAUSE</td>\n",
       "      <td>ABCD</td>\n",
       "      <td>1001</td>\n",
       "      <td>0.108021</td>\n",
       "    </tr>\n",
       "    <tr>\n",
       "      <th>49</th>\n",
       "      <td>CDO</td>\n",
       "      <td>EFFECT</td>\n",
       "      <td>CD</td>\n",
       "      <td>00</td>\n",
       "      <td>0.019362</td>\n",
       "    </tr>\n",
       "    <tr>\n",
       "      <th>50</th>\n",
       "      <td>ABCD</td>\n",
       "      <td>CAUSE</td>\n",
       "      <td>ABC</td>\n",
       "      <td>010</td>\n",
       "      <td>0.033009</td>\n",
       "    </tr>\n",
       "    <tr>\n",
       "      <th>51</th>\n",
       "      <td>ABCD</td>\n",
       "      <td>EFFECT</td>\n",
       "      <td>ABD</td>\n",
       "      <td>011</td>\n",
       "      <td>0.131927</td>\n",
       "    </tr>\n",
       "    <tr>\n",
       "      <th>52</th>\n",
       "      <td>ABCO</td>\n",
       "      <td>CAUSE</td>\n",
       "      <td>ABCD</td>\n",
       "      <td>0001</td>\n",
       "      <td>0.020843</td>\n",
       "    </tr>\n",
       "    <tr>\n",
       "      <th>53</th>\n",
       "      <td>ABCO</td>\n",
       "      <td>EFFECT</td>\n",
       "      <td>D</td>\n",
       "      <td>1</td>\n",
       "      <td>0.110846</td>\n",
       "    </tr>\n",
       "    <tr>\n",
       "      <th>54</th>\n",
       "      <td>ABDO</td>\n",
       "      <td>CAUSE</td>\n",
       "      <td>ABD</td>\n",
       "      <td>001</td>\n",
       "      <td>0.014966</td>\n",
       "    </tr>\n",
       "    <tr>\n",
       "      <th>55</th>\n",
       "      <td>ABDO</td>\n",
       "      <td>EFFECT</td>\n",
       "      <td>CD</td>\n",
       "      <td>10</td>\n",
       "      <td>0.020908</td>\n",
       "    </tr>\n",
       "    <tr>\n",
       "      <th>56</th>\n",
       "      <td>ACDO</td>\n",
       "      <td>CAUSE</td>\n",
       "      <td>ABCDO</td>\n",
       "      <td>01010</td>\n",
       "      <td>0.105347</td>\n",
       "    </tr>\n",
       "    <tr>\n",
       "      <th>57</th>\n",
       "      <td>ACDO</td>\n",
       "      <td>EFFECT</td>\n",
       "      <td>ACD</td>\n",
       "      <td>000</td>\n",
       "      <td>0.013585</td>\n",
       "    </tr>\n",
       "    <tr>\n",
       "      <th>58</th>\n",
       "      <td>BCDO</td>\n",
       "      <td>CAUSE</td>\n",
       "      <td>BCD</td>\n",
       "      <td>001</td>\n",
       "      <td>0.014966</td>\n",
       "    </tr>\n",
       "    <tr>\n",
       "      <th>59</th>\n",
       "      <td>BCDO</td>\n",
       "      <td>EFFECT</td>\n",
       "      <td>AD</td>\n",
       "      <td>10</td>\n",
       "      <td>0.020908</td>\n",
       "    </tr>\n",
       "    <tr>\n",
       "      <th>60</th>\n",
       "      <td>ABCDO</td>\n",
       "      <td>CAUSE</td>\n",
       "      <td>ABCD</td>\n",
       "      <td>0101</td>\n",
       "      <td>0.014637</td>\n",
       "    </tr>\n",
       "    <tr>\n",
       "      <th>61</th>\n",
       "      <td>ABCDO</td>\n",
       "      <td>EFFECT</td>\n",
       "      <td>BD</td>\n",
       "      <td>11</td>\n",
       "      <td>0.003538</td>\n",
       "    </tr>\n",
       "  </tbody>\n",
       "</table>\n",
       "</div>"
      ],
      "text/plain": [
       "   mechanism direction purview     state       phi\n",
       "0          A     CAUSE       A         0  0.615201\n",
       "1          A    EFFECT       A         0  0.671364\n",
       "2          B     CAUSE      BD        00  0.037179\n",
       "3          B    EFFECT      BD        10  0.223010\n",
       "4          C     CAUSE       C         0  0.615201\n",
       "5          C    EFFECT       C         0  0.671364\n",
       "6          D     CAUSE     ABC  100\\n001  0.433502\n",
       "7          D    EFFECT      BO        11  0.957110\n",
       "8          O     CAUSE       D         1  0.999928\n",
       "9          O    EFFECT       D         0  0.108492\n",
       "10        AB     CAUSE       B         0  0.032316\n",
       "11        AB    EFFECT       A         0  0.097510\n",
       "12        AC     CAUSE       D         0  0.135172\n",
       "13        AC    EFFECT       B         0  0.055416\n",
       "14        AD     CAUSE     ABC       001  0.220362\n",
       "15        AD    EFFECT       A         0  0.120756\n",
       "16        AO     CAUSE     ABD       001  0.146863\n",
       "17        AO    EFFECT       D         1  0.015733\n",
       "18        BC     CAUSE       B         0  0.032316\n",
       "19        BC    EFFECT       C         0  0.097510\n",
       "20        BD     CAUSE       B         0  0.028918\n",
       "21        BD    EFFECT     ABC       111  0.165084\n",
       "22        BO     CAUSE      BD        11  0.011675\n",
       "23        BO    EFFECT       D         0  0.101976\n",
       "24        CD     CAUSE     ABC       100  0.220362\n",
       "25        CD    EFFECT       C         0  0.120756\n",
       "26        CO     CAUSE     BCD       001  0.146863\n",
       "27        CO    EFFECT       D         1  0.015733\n",
       "28        DO     CAUSE      DO        10  0.043308\n",
       "29        DO    EFFECT       D         0  0.033498\n",
       "30       ABC     CAUSE      BD        00  0.048739\n",
       "31       ABC    EFFECT       D         1  0.610320\n",
       "32       ABD     CAUSE      AD        00  0.034137\n",
       "33       ABD    EFFECT       A         0  0.182322\n",
       "34       ABO     CAUSE     ABD       001  0.015494\n",
       "35       ABO    EFFECT       D         0  0.019968\n",
       "36       ACD     CAUSE    ABCD      0100  0.250125\n",
       "37       ACD    EFFECT      AC        00  0.099241\n",
       "38       ACO     CAUSE    ABCD      0001  0.186682\n",
       "39       ACO    EFFECT      BD        10  0.037998\n",
       "40       ADO     CAUSE    ABCD      0011  0.108021\n",
       "41       ADO    EFFECT      AD        00  0.019362\n",
       "42       BCD     CAUSE      CD        00  0.034137\n",
       "43       BCD    EFFECT       C         0  0.182322\n",
       "44       BCO     CAUSE     BCD       001  0.015494\n",
       "45       BCO    EFFECT       D         0  0.019968\n",
       "46       BDO     CAUSE     BDO       010  0.006126\n",
       "47       BDO    EFFECT      AD        10  0.074438\n",
       "48       CDO     CAUSE    ABCD      1001  0.108021\n",
       "49       CDO    EFFECT      CD        00  0.019362\n",
       "50      ABCD     CAUSE     ABC       010  0.033009\n",
       "51      ABCD    EFFECT     ABD       011  0.131927\n",
       "52      ABCO     CAUSE    ABCD      0001  0.020843\n",
       "53      ABCO    EFFECT       D         1  0.110846\n",
       "54      ABDO     CAUSE     ABD       001  0.014966\n",
       "55      ABDO    EFFECT      CD        10  0.020908\n",
       "56      ACDO     CAUSE   ABCDO     01010  0.105347\n",
       "57      ACDO    EFFECT     ACD       000  0.013585\n",
       "58      BCDO     CAUSE     BCD       001  0.014966\n",
       "59      BCDO    EFFECT      AD        10  0.020908\n",
       "60     ABCDO     CAUSE    ABCD      0101  0.014637\n",
       "61     ABCDO    EFFECT      BD        11  0.003538"
      ]
     },
     "execution_count": 52,
     "metadata": {},
     "output_type": "execute_result"
    }
   ],
   "source": [
    "subsystem = pyphi.Subsystem(network,state=(0,1,0,1,1,1),nodes=(0,1,2,3,5))\n",
    "ces = pyphi.compute.ces(subsystem)\n",
    "utils.sepces2df(sep(ces),subsystem)"
   ]
  },
  {
   "cell_type": "code",
   "execution_count": 53,
   "id": "4e8caec8",
   "metadata": {
    "hidden": true
   },
   "outputs": [
    {
     "data": {
      "application/vnd.jupyter.widget-view+json": {
       "model_id": "ae1c563931dd4a658f9c406d6fcd2168",
       "version_major": 2,
       "version_minor": 0
      },
      "text/plain": [
       "  0%|          | 0/1373 [00:00<?, ?it/s]"
      ]
     },
     "metadata": {},
     "output_type": "display_data"
    },
    {
     "name": "stderr",
     "output_type": "stream",
     "text": [
      "/home/mgrasso/pyphi/pyphi/utils.py:86: RuntimeWarning: invalid value encountered in double_scalars\n",
      "  return abs(x - y) <= constants.EPSILON\n"
     ]
    },
    {
     "name": "stdout",
     "output_type": "stream",
     "text": [
      "Done putting relations\n",
      "Finding maximal compositional state\n"
     ]
    },
    {
     "data": {
      "application/vnd.jupyter.widget-view+json": {
       "model_id": "69cfa7a3ab514b1d8af2cf33a2a283f4",
       "version_major": 2,
       "version_minor": 0
      },
      "text/plain": [
       "Submitting tasks: 0it [00:00, ?it/s]"
      ]
     },
     "metadata": {},
     "output_type": "display_data"
    },
    {
     "name": "stderr",
     "output_type": "stream",
     "text": [
      "2022-01-31 16:51:28,440\tERROR worker.py:84 -- Unhandled error (suppress with RAY_IGNORE_UNHANDLED_ERRORS=1): \u001b[36mray::_max_system_intrinsic_information()\u001b[39m (pid=2222743, ip=144.92.2.85)\n",
      "  File \"/home/mgrasso/pyphi/pyphi/big_phi.py\", line 600, in _max_system_intrinsic_information\n",
      "    return max(\n",
      "TypeError: '>' not supported between instances of 'PhiStructure' and 'PhiStructure'\n",
      "2022-01-31 16:51:29,442\tERROR worker.py:84 -- Unhandled error (suppress with RAY_IGNORE_UNHANDLED_ERRORS=1): \u001b[36mray::_max_system_intrinsic_information()\u001b[39m (pid=2222298, ip=144.92.2.85)\n",
      "  File \"/home/mgrasso/pyphi/pyphi/big_phi.py\", line 600, in _max_system_intrinsic_information\n",
      "    return max(\n",
      "TypeError: '>' not supported between instances of 'PhiStructure' and 'PhiStructure'\n",
      "2022-01-31 16:51:30,446\tERROR worker.py:84 -- Unhandled error (suppress with RAY_IGNORE_UNHANDLED_ERRORS=1): \u001b[36mray::_max_system_intrinsic_information()\u001b[39m (pid=2222722, ip=144.92.2.85)\n",
      "  File \"/home/mgrasso/pyphi/pyphi/big_phi.py\", line 600, in _max_system_intrinsic_information\n",
      "    return max(\n",
      "TypeError: '>' not supported between instances of 'PhiStructure' and 'PhiStructure'\n",
      "2022-01-31 16:51:33,447\tERROR worker.py:84 -- Unhandled error (suppress with RAY_IGNORE_UNHANDLED_ERRORS=1): \u001b[36mray::_max_system_intrinsic_information()\u001b[39m (pid=2221392, ip=144.92.2.85)\n",
      "  File \"/home/mgrasso/pyphi/pyphi/big_phi.py\", line 600, in _max_system_intrinsic_information\n",
      "    return max(\n",
      "TypeError: '>' not supported between instances of 'PhiStructure' and 'PhiStructure'\n",
      "2022-01-31 16:51:34,449\tERROR worker.py:84 -- Unhandled error (suppress with RAY_IGNORE_UNHANDLED_ERRORS=1): \u001b[36mray::_max_system_intrinsic_information()\u001b[39m (pid=2221363, ip=144.92.2.85)\n",
      "  File \"/home/mgrasso/pyphi/pyphi/big_phi.py\", line 600, in _max_system_intrinsic_information\n",
      "    return max(\n",
      "TypeError: '>' not supported between instances of 'PhiStructure' and 'PhiStructure'\n",
      "2022-01-31 16:51:37,451\tERROR worker.py:84 -- Unhandled error (suppress with RAY_IGNORE_UNHANDLED_ERRORS=1): \u001b[36mray::_max_system_intrinsic_information()\u001b[39m (pid=2222164, ip=144.92.2.85)\n",
      "  File \"/home/mgrasso/pyphi/pyphi/big_phi.py\", line 600, in _max_system_intrinsic_information\n",
      "    return max(\n",
      "TypeError: '>' not supported between instances of 'PhiStructure' and 'PhiStructure'\n",
      "2022-01-31 16:51:37,489\tERROR worker.py:84 -- Unhandled error (suppress with RAY_IGNORE_UNHANDLED_ERRORS=1): \u001b[36mray::_max_system_intrinsic_information()\u001b[39m (pid=2222203, ip=144.92.2.85)\n",
      "  File \"/home/mgrasso/pyphi/pyphi/big_phi.py\", line 600, in _max_system_intrinsic_information\n",
      "    return max(\n",
      "TypeError: '>' not supported between instances of 'PhiStructure' and 'PhiStructure'\n",
      "2022-01-31 16:51:39,448\tERROR worker.py:84 -- Unhandled error (suppress with RAY_IGNORE_UNHANDLED_ERRORS=1): \u001b[36mray::_max_system_intrinsic_information()\u001b[39m (pid=2222765, ip=144.92.2.85)\n",
      "  File \"/home/mgrasso/pyphi/pyphi/big_phi.py\", line 600, in _max_system_intrinsic_information\n",
      "    return max(\n",
      "TypeError: '>' not supported between instances of 'PhiStructure' and 'PhiStructure'\n",
      "2022-01-31 16:51:40,227\tERROR worker.py:84 -- Unhandled error (suppress with RAY_IGNORE_UNHANDLED_ERRORS=1): \u001b[36mray::_max_system_intrinsic_information()\u001b[39m (pid=2221968, ip=144.92.2.85)\n",
      "  File \"/home/mgrasso/pyphi/pyphi/big_phi.py\", line 600, in _max_system_intrinsic_information\n",
      "    return max(\n",
      "TypeError: '>' not supported between instances of 'PhiStructure' and 'PhiStructure'\n",
      "2022-01-31 16:51:40,230\tERROR worker.py:84 -- Unhandled error (suppress with RAY_IGNORE_UNHANDLED_ERRORS=1): \u001b[36mray::_max_system_intrinsic_information()\u001b[39m (pid=2222164, ip=144.92.2.85)\n",
      "  File \"/home/mgrasso/pyphi/pyphi/big_phi.py\", line 600, in _max_system_intrinsic_information\n",
      "    return max(\n",
      "TypeError: '>' not supported between instances of 'PhiStructure' and 'PhiStructure'\n",
      "\n",
      "KeyboardInterrupt\n",
      "\n"
     ]
    }
   ],
   "source": [
    "relations = list(pyphi.relations.relations(subsystem,sep(ces),max_degree=2))\n",
    "sia = pyphi.big_phi.sia(subsystem,ces,relations)\n",
    "sia.phi"
   ]
  },
  {
   "cell_type": "code",
   "execution_count": null,
   "id": "767bfc14",
   "metadata": {
    "hidden": true,
    "scrolled": true
   },
   "outputs": [],
   "source": [
    "utils.sepces2df(sep(sia.phi_structure.distinctions),subsystem)"
   ]
  },
  {
   "cell_type": "code",
   "execution_count": null,
   "id": "9516fec0",
   "metadata": {
    "hidden": true
   },
   "outputs": [],
   "source": []
  }
 ],
 "metadata": {
  "kernelspec": {
   "display_name": "Python 3",
   "language": "python",
   "name": "python3"
  },
  "language_info": {
   "codemirror_mode": {
    "name": "ipython",
    "version": 3
   },
   "file_extension": ".py",
   "mimetype": "text/x-python",
   "name": "python",
   "nbconvert_exporter": "python",
   "pygments_lexer": "ipython3",
   "version": "3.9.7"
  }
 },
 "nbformat": 4,
 "nbformat_minor": 5
}
