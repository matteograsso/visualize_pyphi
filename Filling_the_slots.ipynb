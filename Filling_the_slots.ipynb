{
 "cells": [
  {
   "cell_type": "code",
   "execution_count": 4,
   "id": "f5e04500-22e0-4ae1-a0bc-a45897721fbd",
   "metadata": {},
   "outputs": [
    {
     "name": "stderr",
     "output_type": "stream",
     "text": [
      "/tmp/ipykernel_578573/1960957901.py:1: DeprecationWarning: Importing display from IPython.core.display is deprecated since IPython 7.14, please import from IPython display\n",
      "  from IPython.core.display import display, HTML\n"
     ]
    },
    {
     "data": {
      "text/html": [
       "<style>.container { width:80% !important; }</style>"
      ],
      "text/plain": [
       "<IPython.core.display.HTML object>"
      ]
     },
     "metadata": {},
     "output_type": "display_data"
    }
   ],
   "source": [
    "from IPython.core.display import display, HTML\n",
    "\n",
    "display(HTML(\"<style>.container { width:80% !important; }</style>\"))"
   ]
  },
  {
   "cell_type": "code",
   "execution_count": 5,
   "id": "e60f387e-0293-43cc-8d7f-adb7f302ba8a",
   "metadata": {},
   "outputs": [
    {
     "name": "stdout",
     "output_type": "stream",
     "text": [
      "The autoreload extension is already loaded. To reload it, use:\n",
      "  %reload_ext autoreload\n",
      "The blackcellmagic extension is already loaded. To reload it, use:\n",
      "  %reload_ext blackcellmagic\n"
     ]
    }
   ],
   "source": [
    "%load_ext autoreload\n",
    "%autoreload 2\n",
    "%load_ext blackcellmagic\n",
    "%config Completer.use_jedi = False"
   ]
  },
  {
   "cell_type": "code",
   "execution_count": 6,
   "id": "6e993f06-92e9-4b03-ba15-e5cc6c37da23",
   "metadata": {
    "tags": []
   },
   "outputs": [
    {
     "name": "stderr",
     "output_type": "stream",
     "text": [
      "/tmp/ipykernel_578573/439437236.py:9: DeprecationWarning: Importing display from IPython.core.display is deprecated since IPython 7.14, please import from IPython display\n",
      "  from IPython.core.display import display, HTML\n"
     ]
    },
    {
     "data": {
      "text/html": [
       "<style>.container { width:80% !important; }</style>"
      ],
      "text/plain": [
       "<IPython.core.display.HTML object>"
      ]
     },
     "metadata": {},
     "output_type": "display_data"
    }
   ],
   "source": [
    "import pyphi\n",
    "from visualize_pyphi import *\n",
    "from visualize_pyphi import utils\n",
    "import pickle as pkl\n",
    "from tqdm.auto import tqdm\n",
    "import numpy as np\n",
    "import itertools\n",
    "from pyphi.models.subsystem import FlatCauseEffectStructure as sep\n",
    "from IPython.core.display import display, HTML\n",
    "display(HTML(\"<style>.container { width:80% !important; }</style>\"))"
   ]
  },
  {
   "cell_type": "code",
   "execution_count": 7,
   "id": "f782d6ca-0702-4cba-87d6-233dfb5626a4",
   "metadata": {},
   "outputs": [
    {
     "data": {
      "text/plain": [
       "('IIT_4.0_SMALL_PHI', 'maximal-state-first', 'TRI')"
      ]
     },
     "execution_count": 7,
     "metadata": {},
     "output_type": "execute_result"
    }
   ],
   "source": [
    "'''\n",
    "Check that the config parameters are correct (if not change pyphi_config.yml to match):\n",
    "REPERTOIRE_DISTANCE = 'maximal-state-first'\n",
    "IIT_VERSION = 'IIT_4.0_SMALL_PHI'\n",
    "PARTITION_TYPE = 'TRI'\n",
    "'''\n",
    "pyphi.config.REPERTOIRE_DISTANCE,pyphi.config.IIT_VERSION,pyphi.config.PARTITION_TYPE"
   ]
  },
  {
   "cell_type": "code",
   "execution_count": 8,
   "id": "063e9309",
   "metadata": {},
   "outputs": [],
   "source": [
    "# net_name = \"space_7\"\n",
    "\n",
    "# th = 1 / 4\n",
    "# exp = 5\n",
    "\n",
    "# s = .8\n",
    "# l = 0.26\n",
    "# f = 0.06\n",
    "# g = 0.0\n",
    "\n",
    "# weights = np.array(\n",
    "#     [\n",
    "#         [s, l, f, g, 0, 0, 0],  # A\n",
    "#         [l, s, l, f, g, 0, 0],  # B\n",
    "#         [f, l, s, l, f, g, 0],  # C\n",
    "#         [g, f, l, s, l, f, g],  # D\n",
    "#         [0, g, f, l, s, l, f],  # E\n",
    "#         [0, 0, g, f, l, s, l],  # F\n",
    "#         [0, 0, 0, g, f, l, s],  # G        \n",
    "#         #A, B, C, D, E, F, G\n",
    "#     ]\n",
    "# )\n",
    "\n",
    "# # weights += np.random.random((6,6))/100\n",
    "# # weights = np.abs(weights)\n",
    "\n",
    "# node_labels = [\"A\", \"B\", \"C\", \"D\", \"E\", \"F\", \"G\"]\n",
    "# mech_func = [f for f in \"sssssss\"]\n",
    "\n",
    "# network = ng.get_net(\n",
    "#     mech_func,\n",
    "#     weights,\n",
    "#     exp=exp,\n",
    "#     th=th,\n",
    "#     node_labels=node_labels,\n",
    "#     network_name=net_name,\n",
    "#     pickle_network=True,\n",
    "# )\n",
    "\n",
    "# state = (0, 0, 0, 0, 0, 0, 0)\n",
    "\n",
    "\n",
    "# subsystem = pyphi.Subsystem(network, state)\n",
    "\n",
    "# utils.pklthis(subsystem,'example_data/7_node_grid_subsystem.pkl')"
   ]
  },
  {
   "cell_type": "code",
   "execution_count": 9,
   "id": "1d3bd096-df28-427e-bc3a-671da949bf9b",
   "metadata": {},
   "outputs": [],
   "source": [
    "\n",
    "C = pyphi.direction.Direction.CAUSE\n",
    "E = pyphi.direction.Direction.EFFECT\n"
   ]
  },
  {
   "cell_type": "code",
   "execution_count": 10,
   "id": "25b84a95-4f92-4fd3-8942-8e2ce6a2ef62",
   "metadata": {},
   "outputs": [],
   "source": [
    "def make_bag(all_mices):\n",
    "    bag = dict()\n",
    "    for mice in all_mices:\n",
    "        m = mice.mechanism\n",
    "        d = mice.direction\n",
    "        p = mice.purview\n",
    "\n",
    "        if m in bag.keys():\n",
    "            if d in bag[m].keys():\n",
    "                bag[m][d][p] = mice\n",
    "            else:\n",
    "                bag[m][d] = dict()\n",
    "                bag[m][d][p] = mice\n",
    "        else:\n",
    "            bag[m] = dict()\n",
    "            bag[m][d] = dict()\n",
    "            bag[m][d][p] = mice\n",
    "\n",
    "    return bag\n",
    "\n",
    "def get_bag_of_mices(subsystem, mechanisms, purviews, candidate=\"irreducible\"):\n",
    "\n",
    "    if candidate == \"irreducible\":\n",
    "        return {\n",
    "            mechanism: {\n",
    "                direction: {\n",
    "                    purview: subsystem.find_mice(direction, mechanism, (purview,))\n",
    "                    for purview in purviews\n",
    "                }\n",
    "                for direction in [\n",
    "                    C,\n",
    "                    E,\n",
    "                ]\n",
    "            }\n",
    "            for mechanism in mechanisms\n",
    "        }\n",
    "\n",
    "    elif candidate == \"miw\":\n",
    "\n",
    "        # compute candidate mices for every purview\n",
    "        all_mices = []\n",
    "\n",
    "        for mechanism in tqdm(mechanisms):\n",
    "            for direction in [C, E]:\n",
    "                candidate_mices = [\n",
    "                    subsystem.find_mice(direction, mechanism, (purview,))\n",
    "                    for purview in purviews\n",
    "                ]\n",
    "                # check if each mice is maximally irreducible within\n",
    "                candidate_mices_MIW = [\n",
    "                    mice\n",
    "                    for mice in candidate_mices\n",
    "                    if mice.phi > 0\n",
    "                    and not any(\n",
    "                        [\n",
    "                            all([unit in mice.purview for unit in mice2.purview])\n",
    "                            and mice2.phi > mice.phi\n",
    "                            for mice2 in candidate_mices\n",
    "                        ]\n",
    "                    )\n",
    "                ]\n",
    "\n",
    "                all_mices.extend(candidate_mices_MIW)\n",
    "\n",
    "        bag = make_bag(all_mices)\n",
    "        return bag"
   ]
  },
  {
   "cell_type": "code",
   "execution_count": 11,
   "id": "53699280-fe35-4de4-b3ff-309ce57f35c0",
   "metadata": {},
   "outputs": [],
   "source": [
    "def candidate_concepts(bag_of_mices, method='maximize_phi'):\n",
    "\n",
    "    if method=='maximize_phi':\n",
    "    # Pick the maximal mic and mie for every mechanism represented in the bag of mices\n",
    "        concepts = dict()\n",
    "        for mechanism, all_mices in bag_of_mices.items():\n",
    "            max_mices = []\n",
    "            for direction, directed_mices in all_mices.items():\n",
    "                phi = 0\n",
    "                max_mice = None\n",
    "                for purview, mice in directed_mices.items():\n",
    "\n",
    "                    if mice.phi >= phi:\n",
    "                        max_mice = mice\n",
    "                        phi = mice.phi\n",
    "\n",
    "                if phi > 0:\n",
    "                    max_mices.append((max_mice, phi))\n",
    "\n",
    "            if len(max_mices) > 1:\n",
    "                concepts[(max_mices[0][0], max_mices[1][0])] = min(\n",
    "                    [max_mices[0][1], max_mices[1][1]]\n",
    "                )\n",
    "\n",
    "        if len(concepts) < 1:\n",
    "            return None\n",
    "        else:\n",
    "            return concepts\n",
    "    \n",
    "#     if method=='reflexivity':\n",
    "#     # Pick the purviews over the mechanism itself first "
   ]
  },
  {
   "cell_type": "code",
   "execution_count": 12,
   "id": "d395ffa1-7086-424e-943f-66d84a8a7ee0",
   "metadata": {},
   "outputs": [],
   "source": [
    "def prune_bag_of_mices(bag_of_mices, concept):\n",
    "\n",
    "    new_bag = {\n",
    "        mechanism: {\n",
    "            direction: {\n",
    "                purview: bag_of_mices[mechanism][direction][purview]\n",
    "                for purview, mice in directed_mices.items()\n",
    "                if (\n",
    "                    not mechanism == concept[0].mechanism\n",
    "                    and not (\n",
    "                        concept[0].direction == direction\n",
    "                        and concept[0].purview == purview\n",
    "                    )\n",
    "                )\n",
    "                and (\n",
    "                    not mechanism == concept[1].mechanism\n",
    "                    and not (\n",
    "                        concept[1].direction == direction\n",
    "                        and concept[1].purview == purview\n",
    "                    )\n",
    "                )\n",
    "            }\n",
    "            for direction, directed_mices in all_mices.items()\n",
    "        }\n",
    "        for mechanism, all_mices in bag_of_mices.items()\n",
    "    }\n",
    "    return new_bag"
   ]
  },
  {
   "cell_type": "code",
   "execution_count": 13,
   "id": "43e78ff6-1694-4f95-ba13-7d7c55899f57",
   "metadata": {},
   "outputs": [],
   "source": [
    "def CES_from_bag_of_mices(bag_of_mices):\n",
    "    max_concepts = []\n",
    "    while len(bag_of_mices):\n",
    "        concepts = candidate_concepts(bag_of_mices)\n",
    "        if concepts == None:\n",
    "            break\n",
    "\n",
    "        max_concept = sorted(concepts, reverse=True)[0]\n",
    "        bag_of_mices = prune_bag_of_mices(bag_of_mices, max_concept)\n",
    "\n",
    "        max_concepts.extend([mice for mice in max_concept])\n",
    "\n",
    "    return sep(max_concepts)"
   ]
  },
  {
   "cell_type": "markdown",
   "id": "d7624902",
   "metadata": {},
   "source": [
    "# Space"
   ]
  },
  {
   "cell_type": "code",
   "execution_count": 14,
   "id": "e3a87b01",
   "metadata": {},
   "outputs": [],
   "source": [
    "with open(r\"example_data/4_node_grid_subsystem.pkl\", \"rb\") as f:\n",
    "    subsystem = pkl.load(f)"
   ]
  },
  {
   "cell_type": "code",
   "execution_count": 15,
   "id": "a10d2a64",
   "metadata": {},
   "outputs": [
    {
     "name": "stderr",
     "output_type": "stream",
     "text": [
      "                                                                                                                                                                                  \r"
     ]
    }
   ],
   "source": [
    "ces = pyphi.compute.ces(subsystem)"
   ]
  },
  {
   "cell_type": "code",
   "execution_count": 16,
   "id": "a558c696",
   "metadata": {},
   "outputs": [
    {
     "data": {
      "application/vnd.jupyter.widget-view+json": {
       "model_id": "e86963e4b6d047e081d235020af040b0",
       "version_major": 2,
       "version_minor": 0
      },
      "text/plain": [
       "  0%|          | 0/334 [00:00<?, ?it/s]"
      ]
     },
     "metadata": {},
     "output_type": "display_data"
    },
    {
     "name": "stderr",
     "output_type": "stream",
     "text": [
      "/home/mgrasso/pyphi/pyphi/utils.py:86: RuntimeWarning: invalid value encountered in double_scalars\n",
      "  return abs(x - y) <= constants.EPSILON\n"
     ]
    }
   ],
   "source": [
    "relations = list(pyphi.relations.relations(subsystem,sep(ces),max_degree=2))"
   ]
  },
  {
   "cell_type": "code",
   "execution_count": 17,
   "id": "15f67ae4",
   "metadata": {},
   "outputs": [
    {
     "name": "stderr",
     "output_type": "stream",
     "text": [
      "2022-01-30 13:26:25,592\tINFO services.py:1338 -- View the Ray dashboard at \u001b[1m\u001b[32mhttp://127.0.0.1:8266\u001b[39m\u001b[22m\n"
     ]
    },
    {
     "name": "stdout",
     "output_type": "stream",
     "text": [
      "Done putting relations\n",
      "Finding maximal compositional state\n"
     ]
    },
    {
     "data": {
      "application/vnd.jupyter.widget-view+json": {
       "model_id": "a804750fb3894eac9aa5bdbb10167987",
       "version_major": 2,
       "version_minor": 0
      },
      "text/plain": [
       "Submitting tasks: 0it [00:00, ?it/s]"
      ]
     },
     "metadata": {},
     "output_type": "display_data"
    },
    {
     "name": "stdout",
     "output_type": "stream",
     "text": [
      "Done submitting tasks\n"
     ]
    },
    {
     "data": {
      "application/vnd.jupyter.widget-view+json": {
       "model_id": "d337eb173f4a438eb6effa3e3bd01831",
       "version_major": 2,
       "version_minor": 0
      },
      "text/plain": [
       "  0%|          | 0/2 [00:00<?, ?it/s]"
      ]
     },
     "metadata": {},
     "output_type": "display_data"
    },
    {
     "name": "stdout",
     "output_type": "stream",
     "text": [
      "Evaluating maximal compositional state\n"
     ]
    }
   ],
   "source": [
    "sia = pyphi.big_phi.sia(subsystem,ces,relations)"
   ]
  },
  {
   "cell_type": "code",
   "execution_count": 18,
   "id": "bc86cdfb",
   "metadata": {},
   "outputs": [
    {
     "data": {
      "text/plain": [
       "0.014032332339088526"
      ]
     },
     "execution_count": 18,
     "metadata": {},
     "output_type": "execute_result"
    }
   ],
   "source": [
    "sia.phi"
   ]
  },
  {
   "cell_type": "code",
   "execution_count": 19,
   "id": "cbbfb8fc-e8d3-4711-b9fd-84d610d03854",
   "metadata": {},
   "outputs": [
    {
     "data": {
      "application/vnd.jupyter.widget-view+json": {
       "model_id": "7c353481bcad4147ad4e7625d5f307a4",
       "version_major": 2,
       "version_minor": 0
      },
      "text/plain": [
       "  0%|          | 0/15 [00:00<?, ?it/s]"
      ]
     },
     "metadata": {},
     "output_type": "display_data"
    }
   ],
   "source": [
    "mechanisms = list(pyphi.utils.powerset(subsystem.node_indices,nonempty=True))\n",
    "purviews = list(pyphi.utils.powerset(subsystem.node_indices,nonempty=True))\n",
    "bag_of_mices = get_bag_of_mices(subsystem,mechanisms,purviews,candidate='miw')"
   ]
  },
  {
   "cell_type": "code",
   "execution_count": 20,
   "id": "7692aa9e",
   "metadata": {},
   "outputs": [
    {
     "data": {
      "application/vnd.jupyter.widget-view+json": {
       "model_id": "23c2ec5225e0467f83e33d130551068f",
       "version_major": 2,
       "version_minor": 0
      },
      "text/plain": [
       "  0%|          | 0/15 [00:00<?, ?it/s]"
      ]
     },
     "metadata": {},
     "output_type": "display_data"
    }
   ],
   "source": [
    "flat_bag = []\n",
    "for mechanism in tqdm(mechanisms):\n",
    "    for direction in [C,E]:\n",
    "        for purview in mechanisms: \n",
    "            try:\n",
    "                flat_bag.append(bag_of_mices[mechanism][direction][purview])\n",
    "            except:\n",
    "                pass"
   ]
  },
  {
   "cell_type": "code",
   "execution_count": 21,
   "id": "99020aa1",
   "metadata": {},
   "outputs": [],
   "source": [
    "reflexive_ds = [\n",
    "    pyphi.subsystem.Concept(m1.mechanism, m1, m2, subsystem)\n",
    "    for m1,m2 in itertools.combinations(flat_bag,2)\n",
    "    if m1.mechanism==m2.mechanism==m1.purview==m2.purview\n",
    "    and m1.direction == C\n",
    "    and m2.direction == E\n",
    "]"
   ]
  },
  {
   "cell_type": "code",
   "execution_count": 22,
   "id": "183941e7",
   "metadata": {},
   "outputs": [],
   "source": [
    "reflexive_sep = sep(pyphi.models.CauseEffectStructure(reflexive_ds))"
   ]
  },
  {
   "cell_type": "code",
   "execution_count": 23,
   "id": "a6a6681e",
   "metadata": {
    "scrolled": false
   },
   "outputs": [],
   "source": [
    "reflexive_causes = [m.purview for m in reflexive_sep if m.direction==C]\n",
    "reflexive_effects = [m.purview for m in reflexive_sep if m.direction==E]\n",
    "reflexive_mechanisms = [m.mechanism for m in reflexive_sep]\n",
    "\n",
    "remaining_mices = []\n",
    "for m in flat_bag:\n",
    "    if m.direction==C and m.mechanism not in reflexive_mechanisms and m.purview not in reflexive_causes:\n",
    "        remaining_mices.append(m)\n",
    "    if m.direction==E and m.mechanism not in reflexive_mechanisms and m.purview not in reflexive_effects:\n",
    "        remaining_mices.append(m)"
   ]
  },
  {
   "cell_type": "code",
   "execution_count": 24,
   "id": "e6c07a35",
   "metadata": {},
   "outputs": [
    {
     "data": {
      "text/html": [
       "<div>\n",
       "<style scoped>\n",
       "    .dataframe tbody tr th:only-of-type {\n",
       "        vertical-align: middle;\n",
       "    }\n",
       "\n",
       "    .dataframe tbody tr th {\n",
       "        vertical-align: top;\n",
       "    }\n",
       "\n",
       "    .dataframe thead th {\n",
       "        text-align: right;\n",
       "    }\n",
       "</style>\n",
       "<table border=\"1\" class=\"dataframe\">\n",
       "  <thead>\n",
       "    <tr style=\"text-align: right;\">\n",
       "      <th></th>\n",
       "      <th>mechanism</th>\n",
       "      <th>direction</th>\n",
       "      <th>purview</th>\n",
       "      <th>state</th>\n",
       "      <th>phi</th>\n",
       "    </tr>\n",
       "  </thead>\n",
       "  <tbody>\n",
       "    <tr>\n",
       "      <th>0</th>\n",
       "      <td>ABD</td>\n",
       "      <td>CAUSE</td>\n",
       "      <td>ABD</td>\n",
       "      <td>000</td>\n",
       "      <td>0.018262</td>\n",
       "    </tr>\n",
       "    <tr>\n",
       "      <th>1</th>\n",
       "      <td>ABD</td>\n",
       "      <td>EFFECT</td>\n",
       "      <td>AD</td>\n",
       "      <td>00</td>\n",
       "      <td>0.003075</td>\n",
       "    </tr>\n",
       "  </tbody>\n",
       "</table>\n",
       "</div>"
      ],
      "text/plain": [
       "  mechanism direction purview state       phi\n",
       "0       ABD     CAUSE     ABD   000  0.018262\n",
       "1       ABD    EFFECT      AD    00  0.003075"
      ]
     },
     "execution_count": 24,
     "metadata": {},
     "output_type": "execute_result"
    }
   ],
   "source": [
    "remaining_ces = CES_from_bag_of_mices(make_bag(remaining_mices))\n",
    "utils.sepces2df(remaining_ces,subsystem)"
   ]
  },
  {
   "cell_type": "code",
   "execution_count": 25,
   "id": "d54262b6",
   "metadata": {},
   "outputs": [],
   "source": [
    "final_ces = compute.get_linked_ces(list(reflexive_sep)+list(remaining_ces),subsystem)\n",
    "final_ces.subsystem=subsystem"
   ]
  },
  {
   "cell_type": "code",
   "execution_count": 26,
   "id": "a7e54838",
   "metadata": {
    "scrolled": true
   },
   "outputs": [
    {
     "data": {
      "application/vnd.jupyter.widget-view+json": {
       "model_id": "0432ce2d75544732b3e62858b2203a61",
       "version_major": 2,
       "version_minor": 0
      },
      "text/plain": [
       "  0%|          | 0/237 [00:00<?, ?it/s]"
      ]
     },
     "metadata": {},
     "output_type": "display_data"
    },
    {
     "name": "stderr",
     "output_type": "stream",
     "text": [
      "/home/mgrasso/pyphi/pyphi/utils.py:86: RuntimeWarning: invalid value encountered in double_scalars\n",
      "  return abs(x - y) <= constants.EPSILON\n",
      "/home/mgrasso/pyphi/pyphi/utils.py:86: RuntimeWarning: invalid value encountered in double_scalars\n",
      "  return abs(x - y) <= constants.EPSILON\n",
      "/home/mgrasso/pyphi/pyphi/utils.py:86: RuntimeWarning: invalid value encountered in double_scalars\n",
      "  return abs(x - y) <= constants.EPSILON\n",
      "/home/mgrasso/pyphi/pyphi/utils.py:86: RuntimeWarning: invalid value encountered in double_scalars\n",
      "  return abs(x - y) <= constants.EPSILON\n",
      "/home/mgrasso/pyphi/pyphi/utils.py:86: RuntimeWarning: invalid value encountered in double_scalars\n",
      "  return abs(x - y) <= constants.EPSILON\n",
      "/home/mgrasso/pyphi/pyphi/utils.py:86: RuntimeWarning: invalid value encountered in double_scalars\n",
      "  return abs(x - y) <= constants.EPSILON\n",
      "/home/mgrasso/pyphi/pyphi/utils.py:86: RuntimeWarning: invalid value encountered in double_scalars\n",
      "  return abs(x - y) <= constants.EPSILON\n",
      "/home/mgrasso/pyphi/pyphi/utils.py:86: RuntimeWarning: invalid value encountered in double_scalars\n",
      "  return abs(x - y) <= constants.EPSILON\n",
      "/home/mgrasso/pyphi/pyphi/utils.py:86: RuntimeWarning: invalid value encountered in double_scalars\n",
      "  return abs(x - y) <= constants.EPSILON\n",
      "/home/mgrasso/pyphi/pyphi/utils.py:86: RuntimeWarning: invalid value encountered in double_scalars\n",
      "  return abs(x - y) <= constants.EPSILON\n",
      "/home/mgrasso/pyphi/pyphi/utils.py:86: RuntimeWarning: invalid value encountered in double_scalars\n",
      "  return abs(x - y) <= constants.EPSILON\n"
     ]
    }
   ],
   "source": [
    "relations = list(pyphi.relations.relations(subsystem,sep(final_ces),max_degree=2,parallel=True))"
   ]
  },
  {
   "cell_type": "code",
   "execution_count": 27,
   "id": "9bf3a757",
   "metadata": {},
   "outputs": [
    {
     "name": "stdout",
     "output_type": "stream",
     "text": [
      "Done putting relations\n",
      "Finding maximal compositional state\n"
     ]
    },
    {
     "data": {
      "application/vnd.jupyter.widget-view+json": {
       "model_id": "7860a63d67854a3c8d1cc11cf86f5ec0",
       "version_major": 2,
       "version_minor": 0
      },
      "text/plain": [
       "Submitting tasks: 0it [00:00, ?it/s]"
      ]
     },
     "metadata": {},
     "output_type": "display_data"
    },
    {
     "name": "stdout",
     "output_type": "stream",
     "text": [
      "Done submitting tasks\n"
     ]
    },
    {
     "data": {
      "application/vnd.jupyter.widget-view+json": {
       "model_id": "2e96665d7d91468d8459d96a47893599",
       "version_major": 2,
       "version_minor": 0
      },
      "text/plain": [
       "  0%|          | 0/1 [00:00<?, ?it/s]"
      ]
     },
     "metadata": {},
     "output_type": "display_data"
    },
    {
     "name": "stdout",
     "output_type": "stream",
     "text": [
      "Evaluating maximal compositional state\n"
     ]
    }
   ],
   "source": [
    "sia = pyphi.big_phi.sia(subsystem,final_ces,relations)"
   ]
  },
  {
   "cell_type": "code",
   "execution_count": 28,
   "id": "ee2456e0",
   "metadata": {},
   "outputs": [
    {
     "data": {
      "text/plain": [
       "0.04542253372529282"
      ]
     },
     "execution_count": 28,
     "metadata": {},
     "output_type": "execute_result"
    }
   ],
   "source": [
    "sia.phi"
   ]
  },
  {
   "cell_type": "code",
   "execution_count": 29,
   "id": "dc08f971",
   "metadata": {},
   "outputs": [
    {
     "data": {
      "text/html": [
       "<div>\n",
       "<style scoped>\n",
       "    .dataframe tbody tr th:only-of-type {\n",
       "        vertical-align: middle;\n",
       "    }\n",
       "\n",
       "    .dataframe tbody tr th {\n",
       "        vertical-align: top;\n",
       "    }\n",
       "\n",
       "    .dataframe thead th {\n",
       "        text-align: right;\n",
       "    }\n",
       "</style>\n",
       "<table border=\"1\" class=\"dataframe\">\n",
       "  <thead>\n",
       "    <tr style=\"text-align: right;\">\n",
       "      <th></th>\n",
       "      <th>mechanism</th>\n",
       "      <th>direction</th>\n",
       "      <th>purview</th>\n",
       "      <th>state</th>\n",
       "      <th>phi</th>\n",
       "    </tr>\n",
       "  </thead>\n",
       "  <tbody>\n",
       "    <tr>\n",
       "      <th>0</th>\n",
       "      <td>A</td>\n",
       "      <td>CAUSE</td>\n",
       "      <td>A</td>\n",
       "      <td>0</td>\n",
       "      <td>0.520382</td>\n",
       "    </tr>\n",
       "    <tr>\n",
       "      <th>1</th>\n",
       "      <td>A</td>\n",
       "      <td>EFFECT</td>\n",
       "      <td>A</td>\n",
       "      <td>0</td>\n",
       "      <td>0.656129</td>\n",
       "    </tr>\n",
       "    <tr>\n",
       "      <th>2</th>\n",
       "      <td>B</td>\n",
       "      <td>CAUSE</td>\n",
       "      <td>B</td>\n",
       "      <td>0</td>\n",
       "      <td>0.629285</td>\n",
       "    </tr>\n",
       "    <tr>\n",
       "      <th>3</th>\n",
       "      <td>B</td>\n",
       "      <td>EFFECT</td>\n",
       "      <td>B</td>\n",
       "      <td>0</td>\n",
       "      <td>0.713724</td>\n",
       "    </tr>\n",
       "    <tr>\n",
       "      <th>4</th>\n",
       "      <td>C</td>\n",
       "      <td>CAUSE</td>\n",
       "      <td>C</td>\n",
       "      <td>0</td>\n",
       "      <td>0.629285</td>\n",
       "    </tr>\n",
       "    <tr>\n",
       "      <th>5</th>\n",
       "      <td>C</td>\n",
       "      <td>EFFECT</td>\n",
       "      <td>C</td>\n",
       "      <td>0</td>\n",
       "      <td>0.713724</td>\n",
       "    </tr>\n",
       "    <tr>\n",
       "      <th>6</th>\n",
       "      <td>D</td>\n",
       "      <td>CAUSE</td>\n",
       "      <td>D</td>\n",
       "      <td>0</td>\n",
       "      <td>0.520382</td>\n",
       "    </tr>\n",
       "    <tr>\n",
       "      <th>7</th>\n",
       "      <td>D</td>\n",
       "      <td>EFFECT</td>\n",
       "      <td>D</td>\n",
       "      <td>0</td>\n",
       "      <td>0.656129</td>\n",
       "    </tr>\n",
       "    <tr>\n",
       "      <th>8</th>\n",
       "      <td>AB</td>\n",
       "      <td>CAUSE</td>\n",
       "      <td>AB</td>\n",
       "      <td>00</td>\n",
       "      <td>0.071485</td>\n",
       "    </tr>\n",
       "    <tr>\n",
       "      <th>9</th>\n",
       "      <td>AB</td>\n",
       "      <td>EFFECT</td>\n",
       "      <td>AB</td>\n",
       "      <td>00</td>\n",
       "      <td>0.069119</td>\n",
       "    </tr>\n",
       "    <tr>\n",
       "      <th>10</th>\n",
       "      <td>AC</td>\n",
       "      <td>CAUSE</td>\n",
       "      <td>AC</td>\n",
       "      <td>00</td>\n",
       "      <td>0.017755</td>\n",
       "    </tr>\n",
       "    <tr>\n",
       "      <th>11</th>\n",
       "      <td>AC</td>\n",
       "      <td>EFFECT</td>\n",
       "      <td>AC</td>\n",
       "      <td>00</td>\n",
       "      <td>0.019795</td>\n",
       "    </tr>\n",
       "    <tr>\n",
       "      <th>12</th>\n",
       "      <td>BC</td>\n",
       "      <td>CAUSE</td>\n",
       "      <td>BC</td>\n",
       "      <td>00</td>\n",
       "      <td>0.053428</td>\n",
       "    </tr>\n",
       "    <tr>\n",
       "      <th>13</th>\n",
       "      <td>BC</td>\n",
       "      <td>EFFECT</td>\n",
       "      <td>BC</td>\n",
       "      <td>00</td>\n",
       "      <td>0.124742</td>\n",
       "    </tr>\n",
       "    <tr>\n",
       "      <th>14</th>\n",
       "      <td>BD</td>\n",
       "      <td>CAUSE</td>\n",
       "      <td>BD</td>\n",
       "      <td>00</td>\n",
       "      <td>0.017755</td>\n",
       "    </tr>\n",
       "    <tr>\n",
       "      <th>15</th>\n",
       "      <td>BD</td>\n",
       "      <td>EFFECT</td>\n",
       "      <td>BD</td>\n",
       "      <td>00</td>\n",
       "      <td>0.019795</td>\n",
       "    </tr>\n",
       "    <tr>\n",
       "      <th>16</th>\n",
       "      <td>CD</td>\n",
       "      <td>CAUSE</td>\n",
       "      <td>CD</td>\n",
       "      <td>00</td>\n",
       "      <td>0.071485</td>\n",
       "    </tr>\n",
       "    <tr>\n",
       "      <th>17</th>\n",
       "      <td>CD</td>\n",
       "      <td>EFFECT</td>\n",
       "      <td>CD</td>\n",
       "      <td>00</td>\n",
       "      <td>0.069119</td>\n",
       "    </tr>\n",
       "    <tr>\n",
       "      <th>18</th>\n",
       "      <td>ABC</td>\n",
       "      <td>CAUSE</td>\n",
       "      <td>ABC</td>\n",
       "      <td>000</td>\n",
       "      <td>0.077012</td>\n",
       "    </tr>\n",
       "    <tr>\n",
       "      <th>19</th>\n",
       "      <td>ABC</td>\n",
       "      <td>EFFECT</td>\n",
       "      <td>ABC</td>\n",
       "      <td>000</td>\n",
       "      <td>0.016039</td>\n",
       "    </tr>\n",
       "    <tr>\n",
       "      <th>20</th>\n",
       "      <td>ABD</td>\n",
       "      <td>CAUSE</td>\n",
       "      <td>ABD</td>\n",
       "      <td>000</td>\n",
       "      <td>0.018262</td>\n",
       "    </tr>\n",
       "    <tr>\n",
       "      <th>21</th>\n",
       "      <td>ABD</td>\n",
       "      <td>EFFECT</td>\n",
       "      <td>AD</td>\n",
       "      <td>00</td>\n",
       "      <td>0.003075</td>\n",
       "    </tr>\n",
       "    <tr>\n",
       "      <th>22</th>\n",
       "      <td>BCD</td>\n",
       "      <td>CAUSE</td>\n",
       "      <td>BCD</td>\n",
       "      <td>000</td>\n",
       "      <td>0.077012</td>\n",
       "    </tr>\n",
       "    <tr>\n",
       "      <th>23</th>\n",
       "      <td>BCD</td>\n",
       "      <td>EFFECT</td>\n",
       "      <td>BCD</td>\n",
       "      <td>000</td>\n",
       "      <td>0.016039</td>\n",
       "    </tr>\n",
       "    <tr>\n",
       "      <th>24</th>\n",
       "      <td>ABCD</td>\n",
       "      <td>CAUSE</td>\n",
       "      <td>ABCD</td>\n",
       "      <td>0000</td>\n",
       "      <td>0.036879</td>\n",
       "    </tr>\n",
       "    <tr>\n",
       "      <th>25</th>\n",
       "      <td>ABCD</td>\n",
       "      <td>EFFECT</td>\n",
       "      <td>ABCD</td>\n",
       "      <td>0000</td>\n",
       "      <td>0.009917</td>\n",
       "    </tr>\n",
       "  </tbody>\n",
       "</table>\n",
       "</div>"
      ],
      "text/plain": [
       "   mechanism direction purview state       phi\n",
       "0          A     CAUSE       A     0  0.520382\n",
       "1          A    EFFECT       A     0  0.656129\n",
       "2          B     CAUSE       B     0  0.629285\n",
       "3          B    EFFECT       B     0  0.713724\n",
       "4          C     CAUSE       C     0  0.629285\n",
       "5          C    EFFECT       C     0  0.713724\n",
       "6          D     CAUSE       D     0  0.520382\n",
       "7          D    EFFECT       D     0  0.656129\n",
       "8         AB     CAUSE      AB    00  0.071485\n",
       "9         AB    EFFECT      AB    00  0.069119\n",
       "10        AC     CAUSE      AC    00  0.017755\n",
       "11        AC    EFFECT      AC    00  0.019795\n",
       "12        BC     CAUSE      BC    00  0.053428\n",
       "13        BC    EFFECT      BC    00  0.124742\n",
       "14        BD     CAUSE      BD    00  0.017755\n",
       "15        BD    EFFECT      BD    00  0.019795\n",
       "16        CD     CAUSE      CD    00  0.071485\n",
       "17        CD    EFFECT      CD    00  0.069119\n",
       "18       ABC     CAUSE     ABC   000  0.077012\n",
       "19       ABC    EFFECT     ABC   000  0.016039\n",
       "20       ABD     CAUSE     ABD   000  0.018262\n",
       "21       ABD    EFFECT      AD    00  0.003075\n",
       "22       BCD     CAUSE     BCD   000  0.077012\n",
       "23       BCD    EFFECT     BCD   000  0.016039\n",
       "24      ABCD     CAUSE    ABCD  0000  0.036879\n",
       "25      ABCD    EFFECT    ABCD  0000  0.009917"
      ]
     },
     "execution_count": 29,
     "metadata": {},
     "output_type": "execute_result"
    }
   ],
   "source": [
    "utils.sepces2df(sep(sia.phi_structure.distinctions),subsystem)"
   ]
  },
  {
   "cell_type": "markdown",
   "id": "5c78fc5c",
   "metadata": {},
   "source": [
    "# Ch 3"
   ]
  },
  {
   "cell_type": "code",
   "execution_count": 53,
   "id": "5cada230",
   "metadata": {},
   "outputs": [
    {
     "data": {
      "application/vnd.jupyter.widget-view+json": {
       "model_id": "044326d538314bb6ba910cab7597aac5",
       "version_major": 2,
       "version_minor": 0
      },
      "text/plain": [
       "  0%|          | 0/64 [00:00<?, ?it/s]"
      ]
     },
     "metadata": {},
     "output_type": "display_data"
    }
   ],
   "source": [
    "th = 1/4\n",
    "exp = 5\n",
    "mu = 1\n",
    "si = .3\n",
    "ll = 1\n",
    "kk = 15\n",
    "x0 = .7\n",
    "\n",
    "q = .4\n",
    "s = .8\n",
    "l = .25\n",
    "j = 1-q\n",
    "i = j-.05\n",
    "b = 0.01\n",
    "\n",
    "weights = np.array([\n",
    "    [s,l,0,i,0,0],#A\n",
    "    [l,s,l,j,b,0],#B\n",
    "    [0,l,s,i,0,0],#C\n",
    "    [b,b,b,q,0,i],#D\n",
    "    [0,i,0,0,0,0],#I\n",
    "    [0,0,0,0,0,0],#O\n",
    "    #A,B,C,D,I,O\n",
    "  ])\n",
    "\n",
    "node_labels = ['A','B','C','D','I','O']\n",
    "mech_func = [f for f in 'sssgll']\n",
    "network = network_generator.get_net(mech_func, weights, exp=exp, th=th, mu=mu, si=si, l=ll, k=kk, x0=x0, node_labels=node_labels, pickle_network=False)\n",
    "# utils.pklthis(network,'example_data/ch3_network.pkl')"
   ]
  },
  {
   "cell_type": "code",
   "execution_count": 54,
   "id": "d21bb92f",
   "metadata": {},
   "outputs": [],
   "source": [
    "# network = utils.loadpkl('example_data/ch3_network.pkl')\n",
    "subsystem = pyphi.Subsystem(network,state=(0,1,0,1,1,1),nodes=(0,1,2,3))"
   ]
  },
  {
   "cell_type": "code",
   "execution_count": 55,
   "id": "34879c2b",
   "metadata": {},
   "outputs": [
    {
     "name": "stderr",
     "output_type": "stream",
     "text": [
      "                                                                                                                                                                                  \r"
     ]
    }
   ],
   "source": [
    "ces = pyphi.compute.ces(subsystem)\n",
    "# sepces = sep(ces)\n",
    "# utils.sepces2df(sepces,subsystem)"
   ]
  },
  {
   "cell_type": "code",
   "execution_count": 56,
   "id": "b01f8d57",
   "metadata": {},
   "outputs": [],
   "source": [
    "sepces = sep(ces)"
   ]
  },
  {
   "cell_type": "code",
   "execution_count": 57,
   "id": "456f868f",
   "metadata": {
    "scrolled": true
   },
   "outputs": [
    {
     "data": {
      "application/vnd.jupyter.widget-view+json": {
       "model_id": "0e7a612fb0cc44a19822a8f89651e9ea",
       "version_major": 2,
       "version_minor": 0
      },
      "text/plain": [
       "  0%|          | 0/10793 [00:00<?, ?it/s]"
      ]
     },
     "metadata": {},
     "output_type": "display_data"
    }
   ],
   "source": [
    "relations = list(pyphi.relations.relations(subsystem,sepces,max_degree=5))"
   ]
  },
  {
   "cell_type": "code",
   "execution_count": 52,
   "id": "9f5e49a9",
   "metadata": {},
   "outputs": [
    {
     "name": "stdout",
     "output_type": "stream",
     "text": [
      "Done putting relations\n",
      "Finding maximal compositional state\n"
     ]
    },
    {
     "data": {
      "application/vnd.jupyter.widget-view+json": {
       "model_id": "d6625ada658942a895bee6d999c212af",
       "version_major": 2,
       "version_minor": 0
      },
      "text/plain": [
       "Submitting tasks: 0it [00:00, ?it/s]"
      ]
     },
     "metadata": {},
     "output_type": "display_data"
    },
    {
     "name": "stdout",
     "output_type": "stream",
     "text": [
      "Done submitting tasks\n"
     ]
    },
    {
     "data": {
      "application/vnd.jupyter.widget-view+json": {
       "model_id": "8addcf2d28204aba9ff26c77ff61e96e",
       "version_major": 2,
       "version_minor": 0
      },
      "text/plain": [
       "  0%|          | 0/2 [00:00<?, ?it/s]"
      ]
     },
     "metadata": {},
     "output_type": "display_data"
    },
    {
     "ename": "RayTaskError(TypeError)",
     "evalue": "\u001b[36mray::_max_system_intrinsic_information()\u001b[39m (pid=588722, ip=144.92.2.85)\n  File \"/home/mgrasso/pyphi/pyphi/big_phi.py\", line 600, in _max_system_intrinsic_information\n    return max(\nTypeError: '>' not supported between instances of 'PhiStructure' and 'PhiStructure'",
     "output_type": "error",
     "traceback": [
      "\u001b[0;31m---------------------------------------------------------------------------\u001b[0m",
      "\u001b[0;31mRayTaskError(TypeError)\u001b[0m                   Traceback (most recent call last)",
      "Input \u001b[0;32mIn [52]\u001b[0m, in \u001b[0;36m<module>\u001b[0;34m\u001b[0m\n\u001b[0;32m----> 1\u001b[0m sia \u001b[38;5;241m=\u001b[39m \u001b[43mpyphi\u001b[49m\u001b[38;5;241;43m.\u001b[39;49m\u001b[43mbig_phi\u001b[49m\u001b[38;5;241;43m.\u001b[39;49m\u001b[43msia\u001b[49m\u001b[43m(\u001b[49m\u001b[43msubsystem\u001b[49m\u001b[43m,\u001b[49m\u001b[43mces\u001b[49m\u001b[43m,\u001b[49m\u001b[43mrelations\u001b[49m\u001b[43m)\u001b[49m\n",
      "File \u001b[0;32m~/pyphi/pyphi/big_phi.py:664\u001b[0m, in \u001b[0;36msia\u001b[0;34m(subsystem, all_distinctions, all_relations, phi_structures, check_trivial_reducibility, chunksize, cut_chunksize, filter_relations, progress)\u001b[0m\n\u001b[1;32m    658\u001b[0m     phi_structures \u001b[38;5;241m=\u001b[39m (\n\u001b[1;32m    659\u001b[0m         PhiStructure(distinctions, all_relations)\n\u001b[1;32m    660\u001b[0m         \u001b[38;5;28;01mfor\u001b[39;00m distinctions \u001b[38;5;129;01min\u001b[39;00m all_nonconflicting_distinction_sets(all_distinctions)\n\u001b[1;32m    661\u001b[0m     )\n\u001b[1;32m    663\u001b[0m \u001b[38;5;28;01mif\u001b[39;00m config\u001b[38;5;241m.\u001b[39mIIT_VERSION \u001b[38;5;241m==\u001b[39m \u001b[38;5;124m\"\u001b[39m\u001b[38;5;124mmaximal-state-first\u001b[39m\u001b[38;5;124m\"\u001b[39m:\n\u001b[0;32m--> 664\u001b[0m     _, maximal_compositional_state \u001b[38;5;241m=\u001b[39m \u001b[43mfind_maximal_compositional_state\u001b[49m\u001b[43m(\u001b[49m\n\u001b[1;32m    665\u001b[0m \u001b[43m        \u001b[49m\u001b[43mphi_structures\u001b[49m\u001b[43m,\u001b[49m\n\u001b[1;32m    666\u001b[0m \u001b[43m        \u001b[49m\u001b[43mfilter_relations\u001b[49m\u001b[38;5;241;43m=\u001b[39;49m\u001b[43mfilter_relations\u001b[49m\u001b[43m,\u001b[49m\n\u001b[1;32m    667\u001b[0m \u001b[43m        \u001b[49m\u001b[43mchunksize\u001b[49m\u001b[38;5;241;43m=\u001b[39;49m\u001b[43mchunksize\u001b[49m\u001b[43m,\u001b[49m\n\u001b[1;32m    668\u001b[0m \u001b[43m        \u001b[49m\u001b[43mprogress\u001b[49m\u001b[38;5;241;43m=\u001b[39;49m\u001b[43mprogress\u001b[49m\u001b[43m,\u001b[49m\n\u001b[1;32m    669\u001b[0m \u001b[43m    \u001b[49m\u001b[43m)\u001b[49m\n\u001b[1;32m    670\u001b[0m     \u001b[38;5;28mprint\u001b[39m(\u001b[38;5;124m\"\u001b[39m\u001b[38;5;124mEvaluating maximal compositional state\u001b[39m\u001b[38;5;124m\"\u001b[39m)\n\u001b[1;32m    671\u001b[0m     \u001b[38;5;28;01mreturn\u001b[39;00m evaluate_phi_structure(\n\u001b[1;32m    672\u001b[0m         subsystem,\n\u001b[1;32m    673\u001b[0m         maximal_compositional_state,\n\u001b[0;32m   (...)\u001b[0m\n\u001b[1;32m    676\u001b[0m         chunksize\u001b[38;5;241m=\u001b[39mcut_chunksize,\n\u001b[1;32m    677\u001b[0m     )\n",
      "File \u001b[0;32m~/pyphi/pyphi/big_phi.py:626\u001b[0m, in \u001b[0;36mfind_maximal_compositional_state\u001b[0;34m(phi_structures, filter_relations, chunksize, progress)\u001b[0m\n\u001b[1;32m    624\u001b[0m \u001b[38;5;28;01mif\u001b[39;00m progress:\n\u001b[1;32m    625\u001b[0m     results \u001b[38;5;241m=\u001b[39m tqdm(results, total\u001b[38;5;241m=\u001b[39m\u001b[38;5;28mlen\u001b[39m(tasks))\n\u001b[0;32m--> 626\u001b[0m \u001b[38;5;28;01mreturn\u001b[39;00m \u001b[38;5;28;43mmax\u001b[39;49m\u001b[43m(\u001b[49m\u001b[43mresults\u001b[49m\u001b[43m)\u001b[49m\n",
      "File \u001b[0;32m~/miniconda3/envs/pyphi/lib/python3.9/site-packages/tqdm/notebook.py:257\u001b[0m, in \u001b[0;36mtqdm_notebook.__iter__\u001b[0;34m(self)\u001b[0m\n\u001b[1;32m    255\u001b[0m \u001b[38;5;28;01mdef\u001b[39;00m \u001b[38;5;21m__iter__\u001b[39m(\u001b[38;5;28mself\u001b[39m):\n\u001b[1;32m    256\u001b[0m     \u001b[38;5;28;01mtry\u001b[39;00m:\n\u001b[0;32m--> 257\u001b[0m         \u001b[38;5;28;01mfor\u001b[39;00m obj \u001b[38;5;129;01min\u001b[39;00m \u001b[38;5;28msuper\u001b[39m(tqdm_notebook, \u001b[38;5;28mself\u001b[39m)\u001b[38;5;241m.\u001b[39m\u001b[38;5;21m__iter__\u001b[39m():\n\u001b[1;32m    258\u001b[0m             \u001b[38;5;66;03m# return super(tqdm...) will not catch exception\u001b[39;00m\n\u001b[1;32m    259\u001b[0m             \u001b[38;5;28;01myield\u001b[39;00m obj\n\u001b[1;32m    260\u001b[0m     \u001b[38;5;66;03m# NB: except ... [ as ...] breaks IPython async KeyboardInterrupt\u001b[39;00m\n",
      "File \u001b[0;32m~/miniconda3/envs/pyphi/lib/python3.9/site-packages/tqdm/std.py:1180\u001b[0m, in \u001b[0;36mtqdm.__iter__\u001b[0;34m(self)\u001b[0m\n\u001b[1;32m   1177\u001b[0m time \u001b[38;5;241m=\u001b[39m \u001b[38;5;28mself\u001b[39m\u001b[38;5;241m.\u001b[39m_time\n\u001b[1;32m   1179\u001b[0m \u001b[38;5;28;01mtry\u001b[39;00m:\n\u001b[0;32m-> 1180\u001b[0m     \u001b[38;5;28;01mfor\u001b[39;00m obj \u001b[38;5;129;01min\u001b[39;00m iterable:\n\u001b[1;32m   1181\u001b[0m         \u001b[38;5;28;01myield\u001b[39;00m obj\n\u001b[1;32m   1182\u001b[0m         \u001b[38;5;66;03m# Update and possibly print the progressbar.\u001b[39;00m\n\u001b[1;32m   1183\u001b[0m         \u001b[38;5;66;03m# Note: does not call self.update(1) for speed optimisation.\u001b[39;00m\n",
      "File \u001b[0;32m~/pyphi/pyphi/compute/parallel.py:384\u001b[0m, in \u001b[0;36mas_completed\u001b[0;34m(object_refs, num_returns)\u001b[0m\n\u001b[1;32m    382\u001b[0m \u001b[38;5;28;01mwhile\u001b[39;00m unfinished:\n\u001b[1;32m    383\u001b[0m     finished, unfinished \u001b[38;5;241m=\u001b[39m ray\u001b[38;5;241m.\u001b[39mwait(unfinished, num_returns\u001b[38;5;241m=\u001b[39mnum_returns)\n\u001b[0;32m--> 384\u001b[0m     \u001b[38;5;28;01myield from\u001b[39;00m \u001b[43mray\u001b[49m\u001b[38;5;241;43m.\u001b[39;49m\u001b[43mget\u001b[49m\u001b[43m(\u001b[49m\u001b[43mfinished\u001b[49m\u001b[43m)\u001b[49m\n",
      "File \u001b[0;32m~/miniconda3/envs/pyphi/lib/python3.9/site-packages/ray/_private/client_mode_hook.py:105\u001b[0m, in \u001b[0;36mclient_mode_hook.<locals>.wrapper\u001b[0;34m(*args, **kwargs)\u001b[0m\n\u001b[1;32m    103\u001b[0m     \u001b[38;5;28;01mif\u001b[39;00m func\u001b[38;5;241m.\u001b[39m\u001b[38;5;18m__name__\u001b[39m \u001b[38;5;241m!=\u001b[39m \u001b[38;5;124m\"\u001b[39m\u001b[38;5;124minit\u001b[39m\u001b[38;5;124m\"\u001b[39m \u001b[38;5;129;01mor\u001b[39;00m is_client_mode_enabled_by_default:\n\u001b[1;32m    104\u001b[0m         \u001b[38;5;28;01mreturn\u001b[39;00m \u001b[38;5;28mgetattr\u001b[39m(ray, func\u001b[38;5;241m.\u001b[39m\u001b[38;5;18m__name__\u001b[39m)(\u001b[38;5;241m*\u001b[39margs, \u001b[38;5;241m*\u001b[39m\u001b[38;5;241m*\u001b[39mkwargs)\n\u001b[0;32m--> 105\u001b[0m \u001b[38;5;28;01mreturn\u001b[39;00m \u001b[43mfunc\u001b[49m\u001b[43m(\u001b[49m\u001b[38;5;241;43m*\u001b[39;49m\u001b[43margs\u001b[49m\u001b[43m,\u001b[49m\u001b[43m \u001b[49m\u001b[38;5;241;43m*\u001b[39;49m\u001b[38;5;241;43m*\u001b[39;49m\u001b[43mkwargs\u001b[49m\u001b[43m)\u001b[49m\n",
      "File \u001b[0;32m~/miniconda3/envs/pyphi/lib/python3.9/site-packages/ray/worker.py:1713\u001b[0m, in \u001b[0;36mget\u001b[0;34m(object_refs, timeout)\u001b[0m\n\u001b[1;32m   1711\u001b[0m     worker\u001b[38;5;241m.\u001b[39mcore_worker\u001b[38;5;241m.\u001b[39mdump_object_store_memory_usage()\n\u001b[1;32m   1712\u001b[0m \u001b[38;5;28;01mif\u001b[39;00m \u001b[38;5;28misinstance\u001b[39m(value, RayTaskError):\n\u001b[0;32m-> 1713\u001b[0m     \u001b[38;5;28;01mraise\u001b[39;00m value\u001b[38;5;241m.\u001b[39mas_instanceof_cause()\n\u001b[1;32m   1714\u001b[0m \u001b[38;5;28;01melse\u001b[39;00m:\n\u001b[1;32m   1715\u001b[0m     \u001b[38;5;28;01mraise\u001b[39;00m value\n",
      "\u001b[0;31mRayTaskError(TypeError)\u001b[0m: \u001b[36mray::_max_system_intrinsic_information()\u001b[39m (pid=588722, ip=144.92.2.85)\n  File \"/home/mgrasso/pyphi/pyphi/big_phi.py\", line 600, in _max_system_intrinsic_information\n    return max(\nTypeError: '>' not supported between instances of 'PhiStructure' and 'PhiStructure'"
     ]
    },
    {
     "name": "stderr",
     "output_type": "stream",
     "text": [
      "2022-01-30 13:39:58,553\tERROR worker.py:84 -- Unhandled error (suppress with RAY_IGNORE_UNHANDLED_ERRORS=1): \u001b[36mray::_max_system_intrinsic_information()\u001b[39m (pid=588727, ip=144.92.2.85)\n",
      "  File \"/home/mgrasso/pyphi/pyphi/big_phi.py\", line 600, in _max_system_intrinsic_information\n",
      "    return max(\n",
      "TypeError: '>' not supported between instances of 'PhiStructure' and 'PhiStructure'\n"
     ]
    }
   ],
   "source": [
    "sia = pyphi.big_phi.sia(subsystem,ces,relations)"
   ]
  },
  {
   "cell_type": "code",
   "execution_count": null,
   "id": "0120f90a",
   "metadata": {},
   "outputs": [],
   "source": [
    "sia.phi"
   ]
  },
  {
   "cell_type": "code",
   "execution_count": null,
   "id": "82bd3280",
   "metadata": {},
   "outputs": [
    {
     "name": "stderr",
     "output_type": "stream",
     "text": [
      "2022-01-28 14:52:49,136\tERROR worker.py:84 -- Unhandled error (suppress with RAY_IGNORE_UNHANDLED_ERRORS=1): \u001b[36mray::_max_system_intrinsic_information()\u001b[39m (pid=1909983, ip=144.92.2.85)\n",
      "  File \"/home/mgrasso/pyphi/pyphi/big_phi.py\", line 595, in _max_system_intrinsic_information\n",
      "    return max(\n",
      "TypeError: '>' not supported between instances of 'PhiStructure' and 'PhiStructure'\n"
     ]
    }
   ],
   "source": [
    "utils.sepces2df(sep(sia.phi_structure.distinctions),subsystem)"
   ]
  },
  {
   "cell_type": "code",
   "execution_count": 44,
   "id": "028c4bda",
   "metadata": {},
   "outputs": [
    {
     "data": {
      "application/vnd.jupyter.widget-view+json": {
       "model_id": "6e05ca5816b848d188a044aaab6d5cd8",
       "version_major": 2,
       "version_minor": 0
      },
      "text/plain": [
       "  0%|          | 0/15 [00:00<?, ?it/s]"
      ]
     },
     "metadata": {},
     "output_type": "display_data"
    }
   ],
   "source": [
    "mechanisms = list(pyphi.utils.powerset(subsystem.node_indices,nonempty=True))\n",
    "purviews = list(pyphi.utils.powerset(subsystem.node_indices,nonempty=True))\n",
    "bag_of_mices = get_bag_of_mices(subsystem,mechanisms,purviews,candidate='miw')"
   ]
  },
  {
   "cell_type": "code",
   "execution_count": 45,
   "id": "ffd9e5f8",
   "metadata": {},
   "outputs": [
    {
     "data": {
      "application/vnd.jupyter.widget-view+json": {
       "model_id": "7e29a0a69e384158a5bc0a3ffafc41bf",
       "version_major": 2,
       "version_minor": 0
      },
      "text/plain": [
       "  0%|          | 0/15 [00:00<?, ?it/s]"
      ]
     },
     "metadata": {},
     "output_type": "display_data"
    }
   ],
   "source": [
    "flat_bag = []\n",
    "for mechanism in tqdm(mechanisms):\n",
    "    for direction in [C,E]:\n",
    "        for purview in mechanisms: \n",
    "            try:\n",
    "                flat_bag.append(bag_of_mices[mechanism][direction][purview])\n",
    "            except:\n",
    "                pass"
   ]
  },
  {
   "cell_type": "code",
   "execution_count": 46,
   "id": "d006ab1f",
   "metadata": {},
   "outputs": [],
   "source": [
    "reflexive_ds = [\n",
    "    pyphi.subsystem.Concept(m1.mechanism, m1, m2, subsystem)\n",
    "    for m1,m2 in itertools.combinations(flat_bag,2)\n",
    "    if m1.mechanism==m2.mechanism==m1.purview==m2.purview\n",
    "    and m1.direction == C\n",
    "    and m2.direction == E\n",
    "]"
   ]
  },
  {
   "cell_type": "code",
   "execution_count": 47,
   "id": "f76bb09a",
   "metadata": {},
   "outputs": [],
   "source": [
    "reflexive_sep = sep(pyphi.models.CauseEffectStructure(reflexive_ds))"
   ]
  },
  {
   "cell_type": "code",
   "execution_count": 48,
   "id": "7aa22412",
   "metadata": {
    "scrolled": false
   },
   "outputs": [],
   "source": [
    "reflexive_causes = [m.purview for m in reflexive_sep if m.direction==C]\n",
    "reflexive_effects = [m.purview for m in reflexive_sep if m.direction==E]\n",
    "reflexive_mechanisms = [m.mechanism for m in reflexive_sep]\n",
    "\n",
    "remaining_mices = []\n",
    "for m in flat_bag:\n",
    "    if m.direction==C and m.mechanism not in reflexive_mechanisms and m.purview not in reflexive_causes:\n",
    "        remaining_mices.append(m)\n",
    "    if m.direction==E and m.mechanism not in reflexive_mechanisms and m.purview not in reflexive_effects:\n",
    "        remaining_mices.append(m)"
   ]
  },
  {
   "cell_type": "code",
   "execution_count": 49,
   "id": "9ca00edd",
   "metadata": {},
   "outputs": [
    {
     "data": {
      "text/html": [
       "<div>\n",
       "<style scoped>\n",
       "    .dataframe tbody tr th:only-of-type {\n",
       "        vertical-align: middle;\n",
       "    }\n",
       "\n",
       "    .dataframe tbody tr th {\n",
       "        vertical-align: top;\n",
       "    }\n",
       "\n",
       "    .dataframe thead th {\n",
       "        text-align: right;\n",
       "    }\n",
       "</style>\n",
       "<table border=\"1\" class=\"dataframe\">\n",
       "  <thead>\n",
       "    <tr style=\"text-align: right;\">\n",
       "      <th></th>\n",
       "      <th>mechanism</th>\n",
       "      <th>direction</th>\n",
       "      <th>purview</th>\n",
       "      <th>state</th>\n",
       "      <th>phi</th>\n",
       "    </tr>\n",
       "  </thead>\n",
       "  <tbody>\n",
       "    <tr>\n",
       "      <th>0</th>\n",
       "      <td>AD</td>\n",
       "      <td>CAUSE</td>\n",
       "      <td>AB</td>\n",
       "      <td>01</td>\n",
       "      <td>0.146204</td>\n",
       "    </tr>\n",
       "    <tr>\n",
       "      <th>1</th>\n",
       "      <td>AD</td>\n",
       "      <td>EFFECT</td>\n",
       "      <td>AB</td>\n",
       "      <td>00</td>\n",
       "      <td>0.005580</td>\n",
       "    </tr>\n",
       "    <tr>\n",
       "      <th>2</th>\n",
       "      <td>BD</td>\n",
       "      <td>CAUSE</td>\n",
       "      <td>BD</td>\n",
       "      <td>10</td>\n",
       "      <td>0.092453</td>\n",
       "    </tr>\n",
       "    <tr>\n",
       "      <th>3</th>\n",
       "      <td>BD</td>\n",
       "      <td>EFFECT</td>\n",
       "      <td>AC</td>\n",
       "      <td>00</td>\n",
       "      <td>0.003000</td>\n",
       "    </tr>\n",
       "    <tr>\n",
       "      <th>4</th>\n",
       "      <td>CD</td>\n",
       "      <td>CAUSE</td>\n",
       "      <td>BC</td>\n",
       "      <td>10</td>\n",
       "      <td>0.146204</td>\n",
       "    </tr>\n",
       "    <tr>\n",
       "      <th>5</th>\n",
       "      <td>CD</td>\n",
       "      <td>EFFECT</td>\n",
       "      <td>BC</td>\n",
       "      <td>00</td>\n",
       "      <td>0.005580</td>\n",
       "    </tr>\n",
       "    <tr>\n",
       "      <th>6</th>\n",
       "      <td>ABC</td>\n",
       "      <td>CAUSE</td>\n",
       "      <td>AC</td>\n",
       "      <td>00</td>\n",
       "      <td>0.070977</td>\n",
       "    </tr>\n",
       "    <tr>\n",
       "      <th>7</th>\n",
       "      <td>ABC</td>\n",
       "      <td>EFFECT</td>\n",
       "      <td>ABC</td>\n",
       "      <td>010</td>\n",
       "      <td>0.023489</td>\n",
       "    </tr>\n",
       "    <tr>\n",
       "      <th>8</th>\n",
       "      <td>ACD</td>\n",
       "      <td>CAUSE</td>\n",
       "      <td>ABCD</td>\n",
       "      <td>0101</td>\n",
       "      <td>0.209839</td>\n",
       "    </tr>\n",
       "    <tr>\n",
       "      <th>9</th>\n",
       "      <td>ACD</td>\n",
       "      <td>EFFECT</td>\n",
       "      <td>BD</td>\n",
       "      <td>01</td>\n",
       "      <td>0.061841</td>\n",
       "    </tr>\n",
       "  </tbody>\n",
       "</table>\n",
       "</div>"
      ],
      "text/plain": [
       "  mechanism direction purview state       phi\n",
       "0        AD     CAUSE      AB    01  0.146204\n",
       "1        AD    EFFECT      AB    00  0.005580\n",
       "2        BD     CAUSE      BD    10  0.092453\n",
       "3        BD    EFFECT      AC    00  0.003000\n",
       "4        CD     CAUSE      BC    10  0.146204\n",
       "5        CD    EFFECT      BC    00  0.005580\n",
       "6       ABC     CAUSE      AC    00  0.070977\n",
       "7       ABC    EFFECT     ABC   010  0.023489\n",
       "8       ACD     CAUSE    ABCD  0101  0.209839\n",
       "9       ACD    EFFECT      BD    01  0.061841"
      ]
     },
     "execution_count": 49,
     "metadata": {},
     "output_type": "execute_result"
    }
   ],
   "source": [
    "remaining_ces = CES_from_bag_of_mices(make_bag(remaining_mices))\n",
    "utils.sepces2df(remaining_ces,subsystem)"
   ]
  },
  {
   "cell_type": "code",
   "execution_count": 50,
   "id": "8d989efe",
   "metadata": {},
   "outputs": [],
   "source": [
    "final_ces = compute.get_linked_ces(list(reflexive_sep)+list(remaining_ces),subsystem)\n",
    "final_ces.subsystem=subsystem"
   ]
  },
  {
   "cell_type": "code",
   "execution_count": 52,
   "id": "bf3922b7",
   "metadata": {
    "scrolled": true
   },
   "outputs": [
    {
     "data": {
      "application/vnd.jupyter.widget-view+json": {
       "model_id": "b5504f46a1fd436fbda8db357f2a950a",
       "version_major": 2,
       "version_minor": 0
      },
      "text/plain": [
       "  0%|          | 0/91 [00:00<?, ?it/s]"
      ]
     },
     "metadata": {},
     "output_type": "display_data"
    },
    {
     "name": "stderr",
     "output_type": "stream",
     "text": [
      "/home/mgrasso/pyphi/pyphi/utils.py:86: RuntimeWarning: invalid value encountered in double_scalars\n",
      "  return abs(x - y) <= constants.EPSILON\n",
      "/home/mgrasso/pyphi/pyphi/utils.py:86: RuntimeWarning: invalid value encountered in double_scalars\n",
      "  return abs(x - y) <= constants.EPSILON\n",
      "/home/mgrasso/pyphi/pyphi/utils.py:86: RuntimeWarning: invalid value encountered in double_scalars\n",
      "  return abs(x - y) <= constants.EPSILON\n",
      "/home/mgrasso/pyphi/pyphi/utils.py:86: RuntimeWarning: invalid value encountered in double_scalars\n",
      "  return abs(x - y) <= constants.EPSILON\n",
      "/home/mgrasso/pyphi/pyphi/utils.py:86: RuntimeWarning: invalid value encountered in double_scalars\n",
      "  return abs(x - y) <= constants.EPSILON\n",
      "/home/mgrasso/pyphi/pyphi/utils.py:86: RuntimeWarning: invalid value encountered in double_scalars\n",
      "  return abs(x - y) <= constants.EPSILON\n",
      "/home/mgrasso/pyphi/pyphi/utils.py:86: RuntimeWarning: invalid value encountered in double_scalars\n",
      "  return abs(x - y) <= constants.EPSILON\n",
      "/home/mgrasso/pyphi/pyphi/utils.py:86: RuntimeWarning: invalid value encountered in double_scalars\n",
      "  return abs(x - y) <= constants.EPSILON\n",
      "/home/mgrasso/pyphi/pyphi/utils.py:86: RuntimeWarning: invalid value encountered in double_scalars\n",
      "  return abs(x - y) <= constants.EPSILON\n",
      "/home/mgrasso/pyphi/pyphi/utils.py:86: RuntimeWarning: invalid value encountered in double_scalars\n",
      "  return abs(x - y) <= constants.EPSILON\n",
      "/home/mgrasso/pyphi/pyphi/utils.py:86: RuntimeWarning: invalid value encountered in double_scalars\n",
      "  return abs(x - y) <= constants.EPSILON\n",
      "/home/mgrasso/pyphi/pyphi/utils.py:86: RuntimeWarning: invalid value encountered in double_scalars\n",
      "  return abs(x - y) <= constants.EPSILON\n",
      "/home/mgrasso/pyphi/pyphi/utils.py:86: RuntimeWarning: invalid value encountered in double_scalars\n",
      "  return abs(x - y) <= constants.EPSILON\n",
      "/home/mgrasso/pyphi/pyphi/utils.py:86: RuntimeWarning: invalid value encountered in double_scalars\n",
      "  return abs(x - y) <= constants.EPSILON\n",
      "/home/mgrasso/pyphi/pyphi/utils.py:86: RuntimeWarning: invalid value encountered in double_scalars\n",
      "  return abs(x - y) <= constants.EPSILON\n",
      "/home/mgrasso/pyphi/pyphi/utils.py:86: RuntimeWarning: invalid value encountered in double_scalars\n",
      "  return abs(x - y) <= constants.EPSILON\n",
      "/home/mgrasso/pyphi/pyphi/utils.py:86: RuntimeWarning: invalid value encountered in double_scalars\n",
      "  return abs(x - y) <= constants.EPSILON\n",
      "/home/mgrasso/pyphi/pyphi/utils.py:86: RuntimeWarning: invalid value encountered in double_scalars\n",
      "  return abs(x - y) <= constants.EPSILON\n",
      "/home/mgrasso/pyphi/pyphi/utils.py:86: RuntimeWarning: invalid value encountered in double_scalars\n",
      "  return abs(x - y) <= constants.EPSILON\n",
      "/home/mgrasso/pyphi/pyphi/utils.py:86: RuntimeWarning: invalid value encountered in double_scalars\n",
      "  return abs(x - y) <= constants.EPSILON\n",
      "/home/mgrasso/pyphi/pyphi/utils.py:86: RuntimeWarning: invalid value encountered in double_scalars\n",
      "  return abs(x - y) <= constants.EPSILON\n",
      "/home/mgrasso/pyphi/pyphi/utils.py:86: RuntimeWarning: invalid value encountered in double_scalars\n",
      "  return abs(x - y) <= constants.EPSILON\n",
      "/home/mgrasso/pyphi/pyphi/utils.py:86: RuntimeWarning: invalid value encountered in double_scalars\n",
      "  return abs(x - y) <= constants.EPSILON\n",
      "/home/mgrasso/pyphi/pyphi/utils.py:86: RuntimeWarning: invalid value encountered in double_scalars\n",
      "  return abs(x - y) <= constants.EPSILON\n",
      "/home/mgrasso/pyphi/pyphi/utils.py:86: RuntimeWarning: invalid value encountered in double_scalars\n",
      "  return abs(x - y) <= constants.EPSILON\n",
      "/home/mgrasso/pyphi/pyphi/utils.py:86: RuntimeWarning: invalid value encountered in double_scalars\n",
      "  return abs(x - y) <= constants.EPSILON\n",
      "/home/mgrasso/pyphi/pyphi/utils.py:86: RuntimeWarning: invalid value encountered in double_scalars\n",
      "  return abs(x - y) <= constants.EPSILON\n",
      "/home/mgrasso/pyphi/pyphi/utils.py:86: RuntimeWarning: invalid value encountered in double_scalars\n",
      "  return abs(x - y) <= constants.EPSILON\n"
     ]
    }
   ],
   "source": [
    "relations = list(pyphi.relations.relations(subsystem,sep(final_ces),max_degree=2,parallel=True))"
   ]
  },
  {
   "cell_type": "code",
   "execution_count": 53,
   "id": "f814c42b",
   "metadata": {},
   "outputs": [
    {
     "name": "stdout",
     "output_type": "stream",
     "text": [
      "Done putting relations\n",
      "Finding maximal compositional state\n"
     ]
    },
    {
     "data": {
      "application/vnd.jupyter.widget-view+json": {
       "model_id": "6356db386538430e8d4441d271953755",
       "version_major": 2,
       "version_minor": 0
      },
      "text/plain": [
       "Submitting tasks: 0it [00:00, ?it/s]"
      ]
     },
     "metadata": {},
     "output_type": "display_data"
    },
    {
     "name": "stdout",
     "output_type": "stream",
     "text": [
      "Done submitting tasks\n"
     ]
    },
    {
     "data": {
      "application/vnd.jupyter.widget-view+json": {
       "model_id": "c9d59b17bd484f8da9cd82bf00846b92",
       "version_major": 2,
       "version_minor": 0
      },
      "text/plain": [
       "  0%|          | 0/1 [00:00<?, ?it/s]"
      ]
     },
     "metadata": {},
     "output_type": "display_data"
    },
    {
     "name": "stdout",
     "output_type": "stream",
     "text": [
      "Evaluating maximal compositional state\n"
     ]
    }
   ],
   "source": [
    "sia = pyphi.big_phi.sia(subsystem,final_ces,relations)"
   ]
  },
  {
   "cell_type": "code",
   "execution_count": 54,
   "id": "efd1788b",
   "metadata": {},
   "outputs": [
    {
     "data": {
      "text/plain": [
       "0.00011935240266181778"
      ]
     },
     "execution_count": 54,
     "metadata": {},
     "output_type": "execute_result"
    }
   ],
   "source": [
    "sia.phi"
   ]
  },
  {
   "cell_type": "code",
   "execution_count": 55,
   "id": "2823d20d",
   "metadata": {},
   "outputs": [
    {
     "data": {
      "text/html": [
       "<div>\n",
       "<style scoped>\n",
       "    .dataframe tbody tr th:only-of-type {\n",
       "        vertical-align: middle;\n",
       "    }\n",
       "\n",
       "    .dataframe tbody tr th {\n",
       "        vertical-align: top;\n",
       "    }\n",
       "\n",
       "    .dataframe thead th {\n",
       "        text-align: right;\n",
       "    }\n",
       "</style>\n",
       "<table border=\"1\" class=\"dataframe\">\n",
       "  <thead>\n",
       "    <tr style=\"text-align: right;\">\n",
       "      <th></th>\n",
       "      <th>mechanism</th>\n",
       "      <th>direction</th>\n",
       "      <th>purview</th>\n",
       "      <th>state</th>\n",
       "      <th>phi</th>\n",
       "    </tr>\n",
       "  </thead>\n",
       "  <tbody>\n",
       "    <tr>\n",
       "      <th>0</th>\n",
       "      <td>A</td>\n",
       "      <td>CAUSE</td>\n",
       "      <td>A</td>\n",
       "      <td>0</td>\n",
       "      <td>0.486034</td>\n",
       "    </tr>\n",
       "    <tr>\n",
       "      <th>1</th>\n",
       "      <td>A</td>\n",
       "      <td>EFFECT</td>\n",
       "      <td>A</td>\n",
       "      <td>0</td>\n",
       "      <td>0.627340</td>\n",
       "    </tr>\n",
       "    <tr>\n",
       "      <th>2</th>\n",
       "      <td>B</td>\n",
       "      <td>CAUSE</td>\n",
       "      <td>B</td>\n",
       "      <td>1</td>\n",
       "      <td>0.232803</td>\n",
       "    </tr>\n",
       "    <tr>\n",
       "      <th>3</th>\n",
       "      <td>B</td>\n",
       "      <td>EFFECT</td>\n",
       "      <td>B</td>\n",
       "      <td>1</td>\n",
       "      <td>0.352352</td>\n",
       "    </tr>\n",
       "    <tr>\n",
       "      <th>4</th>\n",
       "      <td>C</td>\n",
       "      <td>CAUSE</td>\n",
       "      <td>C</td>\n",
       "      <td>0</td>\n",
       "      <td>0.486034</td>\n",
       "    </tr>\n",
       "    <tr>\n",
       "      <th>5</th>\n",
       "      <td>C</td>\n",
       "      <td>EFFECT</td>\n",
       "      <td>C</td>\n",
       "      <td>0</td>\n",
       "      <td>0.627340</td>\n",
       "    </tr>\n",
       "    <tr>\n",
       "      <th>6</th>\n",
       "      <td>D</td>\n",
       "      <td>CAUSE</td>\n",
       "      <td>D</td>\n",
       "      <td>0</td>\n",
       "      <td>0.010567</td>\n",
       "    </tr>\n",
       "    <tr>\n",
       "      <th>7</th>\n",
       "      <td>D</td>\n",
       "      <td>EFFECT</td>\n",
       "      <td>D</td>\n",
       "      <td>0</td>\n",
       "      <td>0.009994</td>\n",
       "    </tr>\n",
       "    <tr>\n",
       "      <th>8</th>\n",
       "      <td>AD</td>\n",
       "      <td>CAUSE</td>\n",
       "      <td>AB</td>\n",
       "      <td>01</td>\n",
       "      <td>0.146204</td>\n",
       "    </tr>\n",
       "    <tr>\n",
       "      <th>9</th>\n",
       "      <td>AD</td>\n",
       "      <td>EFFECT</td>\n",
       "      <td>AB</td>\n",
       "      <td>00</td>\n",
       "      <td>0.005580</td>\n",
       "    </tr>\n",
       "    <tr>\n",
       "      <th>10</th>\n",
       "      <td>BD</td>\n",
       "      <td>CAUSE</td>\n",
       "      <td>BD</td>\n",
       "      <td>10</td>\n",
       "      <td>0.092453</td>\n",
       "    </tr>\n",
       "    <tr>\n",
       "      <th>11</th>\n",
       "      <td>BD</td>\n",
       "      <td>EFFECT</td>\n",
       "      <td>AC</td>\n",
       "      <td>00</td>\n",
       "      <td>0.003000</td>\n",
       "    </tr>\n",
       "    <tr>\n",
       "      <th>12</th>\n",
       "      <td>CD</td>\n",
       "      <td>CAUSE</td>\n",
       "      <td>BC</td>\n",
       "      <td>10</td>\n",
       "      <td>0.146204</td>\n",
       "    </tr>\n",
       "    <tr>\n",
       "      <th>13</th>\n",
       "      <td>CD</td>\n",
       "      <td>EFFECT</td>\n",
       "      <td>BC</td>\n",
       "      <td>00</td>\n",
       "      <td>0.005580</td>\n",
       "    </tr>\n",
       "    <tr>\n",
       "      <th>14</th>\n",
       "      <td>ABC</td>\n",
       "      <td>CAUSE</td>\n",
       "      <td>AC</td>\n",
       "      <td>00</td>\n",
       "      <td>0.070977</td>\n",
       "    </tr>\n",
       "    <tr>\n",
       "      <th>15</th>\n",
       "      <td>ABC</td>\n",
       "      <td>EFFECT</td>\n",
       "      <td>ABC</td>\n",
       "      <td>010</td>\n",
       "      <td>0.023489</td>\n",
       "    </tr>\n",
       "    <tr>\n",
       "      <th>16</th>\n",
       "      <td>ACD</td>\n",
       "      <td>CAUSE</td>\n",
       "      <td>ABCD</td>\n",
       "      <td>0101</td>\n",
       "      <td>0.209839</td>\n",
       "    </tr>\n",
       "    <tr>\n",
       "      <th>17</th>\n",
       "      <td>ACD</td>\n",
       "      <td>EFFECT</td>\n",
       "      <td>BD</td>\n",
       "      <td>01</td>\n",
       "      <td>0.061841</td>\n",
       "    </tr>\n",
       "  </tbody>\n",
       "</table>\n",
       "</div>"
      ],
      "text/plain": [
       "   mechanism direction purview state       phi\n",
       "0          A     CAUSE       A     0  0.486034\n",
       "1          A    EFFECT       A     0  0.627340\n",
       "2          B     CAUSE       B     1  0.232803\n",
       "3          B    EFFECT       B     1  0.352352\n",
       "4          C     CAUSE       C     0  0.486034\n",
       "5          C    EFFECT       C     0  0.627340\n",
       "6          D     CAUSE       D     0  0.010567\n",
       "7          D    EFFECT       D     0  0.009994\n",
       "8         AD     CAUSE      AB    01  0.146204\n",
       "9         AD    EFFECT      AB    00  0.005580\n",
       "10        BD     CAUSE      BD    10  0.092453\n",
       "11        BD    EFFECT      AC    00  0.003000\n",
       "12        CD     CAUSE      BC    10  0.146204\n",
       "13        CD    EFFECT      BC    00  0.005580\n",
       "14       ABC     CAUSE      AC    00  0.070977\n",
       "15       ABC    EFFECT     ABC   010  0.023489\n",
       "16       ACD     CAUSE    ABCD  0101  0.209839\n",
       "17       ACD    EFFECT      BD    01  0.061841"
      ]
     },
     "execution_count": 55,
     "metadata": {},
     "output_type": "execute_result"
    }
   ],
   "source": [
    "utils.sepces2df(sep(sia.phi_structure.distinctions),subsystem)"
   ]
  },
  {
   "cell_type": "code",
   "execution_count": null,
   "id": "7a1f4f35",
   "metadata": {},
   "outputs": [],
   "source": []
  }
 ],
 "metadata": {
  "kernelspec": {
   "display_name": "Python 3",
   "language": "python",
   "name": "python3"
  },
  "language_info": {
   "codemirror_mode": {
    "name": "ipython",
    "version": 3
   },
   "file_extension": ".py",
   "mimetype": "text/x-python",
   "name": "python",
   "nbconvert_exporter": "python",
   "pygments_lexer": "ipython3",
   "version": "3.9.7"
  }
 },
 "nbformat": 4,
 "nbformat_minor": 5
}
